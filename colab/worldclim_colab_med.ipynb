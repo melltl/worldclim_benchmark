{
  "nbformat": 4,
  "nbformat_minor": 0,
  "metadata": {
    "colab": {
      "provenance": [],
      "authorship_tag": "ABX9TyPLmxAqlk5li1yh3pbIFE86"
    },
    "kernelspec": {
      "name": "python3",
      "display_name": "Python 3"
    },
    "language_info": {
      "name": "python"
    }
  },
  "cells": [
    {
      "cell_type": "markdown",
      "source": [
        "#Preparando o ambiente\n"
      ],
      "metadata": {
        "id": "CnwZDa7zE_4j"
      }
    },
    {
      "cell_type": "code",
      "execution_count": 1,
      "metadata": {
        "colab": {
          "base_uri": "https://localhost:8080/"
        },
        "id": "rjEDdSktZUqR",
        "outputId": "ba8a1a69-5d8e-4235-d3be-f4874adc664b"
      },
      "outputs": [
        {
          "output_type": "stream",
          "name": "stdout",
          "text": [
            "Collecting pyspark\n",
            "  Downloading pyspark-3.5.1.tar.gz (317.0 MB)\n",
            "\u001b[2K     \u001b[90m━━━━━━━━━━━━━━━━━━━━━━━━━━━━━━━━━━━━━━━━\u001b[0m \u001b[32m317.0/317.0 MB\u001b[0m \u001b[31m2.8 MB/s\u001b[0m eta \u001b[36m0:00:00\u001b[0m\n",
            "\u001b[?25h  Preparing metadata (setup.py) ... \u001b[?25l\u001b[?25hdone\n",
            "Collecting raster2xyz\n",
            "  Downloading raster2xyz-0.1.3.tar.gz (4.1 kB)\n",
            "  Preparing metadata (setup.py) ... \u001b[?25l\u001b[?25hdone\n",
            "Requirement already satisfied: py4j==0.10.9.7 in /usr/local/lib/python3.10/dist-packages (from pyspark) (0.10.9.7)\n",
            "Requirement already satisfied: numpy in /usr/local/lib/python3.10/dist-packages (from raster2xyz) (1.25.2)\n",
            "Requirement already satisfied: pandas in /usr/local/lib/python3.10/dist-packages (from raster2xyz) (2.0.3)\n",
            "Requirement already satisfied: GDAL in /usr/local/lib/python3.10/dist-packages (from raster2xyz) (3.6.4)\n",
            "Requirement already satisfied: python-dateutil>=2.8.2 in /usr/local/lib/python3.10/dist-packages (from pandas->raster2xyz) (2.8.2)\n",
            "Requirement already satisfied: pytz>=2020.1 in /usr/local/lib/python3.10/dist-packages (from pandas->raster2xyz) (2023.4)\n",
            "Requirement already satisfied: tzdata>=2022.1 in /usr/local/lib/python3.10/dist-packages (from pandas->raster2xyz) (2024.1)\n",
            "Requirement already satisfied: six>=1.5 in /usr/local/lib/python3.10/dist-packages (from python-dateutil>=2.8.2->pandas->raster2xyz) (1.16.0)\n",
            "Building wheels for collected packages: pyspark, raster2xyz\n",
            "  Building wheel for pyspark (setup.py) ... \u001b[?25l\u001b[?25hdone\n",
            "  Created wheel for pyspark: filename=pyspark-3.5.1-py2.py3-none-any.whl size=317488491 sha256=5dc64ac624c7d7d5b7e05358ea6293049516c886d69e50519709fbd894c163a2\n",
            "  Stored in directory: /root/.cache/pip/wheels/80/1d/60/2c256ed38dddce2fdd93be545214a63e02fbd8d74fb0b7f3a6\n",
            "  Building wheel for raster2xyz (setup.py) ... \u001b[?25l\u001b[?25hdone\n",
            "  Created wheel for raster2xyz: filename=raster2xyz-0.1.3-py3-none-any.whl size=5946 sha256=339f9585644727ffd2420a26162d01a0870a7f8896f33a3dfdf978672cccc4cd\n",
            "  Stored in directory: /root/.cache/pip/wheels/ef/5e/51/6df10cfc8d97148b3f46dd034ff2d748748d3b70ec53fbee69\n",
            "Successfully built pyspark raster2xyz\n",
            "Installing collected packages: pyspark, raster2xyz\n",
            "Successfully installed pyspark-3.5.1 raster2xyz-0.1.3\n"
          ]
        }
      ],
      "source": [
        "!pip install pyspark raster2xyz"
      ]
    },
    {
      "cell_type": "code",
      "execution_count": 2,
      "metadata": {
        "id": "fCznE1DoUSD4"
      },
      "outputs": [],
      "source": [
        "from pyspark.sql import SparkSession\n",
        "import os"
      ]
    },
    {
      "cell_type": "code",
      "execution_count": 3,
      "metadata": {
        "id": "gz0q0Xi2UquP"
      },
      "outputs": [],
      "source": [
        "spark=SparkSession.builder \\\n",
        "    .master('local[*]') \\\n",
        "    .getOrCreate()"
      ]
    },
    {
      "cell_type": "code",
      "execution_count": 4,
      "metadata": {
        "id": "92xTBB0DcSUX"
      },
      "outputs": [],
      "source": [
        "def benchmark(arquivo):\n",
        "    df = spark.read.format(\"csv\").option(\"header\", True).load(arquivo)\n",
        "    df.write.format(\"noop\").mode(\"overwrite\").save()"
      ]
    },
    {
      "cell_type": "code",
      "execution_count": 5,
      "metadata": {
        "id": "6k1E_4a-dAtJ"
      },
      "outputs": [],
      "source": [
        "def file_size(arquivo):\n",
        "  arquivo_tamanho= os.path.getsize(arquivo)\n",
        "  print(f\"\"\"tamanho do arquivo:\n",
        "            {arquivo_tamanho} em bytes\n",
        "            {int(arquivo_tamanho) / 1024 / 1024} em MB\n",
        "            {int(arquivo_tamanho) / 1024 / 1024 / 1024} em GB\"\"\")"
      ]
    },
    {
      "cell_type": "code",
      "execution_count": 6,
      "metadata": {
        "id": "pwevZYGWiqvo"
      },
      "outputs": [],
      "source": [
        "def partitions(arquivo):\n",
        "  df = spark.read.format(\"csv\").option(\"header\", True).load(arquivo)\n",
        "  print(f\"Número de partições -> {df.rdd.getNumPartitions()}\")"
      ]
    },
    {
      "cell_type": "markdown",
      "source": [
        "#Temperatura mínima"
      ],
      "metadata": {
        "id": "eUf14h5Bu4_a"
      }
    },
    {
      "cell_type": "markdown",
      "metadata": {
        "id": "AXYlb6yhcZln"
      },
      "source": [
        "##10 min"
      ]
    },
    {
      "cell_type": "code",
      "execution_count": 7,
      "metadata": {
        "id": "iCkRXTgQUnom"
      },
      "outputs": [],
      "source": [
        "%%capture\n",
        "!wget https://biogeo.ucdavis.edu/data/worldclim/v2.1/base/wc2.1_10m_tavg.zip\n",
        "!unzip -o wc2.1_10m_tavg.zip"
      ]
    },
    {
      "cell_type": "code",
      "execution_count": 8,
      "metadata": {
        "colab": {
          "base_uri": "https://localhost:8080/"
        },
        "id": "WdBfcY1vV0eP",
        "outputId": "263df9da-4961-4c13-e1f5-3fc7bcb6b1fe"
      },
      "outputs": [
        {
          "output_type": "stream",
          "name": "stdout",
          "text": [
            "[2024-05-04 06:27:44 - INFO] - Getting geotransform and data...\n",
            "[2024-05-04 06:27:44 - INFO] - Getting XYZ data...\n",
            "[2024-05-04 06:27:44 - INFO] - Getting geotransformed coordinates...\n",
            "[2024-05-04 06:27:45 - INFO] - Building XYZ data...\n",
            "[2024-05-04 06:27:55 - INFO] - New XYZ (csv file) created...\n"
          ]
        }
      ],
      "source": [
        "!raster2xyz wc2.1_10m_tavg_01.tif wc2.1_10m_tavg_01.csv"
      ]
    },
    {
      "cell_type": "code",
      "execution_count": 9,
      "metadata": {
        "id": "nF1k9r91YemW"
      },
      "outputs": [],
      "source": [
        "arquivo='wc2.1_10m_tavg_01.csv'"
      ]
    },
    {
      "cell_type": "code",
      "execution_count": 10,
      "metadata": {
        "colab": {
          "base_uri": "https://localhost:8080/"
        },
        "id": "Zrr6_VbJdigj",
        "outputId": "3555845b-d972-4068-d480-2989f7c61325"
      },
      "outputs": [
        {
          "output_type": "stream",
          "name": "stdout",
          "text": [
            "tamanho do arquivo:\n",
            "            90325443 em bytes\n",
            "            86.1410551071167 em MB\n",
            "            0.08412212412804365 em GB\n"
          ]
        }
      ],
      "source": [
        "file_size(arquivo)"
      ]
    },
    {
      "cell_type": "code",
      "execution_count": 11,
      "metadata": {
        "colab": {
          "base_uri": "https://localhost:8080/"
        },
        "id": "4xQDKyFqjR4D",
        "outputId": "38525536-d676-43e0-d67d-b7bc96a085e3"
      },
      "outputs": [
        {
          "output_type": "stream",
          "name": "stdout",
          "text": [
            "Número de partições -> 2\n"
          ]
        }
      ],
      "source": [
        "partitions(arquivo)"
      ]
    },
    {
      "cell_type": "code",
      "execution_count": 12,
      "metadata": {
        "colab": {
          "base_uri": "https://localhost:8080/"
        },
        "id": "wHFEwO4LYaIR",
        "outputId": "648c73d2-de3e-4957-89dd-ad55b4177d0a"
      },
      "outputs": [
        {
          "output_type": "stream",
          "name": "stdout",
          "text": [
            "CPU times: user 60.2 ms, sys: 5.78 ms, total: 66 ms\n",
            "Wall time: 7.84 s\n",
            "CPU times: user 36.7 ms, sys: 5.5 ms, total: 42.2 ms\n",
            "Wall time: 4.96 s\n",
            "CPU times: user 36.3 ms, sys: 3.54 ms, total: 39.9 ms\n",
            "Wall time: 4.58 s\n",
            "CPU times: user 46.4 ms, sys: 6.02 ms, total: 52.5 ms\n",
            "Wall time: 6.14 s\n",
            "CPU times: user 28.1 ms, sys: 7.55 ms, total: 35.7 ms\n",
            "Wall time: 3.95 s\n",
            "CPU times: user 35.6 ms, sys: 5.3 ms, total: 40.9 ms\n",
            "Wall time: 3.98 s\n",
            "CPU times: user 45.7 ms, sys: 6.65 ms, total: 52.3 ms\n",
            "Wall time: 6.04 s\n",
            "CPU times: user 30.2 ms, sys: 1.57 ms, total: 31.8 ms\n",
            "Wall time: 3.84 s\n",
            "CPU times: user 31.2 ms, sys: 4.1 ms, total: 35.3 ms\n",
            "Wall time: 3.79 s\n",
            "CPU times: user 41.4 ms, sys: 6.67 ms, total: 48.1 ms\n",
            "Wall time: 5.87 s\n",
            "CPU times: user 32.1 ms, sys: 4.75 ms, total: 36.8 ms\n",
            "Wall time: 4 s\n",
            "CPU times: user 36.9 ms, sys: 5.91 ms, total: 42.8 ms\n",
            "Wall time: 5.1 s\n",
            "CPU times: user 51.8 ms, sys: 5.74 ms, total: 57.5 ms\n",
            "Wall time: 6.82 s\n",
            "CPU times: user 33.3 ms, sys: 2.73 ms, total: 36.1 ms\n",
            "Wall time: 4.06 s\n",
            "CPU times: user 29.2 ms, sys: 3.38 ms, total: 32.6 ms\n",
            "Wall time: 3.74 s\n",
            "CPU times: user 48.2 ms, sys: 3.63 ms, total: 51.8 ms\n",
            "Wall time: 5.82 s\n",
            "CPU times: user 31.7 ms, sys: 2.71 ms, total: 34.4 ms\n",
            "Wall time: 3.65 s\n",
            "CPU times: user 32.9 ms, sys: 3.02 ms, total: 35.9 ms\n",
            "Wall time: 3.79 s\n",
            "CPU times: user 37.5 ms, sys: 5.74 ms, total: 43.2 ms\n",
            "Wall time: 4.98 s\n",
            "CPU times: user 33.9 ms, sys: 3.16 ms, total: 37 ms\n",
            "Wall time: 4.13 s\n",
            "CPU times: user 30.4 ms, sys: 4.79 ms, total: 35.2 ms\n",
            "Wall time: 3.79 s\n",
            "CPU times: user 31.8 ms, sys: 3.99 ms, total: 35.8 ms\n",
            "Wall time: 4.06 s\n",
            "CPU times: user 42 ms, sys: 3.03 ms, total: 45 ms\n",
            "Wall time: 5.4 s\n",
            "CPU times: user 35.6 ms, sys: 4.28 ms, total: 39.9 ms\n",
            "Wall time: 4.06 s\n",
            "CPU times: user 30.4 ms, sys: 1.68 ms, total: 32.1 ms\n",
            "Wall time: 3.75 s\n",
            "CPU times: user 44.3 ms, sys: 4.81 ms, total: 49.1 ms\n",
            "Wall time: 5.73 s\n",
            "CPU times: user 27.2 ms, sys: 3.5 ms, total: 30.7 ms\n",
            "Wall time: 3.6 s\n",
            "CPU times: user 31.1 ms, sys: 7.88 ms, total: 39 ms\n",
            "Wall time: 3.7 s\n",
            "CPU times: user 39.7 ms, sys: 3.2 ms, total: 42.9 ms\n",
            "Wall time: 5.14 s\n",
            "CPU times: user 33.6 ms, sys: 3.55 ms, total: 37.2 ms\n",
            "Wall time: 4.09 s\n",
            "CPU times: user 33.6 ms, sys: 1.88 ms, total: 35.5 ms\n",
            "Wall time: 3.7 s\n",
            "CPU times: user 33 ms, sys: 1.86 ms, total: 34.8 ms\n",
            "Wall time: 4.02 s\n"
          ]
        }
      ],
      "source": [
        "for i in range(1,33):\n",
        "  %time benchmark(arquivo)\n"
      ]
    },
    {
      "cell_type": "markdown",
      "metadata": {
        "id": "xkTO67DiuX1y"
      },
      "source": [
        "##5 minutos"
      ]
    },
    {
      "cell_type": "code",
      "execution_count": 14,
      "metadata": {
        "colab": {
          "base_uri": "https://localhost:8080/"
        },
        "id": "MHVuUdRGj-Mk",
        "outputId": "0623f8a0-e2e2-4c30-dafd-ce87950ece06"
      },
      "outputs": [
        {
          "output_type": "stream",
          "name": "stdout",
          "text": [
            "--2024-05-04 18:30:37--  https://biogeo.ucdavis.edu/data/worldclim/v2.1/base/wc2.1_5m_tavg.zip\n",
            "Resolving biogeo.ucdavis.edu (biogeo.ucdavis.edu)... 128.120.228.172\n",
            "Connecting to biogeo.ucdavis.edu (biogeo.ucdavis.edu)|128.120.228.172|:443... connected.\n",
            "HTTP request sent, awaiting response... 302 Found\n",
            "Location: https://data.biogeo.ucdavis.edu/data/worldclim/v2.1/base/wc2.1_5m_tavg.zip [following]\n",
            "--2024-05-04 18:30:38--  https://data.biogeo.ucdavis.edu/data/worldclim/v2.1/base/wc2.1_5m_tavg.zip\n",
            "Resolving data.biogeo.ucdavis.edu (data.biogeo.ucdavis.edu)... 128.120.228.172\n",
            "Connecting to data.biogeo.ucdavis.edu (data.biogeo.ucdavis.edu)|128.120.228.172|:443... connected.\n",
            "HTTP request sent, awaiting response... 200 OK\n",
            "Length: 126719768 (121M) [application/zip]\n",
            "Saving to: ‘wc2.1_5m_tavg.zip’\n",
            "\n",
            "wc2.1_5m_tavg.zip   100%[===================>] 120.85M  18.0MB/s    in 7.7s    \n",
            "\n",
            "2024-05-04 18:30:47 (15.8 MB/s) - ‘wc2.1_5m_tavg.zip’ saved [126719768/126719768]\n",
            "\n",
            "Archive:  wc2.1_5m_tavg.zip\n",
            "  inflating: wc2.1_5m_tavg_01.tif    \n",
            "  inflating: wc2.1_5m_tavg_02.tif    \n",
            "  inflating: wc2.1_5m_tavg_03.tif    \n",
            "  inflating: wc2.1_5m_tavg_04.tif    \n",
            "  inflating: wc2.1_5m_tavg_05.tif    \n",
            "  inflating: wc2.1_5m_tavg_06.tif    \n",
            "  inflating: wc2.1_5m_tavg_07.tif    \n",
            "  inflating: wc2.1_5m_tavg_08.tif    \n",
            "  inflating: wc2.1_5m_tavg_09.tif    \n",
            "  inflating: wc2.1_5m_tavg_10.tif    \n",
            "  inflating: wc2.1_5m_tavg_11.tif    \n",
            "  inflating: wc2.1_5m_tavg_12.tif    \n"
          ]
        }
      ],
      "source": [
        "!wget https://biogeo.ucdavis.edu/data/worldclim/v2.1/base/wc2.1_5m_tavg.zip\n",
        "!unzip -o wc2.1_5m_tavg.zip"
      ]
    },
    {
      "cell_type": "code",
      "execution_count": 15,
      "metadata": {
        "colab": {
          "base_uri": "https://localhost:8080/"
        },
        "id": "SyDIdYipkH3e",
        "outputId": "0db17947-e86f-4744-d18f-986447c3760c"
      },
      "outputs": [
        {
          "output_type": "stream",
          "name": "stdout",
          "text": [
            "[2024-05-04 06:30:49 - INFO] - Getting geotransform and data...\n",
            "[2024-05-04 06:30:50 - INFO] - Getting XYZ data...\n",
            "[2024-05-04 06:30:50 - INFO] - Getting geotransformed coordinates...\n",
            "[2024-05-04 06:30:51 - INFO] - Building XYZ data...\n",
            "[2024-05-04 06:31:31 - INFO] - New XYZ (csv file) created...\n"
          ]
        }
      ],
      "source": [
        "!raster2xyz wc2.1_5m_tavg_01.tif wc2.1_5m_tavg_01.csv"
      ]
    },
    {
      "cell_type": "code",
      "execution_count": 16,
      "metadata": {
        "id": "EsVazh3Ov8cT"
      },
      "outputs": [],
      "source": [
        "arquivo='wc2.1_5m_tavg_01.csv'"
      ]
    },
    {
      "cell_type": "code",
      "execution_count": 17,
      "metadata": {
        "id": "7WfqEECQwDZw",
        "colab": {
          "base_uri": "https://localhost:8080/"
        },
        "outputId": "c5ce03fc-c89c-4d43-c6cf-55ebd6ac9001"
      },
      "outputs": [
        {
          "output_type": "stream",
          "name": "stdout",
          "text": [
            "tamanho do arquivo:\n",
            "            363640915 em bytes\n",
            "            346.79500102996826 em MB\n",
            "            0.3386669931933284 em GB\n"
          ]
        }
      ],
      "source": [
        "file_size(arquivo)"
      ]
    },
    {
      "cell_type": "code",
      "execution_count": 18,
      "metadata": {
        "id": "onbeNrrDwGRg",
        "colab": {
          "base_uri": "https://localhost:8080/"
        },
        "outputId": "a7c22973-e8a7-454d-ce7f-7e9297f4e084"
      },
      "outputs": [
        {
          "output_type": "stream",
          "name": "stdout",
          "text": [
            "Número de partições -> 3\n"
          ]
        }
      ],
      "source": [
        "partitions(arquivo)"
      ]
    },
    {
      "cell_type": "code",
      "execution_count": 19,
      "metadata": {
        "id": "Uury6xftwHjD",
        "colab": {
          "base_uri": "https://localhost:8080/"
        },
        "outputId": "2d1e9df7-4daf-4052-eeaa-092e359cf03e"
      },
      "outputs": [
        {
          "output_type": "stream",
          "name": "stdout",
          "text": [
            "CPU times: user 134 ms, sys: 12.8 ms, total: 147 ms\n",
            "Wall time: 16.9 s\n",
            "CPU times: user 140 ms, sys: 15.3 ms, total: 155 ms\n",
            "Wall time: 19.9 s\n",
            "CPU times: user 115 ms, sys: 14.9 ms, total: 130 ms\n",
            "Wall time: 16.8 s\n",
            "CPU times: user 113 ms, sys: 17.3 ms, total: 130 ms\n",
            "Wall time: 16.8 s\n",
            "CPU times: user 122 ms, sys: 16.7 ms, total: 139 ms\n",
            "Wall time: 17.7 s\n",
            "CPU times: user 115 ms, sys: 19.9 ms, total: 134 ms\n",
            "Wall time: 16.9 s\n",
            "CPU times: user 116 ms, sys: 15 ms, total: 131 ms\n",
            "Wall time: 16.8 s\n",
            "CPU times: user 127 ms, sys: 5.65 ms, total: 132 ms\n",
            "Wall time: 16.9 s\n",
            "CPU times: user 106 ms, sys: 19.1 ms, total: 125 ms\n",
            "Wall time: 16.5 s\n",
            "CPU times: user 118 ms, sys: 14.1 ms, total: 133 ms\n",
            "Wall time: 16.8 s\n",
            "CPU times: user 114 ms, sys: 18.3 ms, total: 132 ms\n",
            "Wall time: 16.9 s\n",
            "CPU times: user 141 ms, sys: 16.7 ms, total: 158 ms\n",
            "Wall time: 20.2 s\n",
            "CPU times: user 119 ms, sys: 15.7 ms, total: 135 ms\n",
            "Wall time: 16.7 s\n",
            "CPU times: user 171 ms, sys: 15.8 ms, total: 187 ms\n",
            "Wall time: 19.6 s\n",
            "CPU times: user 127 ms, sys: 15.1 ms, total: 142 ms\n",
            "Wall time: 17.1 s\n",
            "CPU times: user 121 ms, sys: 10.9 ms, total: 132 ms\n",
            "Wall time: 16.7 s\n",
            "CPU times: user 116 ms, sys: 15.5 ms, total: 132 ms\n",
            "Wall time: 16.7 s\n",
            "CPU times: user 113 ms, sys: 19 ms, total: 132 ms\n",
            "Wall time: 16.9 s\n",
            "CPU times: user 126 ms, sys: 8.95 ms, total: 135 ms\n",
            "Wall time: 16.9 s\n",
            "CPU times: user 120 ms, sys: 16.6 ms, total: 136 ms\n",
            "Wall time: 16.7 s\n",
            "CPU times: user 118 ms, sys: 15.8 ms, total: 134 ms\n",
            "Wall time: 16.7 s\n",
            "CPU times: user 140 ms, sys: 21.1 ms, total: 161 ms\n",
            "Wall time: 20.3 s\n",
            "CPU times: user 109 ms, sys: 19.5 ms, total: 128 ms\n",
            "Wall time: 16.7 s\n",
            "CPU times: user 114 ms, sys: 17.8 ms, total: 131 ms\n",
            "Wall time: 16.8 s\n",
            "CPU times: user 130 ms, sys: 15 ms, total: 145 ms\n",
            "Wall time: 16.7 s\n",
            "CPU times: user 165 ms, sys: 19.5 ms, total: 184 ms\n",
            "Wall time: 18.8 s\n",
            "CPU times: user 120 ms, sys: 18.6 ms, total: 138 ms\n",
            "Wall time: 17 s\n",
            "CPU times: user 123 ms, sys: 10.2 ms, total: 133 ms\n",
            "Wall time: 16.7 s\n",
            "CPU times: user 125 ms, sys: 13 ms, total: 138 ms\n",
            "Wall time: 16.8 s\n",
            "CPU times: user 121 ms, sys: 16.9 ms, total: 138 ms\n",
            "Wall time: 16.9 s\n",
            "CPU times: user 121 ms, sys: 13.5 ms, total: 134 ms\n",
            "Wall time: 17.5 s\n",
            "CPU times: user 146 ms, sys: 8.48 ms, total: 154 ms\n",
            "Wall time: 19.3 s\n"
          ]
        }
      ],
      "source": [
        "for i in range(1,33):\n",
        "  %time benchmark(arquivo)"
      ]
    },
    {
      "cell_type": "markdown",
      "metadata": {
        "id": "Qqg_jenLcjBl"
      },
      "source": [
        "##2.5 minutos"
      ]
    },
    {
      "cell_type": "code",
      "execution_count": 20,
      "metadata": {
        "colab": {
          "base_uri": "https://localhost:8080/"
        },
        "id": "PJ9zdiXTZfuw",
        "outputId": "5886dc35-f10d-474a-bddd-b164722c3896"
      },
      "outputs": [
        {
          "output_type": "stream",
          "name": "stdout",
          "text": [
            "--2024-05-04 18:40:49--  https://biogeo.ucdavis.edu/data/worldclim/v2.1/base/wc2.1_2.5m_tavg.zip\n",
            "Resolving biogeo.ucdavis.edu (biogeo.ucdavis.edu)... 128.120.228.172\n",
            "Connecting to biogeo.ucdavis.edu (biogeo.ucdavis.edu)|128.120.228.172|:443... connected.\n",
            "HTTP request sent, awaiting response... 302 Found\n",
            "Location: https://data.biogeo.ucdavis.edu/data/worldclim/v2.1/base/wc2.1_2.5m_tavg.zip [following]\n",
            "--2024-05-04 18:40:49--  https://data.biogeo.ucdavis.edu/data/worldclim/v2.1/base/wc2.1_2.5m_tavg.zip\n",
            "Resolving data.biogeo.ucdavis.edu (data.biogeo.ucdavis.edu)... 128.120.228.172\n",
            "Connecting to data.biogeo.ucdavis.edu (data.biogeo.ucdavis.edu)|128.120.228.172|:443... connected.\n",
            "HTTP request sent, awaiting response... 200 OK\n",
            "Length: 443224846 (423M) [application/zip]\n",
            "Saving to: ‘wc2.1_2.5m_tavg.zip’\n",
            "\n",
            "wc2.1_2.5m_tavg.zip 100%[===================>] 422.69M  17.9MB/s    in 24s     \n",
            "\n",
            "2024-05-04 18:41:15 (17.3 MB/s) - ‘wc2.1_2.5m_tavg.zip’ saved [443224846/443224846]\n",
            "\n",
            "Archive:  wc2.1_2.5m_tavg.zip\n",
            "  inflating: wc2.1_2.5m_tavg_01.tif  \n",
            "  inflating: wc2.1_2.5m_tavg_02.tif  \n",
            "  inflating: wc2.1_2.5m_tavg_03.tif  \n",
            "  inflating: wc2.1_2.5m_tavg_04.tif  \n",
            "  inflating: wc2.1_2.5m_tavg_05.tif  \n",
            "  inflating: wc2.1_2.5m_tavg_06.tif  \n",
            "  inflating: wc2.1_2.5m_tavg_07.tif  \n",
            "  inflating: wc2.1_2.5m_tavg_08.tif  \n",
            "  inflating: wc2.1_2.5m_tavg_09.tif  \n",
            "  inflating: wc2.1_2.5m_tavg_10.tif  \n",
            "  inflating: wc2.1_2.5m_tavg_11.tif  \n",
            "  inflating: wc2.1_2.5m_tavg_12.tif  \n"
          ]
        }
      ],
      "source": [
        "!wget https://biogeo.ucdavis.edu/data/worldclim/v2.1/base/wc2.1_2.5m_tavg.zip\n",
        "!unzip -o wc2.1_2.5m_tavg.zip"
      ]
    },
    {
      "cell_type": "code",
      "execution_count": 21,
      "metadata": {
        "colab": {
          "base_uri": "https://localhost:8080/"
        },
        "id": "KjBJ05FCZ4Lh",
        "outputId": "20a2ffbc-8955-4a0f-c676-5b128a638dac"
      },
      "outputs": [
        {
          "output_type": "stream",
          "name": "stdout",
          "text": [
            "[2024-05-04 06:41:23 - INFO] - Getting geotransform and data...\n",
            "[2024-05-04 06:41:24 - INFO] - Getting XYZ data...\n",
            "[2024-05-04 06:41:26 - INFO] - Getting geotransformed coordinates...\n",
            "[2024-05-04 06:41:27 - INFO] - Building XYZ data...\n",
            "[2024-05-04 06:44:31 - INFO] - New XYZ (csv file) created...\n"
          ]
        }
      ],
      "source": [
        "!raster2xyz wc2.1_2.5m_tavg_01.tif wc2.1_2.5m_tavg_01.csv"
      ]
    },
    {
      "cell_type": "code",
      "execution_count": 22,
      "metadata": {
        "id": "n_47QN61aUR5"
      },
      "outputs": [],
      "source": [
        "arquivo='wc2.1_2.5m_tavg_01.csv'"
      ]
    },
    {
      "cell_type": "code",
      "execution_count": 23,
      "metadata": {
        "colab": {
          "base_uri": "https://localhost:8080/"
        },
        "id": "xtjlodQ5lM6v",
        "outputId": "f8300197-e0ff-4f5d-f3a1-5bbd89f5459b"
      },
      "outputs": [
        {
          "output_type": "stream",
          "name": "stdout",
          "text": [
            "tamanho do arquivo:\n",
            "            1475073804 em bytes\n",
            "            1406.7400016784668 em MB\n",
            "            1.3737695328891277 em GB\n"
          ]
        }
      ],
      "source": [
        "file_size(arquivo)"
      ]
    },
    {
      "cell_type": "code",
      "execution_count": 24,
      "metadata": {
        "colab": {
          "base_uri": "https://localhost:8080/"
        },
        "id": "045rmf5nlWVO",
        "outputId": "306519ee-f4c8-4c5a-a665-febae1dc1aa4"
      },
      "outputs": [
        {
          "output_type": "stream",
          "name": "stdout",
          "text": [
            "Número de partições -> 11\n"
          ]
        }
      ],
      "source": [
        "partitions(arquivo)"
      ]
    },
    {
      "cell_type": "code",
      "execution_count": 25,
      "metadata": {
        "colab": {
          "base_uri": "https://localhost:8080/"
        },
        "id": "exkKFjcIbPQN",
        "outputId": "a4e8445f-a75e-4f4e-cf90-aabddf9c3280"
      },
      "outputs": [
        {
          "output_type": "stream",
          "name": "stdout",
          "text": [
            "CPU times: user 574 ms, sys: 73.1 ms, total: 647 ms\n",
            "Wall time: 1min 20s\n",
            "CPU times: user 549 ms, sys: 64.7 ms, total: 614 ms\n",
            "Wall time: 1min 20s\n",
            "CPU times: user 548 ms, sys: 53.5 ms, total: 601 ms\n",
            "Wall time: 1min 18s\n",
            "CPU times: user 599 ms, sys: 65.2 ms, total: 664 ms\n",
            "Wall time: 1min 25s\n",
            "CPU times: user 498 ms, sys: 58.8 ms, total: 557 ms\n",
            "Wall time: 1min 12s\n",
            "CPU times: user 560 ms, sys: 76 ms, total: 636 ms\n",
            "Wall time: 1min 22s\n",
            "CPU times: user 519 ms, sys: 67.8 ms, total: 587 ms\n",
            "Wall time: 1min 15s\n",
            "CPU times: user 547 ms, sys: 66.1 ms, total: 613 ms\n",
            "Wall time: 1min 20s\n",
            "CPU times: user 589 ms, sys: 78.6 ms, total: 668 ms\n",
            "Wall time: 1min 21s\n",
            "CPU times: user 556 ms, sys: 64.5 ms, total: 621 ms\n",
            "Wall time: 1min 20s\n",
            "CPU times: user 524 ms, sys: 77.3 ms, total: 602 ms\n",
            "Wall time: 1min 18s\n",
            "CPU times: user 578 ms, sys: 76.8 ms, total: 654 ms\n",
            "Wall time: 1min 25s\n",
            "CPU times: user 473 ms, sys: 90 ms, total: 563 ms\n",
            "Wall time: 1min 12s\n",
            "CPU times: user 622 ms, sys: 93.1 ms, total: 715 ms\n",
            "Wall time: 1min 29s\n",
            "CPU times: user 547 ms, sys: 65.8 ms, total: 613 ms\n",
            "Wall time: 1min 16s\n",
            "CPU times: user 634 ms, sys: 74.3 ms, total: 708 ms\n",
            "Wall time: 1min 26s\n",
            "CPU times: user 537 ms, sys: 81.6 ms, total: 619 ms\n",
            "Wall time: 1min 16s\n",
            "CPU times: user 588 ms, sys: 65.7 ms, total: 654 ms\n",
            "Wall time: 1min 23s\n",
            "CPU times: user 538 ms, sys: 68.2 ms, total: 606 ms\n",
            "Wall time: 1min 16s\n",
            "CPU times: user 570 ms, sys: 61.6 ms, total: 631 ms\n",
            "Wall time: 1min 21s\n",
            "CPU times: user 537 ms, sys: 74.7 ms, total: 612 ms\n",
            "Wall time: 1min 18s\n",
            "CPU times: user 558 ms, sys: 64.7 ms, total: 622 ms\n",
            "Wall time: 1min 19s\n",
            "CPU times: user 579 ms, sys: 67.2 ms, total: 647 ms\n",
            "Wall time: 1min 22s\n",
            "CPU times: user 549 ms, sys: 59.6 ms, total: 609 ms\n",
            "Wall time: 1min 17s\n",
            "CPU times: user 570 ms, sys: 61.5 ms, total: 632 ms\n",
            "Wall time: 1min 20s\n",
            "CPU times: user 517 ms, sys: 54.2 ms, total: 571 ms\n",
            "Wall time: 1min 14s\n",
            "CPU times: user 594 ms, sys: 64.7 ms, total: 659 ms\n",
            "Wall time: 1min 24s\n",
            "CPU times: user 516 ms, sys: 61.3 ms, total: 577 ms\n",
            "Wall time: 1min 13s\n",
            "CPU times: user 601 ms, sys: 71.7 ms, total: 673 ms\n",
            "Wall time: 1min 25s\n",
            "CPU times: user 532 ms, sys: 63.6 ms, total: 596 ms\n",
            "Wall time: 1min 15s\n",
            "CPU times: user 582 ms, sys: 71.2 ms, total: 653 ms\n",
            "Wall time: 1min 24s\n",
            "CPU times: user 564 ms, sys: 78.3 ms, total: 642 ms\n",
            "Wall time: 1min 21s\n"
          ]
        }
      ],
      "source": [
        "for i in range(1,33):\n",
        "   %time benchmark(arquivo)"
      ]
    },
    {
      "cell_type": "markdown",
      "metadata": {
        "id": "5cY0S3LPzfmj"
      },
      "source": [
        "##30 segundos"
      ]
    },
    {
      "cell_type": "markdown",
      "metadata": {
        "id": "uh56_N54g8JL"
      },
      "source": [
        "Não foi possível converter o arquivo de 30s em csv"
      ]
    }
  ]
}