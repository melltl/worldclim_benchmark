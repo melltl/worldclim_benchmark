{
  "nbformat": 4,
  "nbformat_minor": 0,
  "metadata": {
    "colab": {
      "provenance": [],
      "authorship_tag": "ABX9TyPLvbB3jKS1olyaMzVqAUa3"
    },
    "kernelspec": {
      "name": "python3",
      "display_name": "Python 3"
    },
    "language_info": {
      "name": "python"
    }
  },
  "cells": [
    {
      "cell_type": "markdown",
      "source": [
        "#Preparando o ambiente\n"
      ],
      "metadata": {
        "id": "CnwZDa7zE_4j"
      }
    },
    {
      "cell_type": "code",
      "execution_count": 1,
      "metadata": {
        "colab": {
          "base_uri": "https://localhost:8080/"
        },
        "id": "rjEDdSktZUqR",
        "outputId": "12649c12-36cd-4607-ee63-3106a36c846e"
      },
      "outputs": [
        {
          "output_type": "stream",
          "name": "stdout",
          "text": [
            "Collecting pyspark\n",
            "  Downloading pyspark-3.5.1.tar.gz (317.0 MB)\n",
            "\u001b[2K     \u001b[90m━━━━━━━━━━━━━━━━━━━━━━━━━━━━━━━━━━━━━━━━\u001b[0m \u001b[32m317.0/317.0 MB\u001b[0m \u001b[31m3.2 MB/s\u001b[0m eta \u001b[36m0:00:00\u001b[0m\n",
            "\u001b[?25h  Preparing metadata (setup.py) ... \u001b[?25l\u001b[?25hdone\n",
            "Collecting raster2xyz\n",
            "  Downloading raster2xyz-0.1.3.tar.gz (4.1 kB)\n",
            "  Preparing metadata (setup.py) ... \u001b[?25l\u001b[?25hdone\n",
            "Requirement already satisfied: py4j==0.10.9.7 in /usr/local/lib/python3.10/dist-packages (from pyspark) (0.10.9.7)\n",
            "Requirement already satisfied: numpy in /usr/local/lib/python3.10/dist-packages (from raster2xyz) (1.25.2)\n",
            "Requirement already satisfied: pandas in /usr/local/lib/python3.10/dist-packages (from raster2xyz) (2.0.3)\n",
            "Requirement already satisfied: GDAL in /usr/local/lib/python3.10/dist-packages (from raster2xyz) (3.6.4)\n",
            "Requirement already satisfied: python-dateutil>=2.8.2 in /usr/local/lib/python3.10/dist-packages (from pandas->raster2xyz) (2.8.2)\n",
            "Requirement already satisfied: pytz>=2020.1 in /usr/local/lib/python3.10/dist-packages (from pandas->raster2xyz) (2023.4)\n",
            "Requirement already satisfied: tzdata>=2022.1 in /usr/local/lib/python3.10/dist-packages (from pandas->raster2xyz) (2024.1)\n",
            "Requirement already satisfied: six>=1.5 in /usr/local/lib/python3.10/dist-packages (from python-dateutil>=2.8.2->pandas->raster2xyz) (1.16.0)\n",
            "Building wheels for collected packages: pyspark, raster2xyz\n",
            "  Building wheel for pyspark (setup.py) ... \u001b[?25l\u001b[?25hdone\n",
            "  Created wheel for pyspark: filename=pyspark-3.5.1-py2.py3-none-any.whl size=317488491 sha256=b6387a6dec6d9be1e48290d2989f8ae8c1fef11b0132254f5a2fbb0ac64883df\n",
            "  Stored in directory: /root/.cache/pip/wheels/80/1d/60/2c256ed38dddce2fdd93be545214a63e02fbd8d74fb0b7f3a6\n",
            "  Building wheel for raster2xyz (setup.py) ... \u001b[?25l\u001b[?25hdone\n",
            "  Created wheel for raster2xyz: filename=raster2xyz-0.1.3-py3-none-any.whl size=5946 sha256=62b2079b24034a87f02d540de3314e5796f0c5b62d49d7d225207c99ddbba4a9\n",
            "  Stored in directory: /root/.cache/pip/wheels/ef/5e/51/6df10cfc8d97148b3f46dd034ff2d748748d3b70ec53fbee69\n",
            "Successfully built pyspark raster2xyz\n",
            "Installing collected packages: pyspark, raster2xyz\n",
            "Successfully installed pyspark-3.5.1 raster2xyz-0.1.3\n"
          ]
        }
      ],
      "source": [
        "!pip install pyspark raster2xyz"
      ]
    },
    {
      "cell_type": "code",
      "execution_count": 2,
      "metadata": {
        "id": "fCznE1DoUSD4"
      },
      "outputs": [],
      "source": [
        "from pyspark.sql import SparkSession\n",
        "import os"
      ]
    },
    {
      "cell_type": "code",
      "execution_count": 3,
      "metadata": {
        "id": "gz0q0Xi2UquP"
      },
      "outputs": [],
      "source": [
        "spark=SparkSession.builder \\\n",
        "    .master('local[*]') \\\n",
        "    .getOrCreate()"
      ]
    },
    {
      "cell_type": "code",
      "execution_count": 4,
      "metadata": {
        "id": "92xTBB0DcSUX"
      },
      "outputs": [],
      "source": [
        "def benchmark(arquivo):\n",
        "    df = spark.read.format(\"csv\").option(\"header\", True).load(arquivo)\n",
        "    df.write.format(\"noop\").mode(\"overwrite\").save()"
      ]
    },
    {
      "cell_type": "code",
      "execution_count": 5,
      "metadata": {
        "id": "6k1E_4a-dAtJ"
      },
      "outputs": [],
      "source": [
        "def file_size(arquivo):\n",
        "  arquivo_tamanho= os.path.getsize(arquivo)\n",
        "  print(f\"\"\"tamanho do arquivo:\n",
        "            {arquivo_tamanho} em bytes\n",
        "            {int(arquivo_tamanho) / 1024 / 1024} em MB\n",
        "            {int(arquivo_tamanho) / 1024 / 1024 / 1024} em GB\"\"\")"
      ]
    },
    {
      "cell_type": "code",
      "execution_count": 6,
      "metadata": {
        "id": "pwevZYGWiqvo"
      },
      "outputs": [],
      "source": [
        "def partitions(arquivo):\n",
        "  df = spark.read.format(\"csv\").option(\"header\", True).load(arquivo)\n",
        "  print(f\"Número de partições -> {df.rdd.getNumPartitions()}\")"
      ]
    },
    {
      "cell_type": "markdown",
      "source": [
        "#Temperatura mínima"
      ],
      "metadata": {
        "id": "eUf14h5Bu4_a"
      }
    },
    {
      "cell_type": "markdown",
      "metadata": {
        "id": "AXYlb6yhcZln"
      },
      "source": [
        "##10 min"
      ]
    },
    {
      "cell_type": "code",
      "execution_count": 7,
      "metadata": {
        "id": "iCkRXTgQUnom"
      },
      "outputs": [],
      "source": [
        "%%capture\n",
        "!wget https://biogeo.ucdavis.edu/data/worldclim/v2.1/base/wc2.1_10m_tmin.zip\n",
        "!unzip -o wc2.1_10m_tmin.zip"
      ]
    },
    {
      "cell_type": "code",
      "execution_count": 8,
      "metadata": {
        "colab": {
          "base_uri": "https://localhost:8080/"
        },
        "id": "WdBfcY1vV0eP",
        "outputId": "c11cdf3b-a4e4-473a-ccbb-38e0ef4e2717"
      },
      "outputs": [
        {
          "output_type": "stream",
          "name": "stdout",
          "text": [
            "[2024-05-04 05:29:39 - INFO] - Getting geotransform and data...\n",
            "[2024-05-04 05:29:39 - INFO] - Getting XYZ data...\n",
            "[2024-05-04 05:29:39 - INFO] - Getting geotransformed coordinates...\n",
            "[2024-05-04 05:29:39 - INFO] - Building XYZ data...\n",
            "[2024-05-04 05:29:50 - INFO] - New XYZ (csv file) created...\n"
          ]
        }
      ],
      "source": [
        "!raster2xyz wc2.1_10m_tmin_01.tif wc2.1_10m_tmin_01.csv"
      ]
    },
    {
      "cell_type": "code",
      "execution_count": 9,
      "metadata": {
        "id": "nF1k9r91YemW"
      },
      "outputs": [],
      "source": [
        "arquivo='wc2.1_10m_tmin_01.csv'"
      ]
    },
    {
      "cell_type": "code",
      "execution_count": 10,
      "metadata": {
        "colab": {
          "base_uri": "https://localhost:8080/"
        },
        "id": "Zrr6_VbJdigj",
        "outputId": "7e70d7a1-338b-4373-dee7-c4158737285c"
      },
      "outputs": [
        {
          "output_type": "stream",
          "name": "stdout",
          "text": [
            "tamanho do arquivo:\n",
            "            90355472 em bytes\n",
            "            86.16969299316406 em MB\n",
            "            0.08415009081363678 em GB\n"
          ]
        }
      ],
      "source": [
        "file_size(arquivo)"
      ]
    },
    {
      "cell_type": "code",
      "execution_count": 11,
      "metadata": {
        "colab": {
          "base_uri": "https://localhost:8080/"
        },
        "id": "4xQDKyFqjR4D",
        "outputId": "c7684fa2-b75f-49a1-a942-7adbafaad13e"
      },
      "outputs": [
        {
          "output_type": "stream",
          "name": "stdout",
          "text": [
            "Número de partições -> 2\n"
          ]
        }
      ],
      "source": [
        "partitions(arquivo)"
      ]
    },
    {
      "cell_type": "code",
      "execution_count": 12,
      "metadata": {
        "colab": {
          "base_uri": "https://localhost:8080/"
        },
        "id": "wHFEwO4LYaIR",
        "outputId": "4516a7d6-67d1-482c-d41a-be570fdb8043"
      },
      "outputs": [
        {
          "output_type": "stream",
          "name": "stdout",
          "text": [
            "CPU times: user 54 ms, sys: 5.73 ms, total: 59.7 ms\n",
            "Wall time: 7.75 s\n",
            "CPU times: user 32.2 ms, sys: 1.66 ms, total: 33.8 ms\n",
            "Wall time: 4.82 s\n",
            "CPU times: user 28 ms, sys: 1.19 ms, total: 29.2 ms\n",
            "Wall time: 4.1 s\n",
            "CPU times: user 31.4 ms, sys: 4.08 ms, total: 35.4 ms\n",
            "Wall time: 5.17 s\n",
            "CPU times: user 26.9 ms, sys: 3.88 ms, total: 30.8 ms\n",
            "Wall time: 4.06 s\n",
            "CPU times: user 30.3 ms, sys: 1.55 ms, total: 31.9 ms\n",
            "Wall time: 4.11 s\n",
            "CPU times: user 28.4 ms, sys: 2.26 ms, total: 30.7 ms\n",
            "Wall time: 4.53 s\n",
            "CPU times: user 29.6 ms, sys: 3.11 ms, total: 32.8 ms\n",
            "Wall time: 4.59 s\n",
            "CPU times: user 24.6 ms, sys: 4.37 ms, total: 29 ms\n",
            "Wall time: 3.93 s\n",
            "CPU times: user 27.1 ms, sys: 1.22 ms, total: 28.4 ms\n",
            "Wall time: 3.86 s\n",
            "CPU times: user 30.5 ms, sys: 5.06 ms, total: 35.6 ms\n",
            "Wall time: 5.25 s\n",
            "CPU times: user 24.2 ms, sys: 4.94 ms, total: 29.1 ms\n",
            "Wall time: 4 s\n",
            "CPU times: user 26.2 ms, sys: 90 µs, total: 26.3 ms\n",
            "Wall time: 3.7 s\n",
            "CPU times: user 34.1 ms, sys: 3.44 ms, total: 37.5 ms\n",
            "Wall time: 5.33 s\n",
            "CPU times: user 25.2 ms, sys: 3.18 ms, total: 28.4 ms\n",
            "Wall time: 3.93 s\n",
            "CPU times: user 26.4 ms, sys: 0 ns, total: 26.4 ms\n",
            "Wall time: 3.78 s\n",
            "CPU times: user 32 ms, sys: 9.04 ms, total: 41 ms\n",
            "Wall time: 4.94 s\n",
            "CPU times: user 23.1 ms, sys: 4.07 ms, total: 27.2 ms\n",
            "Wall time: 3.95 s\n",
            "CPU times: user 26.1 ms, sys: 1.68 ms, total: 27.8 ms\n",
            "Wall time: 3.55 s\n",
            "CPU times: user 22.8 ms, sys: 5.14 ms, total: 27.9 ms\n",
            "Wall time: 3.88 s\n",
            "CPU times: user 27.7 ms, sys: 4.86 ms, total: 32.6 ms\n",
            "Wall time: 4.86 s\n",
            "CPU times: user 23.8 ms, sys: 1.21 ms, total: 25 ms\n",
            "Wall time: 3.63 s\n",
            "CPU times: user 23.4 ms, sys: 3.31 ms, total: 26.7 ms\n",
            "Wall time: 3.54 s\n",
            "CPU times: user 27.1 ms, sys: 6.34 ms, total: 33.4 ms\n",
            "Wall time: 5 s\n",
            "CPU times: user 25.8 ms, sys: 1.76 ms, total: 27.5 ms\n",
            "Wall time: 3.72 s\n",
            "CPU times: user 21.7 ms, sys: 2.97 ms, total: 24.7 ms\n",
            "Wall time: 3.42 s\n",
            "CPU times: user 25.4 ms, sys: 1.66 ms, total: 27 ms\n",
            "Wall time: 3.77 s\n",
            "CPU times: user 32.5 ms, sys: 2.5 ms, total: 35 ms\n",
            "Wall time: 4.91 s\n",
            "CPU times: user 28.2 ms, sys: 984 µs, total: 29.1 ms\n",
            "Wall time: 3.6 s\n",
            "CPU times: user 24.8 ms, sys: 2.53 ms, total: 27.4 ms\n",
            "Wall time: 3.44 s\n",
            "CPU times: user 30.8 ms, sys: 5.09 ms, total: 35.9 ms\n",
            "Wall time: 5.05 s\n",
            "CPU times: user 20.7 ms, sys: 4.93 ms, total: 25.6 ms\n",
            "Wall time: 3.61 s\n"
          ]
        }
      ],
      "source": [
        "for i in range(1,33):\n",
        " tempo=%time benchmark(arquivo)\n",
        " tempo"
      ]
    },
    {
      "cell_type": "code",
      "source": [
        "print(tempo)"
      ],
      "metadata": {
        "colab": {
          "base_uri": "https://localhost:8080/"
        },
        "id": "0g1gVHnArr51",
        "outputId": "ec552f85-b7e2-48c8-ce30-c6a348106ac9"
      },
      "execution_count": 13,
      "outputs": [
        {
          "output_type": "stream",
          "name": "stdout",
          "text": [
            "None\n"
          ]
        }
      ]
    },
    {
      "cell_type": "markdown",
      "metadata": {
        "id": "xkTO67DiuX1y"
      },
      "source": [
        "##5 minutos"
      ]
    },
    {
      "cell_type": "code",
      "execution_count": 14,
      "metadata": {
        "colab": {
          "base_uri": "https://localhost:8080/"
        },
        "id": "MHVuUdRGj-Mk",
        "outputId": "f03a7baa-2f18-4d0c-f1ed-6dd454ab37d9"
      },
      "outputs": [
        {
          "output_type": "stream",
          "name": "stdout",
          "text": [
            "--2024-05-04 17:32:19--  https://biogeo.ucdavis.edu/data/worldclim/v2.1/base/wc2.1_5m_tmin.zip\n",
            "Resolving biogeo.ucdavis.edu (biogeo.ucdavis.edu)... 128.120.228.172\n",
            "Connecting to biogeo.ucdavis.edu (biogeo.ucdavis.edu)|128.120.228.172|:443... connected.\n",
            "HTTP request sent, awaiting response... 302 Found\n",
            "Location: https://data.biogeo.ucdavis.edu/data/worldclim/v2.1/base/wc2.1_5m_tmin.zip [following]\n",
            "--2024-05-04 17:32:20--  https://data.biogeo.ucdavis.edu/data/worldclim/v2.1/base/wc2.1_5m_tmin.zip\n",
            "Resolving data.biogeo.ucdavis.edu (data.biogeo.ucdavis.edu)... 128.120.228.172\n",
            "Connecting to data.biogeo.ucdavis.edu (data.biogeo.ucdavis.edu)|128.120.228.172|:443... connected.\n",
            "HTTP request sent, awaiting response... 200 OK\n",
            "Length: 128562254 (123M) [application/zip]\n",
            "Saving to: ‘wc2.1_5m_tmin.zip’\n",
            "\n",
            "wc2.1_5m_tmin.zip   100%[===================>] 122.61M  36.4MB/s    in 3.9s    \n",
            "\n",
            "2024-05-04 17:32:24 (31.6 MB/s) - ‘wc2.1_5m_tmin.zip’ saved [128562254/128562254]\n",
            "\n",
            "Archive:  wc2.1_5m_tmin.zip\n",
            "  inflating: wc2.1_5m_tmin_01.tif    \n",
            "  inflating: wc2.1_5m_tmin_02.tif    \n",
            "  inflating: wc2.1_5m_tmin_03.tif    \n",
            "  inflating: wc2.1_5m_tmin_04.tif    \n",
            "  inflating: wc2.1_5m_tmin_05.tif    \n",
            "  inflating: wc2.1_5m_tmin_06.tif    \n",
            "  inflating: wc2.1_5m_tmin_07.tif    \n",
            "  inflating: wc2.1_5m_tmin_08.tif    \n",
            "  inflating: wc2.1_5m_tmin_09.tif    \n",
            "  inflating: wc2.1_5m_tmin_10.tif    \n",
            "  inflating: wc2.1_5m_tmin_11.tif    \n",
            "  inflating: wc2.1_5m_tmin_12.tif    \n"
          ]
        }
      ],
      "source": [
        "!wget https://biogeo.ucdavis.edu/data/worldclim/v2.1/base/wc2.1_5m_tmin.zip\n",
        "!unzip -o wc2.1_5m_tmin.zip"
      ]
    },
    {
      "cell_type": "code",
      "execution_count": 15,
      "metadata": {
        "colab": {
          "base_uri": "https://localhost:8080/"
        },
        "id": "SyDIdYipkH3e",
        "outputId": "9ba79c1f-0df4-4220-bf45-b210ed133e88"
      },
      "outputs": [
        {
          "output_type": "stream",
          "name": "stdout",
          "text": [
            "[2024-05-04 05:32:27 - INFO] - Getting geotransform and data...\n",
            "[2024-05-04 05:32:27 - INFO] - Getting XYZ data...\n",
            "[2024-05-04 05:32:27 - INFO] - Getting geotransformed coordinates...\n",
            "[2024-05-04 05:32:28 - INFO] - Building XYZ data...\n",
            "[2024-05-04 05:33:07 - INFO] - New XYZ (csv file) created...\n"
          ]
        }
      ],
      "source": [
        "!raster2xyz wc2.1_5m_tmin_01.tif wc2.1_5m_tmin_01.csv"
      ]
    },
    {
      "cell_type": "code",
      "execution_count": 16,
      "metadata": {
        "id": "EsVazh3Ov8cT"
      },
      "outputs": [],
      "source": [
        "arquivo='wc2.1_5m_tmin_01.csv'"
      ]
    },
    {
      "cell_type": "code",
      "execution_count": 17,
      "metadata": {
        "id": "7WfqEECQwDZw",
        "colab": {
          "base_uri": "https://localhost:8080/"
        },
        "outputId": "d53b431e-2766-4e01-e1f7-e443e6e0f794"
      },
      "outputs": [
        {
          "output_type": "stream",
          "name": "stdout",
          "text": [
            "tamanho do arquivo:\n",
            "            363767890 em bytes\n",
            "            346.91609382629395 em MB\n",
            "            0.3387852478772402 em GB\n"
          ]
        }
      ],
      "source": [
        "file_size(arquivo)"
      ]
    },
    {
      "cell_type": "code",
      "execution_count": 18,
      "metadata": {
        "id": "onbeNrrDwGRg",
        "colab": {
          "base_uri": "https://localhost:8080/"
        },
        "outputId": "11acb3da-fdcf-47ba-ab46-33f7aa5c70a9"
      },
      "outputs": [
        {
          "output_type": "stream",
          "name": "stdout",
          "text": [
            "Número de partições -> 3\n"
          ]
        }
      ],
      "source": [
        "partitions(arquivo)"
      ]
    },
    {
      "cell_type": "code",
      "execution_count": 19,
      "metadata": {
        "id": "Uury6xftwHjD",
        "colab": {
          "base_uri": "https://localhost:8080/"
        },
        "outputId": "35a7939d-142b-4e1f-c559-7f093239bbf9"
      },
      "outputs": [
        {
          "output_type": "stream",
          "name": "stdout",
          "text": [
            "CPU times: user 97.8 ms, sys: 13.8 ms, total: 112 ms\n",
            "Wall time: 15.9 s\n",
            "CPU times: user 88.3 ms, sys: 13 ms, total: 101 ms\n",
            "Wall time: 15.8 s\n",
            "CPU times: user 89 ms, sys: 8.6 ms, total: 97.6 ms\n",
            "Wall time: 15.7 s\n",
            "CPU times: user 85.9 ms, sys: 12 ms, total: 97.9 ms\n",
            "Wall time: 15.8 s\n",
            "CPU times: user 94.2 ms, sys: 11.8 ms, total: 106 ms\n",
            "Wall time: 16 s\n",
            "CPU times: user 92.6 ms, sys: 7.88 ms, total: 100 ms\n",
            "Wall time: 15.8 s\n",
            "CPU times: user 89.1 ms, sys: 9.54 ms, total: 98.6 ms\n",
            "Wall time: 15.8 s\n",
            "CPU times: user 110 ms, sys: 14.5 ms, total: 125 ms\n",
            "Wall time: 17.7 s\n",
            "CPU times: user 93.9 ms, sys: 11.8 ms, total: 106 ms\n",
            "Wall time: 16 s\n",
            "CPU times: user 98.2 ms, sys: 9.81 ms, total: 108 ms\n",
            "Wall time: 17 s\n",
            "CPU times: user 97.6 ms, sys: 9.82 ms, total: 107 ms\n",
            "Wall time: 16.6 s\n",
            "CPU times: user 92.5 ms, sys: 6.59 ms, total: 99.1 ms\n",
            "Wall time: 15.6 s\n",
            "CPU times: user 102 ms, sys: 10.1 ms, total: 113 ms\n",
            "Wall time: 15.3 s\n",
            "CPU times: user 88.7 ms, sys: 10.2 ms, total: 98.9 ms\n",
            "Wall time: 15.4 s\n",
            "CPU times: user 81.8 ms, sys: 13.1 ms, total: 95 ms\n",
            "Wall time: 15.1 s\n",
            "CPU times: user 94.1 ms, sys: 12.8 ms, total: 107 ms\n",
            "Wall time: 16.4 s\n",
            "CPU times: user 90.6 ms, sys: 7.15 ms, total: 97.8 ms\n",
            "Wall time: 15.6 s\n",
            "CPU times: user 87.7 ms, sys: 9.68 ms, total: 97.4 ms\n",
            "Wall time: 15.6 s\n",
            "CPU times: user 90.3 ms, sys: 10.1 ms, total: 100 ms\n",
            "Wall time: 15.9 s\n",
            "CPU times: user 95.5 ms, sys: 6.79 ms, total: 102 ms\n",
            "Wall time: 16 s\n",
            "CPU times: user 86.6 ms, sys: 16.1 ms, total: 103 ms\n",
            "Wall time: 16.2 s\n",
            "CPU times: user 106 ms, sys: 10.4 ms, total: 117 ms\n",
            "Wall time: 18.5 s\n",
            "CPU times: user 84 ms, sys: 16.6 ms, total: 101 ms\n",
            "Wall time: 15.9 s\n",
            "CPU times: user 91.4 ms, sys: 8.48 ms, total: 99.9 ms\n",
            "Wall time: 16 s\n",
            "CPU times: user 91.5 ms, sys: 15.7 ms, total: 107 ms\n",
            "Wall time: 16 s\n",
            "CPU times: user 106 ms, sys: 5.99 ms, total: 112 ms\n",
            "Wall time: 16.1 s\n",
            "CPU times: user 99.6 ms, sys: 7.89 ms, total: 107 ms\n",
            "Wall time: 16.1 s\n",
            "CPU times: user 94.9 ms, sys: 10.4 ms, total: 105 ms\n",
            "Wall time: 16 s\n",
            "CPU times: user 92 ms, sys: 9.91 ms, total: 102 ms\n",
            "Wall time: 16 s\n",
            "CPU times: user 87.8 ms, sys: 11.8 ms, total: 99.6 ms\n",
            "Wall time: 15.9 s\n",
            "CPU times: user 92.3 ms, sys: 9.94 ms, total: 102 ms\n",
            "Wall time: 16 s\n",
            "CPU times: user 90.2 ms, sys: 10.1 ms, total: 100 ms\n",
            "Wall time: 15.9 s\n"
          ]
        }
      ],
      "source": [
        "for i in range(1,33):\n",
        "  %time benchmark(arquivo)"
      ]
    },
    {
      "cell_type": "markdown",
      "metadata": {
        "id": "Qqg_jenLcjBl"
      },
      "source": [
        "##2.5 minutos"
      ]
    },
    {
      "cell_type": "code",
      "source": [],
      "metadata": {
        "id": "VfznHCbfu_Hp"
      },
      "execution_count": null,
      "outputs": []
    },
    {
      "cell_type": "code",
      "execution_count": 20,
      "metadata": {
        "colab": {
          "base_uri": "https://localhost:8080/"
        },
        "id": "PJ9zdiXTZfuw",
        "outputId": "6a609d41-3ba9-4874-b829-253332cadbba"
      },
      "outputs": [
        {
          "output_type": "stream",
          "name": "stdout",
          "text": [
            "--2024-05-04 17:41:41--  https://biogeo.ucdavis.edu/data/worldclim/v2.1/base/wc2.1_2.5m_tmin.zip\n",
            "Resolving biogeo.ucdavis.edu (biogeo.ucdavis.edu)... 128.120.228.172\n",
            "Connecting to biogeo.ucdavis.edu (biogeo.ucdavis.edu)|128.120.228.172|:443... connected.\n",
            "HTTP request sent, awaiting response... 302 Found\n",
            "Location: https://data.biogeo.ucdavis.edu/data/worldclim/v2.1/base/wc2.1_2.5m_tmin.zip [following]\n",
            "--2024-05-04 17:41:42--  https://data.biogeo.ucdavis.edu/data/worldclim/v2.1/base/wc2.1_2.5m_tmin.zip\n",
            "Resolving data.biogeo.ucdavis.edu (data.biogeo.ucdavis.edu)... 128.120.228.172\n",
            "Connecting to data.biogeo.ucdavis.edu (data.biogeo.ucdavis.edu)|128.120.228.172|:443... connected.\n",
            "HTTP request sent, awaiting response... 200 OK\n",
            "Length: 450776085 (430M) [application/zip]\n",
            "Saving to: ‘wc2.1_2.5m_tmin.zip’\n",
            "\n",
            "wc2.1_2.5m_tmin.zip 100%[===================>] 429.89M  40.1MB/s    in 11s     \n",
            "\n",
            "2024-05-04 17:41:53 (38.0 MB/s) - ‘wc2.1_2.5m_tmin.zip’ saved [450776085/450776085]\n",
            "\n",
            "Archive:  wc2.1_2.5m_tmin.zip\n",
            "  inflating: wc2.1_2.5m_tmin_01.tif  \n",
            "  inflating: wc2.1_2.5m_tmin_02.tif  \n",
            "  inflating: wc2.1_2.5m_tmin_03.tif  \n",
            "  inflating: wc2.1_2.5m_tmin_04.tif  \n",
            "  inflating: wc2.1_2.5m_tmin_05.tif  \n",
            "  inflating: wc2.1_2.5m_tmin_06.tif  \n",
            "  inflating: wc2.1_2.5m_tmin_07.tif  \n",
            "  inflating: wc2.1_2.5m_tmin_08.tif  \n",
            "  inflating: wc2.1_2.5m_tmin_09.tif  \n",
            "  inflating: wc2.1_2.5m_tmin_10.tif  \n",
            "  inflating: wc2.1_2.5m_tmin_11.tif  \n",
            "  inflating: wc2.1_2.5m_tmin_12.tif  \n"
          ]
        }
      ],
      "source": [
        "!wget https://biogeo.ucdavis.edu/data/worldclim/v2.1/base/wc2.1_2.5m_tmin.zip\n",
        "!unzip -o wc2.1_2.5m_tmin.zip"
      ]
    },
    {
      "cell_type": "code",
      "execution_count": 21,
      "metadata": {
        "colab": {
          "base_uri": "https://localhost:8080/"
        },
        "id": "KjBJ05FCZ4Lh",
        "outputId": "c6e99fa7-a7ea-47db-92bf-59c3a2cf3643"
      },
      "outputs": [
        {
          "output_type": "stream",
          "name": "stdout",
          "text": [
            "[2024-05-04 05:42:01 - INFO] - Getting geotransform and data...\n",
            "[2024-05-04 05:42:02 - INFO] - Getting XYZ data...\n",
            "[2024-05-04 05:42:03 - INFO] - Getting geotransformed coordinates...\n",
            "[2024-05-04 05:42:04 - INFO] - Building XYZ data...\n",
            "[2024-05-04 05:44:55 - INFO] - New XYZ (csv file) created...\n"
          ]
        }
      ],
      "source": [
        "!raster2xyz wc2.1_2.5m_tmin_01.tif wc2.1_2.5m_tmin_01.csv"
      ]
    },
    {
      "cell_type": "code",
      "execution_count": 22,
      "metadata": {
        "id": "n_47QN61aUR5"
      },
      "outputs": [],
      "source": [
        "arquivo='wc2.1_2.5m_tmin_01.csv'"
      ]
    },
    {
      "cell_type": "code",
      "execution_count": 23,
      "metadata": {
        "colab": {
          "base_uri": "https://localhost:8080/"
        },
        "id": "xtjlodQ5lM6v",
        "outputId": "e95d99cf-fb33-4739-9624-8fbc7bccfd60"
      },
      "outputs": [
        {
          "output_type": "stream",
          "name": "stdout",
          "text": [
            "tamanho do arquivo:\n",
            "            1475748344 em bytes\n",
            "            1407.3832931518555 em MB\n",
            "            1.3743977472186089 em GB\n"
          ]
        }
      ],
      "source": [
        "file_size(arquivo)"
      ]
    },
    {
      "cell_type": "code",
      "execution_count": 24,
      "metadata": {
        "colab": {
          "base_uri": "https://localhost:8080/"
        },
        "id": "045rmf5nlWVO",
        "outputId": "aee42db1-9e94-4f28-c75d-a301a0eb68e1"
      },
      "outputs": [
        {
          "output_type": "stream",
          "name": "stdout",
          "text": [
            "Número de partições -> 11\n"
          ]
        }
      ],
      "source": [
        "partitions(arquivo)"
      ]
    },
    {
      "cell_type": "code",
      "execution_count": 25,
      "metadata": {
        "colab": {
          "base_uri": "https://localhost:8080/"
        },
        "id": "exkKFjcIbPQN",
        "outputId": "2a813770-7f76-432e-e1d8-4d0c1190c570"
      },
      "outputs": [
        {
          "output_type": "stream",
          "name": "stdout",
          "text": [
            "CPU times: user 456 ms, sys: 55.1 ms, total: 511 ms\n",
            "Wall time: 1min 18s\n",
            "CPU times: user 399 ms, sys: 60.1 ms, total: 459 ms\n",
            "Wall time: 1min 14s\n",
            "CPU times: user 410 ms, sys: 46.3 ms, total: 457 ms\n",
            "Wall time: 1min 15s\n",
            "CPU times: user 398 ms, sys: 60 ms, total: 458 ms\n",
            "Wall time: 1min 14s\n",
            "CPU times: user 468 ms, sys: 41.2 ms, total: 509 ms\n",
            "Wall time: 1min 21s\n",
            "CPU times: user 394 ms, sys: 43.3 ms, total: 437 ms\n",
            "Wall time: 1min 10s\n",
            "CPU times: user 385 ms, sys: 48.2 ms, total: 433 ms\n",
            "Wall time: 1min 10s\n",
            "CPU times: user 436 ms, sys: 48.2 ms, total: 484 ms\n",
            "Wall time: 1min 19s\n",
            "CPU times: user 440 ms, sys: 45.8 ms, total: 486 ms\n",
            "Wall time: 1min 13s\n",
            "CPU times: user 430 ms, sys: 58.1 ms, total: 488 ms\n",
            "Wall time: 1min 20s\n",
            "CPU times: user 386 ms, sys: 36.4 ms, total: 422 ms\n",
            "Wall time: 1min 9s\n",
            "CPU times: user 451 ms, sys: 44.8 ms, total: 496 ms\n",
            "Wall time: 1min 21s\n",
            "CPU times: user 405 ms, sys: 41.2 ms, total: 446 ms\n",
            "Wall time: 1min 13s\n",
            "CPU times: user 395 ms, sys: 32.9 ms, total: 428 ms\n",
            "Wall time: 1min 11s\n",
            "CPU times: user 450 ms, sys: 42.1 ms, total: 492 ms\n",
            "Wall time: 1min 21s\n",
            "CPU times: user 407 ms, sys: 43.1 ms, total: 450 ms\n",
            "Wall time: 1min 14s\n",
            "CPU times: user 459 ms, sys: 56.7 ms, total: 516 ms\n",
            "Wall time: 1min 20s\n",
            "CPU times: user 401 ms, sys: 38.9 ms, total: 440 ms\n",
            "Wall time: 1min 12s\n",
            "CPU times: user 434 ms, sys: 45.6 ms, total: 479 ms\n",
            "Wall time: 1min 19s\n",
            "CPU times: user 399 ms, sys: 28 ms, total: 427 ms\n",
            "Wall time: 1min 10s\n",
            "CPU times: user 396 ms, sys: 48 ms, total: 444 ms\n",
            "Wall time: 1min 14s\n",
            "CPU times: user 420 ms, sys: 46.9 ms, total: 467 ms\n",
            "Wall time: 1min 17s\n",
            "CPU times: user 393 ms, sys: 46.6 ms, total: 440 ms\n",
            "Wall time: 1min 12s\n",
            "CPU times: user 443 ms, sys: 54.7 ms, total: 498 ms\n",
            "Wall time: 1min 22s\n",
            "CPU times: user 389 ms, sys: 39 ms, total: 428 ms\n",
            "Wall time: 1min 10s\n",
            "CPU times: user 425 ms, sys: 57.8 ms, total: 483 ms\n",
            "Wall time: 1min 19s\n",
            "CPU times: user 397 ms, sys: 46.8 ms, total: 444 ms\n",
            "Wall time: 1min 12s\n",
            "CPU times: user 405 ms, sys: 48.7 ms, total: 453 ms\n",
            "Wall time: 1min 14s\n",
            "CPU times: user 416 ms, sys: 43.8 ms, total: 460 ms\n",
            "Wall time: 1min 14s\n",
            "CPU times: user 400 ms, sys: 54.8 ms, total: 455 ms\n",
            "Wall time: 1min 14s\n",
            "CPU times: user 416 ms, sys: 36.6 ms, total: 453 ms\n",
            "Wall time: 1min 15s\n",
            "CPU times: user 404 ms, sys: 49.6 ms, total: 453 ms\n",
            "Wall time: 1min 13s\n"
          ]
        }
      ],
      "source": [
        "for i in range(1,33):\n",
        " tempo_resultado= %time benchmark(arquivo)"
      ]
    },
    {
      "cell_type": "markdown",
      "metadata": {
        "id": "5cY0S3LPzfmj"
      },
      "source": [
        "##30 segundos"
      ]
    },
    {
      "cell_type": "markdown",
      "metadata": {
        "id": "uh56_N54g8JL"
      },
      "source": [
        "raster não conseguiu carregar o csv"
      ]
    }
  ]
}