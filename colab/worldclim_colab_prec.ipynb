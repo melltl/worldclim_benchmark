{
  "cells": [
    {
      "cell_type": "markdown",
      "metadata": {
        "id": "view-in-github",
        "colab_type": "text"
      },
      "source": [
        "<a href=\"https://colab.research.google.com/github/melltl/worldclim_benchmark/blob/main/colab/worldclim_colab_prec.ipynb\" target=\"_parent\"><img src=\"https://colab.research.google.com/assets/colab-badge.svg\" alt=\"Open In Colab\"/></a>"
      ]
    },
    {
      "cell_type": "code",
      "execution_count": null,
      "metadata": {
        "id": "rjEDdSktZUqR",
        "colab": {
          "base_uri": "https://localhost:8080/"
        },
        "outputId": "2b0bcb32-1e4b-4b2b-9cd7-c34e1267771f"
      },
      "outputs": [
        {
          "output_type": "stream",
          "name": "stdout",
          "text": [
            "Requirement already satisfied: pyspark in /usr/local/lib/python3.10/dist-packages (3.5.1)\n",
            "Requirement already satisfied: raster2xyz in /usr/local/lib/python3.10/dist-packages (0.1.3)\n",
            "Requirement already satisfied: py4j==0.10.9.7 in /usr/local/lib/python3.10/dist-packages (from pyspark) (0.10.9.7)\n",
            "Requirement already satisfied: numpy in /usr/local/lib/python3.10/dist-packages (from raster2xyz) (1.25.2)\n",
            "Requirement already satisfied: pandas in /usr/local/lib/python3.10/dist-packages (from raster2xyz) (2.0.3)\n",
            "Requirement already satisfied: GDAL in /usr/local/lib/python3.10/dist-packages (from raster2xyz) (3.6.4)\n",
            "Requirement already satisfied: python-dateutil>=2.8.2 in /usr/local/lib/python3.10/dist-packages (from pandas->raster2xyz) (2.8.2)\n",
            "Requirement already satisfied: pytz>=2020.1 in /usr/local/lib/python3.10/dist-packages (from pandas->raster2xyz) (2023.4)\n",
            "Requirement already satisfied: tzdata>=2022.1 in /usr/local/lib/python3.10/dist-packages (from pandas->raster2xyz) (2024.1)\n",
            "Requirement already satisfied: six>=1.5 in /usr/local/lib/python3.10/dist-packages (from python-dateutil>=2.8.2->pandas->raster2xyz) (1.16.0)\n"
          ]
        }
      ],
      "source": [
        " !pip install pyspark raster2xyz"
      ]
    },
    {
      "cell_type": "code",
      "execution_count": null,
      "metadata": {
        "id": "fCznE1DoUSD4"
      },
      "outputs": [],
      "source": [
        "from pyspark.sql import SparkSession\n",
        "import os"
      ]
    },
    {
      "cell_type": "code",
      "execution_count": null,
      "metadata": {
        "id": "gz0q0Xi2UquP"
      },
      "outputs": [],
      "source": [
        "spark=SparkSession.builder \\\n",
        "    .master('local[*]') \\\n",
        "    .getOrCreate()"
      ]
    },
    {
      "cell_type": "code",
      "execution_count": null,
      "metadata": {
        "id": "92xTBB0DcSUX"
      },
      "outputs": [],
      "source": [
        "def benchmark(arquivo):\n",
        "    df = spark.read.format(\"csv\").option(\"header\", True).load(arquivo)\n",
        "    df.write.format(\"noop\").mode(\"overwrite\").save()"
      ]
    },
    {
      "cell_type": "code",
      "execution_count": null,
      "metadata": {
        "id": "6k1E_4a-dAtJ"
      },
      "outputs": [],
      "source": [
        "def file_size(arquivo):\n",
        "  arquivo_tamanho= os.path.getsize(arquivo)\n",
        "  print(f\"\"\"tamanho do arquivo:\n",
        "            {arquivo_tamanho} em bytes\n",
        "            {int(arquivo_tamanho) / 1024 / 1024} em MB\n",
        "            {int(arquivo_tamanho) / 1024 / 1024 / 1024} em GB\"\"\")"
      ]
    },
    {
      "cell_type": "code",
      "execution_count": null,
      "metadata": {
        "id": "pwevZYGWiqvo"
      },
      "outputs": [],
      "source": [
        "def partitions(arquivo):\n",
        "  df = spark.read.format(\"csv\").option(\"header\", True).load(arquivo)\n",
        "  print(f\"Número de partições -> {df.rdd.getNumPartitions()}\")"
      ]
    },
    {
      "cell_type": "markdown",
      "source": [
        "#Precipitação"
      ],
      "metadata": {
        "id": "eUf14h5Bu4_a"
      }
    },
    {
      "cell_type": "markdown",
      "metadata": {
        "id": "AXYlb6yhcZln"
      },
      "source": [
        "##10 min"
      ]
    },
    {
      "cell_type": "code",
      "execution_count": null,
      "metadata": {
        "id": "iCkRXTgQUnom"
      },
      "outputs": [],
      "source": [
        "%%capture\n",
        "!wget https://biogeo.ucdavis.edu/data/worldclim/v2.1/base/wc2.1_10m_prec.zip\n",
        "!unzip -o wc2.1_10m_prec.zip"
      ]
    },
    {
      "cell_type": "code",
      "execution_count": null,
      "metadata": {
        "colab": {
          "base_uri": "https://localhost:8080/"
        },
        "id": "WdBfcY1vV0eP",
        "outputId": "5fbebccc-f91a-494b-ad5e-7c441942380a"
      },
      "outputs": [
        {
          "output_type": "stream",
          "name": "stdout",
          "text": [
            "[2024-05-04 03:50:00 - INFO] - Getting geotransform and data...\n",
            "[2024-05-04 03:50:00 - INFO] - Getting XYZ data...\n",
            "[2024-05-04 03:50:00 - INFO] - Getting geotransformed coordinates...\n",
            "[2024-05-04 03:50:00 - INFO] - Building XYZ data...\n",
            "[2024-05-04 03:50:11 - INFO] - New XYZ (csv file) created...\n"
          ]
        }
      ],
      "source": [
        "!raster2xyz wc2.1_10m_prec_01.tif wc2.1_10m_prec_01.csv"
      ]
    },
    {
      "cell_type": "code",
      "execution_count": null,
      "metadata": {
        "id": "nF1k9r91YemW"
      },
      "outputs": [],
      "source": [
        "arquivo='wc2.1_10m_prec_01.csv'"
      ]
    },
    {
      "cell_type": "code",
      "execution_count": null,
      "metadata": {
        "colab": {
          "base_uri": "https://localhost:8080/"
        },
        "id": "Zrr6_VbJdigj",
        "outputId": "66a001a4-287a-4c84-baea-ddd00b7fb4ab"
      },
      "outputs": [
        {
          "output_type": "stream",
          "name": "stdout",
          "text": [
            "tamanho do arquivo:\n",
            "            82267221 em bytes\n",
            "            78.4561357498169 em MB\n",
            "            0.07661732006818056 em GB\n"
          ]
        }
      ],
      "source": [
        "file_size(arquivo)"
      ]
    },
    {
      "cell_type": "code",
      "execution_count": null,
      "metadata": {
        "colab": {
          "base_uri": "https://localhost:8080/"
        },
        "id": "4xQDKyFqjR4D",
        "outputId": "32dc684b-1ff6-47a6-90b9-ee2dd933a294"
      },
      "outputs": [
        {
          "output_type": "stream",
          "name": "stdout",
          "text": [
            "Número de partições -> 2\n"
          ]
        }
      ],
      "source": [
        "partitions(arquivo)"
      ]
    },
    {
      "cell_type": "code",
      "execution_count": null,
      "metadata": {
        "colab": {
          "base_uri": "https://localhost:8080/"
        },
        "id": "wHFEwO4LYaIR",
        "outputId": "b7eb856f-faf1-41c2-8760-3bb560aecff7"
      },
      "outputs": [
        {
          "output_type": "stream",
          "name": "stdout",
          "text": [
            "CPU times: user 22.9 ms, sys: 5.01 ms, total: 27.9 ms\n",
            "Wall time: 3.6 s\n",
            "CPU times: user 42.6 ms, sys: 2.99 ms, total: 45.6 ms\n",
            "Wall time: 5.89 s\n",
            "CPU times: user 25 ms, sys: 2.49 ms, total: 27.5 ms\n",
            "Wall time: 3.51 s\n",
            "CPU times: user 18.4 ms, sys: 4.27 ms, total: 22.7 ms\n",
            "Wall time: 3.2 s\n",
            "CPU times: user 22.5 ms, sys: 2.06 ms, total: 24.6 ms\n",
            "Wall time: 3.26 s\n",
            "CPU times: user 27.7 ms, sys: 6.25 ms, total: 34 ms\n",
            "Wall time: 5.04 s\n",
            "CPU times: user 25.1 ms, sys: 5.78 ms, total: 30.9 ms\n",
            "Wall time: 3.99 s\n",
            "CPU times: user 22 ms, sys: 834 µs, total: 22.8 ms\n",
            "Wall time: 3.16 s\n",
            "CPU times: user 24.2 ms, sys: 1.61 ms, total: 25.8 ms\n",
            "Wall time: 3.23 s\n",
            "CPU times: user 29.6 ms, sys: 830 µs, total: 30.4 ms\n",
            "Wall time: 4.57 s\n",
            "CPU times: user 31.3 ms, sys: 2.41 ms, total: 33.7 ms\n",
            "Wall time: 4.72 s\n",
            "CPU times: user 20.9 ms, sys: 2.57 ms, total: 23.5 ms\n",
            "Wall time: 3.17 s\n",
            "CPU times: user 21.4 ms, sys: 2.34 ms, total: 23.7 ms\n",
            "Wall time: 3.19 s\n",
            "CPU times: user 24.1 ms, sys: 2.21 ms, total: 26.3 ms\n",
            "Wall time: 3.63 s\n",
            "CPU times: user 32.5 ms, sys: 4.38 ms, total: 36.9 ms\n",
            "Wall time: 5.42 s\n",
            "CPU times: user 22.9 ms, sys: 2.05 ms, total: 24.9 ms\n",
            "Wall time: 3.36 s\n",
            "CPU times: user 20.5 ms, sys: 2.38 ms, total: 22.9 ms\n",
            "Wall time: 3.26 s\n",
            "CPU times: user 25.1 ms, sys: 2.19 ms, total: 27.3 ms\n",
            "Wall time: 3.66 s\n",
            "CPU times: user 35.7 ms, sys: 5.23 ms, total: 41 ms\n",
            "Wall time: 5.64 s\n",
            "CPU times: user 18.1 ms, sys: 4.63 ms, total: 22.7 ms\n",
            "Wall time: 3.22 s\n",
            "CPU times: user 21.6 ms, sys: 4.39 ms, total: 26 ms\n",
            "Wall time: 3.24 s\n",
            "CPU times: user 19.6 ms, sys: 5.05 ms, total: 24.7 ms\n",
            "Wall time: 3.41 s\n",
            "CPU times: user 33.6 ms, sys: 4.82 ms, total: 38.4 ms\n",
            "Wall time: 5.56 s\n",
            "CPU times: user 20.6 ms, sys: 3.4 ms, total: 24 ms\n",
            "Wall time: 3.33 s\n",
            "CPU times: user 21.6 ms, sys: 1.9 ms, total: 23.5 ms\n",
            "Wall time: 3.33 s\n",
            "CPU times: user 20.5 ms, sys: 2.07 ms, total: 22.6 ms\n",
            "Wall time: 3.17 s\n",
            "CPU times: user 32.9 ms, sys: 4.68 ms, total: 37.6 ms\n",
            "Wall time: 5.36 s\n",
            "CPU times: user 25.6 ms, sys: 2.83 ms, total: 28.4 ms\n",
            "Wall time: 3.85 s\n",
            "CPU times: user 23.1 ms, sys: 1.84 ms, total: 24.9 ms\n",
            "Wall time: 3.48 s\n",
            "CPU times: user 22.5 ms, sys: 2.89 ms, total: 25.4 ms\n",
            "Wall time: 3.31 s\n",
            "CPU times: user 37.6 ms, sys: 2.96 ms, total: 40.6 ms\n",
            "Wall time: 5.72 s\n",
            "CPU times: user 23.9 ms, sys: 2.14 ms, total: 26 ms\n",
            "Wall time: 3.52 s\n"
          ]
        }
      ],
      "source": [
        "for i in range(1,33):\n",
        "   %time benchmark(arquivo)\n"
      ]
    },
    {
      "cell_type": "markdown",
      "metadata": {
        "id": "xkTO67DiuX1y"
      },
      "source": [
        "##5 minutos"
      ]
    },
    {
      "cell_type": "code",
      "execution_count": null,
      "metadata": {
        "id": "MHVuUdRGj-Mk",
        "colab": {
          "base_uri": "https://localhost:8080/"
        },
        "outputId": "90027483-2a86-47bf-b77f-71ab84b08bb9"
      },
      "outputs": [
        {
          "output_type": "stream",
          "name": "stdout",
          "text": [
            "--2024-05-04 15:52:18--  https://biogeo.ucdavis.edu/data/worldclim/v2.1/base/wc2.1_5m_prec.zip\n",
            "Resolving biogeo.ucdavis.edu (biogeo.ucdavis.edu)... 128.120.228.172\n",
            "Connecting to biogeo.ucdavis.edu (biogeo.ucdavis.edu)|128.120.228.172|:443... connected.\n",
            "HTTP request sent, awaiting response... 302 Found\n",
            "Location: https://data.biogeo.ucdavis.edu/data/worldclim/v2.1/base/wc2.1_5m_prec.zip [following]\n",
            "--2024-05-04 15:52:18--  https://data.biogeo.ucdavis.edu/data/worldclim/v2.1/base/wc2.1_5m_prec.zip\n",
            "Resolving data.biogeo.ucdavis.edu (data.biogeo.ucdavis.edu)... 128.120.228.172\n",
            "Connecting to data.biogeo.ucdavis.edu (data.biogeo.ucdavis.edu)|128.120.228.172|:443... connected.\n",
            "HTTP request sent, awaiting response... 200 OK\n",
            "Length: 22696275 (22M) [application/zip]\n",
            "Saving to: ‘wc2.1_5m_prec.zip.1’\n",
            "\n",
            "wc2.1_5m_prec.zip.1 100%[===================>]  21.64M  21.3MB/s    in 1.0s    \n",
            "\n",
            "2024-05-04 15:52:20 (21.3 MB/s) - ‘wc2.1_5m_prec.zip.1’ saved [22696275/22696275]\n",
            "\n",
            "Archive:  wc2.1_5m_prec.zip\n",
            "  inflating: wc2.1_5m_prec_01.tif    \n",
            "  inflating: wc2.1_5m_prec_02.tif    \n",
            "  inflating: wc2.1_5m_prec_03.tif    \n",
            "  inflating: wc2.1_5m_prec_04.tif    \n",
            "  inflating: wc2.1_5m_prec_05.tif    \n",
            "  inflating: wc2.1_5m_prec_06.tif    \n",
            "  inflating: wc2.1_5m_prec_07.tif    \n",
            "  inflating: wc2.1_5m_prec_08.tif    \n",
            "  inflating: wc2.1_5m_prec_09.tif    \n",
            "  inflating: wc2.1_5m_prec_10.tif    \n",
            "  inflating: wc2.1_5m_prec_11.tif    \n",
            "  inflating: wc2.1_5m_prec_12.tif    \n",
            "  inflating: readme.txt              \n"
          ]
        }
      ],
      "source": [
        "!wget https://biogeo.ucdavis.edu/data/worldclim/v2.1/base/wc2.1_5m_prec.zip\n",
        "!unzip -o wc2.1_5m_prec.zip"
      ]
    },
    {
      "cell_type": "code",
      "execution_count": null,
      "metadata": {
        "id": "SyDIdYipkH3e",
        "colab": {
          "base_uri": "https://localhost:8080/"
        },
        "outputId": "eb411ba8-2cc0-4cd4-f62b-24376222ed12"
      },
      "outputs": [
        {
          "output_type": "stream",
          "name": "stdout",
          "text": [
            "[2024-05-04 03:52:21 - INFO] - Getting geotransform and data...\n",
            "[2024-05-04 03:52:21 - INFO] - Getting XYZ data...\n",
            "[2024-05-04 03:52:21 - INFO] - Getting geotransformed coordinates...\n",
            "[2024-05-04 03:52:21 - INFO] - Building XYZ data...\n",
            "[2024-05-04 03:53:00 - INFO] - New XYZ (csv file) created...\n"
          ]
        }
      ],
      "source": [
        "!raster2xyz wc2.1_5m_prec_01.tif wc2.1_5m_prec_01.csv"
      ]
    },
    {
      "cell_type": "code",
      "execution_count": null,
      "metadata": {
        "id": "EsVazh3Ov8cT"
      },
      "outputs": [],
      "source": [
        "arquivo='wc2.1_5m_prec_01.csv'"
      ]
    },
    {
      "cell_type": "code",
      "execution_count": null,
      "metadata": {
        "id": "7WfqEECQwDZw",
        "colab": {
          "base_uri": "https://localhost:8080/"
        },
        "outputId": "278fdba8-d87e-4d3a-bb09-38b912acefe5"
      },
      "outputs": [
        {
          "output_type": "stream",
          "name": "stdout",
          "text": [
            "tamanho do arquivo:\n",
            "            335541512 em bytes\n",
            "            319.99732208251953 em MB\n",
            "            0.3124973848462105 em GB\n"
          ]
        }
      ],
      "source": [
        "file_size(arquivo)"
      ]
    },
    {
      "cell_type": "code",
      "execution_count": null,
      "metadata": {
        "id": "onbeNrrDwGRg",
        "colab": {
          "base_uri": "https://localhost:8080/"
        },
        "outputId": "74704959-c44d-4ed8-f175-76491755ab9a"
      },
      "outputs": [
        {
          "output_type": "stream",
          "name": "stdout",
          "text": [
            "Número de partições -> 3\n"
          ]
        }
      ],
      "source": [
        "partitions(arquivo)"
      ]
    },
    {
      "cell_type": "code",
      "execution_count": null,
      "metadata": {
        "id": "Uury6xftwHjD",
        "colab": {
          "base_uri": "https://localhost:8080/"
        },
        "outputId": "69e644b9-c9fe-434c-9d18-9dbb2c9df05a"
      },
      "outputs": [
        {
          "output_type": "stream",
          "name": "stdout",
          "text": [
            "CPU times: user 86.4 ms, sys: 12.4 ms, total: 98.8 ms\n",
            "Wall time: 14.5 s\n",
            "CPU times: user 82.2 ms, sys: 7.74 ms, total: 90 ms\n",
            "Wall time: 14.3 s\n",
            "CPU times: user 82.5 ms, sys: 8.75 ms, total: 91.3 ms\n",
            "Wall time: 14.6 s\n",
            "CPU times: user 86.5 ms, sys: 3.65 ms, total: 90.2 ms\n",
            "Wall time: 14.2 s\n",
            "CPU times: user 87.4 ms, sys: 6.57 ms, total: 94 ms\n",
            "Wall time: 15.1 s\n",
            "CPU times: user 83 ms, sys: 13.1 ms, total: 96.1 ms\n",
            "Wall time: 15 s\n",
            "CPU times: user 83.9 ms, sys: 10.7 ms, total: 94.7 ms\n",
            "Wall time: 15.1 s\n",
            "CPU times: user 83.2 ms, sys: 11.3 ms, total: 94.4 ms\n",
            "Wall time: 15.1 s\n",
            "CPU times: user 83.5 ms, sys: 9.43 ms, total: 92.9 ms\n",
            "Wall time: 15.1 s\n",
            "CPU times: user 86.1 ms, sys: 7.64 ms, total: 93.8 ms\n",
            "Wall time: 15.1 s\n",
            "CPU times: user 87.9 ms, sys: 6.79 ms, total: 94.6 ms\n",
            "Wall time: 15.2 s\n",
            "CPU times: user 83.6 ms, sys: 9.41 ms, total: 93 ms\n",
            "Wall time: 14.9 s\n",
            "CPU times: user 101 ms, sys: 10.9 ms, total: 112 ms\n",
            "Wall time: 17.9 s\n",
            "CPU times: user 85.2 ms, sys: 8 ms, total: 93.2 ms\n",
            "Wall time: 15.1 s\n",
            "CPU times: user 79.8 ms, sys: 8.8 ms, total: 88.6 ms\n",
            "Wall time: 14.6 s\n",
            "CPU times: user 83.2 ms, sys: 10.8 ms, total: 93.9 ms\n",
            "Wall time: 14.1 s\n",
            "CPU times: user 81.7 ms, sys: 7.51 ms, total: 89.2 ms\n",
            "Wall time: 14.1 s\n",
            "CPU times: user 86.3 ms, sys: 3.14 ms, total: 89.4 ms\n",
            "Wall time: 14 s\n",
            "CPU times: user 83.6 ms, sys: 10.1 ms, total: 93.7 ms\n",
            "Wall time: 15 s\n",
            "CPU times: user 84 ms, sys: 7.82 ms, total: 91.8 ms\n",
            "Wall time: 14.9 s\n",
            "CPU times: user 84.4 ms, sys: 10.7 ms, total: 95.1 ms\n",
            "Wall time: 15 s\n",
            "CPU times: user 89.3 ms, sys: 5.71 ms, total: 95 ms\n",
            "Wall time: 15 s\n",
            "CPU times: user 80.8 ms, sys: 8.94 ms, total: 89.7 ms\n",
            "Wall time: 14.9 s\n",
            "CPU times: user 82.7 ms, sys: 10.1 ms, total: 92.9 ms\n",
            "Wall time: 14.9 s\n",
            "CPU times: user 85.2 ms, sys: 8.36 ms, total: 93.6 ms\n",
            "Wall time: 14.9 s\n",
            "CPU times: user 97.8 ms, sys: 11.8 ms, total: 110 ms\n",
            "Wall time: 17.8 s\n",
            "CPU times: user 89.2 ms, sys: 4.53 ms, total: 93.7 ms\n",
            "Wall time: 14.9 s\n",
            "CPU times: user 83 ms, sys: 9.89 ms, total: 92.9 ms\n",
            "Wall time: 14.5 s\n",
            "CPU times: user 83.9 ms, sys: 8.3 ms, total: 92.2 ms\n",
            "Wall time: 14.3 s\n",
            "CPU times: user 82.4 ms, sys: 7.5 ms, total: 89.9 ms\n",
            "Wall time: 14.2 s\n",
            "CPU times: user 84.7 ms, sys: 6.02 ms, total: 90.7 ms\n",
            "Wall time: 14.1 s\n",
            "CPU times: user 82.3 ms, sys: 12.6 ms, total: 94.9 ms\n",
            "Wall time: 15.2 s\n"
          ]
        }
      ],
      "source": [
        "for i in range(1,33):\n",
        "  %time benchmark(arquivo)"
      ]
    },
    {
      "cell_type": "markdown",
      "metadata": {
        "id": "Qqg_jenLcjBl"
      },
      "source": [
        "##2.5 minutos"
      ]
    },
    {
      "cell_type": "code",
      "execution_count": null,
      "metadata": {
        "id": "PJ9zdiXTZfuw",
        "colab": {
          "base_uri": "https://localhost:8080/"
        },
        "outputId": "dafdd54d-5122-4cc1-e278-d10617f40713"
      },
      "outputs": [
        {
          "output_type": "stream",
          "name": "stdout",
          "text": [
            "--2024-05-04 16:00:58--  https://biogeo.ucdavis.edu/data/worldclim/v2.1/base/wc2.1_2.5m_prec.zip\n",
            "Resolving biogeo.ucdavis.edu (biogeo.ucdavis.edu)... 128.120.228.172\n",
            "Connecting to biogeo.ucdavis.edu (biogeo.ucdavis.edu)|128.120.228.172|:443... connected.\n",
            "HTTP request sent, awaiting response... 302 Found\n",
            "Location: https://data.biogeo.ucdavis.edu/data/worldclim/v2.1/base/wc2.1_2.5m_prec.zip [following]\n",
            "--2024-05-04 16:00:59--  https://data.biogeo.ucdavis.edu/data/worldclim/v2.1/base/wc2.1_2.5m_prec.zip\n",
            "Resolving data.biogeo.ucdavis.edu (data.biogeo.ucdavis.edu)... 128.120.228.172\n",
            "Connecting to data.biogeo.ucdavis.edu (data.biogeo.ucdavis.edu)|128.120.228.172|:443... connected.\n",
            "HTTP request sent, awaiting response... 200 OK\n",
            "Length: 71780834 (68M) [application/zip]\n",
            "Saving to: ‘wc2.1_2.5m_prec.zip’\n",
            "\n",
            "wc2.1_2.5m_prec.zip 100%[===================>]  68.46M  28.7MB/s    in 2.4s    \n",
            "\n",
            "2024-05-04 16:01:02 (28.7 MB/s) - ‘wc2.1_2.5m_prec.zip’ saved [71780834/71780834]\n",
            "\n",
            "Archive:  wc2.1_2.5m_prec.zip\n",
            "  inflating: wc2.1_2.5m_prec_01.tif  \n",
            "  inflating: wc2.1_2.5m_prec_02.tif  \n",
            "  inflating: wc2.1_2.5m_prec_03.tif  \n",
            "  inflating: wc2.1_2.5m_prec_04.tif  \n",
            "  inflating: wc2.1_2.5m_prec_05.tif  \n",
            "  inflating: wc2.1_2.5m_prec_06.tif  \n",
            "  inflating: wc2.1_2.5m_prec_07.tif  \n",
            "  inflating: wc2.1_2.5m_prec_08.tif  \n",
            "  inflating: wc2.1_2.5m_prec_09.tif  \n",
            "  inflating: wc2.1_2.5m_prec_10.tif  \n",
            "  inflating: wc2.1_2.5m_prec_11.tif  \n",
            "  inflating: wc2.1_2.5m_prec_12.tif  \n",
            "  inflating: readme.txt              \n"
          ]
        }
      ],
      "source": [
        "!wget https://biogeo.ucdavis.edu/data/worldclim/v2.1/base/wc2.1_2.5m_prec.zip\n",
        "!unzip -o wc2.1_2.5m_prec.zip"
      ]
    },
    {
      "cell_type": "code",
      "execution_count": null,
      "metadata": {
        "id": "KjBJ05FCZ4Lh",
        "colab": {
          "base_uri": "https://localhost:8080/"
        },
        "outputId": "2ba6b67f-957f-4d4f-f40a-c110a7318ba0"
      },
      "outputs": [
        {
          "output_type": "stream",
          "name": "stdout",
          "text": [
            "[2024-05-04 04:01:05 - INFO] - Getting geotransform and data...\n",
            "[2024-05-04 04:01:05 - INFO] - Getting XYZ data...\n",
            "[2024-05-04 04:01:06 - INFO] - Getting geotransformed coordinates...\n",
            "[2024-05-04 04:01:07 - INFO] - Building XYZ data...\n",
            "[2024-05-04 04:03:38 - INFO] - New XYZ (csv file) created...\n"
          ]
        }
      ],
      "source": [
        "!raster2xyz wc2.1_2.5m_prec_01.tif wc2.1_2.5m_prec_01.csv"
      ]
    },
    {
      "cell_type": "code",
      "execution_count": null,
      "metadata": {
        "id": "n_47QN61aUR5"
      },
      "outputs": [],
      "source": [
        "arquivo='wc2.1_2.5m_prec_01.csv'"
      ]
    },
    {
      "cell_type": "code",
      "execution_count": null,
      "metadata": {
        "id": "xtjlodQ5lM6v",
        "colab": {
          "base_uri": "https://localhost:8080/"
        },
        "outputId": "23f7d86f-9844-4bea-c0c0-7c1bcb3a498d"
      },
      "outputs": [
        {
          "output_type": "stream",
          "name": "stdout",
          "text": [
            "tamanho do arquivo:\n",
            "            1367635699 em bytes\n",
            "            1304.279040336609 em MB\n",
            "            1.2737100003287196 em GB\n"
          ]
        }
      ],
      "source": [
        "file_size(arquivo)"
      ]
    },
    {
      "cell_type": "code",
      "execution_count": null,
      "metadata": {
        "id": "045rmf5nlWVO",
        "colab": {
          "base_uri": "https://localhost:8080/"
        },
        "outputId": "7203a9f5-6f7b-4e30-bbe7-28405100d0bb"
      },
      "outputs": [
        {
          "output_type": "stream",
          "name": "stdout",
          "text": [
            "Número de partições -> 11\n"
          ]
        }
      ],
      "source": [
        "partitions(arquivo)"
      ]
    },
    {
      "cell_type": "code",
      "execution_count": null,
      "metadata": {
        "id": "exkKFjcIbPQN",
        "colab": {
          "base_uri": "https://localhost:8080/"
        },
        "outputId": "1f58f171-68b3-4143-fcee-d61f779c60de"
      },
      "outputs": [
        {
          "output_type": "stream",
          "name": "stdout",
          "text": [
            "CPU times: user 375 ms, sys: 36.6 ms, total: 411 ms\n",
            "Wall time: 1min 7s\n",
            "CPU times: user 365 ms, sys: 27.1 ms, total: 392 ms\n",
            "Wall time: 1min 4s\n",
            "CPU times: user 400 ms, sys: 41.8 ms, total: 442 ms\n",
            "Wall time: 1min 13s\n",
            "CPU times: user 348 ms, sys: 32.7 ms, total: 381 ms\n",
            "Wall time: 1min 2s\n",
            "CPU times: user 408 ms, sys: 30.5 ms, total: 439 ms\n",
            "Wall time: 1min 12s\n",
            "CPU times: user 357 ms, sys: 40 ms, total: 398 ms\n",
            "Wall time: 1min 6s\n",
            "CPU times: user 373 ms, sys: 47 ms, total: 420 ms\n",
            "Wall time: 1min 8s\n",
            "CPU times: user 422 ms, sys: 41 ms, total: 463 ms\n",
            "Wall time: 1min 15s\n",
            "CPU times: user 390 ms, sys: 35.8 ms, total: 426 ms\n",
            "Wall time: 1min 6s\n",
            "CPU times: user 370 ms, sys: 30.7 ms, total: 400 ms\n",
            "Wall time: 1min 6s\n",
            "CPU times: user 385 ms, sys: 38.3 ms, total: 424 ms\n",
            "Wall time: 1min 10s\n",
            "CPU times: user 376 ms, sys: 33 ms, total: 409 ms\n",
            "Wall time: 1min 7s\n",
            "CPU times: user 369 ms, sys: 40.8 ms, total: 410 ms\n",
            "Wall time: 1min 7s\n",
            "CPU times: user 394 ms, sys: 29.2 ms, total: 423 ms\n",
            "Wall time: 1min 10s\n",
            "CPU times: user 369 ms, sys: 37.1 ms, total: 406 ms\n",
            "Wall time: 1min 7s\n",
            "CPU times: user 339 ms, sys: 36.8 ms, total: 376 ms\n",
            "Wall time: 1min 2s\n",
            "CPU times: user 417 ms, sys: 45.6 ms, total: 463 ms\n",
            "Wall time: 1min 16s\n",
            "CPU times: user 419 ms, sys: 40.4 ms, total: 459 ms\n",
            "Wall time: 1min 12s\n",
            "CPU times: user 359 ms, sys: 45.7 ms, total: 404 ms\n",
            "Wall time: 1min 6s\n",
            "CPU times: user 402 ms, sys: 29.9 ms, total: 431 ms\n",
            "Wall time: 1min 11s\n",
            "CPU times: user 348 ms, sys: 39.8 ms, total: 388 ms\n",
            "Wall time: 1min 4s\n",
            "CPU times: user 403 ms, sys: 41.7 ms, total: 445 ms\n",
            "Wall time: 1min 13s\n",
            "CPU times: user 357 ms, sys: 33.9 ms, total: 391 ms\n",
            "Wall time: 1min 5s\n",
            "CPU times: user 348 ms, sys: 49.6 ms, total: 397 ms\n",
            "Wall time: 1min 5s\n",
            "CPU times: user 416 ms, sys: 31.7 ms, total: 448 ms\n",
            "Wall time: 1min 14s\n",
            "CPU times: user 354 ms, sys: 31.9 ms, total: 386 ms\n",
            "Wall time: 1min 3s\n",
            "CPU times: user 380 ms, sys: 35.4 ms, total: 415 ms\n",
            "Wall time: 1min 9s\n",
            "CPU times: user 419 ms, sys: 41.4 ms, total: 461 ms\n",
            "Wall time: 1min 16s\n",
            "CPU times: user 327 ms, sys: 45.4 ms, total: 373 ms\n",
            "Wall time: 1min 3s\n",
            "CPU times: user 372 ms, sys: 36 ms, total: 408 ms\n",
            "Wall time: 1min 7s\n",
            "CPU times: user 381 ms, sys: 48.6 ms, total: 430 ms\n",
            "Wall time: 1min 11s\n",
            "CPU times: user 361 ms, sys: 40.5 ms, total: 402 ms\n",
            "Wall time: 1min 6s\n"
          ]
        }
      ],
      "source": [
        "for i in range(1,33):\n",
        "   %time benchmark(arquivo)"
      ]
    },
    {
      "cell_type": "markdown",
      "metadata": {
        "id": "5cY0S3LPzfmj"
      },
      "source": [
        "##30 segundos"
      ]
    },
    {
      "cell_type": "markdown",
      "metadata": {
        "id": "uh56_N54g8JL"
      },
      "source": [
        "raster não conseguiu carregar o csv"
      ]
    },
    {
      "cell_type": "code",
      "execution_count": null,
      "metadata": {
        "id": "9j5dXEk6kUqi"
      },
      "outputs": [],
      "source": [
        "%%capture\n",
        "!wget https://biogeo.ucdavis.edu/data/worldclim/v2.1/base/wc2.1_30s_prec.zip\n"
      ]
    },
    {
      "cell_type": "code",
      "execution_count": null,
      "metadata": {
        "id": "K1BFYOln09BG",
        "colab": {
          "base_uri": "https://localhost:8080/"
        },
        "outputId": "5f7eadc0-6322-4316-cdb2-791285d54c7b"
      },
      "outputs": [
        {
          "output_type": "stream",
          "name": "stdout",
          "text": [
            "Archive:  wc2.1_30s_prec.zip\n",
            "  inflating: wc2.1_30s_prec_01.tif   \n",
            "  inflating: wc2.1_30s_prec_02.tif   \n",
            "  inflating: wc2.1_30s_prec_03.tif   \n",
            "  inflating: wc2.1_30s_prec_04.tif   \n",
            "  inflating: wc2.1_30s_prec_05.tif   \n",
            "  inflating: wc2.1_30s_prec_06.tif   \n",
            "  inflating: wc2.1_30s_prec_07.tif   \n",
            "  inflating: wc2.1_30s_prec_08.tif   \n",
            "  inflating: wc2.1_30s_prec_09.tif   \n",
            "  inflating: wc2.1_30s_prec_10.tif   \n",
            "  inflating: wc2.1_30s_prec_11.tif   \n",
            "  inflating: wc2.1_30s_prec_12.tif   \n",
            "  inflating: readme.txt              \n"
          ]
        }
      ],
      "source": [
        "!unzip -o wc2.1_30s_prec.zip"
      ]
    },
    {
      "cell_type": "code",
      "execution_count": null,
      "metadata": {
        "id": "8CjcuJe1zkLE",
        "colab": {
          "base_uri": "https://localhost:8080/"
        },
        "outputId": "47d1e347-27a8-404f-e283-8730e7cad596"
      },
      "outputs": [
        {
          "output_type": "stream",
          "name": "stdout",
          "text": [
            "[2024-05-04 04:41:12 - INFO] - Getting geotransform and data...\n",
            "[2024-05-04 04:41:19 - INFO] - Getting XYZ data...\n",
            "^C\n"
          ]
        }
      ],
      "source": [
        "!raster2xyz wc2.1_30s_prec_01.tif wc2.1_30s_prec_01.csv"
      ]
    },
    {
      "cell_type": "code",
      "execution_count": null,
      "metadata": {
        "id": "PkJcJ91E1A8E"
      },
      "outputs": [],
      "source": [
        "arquivo='wc2.1_30s_tmin_01.csv'"
      ]
    }
  ],
  "metadata": {
    "colab": {
      "provenance": [],
      "authorship_tag": "ABX9TyNwdf5xBRHdL2YHdZAZ0Mx5",
      "include_colab_link": true
    },
    "kernelspec": {
      "display_name": "Python 3",
      "name": "python3"
    },
    "language_info": {
      "name": "python"
    }
  },
  "nbformat": 4,
  "nbformat_minor": 0
}