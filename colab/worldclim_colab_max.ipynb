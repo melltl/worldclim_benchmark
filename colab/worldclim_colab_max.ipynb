{
  "nbformat": 4,
  "nbformat_minor": 0,
  "metadata": {
    "colab": {
      "provenance": [],
      "authorship_tag": "ABX9TyPnf+xPWPPnp7VI4Jjd61vI"
    },
    "kernelspec": {
      "name": "python3",
      "display_name": "Python 3"
    },
    "language_info": {
      "name": "python"
    }
  },
  "cells": [
    {
      "cell_type": "markdown",
      "source": [
        "#Preparando o ambiente\n"
      ],
      "metadata": {
        "id": "CnwZDa7zE_4j"
      }
    },
    {
      "cell_type": "code",
      "execution_count": 1,
      "metadata": {
        "colab": {
          "base_uri": "https://localhost:8080/"
        },
        "id": "rjEDdSktZUqR",
        "outputId": "f21d363f-17f9-43e3-8316-a09b0a611215"
      },
      "outputs": [
        {
          "output_type": "stream",
          "name": "stdout",
          "text": [
            "Collecting pyspark\n",
            "  Downloading pyspark-3.5.1.tar.gz (317.0 MB)\n",
            "\u001b[2K     \u001b[90m━━━━━━━━━━━━━━━━━━━━━━━━━━━━━━━━━━━━━━━━\u001b[0m \u001b[32m317.0/317.0 MB\u001b[0m \u001b[31m2.3 MB/s\u001b[0m eta \u001b[36m0:00:00\u001b[0m\n",
            "\u001b[?25h  Preparing metadata (setup.py) ... \u001b[?25l\u001b[?25hdone\n",
            "Collecting raster2xyz\n",
            "  Downloading raster2xyz-0.1.3.tar.gz (4.1 kB)\n",
            "  Preparing metadata (setup.py) ... \u001b[?25l\u001b[?25hdone\n",
            "Requirement already satisfied: py4j==0.10.9.7 in /usr/local/lib/python3.10/dist-packages (from pyspark) (0.10.9.7)\n",
            "Requirement already satisfied: numpy in /usr/local/lib/python3.10/dist-packages (from raster2xyz) (1.25.2)\n",
            "Requirement already satisfied: pandas in /usr/local/lib/python3.10/dist-packages (from raster2xyz) (2.0.3)\n",
            "Requirement already satisfied: GDAL in /usr/local/lib/python3.10/dist-packages (from raster2xyz) (3.6.4)\n",
            "Requirement already satisfied: python-dateutil>=2.8.2 in /usr/local/lib/python3.10/dist-packages (from pandas->raster2xyz) (2.8.2)\n",
            "Requirement already satisfied: pytz>=2020.1 in /usr/local/lib/python3.10/dist-packages (from pandas->raster2xyz) (2023.4)\n",
            "Requirement already satisfied: tzdata>=2022.1 in /usr/local/lib/python3.10/dist-packages (from pandas->raster2xyz) (2024.1)\n",
            "Requirement already satisfied: six>=1.5 in /usr/local/lib/python3.10/dist-packages (from python-dateutil>=2.8.2->pandas->raster2xyz) (1.16.0)\n",
            "Building wheels for collected packages: pyspark, raster2xyz\n",
            "  Building wheel for pyspark (setup.py) ... \u001b[?25l\u001b[?25hdone\n",
            "  Created wheel for pyspark: filename=pyspark-3.5.1-py2.py3-none-any.whl size=317488491 sha256=96eefc9ea370270144812201cf875fecc5a570ace47db02137a11ba8f7d29286\n",
            "  Stored in directory: /root/.cache/pip/wheels/80/1d/60/2c256ed38dddce2fdd93be545214a63e02fbd8d74fb0b7f3a6\n",
            "  Building wheel for raster2xyz (setup.py) ... \u001b[?25l\u001b[?25hdone\n",
            "  Created wheel for raster2xyz: filename=raster2xyz-0.1.3-py3-none-any.whl size=5946 sha256=9afacd17ddf732d2e9e8f5380d1ce0f8c4575346eea48dec176e233604fe2562\n",
            "  Stored in directory: /root/.cache/pip/wheels/ef/5e/51/6df10cfc8d97148b3f46dd034ff2d748748d3b70ec53fbee69\n",
            "Successfully built pyspark raster2xyz\n",
            "Installing collected packages: pyspark, raster2xyz\n",
            "Successfully installed pyspark-3.5.1 raster2xyz-0.1.3\n"
          ]
        }
      ],
      "source": [
        "!pip install pyspark raster2xyz"
      ]
    },
    {
      "cell_type": "code",
      "execution_count": 2,
      "metadata": {
        "id": "fCznE1DoUSD4"
      },
      "outputs": [],
      "source": [
        "from pyspark.sql import SparkSession\n",
        "import os"
      ]
    },
    {
      "cell_type": "code",
      "execution_count": 3,
      "metadata": {
        "id": "gz0q0Xi2UquP"
      },
      "outputs": [],
      "source": [
        "spark=SparkSession.builder \\\n",
        "    .master('local[*]') \\\n",
        "    .getOrCreate()"
      ]
    },
    {
      "cell_type": "code",
      "execution_count": 4,
      "metadata": {
        "id": "92xTBB0DcSUX"
      },
      "outputs": [],
      "source": [
        "def benchmark(arquivo):\n",
        "    df = spark.read.format(\"csv\").option(\"header\", True).load(arquivo)\n",
        "    df.write.format(\"noop\").mode(\"overwrite\").save()"
      ]
    },
    {
      "cell_type": "code",
      "execution_count": 5,
      "metadata": {
        "id": "6k1E_4a-dAtJ"
      },
      "outputs": [],
      "source": [
        "def file_size(arquivo):\n",
        "  arquivo_tamanho= os.path.getsize(arquivo)\n",
        "  print(f\"\"\"tamanho do arquivo:\n",
        "            {arquivo_tamanho} em bytes\n",
        "            {int(arquivo_tamanho) / 1024 / 1024} em MB\n",
        "            {int(arquivo_tamanho) / 1024 / 1024 / 1024} em GB\"\"\")"
      ]
    },
    {
      "cell_type": "code",
      "execution_count": 6,
      "metadata": {
        "id": "pwevZYGWiqvo"
      },
      "outputs": [],
      "source": [
        "def partitions(arquivo):\n",
        "  df = spark.read.format(\"csv\").option(\"header\", True).load(arquivo)\n",
        "  print(f\"Número de partições -> {df.rdd.getNumPartitions()}\")"
      ]
    },
    {
      "cell_type": "markdown",
      "source": [
        "#Temperatura máxima"
      ],
      "metadata": {
        "id": "eUf14h5Bu4_a"
      }
    },
    {
      "cell_type": "markdown",
      "metadata": {
        "id": "AXYlb6yhcZln"
      },
      "source": [
        "##10 min"
      ]
    },
    {
      "cell_type": "code",
      "execution_count": 7,
      "metadata": {
        "id": "iCkRXTgQUnom"
      },
      "outputs": [],
      "source": [
        "%%capture\n",
        "!wget https://biogeo.ucdavis.edu/data/worldclim/v2.1/base/wc2.1_10m_tmax.zip\n",
        "!unzip -o wc2.1_10m_tmax.zip"
      ]
    },
    {
      "cell_type": "code",
      "execution_count": 8,
      "metadata": {
        "colab": {
          "base_uri": "https://localhost:8080/"
        },
        "id": "WdBfcY1vV0eP",
        "outputId": "c943eee0-52d1-45e2-acca-2b07d26f1671"
      },
      "outputs": [
        {
          "output_type": "stream",
          "name": "stdout",
          "text": [
            "[2024-05-04 04:47:06 - INFO] - Getting geotransform and data...\n",
            "[2024-05-04 04:47:06 - INFO] - Getting XYZ data...\n",
            "[2024-05-04 04:47:07 - INFO] - Getting geotransformed coordinates...\n",
            "[2024-05-04 04:47:07 - INFO] - Building XYZ data...\n",
            "[2024-05-04 04:47:17 - INFO] - New XYZ (csv file) created...\n"
          ]
        }
      ],
      "source": [
        "!raster2xyz wc2.1_10m_tmax_01.tif wc2.1_10m_tmax_01.csv"
      ]
    },
    {
      "cell_type": "code",
      "execution_count": 9,
      "metadata": {
        "id": "nF1k9r91YemW"
      },
      "outputs": [],
      "source": [
        "arquivo='wc2.1_10m_tmax_01.csv'"
      ]
    },
    {
      "cell_type": "code",
      "execution_count": 10,
      "metadata": {
        "colab": {
          "base_uri": "https://localhost:8080/"
        },
        "id": "Zrr6_VbJdigj",
        "outputId": "ab554f99-1274-4ebd-d121-e5e237dc5b0f"
      },
      "outputs": [
        {
          "output_type": "stream",
          "name": "stdout",
          "text": [
            "tamanho do arquivo:\n",
            "            90256450 em bytes\n",
            "            86.07525825500488 em MB\n",
            "            0.0840578693896532 em GB\n"
          ]
        }
      ],
      "source": [
        "file_size(arquivo)"
      ]
    },
    {
      "cell_type": "code",
      "execution_count": 11,
      "metadata": {
        "colab": {
          "base_uri": "https://localhost:8080/"
        },
        "id": "4xQDKyFqjR4D",
        "outputId": "a9876ce1-7174-44f0-d22a-914607395948"
      },
      "outputs": [
        {
          "output_type": "stream",
          "name": "stdout",
          "text": [
            "Número de partições -> 2\n"
          ]
        }
      ],
      "source": [
        "partitions(arquivo)"
      ]
    },
    {
      "cell_type": "code",
      "execution_count": null,
      "metadata": {
        "id": "wHFEwO4LYaIR"
      },
      "outputs": [],
      "source": [
        "for i in range(1,33):\n",
        " tempo=%time benchmark(arquivo)\n",
        " tempo"
      ]
    },
    {
      "cell_type": "code",
      "source": [
        "print(tempo)"
      ],
      "metadata": {
        "colab": {
          "base_uri": "https://localhost:8080/"
        },
        "id": "0g1gVHnArr51",
        "outputId": "8c104fd0-495a-4e2d-b22a-b9d1f767b075"
      },
      "execution_count": 13,
      "outputs": [
        {
          "output_type": "stream",
          "name": "stdout",
          "text": [
            "None\n"
          ]
        }
      ]
    },
    {
      "cell_type": "markdown",
      "metadata": {
        "id": "xkTO67DiuX1y"
      },
      "source": [
        "##5 minutos"
      ]
    },
    {
      "cell_type": "code",
      "execution_count": 14,
      "metadata": {
        "colab": {
          "base_uri": "https://localhost:8080/"
        },
        "id": "MHVuUdRGj-Mk",
        "outputId": "fe8ca720-d693-4646-c5cb-8476fba3a0c8"
      },
      "outputs": [
        {
          "output_type": "stream",
          "name": "stdout",
          "text": [
            "--2024-05-04 16:47:43--  https://biogeo.ucdavis.edu/data/worldclim/v2.1/base/wc2.1_5m_tmax.zip\n",
            "Resolving biogeo.ucdavis.edu (biogeo.ucdavis.edu)... 128.120.228.172\n",
            "Connecting to biogeo.ucdavis.edu (biogeo.ucdavis.edu)|128.120.228.172|:443... connected.\n",
            "HTTP request sent, awaiting response... 302 Found\n",
            "Location: https://data.biogeo.ucdavis.edu/data/worldclim/v2.1/base/wc2.1_5m_tmax.zip [following]\n",
            "--2024-05-04 16:47:44--  https://data.biogeo.ucdavis.edu/data/worldclim/v2.1/base/wc2.1_5m_tmax.zip\n",
            "Resolving data.biogeo.ucdavis.edu (data.biogeo.ucdavis.edu)... 128.120.228.172\n",
            "Connecting to data.biogeo.ucdavis.edu (data.biogeo.ucdavis.edu)|128.120.228.172|:443... connected.\n",
            "HTTP request sent, awaiting response... 200 OK\n",
            "Length: 126715801 (121M) [application/zip]\n",
            "Saving to: ‘wc2.1_5m_tmax.zip’\n",
            "\n",
            "wc2.1_5m_tmax.zip   100%[===================>] 120.84M  39.1MB/s    in 3.5s    \n",
            "\n",
            "2024-05-04 16:47:48 (34.5 MB/s) - ‘wc2.1_5m_tmax.zip’ saved [126715801/126715801]\n",
            "\n",
            "Archive:  wc2.1_5m_tmax.zip\n",
            "  inflating: wc2.1_5m_tmax_01.tif    \n",
            "  inflating: wc2.1_5m_tmax_02.tif    \n",
            "  inflating: wc2.1_5m_tmax_03.tif    \n",
            "  inflating: wc2.1_5m_tmax_04.tif    \n",
            "  inflating: wc2.1_5m_tmax_05.tif    \n",
            "  inflating: wc2.1_5m_tmax_06.tif    \n",
            "  inflating: wc2.1_5m_tmax_07.tif    \n",
            "  inflating: wc2.1_5m_tmax_08.tif    \n",
            "  inflating: wc2.1_5m_tmax_09.tif    \n",
            "  inflating: wc2.1_5m_tmax_10.tif    \n",
            "  inflating: wc2.1_5m_tmax_11.tif    \n",
            "  inflating: wc2.1_5m_tmax_12.tif    \n"
          ]
        }
      ],
      "source": [
        "!wget https://biogeo.ucdavis.edu/data/worldclim/v2.1/base/wc2.1_5m_tmax.zip\n",
        "!unzip -o wc2.1_5m_tmax.zip"
      ]
    },
    {
      "cell_type": "code",
      "execution_count": 15,
      "metadata": {
        "colab": {
          "base_uri": "https://localhost:8080/"
        },
        "id": "SyDIdYipkH3e",
        "outputId": "63f6958b-855e-4d40-a943-937e7714e750"
      },
      "outputs": [
        {
          "output_type": "stream",
          "name": "stdout",
          "text": [
            "[2024-05-04 04:47:50 - INFO] - Getting geotransform and data...\n",
            "[2024-05-04 04:47:50 - INFO] - Getting XYZ data...\n",
            "[2024-05-04 04:47:51 - INFO] - Getting geotransformed coordinates...\n",
            "[2024-05-04 04:47:51 - INFO] - Building XYZ data...\n",
            "[2024-05-04 04:48:30 - INFO] - New XYZ (csv file) created...\n"
          ]
        }
      ],
      "source": [
        "!raster2xyz wc2.1_5m_tmax_01.tif wc2.1_5m_tmax_01.csv"
      ]
    },
    {
      "cell_type": "code",
      "execution_count": 16,
      "metadata": {
        "id": "EsVazh3Ov8cT"
      },
      "outputs": [],
      "source": [
        "arquivo='wc2.1_5m_tmax_01.csv'"
      ]
    },
    {
      "cell_type": "code",
      "execution_count": 17,
      "metadata": {
        "id": "7WfqEECQwDZw",
        "colab": {
          "base_uri": "https://localhost:8080/"
        },
        "outputId": "c4958e97-8023-4b9f-fced-158af799569f"
      },
      "outputs": [
        {
          "output_type": "stream",
          "name": "stdout",
          "text": [
            "tamanho do arquivo:\n",
            "            363351443 em bytes\n",
            "            346.5189390182495 em MB\n",
            "            0.3383974013850093 em GB\n"
          ]
        }
      ],
      "source": [
        "file_size(arquivo)"
      ]
    },
    {
      "cell_type": "code",
      "execution_count": 18,
      "metadata": {
        "id": "onbeNrrDwGRg",
        "colab": {
          "base_uri": "https://localhost:8080/"
        },
        "outputId": "dad6cdb2-a453-4e3b-a7a0-0a87a44b8ff1"
      },
      "outputs": [
        {
          "output_type": "stream",
          "name": "stdout",
          "text": [
            "Número de partições -> 3\n"
          ]
        }
      ],
      "source": [
        "partitions(arquivo)"
      ]
    },
    {
      "cell_type": "code",
      "execution_count": 19,
      "metadata": {
        "id": "Uury6xftwHjD",
        "colab": {
          "base_uri": "https://localhost:8080/"
        },
        "outputId": "631d652a-c084-4966-c5e8-4d3738b21859"
      },
      "outputs": [
        {
          "output_type": "stream",
          "name": "stdout",
          "text": [
            "CPU times: user 96.8 ms, sys: 10.9 ms, total: 108 ms\n",
            "Wall time: 15.5 s\n",
            "CPU times: user 92.6 ms, sys: 7.51 ms, total: 100 ms\n",
            "Wall time: 15.5 s\n",
            "CPU times: user 89.1 ms, sys: 7.33 ms, total: 96.4 ms\n",
            "Wall time: 15.2 s\n",
            "CPU times: user 80.7 ms, sys: 11.6 ms, total: 92.3 ms\n",
            "Wall time: 14.8 s\n",
            "CPU times: user 89.2 ms, sys: 8.37 ms, total: 97.6 ms\n",
            "Wall time: 14.7 s\n",
            "CPU times: user 80.9 ms, sys: 9.44 ms, total: 90.4 ms\n",
            "Wall time: 14.6 s\n",
            "CPU times: user 90 ms, sys: 4.12 ms, total: 94.2 ms\n",
            "Wall time: 14.8 s\n",
            "CPU times: user 93.7 ms, sys: 4.45 ms, total: 98.1 ms\n",
            "Wall time: 15.7 s\n",
            "CPU times: user 84.8 ms, sys: 12.6 ms, total: 97.4 ms\n",
            "Wall time: 15 s\n",
            "CPU times: user 97.2 ms, sys: 9.47 ms, total: 107 ms\n",
            "Wall time: 17 s\n",
            "CPU times: user 99.4 ms, sys: 6.21 ms, total: 106 ms\n",
            "Wall time: 16.5 s\n",
            "CPU times: user 85.5 ms, sys: 7.18 ms, total: 92.7 ms\n",
            "Wall time: 15.2 s\n",
            "CPU times: user 96.8 ms, sys: 11.5 ms, total: 108 ms\n",
            "Wall time: 15.4 s\n",
            "CPU times: user 96.7 ms, sys: 9.94 ms, total: 107 ms\n",
            "Wall time: 15.8 s\n",
            "CPU times: user 93.3 ms, sys: 9.66 ms, total: 103 ms\n",
            "Wall time: 15.6 s\n",
            "CPU times: user 89.6 ms, sys: 9.37 ms, total: 99 ms\n",
            "Wall time: 15.1 s\n",
            "CPU times: user 84.2 ms, sys: 9.71 ms, total: 93.9 ms\n",
            "Wall time: 15.2 s\n",
            "CPU times: user 84.5 ms, sys: 11.3 ms, total: 95.8 ms\n",
            "Wall time: 15.1 s\n",
            "CPU times: user 81.4 ms, sys: 13.1 ms, total: 94.5 ms\n",
            "Wall time: 14.9 s\n",
            "CPU times: user 78.1 ms, sys: 11.9 ms, total: 90 ms\n",
            "Wall time: 14.1 s\n",
            "CPU times: user 87.6 ms, sys: 6.11 ms, total: 93.7 ms\n",
            "Wall time: 14.2 s\n",
            "CPU times: user 86 ms, sys: 7.7 ms, total: 93.7 ms\n",
            "Wall time: 14.8 s\n",
            "CPU times: user 103 ms, sys: 14.6 ms, total: 118 ms\n",
            "Wall time: 19.3 s\n",
            "CPU times: user 81.9 ms, sys: 6.21 ms, total: 88.1 ms\n",
            "Wall time: 14.3 s\n",
            "CPU times: user 82.2 ms, sys: 11.2 ms, total: 93.4 ms\n",
            "Wall time: 14.1 s\n",
            "CPU times: user 116 ms, sys: 7.76 ms, total: 124 ms\n",
            "Wall time: 17.3 s\n",
            "CPU times: user 85.2 ms, sys: 10.7 ms, total: 95.9 ms\n",
            "Wall time: 14.6 s\n",
            "CPU times: user 79.7 ms, sys: 13.8 ms, total: 93.5 ms\n",
            "Wall time: 14.8 s\n",
            "CPU times: user 87 ms, sys: 7.26 ms, total: 94.2 ms\n",
            "Wall time: 15.2 s\n",
            "CPU times: user 88.8 ms, sys: 6.93 ms, total: 95.8 ms\n",
            "Wall time: 15.2 s\n",
            "CPU times: user 91.6 ms, sys: 4.78 ms, total: 96.4 ms\n",
            "Wall time: 15.1 s\n",
            "CPU times: user 85.3 ms, sys: 10.4 ms, total: 95.7 ms\n",
            "Wall time: 15.2 s\n"
          ]
        }
      ],
      "source": [
        "for i in range(1,33):\n",
        "  %time benchmark(arquivo)"
      ]
    },
    {
      "cell_type": "markdown",
      "metadata": {
        "id": "Qqg_jenLcjBl"
      },
      "source": [
        "##2.5 minutos"
      ]
    },
    {
      "cell_type": "code",
      "execution_count": 20,
      "metadata": {
        "colab": {
          "base_uri": "https://localhost:8080/"
        },
        "id": "PJ9zdiXTZfuw",
        "outputId": "952b3070-b807-4925-a929-77389efac9d0"
      },
      "outputs": [
        {
          "output_type": "stream",
          "name": "stdout",
          "text": [
            "--2024-05-04 16:56:40--  https://biogeo.ucdavis.edu/data/worldclim/v2.1/base/wc2.1_2.5m_tmax.zip\n",
            "Resolving biogeo.ucdavis.edu (biogeo.ucdavis.edu)... 128.120.228.172\n",
            "Connecting to biogeo.ucdavis.edu (biogeo.ucdavis.edu)|128.120.228.172|:443... connected.\n",
            "HTTP request sent, awaiting response... 302 Found\n",
            "Location: https://data.biogeo.ucdavis.edu/data/worldclim/v2.1/base/wc2.1_2.5m_tmax.zip [following]\n",
            "--2024-05-04 16:56:41--  https://data.biogeo.ucdavis.edu/data/worldclim/v2.1/base/wc2.1_2.5m_tmax.zip\n",
            "Resolving data.biogeo.ucdavis.edu (data.biogeo.ucdavis.edu)... 128.120.228.172\n",
            "Connecting to data.biogeo.ucdavis.edu (data.biogeo.ucdavis.edu)|128.120.228.172|:443... connected.\n",
            "HTTP request sent, awaiting response... 200 OK\n",
            "Length: 444356872 (424M) [application/zip]\n",
            "Saving to: ‘wc2.1_2.5m_tmax.zip’\n",
            "\n",
            "wc2.1_2.5m_tmax.zip 100%[===================>] 423.77M  40.0MB/s    in 11s     \n",
            "\n",
            "2024-05-04 16:56:53 (37.8 MB/s) - ‘wc2.1_2.5m_tmax.zip’ saved [444356872/444356872]\n",
            "\n",
            "Archive:  wc2.1_2.5m_tmax.zip\n",
            "  inflating: wc2.1_2.5m_tmax_01.tif  \n",
            "  inflating: wc2.1_2.5m_tmax_02.tif  \n",
            "  inflating: wc2.1_2.5m_tmax_03.tif  \n",
            "  inflating: wc2.1_2.5m_tmax_04.tif  \n",
            "  inflating: wc2.1_2.5m_tmax_05.tif  \n",
            "  inflating: wc2.1_2.5m_tmax_06.tif  \n",
            "  inflating: wc2.1_2.5m_tmax_07.tif  \n",
            "  inflating: wc2.1_2.5m_tmax_08.tif  \n",
            "  inflating: wc2.1_2.5m_tmax_09.tif  \n",
            "  inflating: wc2.1_2.5m_tmax_10.tif  \n",
            "  inflating: wc2.1_2.5m_tmax_11.tif  \n",
            "  inflating: wc2.1_2.5m_tmax_12.tif  \n"
          ]
        }
      ],
      "source": [
        "!wget https://biogeo.ucdavis.edu/data/worldclim/v2.1/base/wc2.1_2.5m_tmax.zip\n",
        "!unzip -o wc2.1_2.5m_tmax.zip"
      ]
    },
    {
      "cell_type": "code",
      "execution_count": 21,
      "metadata": {
        "colab": {
          "base_uri": "https://localhost:8080/"
        },
        "id": "KjBJ05FCZ4Lh",
        "outputId": "c519a344-0b82-4191-de20-9a61f0d4ad35"
      },
      "outputs": [
        {
          "output_type": "stream",
          "name": "stdout",
          "text": [
            "[2024-05-04 04:57:00 - INFO] - Getting geotransform and data...\n",
            "[2024-05-04 04:57:01 - INFO] - Getting XYZ data...\n",
            "[2024-05-04 04:57:02 - INFO] - Getting geotransformed coordinates...\n",
            "[2024-05-04 04:57:03 - INFO] - Building XYZ data...\n",
            "[2024-05-04 04:59:51 - INFO] - New XYZ (csv file) created...\n"
          ]
        }
      ],
      "source": [
        "!raster2xyz wc2.1_2.5m_tmax_01.tif wc2.1_2.5m_tmax_01.csv"
      ]
    },
    {
      "cell_type": "code",
      "execution_count": 22,
      "metadata": {
        "id": "n_47QN61aUR5"
      },
      "outputs": [],
      "source": [
        "arquivo='wc2.1_2.5m_tmax_01.csv'"
      ]
    },
    {
      "cell_type": "code",
      "execution_count": 23,
      "metadata": {
        "colab": {
          "base_uri": "https://localhost:8080/"
        },
        "id": "xtjlodQ5lM6v",
        "outputId": "eec2a4c1-40e7-4537-a5b7-b30331e58076"
      },
      "outputs": [
        {
          "output_type": "stream",
          "name": "stdout",
          "text": [
            "tamanho do arquivo:\n",
            "            1474136897 em bytes\n",
            "            1405.8464975357056 em MB\n",
            "            1.3728969702497125 em GB\n"
          ]
        }
      ],
      "source": [
        "file_size(arquivo)"
      ]
    },
    {
      "cell_type": "code",
      "execution_count": 24,
      "metadata": {
        "colab": {
          "base_uri": "https://localhost:8080/"
        },
        "id": "045rmf5nlWVO",
        "outputId": "4974a293-ba51-49ab-add2-a017a362e5a7"
      },
      "outputs": [
        {
          "output_type": "stream",
          "name": "stdout",
          "text": [
            "Número de partições -> 11\n"
          ]
        }
      ],
      "source": [
        "partitions(arquivo)"
      ]
    },
    {
      "cell_type": "code",
      "execution_count": null,
      "metadata": {
        "colab": {
          "base_uri": "https://localhost:8080/"
        },
        "id": "exkKFjcIbPQN",
        "outputId": "7451003f-5f91-4fe8-d0e6-4544473f07b2"
      },
      "outputs": [
        {
          "output_type": "stream",
          "name": "stdout",
          "text": [
            "CPU times: user 411 ms, sys: 41.7 ms, total: 453 ms\n",
            "Wall time: 1min 13s\n",
            "CPU times: user 357 ms, sys: 52 ms, total: 409 ms\n",
            "Wall time: 1min 7s\n",
            "CPU times: user 375 ms, sys: 35.3 ms, total: 410 ms\n",
            "Wall time: 1min 7s\n",
            "CPU times: user 397 ms, sys: 41.9 ms, total: 439 ms\n",
            "Wall time: 1min 11s\n",
            "CPU times: user 415 ms, sys: 49.7 ms, total: 465 ms\n",
            "Wall time: 1min 12s\n",
            "CPU times: user 353 ms, sys: 42.5 ms, total: 395 ms\n",
            "Wall time: 1min 3s\n",
            "CPU times: user 453 ms, sys: 39.8 ms, total: 493 ms\n",
            "Wall time: 1min 18s\n",
            "CPU times: user 362 ms, sys: 41.7 ms, total: 403 ms\n",
            "Wall time: 1min 6s\n",
            "CPU times: user 406 ms, sys: 41 ms, total: 447 ms\n",
            "Wall time: 1min 12s\n",
            "CPU times: user 398 ms, sys: 38.8 ms, total: 437 ms\n",
            "Wall time: 1min 10s\n",
            "CPU times: user 362 ms, sys: 32.2 ms, total: 395 ms\n",
            "Wall time: 1min 4s\n",
            "CPU times: user 445 ms, sys: 35.4 ms, total: 480 ms\n",
            "Wall time: 1min 17s\n",
            "CPU times: user 338 ms, sys: 44.4 ms, total: 382 ms\n",
            "Wall time: 1min 3s\n",
            "CPU times: user 459 ms, sys: 39.4 ms, total: 498 ms\n",
            "Wall time: 1min 13s\n",
            "CPU times: user 385 ms, sys: 50.3 ms, total: 436 ms\n",
            "Wall time: 1min 11s\n",
            "CPU times: user 390 ms, sys: 52.4 ms, total: 443 ms\n",
            "Wall time: 1min 9s\n",
            "CPU times: user 391 ms, sys: 44.6 ms, total: 435 ms\n",
            "Wall time: 1min 10s\n",
            "CPU times: user 393 ms, sys: 39 ms, total: 432 ms\n",
            "Wall time: 1min 10s\n",
            "CPU times: user 361 ms, sys: 43.6 ms, total: 404 ms\n",
            "Wall time: 1min 5s\n",
            "CPU times: user 410 ms, sys: 51.9 ms, total: 462 ms\n",
            "Wall time: 1min 15s\n",
            "CPU times: user 382 ms, sys: 45.7 ms, total: 427 ms\n",
            "Wall time: 1min 10s\n",
            "CPU times: user 362 ms, sys: 38.2 ms, total: 400 ms\n",
            "Wall time: 1min 4s\n",
            "CPU times: user 450 ms, sys: 46.7 ms, total: 497 ms\n",
            "Wall time: 1min 19s\n"
          ]
        }
      ],
      "source": [
        "for i in range(1,33):\n",
        " tempo_resultado= %time benchmark(arquivo)"
      ]
    },
    {
      "cell_type": "code",
      "source": [
        "tempo_resultado"
      ],
      "metadata": {
        "id": "uX22OzD7qsUj"
      },
      "execution_count": null,
      "outputs": []
    },
    {
      "cell_type": "markdown",
      "metadata": {
        "id": "5cY0S3LPzfmj"
      },
      "source": [
        "##30 segundos"
      ]
    },
    {
      "cell_type": "markdown",
      "metadata": {
        "id": "uh56_N54g8JL"
      },
      "source": [
        "raster não conseguiu carregar o csv"
      ]
    }
  ]
}