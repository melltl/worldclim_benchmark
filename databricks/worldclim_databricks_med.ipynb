{
 "cells": [
  {
   "cell_type": "code",
   "execution_count": 0,
   "metadata": {
    "application/vnd.databricks.v1+cell": {
     "cellMetadata": {
      "byteLimit": 2048000,
      "rowLimit": 10000
     },
     "inputWidgets": {},
     "nuid": "471e190e-8858-43f7-aa0c-0d3f1413d43a",
     "showTitle": false,
     "title": ""
    }
   },
   "outputs": [
    {
     "output_type": "stream",
     "name": "stdout",
     "output_type": "stream",
     "text": [
      "Requirement already satisfied: pip in /local_disk0/.ephemeral_nfs/envs/pythonEnv-cecd2c89-b59e-4227-b248-3e22fcee80dd/lib/python3.9/site-packages (21.2.4)\r\nCollecting pip\r\n  Downloading pip-24.0-py3-none-any.whl (2.1 MB)\r\n\u001B[?25l\r\u001B[K     |▏                               | 10 kB 9.5 MB/s eta 0:00:01\r\u001B[K     |▎                               | 20 kB 3.8 MB/s eta 0:00:01\r\u001B[K     |▌                               | 30 kB 3.3 MB/s eta 0:00:01\r\u001B[K     |▋                               | 40 kB 3.8 MB/s eta 0:00:01\r\u001B[K     |▊                               | 51 kB 3.8 MB/s eta 0:00:01\r\u001B[K     |█                               | 61 kB 4.5 MB/s eta 0:00:01\r\u001B[K     |█                               | 71 kB 4.8 MB/s eta 0:00:01\r\u001B[K     |█▎                              | 81 kB 5.3 MB/s eta 0:00:01\r\u001B[K     |█▍                              | 92 kB 4.6 MB/s eta 0:00:01\r\u001B[K     |█▌                              | 102 kB 4.2 MB/s eta 0:00:01\r\u001B[K     |█▊                              | 112 kB 4.2 MB/s eta 0:00:01\r\u001B[K     |█▉                              | 122 kB 4.2 MB/s eta 0:00:01\r\u001B[K     |██                              | 133 kB 4.2 MB/s eta 0:00:01\r\u001B[K     |██▏                             | 143 kB 4.2 MB/s eta 0:00:01\r\u001B[K     |██▎                             | 153 kB 4.2 MB/s eta 0:00:01\r\u001B[K     |██▌                             | 163 kB 4.2 MB/s eta 0:00:01\r\u001B[K     |██▋                             | 174 kB 4.2 MB/s eta 0:00:01\r\u001B[K     |██▉                             | 184 kB 4.2 MB/s eta 0:00:01\r\u001B[K     |███                             | 194 kB 4.2 MB/s eta 0:00:01\r\u001B[K     |███                             | 204 kB 4.2 MB/s eta 0:00:01\r\u001B[K     |███▎                            | 215 kB 4.2 MB/s eta 0:00:01\r\u001B[K     |███▍                            | 225 kB 4.2 MB/s eta 0:00:01\r\u001B[K     |███▋                            | 235 kB 4.2 MB/s eta 0:00:01\r\u001B[K     |███▊                            | 245 kB 4.2 MB/s eta 0:00:01\r\u001B[K     |███▉                            | 256 kB 4.2 MB/s eta 0:00:01\r\u001B[K     |████                            | 266 kB 4.2 MB/s eta 0:00:01\r\u001B[K     |████▏                           | 276 kB 4.2 MB/s eta 0:00:01\r\u001B[K     |████▍                           | 286 kB 4.2 MB/s eta 0:00:01\r\u001B[K     |████▌                           | 296 kB 4.2 MB/s eta 0:00:01\r\u001B[K     |████▋                           | 307 kB 4.2 MB/s eta 0:00:01\r\u001B[K     |████▉                           | 317 kB 4.2 MB/s eta 0:00:01\r\u001B[K     |█████                           | 327 kB 4.2 MB/s eta 0:00:01\r\u001B[K     |█████▏                          | 337 kB 4.2 MB/s eta 0:00:01\r\u001B[K     |█████▎                          | 348 kB 4.2 MB/s eta 0:00:01\r\u001B[K     |█████▍                          | 358 kB 4.2 MB/s eta 0:00:01\r\u001B[K     |█████▋                          | 368 kB 4.2 MB/s eta 0:00:01\r\u001B[K     |█████▊                          | 378 kB 4.2 MB/s eta 0:00:01\r\u001B[K     |██████                          | 389 kB 4.2 MB/s eta 0:00:01\r\u001B[K     |██████                          | 399 kB 4.2 MB/s eta 0:00:01\r\u001B[K     |██████▏                         | 409 kB 4.2 MB/s eta 0:00:01\r\u001B[K     |██████▍                         | 419 kB 4.2 MB/s eta 0:00:01\r\u001B[K     |██████▌                         | 430 kB 4.2 MB/s eta 0:00:01\r\u001B[K     |██████▊                         | 440 kB 4.2 MB/s eta 0:00:01\r\u001B[K     |██████▉                         | 450 kB 4.2 MB/s eta 0:00:01\r\u001B[K     |███████                         | 460 kB 4.2 MB/s eta 0:00:01\r\u001B[K     |███████▏                        | 471 kB 4.2 MB/s eta 0:00:01\r\u001B[K     |███████▎                        | 481 kB 4.2 MB/s eta 0:00:01\r\u001B[K     |███████▌                        | 491 kB 4.2 MB/s eta 0:00:01\r\u001B[K     |███████▋                        | 501 kB 4.2 MB/s eta 0:00:01\r\u001B[K     |███████▊                        | 512 kB 4.2 MB/s eta 0:00:01\r\u001B[K     |████████                        | 522 kB 4.2 MB/s eta 0:00:01\r\u001B[K     |████████                        | 532 kB 4.2 MB/s eta 0:00:01\r\u001B[K     |████████▎                       | 542 kB 4.2 MB/s eta 0:00:01\r\u001B[K     |████████▍                       | 552 kB 4.2 MB/s eta 0:00:01\r\u001B[K     |████████▌                       | 563 kB 4.2 MB/s eta 0:00:01\r\u001B[K     |████████▊                       | 573 kB 4.2 MB/s eta 0:00:01\r\u001B[K     |████████▉                       | 583 kB 4.2 MB/s eta 0:00:01\r\u001B[K     |█████████                       | 593 kB 4.2 MB/s eta 0:00:01\r\u001B[K     |█████████▏                      | 604 kB 4.2 MB/s eta 0:00:01\r\u001B[K     |█████████▎                      | 614 kB 4.2 MB/s eta 0:00:01\r\u001B[K     |█████████▌                      | 624 kB 4.2 MB/s eta 0:00:01\r\u001B[K     |█████████▋                      | 634 kB 4.2 MB/s eta 0:00:01\r\u001B[K     |█████████▉                      | 645 kB 4.2 MB/s eta 0:00:01\r\u001B[K     |██████████                      | 655 kB 4.2 MB/s eta 0:00:01\r\u001B[K     |██████████                      | 665 kB 4.2 MB/s eta 0:00:01\r\u001B[K     |██████████▎                     | 675 kB 4.2 MB/s eta 0:00:01\r\u001B[K     |██████████▍                     | 686 kB 4.2 MB/s eta 0:00:01\r\u001B[K     |██████████▋                     | 696 kB 4.2 MB/s eta 0:00:01\r\u001B[K     |██████████▊                     | 706 kB 4.2 MB/s eta 0:00:01\r\u001B[K     |██████████▉                     | 716 kB 4.2 MB/s eta 0:00:01\r\u001B[K     |███████████                     | 727 kB 4.2 MB/s eta 0:00:01\r\u001B[K     |███████████▏                    | 737 kB 4.2 MB/s eta 0:00:01\r\u001B[K     |███████████▍                    | 747 kB 4.2 MB/s eta 0:00:01\r\u001B[K     |███████████▌                    | 757 kB 4.2 MB/s eta 0:00:01\r\u001B[K     |███████████▋                    | 768 kB 4.2 MB/s eta 0:00:01\r\u001B[K     |███████████▉                    | 778 kB 4.2 MB/s eta 0:00:01\r\u001B[K     |████████████                    | 788 kB 4.2 MB/s eta 0:00:01\r\u001B[K     |████████████▏                   | 798 kB 4.2 MB/s eta 0:00:01\r\u001B[K     |████████████▎                   | 808 kB 4.2 MB/s eta 0:00:01\r\u001B[K     |████████████▍                   | 819 kB 4.2 MB/s eta 0:00:01\r\u001B[K     |████████████▋                   | 829 kB 4.2 MB/s eta 0:00:01\r\u001B[K     |████████████▊                   | 839 kB 4.2 MB/s eta 0:00:01\r\u001B[K     |████████████▉                   | 849 kB 4.2 MB/s eta 0:00:01\r\u001B[K     |█████████████                   | 860 kB 4.2 MB/s eta 0:00:01\r\u001B[K     |█████████████▏                  | 870 kB 4.2 MB/s eta 0:00:01\r\u001B[K     |█████████████▍                  | 880 kB 4.2 MB/s eta 0:00:01\r\u001B[K     |█████████████▌                  | 890 kB 4.2 MB/s eta 0:00:01\r\u001B[K     |█████████████▋                  | 901 kB 4.2 MB/s eta 0:00:01\r\u001B[K     |█████████████▉                  | 911 kB 4.2 MB/s eta 0:00:01\r\u001B[K     |██████████████                  | 921 kB 4.2 MB/s eta 0:00:01\r\u001B[K     |██████████████▏                 | 931 kB 4.2 MB/s eta 0:00:01\r\u001B[K     |██████████████▎                 | 942 kB 4.2 MB/s eta 0:00:01\r\u001B[K     |██████████████▍                 | 952 kB 4.2 MB/s eta 0:00:01\r\u001B[K     |██████████████▋                 | 962 kB 4.2 MB/s eta 0:00:01\r\u001B[K     |██████████████▊                 | 972 kB 4.2 MB/s eta 0:00:01\r\u001B[K     |███████████████                 | 983 kB 4.2 MB/s eta 0:00:01\r\u001B[K     |███████████████                 | 993 kB 4.2 MB/s eta 0:00:01\r\u001B[K     |███████████████▏                | 1.0 MB 4.2 MB/s eta 0:00:01\r\u001B[K     |███████████████▍                | 1.0 MB 4.2 MB/s eta 0:00:01\r\u001B[K     |███████████████▌                | 1.0 MB 4.2 MB/s eta 0:00:01\r\u001B[K     |███████████████▊                | 1.0 MB 4.2 MB/s eta 0:00:01\r\u001B[K     |███████████████▉                | 1.0 MB 4.2 MB/s eta 0:00:01\r\u001B[K     |████████████████                | 1.1 MB 4.2 MB/s eta 0:00:01\r\u001B[K     |████████████████▏               | 1.1 MB 4.2 MB/s eta 0:00:01\r\u001B[K     |████████████████▎               | 1.1 MB 4.2 MB/s eta 0:00:01\r\u001B[K     |████████████████▌               | 1.1 MB 4.2 MB/s eta 0:00:01\r\u001B[K     |████████████████▋               | 1.1 MB 4.2 MB/s eta 0:00:01\r\u001B[K     |████████████████▊               | 1.1 MB 4.2 MB/s eta 0:00:01\r\u001B[K     |█████████████████               | 1.1 MB 4.2 MB/s eta 0:00:01\r\u001B[K     |█████████████████               | 1.1 MB 4.2 MB/s eta 0:00:01\r\u001B[K     |█████████████████▎              | 1.1 MB 4.2 MB/s eta 0:00:01\r\u001B[K     |█████████████████▍              | 1.1 MB 4.2 MB/s eta 0:00:01\r\u001B[K     |█████████████████▌              | 1.2 MB 4.2 MB/s eta 0:00:01\r\u001B[K     |█████████████████▊              | 1.2 MB 4.2 MB/s eta 0:00:01\r\u001B[K     |█████████████████▉              | 1.2 MB 4.2 MB/s eta 0:00:01\r\u001B[K     |██████████████████              | 1.2 MB 4.2 MB/s eta 0:00:01\r\u001B[K     |██████████████████▏             | 1.2 MB 4.2 MB/s eta 0:00:01\r\u001B[K     |██████████████████▎             | 1.2 MB 4.2 MB/s eta 0:00:01\r\u001B[K     |██████████████████▌             | 1.2 MB 4.2 MB/s eta 0:00:01\r\u001B[K     |██████████████████▋             | 1.2 MB 4.2 MB/s eta 0:00:01\r\u001B[K     |██████████████████▉             | 1.2 MB 4.2 MB/s eta 0:00:01\r\u001B[K     |███████████████████             | 1.2 MB 4.2 MB/s eta 0:00:01\r\u001B[K     |███████████████████             | 1.3 MB 4.2 MB/s eta 0:00:01\r\u001B[K     |███████████████████▎            | 1.3 MB 4.2 MB/s eta 0:00:01\r\u001B[K     |███████████████████▍            | 1.3 MB 4.2 MB/s eta 0:00:01\r\u001B[K     |███████████████████▋            | 1.3 MB 4.2 MB/s eta 0:00:01\r\u001B[K     |███████████████████▊            | 1.3 MB 4.2 MB/s eta 0:00:01\r\u001B[K     |███████████████████▉            | 1.3 MB 4.2 MB/s eta 0:00:01\r\u001B[K     |████████████████████            | 1.3 MB 4.2 MB/s eta 0:00:01\r\u001B[K     |████████████████████▏           | 1.3 MB 4.2 MB/s eta 0:00:01\r\u001B[K     |████████████████████▍           | 1.3 MB 4.2 MB/s eta 0:00:01\r\u001B[K     |████████████████████▌           | 1.4 MB 4.2 MB/s eta 0:00:01\r\u001B[K     |████████████████████▋           | 1.4 MB 4.2 MB/s eta 0:00:01\r\u001B[K     |████████████████████▉           | 1.4 MB 4.2 MB/s eta 0:00:01\r\u001B[K     |█████████████████████           | 1.4 MB 4.2 MB/s eta 0:00:01\r\u001B[K     |█████████████████████▏          | 1.4 MB 4.2 MB/s eta 0:00:01\r\u001B[K     |█████████████████████▎          | 1.4 MB 4.2 MB/s eta 0:00:01\r\u001B[K     |█████████████████████▍          | 1.4 MB 4.2 MB/s eta 0:00:01\r\u001B[K     |█████████████████████▋          | 1.4 MB 4.2 MB/s eta 0:00:01\r\u001B[K     |█████████████████████▊          | 1.4 MB 4.2 MB/s eta 0:00:01\r\u001B[K     |██████████████████████          | 1.4 MB 4.2 MB/s eta 0:00:01\r\u001B[K     |██████████████████████          | 1.5 MB 4.2 MB/s eta 0:00:01\r\u001B[K     |██████████████████████▏         | 1.5 MB 4.2 MB/s eta 0:00:01\r\u001B[K     |██████████████████████▍         | 1.5 MB 4.2 MB/s eta 0:00:01\r\u001B[K     |██████████████████████▌         | 1.5 MB 4.2 MB/s eta 0:00:01\r\u001B[K     |██████████████████████▊         | 1.5 MB 4.2 MB/s eta 0:00:01\r\u001B[K     |██████████████████████▉         | 1.5 MB 4.2 MB/s eta 0:00:01\r\u001B[K     |███████████████████████         | 1.5 MB 4.2 MB/s eta 0:00:01\r\u001B[K     |███████████████████████▏        | 1.5 MB 4.2 MB/s eta 0:00:01\r\u001B[K     |███████████████████████▎        | 1.5 MB 4.2 MB/s eta 0:00:01\r\u001B[K     |███████████████████████▌        | 1.5 MB 4.2 MB/s eta 0:00:01\r\u001B[K     |███████████████████████▋        | 1.6 MB 4.2 MB/s eta 0:00:01\r\u001B[K     |███████████████████████▊        | 1.6 MB 4.2 MB/s eta 0:00:01\r\u001B[K     |████████████████████████        | 1.6 MB 4.2 MB/s eta 0:00:01\r\u001B[K     |████████████████████████        | 1.6 MB 4.2 MB/s eta 0:00:01\r\u001B[K     |████████████████████████▎       | 1.6 MB 4.2 MB/s eta 0:00:01\r\u001B[K     |████████████████████████▍       | 1.6 MB 4.2 MB/s eta 0:00:01\r\u001B[K     |████████████████████████▌       | 1.6 MB 4.2 MB/s eta 0:00:01\r\u001B[K     |████████████████████████▊       | 1.6 MB 4.2 MB/s eta 0:00:01\r\u001B[K     |████████████████████████▉       | 1.6 MB 4.2 MB/s eta 0:00:01\r\u001B[K     |█████████████████████████       | 1.6 MB 4.2 MB/s eta 0:00:01\r\u001B[K     |█████████████████████████▏      | 1.7 MB 4.2 MB/s eta 0:00:01\r\u001B[K     |█████████████████████████▎      | 1.7 MB 4.2 MB/s eta 0:00:01\r\u001B[K     |█████████████████████████▌      | 1.7 MB 4.2 MB/s eta 0:00:01\r\u001B[K     |█████████████████████████▋      | 1.7 MB 4.2 MB/s eta 0:00:01\r\u001B[K     |█████████████████████████▊      | 1.7 MB 4.2 MB/s eta 0:00:01\r\u001B[K     |██████████████████████████      | 1.7 MB 4.2 MB/s eta 0:00:01\r\u001B[K     |██████████████████████████      | 1.7 MB 4.2 MB/s eta 0:00:01\r\u001B[K     |██████████████████████████▎     | 1.7 MB 4.2 MB/s eta 0:00:01\r\u001B[K     |██████████████████████████▍     | 1.7 MB 4.2 MB/s eta 0:00:01\r\u001B[K     |██████████████████████████▌     | 1.8 MB 4.2 MB/s eta 0:00:01\r\u001B[K     |██████████████████████████▊     | 1.8 MB 4.2 MB/s eta 0:00:01\r\u001B[K     |██████████████████████████▉     | 1.8 MB 4.2 MB/s eta 0:00:01\r\u001B[K     |███████████████████████████     | 1.8 MB 4.2 MB/s eta 0:00:01\r\u001B[K     |███████████████████████████▏    | 1.8 MB 4.2 MB/s eta 0:00:01\r\u001B[K     |███████████████████████████▎    | 1.8 MB 4.2 MB/s eta 0:00:01\r\u001B[K     |███████████████████████████▌    | 1.8 MB 4.2 MB/s eta 0:00:01\r\u001B[K     |███████████████████████████▋    | 1.8 MB 4.2 MB/s eta 0:00:01\r\u001B[K     |███████████████████████████▉    | 1.8 MB 4.2 MB/s eta 0:00:01\r\u001B[K     |████████████████████████████    | 1.8 MB 4.2 MB/s eta 0:00:01\r\u001B[K     |████████████████████████████    | 1.9 MB 4.2 MB/s eta 0:00:01\r\u001B[K     |████████████████████████████▎   | 1.9 MB 4.2 MB/s eta 0:00:01\r\u001B[K     |████████████████████████████▍   | 1.9 MB 4.2 MB/s eta 0:00:01\r\u001B[K     |████████████████████████████▋   | 1.9 MB 4.2 MB/s eta 0:00:01\r\u001B[K     |████████████████████████████▊   | 1.9 MB 4.2 MB/s eta 0:00:01\r\u001B[K     |████████████████████████████▉   | 1.9 MB 4.2 MB/s eta 0:00:01\r\u001B[K     |█████████████████████████████   | 1.9 MB 4.2 MB/s eta 0:00:01\r\u001B[K     |█████████████████████████████▏  | 1.9 MB 4.2 MB/s eta 0:00:01\r\u001B[K     |█████████████████████████████▍  | 1.9 MB 4.2 MB/s eta 0:00:01\r\u001B[K     |█████████████████████████████▌  | 1.9 MB 4.2 MB/s eta 0:00:01\r\u001B[K     |█████████████████████████████▋  | 2.0 MB 4.2 MB/s eta 0:00:01\r\u001B[K     |█████████████████████████████▉  | 2.0 MB 4.2 MB/s eta 0:00:01\r\u001B[K     |██████████████████████████████  | 2.0 MB 4.2 MB/s eta 0:00:01\r\u001B[K     |██████████████████████████████▏ | 2.0 MB 4.2 MB/s eta 0:00:01\r\u001B[K     |██████████████████████████████▎ | 2.0 MB 4.2 MB/s eta 0:00:01\r\u001B[K     |██████████████████████████████▍ | 2.0 MB 4.2 MB/s eta 0:00:01\r\u001B[K     |██████████████████████████████▋ | 2.0 MB 4.2 MB/s eta 0:00:01\r\u001B[K     |██████████████████████████████▊ | 2.0 MB 4.2 MB/s eta 0:00:01\r\u001B[K     |███████████████████████████████ | 2.0 MB 4.2 MB/s eta 0:00:01\r\u001B[K     |███████████████████████████████ | 2.0 MB 4.2 MB/s eta 0:00:01\r\u001B[K     |███████████████████████████████▏| 2.1 MB 4.2 MB/s eta 0:00:01\r\u001B[K     |███████████████████████████████▍| 2.1 MB 4.2 MB/s eta 0:00:01\r\u001B[K     |███████████████████████████████▌| 2.1 MB 4.2 MB/s eta 0:00:01\r\u001B[K     |███████████████████████████████▊| 2.1 MB 4.2 MB/s eta 0:00:01\r\u001B[K     |███████████████████████████████▉| 2.1 MB 4.2 MB/s eta 0:00:01\r\u001B[K     |████████████████████████████████| 2.1 MB 4.2 MB/s eta 0:00:01\r\u001B[K     |████████████████████████████████| 2.1 MB 4.2 MB/s \r\n\u001B[?25hInstalling collected packages: pip\r\n  Attempting uninstall: pip\r\n    Found existing installation: pip 21.2.4\r\n    Uninstalling pip-21.2.4:\r\n      Successfully uninstalled pip-21.2.4\r\nSuccessfully installed pip-24.0\r\n"
     ]
    }
   ],
   "source": [
    "!pip install --upgrade pip"
   ]
  },
  {
   "cell_type": "markdown",
   "metadata": {
    "application/vnd.databricks.v1+cell": {
     "cellMetadata": {
      "byteLimit": 2048000,
      "rowLimit": 10000
     },
     "inputWidgets": {},
     "nuid": "d898ba85-8013-4efb-906b-439a2a5d0f44",
     "showTitle": false,
     "title": ""
    }
   },
   "source": [
    "Instalando o gdal manualmente"
   ]
  },
  {
   "cell_type": "code",
   "execution_count": 0,
   "metadata": {
    "application/vnd.databricks.v1+cell": {
     "cellMetadata": {
      "byteLimit": 2048000,
      "rowLimit": 10000
     },
     "inputWidgets": {},
     "nuid": "8edb3e3b-3738-4f5a-b79a-375dc15ee768",
     "showTitle": false,
     "title": ""
    }
   },
   "outputs": [
    {
     "output_type": "stream",
     "name": "stdout",
     "output_type": "stream",
     "text": [
      "Hit:1 https://repos.azul.com/zulu/deb stable InRelease\nHit:2 http://archive.ubuntu.com/ubuntu focal InRelease\nHit:3 http://security.ubuntu.com/ubuntu focal-security InRelease\nHit:4 http://archive.ubuntu.com/ubuntu focal-updates InRelease\nHit:5 http://archive.ubuntu.com/ubuntu focal-backports InRelease\nReading package lists...\nReading package lists...\nBuilding dependency tree...\nReading state information...\nThe following additional packages will be installed:\n  default-libmysqlclient-dev gdal-data hdf5-helpers libaec-dev libaec0\n  libarmadillo-dev libarmadillo9 libarpack2 libarpack2-dev libboost-dev\n  libboost1.71-dev libcfitsio-dev libcfitsio-doc libcfitsio8 libcharls-dev\n  libcharls2 libdap-dev libdap25 libdapclient6v5 libdapserver7v5\n  libepsilon-dev libepsilon1 libfreexl-dev libfreexl1 libfyba-dev libfyba0\n  libgdal26 libgeos-3.8.0 libgeos-c1v5 libgeos-dev libgeotiff-dev libgeotiff5\n  libgif-dev libhdf4-0-alt libhdf4-alt-dev libhdf5-103 libhdf5-cpp-103\n  libhdf5-dev libjson-c-dev libkml-dev libkmlbase1 libkmlconvenience1\n  libkmldom1 libkmlengine1 libkmlregionator1 libkmlxsd1 libminizip-dev\n  libminizip1 libmysqlclient-dev libmysqlclient21 libnetcdf-dev libnetcdf15\n  libogdi-dev libogdi4.1 libopenjp2-7-dev libpoppler-dev\n  libpoppler-private-dev libpoppler97 libproj-dev libproj15 libqhull-dev\n  libqhull-r7 libqhull7 libspatialite-dev libspatialite7 libsuperlu-dev\n  libsuperlu5 libsz2 liburiparser-dev liburiparser1 libwebp-dev libwebpdemux2\n  libxerces-c-dev libxerces-c3.2 libzstd-dev proj-bin proj-data python3-gdal\n  python3-numpy\nSuggested packages:\n  libgdal-grass libitpp-dev libboost-doc libboost1.71-doc\n  libboost-atomic1.71-dev libboost-chrono1.71-dev libboost-container1.71-dev\n  libboost-context1.71-dev libboost-contract1.71-dev\n  libboost-coroutine1.71-dev libboost-date-time1.71-dev\n  libboost-exception1.71-dev libboost-fiber1.71-dev\n  libboost-filesystem1.71-dev libboost-graph1.71-dev\n  libboost-graph-parallel1.71-dev libboost-iostreams1.71-dev\n  libboost-locale1.71-dev libboost-log1.71-dev libboost-math1.71-dev\n  libboost-mpi1.71-dev libboost-mpi-python1.71-dev libboost-numpy1.71-dev\n  libboost-program-options1.71-dev libboost-python1.71-dev\n  libboost-random1.71-dev libboost-regex1.71-dev\n  libboost-serialization1.71-dev libboost-stacktrace1.71-dev\n  libboost-system1.71-dev libboost-test1.71-dev libboost-thread1.71-dev\n  libboost-timer1.71-dev libboost-type-erasure1.71-dev libboost-wave1.71-dev\n  libboost1.71-tools-dev libmpfrc++-dev libntl-dev libgdal-doc libgeotiff-epsg\n  geotiff-bin libhdf4-doc hdf4-tools libhdf5-doc netcdf-bin netcdf-doc\n  ogdi-bin libsuperlu-doc libxerces-c-doc python-numpy-doc python3-dev\n  python3-pytest python3-numpy-dbg\nThe following NEW packages will be installed:\n  default-libmysqlclient-dev gdal-bin gdal-data hdf5-helpers libaec-dev\n  libaec0 libarmadillo-dev libarmadillo9 libarpack2 libarpack2-dev\n  libboost-dev libboost1.71-dev libcfitsio-dev libcfitsio-doc libcfitsio8\n  libcharls-dev libcharls2 libdap-dev libdap25 libdapclient6v5 libdapserver7v5\n  libepsilon-dev libepsilon1 libfreexl-dev libfreexl1 libfyba-dev libfyba0\n  libgdal-dev libgdal26 libgeos-3.8.0 libgeos-c1v5 libgeos-dev libgeotiff-dev\n  libgeotiff5 libgif-dev libhdf4-0-alt libhdf4-alt-dev libhdf5-103\n  libhdf5-cpp-103 libhdf5-dev libjson-c-dev libkml-dev libkmlbase1\n  libkmlconvenience1 libkmldom1 libkmlengine1 libkmlregionator1 libkmlxsd1\n  libminizip-dev libminizip1 libmysqlclient-dev libmysqlclient21 libnetcdf-dev\n  libnetcdf15 libogdi-dev libogdi4.1 libopenjp2-7-dev libpoppler-dev\n  libpoppler-private-dev libpoppler97 libproj-dev libproj15 libqhull-dev\n  libqhull-r7 libqhull7 libspatialite-dev libspatialite7 libsuperlu-dev\n  libsuperlu5 libsz2 liburiparser-dev liburiparser1 libwebp-dev libwebpdemux2\n  libxerces-c-dev libxerces-c3.2 libzstd-dev proj-bin proj-data python3-gdal\n  python3-numpy\n0 upgraded, 81 newly installed, 0 to remove and 24 not upgraded.\nNeed to get 60.6 MB of archives.\nAfter this operation, 394 MB of additional disk space will be used.\nGet:1 http://archive.ubuntu.com/ubuntu focal-updates/main amd64 libmysqlclient21 amd64 8.0.36-0ubuntu0.20.04.1 [1,302 kB]\nGet:2 http://archive.ubuntu.com/ubuntu focal-updates/main amd64 libmysqlclient-dev amd64 8.0.36-0ubuntu0.20.04.1 [1,641 kB]\nGet:3 http://archive.ubuntu.com/ubuntu focal/main amd64 default-libmysqlclient-dev amd64 1.0.5ubuntu2 [3,932 B]\nGet:4 http://archive.ubuntu.com/ubuntu focal-updates/main amd64 python3-numpy amd64 1:1.17.4-5ubuntu3.1 [2,724 kB]\nGet:5 http://archive.ubuntu.com/ubuntu focal/universe amd64 gdal-data all 3.0.4+dfsg-1build3 [186 kB]\nGet:6 http://archive.ubuntu.com/ubuntu focal/universe amd64 libarpack2 amd64 3.7.0-3 [92.8 kB]\nGet:7 http://archive.ubuntu.com/ubuntu focal/universe amd64 libsuperlu5 amd64 5.2.1+dfsg1-4 [159 kB]\nGet:8 http://archive.ubuntu.com/ubuntu focal/universe amd64 libarmadillo9 amd64 1:9.800.4+dfsg-1build1 [93.2 kB]\nGet:9 http://archive.ubuntu.com/ubuntu focal/universe amd64 libcfitsio8 amd64 3.470-3 [466 kB]\nGet:10 http://archive.ubuntu.com/ubuntu focal/universe amd64 libcharls2 amd64 2.0.0+dfsg-1build1 [74.1 kB]\nGet:11 http://archive.ubuntu.com/ubuntu focal/universe amd64 libdap25 amd64 3.20.5-1 [435 kB]\nGet:12 http://archive.ubuntu.com/ubuntu focal/universe amd64 libdapclient6v5 amd64 3.20.5-1 [92.2 kB]\nGet:13 http://archive.ubuntu.com/ubuntu focal/universe amd64 libepsilon1 amd64 0.9.2+dfsg-4 [41.0 kB]\nGet:14 http://archive.ubuntu.com/ubuntu focal/universe amd64 libfreexl1 amd64 1.0.5-3 [33.4 kB]\nGet:15 http://archive.ubuntu.com/ubuntu focal/universe amd64 libfyba0 amd64 4.1.1-6build1 [113 kB]\nGet:16 http://archive.ubuntu.com/ubuntu focal/universe amd64 libgeos-3.8.0 amd64 3.8.0-1build1 [535 kB]\nGet:17 http://archive.ubuntu.com/ubuntu focal/universe amd64 libgeos-c1v5 amd64 3.8.0-1build1 [69.9 kB]\nGet:18 http://archive.ubuntu.com/ubuntu focal/universe amd64 proj-data all 6.3.1-1 [7,647 kB]\nGet:19 http://archive.ubuntu.com/ubuntu focal/universe amd64 libproj15 amd64 6.3.1-1 [925 kB]\nGet:20 http://archive.ubuntu.com/ubuntu focal/universe amd64 libgeotiff5 amd64 1.5.1-2 [53.1 kB]\nGet:21 http://archive.ubuntu.com/ubuntu focal/universe amd64 libhdf4-0-alt amd64 4.2.14-1ubuntu1 [268 kB]\nGet:22 http://archive.ubuntu.com/ubuntu focal/universe amd64 libaec0 amd64 1.0.4-1 [19.1 kB]\nGet:23 http://archive.ubuntu.com/ubuntu focal/universe amd64 libsz2 amd64 1.0.4-1 [5,188 B]\nGet:24 http://archive.ubuntu.com/ubuntu focal/universe amd64 libhdf5-103 amd64 1.10.4+repack-11ubuntu1 [1,311 kB]\nGet:25 http://archive.ubuntu.com/ubuntu focal/universe amd64 libminizip1 amd64 1.1-8build1 [20.2 kB]\nGet:26 http://archive.ubuntu.com/ubuntu focal/universe amd64 liburiparser1 amd64 0.9.3-2 [39.3 kB]\nGet:27 http://archive.ubuntu.com/ubuntu focal/universe amd64 libkmlbase1 amd64 1.3.0-8build1 [45.4 kB]\nGet:28 http://archive.ubuntu.com/ubuntu focal/universe amd64 libkmldom1 amd64 1.3.0-8build1 [152 kB]\nGet:29 http://archive.ubuntu.com/ubuntu focal/universe amd64 libkmlengine1 amd64 1.3.0-8build1 [72.5 kB]\nGet:30 http://archive.ubuntu.com/ubuntu focal/universe amd64 libnetcdf15 amd64 1:4.7.3-1 [341 kB]\nGet:31 http://archive.ubuntu.com/ubuntu focal/universe amd64 libogdi4.1 amd64 4.1.0+ds-1build1 [198 kB]\nGet:32 http://archive.ubuntu.com/ubuntu focal-updates/main amd64 libpoppler97 amd64 0.86.1-0ubuntu1.4 [916 kB]\nGet:33 http://archive.ubuntu.com/ubuntu focal/universe amd64 libqhull7 amd64 2015.2-4 [152 kB]\nGet:34 http://archive.ubuntu.com/ubuntu focal/universe amd64 libspatialite7 amd64 4.3.0a-6build1 [1,286 kB]\nGet:35 http://archive.ubuntu.com/ubuntu focal-updates/universe amd64 libxerces-c3.2 amd64 3.2.2+debian-1ubuntu0.2 [878 kB]\nGet:36 http://archive.ubuntu.com/ubuntu focal/universe amd64 libgdal26 amd64 3.0.4+dfsg-1build3 [6,156 kB]\nGet:37 http://archive.ubuntu.com/ubuntu focal/universe amd64 python3-gdal amd64 3.0.4+dfsg-1build3 [527 kB]\nGet:38 http://archive.ubuntu.com/ubuntu focal/universe amd64 gdal-bin amd64 3.0.4+dfsg-1build3 [256 kB]\nGet:39 http://archive.ubuntu.com/ubuntu focal/universe amd64 hdf5-helpers amd64 1.10.4+repack-11ubuntu1 [13.6 kB]\nGet:40 http://archive.ubuntu.com/ubuntu focal/universe amd64 libarpack2-dev amd64 3.7.0-3 [105 kB]\nGet:41 http://archive.ubuntu.com/ubuntu focal/universe amd64 libaec-dev amd64 1.0.4-1 [16.9 kB]\nGet:42 http://archive.ubuntu.com/ubuntu focal/universe amd64 libhdf5-cpp-103 amd64 1.10.4+repack-11ubuntu1 [120 kB]\nGet:43 http://archive.ubuntu.com/ubuntu focal/universe amd64 libhdf5-dev amd64 1.10.4+repack-11ubuntu1 [2,589 kB]\nGet:44 http://archive.ubuntu.com/ubuntu focal/universe amd64 libsuperlu-dev amd64 5.2.1+dfsg1-4 [16.4 kB]\nGet:45 http://archive.ubuntu.com/ubuntu focal/universe amd64 libarmadillo-dev amd64 1:9.800.4+dfsg-1build1 [374 kB]\nGet:46 http://archive.ubuntu.com/ubuntu focal/main amd64 libboost1.71-dev amd64 1.71.0-6ubuntu6 [9,068 kB]\nGet:47 http://archive.ubuntu.com/ubuntu focal/main amd64 libboost-dev amd64 1.71.0.0ubuntu2 [3,596 B]\nGet:48 http://archive.ubuntu.com/ubuntu focal/universe amd64 libcfitsio-dev amd64 3.470-3 [517 kB]\nGet:49 http://archive.ubuntu.com/ubuntu focal/universe amd64 libcfitsio-doc all 3.470-3 [2,015 kB]\nGet:50 http://archive.ubuntu.com/ubuntu focal/universe amd64 libcharls-dev amd64 2.0.0+dfsg-1build1 [6,568 B]\nGet:51 http://archive.ubuntu.com/ubuntu focal/universe amd64 libdapserver7v5 amd64 3.20.5-1 [23.0 kB]\nGet:52 http://archive.ubuntu.com/ubuntu focal/universe amd64 libdap-dev amd64 3.20.5-1 [745 kB]\nGet:53 http://archive.ubuntu.com/ubuntu focal/universe amd64 libfyba-dev amd64 4.1.1-6build1 [167 kB]\nGet:54 http://archive.ubuntu.com/ubuntu focal/universe amd64 libgeos-dev amd64 3.8.0-1build1 [92.3 kB]\nGet:55 http://archive.ubuntu.com/ubuntu focal/main amd64 libgif-dev amd64 5.1.9-1 [20.6 kB]\nGet:56 http://archive.ubuntu.com/ubuntu focal/universe amd64 libkmlconvenience1 amd64 1.3.0-8build1 [44.7 kB]\nGet:57 http://archive.ubuntu.com/ubuntu focal/universe amd64 libkmlregionator1 amd64 1.3.0-8build1 [19.8 kB]\nGet:58 http://archive.ubuntu.com/ubuntu focal/universe amd64 libkmlxsd1 amd64 1.3.0-8build1 [27.1 kB]\nGet:59 http://archive.ubuntu.com/ubuntu focal/universe amd64 libminizip-dev amd64 1.1-8build1 [26.7 kB]\nGet:60 http://archive.ubuntu.com/ubuntu focal/universe amd64 libnetcdf-dev amd64 1:4.7.3-1 [45.7 kB]\nGet:61 http://archive.ubuntu.com/ubuntu focal/universe amd64 libogdi-dev amd64 4.1.0+ds-1build1 [22.1 kB]\nGet:62 http://archive.ubuntu.com/ubuntu focal-updates/main amd64 libpoppler-dev amd64 0.86.1-0ubuntu1.4 [5,348 B]\nGet:63 http://archive.ubuntu.com/ubuntu focal-updates/main amd64 libpoppler-private-dev amd64 0.86.1-0ubuntu1.4 [174 kB]\nGet:64 http://archive.ubuntu.com/ubuntu focal/universe amd64 libqhull-r7 amd64 2015.2-4 [149 kB]\nGet:65 http://archive.ubuntu.com/ubuntu focal/universe amd64 libqhull-dev amd64 2015.2-4 [357 kB]\nGet:66 http://archive.ubuntu.com/ubuntu focal/universe amd64 liburiparser-dev amd64 0.9.3-2 [12.0 kB]\nGet:67 http://archive.ubuntu.com/ubuntu focal-updates/main amd64 libwebpdemux2 amd64 0.6.1-2ubuntu0.20.04.3 [9,560 B]\nGet:68 http://archive.ubuntu.com/ubuntu focal-updates/universe amd64 libxerces-c-dev amd64 3.2.2+debian-1ubuntu0.2 [1,695 kB]\nGet:69 http://archive.ubuntu.com/ubuntu focal-updates/main amd64 libzstd-dev amd64 1.4.4+dfsg-3ubuntu0.1 [286 kB]\nGet:70 http://archive.ubuntu.com/ubuntu focal/universe amd64 libepsilon-dev amd64 0.9.2+dfsg-4 [48.6 kB]\nGet:71 http://archive.ubuntu.com/ubuntu focal/universe amd64 libfreexl-dev amd64 1.0.5-3 [30.9 kB]\nGet:72 http://archive.ubuntu.com/ubuntu focal/universe amd64 libproj-dev amd64 6.3.1-1 [1,092 kB]\nGet:73 http://archive.ubuntu.com/ubuntu focal/universe amd64 libgeotiff-dev amd64 1.5.1-2 [76.8 kB]\nGet:74 http://archive.ubuntu.com/ubuntu focal/universe amd64 libhdf4-alt-dev amd64 4.2.14-1ubuntu1 [369 kB]\nGet:75 http://archive.ubuntu.com/ubuntu focal-updates/main amd64 libjson-c-dev amd64 0.13.1+dfsg-7ubuntu0.3 [46.9 kB]\nGet:76 http://archive.ubuntu.com/ubuntu focal/universe amd64 libkml-dev amd64 1.3.0-8build1 [933 kB]\nGet:77 http://archive.ubuntu.com/ubuntu focal-updates/main amd64 libopenjp2-7-dev amd64 2.3.1-1ubuntu4.20.04.1 [26.7 kB]\nGet:78 http://archive.ubuntu.com/ubuntu focal/universe amd64 libspatialite-dev amd64 4.3.0a-6build1 [1,387 kB]\nGet:79 http://archive.ubuntu.com/ubuntu focal-updates/main amd64 libwebp-dev amd64 0.6.1-2ubuntu0.20.04.3 [267 kB]\nGet:80 http://archive.ubuntu.com/ubuntu focal/universe amd64 libgdal-dev amd64 3.0.4+dfsg-1build3 [8,093 kB]\nGet:81 http://archive.ubuntu.com/ubuntu focal/universe amd64 proj-bin amd64 6.3.1-1 [88.8 kB]\ndebconf: delaying package configuration, since apt-utils is not installed\nFetched 60.6 MB in 16s (3,684 kB/s)\nSelecting previously unselected package libmysqlclient21:amd64.\n(Reading database ... \n(Reading database ... 5%\n(Reading database ... 10%\n(Reading database ... 15%\n(Reading database ... 20%\n(Reading database ... 25%\n(Reading database ... 30%\n(Reading database ... 35%\n(Reading database ... 40%\n(Reading database ... 45%\n(Reading database ... 50%\n(Reading database ... 55%\n(Reading database ... 60%\n(Reading database ... 65%\n(Reading database ... 70%\n(Reading database ... 75%\n(Reading database ... 80%\n(Reading database ... 85%\n(Reading database ... 90%\n(Reading database ... 95%\n(Reading database ... 100%\n(Reading database ... 96185 files and directories currently installed.)\nPreparing to unpack .../00-libmysqlclient21_8.0.36-0ubuntu0.20.04.1_amd64.deb ...\nUnpacking libmysqlclient21:amd64 (8.0.36-0ubuntu0.20.04.1) ...\nSelecting previously unselected package libmysqlclient-dev.\nPreparing to unpack .../01-libmysqlclient-dev_8.0.36-0ubuntu0.20.04.1_amd64.deb ...\nUnpacking libmysqlclient-dev (8.0.36-0ubuntu0.20.04.1) ...\nSelecting previously unselected package default-libmysqlclient-dev:amd64.\nPreparing to unpack .../02-default-libmysqlclient-dev_1.0.5ubuntu2_amd64.deb ...\nUnpacking default-libmysqlclient-dev:amd64 (1.0.5ubuntu2) ...\nSelecting previously unselected package python3-numpy.\nPreparing to unpack .../03-python3-numpy_1%3a1.17.4-5ubuntu3.1_amd64.deb ...\nUnpacking python3-numpy (1:1.17.4-5ubuntu3.1) ...\nSelecting previously unselected package gdal-data.\nPreparing to unpack .../04-gdal-data_3.0.4+dfsg-1build3_all.deb ...\nUnpacking gdal-data (3.0.4+dfsg-1build3) ...\nSelecting previously unselected package libarpack2:amd64.\nPreparing to unpack .../05-libarpack2_3.7.0-3_amd64.deb ...\nUnpacking libarpack2:amd64 (3.7.0-3) ...\nSelecting previously unselected package libsuperlu5:amd64.\nPreparing to unpack .../06-libsuperlu5_5.2.1+dfsg1-4_amd64.deb ...\nUnpacking libsuperlu5:amd64 (5.2.1+dfsg1-4) ...\nSelecting previously unselected package libarmadillo9.\nPreparing to unpack .../07-libarmadillo9_1%3a9.800.4+dfsg-1build1_amd64.deb ...\nUnpacking libarmadillo9 (1:9.800.4+dfsg-1build1) ...\nSelecting previously unselected package libcfitsio8:amd64.\nPreparing to unpack .../08-libcfitsio8_3.470-3_amd64.deb ...\nUnpacking libcfitsio8:amd64 (3.470-3) ...\nSelecting previously unselected package libcharls2:amd64.\nPreparing to unpack .../09-libcharls2_2.0.0+dfsg-1build1_amd64.deb ...\nUnpacking libcharls2:amd64 (2.0.0+dfsg-1build1) ...\nSelecting previously unselected package libdap25:amd64.\nPreparing to unpack .../10-libdap25_3.20.5-1_amd64.deb ...\nUnpacking libdap25:amd64 (3.20.5-1) ...\nSelecting previously unselected package libdapclient6v5:amd64.\nPreparing to unpack .../11-libdapclient6v5_3.20.5-1_amd64.deb ...\nUnpacking libdapclient6v5:amd64 (3.20.5-1) ...\nSelecting previously unselected package libepsilon1:amd64.\nPreparing to unpack .../12-libepsilon1_0.9.2+dfsg-4_amd64.deb ...\nUnpacking libepsilon1:amd64 (0.9.2+dfsg-4) ...\nSelecting previously unselected package libfreexl1:amd64.\nPreparing to unpack .../13-libfreexl1_1.0.5-3_amd64.deb ...\nUnpacking libfreexl1:amd64 (1.0.5-3) ...\nSelecting previously unselected package libfyba0:amd64.\nPreparing to unpack .../14-libfyba0_4.1.1-6build1_amd64.deb ...\nUnpacking libfyba0:amd64 (4.1.1-6build1) ...\nSelecting previously unselected package libgeos-3.8.0:amd64.\nPreparing to unpack .../15-libgeos-3.8.0_3.8.0-1build1_amd64.deb ...\nUnpacking libgeos-3.8.0:amd64 (3.8.0-1build1) ...\nSelecting previously unselected package libgeos-c1v5:amd64.\nPreparing to unpack .../16-libgeos-c1v5_3.8.0-1build1_amd64.deb ...\nUnpacking libgeos-c1v5:amd64 (3.8.0-1build1) ...\nSelecting previously unselected package proj-data.\nPreparing to unpack .../17-proj-data_6.3.1-1_all.deb ...\nUnpacking proj-data (6.3.1-1) ...\nSelecting previously unselected package libproj15:amd64.\nPreparing to unpack .../18-libproj15_6.3.1-1_amd64.deb ...\nUnpacking libproj15:amd64 (6.3.1-1) ...\nSelecting previously unselected package libgeotiff5:amd64.\nPreparing to unpack .../19-libgeotiff5_1.5.1-2_amd64.deb ...\nUnpacking libgeotiff5:amd64 (1.5.1-2) ...\nSelecting previously unselected package libhdf4-0-alt.\nPreparing to unpack .../20-libhdf4-0-alt_4.2.14-1ubuntu1_amd64.deb ...\nUnpacking libhdf4-0-alt (4.2.14-1ubuntu1) ...\nSelecting previously unselected package libaec0:amd64.\nPreparing to unpack .../21-libaec0_1.0.4-1_amd64.deb ...\nUnpacking libaec0:amd64 (1.0.4-1) ...\nSelecting previously unselected package libsz2:amd64.\nPreparing to unpack .../22-libsz2_1.0.4-1_amd64.deb ...\nUnpacking libsz2:amd64 (1.0.4-1) ...\nSelecting previously unselected package libhdf5-103:amd64.\nPreparing to unpack .../23-libhdf5-103_1.10.4+repack-11ubuntu1_amd64.deb ...\nUnpacking libhdf5-103:amd64 (1.10.4+repack-11ubuntu1) ...\nSelecting previously unselected package libminizip1:amd64.\nPreparing to unpack .../24-libminizip1_1.1-8build1_amd64.deb ...\nUnpacking libminizip1:amd64 (1.1-8build1) ...\nSelecting previously unselected package liburiparser1:amd64.\nPreparing to unpack .../25-liburiparser1_0.9.3-2_amd64.deb ...\nUnpacking liburiparser1:amd64 (0.9.3-2) ...\nSelecting previously unselected package libkmlbase1:amd64.\nPreparing to unpack .../26-libkmlbase1_1.3.0-8build1_amd64.deb ...\nUnpacking libkmlbase1:amd64 (1.3.0-8build1) ...\nSelecting previously unselected package libkmldom1:amd64.\nPreparing to unpack .../27-libkmldom1_1.3.0-8build1_amd64.deb ...\nUnpacking libkmldom1:amd64 (1.3.0-8build1) ...\nSelecting previously unselected package libkmlengine1:amd64.\nPreparing to unpack .../28-libkmlengine1_1.3.0-8build1_amd64.deb ...\nUnpacking libkmlengine1:amd64 (1.3.0-8build1) ...\nSelecting previously unselected package libnetcdf15:amd64.\nPreparing to unpack .../29-libnetcdf15_1%3a4.7.3-1_amd64.deb ...\nUnpacking libnetcdf15:amd64 (1:4.7.3-1) ...\nSelecting previously unselected package libogdi4.1.\nPreparing to unpack .../30-libogdi4.1_4.1.0+ds-1build1_amd64.deb ...\nUnpacking libogdi4.1 (4.1.0+ds-1build1) ...\nSelecting previously unselected package libpoppler97:amd64.\nPreparing to unpack .../31-libpoppler97_0.86.1-0ubuntu1.4_amd64.deb ...\nUnpacking libpoppler97:amd64 (0.86.1-0ubuntu1.4) ...\nSelecting previously unselected package libqhull7:amd64.\nPreparing to unpack .../32-libqhull7_2015.2-4_amd64.deb ...\nUnpacking libqhull7:amd64 (2015.2-4) ...\nSelecting previously unselected package libspatialite7:amd64.\nPreparing to unpack .../33-libspatialite7_4.3.0a-6build1_amd64.deb ...\nUnpacking libspatialite7:amd64 (4.3.0a-6build1) ...\nSelecting previously unselected package libxerces-c3.2:amd64.\nPreparing to unpack .../34-libxerces-c3.2_3.2.2+debian-1ubuntu0.2_amd64.deb ...\nUnpacking libxerces-c3.2:amd64 (3.2.2+debian-1ubuntu0.2) ...\nSelecting previously unselected package libgdal26.\nPreparing to unpack .../35-libgdal26_3.0.4+dfsg-1build3_amd64.deb ...\nUnpacking libgdal26 (3.0.4+dfsg-1build3) ...\nSelecting previously unselected package python3-gdal.\nPreparing to unpack .../36-python3-gdal_3.0.4+dfsg-1build3_amd64.deb ...\nUnpacking python3-gdal (3.0.4+dfsg-1build3) ...\nSelecting previously unselected package gdal-bin.\nPreparing to unpack .../37-gdal-bin_3.0.4+dfsg-1build3_amd64.deb ...\nUnpacking gdal-bin (3.0.4+dfsg-1build3) ...\nSelecting previously unselected package hdf5-helpers.\nPreparing to unpack .../38-hdf5-helpers_1.10.4+repack-11ubuntu1_amd64.deb ...\nUnpacking hdf5-helpers (1.10.4+repack-11ubuntu1) ...\nSelecting previously unselected package libarpack2-dev:amd64.\nPreparing to unpack .../39-libarpack2-dev_3.7.0-3_amd64.deb ...\nUnpacking libarpack2-dev:amd64 (3.7.0-3) ...\nSelecting previously unselected package libaec-dev:amd64.\nPreparing to unpack .../40-libaec-dev_1.0.4-1_amd64.deb ...\nUnpacking libaec-dev:amd64 (1.0.4-1) ...\nSelecting previously unselected package libhdf5-cpp-103:amd64.\nPreparing to unpack .../41-libhdf5-cpp-103_1.10.4+repack-11ubuntu1_amd64.deb ...\nUnpacking libhdf5-cpp-103:amd64 (1.10.4+repack-11ubuntu1) ...\nSelecting previously unselected package libhdf5-dev.\nPreparing to unpack .../42-libhdf5-dev_1.10.4+repack-11ubuntu1_amd64.deb ...\nUnpacking libhdf5-dev (1.10.4+repack-11ubuntu1) ...\nSelecting previously unselected package libsuperlu-dev:amd64.\nPreparing to unpack .../43-libsuperlu-dev_5.2.1+dfsg1-4_amd64.deb ...\nUnpacking libsuperlu-dev:amd64 (5.2.1+dfsg1-4) ...\nSelecting previously unselected package libarmadillo-dev.\nPreparing to unpack .../44-libarmadillo-dev_1%3a9.800.4+dfsg-1build1_amd64.deb ...\nUnpacking libarmadillo-dev (1:9.800.4+dfsg-1build1) ...\nSelecting previously unselected package libboost1.71-dev:amd64.\nPreparing to unpack .../45-libboost1.71-dev_1.71.0-6ubuntu6_amd64.deb ...\nUnpacking libboost1.71-dev:amd64 (1.71.0-6ubuntu6) ...\nSelecting previously unselected package libboost-dev:amd64.\nPreparing to unpack .../46-libboost-dev_1.71.0.0ubuntu2_amd64.deb ...\nUnpacking libboost-dev:amd64 (1.71.0.0ubuntu2) ...\nSelecting previously unselected package libcfitsio-dev:amd64.\nPreparing to unpack .../47-libcfitsio-dev_3.470-3_amd64.deb ...\nUnpacking libcfitsio-dev:amd64 (3.470-3) ...\nSelecting previously unselected package libcfitsio-doc.\nPreparing to unpack .../48-libcfitsio-doc_3.470-3_all.deb ...\nUnpacking libcfitsio-doc (3.470-3) ...\nSelecting previously unselected package libcharls-dev:amd64.\nPreparing to unpack .../49-libcharls-dev_2.0.0+dfsg-1build1_amd64.deb ...\nUnpacking libcharls-dev:amd64 (2.0.0+dfsg-1build1) ...\nSelecting previously unselected package libdapserver7v5:amd64.\nPreparing to unpack .../50-libdapserver7v5_3.20.5-1_amd64.deb ...\nUnpacking libdapserver7v5:amd64 (3.20.5-1) ...\nSelecting previously unselected package libdap-dev:amd64.\nPreparing to unpack .../51-libdap-dev_3.20.5-1_amd64.deb ...\nUnpacking libdap-dev:amd64 (3.20.5-1) ...\nSelecting previously unselected package libfyba-dev:amd64.\nPreparing to unpack .../52-libfyba-dev_4.1.1-6build1_amd64.deb ...\nUnpacking libfyba-dev:amd64 (4.1.1-6build1) ...\nSelecting previously unselected package libgeos-dev.\nPreparing to unpack .../53-libgeos-dev_3.8.0-1build1_amd64.deb ...\nUnpacking libgeos-dev (3.8.0-1build1) ...\nSelecting previously unselected package libgif-dev.\nPreparing to unpack .../54-libgif-dev_5.1.9-1_amd64.deb ...\nUnpacking libgif-dev (5.1.9-1) ...\nSelecting previously unselected package libkmlconvenience1:amd64.\nPreparing to unpack .../55-libkmlconvenience1_1.3.0-8build1_amd64.deb ...\nUnpacking libkmlconvenience1:amd64 (1.3.0-8build1) ...\nSelecting previously unselected package libkmlregionator1:amd64.\nPreparing to unpack .../56-libkmlregionator1_1.3.0-8build1_amd64.deb ...\nUnpacking libkmlregionator1:amd64 (1.3.0-8build1) ...\nSelecting previously unselected package libkmlxsd1:amd64.\nPreparing to unpack .../57-libkmlxsd1_1.3.0-8build1_amd64.deb ...\nUnpacking libkmlxsd1:amd64 (1.3.0-8build1) ...\nSelecting previously unselected package libminizip-dev:amd64.\nPreparing to unpack .../58-libminizip-dev_1.1-8build1_amd64.deb ...\nUnpacking libminizip-dev:amd64 (1.1-8build1) ...\nSelecting previously unselected package libnetcdf-dev.\nPreparing to unpack .../59-libnetcdf-dev_1%3a4.7.3-1_amd64.deb ...\nUnpacking libnetcdf-dev (1:4.7.3-1) ...\nSelecting previously unselected package libogdi-dev.\nPreparing to unpack .../60-libogdi-dev_4.1.0+ds-1build1_amd64.deb ...\nUnpacking libogdi-dev (4.1.0+ds-1build1) ...\nSelecting previously unselected package libpoppler-dev:amd64.\nPreparing to unpack .../61-libpoppler-dev_0.86.1-0ubuntu1.4_amd64.deb ...\nUnpacking libpoppler-dev:amd64 (0.86.1-0ubuntu1.4) ...\nSelecting previously unselected package libpoppler-private-dev:amd64.\nPreparing to unpack .../62-libpoppler-private-dev_0.86.1-0ubuntu1.4_amd64.deb ...\nUnpacking libpoppler-private-dev:amd64 (0.86.1-0ubuntu1.4) ...\nSelecting previously unselected package libqhull-r7:amd64.\nPreparing to unpack .../63-libqhull-r7_2015.2-4_amd64.deb ...\nUnpacking libqhull-r7:amd64 (2015.2-4) ...\nSelecting previously unselected package libqhull-dev:amd64.\nPreparing to unpack .../64-libqhull-dev_2015.2-4_amd64.deb ...\nUnpacking libqhull-dev:amd64 (2015.2-4) ...\nSelecting previously unselected package liburiparser-dev.\nPreparing to unpack .../65-liburiparser-dev_0.9.3-2_amd64.deb ...\nUnpacking liburiparser-dev (0.9.3-2) ...\nSelecting previously unselected package libwebpdemux2:amd64.\nPreparing to unpack .../66-libwebpdemux2_0.6.1-2ubuntu0.20.04.3_amd64.deb ...\nUnpacking libwebpdemux2:amd64 (0.6.1-2ubuntu0.20.04.3) ...\nSelecting previously unselected package libxerces-c-dev.\nPreparing to unpack .../67-libxerces-c-dev_3.2.2+debian-1ubuntu0.2_amd64.deb ...\nUnpacking libxerces-c-dev (3.2.2+debian-1ubuntu0.2) ...\nSelecting previously unselected package libzstd-dev:amd64.\nPreparing to unpack .../68-libzstd-dev_1.4.4+dfsg-3ubuntu0.1_amd64.deb ...\nUnpacking libzstd-dev:amd64 (1.4.4+dfsg-3ubuntu0.1) ...\nSelecting previously unselected package libepsilon-dev:amd64.\nPreparing to unpack .../69-libepsilon-dev_0.9.2+dfsg-4_amd64.deb ...\nUnpacking libepsilon-dev:amd64 (0.9.2+dfsg-4) ...\nSelecting previously unselected package libfreexl-dev:amd64.\nPreparing to unpack .../70-libfreexl-dev_1.0.5-3_amd64.deb ...\nUnpacking libfreexl-dev:amd64 (1.0.5-3) ...\nSelecting previously unselected package libproj-dev:amd64.\nPreparing to unpack .../71-libproj-dev_6.3.1-1_amd64.deb ...\nUnpacking libproj-dev:amd64 (6.3.1-1) ...\nSelecting previously unselected package libgeotiff-dev:amd64.\nPreparing to unpack .../72-libgeotiff-dev_1.5.1-2_amd64.deb ...\nUnpacking libgeotiff-dev:amd64 (1.5.1-2) ...\nSelecting previously unselected package libhdf4-alt-dev.\nPreparing to unpack .../73-libhdf4-alt-dev_4.2.14-1ubuntu1_amd64.deb ...\nUnpacking libhdf4-alt-dev (4.2.14-1ubuntu1) ...\nSelecting previously unselected package libjson-c-dev:amd64.\nPreparing to unpack .../74-libjson-c-dev_0.13.1+dfsg-7ubuntu0.3_amd64.deb ...\nUnpacking libjson-c-dev:amd64 (0.13.1+dfsg-7ubuntu0.3) ...\nSelecting previously unselected package libkml-dev:amd64.\nPreparing to unpack .../75-libkml-dev_1.3.0-8build1_amd64.deb ...\nUnpacking libkml-dev:amd64 (1.3.0-8build1) ...\nSelecting previously unselected package libopenjp2-7-dev.\nPreparing to unpack .../76-libopenjp2-7-dev_2.3.1-1ubuntu4.20.04.1_amd64.deb ...\nUnpacking libopenjp2-7-dev (2.3.1-1ubuntu4.20.04.1) ...\nSelecting previously unselected package libspatialite-dev:amd64.\nPreparing to unpack .../77-libspatialite-dev_4.3.0a-6build1_amd64.deb ...\nUnpacking libspatialite-dev:amd64 (4.3.0a-6build1) ...\nSelecting previously unselected package libwebp-dev:amd64.\nPreparing to unpack .../78-libwebp-dev_0.6.1-2ubuntu0.20.04.3_amd64.deb ...\nUnpacking libwebp-dev:amd64 (0.6.1-2ubuntu0.20.04.3) ...\nSelecting previously unselected package libgdal-dev.\nPreparing to unpack .../79-libgdal-dev_3.0.4+dfsg-1build3_amd64.deb ...\nUnpacking libgdal-dev (3.0.4+dfsg-1build3) ...\nSelecting previously unselected package proj-bin.\nPreparing to unpack .../80-proj-bin_6.3.1-1_amd64.deb ...\nUnpacking proj-bin (6.3.1-1) ...\nSetting up libmysqlclient21:amd64 (8.0.36-0ubuntu0.20.04.1) ...\nSetting up libzstd-dev:amd64 (1.4.4+dfsg-3ubuntu0.1) ...\nSetting up libxerces-c3.2:amd64 (3.2.2+debian-1ubuntu0.2) ...\nSetting up proj-data (6.3.1-1) ...\nSetting up hdf5-helpers (1.10.4+repack-11ubuntu1) ...\nSetting up libgeos-3.8.0:amd64 (3.8.0-1build1) ...\nSetting up libogdi4.1 (4.1.0+ds-1build1) ...\nSetting up libcharls2:amd64 (2.0.0+dfsg-1build1) ...\nSetting up libminizip1:amd64 (1.1-8build1) ...\nSetting up libjson-c-dev:amd64 (0.13.1+dfsg-7ubuntu0.3) ...\nSetting up libwebpdemux2:amd64 (0.6.1-2ubuntu0.20.04.3) ...\nSetting up libboost1.71-dev:amd64 (1.71.0-6ubuntu6) ...\nSetting up libarpack2:amd64 (3.7.0-3) ...\nSetting up libsuperlu5:amd64 (5.2.1+dfsg1-4) ...\nSetting up libdap25:amd64 (3.20.5-1) ...\nSetting up libqhull7:amd64 (2015.2-4) ...\nSetting up libpoppler97:amd64 (0.86.1-0ubuntu1.4) ...\nSetting up libepsilon1:amd64 (0.9.2+dfsg-4) ...\nSetting up libdapserver7v5:amd64 (3.20.5-1) ...\nSetting up libaec0:amd64 (1.0.4-1) ...\nSetting up gdal-data (3.0.4+dfsg-1build3) ...\nSetting up libminizip-dev:amd64 (1.1-8build1) ...\nSetting up libwebp-dev:amd64 (0.6.1-2ubuntu0.20.04.3) ...\nSetting up libcfitsio8:amd64 (3.470-3) ...\nSetting up libopenjp2-7-dev (2.3.1-1ubuntu4.20.04.1) ...\nSetting up libxerces-c-dev (3.2.2+debian-1ubuntu0.2) ...\nSetting up libgeos-c1v5:amd64 (3.8.0-1build1) ...\nSetting up libproj15:amd64 (6.3.1-1) ...\nSetting up python3-numpy (1:1.17.4-5ubuntu3.1) ...\nSetting up libhdf4-0-alt (4.2.14-1ubuntu1) ...\nSetting up liburiparser1:amd64 (0.9.3-2) ...\nSetting up libfreexl1:amd64 (1.0.5-3) ...\nSetting up libgif-dev (5.1.9-1) ...\nSetting up libfyba0:amd64 (4.1.1-6build1) ...\nSetting up libkmlbase1:amd64 (1.3.0-8build1) ...\nSetting up libdapclient6v5:amd64 (3.20.5-1) ...\nSetting up libboost-dev:amd64 (1.71.0.0ubuntu2) ...\nSetting up libqhull-r7:amd64 (2015.2-4) ...\nSetting up libarmadillo9 (1:9.800.4+dfsg-1build1) ...\nSetting up libepsilon-dev:amd64 (0.9.2+dfsg-4) ...\nSetting up libsuperlu-dev:amd64 (5.2.1+dfsg1-4) ...\nSetting up libogdi-dev (4.1.0+ds-1build1) ...\nSetting up libcfitsio-doc (3.470-3) ...\nSetting up libdap-dev:amd64 (3.20.5-1) ...\nSetting up libsz2:amd64 (1.0.4-1) ...\nSetting up libmysqlclient-dev (8.0.36-0ubuntu0.20.04.1) ...\nSetting up libkmlxsd1:amd64 (1.3.0-8build1) ...\nSetting up libkmldom1:amd64 (1.3.0-8build1) ...\nSetting up default-libmysqlclient-dev:amd64 (1.0.5ubuntu2) ...\nSetting up libpoppler-dev:amd64 (0.86.1-0ubuntu1.4) ...\nSetting up libspatialite7:amd64 (4.3.0a-6build1) ...\nSetting up libcharls-dev:amd64 (2.0.0+dfsg-1build1) ...\nSetting up libarpack2-dev:amd64 (3.7.0-3) ...\nSetting up libcfitsio-dev:amd64 (3.470-3) ...\nSetting up libkmlengine1:amd64 (1.3.0-8build1) ...\nSetting up libkmlconvenience1:amd64 (1.3.0-8build1) ...\nSetting up libfreexl-dev:amd64 (1.0.5-3) ...\nSetting up libfyba-dev:amd64 (4.1.1-6build1) ...\nSetting up libpoppler-private-dev:amd64 (0.86.1-0ubuntu1.4) ...\nSetting up libaec-dev:amd64 (1.0.4-1) ...\nSetting up proj-bin (6.3.1-1) ...\nSetting up libgeotiff5:amd64 (1.5.1-2) ...\nSetting up liburiparser-dev (0.9.3-2) ...\nSetting up libkmlregionator1:amd64 (1.3.0-8build1) ...\nSetting up libgeos-dev (3.8.0-1build1) ...\nSetting up libhdf5-103:amd64 (1.10.4+repack-11ubuntu1) ...\nSetting up libproj-dev:amd64 (6.3.1-1) ...\nSetting up libspatialite-dev:amd64 (4.3.0a-6build1) ...\nSetting up libqhull-dev:amd64 (2015.2-4) ...\nSetting up libkml-dev:amd64 (1.3.0-8build1) ...\nSetting up libgeotiff-dev:amd64 (1.5.1-2) ...\nSetting up libhdf5-cpp-103:amd64 (1.10.4+repack-11ubuntu1) ...\nSetting up libnetcdf15:amd64 (1:4.7.3-1) ...\nSetting up libhdf5-dev (1.10.4+repack-11ubuntu1) ...\nupdate-alternatives: using /usr/lib/x86_64-linux-gnu/pkgconfig/hdf5-serial.pc to provide /usr/lib/x86_64-linux-gnu/pkgconfig/hdf5.pc (hdf5.pc) in auto mode\nSetting up libnetcdf-dev (1:4.7.3-1) ...\nSetting up libgdal26 (3.0.4+dfsg-1build3) ...\nSetting up libarmadillo-dev (1:9.800.4+dfsg-1build1) ...\nSetting up libhdf4-alt-dev (4.2.14-1ubuntu1) ...\nSetting up libgdal-dev (3.0.4+dfsg-1build3) ...\nSetting up python3-gdal (3.0.4+dfsg-1build3) ...\nSetting up gdal-bin (3.0.4+dfsg-1build3) ...\nProcessing triggers for man-db (2.9.1-1) ...\nProcessing triggers for libc-bin (2.31-0ubuntu9.14) ...\nReading package lists...\nBuilding dependency tree...\nReading state information...\nlibproj-dev is already the newest version (6.3.1-1).\nlibproj-dev set to manually installed.\n0 upgraded, 0 newly installed, 0 to remove and 24 not upgraded.\n"
     ]
    }
   ],
   "source": [
    "%sh\n",
    "#!/bin/bash\n",
    "sudo apt-get update\n",
    "# Isso instala o gdal na máquina\n",
    "sudo apt-get install -y gdal-bin libgdal-dev\n",
    "sudo apt-get install -y libproj-dev"
   ]
  },
  {
   "cell_type": "markdown",
   "metadata": {
    "application/vnd.databricks.v1+cell": {
     "cellMetadata": {
      "byteLimit": 2048000,
      "rowLimit": 10000
     },
     "inputWidgets": {},
     "nuid": "18e14542-4d73-4a4d-94a4-711fed8562ad",
     "showTitle": false,
     "title": ""
    }
   },
   "source": [
    "os arquivos precisam estar com os nomes corretos"
   ]
  },
  {
   "cell_type": "code",
   "execution_count": 0,
   "metadata": {
    "application/vnd.databricks.v1+cell": {
     "cellMetadata": {
      "byteLimit": 2048000,
      "rowLimit": 10000
     },
     "inputWidgets": {},
     "nuid": "a36ca8dd-a6a6-4304-8ed2-cf8ec09cf8d4",
     "showTitle": false,
     "title": ""
    }
   },
   "outputs": [
    {
     "output_type": "stream",
     "name": "stdout",
     "output_type": "stream",
     "text": [
      "__init__.py\n__pycache__\n_gdal.so\n_gdal_array.so\n_gdalconst.so\n_gnm.cpython-38-x86_64-linux-gnu.so\n_ogr.so\n_osr.so\ngdal.py\ngdal_array.py\ngdalconst.py\ngdalnumeric.py\ngnm.py\nogr.py\nosr.py\n"
     ]
    }
   ],
   "source": [
    "%sh\n",
    "cd /usr/lib/python3/dist-packages/osgeo\n",
    "mv _gdal.cpython-38-x86_64-linux-gnu.so _gdal.so\n",
    "mv _gdalconst.cpython-38-x86_64-linux-gnu.so _gdalconst.so\n",
    "mv _ogr.cpython-38-x86_64-linux-gnu.so _ogr.so\n",
    "mv _osr.cpython-38-x86_64-linux-gnu.so _osr.so\n",
    "mv _gdal_array.cpython-38-x86_64-linux-gnu.so _gdal_array.so\n",
    "ls /usr/lib/python3/dist-packages/osgeo"
   ]
  },
  {
   "cell_type": "markdown",
   "metadata": {
    "application/vnd.databricks.v1+cell": {
     "cellMetadata": {
      "byteLimit": 2048000,
      "rowLimit": 10000
     },
     "inputWidgets": {},
     "nuid": "b1642662-e870-4ccc-9699-93fa77a04dc7",
     "showTitle": false,
     "title": ""
    }
   },
   "source": [
    "Bibliotecas"
   ]
  },
  {
   "cell_type": "code",
   "execution_count": 0,
   "metadata": {
    "application/vnd.databricks.v1+cell": {
     "cellMetadata": {
      "byteLimit": 2048000,
      "rowLimit": 10000
     },
     "inputWidgets": {},
     "nuid": "5994f276-71d5-4dca-aac6-409918152afa",
     "showTitle": false,
     "title": ""
    }
   },
   "outputs": [],
   "source": [
    "from pyspark.sql import SparkSession\n",
    "import os"
   ]
  },
  {
   "cell_type": "code",
   "execution_count": 0,
   "metadata": {
    "application/vnd.databricks.v1+cell": {
     "cellMetadata": {
      "byteLimit": 2048000,
      "rowLimit": 10000
     },
     "inputWidgets": {},
     "nuid": "ae56969d-30dc-4784-80e9-36abe0422eac",
     "showTitle": false,
     "title": ""
    }
   },
   "outputs": [
    {
     "output_type": "stream",
     "name": "stdout",
     "output_type": "stream",
     "text": [
      "Collecting pyspark\r\n  Downloading pyspark-3.5.1.tar.gz (317.0 MB)\r\n\u001B[?25l     \u001B[90m━━━━━━━━━━━━━━━━━━━━━━━━━━━━━━━━━━━━━━━━\u001B[0m \u001B[32m0.0/317.0 MB\u001B[0m \u001B[31m?\u001B[0m eta \u001B[36m-:--:--\u001B[0m\r\u001B[2K     \u001B[90m━━━━━━━━━━━━━━━━━━━━━━━━━━━━━━━━━━━━━━━━\u001B[0m \u001B[32m0.2/317.0 MB\u001B[0m \u001B[31m6.2 MB/s\u001B[0m eta \u001B[36m0:00:52\u001B[0m\r\u001B[2K     \u001B[90m━━━━━━━━━━━━━━━━━━━━━━━━━━━━━━━━━━━━━━━━\u001B[0m \u001B[32m0.4/317.0 MB\u001B[0m \u001B[31m5.4 MB/s\u001B[0m eta \u001B[36m0:00:59\u001B[0m\r\u001B[2K     \u001B[90m━━━━━━━━━━━━━━━━━━━━━━━━━━━━━━━━━━━━━━━━\u001B[0m \u001B[32m0.7/317.0 MB\u001B[0m \u001B[31m6.5 MB/s\u001B[0m eta \u001B[36m0:00:49\u001B[0m\r\u001B[2K     \u001B[90m━━━━━━━━━━━━━━━━━━━━━━━━━━━━━━━━━━━━━━━━\u001B[0m \u001B[32m2.3/317.0 MB\u001B[0m \u001B[31m15.5 MB/s\u001B[0m eta \u001B[36m0:00:21\u001B[0m\r\u001B[2K     \u001B[91m╸\u001B[0m\u001B[90m━━━━━━━━━━━━━━━━━━━━━━━━━━━━━━━━━━━━━━━\u001B[0m \u001B[32m5.2/317.0 MB\u001B[0m \u001B[31m28.0 MB/s\u001B[0m eta \u001B[36m0:00:12\u001B[0m\r\u001B[2K     \u001B[91m━\u001B[0m\u001B[90m╺\u001B[0m\u001B[90m━━━━━━━━━━━━━━━━━━━━━━━━━━━━━━━━━━━━━━\u001B[0m \u001B[32m8.8/317.0 MB\u001B[0m \u001B[31m39.7 MB/s\u001B[0m eta \u001B[36m0:00:08\u001B[0m\r\u001B[2K     \u001B[91m━\u001B[0m\u001B[91m╸\u001B[0m\u001B[90m━━━━━━━━━━━━━━━━━━━━━━━━━━━━━━━━━━━━━\u001B[0m \u001B[32m12.7/317.0 MB\u001B[0m \u001B[31m96.7 MB/s\u001B[0m eta \u001B[36m0:00:04\u001B[0m\r\u001B[2K     \u001B[91m━\u001B[0m\u001B[91m╸\u001B[0m\u001B[90m━━━━━━━━━━━━━━━━━━━━━━━━━━━━━━━━━━━━━\u001B[0m \u001B[32m15.1/317.0 MB\u001B[0m \u001B[31m81.0 MB/s\u001B[0m eta \u001B[36m0:00:04\u001B[0m\r\u001B[2K     \u001B[91m━━\u001B[0m\u001B[90m╺\u001B[0m\u001B[90m━━━━━━━━━━━━━━━━━━━━━━━━━━━━━━━━━━━━\u001B[0m \u001B[32m17.6/317.0 MB\u001B[0m \u001B[31m73.9 MB/s\u001B[0m eta \u001B[36m0:00:05\u001B[0m\r\u001B[2K     \u001B[91m━━\u001B[0m\u001B[90m╺\u001B[0m\u001B[90m━━━━━━━━━━━━━━━━━━━━━━━━━━━━━━━━━━━━\u001B[0m \u001B[32m20.2/317.0 MB\u001B[0m \u001B[31m68.4 MB/s\u001B[0m eta \u001B[36m0:00:05\u001B[0m\r\u001B[2K     \u001B[91m━━━\u001B[0m\u001B[90m╺\u001B[0m\u001B[90m━━━━━━━━━━━━━━━━━━━━━━━━━━━━━━━━━━━\u001B[0m \u001B[32m24.7/317.0 MB\u001B[0m \u001B[31m75.0 MB/s\u001B[0m eta \u001B[36m0:00:04\u001B[0m\r\u001B[2K     \u001B[91m━━━\u001B[0m\u001B[91m╸\u001B[0m\u001B[90m━━━━━━━━━━━━━━━━━━━━━━━━━━━━━━━━━━━\u001B[0m \u001B[32m28.6/317.0 MB\u001B[0m \u001B[31m95.8 MB/s\u001B[0m eta \u001B[36m0:00:04\u001B[0m\r\u001B[2K     \u001B[91m━━━\u001B[0m\u001B[91m╸\u001B[0m\u001B[90m━━━━━━━━━━━━━━━━━━━━━━━━━━━━━━━━━━━\u001B[0m \u001B[32m32.2/317.0 MB\u001B[0m \u001B[31m97.7 MB/s\u001B[0m eta \u001B[36m0:00:03\u001B[0m\r\u001B[2K     \u001B[91m━━━━\u001B[0m\u001B[90m╺\u001B[0m\u001B[90m━━━━━━━━━━━━━━━━━━━━━━━━━━━━━━━━━\u001B[0m \u001B[32m36.0/317.0 MB\u001B[0m \u001B[31m100.8 MB/s\u001B[0m eta \u001B[36m0:00:03\u001B[0m\r\u001B[2K     \u001B[91m━━━━\u001B[0m\u001B[91m╸\u001B[0m\u001B[90m━━━━━━━━━━━━━━━━━━━━━━━━━━━━━━━━━\u001B[0m \u001B[32m39.8/317.0 MB\u001B[0m \u001B[31m102.8 MB/s\u001B[0m eta \u001B[36m0:00:03\u001B[0m\r\u001B[2K     \u001B[91m━━━━━\u001B[0m\u001B[90m╺\u001B[0m\u001B[90m━━━━━━━━━━━━━━━━━━━━━━━━━━━━━━━━━\u001B[0m \u001B[32m43.2/317.0 MB\u001B[0m \u001B[31m98.0 MB/s\u001B[0m eta \u001B[36m0:00:03\u001B[0m\r\u001B[2K     \u001B[91m━━━━━\u001B[0m\u001B[91m╸\u001B[0m\u001B[90m━━━━━━━━━━━━━━━━━━━━━━━━━━━━━━━━━\u001B[0m \u001B[32m46.7/317.0 MB\u001B[0m \u001B[31m96.9 MB/s\u001B[0m eta \u001B[36m0:00:03\u001B[0m\r\u001B[2K     \u001B[91m━━━━━━\u001B[0m\u001B[90m╺\u001B[0m\u001B[90m━━━━━━━━━━━━━━━━━━━━━━━━━━━━━━━━\u001B[0m \u001B[32m50.1/317.0 MB\u001B[0m \u001B[31m97.2 MB/s\u001B[0m eta \u001B[36m0:00:03\u001B[0m\r\u001B[2K     \u001B[91m━━━━━━\u001B[0m\u001B[91m╸\u001B[0m\u001B[90m━━━━━━━━━━━━━━━━━━━━━━━━━━━━━━━━\u001B[0m \u001B[32m53.9/317.0 MB\u001B[0m \u001B[31m99.4 MB/s\u001B[0m eta \u001B[36m0:00:03\u001B[0m\r\u001B[2K     \u001B[91m━━━━━━\u001B[0m\u001B[91m╸\u001B[0m\u001B[90m━━━━━━━━━━━━━━━━━━━━━━━━━━━━━━━━\u001B[0m \u001B[32m56.6/317.0 MB\u001B[0m \u001B[31m87.9 MB/s\u001B[0m eta \u001B[36m0:00:03\u001B[0m\r\u001B[2K     \u001B[91m━━━━━━━\u001B[0m\u001B[90m╺\u001B[0m\u001B[90m━━━━━━━━━━━━━━━━━━━━━━━━━━━━━━━\u001B[0m \u001B[32m57.5/317.0 MB\u001B[0m \u001B[31m71.6 MB/s\u001B[0m eta \u001B[36m0:00:04\u001B[0m\r\u001B[2K     \u001B[91m━━━━━━━\u001B[0m\u001B[90m╺\u001B[0m\u001B[90m━━━━━━━━━━━━━━━━━━━━━━━━━━━━━━━\u001B[0m \u001B[32m60.4/317.0 MB\u001B[0m \u001B[31m68.4 MB/s\u001B[0m eta \u001B[36m0:00:04\u001B[0m\r\u001B[2K     \u001B[91m━━━━━━━\u001B[0m\u001B[91m╸\u001B[0m\u001B[90m━━━━━━━━━━━━━━━━━━━━━━━━━━━━━━━\u001B[0m \u001B[32m64.0/317.0 MB\u001B[0m \u001B[31m66.7 MB/s\u001B[0m eta \u001B[36m0:00:04\u001B[0m\r\u001B[2K     \u001B[91m━━━━━━━━\u001B[0m\u001B[90m╺\u001B[0m\u001B[90m━━━━━━━━━━━━━━━━━━━━━━━━━━━━━━\u001B[0m \u001B[32m67.6/317.0 MB\u001B[0m \u001B[31m86.3 MB/s\u001B[0m eta \u001B[36m0:00:03\u001B[0m\r\u001B[2K     \u001B[91m━━━━━━━━\u001B[0m\u001B[91m╸\u001B[0m\u001B[90m━━━━━━━━━━━━━━━━━━━━━━━━━━━━━━\u001B[0m \u001B[32m71.0/317.0 MB\u001B[0m \u001B[31m98.0 MB/s\u001B[0m eta \u001B[36m0:00:03\u001B[0m\r\u001B[2K     \u001B[91m━━━━━━━━━\u001B[0m\u001B[90m╺\u001B[0m\u001B[90m━━━━━━━━━━━━━━━━━━━━━━━━━━━━━\u001B[0m \u001B[32m74.5/317.0 MB\u001B[0m \u001B[31m97.5 MB/s\u001B[0m eta \u001B[36m0:00:03\u001B[0m\r\u001B[2K     \u001B[91m━━━━━━━━━\u001B[0m\u001B[91m╸\u001B[0m\u001B[90m━━━━━━━━━━━━━━━━━━━━━━━━━━━━━\u001B[0m \u001B[32m77.9/317.0 MB\u001B[0m \u001B[31m95.6 MB/s\u001B[0m eta \u001B[36m0:00:03\u001B[0m\r\u001B[2K     \u001B[91m━━━━━━━━━━\u001B[0m\u001B[90m╺\u001B[0m\u001B[90m━━━━━━━━━━━━━━━━━━━━━━━━━━━━\u001B[0m \u001B[32m81.4/317.0 MB\u001B[0m \u001B[31m96.0 MB/s\u001B[0m eta \u001B[36m0:00:03\u001B[0m\r\u001B[2K     \u001B[91m━━━━━━━━━━\u001B[0m\u001B[91m╸\u001B[0m\u001B[90m━━━━━━━━━━━━━━━━━━━━━━━━━━━━\u001B[0m \u001B[32m86.0/317.0 MB\u001B[0m \u001B[31m92.8 MB/s\u001B[0m eta \u001B[36m0:00:03\u001B[0m\r\u001B[2K     \u001B[91m━━━━━━━━━━━\u001B[0m\u001B[90m╺\u001B[0m\u001B[90m━━━━━━━━━━━━━━━━━━━━━━━━━━━\u001B[0m \u001B[32m89.6/317.0 MB\u001B[0m \u001B[31m94.3 MB/s\u001B[0m eta \u001B[36m0:00:03\u001B[0m\r\u001B[2K     \u001B[91m━━━━━━━━━━━\u001B[0m\u001B[90m╺\u001B[0m\u001B[90m━━━━━━━━━━━━━━━━━━━━━━━━━━━\u001B[0m \u001B[32m93.1/317.0 MB\u001B[0m \u001B[31m95.8 MB/s\u001B[0m eta \u001B[36m0:00:03\u001B[0m\r\u001B[2K     \u001B[91m━━━━━━━━━━━\u001B[0m\u001B[91m╸\u001B[0m\u001B[90m━━━━━━━━━━━━━━━━━━━━━━━━━━\u001B[0m \u001B[32m96.9/317.0 MB\u001B[0m \u001B[31m103.0 MB/s\u001B[0m eta \u001B[36m0:00:03\u001B[0m\r\u001B[2K     \u001B[91m━━━━━━━━━━━━\u001B[0m\u001B[90m╺\u001B[0m\u001B[90m━━━━━━━━━━━━━━━━━━━━━━━━━\u001B[0m \u001B[32m100.4/317.0 MB\u001B[0m \u001B[31m95.6 MB/s\u001B[0m eta \u001B[36m0:00:03\u001B[0m\r\u001B[2K     \u001B[91m━━━━━━━━━━━━\u001B[0m\u001B[90m╺\u001B[0m\u001B[90m━━━━━━━━━━━━━━━━━━━━━━━━━\u001B[0m \u001B[32m102.2/317.0 MB\u001B[0m \u001B[31m78.1 MB/s\u001B[0m eta \u001B[36m0:00:03\u001B[0m\r\u001B[2K     \u001B[91m━━━━━━━━━━━━\u001B[0m\u001B[90m╺\u001B[0m\u001B[90m━━━━━━━━━━━━━━━━━━━━━━━━━\u001B[0m \u001B[32m103.6/317.0 MB\u001B[0m \u001B[31m67.6 MB/s\u001B[0m eta \u001B[36m0:00:04\u001B[0m\r\u001B[2K     \u001B[91m━━━━━━━━━━━━\u001B[0m\u001B[91m╸\u001B[0m\u001B[90m━━━━━━━━━━━━━━━━━━━━━━━━━\u001B[0m \u001B[32m107.0/317.0 MB\u001B[0m \u001B[31m62.8 MB/s\u001B[0m eta \u001B[36m0:00:04\u001B[0m\r\u001B[2K     \u001B[91m━━━━━━━━━━━━━\u001B[0m\u001B[90m╺\u001B[0m\u001B[90m━━━━━━━━━━━━━━━━━━━━━━━━\u001B[0m \u001B[32m110.5/317.0 MB\u001B[0m \u001B[31m65.2 MB/s\u001B[0m eta \u001B[36m0:00:04\u001B[0m\r\u001B[2K     \u001B[91m━━━━━━━━━━━━━\u001B[0m\u001B[91m╸\u001B[0m\u001B[90m━━━━━━━━━━━━━━━━━━━━━━━━\u001B[0m \u001B[32m113.8/317.0 MB\u001B[0m \u001B[31m87.7 MB/s\u001B[0m eta \u001B[36m0:00:03\u001B[0m\r\u001B[2K     \u001B[91m━━━━━━━━━━━━━\u001B[0m\u001B[91m╸\u001B[0m\u001B[90m━━━━━━━━━━━━━━━━━━━━━━━━\u001B[0m \u001B[32m116.6/317.0 MB\u001B[0m \u001B[31m87.0 MB/s\u001B[0m eta \u001B[36m0:00:03\u001B[0m\r\u001B[2K     \u001B[91m━━━━━━━━━━━━━━\u001B[0m\u001B[90m╺\u001B[0m\u001B[90m━━━━━━━━━━━━━━━━━━━━━━━\u001B[0m \u001B[32m119.5/317.0 MB\u001B[0m \u001B[31m85.4 MB/s\u001B[0m eta \u001B[36m0:00:03\u001B[0m\r\u001B[2K     \u001B[91m━━━━━━━━━━━━━━\u001B[0m\u001B[91m╸\u001B[0m\u001B[90m━━━━━━━━━━━━━━━━━━━━━━━\u001B[0m \u001B[32m123.0/317.0 MB\u001B[0m \u001B[31m84.9 MB/s\u001B[0m eta \u001B[36m0:00:03\u001B[0m\r\u001B[2K     \u001B[91m━━━━━━━━━━━━━━━\u001B[0m\u001B[90m╺\u001B[0m\u001B[90m━━━━━━━━━━━━━━━━━━━━━━\u001B[0m \u001B[32m126.2/317.0 MB\u001B[0m \u001B[31m86.5 MB/s\u001B[0m eta \u001B[36m0:00:03\u001B[0m\r\u001B[2K     \u001B[91m━━━━━━━━━━━━━━━\u001B[0m\u001B[91m╸\u001B[0m\u001B[90m━━━━━━━━━━━━━━━━━━━━━━\u001B[0m \u001B[32m129.5/317.0 MB\u001B[0m \u001B[31m91.3 MB/s\u001B[0m eta \u001B[36m0:00:03\u001B[0m\r\u001B[2K     \u001B[91m━━━━━━━━━━━━━━━\u001B[0m\u001B[91m╸\u001B[0m\u001B[90m━━━━━━━━━━━━━━━━━━━━━━\u001B[0m \u001B[32m132.9/317.0 MB\u001B[0m \u001B[31m89.5 MB/s\u001B[0m eta \u001B[36m0:00:03\u001B[0m\r\u001B[2K     \u001B[91m━━━━━━━━━━━━━━━━\u001B[0m\u001B[90m╺\u001B[0m\u001B[90m━━━━━━━━━━━━━━━━━━━━━\u001B[0m \u001B[32m136.1/317.0 MB\u001B[0m \u001B[31m88.1 MB/s\u001B[0m eta \u001B[36m0:00:03\u001B[0m\r\u001B[2K     \u001B[91m━━━━━━━━━━━━━━━━\u001B[0m\u001B[91m╸\u001B[0m\u001B[90m━━━━━━━━━━━━━━━━━━━━━\u001B[0m \u001B[32m138.1/317.0 MB\u001B[0m \u001B[31m84.7 MB/s\u001B[0m eta \u001B[36m0:00:03\u001B[0m\r\u001B[2K     \u001B[91m━━━━━━━━━━━━━━━━\u001B[0m\u001B[91m╸\u001B[0m\u001B[90m━━━━━━━━━━━━━━━━━━━━━\u001B[0m \u001B[32m139.7/317.0 MB\u001B[0m \u001B[31m60.5 MB/s\u001B[0m eta \u001B[36m0:00:03\u001B[0m\r\u001B[2K     \u001B[91m━━━━━━━━━━━━━━━━━\u001B[0m\u001B[90m╺\u001B[0m\u001B[90m━━━━━━━━━━━━━━━━━━━━\u001B[0m \u001B[32m142.7/317.0 MB\u001B[0m \u001B[31m57.4 MB/s\u001B[0m eta \u001B[36m0:00:04\u001B[0m\r\u001B[2K     \u001B[91m━━━━━━━━━━━━━━━━━\u001B[0m\u001B[90m╺\u001B[0m\u001B[90m━━━━━━━━━━━━━━━━━━━━\u001B[0m \u001B[32m145.8/317.0 MB\u001B[0m \u001B[31m57.4 MB/s\u001B[0m eta \u001B[36m0:00:03\u001B[0m\r\u001B[2K     \u001B[91m━━━━━━━━━━━━━━━━━\u001B[0m\u001B[91m╸\u001B[0m\u001B[90m━━━━━━━━━━━━━━━━━━━━\u001B[0m \u001B[32m148.6/317.0 MB\u001B[0m \u001B[31m65.1 MB/s\u001B[0m eta \u001B[36m0:00:03\u001B[0m\r\u001B[2K     \u001B[91m━━━━━━━━━━━━━━━━━━\u001B[0m\u001B[90m╺\u001B[0m\u001B[90m━━━━━━━━━━━━━━━━━━━\u001B[0m \u001B[32m152.1/317.0 MB\u001B[0m \u001B[31m86.6 MB/s\u001B[0m eta \u001B[36m0:00:02\u001B[0m\r\u001B[2K     \u001B[91m━━━━━━━━━━━━━━━━━━\u001B[0m\u001B[91m╸\u001B[0m\u001B[90m━━━━━━━━━━━━━━━━━━━\u001B[0m \u001B[32m154.5/317.0 MB\u001B[0m \u001B[31m81.1 MB/s\u001B[0m eta \u001B[36m0:00:03\u001B[0m\r\u001B[2K     \u001B[91m━━━━━━━━━━━━━━━━━━\u001B[0m\u001B[91m╸\u001B[0m\u001B[90m━━━━━━━━━━━━━━━━━━━\u001B[0m \u001B[32m154.5/317.0 MB\u001B[0m \u001B[31m77.7 MB/s\u001B[0m eta \u001B[36m0:00:03\u001B[0m\r\u001B[2K     \u001B[91m━━━━━━━━━━━━━━━━━━\u001B[0m\u001B[91m╸\u001B[0m\u001B[90m━━━━━━━━━━━━━━━━━━━\u001B[0m \u001B[32m156.4/317.0 MB\u001B[0m \u001B[31m56.0 MB/s\u001B[0m eta \u001B[36m0:00:03\u001B[0m\r\u001B[2K     \u001B[91m━━━━━━━━━━━━━━━━━━━\u001B[0m\u001B[90m╺\u001B[0m\u001B[90m━━━━━━━━━━━━━━━━━━\u001B[0m \u001B[32m158.9/317.0 MB\u001B[0m \u001B[31m53.2 MB/s\u001B[0m eta \u001B[36m0:00:03\u001B[0m\r\u001B[2K     \u001B[91m━━━━━━━━━━━━━━━━━━━\u001B[0m\u001B[90m╺\u001B[0m\u001B[90m━━━━━━━━━━━━━━━━━━\u001B[0m \u001B[32m160.9/317.0 MB\u001B[0m \u001B[31m48.3 MB/s\u001B[0m eta \u001B[36m0:00:04\u001B[0m\r\u001B[2K     \u001B[91m━━━━━━━━━━━━━━━━━━━\u001B[0m\u001B[91m╸\u001B[0m\u001B[90m━━━━━━━━━━━━━━━━━━\u001B[0m \u001B[32m163.5/317.0 MB\u001B[0m \u001B[31m47.6 MB/s\u001B[0m eta \u001B[36m0:00:04\u001B[0m\r\u001B[2K     \u001B[91m━━━━━━━━━━━━━━━━━━━━\u001B[0m\u001B[90m╺\u001B[0m\u001B[90m━━━━━━━━━━━━━━━━━\u001B[0m \u001B[32m167.0/317.0 MB\u001B[0m \u001B[31m72.3 MB/s\u001B[0m eta \u001B[36m0:00:03\u001B[0m\r\u001B[2K     \u001B[91m━━━━━━━━━━━━━━━━━━━━\u001B[0m\u001B[90m╺\u001B[0m\u001B[90m━━━━━━━━━━━━━━━━━\u001B[0m \u001B[32m170.4/317.0 MB\u001B[0m \u001B[31m85.0 MB/s\u001B[0m eta \u001B[36m0:00:02\u001B[0m\r\u001B[2K     \u001B[91m━━━━━━━━━━━━━━━━━━━━\u001B[0m\u001B[91m╸\u001B[0m\u001B[90m━━━━━━━━━━━━━━━━━\u001B[0m \u001B[32m172.3/317.0 MB\u001B[0m \u001B[31m81.2 MB/s\u001B[0m eta \u001B[36m0:00:02\u001B[0m\r\u001B[2K     \u001B[91m━━━━━━━━━━━━━━━━━━━━\u001B[0m\u001B[91m╸\u001B[0m\u001B[90m━━━━━━━━━━━━━━━━━\u001B[0m \u001B[32m174.9/317.0 MB\u001B[0m \u001B[31m77.3 MB/s\u001B[0m eta \u001B[36m0:00:02\u001B[0m\r\u001B[2K     \u001B[91m━━━━━━━━━━━━━━━━━━━━━\u001B[0m\u001B[90m╺\u001B[0m\u001B[90m━━━━━━━━━━━━━━━━\u001B[0m \u001B[32m178.3/317.0 MB\u001B[0m \u001B[31m76.4 MB/s\u001B[0m eta \u001B[36m0:00:02\u001B[0m\r\u001B[2K     \u001B[91m━━━━━━━━━━━━━━━━━━━━━\u001B[0m\u001B[91m╸\u001B[0m\u001B[90m━━━━━━━━━━━━━━━━\u001B[0m \u001B[32m180.9/317.0 MB\u001B[0m \u001B[31m70.5 MB/s\u001B[0m eta \u001B[36m0:00:02\u001B[0m\r\u001B[2K     \u001B[91m━━━━━━━━━━━━━━━━━━━━━\u001B[0m\u001B[91m╸\u001B[0m\u001B[90m━━━━━━━━━━━━━━━━\u001B[0m \u001B[32m183.5/317.0 MB\u001B[0m \u001B[31m76.4 MB/s\u001B[0m eta \u001B[36m0:00:02\u001B[0m\r\u001B[2K     \u001B[91m━━━━━━━━━━━━━━━━━━━━━━\u001B[0m\u001B[90m╺\u001B[0m\u001B[90m━━━━━━━━━━━━━━━\u001B[0m \u001B[32m186.2/317.0 MB\u001B[0m \u001B[31m75.0 MB/s\u001B[0m eta \u001B[36m0:00:02\u001B[0m\r\u001B[2K     \u001B[91m━━━━━━━━━━━━━━━━━━━━━━\u001B[0m\u001B[91m╸\u001B[0m\u001B[90m━━━━━━━━━━━━━━━\u001B[0m \u001B[32m188.9/317.0 MB\u001B[0m \u001B[31m70.1 MB/s\u001B[0m eta \u001B[36m0:00:02\u001B[0m\r\u001B[2K     \u001B[91m━━━━━━━━━━━━━━━━━━━━━━━\u001B[0m\u001B[90m╺\u001B[0m\u001B[90m━━━━━━━━━━━━━━\u001B[0m \u001B[32m192.8/317.0 MB\u001B[0m \u001B[31m71.5 MB/s\u001B[0m eta \u001B[36m0:00:02\u001B[0m\r\u001B[2K     \u001B[91m━━━━━━━━━━━━━━━━━━━━━━━\u001B[0m\u001B[90m╺\u001B[0m\u001B[90m━━━━━━━━━━━━━━\u001B[0m \u001B[32m194.8/317.0 MB\u001B[0m \u001B[31m66.3 MB/s\u001B[0m eta \u001B[36m0:00:02\u001B[0m\r\u001B[2K     \u001B[91m━━━━━━━━━━━━━━━━━━━━━━━\u001B[0m\u001B[91m╸\u001B[0m\u001B[90m━━━━━━━━━━━━━━\u001B[0m \u001B[32m197.7/317.0 MB\u001B[0m \u001B[31m67.4 MB/s\u001B[0m eta \u001B[36m0:00:02\u001B[0m\r\u001B[2K     \u001B[91m━━━━━━━━━━━━━━━━━━━━━━━━\u001B[0m\u001B[90m╺\u001B[0m\u001B[90m━━━━━━━━━━━━━\u001B[0m \u001B[32m200.6/317.0 MB\u001B[0m \u001B[31m66.2 MB/s\u001B[0m eta \u001B[36m0:00:02\u001B[0m\r\u001B[2K     \u001B[91m━━━━━━━━━━━━━━━━━━━━━━━━\u001B[0m\u001B[90m╺\u001B[0m\u001B[90m━━━━━━━━━━━━━\u001B[0m \u001B[32m203.5/317.0 MB\u001B[0m \u001B[31m72.4 MB/s\u001B[0m eta \u001B[36m0:00:02\u001B[0m\r\u001B[2K     \u001B[91m━━━━━━━━━━━━━━━━━━━━━━━━\u001B[0m\u001B[91m╸\u001B[0m\u001B[90m━━━━━━━━━━━━━\u001B[0m \u001B[32m206.9/317.0 MB\u001B[0m \u001B[31m76.5 MB/s\u001B[0m eta \u001B[36m0:00:02\u001B[0m\r\u001B[2K     \u001B[91m━━━━━━━━━━━━━━━━━━━━━━━━━\u001B[0m\u001B[90m╺\u001B[0m\u001B[90m━━━━━━━━━━━━\u001B[0m \u001B[32m209.5/317.0 MB\u001B[0m \u001B[31m80.0 MB/s\u001B[0m eta \u001B[36m0:00:02\u001B[0m\r\u001B[2K     \u001B[91m━━━━━━━━━━━━━━━━━━━━━━━━━\u001B[0m\u001B[91m╸\u001B[0m\u001B[90m━━━━━━━━━━━━\u001B[0m \u001B[32m212.9/317.0 MB\u001B[0m \u001B[31m85.9 MB/s\u001B[0m eta \u001B[36m0:00:02\u001B[0m\r\u001B[2K     \u001B[91m━━━━━━━━━━━━━━━━━━━━━━━━━\u001B[0m\u001B[91m╸\u001B[0m\u001B[90m━━━━━━━━━━━━\u001B[0m \u001B[32m215.9/317.0 MB\u001B[0m \u001B[31m82.8 MB/s\u001B[0m eta \u001B[36m0:00:02\u001B[0m\r\u001B[2K     \u001B[91m━━━━━━━━━━━━━━━━━━━━━━━━━━\u001B[0m\u001B[90m╺\u001B[0m\u001B[90m━━━━━━━━━━━\u001B[0m \u001B[32m219.0/317.0 MB\u001B[0m \u001B[31m83.5 MB/s\u001B[0m eta \u001B[36m0:00:02\u001B[0m\r\u001B[2K     \u001B[91m━━━━━━━━━━━━━━━━━━━━━━━━━━\u001B[0m\u001B[91m╸\u001B[0m\u001B[90m━━━━━━━━━━━\u001B[0m \u001B[32m221.9/317.0 MB\u001B[0m \u001B[31m80.0 MB/s\u001B[0m eta \u001B[36m0:00:02\u001B[0m\r\u001B[2K     \u001B[91m━━━━━━━━━━━━━━━━━━━━━━━━━━\u001B[0m\u001B[91m╸\u001B[0m\u001B[90m━━━━━━━━━━━\u001B[0m \u001B[32m224.4/317.0 MB\u001B[0m \u001B[31m74.3 MB/s\u001B[0m eta \u001B[36m0:00:02\u001B[0m\r\u001B[2K     \u001B[91m━━━━━━━━━━━━━━━━━━━━━━━━━━━\u001B[0m\u001B[90m╺\u001B[0m\u001B[90m━━━━━━━━━━\u001B[0m \u001B[32m227.3/317.0 MB\u001B[0m \u001B[31m78.2 MB/s\u001B[0m eta \u001B[36m0:00:02\u001B[0m\r\u001B[2K     \u001B[91m━━━━━━━━━━━━━━━━━━━━━━━━━━━\u001B[0m\u001B[91m╸\u001B[0m\u001B[90m━━━━━━━━━━\u001B[0m \u001B[32m230.2/317.0 MB\u001B[0m \u001B[31m76.1 MB/s\u001B[0m eta \u001B[36m0:00:02\u001B[0m\r\u001B[2K     \u001B[91m━━━━━━━━━━━━━━━━━━━━━━━━━━━\u001B[0m\u001B[91m╸\u001B[0m\u001B[90m━━━━━━━━━━\u001B[0m \u001B[32m233.0/317.0 MB\u001B[0m \u001B[31m77.4 MB/s\u001B[0m eta \u001B[36m0:00:02\u001B[0m\r\u001B[2K     \u001B[91m━━━━━━━━━━━━━━━━━━━━━━━━━━━━\u001B[0m\u001B[90m╺\u001B[0m\u001B[90m━━━━━━━━━\u001B[0m \u001B[32m236.2/317.0 MB\u001B[0m \u001B[31m80.1 MB/s\u001B[0m eta \u001B[36m0:00:02\u001B[0m\r\u001B[2K     \u001B[91m━━━━━━━━━━━━━━━━━━━━━━━━━━━━\u001B[0m\u001B[91m╸\u001B[0m\u001B[90m━━━━━━━━━\u001B[0m \u001B[32m239.3/317.0 MB\u001B[0m \u001B[31m79.0 MB/s\u001B[0m eta \u001B[36m0:00:01\u001B[0m\r\u001B[2K     \u001B[91m━━━━━━━━━━━━━━━━━━━━━━━━━━━━━\u001B[0m\u001B[90m╺\u001B[0m\u001B[90m━━━━━━━━\u001B[0m \u001B[32m242.7/317.0 MB\u001B[0m \u001B[31m78.8 MB/s\u001B[0m eta \u001B[36m0:00:01\u001B[0m\r\u001B[2K     \u001B[91m━━━━━━━━━━━━━━━━━━━━━━━━━━━━━\u001B[0m\u001B[90m╺\u001B[0m\u001B[90m━━━━━━━━\u001B[0m \u001B[32m245.2/317.0 MB\u001B[0m \u001B[31m76.3 MB/s\u001B[0m eta \u001B[36m0:00:01\u001B[0m\r\u001B[2K     \u001B[91m━━━━━━━━━━━━━━━━━━━━━━━━━━━━━\u001B[0m\u001B[91m╸\u001B[0m\u001B[90m━━━━━━━━\u001B[0m \u001B[32m247.2/317.0 MB\u001B[0m \u001B[31m71.6 MB/s\u001B[0m eta \u001B[36m0:00:01\u001B[0m\r\u001B[2K     \u001B[91m━━━━━━━━━━━━━━━━━━━━━━━━━━━━━\u001B[0m\u001B[91m╸\u001B[0m\u001B[90m━━━━━━━━\u001B[0m \u001B[32m249.0/317.0 MB\u001B[0m \u001B[31m61.9 MB/s\u001B[0m eta \u001B[36m0:00:02\u001B[0m\r\u001B[2K     \u001B[91m━━━━━━━━━━━━━━━━━━━━━━━━━━━━━━\u001B[0m\u001B[90m╺\u001B[0m\u001B[90m━━━━━━━\u001B[0m \u001B[32m250.6/317.0 MB\u001B[0m \u001B[31m58.3 MB/s\u001B[0m eta \u001B[36m0:00:02\u001B[0m\r\u001B[2K     \u001B[91m━━━━━━━━━━━━━━━━━━━━━━━━━━━━━━\u001B[0m\u001B[90m╺\u001B[0m\u001B[90m━━━━━━━\u001B[0m \u001B[32m251.6/317.0 MB\u001B[0m \u001B[31m50.6 MB/s\u001B[0m eta \u001B[36m0:00:02\u001B[0m\r\u001B[2K     \u001B[91m━━━━━━━━━━━━━━━━━━━━━━━━━━━━━━\u001B[0m\u001B[90m╺\u001B[0m\u001B[90m━━━━━━━\u001B[0m \u001B[32m254.2/317.0 MB\u001B[0m \u001B[31m49.8 MB/s\u001B[0m eta \u001B[36m0:00:02\u001B[0m\r\u001B[2K     \u001B[91m━━━━━━━━━━━━━━━━━━━━━━━━━━━━━━\u001B[0m\u001B[91m╸\u001B[0m\u001B[90m━━━━━━━\u001B[0m \u001B[32m257.3/317.0 MB\u001B[0m \u001B[31m52.4 MB/s\u001B[0m eta \u001B[36m0:00:02\u001B[0m\r\u001B[2K     \u001B[91m━━━━━━━━━━━━━━━━━━━━━━━━━━━━━━━\u001B[0m\u001B[90m╺\u001B[0m\u001B[90m━━━━━━\u001B[0m \u001B[32m260.6/317.0 MB\u001B[0m \u001B[31m65.5 MB/s\u001B[0m eta \u001B[36m0:00:01\u001B[0m\r\u001B[2K     \u001B[91m━━━━━━━━━━━━━━━━━━━━━━━━━━━━━━━\u001B[0m\u001B[91m╸\u001B[0m\u001B[90m━━━━━━\u001B[0m \u001B[32m264.1/317.0 MB\u001B[0m \u001B[31m81.2 MB/s\u001B[0m eta \u001B[36m0:00:01\u001B[0m\r\u001B[2K     \u001B[91m━━━━━━━━━━━━━━━━━━━━━━━━━━━━━━━\u001B[0m\u001B[91m╸\u001B[0m\u001B[90m━━━━━━\u001B[0m \u001B[32m266.9/317.0 MB\u001B[0m \u001B[31m80.5 MB/s\u001B[0m eta \u001B[36m0:00:01\u001B[0m\r\u001B[2K     \u001B[91m━━━━━━━━━━━━━━━━━━━━━━━━━━━━━━━━\u001B[0m\u001B[90m╺\u001B[0m\u001B[90m━━━━━\u001B[0m \u001B[32m270.4/317.0 MB\u001B[0m \u001B[31m89.3 MB/s\u001B[0m eta \u001B[36m0:00:01\u001B[0m\r\u001B[2K     \u001B[91m━━━━━━━━━━━━━━━━━━━━━━━━━━━━━━━━\u001B[0m\u001B[91m╸\u001B[0m\u001B[90m━━━━━\u001B[0m \u001B[32m273.0/317.0 MB\u001B[0m \u001B[31m83.7 MB/s\u001B[0m eta \u001B[36m0:00:01\u001B[0m\r\u001B[2K     \u001B[91m━━━━━━━━━━━━━━━━━━━━━━━━━━━━━━━━━\u001B[0m\u001B[90m╺\u001B[0m\u001B[90m━━━━\u001B[0m \u001B[32m276.2/317.0 MB\u001B[0m \u001B[31m84.4 MB/s\u001B[0m eta \u001B[36m0:00:01\u001B[0m\r\u001B[2K     \u001B[91m━━━━━━━━━━━━━━━━━━━━━━━━━━━━━━━━━\u001B[0m\u001B[90m╺\u001B[0m\u001B[90m━━━━\u001B[0m \u001B[32m279.3/317.0 MB\u001B[0m \u001B[31m82.6 MB/s\u001B[0m eta \u001B[36m0:00:01\u001B[0m\r\u001B[2K     \u001B[91m━━━━━━━━━━━━━━━━━━━━━━━━━━━━━━━━━\u001B[0m\u001B[91m╸\u001B[0m\u001B[90m━━━━\u001B[0m \u001B[32m281.8/317.0 MB\u001B[0m \u001B[31m82.3 MB/s\u001B[0m eta \u001B[36m0:00:01\u001B[0m\r\u001B[2K     \u001B[91m━━━━━━━━━━━━━━━━━━━━━━━━━━━━━━━━━━\u001B[0m\u001B[90m╺\u001B[0m\u001B[90m━━━\u001B[0m \u001B[32m283.7/317.0 MB\u001B[0m \u001B[31m72.4 MB/s\u001B[0m eta \u001B[36m0:00:01\u001B[0m\r\u001B[2K     \u001B[91m━━━━━━━━━━━━━━━━━━━━━━━━━━━━━━━━━━\u001B[0m\u001B[90m╺\u001B[0m\u001B[90m━━━\u001B[0m \u001B[32m287.4/317.0 MB\u001B[0m \u001B[31m74.7 MB/s\u001B[0m eta \u001B[36m0:00:01\u001B[0m\r\u001B[2K     \u001B[91m━━━━━━━━━━━━━━━━━━━━━━━━━━━━━━━━━━\u001B[0m\u001B[91m╸\u001B[0m\u001B[90m━━━\u001B[0m \u001B[32m289.8/317.0 MB\u001B[0m \u001B[31m73.1 MB/s\u001B[0m eta \u001B[36m0:00:01\u001B[0m\r\u001B[2K     \u001B[91m━━━━━━━━━━━━━━━━━━━━━━━━━━━━━━━━━━━\u001B[0m\u001B[90m╺\u001B[0m\u001B[90m━━\u001B[0m \u001B[32m292.9/317.0 MB\u001B[0m \u001B[31m82.5 MB/s\u001B[0m eta \u001B[36m0:00:01\u001B[0m\r\u001B[2K     \u001B[91m━━━━━━━━━━━━━━━━━━━━━━━━━━━━━━━━━━━\u001B[0m\u001B[90m╺\u001B[0m\u001B[90m━━\u001B[0m \u001B[32m295.6/317.0 MB\u001B[0m \u001B[31m79.5 MB/s\u001B[0m eta \u001B[36m0:00:01\u001B[0m\r\u001B[2K     \u001B[91m━━━━━━━━━━━━━━━━━━━━━━━━━━━━━━━━━━━\u001B[0m\u001B[91m╸\u001B[0m\u001B[90m━━\u001B[0m \u001B[32m298.0/317.0 MB\u001B[0m \u001B[31m78.1 MB/s\u001B[0m eta \u001B[36m0:00:01\u001B[0m\r\u001B[2K     \u001B[91m━━━━━━━━━━━━━━━━━━━━━━━━━━━━━━━━━━━\u001B[0m\u001B[91m╸\u001B[0m\u001B[90m━━\u001B[0m \u001B[32m300.2/317.0 MB\u001B[0m \u001B[31m63.7 MB/s\u001B[0m eta \u001B[36m0:00:01\u001B[0m\r\u001B[2K     \u001B[91m━━━━━━━━━━━━━━━━━━━━━━━━━━━━━━━━━━━━\u001B[0m\u001B[90m╺\u001B[0m\u001B[90m━\u001B[0m \u001B[32m303.3/317.0 MB\u001B[0m \u001B[31m62.5 MB/s\u001B[0m eta \u001B[36m0:00:01\u001B[0m\r\u001B[2K     \u001B[91m━━━━━━━━━━━━━━━━━━━━━━━━━━━━━━━━━━━━\u001B[0m\u001B[91m╸\u001B[0m\u001B[90m━\u001B[0m \u001B[32m306.1/317.0 MB\u001B[0m \u001B[31m62.7 MB/s\u001B[0m eta \u001B[36m0:00:01\u001B[0m\r\u001B[2K     \u001B[91m━━━━━━━━━━━━━━━━━━━━━━━━━━━━━━━━━━━━━\u001B[0m\u001B[90m╺\u001B[0m \u001B[32m309.2/317.0 MB\u001B[0m \u001B[31m75.7 MB/s\u001B[0m eta \u001B[36m0:00:01\u001B[0m\r\u001B[2K     \u001B[91m━━━━━━━━━━━━━━━━━━━━━━━━━━━━━━━━━━━━━\u001B[0m\u001B[90m╺\u001B[0m \u001B[32m312.0/317.0 MB\u001B[0m \u001B[31m79.8 MB/s\u001B[0m eta \u001B[36m0:00:01\u001B[0m\r\u001B[2K     \u001B[91m━━━━━━━━━━━━━━━━━━━━━━━━━━━━━━━━━━━━━\u001B[0m\u001B[91m╸\u001B[0m \u001B[32m314.0/317.0 MB\u001B[0m \u001B[31m73.2 MB/s\u001B[0m eta \u001B[36m0:00:01\u001B[0m\r\u001B[2K     \u001B[91m━━━━━━━━━━━━━━━━━━━━━━━━━━━━━━━━━━━━━\u001B[0m\u001B[91m╸\u001B[0m \u001B[32m316.9/317.0 MB\u001B[0m \u001B[31m74.3 MB/s\u001B[0m eta \u001B[36m0:00:01\u001B[0m\r\u001B[2K     \u001B[91m━━━━━━━━━━━━━━━━━━━━━━━━━━━━━━━━━━━━━\u001B[0m\u001B[91m╸\u001B[0m \u001B[32m316.9/317.0 MB\u001B[0m \u001B[31m72.2 MB/s\u001B[0m eta \u001B[36m0:00:01\u001B[0m\r\u001B[2K     \u001B[91m━━━━━━━━━━━━━━━━━━━━━━━━━━━━━━━━━━━━━\u001B[0m\u001B[91m╸\u001B[0m \u001B[32m316.9/317.0 MB\u001B[0m \u001B[31m72.2 MB/s\u001B[0m eta \u001B[36m0:00:01\u001B[0m\r\u001B[2K     \u001B[91m━━━━━━━━━━━━━━━━━━━━━━━━━━━━━━━━━━━━━\u001B[0m\u001B[91m╸\u001B[0m \u001B[32m316.9/317.0 MB\u001B[0m \u001B[31m72.2 MB/s\u001B[0m eta \u001B[36m0:00:01\u001B[0m\r\u001B[2K     \u001B[91m━━━━━━━━━━━━━━━━━━━━━━━━━━━━━━━━━━━━━\u001B[0m\u001B[91m╸\u001B[0m \u001B[32m316.9/317.0 MB\u001B[0m \u001B[31m72.2 MB/s\u001B[0m eta \u001B[36m0:00:01\u001B[0m\r\u001B[2K     \u001B[91m━━━━━━━━━━━━━━━━━━━━━━━━━━━━━━━━━━━━━\u001B[0m\u001B[91m╸\u001B[0m \u001B[32m316.9/317.0 MB\u001B[0m \u001B[31m72.2 MB/s\u001B[0m eta \u001B[36m0:00:01\u001B[0m\r\u001B[2K     \u001B[91m━━━━━━━━━━━━━━━━━━━━━━━━━━━━━━━━━━━━━\u001B[0m\u001B[91m╸\u001B[0m \u001B[32m316.9/317.0 MB\u001B[0m \u001B[31m72.2 MB/s\u001B[0m eta \u001B[36m0:00:01\u001B[0m\r\u001B[2K     \u001B[91m━━━━━━━━━━━━━━━━━━━━━━━━━━━━━━━━━━━━━\u001B[0m\u001B[91m╸\u001B[0m \u001B[32m316.9/317.0 MB\u001B[0m \u001B[31m72.2 MB/s\u001B[0m eta \u001B[36m0:00:01\u001B[0m\r\u001B[2K     \u001B[91m━━━━━━━━━━━━━━━━━━━━━━━━━━━━━━━━━━━━━\u001B[0m\u001B[91m╸\u001B[0m \u001B[32m316.9/317.0 MB\u001B[0m \u001B[31m72.2 MB/s\u001B[0m eta \u001B[36m0:00:01\u001B[0m\r\u001B[2K     \u001B[91m━━━━━━━━━━━━━━━━━━━━━━━━━━━━━━━━━━━━━\u001B[0m\u001B[91m╸\u001B[0m \u001B[32m316.9/317.0 MB\u001B[0m \u001B[31m72.2 MB/s\u001B[0m eta \u001B[36m0:00:01\u001B[0m\r\u001B[2K     \u001B[91m━━━━━━━━━━━━━━━━━━━━━━━━━━━━━━━━━━━━━\u001B[0m\u001B[91m╸\u001B[0m \u001B[32m316.9/317.0 MB\u001B[0m \u001B[31m72.2 MB/s\u001B[0m eta \u001B[36m0:00:01\u001B[0m\r\u001B[2K     \u001B[91m━━━━━━━━━━━━━━━━━━━━━━━━━━━━━━━━━━━━━\u001B[0m\u001B[91m╸\u001B[0m \u001B[32m316.9/317.0 MB\u001B[0m \u001B[31m72.2 MB/s\u001B[0m eta \u001B[36m0:00:01\u001B[0m\r\u001B[2K     \u001B[91m━━━━━━━━━━━━━━━━━━━━━━━━━━━━━━━━━━━━━\u001B[0m\u001B[91m╸\u001B[0m \u001B[32m316.9/317.0 MB\u001B[0m \u001B[31m72.2 MB/s\u001B[0m eta \u001B[36m0:00:01\u001B[0m\r\u001B[2K     \u001B[91m━━━━━━━━━━━━━━━━━━━━━━━━━━━━━━━━━━━━━\u001B[0m\u001B[91m╸\u001B[0m \u001B[32m316.9/317.0 MB\u001B[0m \u001B[31m72.2 MB/s\u001B[0m eta \u001B[36m0:00:01\u001B[0m\r\u001B[2K     \u001B[91m━━━━━━━━━━━━━━━━━━━━━━━━━━━━━━━━━━━━━\u001B[0m\u001B[91m╸\u001B[0m \u001B[32m316.9/317.0 MB\u001B[0m \u001B[31m72.2 MB/s\u001B[0m eta \u001B[36m0:00:01\u001B[0m\r\u001B[2K     \u001B[91m━━━━━━━━━━━━━━━━━━━━━━━━━━━━━━━━━━━━━\u001B[0m\u001B[91m╸\u001B[0m \u001B[32m316.9/317.0 MB\u001B[0m \u001B[31m72.2 MB/s\u001B[0m eta \u001B[36m0:00:01\u001B[0m\r\u001B[2K     \u001B[91m━━━━━━━━━━━━━━━━━━━━━━━━━━━━━━━━━━━━━\u001B[0m\u001B[91m╸\u001B[0m \u001B[32m316.9/317.0 MB\u001B[0m \u001B[31m72.2 MB/s\u001B[0m eta \u001B[36m0:00:01\u001B[0m\r\u001B[2K     \u001B[91m━━━━━━━━━━━━━━━━━━━━━━━━━━━━━━━━━━━━━\u001B[0m\u001B[91m╸\u001B[0m \u001B[32m316.9/317.0 MB\u001B[0m \u001B[31m72.2 MB/s\u001B[0m eta \u001B[36m0:00:01\u001B[0m\r\u001B[2K     \u001B[91m━━━━━━━━━━━━━━━━━━━━━━━━━━━━━━━━━━━━━\u001B[0m\u001B[91m╸\u001B[0m \u001B[32m316.9/317.0 MB\u001B[0m \u001B[31m72.2 MB/s\u001B[0m eta \u001B[36m0:00:01\u001B[0m\r\u001B[2K     \u001B[91m━━━━━━━━━━━━━━━━━━━━━━━━━━━━━━━━━━━━━\u001B[0m\u001B[91m╸\u001B[0m \u001B[32m316.9/317.0 MB\u001B[0m \u001B[31m72.2 MB/s\u001B[0m eta \u001B[36m0:00:01\u001B[0m\r\u001B[2K     \u001B[91m━━━━━━━━━━━━━━━━━━━━━━━━━━━━━━━━━━━━━\u001B[0m\u001B[91m╸\u001B[0m \u001B[32m316.9/317.0 MB\u001B[0m \u001B[31m72.2 MB/s\u001B[0m eta \u001B[36m0:00:01\u001B[0m\r\u001B[2K     \u001B[91m━━━━━━━━━━━━━━━━━━━━━━━━━━━━━━━━━━━━━\u001B[0m\u001B[91m╸\u001B[0m \u001B[32m316.9/317.0 MB\u001B[0m \u001B[31m72.2 MB/s\u001B[0m eta \u001B[36m0:00:01\u001B[0m\r\u001B[2K     \u001B[91m━━━━━━━━━━━━━━━━━━━━━━━━━━━━━━━━━━━━━\u001B[0m\u001B[91m╸\u001B[0m \u001B[32m316.9/317.0 MB\u001B[0m \u001B[31m72.2 MB/s\u001B[0m eta \u001B[36m0:00:01\u001B[0m\r\u001B[2K     \u001B[91m━━━━━━━━━━━━━━━━━━━━━━━━━━━━━━━━━━━━━\u001B[0m\u001B[91m╸\u001B[0m \u001B[32m316.9/317.0 MB\u001B[0m \u001B[31m72.2 MB/s\u001B[0m eta \u001B[36m0:00:01\u001B[0m\r\u001B[2K     \u001B[91m━━━━━━━━━━━━━━━━━━━━━━━━━━━━━━━━━━━━━\u001B[0m\u001B[91m╸\u001B[0m \u001B[32m316.9/317.0 MB\u001B[0m \u001B[31m72.2 MB/s\u001B[0m eta \u001B[36m0:00:01\u001B[0m\r\u001B[2K     \u001B[91m━━━━━━━━━━━━━━━━━━━━━━━━━━━━━━━━━━━━━\u001B[0m\u001B[91m╸\u001B[0m \u001B[32m316.9/317.0 MB\u001B[0m \u001B[31m72.2 MB/s\u001B[0m eta \u001B[36m0:00:01\u001B[0m\r\u001B[2K     \u001B[91m━━━━━━━━━━━━━━━━━━━━━━━━━━━━━━━━━━━━━\u001B[0m\u001B[91m╸\u001B[0m \u001B[32m316.9/317.0 MB\u001B[0m \u001B[31m72.2 MB/s\u001B[0m eta \u001B[36m0:00:01\u001B[0m\r\u001B[2K     \u001B[91m━━━━━━━━━━━━━━━━━━━━━━━━━━━━━━━━━━━━━\u001B[0m\u001B[91m╸\u001B[0m \u001B[32m316.9/317.0 MB\u001B[0m \u001B[31m72.2 MB/s\u001B[0m eta \u001B[36m0:00:01\u001B[0m\r\u001B[2K     \u001B[91m━━━━━━━━━━━━━━━━━━━━━━━━━━━━━━━━━━━━━\u001B[0m\u001B[91m╸\u001B[0m \u001B[32m316.9/317.0 MB\u001B[0m \u001B[31m72.2 MB/s\u001B[0m eta \u001B[36m0:00:01\u001B[0m\r\u001B[2K     \u001B[91m━━━━━━━━━━━━━━━━━━━━━━━━━━━━━━━━━━━━━\u001B[0m\u001B[91m╸\u001B[0m \u001B[32m316.9/317.0 MB\u001B[0m \u001B[31m72.2 MB/s\u001B[0m eta \u001B[36m0:00:01\u001B[0m\r\u001B[2K     \u001B[91m━━━━━━━━━━━━━━━━━━━━━━━━━━━━━━━━━━━━━\u001B[0m\u001B[91m╸\u001B[0m \u001B[32m316.9/317.0 MB\u001B[0m \u001B[31m72.2 MB/s\u001B[0m eta \u001B[36m0:00:01\u001B[0m\r\u001B[2K     \u001B[91m━━━━━━━━━━━━━━━━━━━━━━━━━━━━━━━━━━━━━\u001B[0m\u001B[91m╸\u001B[0m \u001B[32m316.9/317.0 MB\u001B[0m \u001B[31m72.2 MB/s\u001B[0m eta \u001B[36m0:00:01\u001B[0m\r\u001B[2K     \u001B[91m━━━━━━━━━━━━━━━━━━━━━━━━━━━━━━━━━━━━━\u001B[0m\u001B[91m╸\u001B[0m \u001B[32m316.9/317.0 MB\u001B[0m \u001B[31m72.2 MB/s\u001B[0m eta \u001B[36m0:00:01\u001B[0m\r\u001B[2K     \u001B[91m━━━━━━━━━━━━━━━━━━━━━━━━━━━━━━━━━━━━━\u001B[0m\u001B[91m╸\u001B[0m \u001B[32m316.9/317.0 MB\u001B[0m \u001B[31m72.2 MB/s\u001B[0m eta \u001B[36m0:00:01\u001B[0m\r\u001B[2K     \u001B[91m━━━━━━━━━━━━━━━━━━━━━━━━━━━━━━━━━━━━━\u001B[0m\u001B[91m╸\u001B[0m \u001B[32m316.9/317.0 MB\u001B[0m \u001B[31m72.2 MB/s\u001B[0m eta \u001B[36m0:00:01\u001B[0m\r\u001B[2K     \u001B[91m━━━━━━━━━━━━━━━━━━━━━━━━━━━━━━━━━━━━━\u001B[0m\u001B[91m╸\u001B[0m \u001B[32m316.9/317.0 MB\u001B[0m \u001B[31m72.2 MB/s\u001B[0m eta \u001B[36m0:00:01\u001B[0m\r\u001B[2K     \u001B[91m━━━━━━━━━━━━━━━━━━━━━━━━━━━━━━━━━━━━━\u001B[0m\u001B[91m╸\u001B[0m \u001B[32m316.9/317.0 MB\u001B[0m \u001B[31m72.2 MB/s\u001B[0m eta \u001B[36m0:00:01\u001B[0m\r\u001B[2K     \u001B[91m━━━━━━━━━━━━━━━━━━━━━━━━━━━━━━━━━━━━━\u001B[0m\u001B[91m╸\u001B[0m \u001B[32m316.9/317.0 MB\u001B[0m \u001B[31m72.2 MB/s\u001B[0m eta \u001B[36m0:00:01\u001B[0m\r\u001B[2K     \u001B[91m━━━━━━━━━━━━━━━━━━━━━━━━━━━━━━━━━━━━━\u001B[0m\u001B[91m╸\u001B[0m \u001B[32m316.9/317.0 MB\u001B[0m \u001B[31m72.2 MB/s\u001B[0m eta \u001B[36m0:00:01\u001B[0m\r\u001B[2K     \u001B[91m━━━━━━━━━━━━━━━━━━━━━━━━━━━━━━━━━━━━━\u001B[0m\u001B[91m╸\u001B[0m \u001B[32m316.9/317.0 MB\u001B[0m \u001B[31m72.2 MB/s\u001B[0m eta \u001B[36m0:00:01\u001B[0m\r\u001B[2K     \u001B[91m━━━━━━━━━━━━━━━━━━━━━━━━━━━━━━━━━━━━━\u001B[0m\u001B[91m╸\u001B[0m \u001B[32m316.9/317.0 MB\u001B[0m \u001B[31m72.2 MB/s\u001B[0m eta \u001B[36m0:00:01\u001B[0m\r\u001B[2K     \u001B[91m━━━━━━━━━━━━━━━━━━━━━━━━━━━━━━━━━━━━━\u001B[0m\u001B[91m╸\u001B[0m \u001B[32m316.9/317.0 MB\u001B[0m \u001B[31m72.2 MB/s\u001B[0m eta \u001B[36m0:00:01\u001B[0m\r\u001B[2K     \u001B[91m━━━━━━━━━━━━━━━━━━━━━━━━━━━━━━━━━━━━━\u001B[0m\u001B[91m╸\u001B[0m \u001B[32m316.9/317.0 MB\u001B[0m \u001B[31m72.2 MB/s\u001B[0m eta \u001B[36m0:00:01\u001B[0m\r\u001B[2K     \u001B[91m━━━━━━━━━━━━━━━━━━━━━━━━━━━━━━━━━━━━━\u001B[0m\u001B[91m╸\u001B[0m \u001B[32m316.9/317.0 MB\u001B[0m \u001B[31m72.2 MB/s\u001B[0m eta \u001B[36m0:00:01\u001B[0m\r\u001B[2K     \u001B[91m━━━━━━━━━━━━━━━━━━━━━━━━━━━━━━━━━━━━━\u001B[0m\u001B[91m╸\u001B[0m \u001B[32m316.9/317.0 MB\u001B[0m \u001B[31m72.2 MB/s\u001B[0m eta \u001B[36m0:00:01\u001B[0m\r\u001B[2K     \u001B[91m━━━━━━━━━━━━━━━━━━━━━━━━━━━━━━━━━━━━━\u001B[0m\u001B[91m╸\u001B[0m \u001B[32m316.9/317.0 MB\u001B[0m \u001B[31m72.2 MB/s\u001B[0m eta \u001B[36m0:00:01\u001B[0m\r\u001B[2K     \u001B[91m━━━━━━━━━━━━━━━━━━━━━━━━━━━━━━━━━━━━━\u001B[0m\u001B[91m╸\u001B[0m \u001B[32m316.9/317.0 MB\u001B[0m \u001B[31m72.2 MB/s\u001B[0m eta \u001B[36m0:00:01\u001B[0m\r\u001B[2K     \u001B[91m━━━━━━━━━━━━━━━━━━━━━━━━━━━━━━━━━━━━━\u001B[0m\u001B[91m╸\u001B[0m \u001B[32m316.9/317.0 MB\u001B[0m \u001B[31m72.2 MB/s\u001B[0m eta \u001B[36m0:00:01\u001B[0m\r\u001B[2K     \u001B[91m━━━━━━━━━━━━━━━━━━━━━━━━━━━━━━━━━━━━━\u001B[0m\u001B[91m╸\u001B[0m \u001B[32m316.9/317.0 MB\u001B[0m \u001B[31m72.2 MB/s\u001B[0m eta \u001B[36m0:00:01\u001B[0m\r\u001B[2K     \u001B[91m━━━━━━━━━━━━━━━━━━━━━━━━━━━━━━━━━━━━━\u001B[0m\u001B[91m╸\u001B[0m \u001B[32m316.9/317.0 MB\u001B[0m \u001B[31m72.2 MB/s\u001B[0m eta \u001B[36m0:00:01\u001B[0m\r\u001B[2K     \u001B[91m━━━━━━━━━━━━━━━━━━━━━━━━━━━━━━━━━━━━━\u001B[0m\u001B[91m╸\u001B[0m \u001B[32m316.9/317.0 MB\u001B[0m \u001B[31m72.2 MB/s\u001B[0m eta \u001B[36m0:00:01\u001B[0m\r\u001B[2K     \u001B[91m━━━━━━━━━━━━━━━━━━━━━━━━━━━━━━━━━━━━━\u001B[0m\u001B[91m╸\u001B[0m \u001B[32m316.9/317.0 MB\u001B[0m \u001B[31m72.2 MB/s\u001B[0m eta \u001B[36m0:00:01\u001B[0m\r\u001B[2K     \u001B[91m━━━━━━━━━━━━━━━━━━━━━━━━━━━━━━━━━━━━━\u001B[0m\u001B[91m╸\u001B[0m \u001B[32m316.9/317.0 MB\u001B[0m \u001B[31m72.2 MB/s\u001B[0m eta \u001B[36m0:00:01\u001B[0m\r\u001B[2K     \u001B[91m━━━━━━━━━━━━━━━━━━━━━━━━━━━━━━━━━━━━━\u001B[0m\u001B[91m╸\u001B[0m \u001B[32m316.9/317.0 MB\u001B[0m \u001B[31m72.2 MB/s\u001B[0m eta \u001B[36m0:00:01\u001B[0m\r\u001B[2K     \u001B[91m━━━━━━━━━━━━━━━━━━━━━━━━━━━━━━━━━━━━━\u001B[0m\u001B[91m╸\u001B[0m \u001B[32m316.9/317.0 MB\u001B[0m \u001B[31m72.2 MB/s\u001B[0m eta \u001B[36m0:00:01\u001B[0m\r\u001B[2K     \u001B[91m━━━━━━━━━━━━━━━━━━━━━━━━━━━━━━━━━━━━━\u001B[0m\u001B[91m╸\u001B[0m \u001B[32m316.9/317.0 MB\u001B[0m \u001B[31m72.2 MB/s\u001B[0m eta \u001B[36m0:00:01\u001B[0m\r\u001B[2K     \u001B[91m━━━━━━━━━━━━━━━━━━━━━━━━━━━━━━━━━━━━━\u001B[0m\u001B[91m╸\u001B[0m \u001B[32m316.9/317.0 MB\u001B[0m \u001B[31m72.2 MB/s\u001B[0m eta \u001B[36m0:00:01\u001B[0m\r\u001B[2K     \u001B[91m━━━━━━━━━━━━━━━━━━━━━━━━━━━━━━━━━━━━━\u001B[0m\u001B[91m╸\u001B[0m \u001B[32m316.9/317.0 MB\u001B[0m \u001B[31m72.2 MB/s\u001B[0m eta \u001B[36m0:00:01\u001B[0m\r\u001B[2K     \u001B[91m━━━━━━━━━━━━━━━━━━━━━━━━━━━━━━━━━━━━━\u001B[0m\u001B[91m╸\u001B[0m \u001B[32m316.9/317.0 MB\u001B[0m \u001B[31m72.2 MB/s\u001B[0m eta \u001B[36m0:00:01\u001B[0m\r\u001B[2K     \u001B[91m━━━━━━━━━━━━━━━━━━━━━━━━━━━━━━━━━━━━━\u001B[0m\u001B[91m╸\u001B[0m \u001B[32m316.9/317.0 MB\u001B[0m \u001B[31m72.2 MB/s\u001B[0m eta \u001B[36m0:00:01\u001B[0m\r\u001B[2K     \u001B[91m━━━━━━━━━━━━━━━━━━━━━━━━━━━━━━━━━━━━━\u001B[0m\u001B[91m╸\u001B[0m \u001B[32m316.9/317.0 MB\u001B[0m \u001B[31m72.2 MB/s\u001B[0m eta \u001B[36m0:00:01\u001B[0m\r\u001B[2K     \u001B[91m━━━━━━━━━━━━━━━━━━━━━━━━━━━━━━━━━━━━━\u001B[0m\u001B[91m╸\u001B[0m \u001B[32m316.9/317.0 MB\u001B[0m \u001B[31m72.2 MB/s\u001B[0m eta \u001B[36m0:00:01\u001B[0m\r\u001B[2K     \u001B[91m━━━━━━━━━━━━━━━━━━━━━━━━━━━━━━━━━━━━━\u001B[0m\u001B[91m╸\u001B[0m \u001B[32m316.9/317.0 MB\u001B[0m \u001B[31m72.2 MB/s\u001B[0m eta \u001B[36m0:00:01\u001B[0m\r\u001B[2K     \u001B[91m━━━━━━━━━━━━━━━━━━━━━━━━━━━━━━━━━━━━━\u001B[0m\u001B[91m╸\u001B[0m \u001B[32m316.9/317.0 MB\u001B[0m \u001B[31m72.2 MB/s\u001B[0m eta \u001B[36m0:00:01\u001B[0m\r\u001B[2K     \u001B[91m━━━━━━━━━━━━━━━━━━━━━━━━━━━━━━━━━━━━━\u001B[0m\u001B[91m╸\u001B[0m \u001B[32m316.9/317.0 MB\u001B[0m \u001B[31m72.2 MB/s\u001B[0m eta \u001B[36m0:00:01\u001B[0m\r\u001B[2K     \u001B[91m━━━━━━━━━━━━━━━━━━━━━━━━━━━━━━━━━━━━━\u001B[0m\u001B[91m╸\u001B[0m \u001B[32m316.9/317.0 MB\u001B[0m \u001B[31m72.2 MB/s\u001B[0m eta \u001B[36m0:00:01\u001B[0m\r\u001B[2K     \u001B[91m━━━━━━━━━━━━━━━━━━━━━━━━━━━━━━━━━━━━━\u001B[0m\u001B[91m╸\u001B[0m \u001B[32m316.9/317.0 MB\u001B[0m \u001B[31m72.2 MB/s\u001B[0m eta \u001B[36m0:00:01\u001B[0m\r\u001B[2K     \u001B[91m━━━━━━━━━━━━━━━━━━━━━━━━━━━━━━━━━━━━━\u001B[0m\u001B[91m╸\u001B[0m \u001B[32m316.9/317.0 MB\u001B[0m \u001B[31m72.2 MB/s\u001B[0m eta \u001B[36m0:00:01\u001B[0m\r\u001B[2K     \u001B[91m━━━━━━━━━━━━━━━━━━━━━━━━━━━━━━━━━━━━━\u001B[0m\u001B[91m╸\u001B[0m \u001B[32m316.9/317.0 MB\u001B[0m \u001B[31m72.2 MB/s\u001B[0m eta \u001B[36m0:00:01\u001B[0m\r\u001B[2K     \u001B[91m━━━━━━━━━━━━━━━━━━━━━━━━━━━━━━━━━━━━━\u001B[0m\u001B[91m╸\u001B[0m \u001B[32m316.9/317.0 MB\u001B[0m \u001B[31m72.2 MB/s\u001B[0m eta \u001B[36m0:00:01\u001B[0m\r\u001B[2K     \u001B[91m━━━━━━━━━━━━━━━━━━━━━━━━━━━━━━━━━━━━━\u001B[0m\u001B[91m╸\u001B[0m \u001B[32m316.9/317.0 MB\u001B[0m \u001B[31m72.2 MB/s\u001B[0m eta \u001B[36m0:00:01\u001B[0m\r\u001B[2K     \u001B[91m━━━━━━━━━━━━━━━━━━━━━━━━━━━━━━━━━━━━━\u001B[0m\u001B[91m╸\u001B[0m \u001B[32m316.9/317.0 MB\u001B[0m \u001B[31m72.2 MB/s\u001B[0m eta \u001B[36m0:00:01\u001B[0m\r\u001B[2K     \u001B[91m━━━━━━━━━━━━━━━━━━━━━━━━━━━━━━━━━━━━━\u001B[0m\u001B[91m╸\u001B[0m \u001B[32m316.9/317.0 MB\u001B[0m \u001B[31m72.2 MB/s\u001B[0m eta \u001B[36m0:00:01\u001B[0m\r\u001B[2K     \u001B\n\n*** WARNING: max output size exceeded, skipping output. ***\n\n[2K     \u001B[91m━━━━━━━━━━━━━━━━━━━━━━━━━━━━━━━━━━━━━\u001B[0m\u001B[91m╸\u001B[0m \u001B[32m316.9/317.0 MB\u001B[0m \u001B[31m72.2 MB/s\u001B[0m eta \u001B[36m0:00:01\u001B[0m\r\u001B[2K     \u001B[91m━━━━━━━━━━━━━━━━━━━━━━━━━━━━━━━━━━━━━\u001B[0m\u001B[91m╸\u001B[0m \u001B[32m316.9/317.0 MB\u001B[0m \u001B[31m72.2 MB/s\u001B[0m eta \u001B[36m0:00:01\u001B[0m\r\u001B[2K     \u001B[91m━━━━━━━━━━━━━━━━━━━━━━━━━━━━━━━━━━━━━\u001B[0m\u001B[91m╸\u001B[0m \u001B[32m316.9/317.0 MB\u001B[0m \u001B[31m72.2 MB/s\u001B[0m eta \u001B[36m0:00:01\u001B[0m\r\u001B[2K     \u001B[91m━━━━━━━━━━━━━━━━━━━━━━━━━━━━━━━━━━━━━\u001B[0m\u001B[91m╸\u001B[0m \u001B[32m316.9/317.0 MB\u001B[0m \u001B[31m72.2 MB/s\u001B[0m eta \u001B[36m0:00:01\u001B[0m\r\u001B[2K     \u001B[91m━━━━━━━━━━━━━━━━━━━━━━━━━━━━━━━━━━━━━\u001B[0m\u001B[91m╸\u001B[0m \u001B[32m316.9/317.0 MB\u001B[0m \u001B[31m72.2 MB/s\u001B[0m eta \u001B[36m0:00:01\u001B[0m\r\u001B[2K     \u001B[91m━━━━━━━━━━━━━━━━━━━━━━━━━━━━━━━━━━━━━\u001B[0m\u001B[91m╸\u001B[0m \u001B[32m316.9/317.0 MB\u001B[0m \u001B[31m72.2 MB/s\u001B[0m eta \u001B[36m0:00:01\u001B[0m\r\u001B[2K     \u001B[91m━━━━━━━━━━━━━━━━━━━━━━━━━━━━━━━━━━━━━\u001B[0m\u001B[91m╸\u001B[0m \u001B[32m316.9/317.0 MB\u001B[0m \u001B[31m72.2 MB/s\u001B[0m eta \u001B[36m0:00:01\u001B[0m\r\u001B[2K     \u001B[91m━━━━━━━━━━━━━━━━━━━━━━━━━━━━━━━━━━━━━\u001B[0m\u001B[91m╸\u001B[0m \u001B[32m316.9/317.0 MB\u001B[0m \u001B[31m72.2 MB/s\u001B[0m eta \u001B[36m0:00:01\u001B[0m\r\u001B[2K     \u001B[91m━━━━━━━━━━━━━━━━━━━━━━━━━━━━━━━━━━━━━\u001B[0m\u001B[91m╸\u001B[0m \u001B[32m316.9/317.0 MB\u001B[0m \u001B[31m72.2 MB/s\u001B[0m eta \u001B[36m0:00:01\u001B[0m\r\u001B[2K     \u001B[91m━━━━━━━━━━━━━━━━━━━━━━━━━━━━━━━━━━━━━\u001B[0m\u001B[91m╸\u001B[0m \u001B[32m316.9/317.0 MB\u001B[0m \u001B[31m72.2 MB/s\u001B[0m eta \u001B[36m0:00:01\u001B[0m\r\u001B[2K     \u001B[91m━━━━━━━━━━━━━━━━━━━━━━━━━━━━━━━━━━━━━\u001B[0m\u001B[91m╸\u001B[0m \u001B[32m316.9/317.0 MB\u001B[0m \u001B[31m72.2 MB/s\u001B[0m eta \u001B[36m0:00:01\u001B[0m\r\u001B[2K     \u001B[91m━━━━━━━━━━━━━━━━━━━━━━━━━━━━━━━━━━━━━\u001B[0m\u001B[91m╸\u001B[0m \u001B[32m316.9/317.0 MB\u001B[0m \u001B[31m72.2 MB/s\u001B[0m eta \u001B[36m0:00:01\u001B[0m\r\u001B[2K     \u001B[91m━━━━━━━━━━━━━━━━━━━━━━━━━━━━━━━━━━━━━\u001B[0m\u001B[91m╸\u001B[0m \u001B[32m316.9/317.0 MB\u001B[0m \u001B[31m72.2 MB/s\u001B[0m eta \u001B[36m0:00:01\u001B[0m\r\u001B[2K     \u001B[91m━━━━━━━━━━━━━━━━━━━━━━━━━━━━━━━━━━━━━\u001B[0m\u001B[91m╸\u001B[0m \u001B[32m316.9/317.0 MB\u001B[0m \u001B[31m72.2 MB/s\u001B[0m eta \u001B[36m0:00:01\u001B[0m\r\u001B[2K     \u001B[91m━━━━━━━━━━━━━━━━━━━━━━━━━━━━━━━━━━━━━\u001B[0m\u001B[91m╸\u001B[0m \u001B[32m316.9/317.0 MB\u001B[0m \u001B[31m72.2 MB/s\u001B[0m eta \u001B[36m0:00:01\u001B[0m\r\u001B[2K     \u001B[91m━━━━━━━━━━━━━━━━━━━━━━━━━━━━━━━━━━━━━\u001B[0m\u001B[91m╸\u001B[0m \u001B[32m316.9/317.0 MB\u001B[0m \u001B[31m72.2 MB/s\u001B[0m eta \u001B[36m0:00:01\u001B[0m\r\u001B[2K     \u001B[91m━━━━━━━━━━━━━━━━━━━━━━━━━━━━━━━━━━━━━\u001B[0m\u001B[91m╸\u001B[0m \u001B[32m316.9/317.0 MB\u001B[0m \u001B[31m72.2 MB/s\u001B[0m eta \u001B[36m0:00:01\u001B[0m\r\u001B[2K     \u001B[91m━━━━━━━━━━━━━━━━━━━━━━━━━━━━━━━━━━━━━\u001B[0m\u001B[91m╸\u001B[0m \u001B[32m316.9/317.0 MB\u001B[0m \u001B[31m72.2 MB/s\u001B[0m eta \u001B[36m0:00:01\u001B[0m\r\u001B[2K     \u001B[91m━━━━━━━━━━━━━━━━━━━━━━━━━━━━━━━━━━━━━\u001B[0m\u001B[91m╸\u001B[0m \u001B[32m316.9/317.0 MB\u001B[0m \u001B[31m72.2 MB/s\u001B[0m eta \u001B[36m0:00:01\u001B[0m\r\u001B[2K     \u001B[91m━━━━━━━━━━━━━━━━━━━━━━━━━━━━━━━━━━━━━\u001B[0m\u001B[91m╸\u001B[0m \u001B[32m316.9/317.0 MB\u001B[0m \u001B[31m72.2 MB/s\u001B[0m eta \u001B[36m0:00:01\u001B[0m\r\u001B[2K     \u001B[91m━━━━━━━━━━━━━━━━━━━━━━━━━━━━━━━━━━━━━\u001B[0m\u001B[91m╸\u001B[0m \u001B[32m316.9/317.0 MB\u001B[0m \u001B[31m72.2 MB/s\u001B[0m eta \u001B[36m0:00:01\u001B[0m\r\u001B[2K     \u001B[91m━━━━━━━━━━━━━━━━━━━━━━━━━━━━━━━━━━━━━\u001B[0m\u001B[91m╸\u001B[0m \u001B[32m316.9/317.0 MB\u001B[0m \u001B[31m72.2 MB/s\u001B[0m eta \u001B[36m0:00:01\u001B[0m\r\u001B[2K     \u001B[91m━━━━━━━━━━━━━━━━━━━━━━━━━━━━━━━━━━━━━\u001B[0m\u001B[91m╸\u001B[0m \u001B[32m316.9/317.0 MB\u001B[0m \u001B[31m72.2 MB/s\u001B[0m eta \u001B[36m0:00:01\u001B[0m\r\u001B[2K     \u001B[91m━━━━━━━━━━━━━━━━━━━━━━━━━━━━━━━━━━━━━\u001B[0m\u001B[91m╸\u001B[0m \u001B[32m316.9/317.0 MB\u001B[0m \u001B[31m72.2 MB/s\u001B[0m eta \u001B[36m0:00:01\u001B[0m\r\u001B[2K     \u001B[91m━━━━━━━━━━━━━━━━━━━━━━━━━━━━━━━━━━━━━\u001B[0m\u001B[91m╸\u001B[0m \u001B[32m316.9/317.0 MB\u001B[0m \u001B[31m72.2 MB/s\u001B[0m eta \u001B[36m0:00:01\u001B[0m\r\u001B[2K     \u001B[91m━━━━━━━━━━━━━━━━━━━━━━━━━━━━━━━━━━━━━\u001B[0m\u001B[91m╸\u001B[0m \u001B[32m316.9/317.0 MB\u001B[0m \u001B[31m72.2 MB/s\u001B[0m eta \u001B[36m0:00:01\u001B[0m\r\u001B[2K     \u001B[91m━━━━━━━━━━━━━━━━━━━━━━━━━━━━━━━━━━━━━\u001B[0m\u001B[91m╸\u001B[0m \u001B[32m316.9/317.0 MB\u001B[0m \u001B[31m72.2 MB/s\u001B[0m eta \u001B[36m0:00:01\u001B[0m\r\u001B[2K     \u001B[91m━━━━━━━━━━━━━━━━━━━━━━━━━━━━━━━━━━━━━\u001B[0m\u001B[91m╸\u001B[0m \u001B[32m316.9/317.0 MB\u001B[0m \u001B[31m72.2 MB/s\u001B[0m eta \u001B[36m0:00:01\u001B[0m\r\u001B[2K     \u001B[91m━━━━━━━━━━━━━━━━━━━━━━━━━━━━━━━━━━━━━\u001B[0m\u001B[91m╸\u001B[0m \u001B[32m316.9/317.0 MB\u001B[0m \u001B[31m72.2 MB/s\u001B[0m eta \u001B[36m0:00:01\u001B[0m\r\u001B[2K     \u001B[91m━━━━━━━━━━━━━━━━━━━━━━━━━━━━━━━━━━━━━\u001B[0m\u001B[91m╸\u001B[0m \u001B[32m316.9/317.0 MB\u001B[0m \u001B[31m72.2 MB/s\u001B[0m eta \u001B[36m0:00:01\u001B[0m\r\u001B[2K     \u001B[91m━━━━━━━━━━━━━━━━━━━━━━━━━━━━━━━━━━━━━\u001B[0m\u001B[91m╸\u001B[0m \u001B[32m316.9/317.0 MB\u001B[0m \u001B[31m72.2 MB/s\u001B[0m eta \u001B[36m0:00:01\u001B[0m\r\u001B[2K     \u001B[91m━━━━━━━━━━━━━━━━━━━━━━━━━━━━━━━━━━━━━\u001B[0m\u001B[91m╸\u001B[0m \u001B[32m316.9/317.0 MB\u001B[0m \u001B[31m72.2 MB/s\u001B[0m eta \u001B[36m0:00:01\u001B[0m\r\u001B[2K     \u001B[91m━━━━━━━━━━━━━━━━━━━━━━━━━━━━━━━━━━━━━\u001B[0m\u001B[91m╸\u001B[0m \u001B[32m316.9/317.0 MB\u001B[0m \u001B[31m72.2 MB/s\u001B[0m eta \u001B[36m0:00:01\u001B[0m\r\u001B[2K     \u001B[91m━━━━━━━━━━━━━━━━━━━━━━━━━━━━━━━━━━━━━\u001B[0m\u001B[91m╸\u001B[0m \u001B[32m316.9/317.0 MB\u001B[0m \u001B[31m72.2 MB/s\u001B[0m eta \u001B[36m0:00:01\u001B[0m\r\u001B[2K     \u001B[91m━━━━━━━━━━━━━━━━━━━━━━━━━━━━━━━━━━━━━\u001B[0m\u001B[91m╸\u001B[0m \u001B[32m316.9/317.0 MB\u001B[0m \u001B[31m72.2 MB/s\u001B[0m eta \u001B[36m0:00:01\u001B[0m\r\u001B[2K     \u001B[91m━━━━━━━━━━━━━━━━━━━━━━━━━━━━━━━━━━━━━\u001B[0m\u001B[91m╸\u001B[0m \u001B[32m316.9/317.0 MB\u001B[0m \u001B[31m72.2 MB/s\u001B[0m eta \u001B[36m0:00:01\u001B[0m\r\u001B[2K     \u001B[91m━━━━━━━━━━━━━━━━━━━━━━━━━━━━━━━━━━━━━\u001B[0m\u001B[91m╸\u001B[0m \u001B[32m316.9/317.0 MB\u001B[0m \u001B[31m72.2 MB/s\u001B[0m eta \u001B[36m0:00:01\u001B[0m\r\u001B[2K     \u001B[91m━━━━━━━━━━━━━━━━━━━━━━━━━━━━━━━━━━━━━\u001B[0m\u001B[91m╸\u001B[0m \u001B[32m316.9/317.0 MB\u001B[0m \u001B[31m72.2 MB/s\u001B[0m eta \u001B[36m0:00:01\u001B[0m\r\u001B[2K     \u001B[91m━━━━━━━━━━━━━━━━━━━━━━━━━━━━━━━━━━━━━\u001B[0m\u001B[91m╸\u001B[0m \u001B[32m316.9/317.0 MB\u001B[0m \u001B[31m72.2 MB/s\u001B[0m eta \u001B[36m0:00:01\u001B[0m\r\u001B[2K     \u001B[91m━━━━━━━━━━━━━━━━━━━━━━━━━━━━━━━━━━━━━\u001B[0m\u001B[91m╸\u001B[0m \u001B[32m316.9/317.0 MB\u001B[0m \u001B[31m72.2 MB/s\u001B[0m eta \u001B[36m0:00:01\u001B[0m\r\u001B[2K     \u001B[91m━━━━━━━━━━━━━━━━━━━━━━━━━━━━━━━━━━━━━\u001B[0m\u001B[91m╸\u001B[0m \u001B[32m316.9/317.0 MB\u001B[0m \u001B[31m72.2 MB/s\u001B[0m eta \u001B[36m0:00:01\u001B[0m\r\u001B[2K     \u001B[91m━━━━━━━━━━━━━━━━━━━━━━━━━━━━━━━━━━━━━\u001B[0m\u001B[91m╸\u001B[0m \u001B[32m316.9/317.0 MB\u001B[0m \u001B[31m72.2 MB/s\u001B[0m eta \u001B[36m0:00:01\u001B[0m\r\u001B[2K     \u001B[91m━━━━━━━━━━━━━━━━━━━━━━━━━━━━━━━━━━━━━\u001B[0m\u001B[91m╸\u001B[0m \u001B[32m316.9/317.0 MB\u001B[0m \u001B[31m72.2 MB/s\u001B[0m eta \u001B[36m0:00:01\u001B[0m\r\u001B[2K     \u001B[91m━━━━━━━━━━━━━━━━━━━━━━━━━━━━━━━━━━━━━\u001B[0m\u001B[91m╸\u001B[0m \u001B[32m316.9/317.0 MB\u001B[0m \u001B[31m72.2 MB/s\u001B[0m eta \u001B[36m0:00:01\u001B[0m\r\u001B[2K     \u001B[91m━━━━━━━━━━━━━━━━━━━━━━━━━━━━━━━━━━━━━\u001B[0m\u001B[91m╸\u001B[0m \u001B[32m316.9/317.0 MB\u001B[0m \u001B[31m72.2 MB/s\u001B[0m eta \u001B[36m0:00:01\u001B[0m\r\u001B[2K     \u001B[91m━━━━━━━━━━━━━━━━━━━━━━━━━━━━━━━━━━━━━\u001B[0m\u001B[91m╸\u001B[0m \u001B[32m316.9/317.0 MB\u001B[0m \u001B[31m72.2 MB/s\u001B[0m eta \u001B[36m0:00:01\u001B[0m\r\u001B[2K     \u001B[91m━━━━━━━━━━━━━━━━━━━━━━━━━━━━━━━━━━━━━\u001B[0m\u001B[91m╸\u001B[0m \u001B[32m316.9/317.0 MB\u001B[0m \u001B[31m72.2 MB/s\u001B[0m eta \u001B[36m0:00:01\u001B[0m\r\u001B[2K     \u001B[91m━━━━━━━━━━━━━━━━━━━━━━━━━━━━━━━━━━━━━\u001B[0m\u001B[91m╸\u001B[0m \u001B[32m316.9/317.0 MB\u001B[0m \u001B[31m72.2 MB/s\u001B[0m eta \u001B[36m0:00:01\u001B[0m\r\u001B[2K     \u001B[91m━━━━━━━━━━━━━━━━━━━━━━━━━━━━━━━━━━━━━\u001B[0m\u001B[91m╸\u001B[0m \u001B[32m316.9/317.0 MB\u001B[0m \u001B[31m72.2 MB/s\u001B[0m eta \u001B[36m0:00:01\u001B[0m\r\u001B[2K     \u001B[91m━━━━━━━━━━━━━━━━━━━━━━━━━━━━━━━━━━━━━\u001B[0m\u001B[91m╸\u001B[0m \u001B[32m316.9/317.0 MB\u001B[0m \u001B[31m72.2 MB/s\u001B[0m eta \u001B[36m0:00:01\u001B[0m\r\u001B[2K     \u001B[91m━━━━━━━━━━━━━━━━━━━━━━━━━━━━━━━━━━━━━\u001B[0m\u001B[91m╸\u001B[0m \u001B[32m316.9/317.0 MB\u001B[0m \u001B[31m72.2 MB/s\u001B[0m eta \u001B[36m0:00:01\u001B[0m\r\u001B[2K     \u001B[91m━━━━━━━━━━━━━━━━━━━━━━━━━━━━━━━━━━━━━\u001B[0m\u001B[91m╸\u001B[0m \u001B[32m316.9/317.0 MB\u001B[0m \u001B[31m72.2 MB/s\u001B[0m eta \u001B[36m0:00:01\u001B[0m\r\u001B[2K     \u001B[91m━━━━━━━━━━━━━━━━━━━━━━━━━━━━━━━━━━━━━\u001B[0m\u001B[91m╸\u001B[0m \u001B[32m316.9/317.0 MB\u001B[0m \u001B[31m72.2 MB/s\u001B[0m eta \u001B[36m0:00:01\u001B[0m\r\u001B[2K     \u001B[91m━━━━━━━━━━━━━━━━━━━━━━━━━━━━━━━━━━━━━\u001B[0m\u001B[91m╸\u001B[0m \u001B[32m316.9/317.0 MB\u001B[0m \u001B[31m72.2 MB/s\u001B[0m eta \u001B[36m0:00:01\u001B[0m\r\u001B[2K     \u001B[91m━━━━━━━━━━━━━━━━━━━━━━━━━━━━━━━━━━━━━\u001B[0m\u001B[91m╸\u001B[0m \u001B[32m316.9/317.0 MB\u001B[0m \u001B[31m72.2 MB/s\u001B[0m eta \u001B[36m0:00:01\u001B[0m\r\u001B[2K     \u001B[91m━━━━━━━━━━━━━━━━━━━━━━━━━━━━━━━━━━━━━\u001B[0m\u001B[91m╸\u001B[0m \u001B[32m316.9/317.0 MB\u001B[0m \u001B[31m72.2 MB/s\u001B[0m eta \u001B[36m0:00:01\u001B[0m\r\u001B[2K     \u001B[91m━━━━━━━━━━━━━━━━━━━━━━━━━━━━━━━━━━━━━\u001B[0m\u001B[91m╸\u001B[0m \u001B[32m316.9/317.0 MB\u001B[0m \u001B[31m72.2 MB/s\u001B[0m eta \u001B[36m0:00:01\u001B[0m\r\u001B[2K     \u001B[91m━━━━━━━━━━━━━━━━━━━━━━━━━━━━━━━━━━━━━\u001B[0m\u001B[91m╸\u001B[0m \u001B[32m316.9/317.0 MB\u001B[0m \u001B[31m72.2 MB/s\u001B[0m eta \u001B[36m0:00:01\u001B[0m\r\u001B[2K     \u001B[91m━━━━━━━━━━━━━━━━━━━━━━━━━━━━━━━━━━━━━\u001B[0m\u001B[91m╸\u001B[0m \u001B[32m316.9/317.0 MB\u001B[0m \u001B[31m72.2 MB/s\u001B[0m eta \u001B[36m0:00:01\u001B[0m\r\u001B[2K     \u001B[91m━━━━━━━━━━━━━━━━━━━━━━━━━━━━━━━━━━━━━\u001B[0m\u001B[91m╸\u001B[0m \u001B[32m316.9/317.0 MB\u001B[0m \u001B[31m72.2 MB/s\u001B[0m eta \u001B[36m0:00:01\u001B[0m\r\u001B[2K     \u001B[91m━━━━━━━━━━━━━━━━━━━━━━━━━━━━━━━━━━━━━\u001B[0m\u001B[91m╸\u001B[0m \u001B[32m316.9/317.0 MB\u001B[0m \u001B[31m72.2 MB/s\u001B[0m eta \u001B[36m0:00:01\u001B[0m\r\u001B[2K     \u001B[91m━━━━━━━━━━━━━━━━━━━━━━━━━━━━━━━━━━━━━\u001B[0m\u001B[91m╸\u001B[0m \u001B[32m316.9/317.0 MB\u001B[0m \u001B[31m72.2 MB/s\u001B[0m eta \u001B[36m0:00:01\u001B[0m\r\u001B[2K     \u001B[91m━━━━━━━━━━━━━━━━━━━━━━━━━━━━━━━━━━━━━\u001B[0m\u001B[91m╸\u001B[0m \u001B[32m316.9/317.0 MB\u001B[0m \u001B[31m72.2 MB/s\u001B[0m eta \u001B[36m0:00:01\u001B[0m\r\u001B[2K     \u001B[91m━━━━━━━━━━━━━━━━━━━━━━━━━━━━━━━━━━━━━\u001B[0m\u001B[91m╸\u001B[0m \u001B[32m316.9/317.0 MB\u001B[0m \u001B[31m72.2 MB/s\u001B[0m eta \u001B[36m0:00:01\u001B[0m\r\u001B[2K     \u001B[91m━━━━━━━━━━━━━━━━━━━━━━━━━━━━━━━━━━━━━\u001B[0m\u001B[91m╸\u001B[0m \u001B[32m316.9/317.0 MB\u001B[0m \u001B[31m72.2 MB/s\u001B[0m eta \u001B[36m0:00:01\u001B[0m\r\u001B[2K     \u001B[91m━━━━━━━━━━━━━━━━━━━━━━━━━━━━━━━━━━━━━\u001B[0m\u001B[91m╸\u001B[0m \u001B[32m316.9/317.0 MB\u001B[0m \u001B[31m72.2 MB/s\u001B[0m eta \u001B[36m0:00:01\u001B[0m\r\u001B[2K     \u001B[91m━━━━━━━━━━━━━━━━━━━━━━━━━━━━━━━━━━━━━\u001B[0m\u001B[91m╸\u001B[0m \u001B[32m316.9/317.0 MB\u001B[0m \u001B[31m72.2 MB/s\u001B[0m eta \u001B[36m0:00:01\u001B[0m\r\u001B[2K     \u001B[91m━━━━━━━━━━━━━━━━━━━━━━━━━━━━━━━━━━━━━\u001B[0m\u001B[91m╸\u001B[0m \u001B[32m316.9/317.0 MB\u001B[0m \u001B[31m72.2 MB/s\u001B[0m eta \u001B[36m0:00:01\u001B[0m\r\u001B[2K     \u001B[91m━━━━━━━━━━━━━━━━━━━━━━━━━━━━━━━━━━━━━\u001B[0m\u001B[91m╸\u001B[0m \u001B[32m316.9/317.0 MB\u001B[0m \u001B[31m72.2 MB/s\u001B[0m eta \u001B[36m0:00:01\u001B[0m\r\u001B[2K     \u001B[91m━━━━━━━━━━━━━━━━━━━━━━━━━━━━━━━━━━━━━\u001B[0m\u001B[91m╸\u001B[0m \u001B[32m316.9/317.0 MB\u001B[0m \u001B[31m72.2 MB/s\u001B[0m eta \u001B[36m0:00:01\u001B[0m\r\u001B[2K     \u001B[91m━━━━━━━━━━━━━━━━━━━━━━━━━━━━━━━━━━━━━\u001B[0m\u001B[91m╸\u001B[0m \u001B[32m316.9/317.0 MB\u001B[0m \u001B[31m72.2 MB/s\u001B[0m eta \u001B[36m0:00:01\u001B[0m\r\u001B[2K     \u001B[91m━━━━━━━━━━━━━━━━━━━━━━━━━━━━━━━━━━━━━\u001B[0m\u001B[91m╸\u001B[0m \u001B[32m316.9/317.0 MB\u001B[0m \u001B[31m72.2 MB/s\u001B[0m eta \u001B[36m0:00:01\u001B[0m\r\u001B[2K     \u001B[91m━━━━━━━━━━━━━━━━━━━━━━━━━━━━━━━━━━━━━\u001B[0m\u001B[91m╸\u001B[0m \u001B[32m316.9/317.0 MB\u001B[0m \u001B[31m72.2 MB/s\u001B[0m eta \u001B[36m0:00:01\u001B[0m\r\u001B[2K     \u001B[91m━━━━━━━━━━━━━━━━━━━━━━━━━━━━━━━━━━━━━\u001B[0m\u001B[91m╸\u001B[0m \u001B[32m316.9/317.0 MB\u001B[0m \u001B[31m72.2 MB/s\u001B[0m eta \u001B[36m0:00:01\u001B[0m\r\u001B[2K     \u001B[91m━━━━━━━━━━━━━━━━━━━━━━━━━━━━━━━━━━━━━\u001B[0m\u001B[91m╸\u001B[0m \u001B[32m316.9/317.0 MB\u001B[0m \u001B[31m72.2 MB/s\u001B[0m eta \u001B[36m0:00:01\u001B[0m\r\u001B[2K     \u001B[91m━━━━━━━━━━━━━━━━━━━━━━━━━━━━━━━━━━━━━\u001B[0m\u001B[91m╸\u001B[0m \u001B[32m316.9/317.0 MB\u001B[0m \u001B[31m72.2 MB/s\u001B[0m eta \u001B[36m0:00:01\u001B[0m\r\u001B[2K     \u001B[91m━━━━━━━━━━━━━━━━━━━━━━━━━━━━━━━━━━━━━\u001B[0m\u001B[91m╸\u001B[0m \u001B[32m316.9/317.0 MB\u001B[0m \u001B[31m72.2 MB/s\u001B[0m eta \u001B[36m0:00:01\u001B[0m\r\u001B[2K     \u001B[91m━━━━━━━━━━━━━━━━━━━━━━━━━━━━━━━━━━━━━\u001B[0m\u001B[91m╸\u001B[0m \u001B[32m316.9/317.0 MB\u001B[0m \u001B[31m72.2 MB/s\u001B[0m eta \u001B[36m0:00:01\u001B[0m\r\u001B[2K     \u001B[91m━━━━━━━━━━━━━━━━━━━━━━━━━━━━━━━━━━━━━\u001B[0m\u001B[91m╸\u001B[0m \u001B[32m316.9/317.0 MB\u001B[0m \u001B[31m72.2 MB/s\u001B[0m eta \u001B[36m0:00:01\u001B[0m\r\u001B[2K     \u001B[91m━━━━━━━━━━━━━━━━━━━━━━━━━━━━━━━━━━━━━\u001B[0m\u001B[91m╸\u001B[0m \u001B[32m316.9/317.0 MB\u001B[0m \u001B[31m72.2 MB/s\u001B[0m eta \u001B[36m0:00:01\u001B[0m\r\u001B[2K     \u001B[91m━━━━━━━━━━━━━━━━━━━━━━━━━━━━━━━━━━━━━\u001B[0m\u001B[91m╸\u001B[0m \u001B[32m316.9/317.0 MB\u001B[0m \u001B[31m72.2 MB/s\u001B[0m eta \u001B[36m0:00:01\u001B[0m\r\u001B[2K     \u001B[91m━━━━━━━━━━━━━━━━━━━━━━━━━━━━━━━━━━━━━\u001B[0m\u001B[91m╸\u001B[0m \u001B[32m316.9/317.0 MB\u001B[0m \u001B[31m72.2 MB/s\u001B[0m eta \u001B[36m0:00:01\u001B[0m\r\u001B[2K     \u001B[91m━━━━━━━━━━━━━━━━━━━━━━━━━━━━━━━━━━━━━\u001B[0m\u001B[91m╸\u001B[0m \u001B[32m316.9/317.0 MB\u001B[0m \u001B[31m72.2 MB/s\u001B[0m eta \u001B[36m0:00:01\u001B[0m\r\u001B[2K     \u001B[91m━━━━━━━━━━━━━━━━━━━━━━━━━━━━━━━━━━━━━\u001B[0m\u001B[91m╸\u001B[0m \u001B[32m316.9/317.0 MB\u001B[0m \u001B[31m72.2 MB/s\u001B[0m eta \u001B[36m0:00:01\u001B[0m\r\u001B[2K     \u001B[91m━━━━━━━━━━━━━━━━━━━━━━━━━━━━━━━━━━━━━\u001B[0m\u001B[91m╸\u001B[0m \u001B[32m316.9/317.0 MB\u001B[0m \u001B[31m72.2 MB/s\u001B[0m eta \u001B[36m0:00:01\u001B[0m\r\u001B[2K     \u001B[91m━━━━━━━━━━━━━━━━━━━━━━━━━━━━━━━━━━━━━\u001B[0m\u001B[91m╸\u001B[0m \u001B[32m316.9/317.0 MB\u001B[0m \u001B[31m72.2 MB/s\u001B[0m eta \u001B[36m0:00:01\u001B[0m\r\u001B[2K     \u001B[91m━━━━━━━━━━━━━━━━━━━━━━━━━━━━━━━━━━━━━\u001B[0m\u001B[91m╸\u001B[0m \u001B[32m316.9/317.0 MB\u001B[0m \u001B[31m72.2 MB/s\u001B[0m eta \u001B[36m0:00:01\u001B[0m\r\u001B[2K     \u001B[91m━━━━━━━━━━━━━━━━━━━━━━━━━━━━━━━━━━━━━\u001B[0m\u001B[91m╸\u001B[0m \u001B[32m316.9/317.0 MB\u001B[0m \u001B[31m72.2 MB/s\u001B[0m eta \u001B[36m0:00:01\u001B[0m\r\u001B[2K     \u001B[91m━━━━━━━━━━━━━━━━━━━━━━━━━━━━━━━━━━━━━\u001B[0m\u001B[91m╸\u001B[0m \u001B[32m316.9/317.0 MB\u001B[0m \u001B[31m72.2 MB/s\u001B[0m eta \u001B[36m0:00:01\u001B[0m\r\u001B[2K     \u001B[91m━━━━━━━━━━━━━━━━━━━━━━━━━━━━━━━━━━━━━\u001B[0m\u001B[91m╸\u001B[0m \u001B[32m316.9/317.0 MB\u001B[0m \u001B[31m72.2 MB/s\u001B[0m eta \u001B[36m0:00:01\u001B[0m\r\u001B[2K     \u001B[91m━━━━━━━━━━━━━━━━━━━━━━━━━━━━━━━━━━━━━\u001B[0m\u001B[91m╸\u001B[0m \u001B[32m316.9/317.0 MB\u001B[0m \u001B[31m72.2 MB/s\u001B[0m eta \u001B[36m0:00:01\u001B[0m\r\u001B[2K     \u001B[91m━━━━━━━━━━━━━━━━━━━━━━━━━━━━━━━━━━━━━\u001B[0m\u001B[91m╸\u001B[0m \u001B[32m316.9/317.0 MB\u001B[0m \u001B[31m72.2 MB/s\u001B[0m eta \u001B[36m0:00:01\u001B[0m\r\u001B[2K     \u001B[91m━━━━━━━━━━━━━━━━━━━━━━━━━━━━━━━━━━━━━\u001B[0m\u001B[91m╸\u001B[0m \u001B[32m316.9/317.0 MB\u001B[0m \u001B[31m72.2 MB/s\u001B[0m eta \u001B[36m0:00:01\u001B[0m\r\u001B[2K     \u001B[91m━━━━━━━━━━━━━━━━━━━━━━━━━━━━━━━━━━━━━\u001B[0m\u001B[91m╸\u001B[0m \u001B[32m316.9/317.0 MB\u001B[0m \u001B[31m72.2 MB/s\u001B[0m eta \u001B[36m0:00:01\u001B[0m\r\u001B[2K     \u001B[91m━━━━━━━━━━━━━━━━━━━━━━━━━━━━━━━━━━━━━\u001B[0m\u001B[91m╸\u001B[0m \u001B[32m316.9/317.0 MB\u001B[0m \u001B[31m72.2 MB/s\u001B[0m eta \u001B[36m0:00:01\u001B[0m\r\u001B[2K     \u001B[91m━━━━━━━━━━━━━━━━━━━━━━━━━━━━━━━━━━━━━\u001B[0m\u001B[91m╸\u001B[0m \u001B[32m316.9/317.0 MB\u001B[0m \u001B[31m72.2 MB/s\u001B[0m eta \u001B[36m0:00:01\u001B[0m\r\u001B[2K     \u001B[91m━━━━━━━━━━━━━━━━━━━━━━━━━━━━━━━━━━━━━\u001B[0m\u001B[91m╸\u001B[0m \u001B[32m316.9/317.0 MB\u001B[0m \u001B[31m72.2 MB/s\u001B[0m eta \u001B[36m0:00:01\u001B[0m\r\u001B[2K     \u001B[91m━━━━━━━━━━━━━━━━━━━━━━━━━━━━━━━━━━━━━\u001B[0m\u001B[91m╸\u001B[0m \u001B[32m316.9/317.0 MB\u001B[0m \u001B[31m72.2 MB/s\u001B[0m eta \u001B[36m0:00:01\u001B[0m\r\u001B[2K     \u001B[91m━━━━━━━━━━━━━━━━━━━━━━━━━━━━━━━━━━━━━\u001B[0m\u001B[91m╸\u001B[0m \u001B[32m316.9/317.0 MB\u001B[0m \u001B[31m72.2 MB/s\u001B[0m eta \u001B[36m0:00:01\u001B[0m\r\u001B[2K     \u001B[91m━━━━━━━━━━━━━━━━━━━━━━━━━━━━━━━━━━━━━\u001B[0m\u001B[91m╸\u001B[0m \u001B[32m316.9/317.0 MB\u001B[0m \u001B[31m72.2 MB/s\u001B[0m eta \u001B[36m0:00:01\u001B[0m\r\u001B[2K     \u001B[91m━━━━━━━━━━━━━━━━━━━━━━━━━━━━━━━━━━━━━\u001B[0m\u001B[91m╸\u001B[0m \u001B[32m316.9/317.0 MB\u001B[0m \u001B[31m72.2 MB/s\u001B[0m eta \u001B[36m0:00:01\u001B[0m\r\u001B[2K     \u001B[91m━━━━━━━━━━━━━━━━━━━━━━━━━━━━━━━━━━━━━\u001B[0m\u001B[91m╸\u001B[0m \u001B[32m316.9/317.0 MB\u001B[0m \u001B[31m72.2 MB/s\u001B[0m eta \u001B[36m0:00:01\u001B[0m\r\u001B[2K     \u001B[91m━━━━━━━━━━━━━━━━━━━━━━━━━━━━━━━━━━━━━\u001B[0m\u001B[91m╸\u001B[0m \u001B[32m316.9/317.0 MB\u001B[0m \u001B[31m72.2 MB/s\u001B[0m eta \u001B[36m0:00:01\u001B[0m\r\u001B[2K     \u001B[91m━━━━━━━━━━━━━━━━━━━━━━━━━━━━━━━━━━━━━\u001B[0m\u001B[91m╸\u001B[0m \u001B[32m316.9/317.0 MB\u001B[0m \u001B[31m72.2 MB/s\u001B[0m eta \u001B[36m0:00:01\u001B[0m\r\u001B[2K     \u001B[91m━━━━━━━━━━━━━━━━━━━━━━━━━━━━━━━━━━━━━\u001B[0m\u001B[91m╸\u001B[0m \u001B[32m316.9/317.0 MB\u001B[0m \u001B[31m72.2 MB/s\u001B[0m eta \u001B[36m0:00:01\u001B[0m\r\u001B[2K     \u001B[91m━━━━━━━━━━━━━━━━━━━━━━━━━━━━━━━━━━━━━\u001B[0m\u001B[91m╸\u001B[0m \u001B[32m316.9/317.0 MB\u001B[0m \u001B[31m72.2 MB/s\u001B[0m eta \u001B[36m0:00:01\u001B[0m\r\u001B[2K     \u001B[91m━━━━━━━━━━━━━━━━━━━━━━━━━━━━━━━━━━━━━\u001B[0m\u001B[91m╸\u001B[0m \u001B[32m316.9/317.0 MB\u001B[0m \u001B[31m72.2 MB/s\u001B[0m eta \u001B[36m0:00:01\u001B[0m\r\u001B[2K     \u001B[91m━━━━━━━━━━━━━━━━━━━━━━━━━━━━━━━━━━━━━\u001B[0m\u001B[91m╸\u001B[0m \u001B[32m316.9/317.0 MB\u001B[0m \u001B[31m72.2 MB/s\u001B[0m eta \u001B[36m0:00:01\u001B[0m\r\u001B[2K     \u001B[91m━━━━━━━━━━━━━━━━━━━━━━━━━━━━━━━━━━━━━\u001B[0m\u001B[91m╸\u001B[0m \u001B[32m316.9/317.0 MB\u001B[0m \u001B[31m72.2 MB/s\u001B[0m eta \u001B[36m0:00:01\u001B[0m\r\u001B[2K     \u001B[91m━━━━━━━━━━━━━━━━━━━━━━━━━━━━━━━━━━━━━\u001B[0m\u001B[91m╸\u001B[0m \u001B[32m316.9/317.0 MB\u001B[0m \u001B[31m72.2 MB/s\u001B[0m eta \u001B[36m0:00:01\u001B[0m\r\u001B[2K     \u001B[91m━━━━━━━━━━━━━━━━━━━━━━━━━━━━━━━━━━━━━\u001B[0m\u001B[91m╸\u001B[0m \u001B[32m316.9/317.0 MB\u001B[0m \u001B[31m72.2 MB/s\u001B[0m eta \u001B[36m0:00:01\u001B[0m\r\u001B[2K     \u001B[91m━━━━━━━━━━━━━━━━━━━━━━━━━━━━━━━━━━━━━\u001B[0m\u001B[91m╸\u001B[0m \u001B[32m316.9/317.0 MB\u001B[0m \u001B[31m72.2 MB/s\u001B[0m eta \u001B[36m0:00:01\u001B[0m\r\u001B[2K     \u001B[91m━━━━━━━━━━━━━━━━━━━━━━━━━━━━━━━━━━━━━\u001B[0m\u001B[91m╸\u001B[0m \u001B[32m316.9/317.0 MB\u001B[0m \u001B[31m72.2 MB/s\u001B[0m eta \u001B[36m0:00:01\u001B[0m\r\u001B[2K     \u001B[91m━━━━━━━━━━━━━━━━━━━━━━━━━━━━━━━━━━━━━\u001B[0m\u001B[91m╸\u001B[0m \u001B[32m316.9/317.0 MB\u001B[0m \u001B[31m72.2 MB/s\u001B[0m eta \u001B[36m0:00:01\u001B[0m\r\u001B[2K     \u001B[91m━━━━━━━━━━━━━━━━━━━━━━━━━━━━━━━━━━━━━\u001B[0m\u001B[91m╸\u001B[0m \u001B[32m316.9/317.0 MB\u001B[0m \u001B[31m72.2 MB/s\u001B[0m eta \u001B[36m0:00:01\u001B[0m\r\u001B[2K     \u001B[91m━━━━━━━━━━━━━━━━━━━━━━━━━━━━━━━━━━━━━\u001B[0m\u001B[91m╸\u001B[0m \u001B[32m316.9/317.0 MB\u001B[0m \u001B[31m72.2 MB/s\u001B[0m eta \u001B[36m0:00:01\u001B[0m\r\u001B[2K     \u001B[91m━━━━━━━━━━━━━━━━━━━━━━━━━━━━━━━━━━━━━\u001B[0m\u001B[91m╸\u001B[0m \u001B[32m316.9/317.0 MB\u001B[0m \u001B[31m72.2 MB/s\u001B[0m eta \u001B[36m0:00:01\u001B[0m\r\u001B[2K     \u001B[91m━━━━━━━━━━━━━━━━━━━━━━━━━━━━━━━━━━━━━\u001B[0m\u001B[91m╸\u001B[0m \u001B[32m316.9/317.0 MB\u001B[0m \u001B[31m72.2 MB/s\u001B[0m eta \u001B[36m0:00:01\u001B[0m\r\u001B[2K     \u001B[91m━━━━━━━━━━━━━━━━━━━━━━━━━━━━━━━━━━━━━\u001B[0m\u001B[91m╸\u001B[0m \u001B[32m316.9/317.0 MB\u001B[0m \u001B[31m72.2 MB/s\u001B[0m eta \u001B[36m0:00:01\u001B[0m\r\u001B[2K     \u001B[91m━━━━━━━━━━━━━━━━━━━━━━━━━━━━━━━━━━━━━\u001B[0m\u001B[91m╸\u001B[0m \u001B[32m316.9/317.0 MB\u001B[0m \u001B[31m72.2 MB/s\u001B[0m eta \u001B[36m0:00:01\u001B[0m\r\u001B[2K     \u001B[91m━━━━━━━━━━━━━━━━━━━━━━━━━━━━━━━━━━━━━\u001B[0m\u001B[91m╸\u001B[0m \u001B[32m316.9/317.0 MB\u001B[0m \u001B[31m72.2 MB/s\u001B[0m eta \u001B[36m0:00:01\u001B[0m\r\u001B[2K     \u001B[91m━━━━━━━━━━━━━━━━━━━━━━━━━━━━━━━━━━━━━\u001B[0m\u001B[91m╸\u001B[0m \u001B[32m316.9/317.0 MB\u001B[0m \u001B[31m72.2 MB/s\u001B[0m eta \u001B[36m0:00:01\u001B[0m\r\u001B[2K     \u001B[91m━━━━━━━━━━━━━━━━━━━━━━━━━━━━━━━━━━━━━\u001B[0m\u001B[91m╸\u001B[0m \u001B[32m316.9/317.0 MB\u001B[0m \u001B[31m72.2 MB/s\u001B[0m eta \u001B[36m0:00:01\u001B[0m\r\u001B[2K     \u001B[91m━━━━━━━━━━━━━━━━━━━━━━━━━━━━━━━━━━━━━\u001B[0m\u001B[91m╸\u001B[0m \u001B[32m316.9/317.0 MB\u001B[0m \u001B[31m72.2 MB/s\u001B[0m eta \u001B[36m0:00:01\u001B[0m\r\u001B[2K     \u001B[91m━━━━━━━━━━━━━━━━━━━━━━━━━━━━━━━━━━━━━\u001B[0m\u001B[91m╸\u001B[0m \u001B[32m316.9/317.0 MB\u001B[0m \u001B[31m72.2 MB/s\u001B[0m eta \u001B[36m0:00:01\u001B[0m\r\u001B[2K     \u001B[91m━━━━━━━━━━━━━━━━━━━━━━━━━━━━━━━━━━━━━\u001B[0m\u001B[91m╸\u001B[0m \u001B[32m316.9/317.0 MB\u001B[0m \u001B[31m72.2 MB/s\u001B[0m eta \u001B[36m0:00:01\u001B[0m\r\u001B[2K     \u001B[91m━━━━━━━━━━━━━━━━━━━━━━━━━━━━━━━━━━━━━\u001B[0m\u001B[91m╸\u001B[0m \u001B[32m316.9/317.0 MB\u001B[0m \u001B[31m72.2 MB/s\u001B[0m eta \u001B[36m0:00:01\u001B[0m\r\u001B[2K     \u001B[91m━━━━━━━━━━━━━━━━━━━━━━━━━━━━━━━━━━━━━\u001B[0m\u001B[91m╸\u001B[0m \u001B[32m316.9/317.0 MB\u001B[0m \u001B[31m72.2 MB/s\u001B[0m eta \u001B[36m0:00:01\u001B[0m\r\u001B[2K     \u001B[91m━━━━━━━━━━━━━━━━━━━━━━━━━━━━━━━━━━━━━\u001B[0m\u001B[91m╸\u001B[0m \u001B[32m316.9/317.0 MB\u001B[0m \u001B[31m72.2 MB/s\u001B[0m eta \u001B[36m0:00:01\u001B[0m\r\u001B[2K     \u001B[91m━━━━━━━━━━━━━━━━━━━━━━━━━━━━━━━━━━━━━\u001B[0m\u001B[91m╸\u001B[0m \u001B[32m316.9/317.0 MB\u001B[0m \u001B[31m72.2 MB/s\u001B[0m eta \u001B[36m0:00:01\u001B[0m\r\u001B[2K     \u001B[91m━━━━━━━━━━━━━━━━━━━━━━━━━━━━━━━━━━━━━\u001B[0m\u001B[91m╸\u001B[0m \u001B[32m316.9/317.0 MB\u001B[0m \u001B[31m72.2 MB/s\u001B[0m eta \u001B[36m0:00:01\u001B[0m\r\u001B[2K     \u001B[91m━━━━━━━━━━━━━━━━━━━━━━━━━━━━━━━━━━━━━\u001B[0m\u001B[91m╸\u001B[0m \u001B[32m316.9/317.0 MB\u001B[0m \u001B[31m72.2 MB/s\u001B[0m eta \u001B[36m0:00:01\u001B[0m\r\u001B[2K     \u001B[91m━━━━━━━━━━━━━━━━━━━━━━━━━━━━━━━━━━━━━\u001B[0m\u001B[91m╸\u001B[0m \u001B[32m316.9/317.0 MB\u001B[0m \u001B[31m72.2 MB/s\u001B[0m eta \u001B[36m0:00:01\u001B[0m\r\u001B[2K     \u001B[91m━━━━━━━━━━━━━━━━━━━━━━━━━━━━━━━━━━━━━\u001B[0m\u001B[91m╸\u001B[0m \u001B[32m316.9/317.0 MB\u001B[0m \u001B[31m72.2 MB/s\u001B[0m eta \u001B[36m0:00:01\u001B[0m\r\u001B[2K     \u001B[91m━━━━━━━━━━━━━━━━━━━━━━━━━━━━━━━━━━━━━\u001B[0m\u001B[91m╸\u001B[0m \u001B[32m316.9/317.0 MB\u001B[0m \u001B[31m72.2 MB/s\u001B[0m eta \u001B[36m0:00:01\u001B[0m\r\u001B[2K     \u001B[91m━━━━━━━━━━━━━━━━━━━━━━━━━━━━━━━━━━━━━\u001B[0m\u001B[91m╸\u001B[0m \u001B[32m316.9/317.0 MB\u001B[0m \u001B[31m72.2 MB/s\u001B[0m eta \u001B[36m0:00:01\u001B[0m\r\u001B[2K     \u001B[91m━━━━━━━━━━━━━━━━━━━━━━━━━━━━━━━━━━━━━\u001B[0m\u001B[91m╸\u001B[0m \u001B[32m316.9/317.0 MB\u001B[0m \u001B[31m72.2 MB/s\u001B[0m eta \u001B[36m0:00:01\u001B[0m\r\u001B[2K     \u001B[91m━━━━━━━━━━━━━━━━━━━━━━━━━━━━━━━━━━━━━\u001B[0m\u001B[91m╸\u001B[0m \u001B[32m316.9/317.0 MB\u001B[0m \u001B[31m72.2 MB/s\u001B[0m eta \u001B[36m0:00:01\u001B[0m\r\u001B[2K     \u001B[91m━━━━━━━━━━━━━━━━━━━━━━━━━━━━━━━━━━━━━\u001B[0m\u001B[91m╸\u001B[0m \u001B[32m316.9/317.0 MB\u001B[0m \u001B[31m72.2 MB/s\u001B[0m eta \u001B[36m0:00:01\u001B[0m\r\u001B[2K     \u001B[91m━━━━━━━━━━━━━━━━━━━━━━━━━━━━━━━━━━━━━\u001B[0m\u001B[91m╸\u001B[0m \u001B[32m316.9/317.0 MB\u001B[0m \u001B[31m72.2 MB/s\u001B[0m eta \u001B[36m0:00:01\u001B[0m\r\u001B[2K     \u001B[91m━━━━━━━━━━━━━━━━━━━━━━━━━━━━━━━━━━━━━\u001B[0m\u001B[91m╸\u001B[0m \u001B[32m316.9/317.0 MB\u001B[0m \u001B[31m72.2 MB/s\u001B[0m eta \u001B[36m0:00:01\u001B[0m\r\u001B[2K     \u001B[91m━━━━━━━━━━━━━━━━━━━━━━━━━━━━━━━━━━━━━\u001B[0m\u001B[91m╸\u001B[0m \u001B[32m316.9/317.0 MB\u001B[0m \u001B[31m72.2 MB/s\u001B[0m eta \u001B[36m0:00:01\u001B[0m\r\u001B[2K     \u001B[91m━━━━━━━━━━━━━━━━━━━━━━━━━━━━━━━━━━━━━\u001B[0m\u001B[91m╸\u001B[0m \u001B[32m316.9/317.0 MB\u001B[0m \u001B[31m72.2 MB/s\u001B[0m eta \u001B[36m0:00:01\u001B[0m\r\u001B[2K     \u001B[91m━━━━━━━━━━━━━━━━━━━━━━━━━━━━━━━━━━━━━\u001B[0m\u001B[91m╸\u001B[0m \u001B[32m316.9/317.0 MB\u001B[0m \u001B[31m72.2 MB/s\u001B[0m eta \u001B[36m0:00:01\u001B[0m\r\u001B[2K     \u001B[91m━━━━━━━━━━━━━━━━━━━━━━━━━━━━━━━━━━━━━\u001B[0m\u001B[91m╸\u001B[0m \u001B[32m316.9/317.0 MB\u001B[0m \u001B[31m72.2 MB/s\u001B[0m eta \u001B[36m0:00:01\u001B[0m\r\u001B[2K     \u001B[91m━━━━━━━━━━━━━━━━━━━━━━━━━━━━━━━━━━━━━\u001B[0m\u001B[91m╸\u001B[0m \u001B[32m316.9/317.0 MB\u001B[0m \u001B[31m72.2 MB/s\u001B[0m eta \u001B[36m0:00:01\u001B[0m\r\u001B[2K     \u001B[91m━━━━━━━━━━━━━━━━━━━━━━━━━━━━━━━━━━━━━\u001B[0m\u001B[91m╸\u001B[0m \u001B[32m316.9/317.0 MB\u001B[0m \u001B[31m72.2 MB/s\u001B[0m eta \u001B[36m0:00:01\u001B[0m\r\u001B[2K     \u001B[91m━━━━━━━━━━━━━━━━━━━━━━━━━━━━━━━━━━━━━\u001B[0m\u001B[91m╸\u001B[0m \u001B[32m316.9/317.0 MB\u001B[0m \u001B[31m72.2 MB/s\u001B[0m eta \u001B[36m0:00:01\u001B[0m\r\u001B[2K     \u001B[91m━━━━━━━━━━━━━━━━━━━━━━━━━━━━━━━━━━━━━\u001B[0m\u001B[91m╸\u001B[0m \u001B[32m316.9/317.0 MB\u001B[0m \u001B[31m72.2 MB/s\u001B[0m eta \u001B[36m0:00:01\u001B[0m\r\u001B[2K     \u001B[91m━━━━━━━━━━━━━━━━━━━━━━━━━━━━━━━━━━━━━\u001B[0m\u001B[91m╸\u001B[0m \u001B[32m316.9/317.0 MB\u001B[0m \u001B[31m72.2 MB/s\u001B[0m eta \u001B[36m0:00:01\u001B[0m\r\u001B[2K     \u001B[91m━━━━━━━━━━━━━━━━━━━━━━━━━━━━━━━━━━━━━\u001B[0m\u001B[91m╸\u001B[0m \u001B[32m316.9/317.0 MB\u001B[0m \u001B[31m72.2 MB/s\u001B[0m eta \u001B[36m0:00:01\u001B[0m\r\u001B[2K     \u001B[91m━━━━━━━━━━━━━━━━━━━━━━━━━━━━━━━━━━━━━\u001B[0m\u001B[91m╸\u001B[0m \u001B[32m316.9/317.0 MB\u001B[0m \u001B[31m72.2 MB/s\u001B[0m eta \u001B[36m0:00:01\u001B[0m\r\u001B[2K     \u001B[91m━━━━━━━━━━━━━━━━━━━━━━━━━━━━━━━━━━━━━\u001B[0m\u001B[91m╸\u001B[0m \u001B[32m316.9/317.0 MB\u001B[0m \u001B[31m72.2 MB/s\u001B[0m eta \u001B[36m0:00:01\u001B[0m\r\u001B[2K     \u001B[91m━━━━━━━━━━━━━━━━━━━━━━━━━━━━━━━━━━━━━\u001B[0m\u001B[91m╸\u001B[0m \u001B[32m316.9/317.0 MB\u001B[0m \u001B[31m72.2 MB/s\u001B[0m eta \u001B[36m0:00:01\u001B[0m\r\u001B[2K     \u001B[91m━━━━━━━━━━━━━━━━━━━━━━━━━━━━━━━━━━━━━\u001B[0m\u001B[91m╸\u001B[0m \u001B[32m316.9/317.0 MB\u001B[0m \u001B[31m72.2 MB/s\u001B[0m eta \u001B[36m0:00:01\u001B[0m\r\u001B[2K     \u001B[91m━━━━━━━━━━━━━━━━━━━━━━━━━━━━━━━━━━━━━\u001B[0m\u001B[91m╸\u001B[0m \u001B[32m316.9/317.0 MB\u001B[0m \u001B[31m72.2 MB/s\u001B[0m eta \u001B[36m0:00:01\u001B[0m\r\u001B[2K     \u001B[91m━━━━━━━━━━━━━━━━━━━━━━━━━━━━━━━━━━━━━\u001B[0m\u001B[91m╸\u001B[0m \u001B[32m316.9/317.0 MB\u001B[0m \u001B[31m72.2 MB/s\u001B[0m eta \u001B[36m0:00:01\u001B[0m\r\u001B[2K     \u001B[91m━━━━━━━━━━━━━━━━━━━━━━━━━━━━━━━━━━━━━\u001B[0m\u001B[91m╸\u001B[0m \u001B[32m316.9/317.0 MB\u001B[0m \u001B[31m72.2 MB/s\u001B[0m eta \u001B[36m0:00:01\u001B[0m\r\u001B[2K     \u001B[91m━━━━━━━━━━━━━━━━━━━━━━━━━━━━━━━━━━━━━\u001B[0m\u001B[91m╸\u001B[0m \u001B[32m316.9/317.0 MB\u001B[0m \u001B[31m72.2 MB/s\u001B[0m eta \u001B[36m0:00:01\u001B[0m\r\u001B[2K     \u001B[91m━━━━━━━━━━━━━━━━━━━━━━━━━━━━━━━━━━━━━\u001B[0m\u001B[91m╸\u001B[0m \u001B[32m316.9/317.0 MB\u001B[0m \u001B[31m72.2 MB/s\u001B[0m eta \u001B[36m0:00:01\u001B[0m\r\u001B[2K     \u001B[91m━━━━━━━━━━━━━━━━━━━━━━━━━━━━━━━━━━━━━\u001B[0m\u001B[91m╸\u001B[0m \u001B[32m316.9/317.0 MB\u001B[0m \u001B[31m72.2 MB/s\u001B[0m eta \u001B[36m0:00:01\u001B[0m\r\u001B[2K     \u001B[91m━━━━━━━━━━━━━━━━━━━━━━━━━━━━━━━━━━━━━\u001B[0m\u001B[91m╸\u001B[0m \u001B[32m316.9/317.0 MB\u001B[0m \u001B[31m72.2 MB/s\u001B[0m eta \u001B[36m0:00:01\u001B[0m\r\u001B[2K     \u001B[91m━━━━━━━━━━━━━━━━━━━━━━━━━━━━━━━━━━━━━\u001B[0m\u001B[91m╸\u001B[0m \u001B[32m316.9/317.0 MB\u001B[0m \u001B[31m72.2 MB/s\u001B[0m eta \u001B[36m0:00:01\u001B[0m\r\u001B[2K     \u001B[91m━━━━━━━━━━━━━━━━━━━━━━━━━━━━━━━━━━━━━\u001B[0m\u001B[91m╸\u001B[0m \u001B[32m316.9/317.0 MB\u001B[0m \u001B[31m72.2 MB/s\u001B[0m eta \u001B[36m0:00:01\u001B[0m\r\u001B[2K     \u001B[91m━━━━━━━━━━━━━━━━━━━━━━━━━━━━━━━━━━━━━\u001B[0m\u001B[91m╸\u001B[0m \u001B[32m316.9/317.0 MB\u001B[0m \u001B[31m72.2 MB/s\u001B[0m eta \u001B[36m0:00:01\u001B[0m\r\u001B[2K     \u001B[91m━━━━━━━━━━━━━━━━━━━━━━━━━━━━━━━━━━━━━\u001B[0m\u001B[91m╸\u001B[0m \u001B[32m316.9/317.0 MB\u001B[0m \u001B[31m72.2 MB/s\u001B[0m eta \u001B[36m0:00:01\u001B[0m\r\u001B[2K     \u001B[91m━━━━━━━━━━━━━━━━━━━━━━━━━━━━━━━━━━━━━\u001B[0m\u001B[91m╸\u001B[0m \u001B[32m316.9/317.0 MB\u001B[0m \u001B[31m72.2 MB/s\u001B[0m eta \u001B[36m0:00:01\u001B[0m\r\u001B[2K     \u001B[91m━━━━━━━━━━━━━━━━━━━━━━━━━━━━━━━━━━━━━\u001B[0m\u001B[91m╸\u001B[0m \u001B[32m316.9/317.0 MB\u001B[0m \u001B[31m72.2 MB/s\u001B[0m eta \u001B[36m0:00:01\u001B[0m\r\u001B[2K     \u001B[91m━━━━━━━━━━━━━━━━━━━━━━━━━━━━━━━━━━━━━\u001B[0m\u001B[91m╸\u001B[0m \u001B[32m316.9/317.0 MB\u001B[0m \u001B[31m72.2 MB/s\u001B[0m eta \u001B[36m0:00:01\u001B[0m\r\u001B[2K     \u001B[91m━━━━━━━━━━━━━━━━━━━━━━━━━━━━━━━━━━━━━\u001B[0m\u001B[91m╸\u001B[0m \u001B[32m316.9/317.0 MB\u001B[0m \u001B[31m72.2 MB/s\u001B[0m eta \u001B[36m0:00:01\u001B[0m\r\u001B[2K     \u001B[91m━━━━━━━━━━━━━━━━━━━━━━━━━━━━━━━━━━━━━\u001B[0m\u001B[91m╸\u001B[0m \u001B[32m316.9/317.0 MB\u001B[0m \u001B[31m72.2 MB/s\u001B[0m eta \u001B[36m0:00:01\u001B[0m\r\u001B[2K     \u001B[90m━━━━━━━━━━━━━━━━━━━━━━━━━━━━━━━━━━━━━\u001B[0m \u001B[32m317.0/317.0 MB\u001B[0m \u001B[31m938.4 kB/s\u001B[0m eta \u001B[36m0:00:00\u001B[0m\r\n\u001B[?25h  Preparing metadata (setup.py) ... \u001B[?25l-\b \b\\\b \b|\b \b/\b \b-\b \b\\\b \b|\b \b/\b \bdone\r\n\u001B[?25hCollecting raster2xyz\r\n  Downloading raster2xyz-0.1.3.tar.gz (4.1 kB)\r\n  Preparing metadata (setup.py) ... \u001B[?25l-\b \b\\\b \b|\b \b/\b \b-\b \b\\\b \bdone\r\n\u001B[?25hCollecting py4j==0.10.9.7 (from pyspark)\r\n  Downloading py4j-0.10.9.7-py2.py3-none-any.whl.metadata (1.5 kB)\r\nRequirement already satisfied: numpy in /databricks/python3/lib/python3.9/site-packages (from raster2xyz) (1.21.5)\r\nRequirement already satisfied: pandas in /databricks/python3/lib/python3.9/site-packages (from raster2xyz) (1.4.2)\r\nRequirement already satisfied: GDAL in /usr/lib/python3/dist-packages (from raster2xyz) (3.0.4)\r\nRequirement already satisfied: python-dateutil>=2.8.1 in /databricks/python3/lib/python3.9/site-packages (from pandas->raster2xyz) (2.8.2)\r\nRequirement already satisfied: pytz>=2020.1 in /databricks/python3/lib/python3.9/site-packages (from pandas->raster2xyz) (2021.3)\r\nRequirement already satisfied: six>=1.5 in /databricks/python3/lib/python3.9/site-packages (from python-dateutil>=2.8.1->pandas->raster2xyz) (1.16.0)\r\nDownloading py4j-0.10.9.7-py2.py3-none-any.whl (200 kB)\r\n\u001B[?25l   \u001B[90m━━━━━━━━━━━━━━━━━━━━━━━━━━━━━━━━━━━━━━━━\u001B[0m \u001B[32m0.0/200.5 kB\u001B[0m \u001B[31m?\u001B[0m eta \u001B[36m-:--:--\u001B[0m\r\u001B[2K   \u001B[90m━━━━━━━━━━━━━━━━━━━━━━━━━━━━━━━━━━━━━━━━\u001B[0m \u001B[32m200.5/200.5 kB\u001B[0m \u001B[31m23.0 MB/s\u001B[0m eta \u001B[36m0:00:00\u001B[0m\r\n\u001B[?25hBuilding wheels for collected packages: pyspark, raster2xyz\r\n  Building wheel for pyspark (setup.py) ... \u001B[?25l-\b \b\\\b \b|\b \b/\b \b-\b \b\\\b \b|\b \b/\b \b-\b \b\\\b \b|\b \b/\b \b-\b \b\\\b \b|\b \b/\b \b-\b \b\\\b \b|\b \b/\b \b-\b \b\\\b \b|\b \b/\b \b-\b \b\\\b \b|\b \b/\b \b-\b \b\\\b \b|\b \b/\b \b-\b \b\\\b \b|\b \b/\b \b-\b \b\\\b \b|\b \b/\b \b-\b \b\\\b \b|\b \b/\b \b-\b \b\\\b \b|\b \b/\b \b-\b \b\\\b \b|\b \b/\b \b-\b \b\\\b \b|\b \b/\b \b-\b \b\\\b \b|\b \b/\b \b-\b \b\\\b \b|\b \b/\b \b-\b \b\\\b \b|\b \b/\b \b-\b \b\\\b \b|\b \b/\b \b-\b \b\\\b \b|\b \b/\b \b-\b \b\\\b \b|\b \b/\b \b-\b \b\\\b \bdone\r\n\u001B[?25h  Created wheel for pyspark: filename=pyspark-3.5.1-py2.py3-none-any.whl size=317488511 sha256=6aea876959edfc8267cce7e682df5511a2f7ebc9938b09a9846a1016d4b0dade\r\n  Stored in directory: /root/.cache/pip/wheels/92/09/11/aa01d01a7f005fda8a66ad71d2be7f8aa341bddafb27eee3c7\r\n  Building wheel for raster2xyz (setup.py) ... \u001B[?25l-\b \b\\\b \b|\b \b/\b \b-\b \b\\\b \b|\b \b/\b \bdone\r\n\u001B[?25h  Created wheel for raster2xyz: filename=raster2xyz-0.1.3-py3-none-any.whl size=5965 sha256=7addcf123ad33f1f4239af06602ffb5020af5df49fdf90f3f35338ef2bb68298\r\n  Stored in directory: /root/.cache/pip/wheels/c2/09/bb/e65a67b3120261e7517662ad9bcaa1b7c505bb981f5c6152b7\r\nSuccessfully built pyspark raster2xyz\r\nInstalling collected packages: py4j, pyspark, raster2xyz\r\nSuccessfully installed py4j-0.10.9.7 pyspark-3.5.1 raster2xyz-0.1.3\r\n"
     ]
    }
   ],
   "source": [
    "!pip install pyspark raster2xyz"
   ]
  },
  {
   "cell_type": "markdown",
   "metadata": {
    "application/vnd.databricks.v1+cell": {
     "cellMetadata": {
      "byteLimit": 2048000,
      "rowLimit": 10000
     },
     "inputWidgets": {},
     "nuid": "20372dd0-71f9-4285-8c29-b581e5a73aa7",
     "showTitle": false,
     "title": ""
    }
   },
   "source": [
    "Iniciando sessão spark"
   ]
  },
  {
   "cell_type": "code",
   "execution_count": 0,
   "metadata": {
    "application/vnd.databricks.v1+cell": {
     "cellMetadata": {
      "byteLimit": 2048000,
      "rowLimit": 10000
     },
     "inputWidgets": {},
     "nuid": "8170d3f4-e094-440a-82fc-cd558c55d902",
     "showTitle": false,
     "title": ""
    }
   },
   "outputs": [],
   "source": [
    "spark=SparkSession.builder \\\n",
    "    .master('local[*]') \\\n",
    "    .getOrCreate()"
   ]
  },
  {
   "cell_type": "markdown",
   "metadata": {
    "application/vnd.databricks.v1+cell": {
     "cellMetadata": {
      "byteLimit": 2048000,
      "rowLimit": 10000
     },
     "inputWidgets": {},
     "nuid": "32a7c84f-22fd-4d29-a636-7e57c433318f",
     "showTitle": false,
     "title": ""
    }
   },
   "source": [
    "Função para avaliar o benchmark"
   ]
  },
  {
   "cell_type": "code",
   "execution_count": 0,
   "metadata": {
    "application/vnd.databricks.v1+cell": {
     "cellMetadata": {
      "byteLimit": 2048000,
      "rowLimit": 10000
     },
     "inputWidgets": {},
     "nuid": "a966e325-3011-446c-adb8-36a8b0150568",
     "showTitle": false,
     "title": ""
    }
   },
   "outputs": [],
   "source": [
    "def benchmark(arquivo):\n",
    "    df = spark.read.format(\"csv\").option(\"header\", True).load(arquivo)\n",
    "    df.write.format(\"noop\").mode(\"overwrite\").save()"
   ]
  },
  {
   "cell_type": "code",
   "execution_count": 0,
   "metadata": {
    "application/vnd.databricks.v1+cell": {
     "cellMetadata": {
      "byteLimit": 2048000,
      "rowLimit": 10000
     },
     "inputWidgets": {},
     "nuid": "918e4f8b-8baa-4d51-b1d9-b38c4912f4a3",
     "showTitle": false,
     "title": ""
    }
   },
   "outputs": [],
   "source": [
    "def partitions(arquivo):\n",
    "  df = spark.read.format(\"csv\").option(\"header\", True).load(arquivo)\n",
    "  print(f\"Número de partições -> {df.rdd.getNumPartitions()}\")"
   ]
  },
  {
   "cell_type": "markdown",
   "metadata": {
    "application/vnd.databricks.v1+cell": {
     "cellMetadata": {
      "byteLimit": 2048000,
      "rowLimit": 10000
     },
     "inputWidgets": {},
     "nuid": "081536b8-beb4-40b1-b611-82063f28fa07",
     "showTitle": false,
     "title": ""
    }
   },
   "source": [
    "#Precipitação"
   ]
  },
  {
   "cell_type": "markdown",
   "metadata": {
    "application/vnd.databricks.v1+cell": {
     "cellMetadata": {
      "byteLimit": 2048000,
      "rowLimit": 10000
     },
     "inputWidgets": {},
     "nuid": "5aece3b7-2274-46e2-9617-eda29ba71461",
     "showTitle": false,
     "title": ""
    }
   },
   "source": [
    "##Precipitação de 10 minutos"
   ]
  },
  {
   "cell_type": "code",
   "execution_count": 0,
   "metadata": {
    "application/vnd.databricks.v1+cell": {
     "cellMetadata": {
      "byteLimit": 2048000,
      "rowLimit": 10000
     },
     "inputWidgets": {},
     "nuid": "0d0d0e30-e182-4027-88e1-9240addb3e94",
     "showTitle": false,
     "title": ""
    }
   },
   "outputs": [
    {
     "output_type": "stream",
     "name": "stdout",
     "output_type": "stream",
     "text": [
      "--2024-05-04 23:47:23--  https://biogeo.ucdavis.edu/data/worldclim/v2.1/base/wc2.1_10m_tavg.zip\r\nResolving biogeo.ucdavis.edu (biogeo.ucdavis.edu)... 128.120.228.172\r\nConnecting to biogeo.ucdavis.edu (biogeo.ucdavis.edu)|128.120.228.172|:443... connected.\r\nHTTP request sent, awaiting response... 302 Found\r\nLocation: https://data.biogeo.ucdavis.edu/data/worldclim/v2.1/base/wc2.1_10m_tavg.zip [following]\r\n--2024-05-04 23:47:23--  https://data.biogeo.ucdavis.edu/data/worldclim/v2.1/base/wc2.1_10m_tavg.zip\r\nResolving data.biogeo.ucdavis.edu (data.biogeo.ucdavis.edu)... 128.120.228.172\r\nConnecting to data.biogeo.ucdavis.edu (data.biogeo.ucdavis.edu)|128.120.228.172|:443... connected.\r\nHTTP request sent, awaiting response... 200 OK\r\nLength: 37364656 (36M) [application/zip]\r\nSaving to: ‘wc2.1_10m_tavg.zip’\r\n\r\n\rwc2.1_10m_tavg.zip    0%[                    ]       0  --.-KB/s               \rwc2.1_10m_tavg.zip    4%[                    ]   1.47M  7.31MB/s               \rwc2.1_10m_tavg.zip   27%[====>               ]   9.96M  24.8MB/s               \rwc2.1_10m_tavg.zip   48%[========>           ]  17.24M  28.7MB/s               \rwc2.1_10m_tavg.zip   67%[============>       ]  24.05M  30.0MB/s               \rwc2.1_10m_tavg.zip   86%[================>   ]  30.83M  30.8MB/s               \rwc2.1_10m_tavg.zip  100%[===================>]  35.63M  31.4MB/s    in 1.1s    \r\n\r\n2024-05-04 23:47:24 (31.4 MB/s) - ‘wc2.1_10m_tavg.zip’ saved [37364656/37364656]\r\n\r\nArchive:  wc2.1_10m_tavg.zip\r\n  inflating: wc2.1_10m_tavg_01.tif   \r\n  inflating: wc2.1_10m_tavg_02.tif   \r\n  inflating: wc2.1_10m_tavg_03.tif   \r\n  inflating: wc2.1_10m_tavg_04.tif   \r\n  inflating: wc2.1_10m_tavg_05.tif   \r\n  inflating: wc2.1_10m_tavg_06.tif   \r\n  inflating: wc2.1_10m_tavg_07.tif   \r\n  inflating: wc2.1_10m_tavg_08.tif   \r\n  inflating: wc2.1_10m_tavg_09.tif   \r\n  inflating: wc2.1_10m_tavg_10.tif   \r\n  inflating: wc2.1_10m_tavg_11.tif   \r\n  inflating: wc2.1_10m_tavg_12.tif   \r\n"
     ]
    }
   ],
   "source": [
    "!wget https://biogeo.ucdavis.edu/data/worldclim/v2.1/base/wc2.1_10m_tavg.zip\n",
    "!unzip -o wc2.1_10m_tavg.zip"
   ]
  },
  {
   "cell_type": "code",
   "execution_count": 0,
   "metadata": {
    "application/vnd.databricks.v1+cell": {
     "cellMetadata": {
      "byteLimit": 2048000,
      "rowLimit": 10000
     },
     "inputWidgets": {},
     "nuid": "ea5c24a2-ab60-4bd0-9d8a-99dc8d3af8a8",
     "showTitle": false,
     "title": ""
    }
   },
   "outputs": [
    {
     "output_type": "stream",
     "name": "stdout",
     "output_type": "stream",
     "text": [
      "[2024-05-04 11:47:29 - INFO] - Getting geotransform and data...\r\n[2024-05-04 11:47:29 - INFO] - Getting XYZ data...\r\n[2024-05-04 11:47:29 - INFO] - Getting geotransformed coordinates...\r\n[2024-05-04 11:47:30 - INFO] - Building XYZ data...\r\n[2024-05-04 11:47:39 - INFO] - New XYZ (csv file) created...\r\n"
     ]
    }
   ],
   "source": [
    "!raster2xyz wc2.1_10m_tavg_01.tif wc2.1_10m_tavg_01.csv"
   ]
  },
  {
   "cell_type": "markdown",
   "metadata": {
    "application/vnd.databricks.v1+cell": {
     "cellMetadata": {
      "byteLimit": 2048000,
      "rowLimit": 10000
     },
     "inputWidgets": {},
     "nuid": "1e5a40bf-9b4e-46c8-b714-7ba0f40e14a5",
     "showTitle": false,
     "title": ""
    }
   },
   "source": [
    "Os arquivos são salvos no cluster então é necessário movê-los para o dbfs"
   ]
  },
  {
   "cell_type": "code",
   "execution_count": 0,
   "metadata": {
    "application/vnd.databricks.v1+cell": {
     "cellMetadata": {
      "byteLimit": 2048000,
      "rowLimit": 10000
     },
     "inputWidgets": {},
     "nuid": "720d0f4b-8207-4814-a9db-937729d646a0",
     "showTitle": false,
     "title": ""
    }
   },
   "outputs": [
    {
     "output_type": "stream",
     "name": "stdout",
     "output_type": "stream",
     "text": [
      "Out[11]: True"
     ]
    }
   ],
   "source": [
    "dbutils.fs.cp(\"file:/databricks/driver/wc2.1_10m_tavg_01.csv\", \"dbfs:/FileStore/tables/wc2.1_10m_tavg_01.csv\")"
   ]
  },
  {
   "cell_type": "markdown",
   "metadata": {
    "application/vnd.databricks.v1+cell": {
     "cellMetadata": {
      "byteLimit": 2048000,
      "rowLimit": 10000
     },
     "inputWidgets": {},
     "nuid": "ad028bf5-adbf-482e-8192-dc0fee06a5a8",
     "showTitle": false,
     "title": ""
    }
   },
   "source": [
    "Testando o benchmark"
   ]
  },
  {
   "cell_type": "code",
   "execution_count": 0,
   "metadata": {
    "application/vnd.databricks.v1+cell": {
     "cellMetadata": {
      "byteLimit": 2048000,
      "rowLimit": 10000
     },
     "inputWidgets": {},
     "nuid": "8d8c92a4-3db9-4278-b06c-5f4f79d33270",
     "showTitle": false,
     "title": ""
    }
   },
   "outputs": [],
   "source": [
    "arquivo='dbfs:/FileStore/tables/wc2.1_10m_tavg_01.csv'"
   ]
  },
  {
   "cell_type": "code",
   "execution_count": 0,
   "metadata": {
    "application/vnd.databricks.v1+cell": {
     "cellMetadata": {
      "byteLimit": 2048000,
      "rowLimit": 10000
     },
     "inputWidgets": {},
     "nuid": "bcd0d4e7-890b-4fd7-bfc6-e0ac61298641",
     "showTitle": false,
     "title": ""
    }
   },
   "outputs": [
    {
     "output_type": "stream",
     "name": "stdout",
     "output_type": "stream",
     "text": [
      "Número de partições -> 8\n"
     ]
    }
   ],
   "source": [
    "partitions(arquivo)"
   ]
  },
  {
   "cell_type": "code",
   "execution_count": 0,
   "metadata": {
    "application/vnd.databricks.v1+cell": {
     "cellMetadata": {
      "byteLimit": 2048000,
      "rowLimit": 10000
     },
     "inputWidgets": {},
     "nuid": "77684c6c-f244-4756-892b-bffc78b01561",
     "showTitle": false,
     "title": ""
    }
   },
   "outputs": [
    {
     "output_type": "stream",
     "name": "stdout",
     "output_type": "stream",
     "text": [
      "CPU times: user 13.2 ms, sys: 3.56 ms, total: 16.8 ms\nWall time: 14.8 s\nCPU times: user 7.97 ms, sys: 3.36 ms, total: 11.3 ms\nWall time: 9.7 s\nCPU times: user 7.21 ms, sys: 3.87 ms, total: 11.1 ms\nWall time: 8.82 s\nCPU times: user 9.92 ms, sys: 934 µs, total: 10.9 ms\nWall time: 7.49 s\nCPU times: user 9.36 ms, sys: 844 µs, total: 10.2 ms\nWall time: 7.94 s\nCPU times: user 5.83 ms, sys: 5.09 ms, total: 10.9 ms\nWall time: 7.53 s\nCPU times: user 11.5 ms, sys: 0 ns, total: 11.5 ms\nWall time: 7.91 s\nCPU times: user 7.31 ms, sys: 3.29 ms, total: 10.6 ms\nWall time: 7.64 s\nCPU times: user 4.67 ms, sys: 4.72 ms, total: 9.39 ms\nWall time: 6.91 s\nCPU times: user 10.2 ms, sys: 477 µs, total: 10.7 ms\nWall time: 7.95 s\nCPU times: user 11.7 ms, sys: 3.16 ms, total: 14.9 ms\nWall time: 6.37 s\nCPU times: user 5.71 ms, sys: 3.89 ms, total: 9.6 ms\nWall time: 6.75 s\nCPU times: user 8.48 ms, sys: 712 µs, total: 9.19 ms\nWall time: 6.76 s\nCPU times: user 8.69 ms, sys: 746 µs, total: 9.44 ms\nWall time: 6.15 s\nCPU times: user 9.53 ms, sys: 280 µs, total: 9.81 ms\nWall time: 6.99 s\nCPU times: user 9.37 ms, sys: 852 µs, total: 10.2 ms\nWall time: 7.08 s\nCPU times: user 10.7 ms, sys: 0 ns, total: 10.7 ms\nWall time: 7.18 s\nCPU times: user 7.68 ms, sys: 1.13 ms, total: 8.8 ms\nWall time: 6.54 s\nCPU times: user 9.28 ms, sys: 203 µs, total: 9.48 ms\nWall time: 6.91 s\nCPU times: user 8.24 ms, sys: 1.3 ms, total: 9.54 ms\nWall time: 6.77 s\nCPU times: user 5.85 ms, sys: 3.66 ms, total: 9.51 ms\nWall time: 5.96 s\nCPU times: user 8.52 ms, sys: 204 µs, total: 8.72 ms\nWall time: 6.26 s\nCPU times: user 15.9 ms, sys: 611 µs, total: 16.5 ms\nWall time: 7.47 s\nCPU times: user 9.79 ms, sys: 2.39 ms, total: 12.2 ms\nWall time: 7.37 s\nCPU times: user 9.02 ms, sys: 161 µs, total: 9.18 ms\nWall time: 5.98 s\nCPU times: user 4.11 ms, sys: 4.65 ms, total: 8.76 ms\nWall time: 5.63 s\nCPU times: user 9.48 ms, sys: 341 µs, total: 9.82 ms\nWall time: 5.6 s\nCPU times: user 7 ms, sys: 2.43 ms, total: 9.43 ms\nWall time: 6.42 s\nCPU times: user 9.82 ms, sys: 0 ns, total: 9.82 ms\nWall time: 6.8 s\nCPU times: user 8.91 ms, sys: 0 ns, total: 8.91 ms\nWall time: 5.74 s\nCPU times: user 8.49 ms, sys: 745 µs, total: 9.23 ms\nWall time: 6.26 s\nCPU times: user 8.87 ms, sys: 138 µs, total: 9.01 ms\nWall time: 6.57 s\n"
     ]
    }
   ],
   "source": [
    "for i in range(1,33):\n",
    " %time benchmark(arquivo)"
   ]
  },
  {
   "cell_type": "markdown",
   "metadata": {
    "application/vnd.databricks.v1+cell": {
     "cellMetadata": {
      "byteLimit": 2048000,
      "rowLimit": 10000
     },
     "inputWidgets": {},
     "nuid": "76a3de18-f993-4f99-a95c-bf53b65ddd43",
     "showTitle": false,
     "title": ""
    }
   },
   "source": [
    "##Precipitação 5 minutos"
   ]
  },
  {
   "cell_type": "code",
   "execution_count": 0,
   "metadata": {
    "application/vnd.databricks.v1+cell": {
     "cellMetadata": {
      "byteLimit": 2048000,
      "rowLimit": 10000
     },
     "inputWidgets": {},
     "nuid": "0cc9ceb8-99ae-40a7-ae52-8e3a09a3e3c3",
     "showTitle": false,
     "title": ""
    }
   },
   "outputs": [
    {
     "output_type": "stream",
     "name": "stdout",
     "output_type": "stream",
     "text": [
      "--2024-05-04 23:51:56--  https://biogeo.ucdavis.edu/data/worldclim/v2.1/base/wc2.1_5m_tavg.zip\r\nResolving biogeo.ucdavis.edu (biogeo.ucdavis.edu)... 128.120.228.172\r\nConnecting to biogeo.ucdavis.edu (biogeo.ucdavis.edu)|128.120.228.172|:443... connected.\r\nHTTP request sent, awaiting response... 302 Found\r\nLocation: https://data.biogeo.ucdavis.edu/data/worldclim/v2.1/base/wc2.1_5m_tavg.zip [following]\r\n--2024-05-04 23:51:56--  https://data.biogeo.ucdavis.edu/data/worldclim/v2.1/base/wc2.1_5m_tavg.zip\r\nResolving data.biogeo.ucdavis.edu (data.biogeo.ucdavis.edu)... 128.120.228.172\r\nConnecting to data.biogeo.ucdavis.edu (data.biogeo.ucdavis.edu)|128.120.228.172|:443... connected.\r\nHTTP request sent, awaiting response... 200 OK\r\nLength: 126719768 (121M) [application/zip]\r\nSaving to: ‘wc2.1_5m_tavg.zip’\r\n\r\n\rwc2.1_5m_tavg.zip     0%[                    ]       0  --.-KB/s               \rwc2.1_5m_tavg.zip     1%[                    ]   2.05M  10.3MB/s               \rwc2.1_5m_tavg.zip     8%[>                   ]  10.63M  26.6MB/s               \rwc2.1_5m_tavg.zip    15%[==>                 ]  18.73M  31.2MB/s               \rwc2.1_5m_tavg.zip    22%[===>                ]  26.60M  33.2MB/s               \rwc2.1_5m_tavg.zip    28%[====>               ]  34.48M  34.5MB/s               \rwc2.1_5m_tavg.zip    34%[=====>              ]  42.24M  35.2MB/s               \rwc2.1_5m_tavg.zip    41%[=======>            ]  50.04M  35.7MB/s               \rwc2.1_5m_tavg.zip    47%[========>           ]  57.96M  36.2MB/s               \rwc2.1_5m_tavg.zip    54%[=========>          ]  65.79M  36.5MB/s               \rwc2.1_5m_tavg.zip    60%[===========>        ]  73.39M  36.6MB/s               \rwc2.1_5m_tavg.zip    67%[============>       ]  81.57M  37.0MB/s               \rwc2.1_5m_tavg.zip    74%[=============>      ]  89.64M  37.3MB/s               \rwc2.1_5m_tavg.zip    80%[===============>    ]  97.68M  37.5MB/s               \rwc2.1_5m_tavg.zip    87%[================>   ] 105.63M  37.6MB/s               \rwc2.1_5m_tavg.zip    94%[=================>  ] 113.63M  37.7MB/s    eta 0s     \rwc2.1_5m_tavg.zip   100%[===================>] 120.85M  39.4MB/s    in 3.2s    \r\n\r\n2024-05-04 23:52:00 (37.8 MB/s) - ‘wc2.1_5m_tavg.zip’ saved [126719768/126719768]\r\n\r\nArchive:  wc2.1_5m_tavg.zip\r\n  inflating: wc2.1_5m_tavg_01.tif    \r\n  inflating: wc2.1_5m_tavg_02.tif    \r\n  inflating: wc2.1_5m_tavg_03.tif    \r\n  inflating: wc2.1_5m_tavg_04.tif    \r\n  inflating: wc2.1_5m_tavg_05.tif    \r\n  inflating: wc2.1_5m_tavg_06.tif    \r\n  inflating: wc2.1_5m_tavg_07.tif    \r\n  inflating: wc2.1_5m_tavg_08.tif    \r\n  inflating: wc2.1_5m_tavg_09.tif    \r\n  inflating: wc2.1_5m_tavg_10.tif    \r\n  inflating: wc2.1_5m_tavg_11.tif    \r\n  inflating: wc2.1_5m_tavg_12.tif    \r\n"
     ]
    }
   ],
   "source": [
    "!wget https://biogeo.ucdavis.edu/data/worldclim/v2.1/base/wc2.1_5m_tavg.zip\n",
    "!unzip -o wc2.1_5m_tavg.zip"
   ]
  },
  {
   "cell_type": "code",
   "execution_count": 0,
   "metadata": {
    "application/vnd.databricks.v1+cell": {
     "cellMetadata": {
      "byteLimit": 2048000,
      "rowLimit": 10000
     },
     "inputWidgets": {},
     "nuid": "d1df4494-a09b-4b0b-a23a-c8402487d1aa",
     "showTitle": false,
     "title": ""
    }
   },
   "outputs": [
    {
     "output_type": "stream",
     "name": "stdout",
     "output_type": "stream",
     "text": [
      "[2024-05-04 11:52:04 - INFO] - Getting geotransform and data...\r\n[2024-05-04 11:52:04 - INFO] - Getting XYZ data...\r\n[2024-05-04 11:52:04 - INFO] - Getting geotransformed coordinates...\r\n[2024-05-04 11:52:05 - INFO] - Building XYZ data...\r\n[2024-05-04 11:52:45 - INFO] - New XYZ (csv file) created...\r\n"
     ]
    }
   ],
   "source": [
    "!raster2xyz wc2.1_5m_tavg_01.tif wc2.1_5m_tavg_01.csv"
   ]
  },
  {
   "cell_type": "code",
   "execution_count": 0,
   "metadata": {
    "application/vnd.databricks.v1+cell": {
     "cellMetadata": {
      "byteLimit": 2048000,
      "rowLimit": 10000
     },
     "inputWidgets": {},
     "nuid": "ffe2ed8a-be76-454e-bc18-40dd23ef2c40",
     "showTitle": false,
     "title": ""
    }
   },
   "outputs": [
    {
     "output_type": "stream",
     "name": "stdout",
     "output_type": "stream",
     "text": [
      "Out[17]: True"
     ]
    }
   ],
   "source": [
    "dbutils.fs.cp(\"file:/databricks/driver/wc2.1_5m_tavg_01.csv\", \"dbfs:/FileStore/tables/wc2.1_5m_tavg_01.csv\")"
   ]
  },
  {
   "cell_type": "code",
   "execution_count": 0,
   "metadata": {
    "application/vnd.databricks.v1+cell": {
     "cellMetadata": {
      "byteLimit": 2048000,
      "rowLimit": 10000
     },
     "inputWidgets": {},
     "nuid": "66725547-f3ed-488c-b74e-b2999bdc008e",
     "showTitle": false,
     "title": ""
    }
   },
   "outputs": [],
   "source": [
    "arquivo='dbfs:/FileStore/tables/wc2.1_5m_tavg_01.csv'"
   ]
  },
  {
   "cell_type": "code",
   "execution_count": 0,
   "metadata": {
    "application/vnd.databricks.v1+cell": {
     "cellMetadata": {
      "byteLimit": 2048000,
      "rowLimit": 10000
     },
     "inputWidgets": {},
     "nuid": "73e3e7b5-be21-4122-8321-8873ccd268c2",
     "showTitle": false,
     "title": ""
    }
   },
   "outputs": [
    {
     "output_type": "stream",
     "name": "stdout",
     "output_type": "stream",
     "text": [
      "Número de partições -> 8\n"
     ]
    }
   ],
   "source": [
    "partitions(arquivo)"
   ]
  },
  {
   "cell_type": "code",
   "execution_count": 0,
   "metadata": {
    "application/vnd.databricks.v1+cell": {
     "cellMetadata": {
      "byteLimit": 2048000,
      "rowLimit": 10000
     },
     "inputWidgets": {},
     "nuid": "39160fc7-86ce-4df0-a591-5320da5c76cb",
     "showTitle": false,
     "title": ""
    }
   },
   "outputs": [
    {
     "output_type": "stream",
     "name": "stdout",
     "output_type": "stream",
     "text": [
      "CPU times: user 11 ms, sys: 489 µs, total: 11.5 ms\nWall time: 15.6 s\nCPU times: user 9.56 ms, sys: 7.58 ms, total: 17.1 ms\nWall time: 16.8 s\nCPU times: user 8.2 ms, sys: 6.72 ms, total: 14.9 ms\nWall time: 18.2 s\nCPU times: user 15.2 ms, sys: 3.4 ms, total: 18.6 ms\nWall time: 16.2 s\nCPU times: user 9.73 ms, sys: 4.26 ms, total: 14 ms\nWall time: 17.1 s\nCPU times: user 9.35 ms, sys: 4.31 ms, total: 13.7 ms\nWall time: 17.1 s\nCPU times: user 10.5 ms, sys: 3.11 ms, total: 13.6 ms\nWall time: 17.1 s\nCPU times: user 13.2 ms, sys: 866 µs, total: 14.1 ms\nWall time: 17.5 s\nCPU times: user 11.6 ms, sys: 2.71 ms, total: 14.3 ms\nWall time: 16.5 s\nCPU times: user 9.54 ms, sys: 4.89 ms, total: 14.4 ms\nWall time: 17.5 s\nCPU times: user 8.38 ms, sys: 7.38 ms, total: 15.8 ms\nWall time: 17.9 s\nCPU times: user 7.74 ms, sys: 6.61 ms, total: 14.3 ms\nWall time: 17.1 s\nCPU times: user 12.7 ms, sys: 1.42 ms, total: 14.2 ms\nWall time: 15.9 s\nCPU times: user 9.83 ms, sys: 4.28 ms, total: 14.1 ms\nWall time: 16.8 s\nCPU times: user 8.81 ms, sys: 6.92 ms, total: 15.7 ms\nWall time: 16.1 s\nCPU times: user 10.3 ms, sys: 8.47 ms, total: 18.8 ms\nWall time: 15.1 s\nCPU times: user 12.9 ms, sys: 164 µs, total: 13.1 ms\nWall time: 15.3 s\nCPU times: user 6.69 ms, sys: 7.88 ms, total: 14.6 ms\nWall time: 17.4 s\nCPU times: user 9.49 ms, sys: 4.23 ms, total: 13.7 ms\nWall time: 16.4 s\nCPU times: user 12.9 ms, sys: 1.47 ms, total: 14.4 ms\nWall time: 17.1 s\nCPU times: user 13.7 ms, sys: 938 µs, total: 14.6 ms\nWall time: 17.1 s\nCPU times: user 10.3 ms, sys: 5.03 ms, total: 15.3 ms\nWall time: 16.2 s\nCPU times: user 8.03 ms, sys: 4.66 ms, total: 12.7 ms\nWall time: 15.5 s\nCPU times: user 7.56 ms, sys: 6.65 ms, total: 14.2 ms\nWall time: 16 s\nCPU times: user 7.21 ms, sys: 7.74 ms, total: 15 ms\nWall time: 18.4 s\nCPU times: user 7.39 ms, sys: 8.54 ms, total: 15.9 ms\nWall time: 17.2 s\nCPU times: user 11.3 ms, sys: 1.35 ms, total: 12.6 ms\nWall time: 15.7 s\nCPU times: user 9.92 ms, sys: 3.65 ms, total: 13.6 ms\nWall time: 15.5 s\nCPU times: user 11.9 ms, sys: 4.64 ms, total: 16.5 ms\nWall time: 15.7 s\nCPU times: user 11.7 ms, sys: 4.62 ms, total: 16.4 ms\nWall time: 18.5 s\nCPU times: user 12.2 ms, sys: 1.28 ms, total: 13.5 ms\nWall time: 16.4 s\nCPU times: user 12.5 ms, sys: 1.71 ms, total: 14.2 ms\nWall time: 16.9 s\n"
     ]
    }
   ],
   "source": [
    "for i in range(1,33):\n",
    " %time benchmark(arquivo)"
   ]
  },
  {
   "cell_type": "markdown",
   "metadata": {
    "application/vnd.databricks.v1+cell": {
     "cellMetadata": {
      "byteLimit": 2048000,
      "rowLimit": 10000
     },
     "inputWidgets": {},
     "nuid": "eeb14a4d-de0c-48cc-a0d3-541ee1c7b9bc",
     "showTitle": false,
     "title": ""
    }
   },
   "source": [
    "##Precipitação 2.5"
   ]
  },
  {
   "cell_type": "code",
   "execution_count": 0,
   "metadata": {
    "application/vnd.databricks.v1+cell": {
     "cellMetadata": {
      "byteLimit": 2048000,
      "rowLimit": 10000
     },
     "inputWidgets": {},
     "nuid": "233e2b6a-df93-4e18-b7b3-2d23e93234af",
     "showTitle": false,
     "title": ""
    }
   },
   "outputs": [
    {
     "output_type": "stream",
     "name": "stdout",
     "output_type": "stream",
     "text": [
      "--2024-05-05 00:02:05--  https://biogeo.ucdavis.edu/data/worldclim/v2.1/base/wc2.1_2.5m_tavg.zip\r\nResolving biogeo.ucdavis.edu (biogeo.ucdavis.edu)... 128.120.228.172\r\nConnecting to biogeo.ucdavis.edu (biogeo.ucdavis.edu)|128.120.228.172|:443... connected.\r\nHTTP request sent, awaiting response... 302 Found\r\nLocation: https://data.biogeo.ucdavis.edu/data/worldclim/v2.1/base/wc2.1_2.5m_tavg.zip [following]\r\n--2024-05-05 00:02:05--  https://data.biogeo.ucdavis.edu/data/worldclim/v2.1/base/wc2.1_2.5m_tavg.zip\r\nResolving data.biogeo.ucdavis.edu (data.biogeo.ucdavis.edu)... 128.120.228.172\r\nConnecting to data.biogeo.ucdavis.edu (data.biogeo.ucdavis.edu)|128.120.228.172|:443... connected.\r\nHTTP request sent, awaiting response... 200 OK\r\nLength: 443224846 (423M) [application/zip]\r\nSaving to: ‘wc2.1_2.5m_tavg.zip’\r\n\r\n\rwc2.1_2.5m_tavg.zip   0%[                    ]       0  --.-KB/s               \rwc2.1_2.5m_tavg.zip   0%[                    ]   1.54M  7.20MB/s               \rwc2.1_2.5m_tavg.zip   2%[                    ]   9.68M  23.4MB/s               \rwc2.1_2.5m_tavg.zip   4%[                    ]  17.60M  28.7MB/s               \rwc2.1_2.5m_tavg.zip   5%[>                   ]  24.95M  30.6MB/s               \rwc2.1_2.5m_tavg.zip   7%[>                   ]  32.49M  32.0MB/s               \rwc2.1_2.5m_tavg.zip   9%[>                   ]  39.02M  32.1MB/s               \rwc2.1_2.5m_tavg.zip  11%[=>                  ]  46.59M  32.9MB/s               \rwc2.1_2.5m_tavg.zip  12%[=>                  ]  54.18M  33.5MB/s               \rwc2.1_2.5m_tavg.zip  14%[=>                  ]  61.99M  34.1MB/s               \rwc2.1_2.5m_tavg.zip  16%[==>                 ]  69.84M  34.6MB/s               \rwc2.1_2.5m_tavg.zip  18%[==>                 ]  77.52M  35.0MB/s               \rwc2.1_2.5m_tavg.zip  19%[==>                 ]  84.30M  34.9MB/s               \rwc2.1_2.5m_tavg.zip  21%[===>                ]  92.20M  35.2MB/s               \rwc2.1_2.5m_tavg.zip  23%[===>                ]  99.68M  35.4MB/s               \rwc2.1_2.5m_tavg.zip  25%[====>               ] 107.73M  35.7MB/s    eta 9s     \rwc2.1_2.5m_tavg.zip  27%[====>               ] 115.28M  37.6MB/s    eta 9s     \rwc2.1_2.5m_tavg.zip  29%[====>               ] 122.90M  37.5MB/s    eta 9s     \rwc2.1_2.5m_tavg.zip  30%[=====>              ] 130.60M  37.7MB/s    eta 9s     \rwc2.1_2.5m_tavg.zip  32%[=====>              ] 137.99M  37.7MB/s    eta 9s     \rwc2.1_2.5m_tavg.zip  34%[=====>              ] 145.70M  37.7MB/s    eta 8s     \rwc2.1_2.5m_tavg.zip  36%[======>             ] 153.15M  37.9MB/s    eta 8s     \rwc2.1_2.5m_tavg.zip  38%[======>             ] 160.88M  38.1MB/s    eta 8s     \rwc2.1_2.5m_tavg.zip  39%[======>             ] 168.49M  38.0MB/s    eta 8s     \rwc2.1_2.5m_tavg.zip  41%[=======>            ] 176.34M  38.1MB/s    eta 8s     \rwc2.1_2.5m_tavg.zip  43%[=======>            ] 184.10M  38.0MB/s    eta 7s     \rwc2.1_2.5m_tavg.zip  45%[========>           ] 192.04M  38.2MB/s    eta 7s     \rwc2.1_2.5m_tavg.zip  47%[========>           ] 199.35M  38.1MB/s    eta 7s     \rwc2.1_2.5m_tavg.zip  49%[========>           ] 207.20M  38.3MB/s    eta 7s     \rwc2.1_2.5m_tavg.zip  50%[=========>          ] 215.15M  38.5MB/s    eta 7s     \rwc2.1_2.5m_tavg.zip  52%[=========>          ] 222.84M  38.4MB/s    eta 5s     \rwc2.1_2.5m_tavg.zip  54%[=========>          ] 230.55M  38.4MB/s    eta 5s     \rwc2.1_2.5m_tavg.zip  56%[==========>         ] 238.24M  38.4MB/s    eta 5s     \rwc2.1_2.5m_tavg.zip  58%[==========>         ] 246.13M  38.5MB/s    eta 5s     \rwc2.1_2.5m_tavg.zip  60%[===========>        ] 254.04M  38.5MB/s    eta 5s     \rwc2.1_2.5m_tavg.zip  61%[===========>        ] 261.80M  38.7MB/s    eta 4s     \rwc2.1_2.5m_tavg.zip  63%[===========>        ] 269.66M  38.7MB/s    eta 4s     \rwc2.1_2.5m_tavg.zip  65%[============>       ] 277.41M  38.8MB/s    eta 4s     \rwc2.1_2.5m_tavg.zip  67%[============>       ] 285.34M  38.9MB/s    eta 4s     \rwc2.1_2.5m_tavg.zip  69%[============>       ] 293.07M  38.9MB/s    eta 4s     \rwc2.1_2.5m_tavg.zip  71%[=============>      ] 300.80M  38.9MB/s    eta 3s     \rwc2.1_2.5m_tavg.zip  73%[=============>      ] 308.79M  38.9MB/s    eta 3s     \rwc2.1_2.5m_tavg.zip  74%[=============>      ] 316.68M  39.0MB/s    eta 3s     \rwc2.1_2.5m_tavg.zip  76%[==============>     ] 324.51M  39.1MB/s    eta 3s     \rwc2.1_2.5m_tavg.zip  78%[==============>     ] 332.41M  39.0MB/s    eta 3s     \rwc2.1_2.5m_tavg.zip  80%[===============>    ] 340.40M  39.2MB/s    eta 2s     \rwc2.1_2.5m_tavg.zip  82%[===============>    ] 348.27M  39.4MB/s    eta 2s     \rwc2.1_2.5m_tavg.zip  84%[===============>    ] 355.77M  39.1MB/s    eta 2s     \rwc2.1_2.5m_tavg.zip  86%[================>   ] 363.73M  39.2MB/s    eta 2s     \rwc2.1_2.5m_tavg.zip  87%[================>   ] 371.63M  39.2MB/s    eta 2s     \rwc2.1_2.5m_tavg.zip  89%[================>   ] 379.66M  39.2MB/s    eta 1s     \rwc2.1_2.5m_tavg.zip  91%[=================>  ] 387.52M  39.3MB/s    eta 1s     \rwc2.1_2.5m_tavg.zip  93%[=================>  ] 395.53M  39.3MB/s    eta 1s     \rwc2.1_2.5m_tavg.zip  95%[==================> ] 403.54M  39.4MB/s    eta 1s     \rwc2.1_2.5m_tavg.zip  96%[==================> ] 408.55M  38.4MB/s    eta 1s     \rwc2.1_2.5m_tavg.zip  99%[==================> ] 420.13M  39.6MB/s    eta 0s     \rwc2.1_2.5m_tavg.zip 100%[===================>] 422.69M  39.6MB/s    in 11s     \r\n\r\n2024-05-05 00:02:16 (38.1 MB/s) - ‘wc2.1_2.5m_tavg.zip’ saved [443224846/443224846]\r\n\r\nArchive:  wc2.1_2.5m_tavg.zip\r\n  inflating: wc2.1_2.5m_tavg_01.tif  \r\n  inflating: wc2.1_2.5m_tavg_02.tif  \r\n  inflating: wc2.1_2.5m_tavg_03.tif  \r\n  inflating: wc2.1_2.5m_tavg_04.tif  \r\n  inflating: wc2.1_2.5m_tavg_05.tif  \r\n  inflating: wc2.1_2.5m_tavg_06.tif  \r\n  inflating: wc2.1_2.5m_tavg_07.tif  \r\n  inflating: wc2.1_2.5m_tavg_08.tif  \r\n  inflating: wc2.1_2.5m_tavg_09.tif  \r\n  inflating: wc2.1_2.5m_tavg_10.tif  \r\n  inflating: wc2.1_2.5m_tavg_11.tif  \r\n  inflating: wc2.1_2.5m_tavg_12.tif  \r\n"
     ]
    }
   ],
   "source": [
    "!wget https://biogeo.ucdavis.edu/data/worldclim/v2.1/base/wc2.1_2.5m_tavg.zip\n",
    "!unzip -o wc2.1_2.5m_tavg.zip"
   ]
  },
  {
   "cell_type": "code",
   "execution_count": 0,
   "metadata": {
    "application/vnd.databricks.v1+cell": {
     "cellMetadata": {
      "byteLimit": 2048000,
      "rowLimit": 10000
     },
     "inputWidgets": {},
     "nuid": "27f0ef2f-682a-4286-b23d-9e455a9f4026",
     "showTitle": false,
     "title": ""
    }
   },
   "outputs": [
    {
     "output_type": "stream",
     "name": "stdout",
     "output_type": "stream",
     "text": [
      "[2024-05-05 12:02:24 - INFO] - Getting geotransform and data...\r\n[2024-05-05 12:02:25 - INFO] - Getting XYZ data...\r\n[2024-05-05 12:02:26 - INFO] - Getting geotransformed coordinates...\r\n[2024-05-05 12:02:28 - INFO] - Building XYZ data...\r\n[2024-05-05 12:05:06 - INFO] - New XYZ (csv file) created...\r\n"
     ]
    }
   ],
   "source": [
    "!raster2xyz wc2.1_2.5m_tavg_01.tif wc2.1_2.5m_tavg_01.csv"
   ]
  },
  {
   "cell_type": "code",
   "execution_count": 0,
   "metadata": {
    "application/vnd.databricks.v1+cell": {
     "cellMetadata": {
      "byteLimit": 2048000,
      "rowLimit": 10000
     },
     "inputWidgets": {},
     "nuid": "f63980e4-d74e-4906-a535-7e8938e85032",
     "showTitle": false,
     "title": ""
    }
   },
   "outputs": [
    {
     "output_type": "stream",
     "name": "stdout",
     "output_type": "stream",
     "text": [
      "Out[23]: True"
     ]
    }
   ],
   "source": [
    "dbutils.fs.cp(\"file:/databricks/driver/wc2.1_2.5m_tavg_01.csv\", \"dbfs:/FileStore/tables/wc2.1_2.5m_tavg_01.csv\")"
   ]
  },
  {
   "cell_type": "code",
   "execution_count": 0,
   "metadata": {
    "application/vnd.databricks.v1+cell": {
     "cellMetadata": {
      "byteLimit": 2048000,
      "rowLimit": 10000
     },
     "inputWidgets": {},
     "nuid": "56a2f4e6-a38a-4075-bdc4-cb21323b9dea",
     "showTitle": false,
     "title": ""
    }
   },
   "outputs": [],
   "source": [
    "arquivo='dbfs:/FileStore/tables/wc2.1_2.5m_tavg_01.csv'\n"
   ]
  },
  {
   "cell_type": "code",
   "execution_count": 0,
   "metadata": {
    "application/vnd.databricks.v1+cell": {
     "cellMetadata": {
      "byteLimit": 2048000,
      "rowLimit": 10000
     },
     "inputWidgets": {},
     "nuid": "c94db72a-8f6a-4f72-a6d4-98f1479a29c4",
     "showTitle": false,
     "title": ""
    }
   },
   "outputs": [
    {
     "output_type": "stream",
     "name": "stdout",
     "output_type": "stream",
     "text": [
      "Número de partições -> 11\n"
     ]
    }
   ],
   "source": [
    "partitions(arquivo)"
   ]
  },
  {
   "cell_type": "code",
   "execution_count": 0,
   "metadata": {
    "application/vnd.databricks.v1+cell": {
     "cellMetadata": {
      "byteLimit": 2048000,
      "rowLimit": 10000
     },
     "inputWidgets": {},
     "nuid": "8669a666-fe66-4b8a-afa8-2a9b0d986894",
     "showTitle": false,
     "title": ""
    }
   },
   "outputs": [
    {
     "output_type": "stream",
     "name": "stdout",
     "output_type": "stream",
     "text": [
      "CPU times: user 22.1 ms, sys: 16.4 ms, total: 38.5 ms\nWall time: 57.4 s\nCPU times: user 23.2 ms, sys: 10.4 ms, total: 33.5 ms\nWall time: 57.6 s\nCPU times: user 23.3 ms, sys: 9.27 ms, total: 32.5 ms\nWall time: 57.2 s\nCPU times: user 15 ms, sys: 16.6 ms, total: 31.5 ms\nWall time: 56.9 s\nCPU times: user 19.7 ms, sys: 12.6 ms, total: 32.4 ms\nWall time: 57.1 s\nCPU times: user 20.9 ms, sys: 12.2 ms, total: 33.1 ms\nWall time: 57.9 s\nCPU times: user 24.3 ms, sys: 9.35 ms, total: 33.7 ms\nWall time: 56.1 s\nCPU times: user 23.2 ms, sys: 9.18 ms, total: 32.4 ms\nWall time: 59.2 s\nCPU times: user 30 ms, sys: 2.22 ms, total: 32.2 ms\nWall time: 58 s\nCPU times: user 27.3 ms, sys: 5.17 ms, total: 32.5 ms\nWall time: 56.2 s\nCPU times: user 17.6 ms, sys: 15.1 ms, total: 32.6 ms\nWall time: 57.4 s\nCPU times: user 19.1 ms, sys: 20.1 ms, total: 39.2 ms\nWall time: 55.1 s\nCPU times: user 26.9 ms, sys: 3.95 ms, total: 30.9 ms\nWall time: 55.2 s\nCPU times: user 9.2 ms, sys: 24.4 ms, total: 33.6 ms\nWall time: 57.1 s\nCPU times: user 22.7 ms, sys: 11.1 ms, total: 33.8 ms\nWall time: 59.2 s\nCPU times: user 32.4 ms, sys: 2.02 ms, total: 34.5 ms\nWall time: 57 s\nCPU times: user 26.1 ms, sys: 6.31 ms, total: 32.4 ms\nWall time: 56.7 s\nCPU times: user 26.4 ms, sys: 10.4 ms, total: 36.8 ms\nWall time: 55.3 s\nCPU times: user 24.5 ms, sys: 6.73 ms, total: 31.2 ms\nWall time: 54.9 s\nCPU times: user 26.5 ms, sys: 9.13 ms, total: 35.6 ms\nWall time: 57.7 s\nCPU times: user 18 ms, sys: 12.5 ms, total: 30.5 ms\nWall time: 57.2 s\nCPU times: user 23 ms, sys: 9.24 ms, total: 32.3 ms\nWall time: 57.2 s\nCPU times: user 14.2 ms, sys: 15.9 ms, total: 30.1 ms\nWall time: 56.6 s\nCPU times: user 28.1 ms, sys: 9.41 ms, total: 37.5 ms\nWall time: 57 s\nCPU times: user 20.4 ms, sys: 10.7 ms, total: 31.1 ms\nWall time: 58 s\nCPU times: user 20.9 ms, sys: 10.9 ms, total: 31.8 ms\nWall time: 55.6 s\nCPU times: user 13.1 ms, sys: 19.8 ms, total: 33 ms\nWall time: 56.4 s\nCPU times: user 18 ms, sys: 13.2 ms, total: 31.2 ms\nWall time: 56 s\nCPU times: user 22.3 ms, sys: 10.5 ms, total: 32.8 ms\nWall time: 58.1 s\nCPU times: user 17.3 ms, sys: 12.4 ms, total: 29.8 ms\nWall time: 55.6 s\nCPU times: user 25.5 ms, sys: 11 ms, total: 36.6 ms\nWall time: 57.4 s\nCPU times: user 18.5 ms, sys: 14 ms, total: 32.5 ms\nWall time: 57.1 s\n"
     ]
    }
   ],
   "source": [
    "for i in range(1,33):\n",
    " %time benchmark(arquivo)"
   ]
  },
  {
   "cell_type": "markdown",
   "metadata": {
    "application/vnd.databricks.v1+cell": {
     "cellMetadata": {
      "byteLimit": 2048000,
      "rowLimit": 10000
     },
     "inputWidgets": {},
     "nuid": "526e2ce4-c4d3-4add-87e8-088af3adfcd1",
     "showTitle": false,
     "title": ""
    }
   },
   "source": [
    "##Precipitação de 30 segundos"
   ]
  },
  {
   "cell_type": "code",
   "execution_count": 0,
   "metadata": {
    "application/vnd.databricks.v1+cell": {
     "cellMetadata": {
      "byteLimit": 2048000,
      "rowLimit": 10000
     },
     "inputWidgets": {},
     "nuid": "4c51390b-cf87-47e9-bb19-97ed7b708479",
     "showTitle": false,
     "title": ""
    }
   },
   "outputs": [
    {
     "output_type": "stream",
     "name": "stdout",
     "output_type": "stream",
     "text": [
      "--2024-05-05 00:36:59--  https://biogeo.ucdavis.edu/data/worldclim/v2.1/base/wc2.1_30s_tavg.zip\r\nResolving biogeo.ucdavis.edu (biogeo.ucdavis.edu)... 128.120.228.172\r\nConnecting to biogeo.ucdavis.edu (biogeo.ucdavis.edu)|128.120.228.172|:443... connected.\r\nHTTP request sent, awaiting response... 302 Found\r\nLocation: https://data.biogeo.ucdavis.edu/data/worldclim/v2.1/base/wc2.1_30s_tavg.zip [following]\r\n--2024-05-05 00:37:00--  https://data.biogeo.ucdavis.edu/data/worldclim/v2.1/base/wc2.1_30s_tavg.zip\r\nResolving data.biogeo.ucdavis.edu (data.biogeo.ucdavis.edu)... 128.120.228.172\r\nConnecting to data.biogeo.ucdavis.edu (data.biogeo.ucdavis.edu)|128.120.228.172|:443... connected.\r\nHTTP request sent, awaiting response... 200 OK\r\nLength: 4299762045 (4.0G) [application/zip]\r\nSaving to: ‘wc2.1_30s_tavg.zip’\r\n\r\n\rwc2.1_30s_tavg.zip    0%[                    ]       0  --.-KB/s               \rwc2.1_30s_tavg.zip    0%[                    ]   2.81M  14.1MB/s               \rwc2.1_30s_tavg.zip    0%[                    ]  10.79M  27.0MB/s               \rwc2.1_30s_tavg.zip    0%[                    ]  17.82M  29.7MB/s               \rwc2.1_30s_tavg.zip    0%[                    ]  25.26M  31.5MB/s               \rwc2.1_30s_tavg.zip    0%[                    ]  32.73M  32.7MB/s               \rwc2.1_30s_tavg.zip    0%[                    ]  40.13M  33.4MB/s               \rwc2.1_30s_tavg.zip    1%[                    ]  47.62M  34.0MB/s               \rwc2.1_30s_tavg.zip    1%[                    ]  55.01M  34.3MB/s               \rwc2.1_30s_tavg.zip    1%[                    ]  62.40M  34.6MB/s               \rwc2.1_30s_tavg.zip    1%[                    ]  69.83M  34.9MB/s               \rwc2.1_30s_tavg.zip    1%[                    ]  76.76M  34.9MB/s               \rwc2.1_30s_tavg.zip    2%[                    ]  84.13M  35.0MB/s               \rwc2.1_30s_tavg.zip    2%[                    ]  91.57M  35.2MB/s               \rwc2.1_30s_tavg.zip    2%[                    ]  99.04M  35.3MB/s               \rwc2.1_30s_tavg.zip    2%[                    ] 106.91M  35.6MB/s    eta 1m 52s \rwc2.1_30s_tavg.zip    2%[                    ] 114.55M  37.4MB/s    eta 1m 52s \rwc2.1_30s_tavg.zip    2%[                    ] 121.28M  36.8MB/s    eta 1m 52s \rwc2.1_30s_tavg.zip    3%[                    ] 129.24M  36.9MB/s    eta 1m 52s \rwc2.1_30s_tavg.zip    3%[                    ] 137.10M  37.2MB/s    eta 1m 52s \rwc2.1_30s_tavg.zip    3%[                    ] 145.09M  37.4MB/s    eta 1m 49s \rwc2.1_30s_tavg.zip    3%[                    ] 153.02M  37.5MB/s    eta 1m 49s \rwc2.1_30s_tavg.zip    3%[                    ] 160.60M  37.6MB/s    eta 1m 49s \rwc2.1_30s_tavg.zip    4%[                    ] 168.55M  37.8MB/s    eta 1m 49s \rwc2.1_30s_tavg.zip    4%[                    ] 176.55M  37.9MB/s    eta 1m 49s \rwc2.1_30s_tavg.zip    4%[                    ] 184.48M  38.1MB/s    eta 1m 46s \rwc2.1_30s_tavg.zip    4%[                    ] 192.13M  38.4MB/s    eta 1m 46s \rwc2.1_30s_tavg.zip    4%[                    ] 199.63M  38.4MB/s    eta 1m 46s \rwc2.1_30s_tavg.zip    5%[>                   ] 207.55M  38.6MB/s    eta 1m 46s \rwc2.1_30s_tavg.zip    5%[>                   ] 215.18M  38.6MB/s    eta 1m 46s \rwc2.1_30s_tavg.zip    5%[>                   ] 223.23M  38.7MB/s    eta 1m 44s \rwc2.1_30s_tavg.zip    5%[>                   ] 231.13M  38.7MB/s    eta 1m 44s \rwc2.1_30s_tavg.zip    5%[>                   ] 238.70M  39.0MB/s    eta 1m 44s \rwc2.1_30s_tavg.zip    6%[>                   ] 246.62M  39.1MB/s    eta 1m 44s \rwc2.1_30s_tavg.zip    6%[>                   ] 254.48M  39.1MB/s    eta 1m 44s \rwc2.1_30s_tavg.zip    6%[>                   ] 262.45M  39.1MB/s    eta 1m 43s \rwc2.1_30s_tavg.zip    6%[>                   ] 270.07M  39.0MB/s    eta 1m 43s \rwc2.1_30s_tavg.zip    6%[>                   ] 277.90M  39.1MB/s    eta 1m 43s \rwc2.1_30s_tavg.zip    6%[>                   ] 285.85M  39.1MB/s    eta 1m 43s \rwc2.1_30s_tavg.zip    7%[>                   ] 293.46M  39.0MB/s    eta 1m 43s \rwc2.1_30s_tavg.zip    7%[>                   ] 301.34M  38.9MB/s    eta 1m 41s \rwc2.1_30s_tavg.zip    7%[>                   ] 309.24M  39.0MB/s    eta 1m 41s \rwc2.1_30s_tavg.zip    7%[>                   ] 316.71M  39.0MB/s    eta 1m 41s \rwc2.1_30s_tavg.zip    7%[>                   ] 324.62M  39.0MB/s    eta 1m 41s \rwc2.1_30s_tavg.zip    8%[>                   ] 332.48M  39.0MB/s    eta 1m 41s \rwc2.1_30s_tavg.zip    8%[>                   ] 340.51M  39.1MB/s    eta 1m 40s \rwc2.1_30s_tavg.zip    8%[>                   ] 348.43M  39.1MB/s    eta 1m 40s \rwc2.1_30s_tavg.zip    8%[>                   ] 356.13M  39.0MB/s    eta 1m 40s \rwc2.1_30s_tavg.zip    8%[>                   ] 364.05M  39.1MB/s    eta 1m 40s \rwc2.1_30s_tavg.zip    9%[>                   ] 371.66M  39.0MB/s    eta 1m 40s \rwc2.1_30s_tavg.zip    9%[>                   ] 379.51M  39.0MB/s    eta 98s    \rwc2.1_30s_tavg.zip    9%[>                   ] 387.41M  39.0MB/s    eta 98s    \rwc2.1_30s_tavg.zip    9%[>                   ] 394.96M  39.0MB/s    eta 98s    \rwc2.1_30s_tavg.zip    9%[>                   ] 402.88M  39.0MB/s    eta 98s    \rwc2.1_30s_tavg.zip   10%[=>                  ] 410.85M  39.0MB/s    eta 98s    \rwc2.1_30s_tavg.zip   10%[=>                  ] 418.80M  39.1MB/s    eta 97s    \rwc2.1_30s_tavg.zip   10%[=>                  ] 426.36M  39.0MB/s    eta 97s    \rwc2.1_30s_tavg.zip   10%[=>                  ] 434.24M  39.1MB/s    eta 97s    \rwc2.1_30s_tavg.zip   10%[=>                  ] 442.12M  39.1MB/s    eta 97s    \rwc2.1_30s_tavg.zip   10%[=>                  ] 449.82M  39.1MB/s    eta 97s    \rwc2.1_30s_tavg.zip   11%[=>                  ] 457.62M  39.1MB/s    eta 96s    \rwc2.1_30s_tavg.zip   11%[=>                  ] 465.54M  39.0MB/s    eta 96s    \rwc2.1_30s_tavg.zip   11%[=>                  ] 472.95M  38.9MB/s    eta 96s    \rwc2.1_30s_tavg.zip   11%[=>                  ] 480.87M  38.9MB/s    eta 96s    \rwc2.1_30s_tavg.zip   11%[=>                  ] 488.74M  39.0MB/s    eta 96s    \rwc2.1_30s_tavg.zip   12%[=>                  ] 496.70M  39.0MB/s    eta 94s    \rwc2.1_30s_tavg.zip   12%[=>                  ] 504.62M  39.1MB/s    eta 94s    \rwc2.1_30s_tavg.zip   12%[=>                  ] 512.53M  39.2MB/s    eta 94s    \rwc2.1_30s_tavg.zip   12%[=>                  ] 519.95M  39.0MB/s    eta 94s    \rwc2.1_30s_tavg.zip   12%[=>                  ] 527.84M  39.0MB/s    eta 94s    \rwc2.1_30s_tavg.zip   13%[=>                  ] 535.37M  38.8MB/s    eta 93s    \rwc2.1_30s_tavg.zip   13%[=>                  ] 543.27M  38.8MB/s    eta 93s    \rwc2.1_30s_tavg.zip   13%[=>                  ] 551.12M  38.9MB/s    eta 93s    \rwc2.1_30s_tavg.zip   13%[=>                  ] 559.10M  39.0MB/s    eta 93s    \rwc2.1_30s_tavg.zip   13%[=>                  ] 567.15M  39.0MB/s    eta 93s    \rwc2.1_30s_tavg.zip   14%[=>                  ] 575.23M  39.2MB/s    eta 92s    \rwc2.1_30s_tavg.zip   14%[=>                  ] 583.24M  39.2MB/s    eta 92s    \rwc2.1_30s_tavg.zip   14%[=>                  ] 591.23M  39.2MB/s    eta 92s    \rwc2.1_30s_tavg.zip   14%[=>                  ] 599.29M  39.5MB/s    eta 92s    \rwc2.1_30s_tavg.zip   14%[=>                  ] 607.34M  39.5MB/s    eta 92s    \rwc2.1_30s_tavg.zip   15%[==>                 ] 615.32M  39.6MB/s    eta 91s    \rwc2.1_30s_tavg.zip   15%[==>                 ] 623.35M  39.5MB/s    eta 91s    \rwc2.1_30s_tavg.zip   15%[==>                 ] 631.31M  39.5MB/s    eta 91s    \rwc2.1_30s_tavg.zip   15%[==>                 ] 639.34M  39.7MB/s    eta 91s    \rwc2.1_30s_tavg.zip   15%[==>                 ] 647.30M  39.8MB/s    eta 91s    \rwc2.1_30s_tavg.zip   15%[==>                 ] 655.32M  39.9MB/s    eta 89s    \rwc2.1_30s_tavg.zip   16%[==>                 ] 663.27M  39.9MB/s    eta 89s    \rwc2.1_30s_tavg.zip   16%[==>                 ] 671.24M  40.0MB/s    eta 89s    \rwc2.1_30s_tavg.zip   16%[==>                 ] 679.20M  40.0MB/s    eta 89s    \rwc2.1_30s_tavg.zip   16%[==>                 ] 687.18M  40.0MB/s    eta 89s    \rwc2.1_30s_tavg.zip   16%[==>                 ] 695.12M  39.9MB/s    eta 88s    \rwc2.1_30s_tavg.zip   17%[==>                 ] 703.13M  39.9MB/s    eta 88s    \rwc2.1_30s_tavg.zip   17%[==>                 ] 711.12M  39.9MB/s    eta 88s    \rwc2.1_30s_tavg.zip   17%[==>                 ] 719.10M  39.9MB/s    eta 88s    \rwc2.1_30s_tavg.zip   17%[==>                 ] 727.05M  39.9MB/s    eta 88s    \rwc2.1_30s_tavg.zip   17%[==>                 ] 735.12M  39.9MB/s    eta 87s    \rwc2.1_30s_tavg.zip   18%[==>                 ] 743.12M  39.9MB/s    eta 87s    \rwc2.1_30s_tavg.zip   18%[==>                 ] 751.12M  39.9MB/s    eta 87s    \rwc2.1_30s_tavg.zip   18%[==>                 ] 759.09M  39.9MB/s    eta 87s    \rwc2.1_30s_tavg.zip   18%[==>                 ] 767.07M  39.9MB/s    eta 87s    \rwc2.1_30s_tavg.zip   18%[==>                 ] 774.93M  39.9MB/s    eta 86s    \rwc2.1_30s_tavg.zip   19%[==>                 ] 782.88M  39.8MB/s    eta 86s    \rwc2.1_30s_tavg.zip   19%[==>                 ] 790.93M  39.8MB/s    eta 86s    \rwc2.1_30s_tavg.zip   19%[==>                 ] 799.01M  39.9MB/s    eta 86s    \rwc2.1_30s_tavg.zip   19%[==>                 ] 806.99M  39.9MB/s    eta 86s    \rwc2.1_30s_tavg.zip   19%[==>                 ] 815.01M  39.9MB/s    eta 85s    \rwc2.1_30s_tavg.zip   20%[===>                ] 822.63M  39.7MB/s    eta 85s    \rwc2.1_30s_tavg.zip   20%[===>                ] 830.65M  39.8MB/s    eta 85s    \rwc2.1_30s_tavg.zip   20%[===>                ] 838.60M  39.7MB/s    eta 85s    \rwc2.1_30s_tavg.zip   20%[===>                ] 846.63M  39.8MB/s    eta 85s    \rwc2.1_30s_tavg.zip   20%[===>                ] 854.60M  39.7MB/s    eta 84s    \rwc2.1_30s_tavg.zip   21%[===>                ] 862.48M  39.7MB/s    eta 84s    \rwc2.1_30s_tavg.zip   21%[===>                ] 870.33M  39.6MB/s    eta 84s    \rwc2.1_30s_tavg.zip   21%[===>                ] 878.37M  39.6MB/s    eta 84s    \rwc2.1_30s_tavg.zip   21%[===>                ] 886.37M  39.6MB/s    eta 84s    \rwc2.1_30s_tavg.zip   21%[===>                ] 894.30M  39.6MB/s    eta 83s    \rwc2.1_30s_tavg.zip   22%[===>                ] 902.34M  39.7MB/s    eta 83s    \rwc2.1_30s_tavg.zip   22%[===>                ] 910.55M  39.8MB/s    eta 83s    \rwc2.1_30s_tavg.zip   22%[===>                ] 918.52M  39.7MB/s    eta 83s    \rwc2.1_30s_tavg.zip   22%[===>                ] 926.48M  39.7MB/s    eta 83s    \rwc2.1_30s_tavg.zip   22%[===>                ] 934.47M  39.7MB/s    eta 81s    \rwc2.1_30s_tavg.zip   22%[===>                ] 942.46M  39.9MB/s    eta 81s    \rwc2.1_30s_tavg.zip   23%[===>                ] 950.46M  39.9MB/s    eta 81s    \rwc2.1_30s_tavg.zip   23%[===>                ] 958.45M  39.9MB/s    eta 81s    \rwc2.1_30s_tavg.zip   23%[===>                ] 966.45M  39.9MB/s    eta 81s    \rwc2.1_30s_tavg.zip   23%[===>                ] 974.45M  39.9MB/s    eta 80s    \rwc2.1_30s_tavg.zip   23%[===>                ] 982.48M  39.9MB/s    eta 80s    \rwc2.1_30s_tavg.zip   24%[===>                ] 990.34M  40.0MB/s    eta 80s    \rwc2.1_30s_tavg.zip   24%[===>                ] 998.34M  40.0MB/s    eta 80s    \rwc2.1_30s_tavg.zip   24%[===>                ]   1006M  39.8MB/s    eta 80s    \rwc2.1_30s_tavg.zip   24%[===>                ]   1014M  39.8MB/s    eta 79s    \rwc2.1_30s_tavg.zip   24%[===>                ]   1022M  39.8MB/s    eta 79s    \rwc2.1_30s_tavg.zip   25%[====>               ]   1.00G  39.8MB/s    eta 79s    \rwc2.1_30s_tavg.zip   25%[====>               ]   1.01G  39.8MB/s    eta 79s    \rwc2.1_30s_tavg.zip   25%[====>               ]   1.02G  39.8MB/s    eta 79s    \rwc2.1_30s_tavg.zip   25%[====>               ]   1.03G  39.7MB/s    eta 78s    \rwc2.1_30s_tavg.zip   25%[====>               ]   1.04G  39.7MB/s    eta 78s    \rwc2.1_30s_tavg.zip   26%[====>               ]   1.04G  39.7MB/s    eta 78s    \rwc2.1_30s_tavg.zip   26%[====>               ]   1.05G  39.7MB/s    eta 78s    \rwc2.1_30s_tavg.zip   26%[====>               ]   1.06G  39.7MB/s    eta 78s    \rwc2.1_30s_tavg.zip   26%[====>               ]   1.07G  39.7MB/s    eta 77s    \rwc2.1_30s_tavg.zip   26%[====>               ]   1.08G  39.5MB/s    eta 77s    \rwc2.1_30s_tavg.zip   27%[====>               ]   1.08G  39.5MB/s    eta 77s    \rwc2.1_30s_tavg.zip   27%[====>               ]   1.09G  39.5MB/s    eta 77s    \rwc2.1_30s_tavg.zip   27%[====>               ]   1.10G  39.6MB/s    eta 77s    \rwc2.1_30s_tavg.zip   27%[====>               ]   1.11G  39.7MB/s    eta 76s    \rwc2.1_30s_tavg.zip   27%[====>               ]   1.11G  39.6MB/s    eta 76s    \rwc2.1_30s_tavg.zip   28%[====>               ]   1.12G  39.5MB/s    eta 76s    \rwc2.1_30s_tavg.zip   28%[====>               ]   1.13G  39.4MB/s    eta 76s    \rwc2.1_30s_tavg.zip   28%[====>               ]   1.14G  39.4MB/s    eta 76s    \rwc2.1_30s_tavg.zip   28%[====>               ]   1.14G  39.4MB/s    eta 75s    \rwc2.1_30s_tavg.zip   28%[====>               ]   1.15G  39.4MB/s    eta 75s    \rwc2.1_30s_tavg.zip   28%[====>               ]   1.16G  39.4MB/s    eta 75s    \rwc2.1_30s_tavg.zip   29%[====>               ]   1.17G  39.5MB/s    eta 75s    \rwc2.1_30s_tavg.zip   29%[====>               ]   1.18G  39.5MB/s    eta 75s    \rwc2.1_30s_tavg.zip   29%[====>               ]   1.18G  39.5MB/s    eta 74s    \rwc2.1_30s_tavg.zip   29%[====>               ]   1.19G  39.4MB/s    eta 74s    \rwc2.1_30s_tavg.zip   29%[====>               ]   1.20G  39.5MB/s    eta 74s    \rwc2.1_30s_tavg.zip   30%[=====>              ]   1.21G  39.5MB/s    eta 74s    \rwc2.1_30s_tavg.zip   30%[=====>              ]   1.21G  39.5MB/s    eta 74s    \rwc2.1_30s_tavg.zip   30%[=====>              ]   1.22G  39.5MB/s    eta 73s    \rwc2.1_30s_tavg.zip   30%[=====>              ]   1.23G  39.7MB/s    eta 73s    \rwc2.1_30s_tavg.zip   30%[=====>              ]   1.24G  39.7MB/s    eta 73s    \rwc2.1_30s_tavg.zip   31%[=====>              ]   1.25G  39.7MB/s    eta 73s    \rwc2.1_30s_tavg.zip   31%[=====>              ]   1.25G  39.5MB/s    eta 73s    \rwc2.1_30s_tavg.zip   31%[=====>              ]   1.26G  39.5MB/s    eta 72s    \rwc2.1_30s_tavg.zip   31%[=====>              ]   1.27G  39.5MB/s    eta 72s    \rwc2.1_30s_tavg.zip   31%[=====>              ]   1.28G  39.6MB/s    eta 72s    \rwc2.1_30s_tavg.zip   32%[=====>              ]   1.28G  39.9MB/s    eta 72s    \rwc2.1_30s_tavg.zip   32%[=====>              ]   1.29G  39.6MB/s    eta 72s    \rwc2.1_30s_tavg.zip   32%[=====>              ]   1.30G  39.6MB/s    eta 71s    \rwc2.1_30s_tavg.zip   32%[=====>              ]   1.31G  39.4MB/s    eta 71s    \rwc2.1_30s_tavg.zip   32%[=====>              ]   1.31G  39.6MB/s    eta 71s    \rwc2.1_30s_tavg.zip   33%[=====>              ]   1.32G  39.5MB/s    eta 71s    \rwc2.1_30s_tavg.zip   33%[=====>              ]   1.33G  39.5MB/s    eta 71s    \rwc2.1_30s_tavg.zip   33%[=====>              ]   1.34G  39.4MB/s    eta 70s    \rwc2.1_30s_tavg.zip   33%[=====>              ]   1.35G  39.5MB/s    eta 70s    \rwc2.1_30s_tavg.zip   33%[=====>              ]   1.35G  39.5MB/s    eta 70s    \rwc2.1_30s_tavg.zip   33%[=====>              ]   1.36G  39.4MB/s    eta 70s    \rwc2.1_30s_tavg.zip   34%[=====>              ]   1.37G  39.5MB/s    eta 70s    \rwc2.1_30s_tavg.zip   34%[=====>              ]   1.38G  39.5MB/s    eta 69s    \rwc2.1_30s_tavg.zip   34%[=====>              ]   1.38G  39.6MB/s    eta 69s    \rwc2.1_30s_tavg.zip   34%[=====>              ]   1.39G  39.5MB/s    eta 69s    \rwc2.1_30s_tavg.zip   34%[=====>              ]   1.40G  39.4MB/s    eta 69s    \rwc2.1_30s_tavg.zip   35%[======>             ]   1.41G  39.4MB/s    eta 69s    \rwc2.1_30s_tavg.zip   35%[======>             ]   1.42G  39.4MB/s    eta 68s    \rwc2.1_30s_tavg.zip   35%[======>             ]   1.42G  39.5MB/s    eta 68s    \rwc2.1_30s_tavg.zip   35%[======>             ]   1.43G  39.6MB/s    eta 68s    \rwc2.1_30s_tavg.zip   35%[======>             ]   1.44G  39.7MB/s    eta 68s    \rwc2.1_30s_tavg.zip   36%[======>             ]   1.45G  39.7MB/s    eta 68s    \rwc2.1_30s_tavg.zip   36%[======>             ]   1.45G  39.7MB/s    eta 67s    "
     ]
    }
   ],
   "source": [
    "!wget https://biogeo.ucdavis.edu/data/worldclim/v2.1/base/wc2.1_30s_tavg.zip\n",
    "!unzip -o wc2.1_30s_tavg.zip"
   ]
  },
  {
   "cell_type": "code",
   "execution_count": 0,
   "metadata": {
    "application/vnd.databricks.v1+cell": {
     "cellMetadata": {
      "byteLimit": 2048000,
      "rowLimit": 10000
     },
     "inputWidgets": {},
     "nuid": "41caf4b1-e284-49a6-8fa2-d88864ba6955",
     "showTitle": false,
     "title": ""
    }
   },
   "outputs": [
    {
     "output_type": "stream",
     "name": "stdout",
     "output_type": "stream",
     "text": [
      "[2024-05-03 05:31:34 - INFO] - Getting geotransform and data...\r\n[2024-05-03 05:31:39 - INFO] - Getting XYZ data...\r\n"
     ]
    },
    {
     "output_type": "display_data",
     "data": {
      "text/html": [
       "<style scoped>\n",
       "  .ansiout {\n",
       "    display: block;\n",
       "    unicode-bidi: embed;\n",
       "    white-space: pre-wrap;\n",
       "    word-wrap: break-word;\n",
       "    word-break: break-all;\n",
       "    font-family: \"Menlo\", \"Monaco\", \"Consolas\", \"Ubuntu Mono\", \"Source Code Pro\", monospace;\n",
       "    font-size: 13px;\n",
       "    color: #555;\n",
       "    margin-left: 4px;\n",
       "    line-height: 19px;\n",
       "  }\n",
       "</style>"
      ]
     },
     "metadata": {
      "application/vnd.databricks.v1+output": {
       "arguments": {},
       "data": "",
       "errorSummary": "",
       "errorTraceType": null,
       "metadata": {},
       "type": "ipynbError"
      }
     },
     "output_type": "display_data"
    }
   ],
   "source": [
    "#arquivo mt grande raster não conseguiu rodar\n",
    "!raster2xyz wc2.1_30s_tavg_01.tif wc2.1_30s_tavg_01.csv"
   ]
  }
 ],
 "metadata": {
  "application/vnd.databricks.v1+notebook": {
   "dashboards": [],
   "language": "python",
   "notebookMetadata": {
    "mostRecentlyExecutedCommandWithImplicitDF": {
     "commandId": 481826010821626,
     "dataframes": [
      "_sqldf"
     ]
    },
    "pythonIndentUnit": 4
   },
   "notebookName": "worldclim_databricks_med",
   "widgets": {}
  }
 },
 "nbformat": 4,
 "nbformat_minor": 0
}
