{
 "cells": [
  {
   "cell_type": "code",
   "execution_count": 0,
   "metadata": {
    "application/vnd.databricks.v1+cell": {
     "cellMetadata": {
      "byteLimit": 2048000,
      "rowLimit": 10000
     },
     "inputWidgets": {},
     "nuid": "471e190e-8858-43f7-aa0c-0d3f1413d43a",
     "showTitle": false,
     "title": ""
    }
   },
   "outputs": [
    {
     "output_type": "stream",
     "name": "stdout",
     "output_type": "stream",
     "text": [
      "Requirement already satisfied: pip in /local_disk0/.ephemeral_nfs/envs/pythonEnv-f122bb97-6f71-4db8-9c8f-9a104d5361a5/lib/python3.9/site-packages (21.2.4)\r\nCollecting pip\r\n  Using cached pip-24.0-py3-none-any.whl (2.1 MB)\r\nInstalling collected packages: pip\r\n  Attempting uninstall: pip\r\n    Found existing installation: pip 21.2.4\r\n    Uninstalling pip-21.2.4:\r\n      Successfully uninstalled pip-21.2.4\r\nSuccessfully installed pip-24.0\r\n"
     ]
    }
   ],
   "source": [
    "!pip install --upgrade pip"
   ]
  },
  {
   "cell_type": "markdown",
   "metadata": {
    "application/vnd.databricks.v1+cell": {
     "cellMetadata": {
      "byteLimit": 2048000,
      "rowLimit": 10000
     },
     "inputWidgets": {},
     "nuid": "d898ba85-8013-4efb-906b-439a2a5d0f44",
     "showTitle": false,
     "title": ""
    }
   },
   "source": [
    "Instalando o gdal manualmente"
   ]
  },
  {
   "cell_type": "code",
   "execution_count": 0,
   "metadata": {
    "application/vnd.databricks.v1+cell": {
     "cellMetadata": {
      "byteLimit": 2048000,
      "rowLimit": 10000
     },
     "inputWidgets": {},
     "nuid": "8edb3e3b-3738-4f5a-b79a-375dc15ee768",
     "showTitle": false,
     "title": ""
    }
   },
   "outputs": [
    {
     "output_type": "stream",
     "name": "stdout",
     "output_type": "stream",
     "text": [
      "Hit:1 https://repos.azul.com/zulu/deb stable InRelease\nHit:2 http://security.ubuntu.com/ubuntu focal-security InRelease\nHit:3 http://archive.ubuntu.com/ubuntu focal InRelease\nGet:4 http://archive.ubuntu.com/ubuntu focal-updates InRelease [114 kB]\nHit:5 http://archive.ubuntu.com/ubuntu focal-backports InRelease\nFetched 114 kB in 1s (93.6 kB/s)\nReading package lists...\nReading package lists...\nBuilding dependency tree...\nReading state information...\ngdal-bin is already the newest version (3.0.4+dfsg-1build3).\nlibgdal-dev is already the newest version (3.0.4+dfsg-1build3).\n0 upgraded, 0 newly installed, 0 to remove and 71 not upgraded.\nReading package lists...\nBuilding dependency tree...\nReading state information...\nlibproj-dev is already the newest version (6.3.1-1).\n0 upgraded, 0 newly installed, 0 to remove and 71 not upgraded.\n"
     ]
    }
   ],
   "source": [
    "%sh\n",
    "#!/bin/bash\n",
    "sudo apt-get update\n",
    "# Isso instala o gdal na máquina\n",
    "sudo apt-get install -y gdal-bin libgdal-dev\n",
    "sudo apt-get install -y libproj-dev"
   ]
  },
  {
   "cell_type": "markdown",
   "metadata": {
    "application/vnd.databricks.v1+cell": {
     "cellMetadata": {
      "byteLimit": 2048000,
      "rowLimit": 10000
     },
     "inputWidgets": {},
     "nuid": "18e14542-4d73-4a4d-94a4-711fed8562ad",
     "showTitle": false,
     "title": ""
    }
   },
   "source": [
    "os arquivos precisam estar com os nomes corretos"
   ]
  },
  {
   "cell_type": "code",
   "execution_count": 0,
   "metadata": {
    "application/vnd.databricks.v1+cell": {
     "cellMetadata": {
      "byteLimit": 2048000,
      "rowLimit": 10000
     },
     "inputWidgets": {},
     "nuid": "a36ca8dd-a6a6-4304-8ed2-cf8ec09cf8d4",
     "showTitle": false,
     "title": ""
    }
   },
   "outputs": [
    {
     "output_type": "stream",
     "name": "stdout",
     "output_type": "stream",
     "text": [
      "mv: cannot stat '_gdal.cpython-38-x86_64-linux-gnu.so': No such file or directory\nmv: cannot stat '_gdalconst.cpython-38-x86_64-linux-gnu.so': No such file or directory\nmv: cannot stat '_ogr.cpython-38-x86_64-linux-gnu.so': No such file or directory\nmv: cannot stat '_osr.cpython-38-x86_64-linux-gnu.so': No such file or directory\nmv: cannot stat '_gdal_array.cpython-38-x86_64-linux-gnu.so': No such file or directory\n__init__.py\n__pycache__\n_gdal.so\n_gdal_array.so\n_gdalconst.so\n_gnm.cpython-38-x86_64-linux-gnu.so\n_ogr.so\n_osr.so\ngdal.py\ngdal_array.py\ngdalconst.py\ngdalnumeric.py\ngnm.py\nogr.py\nosr.py\n"
     ]
    }
   ],
   "source": [
    "%sh\n",
    "cd /usr/lib/python3/dist-packages/osgeo\n",
    "mv _gdal.cpython-38-x86_64-linux-gnu.so _gdal.so\n",
    "mv _gdalconst.cpython-38-x86_64-linux-gnu.so _gdalconst.so\n",
    "mv _ogr.cpython-38-x86_64-linux-gnu.so _ogr.so\n",
    "mv _osr.cpython-38-x86_64-linux-gnu.so _osr.so\n",
    "mv _gdal_array.cpython-38-x86_64-linux-gnu.so _gdal_array.so\n",
    "ls /usr/lib/python3/dist-packages/osgeo"
   ]
  },
  {
   "cell_type": "markdown",
   "metadata": {
    "application/vnd.databricks.v1+cell": {
     "cellMetadata": {
      "byteLimit": 2048000,
      "rowLimit": 10000
     },
     "inputWidgets": {},
     "nuid": "b1642662-e870-4ccc-9699-93fa77a04dc7",
     "showTitle": false,
     "title": ""
    }
   },
   "source": [
    "Bibliotecas"
   ]
  },
  {
   "cell_type": "code",
   "execution_count": 0,
   "metadata": {
    "application/vnd.databricks.v1+cell": {
     "cellMetadata": {
      "byteLimit": 2048000,
      "rowLimit": 10000
     },
     "inputWidgets": {},
     "nuid": "5994f276-71d5-4dca-aac6-409918152afa",
     "showTitle": false,
     "title": ""
    }
   },
   "outputs": [],
   "source": [
    "from pyspark.sql import SparkSession\n",
    "import os"
   ]
  },
  {
   "cell_type": "code",
   "execution_count": 0,
   "metadata": {
    "application/vnd.databricks.v1+cell": {
     "cellMetadata": {
      "byteLimit": 2048000,
      "rowLimit": 10000
     },
     "inputWidgets": {},
     "nuid": "ae56969d-30dc-4784-80e9-36abe0422eac",
     "showTitle": false,
     "title": ""
    }
   },
   "outputs": [
    {
     "output_type": "stream",
     "name": "stdout",
     "output_type": "stream",
     "text": [
      "Collecting pyspark\r\n  Using cached pyspark-3.5.1-py2.py3-none-any.whl\r\nCollecting raster2xyz\r\n  Using cached raster2xyz-0.1.3-py3-none-any.whl\r\nCollecting py4j==0.10.9.7 (from pyspark)\r\n  Using cached py4j-0.10.9.7-py2.py3-none-any.whl.metadata (1.5 kB)\r\nRequirement already satisfied: numpy in /databricks/python3/lib/python3.9/site-packages (from raster2xyz) (1.21.5)\r\nRequirement already satisfied: pandas in /databricks/python3/lib/python3.9/site-packages (from raster2xyz) (1.4.2)\r\nRequirement already satisfied: GDAL in /usr/lib/python3/dist-packages (from raster2xyz) (3.0.4)\r\nRequirement already satisfied: python-dateutil>=2.8.1 in /databricks/python3/lib/python3.9/site-packages (from pandas->raster2xyz) (2.8.2)\r\nRequirement already satisfied: pytz>=2020.1 in /databricks/python3/lib/python3.9/site-packages (from pandas->raster2xyz) (2021.3)\r\nRequirement already satisfied: six>=1.5 in /databricks/python3/lib/python3.9/site-packages (from python-dateutil>=2.8.1->pandas->raster2xyz) (1.16.0)\r\nUsing cached py4j-0.10.9.7-py2.py3-none-any.whl (200 kB)\r\nInstalling collected packages: py4j, pyspark, raster2xyz\r\nSuccessfully installed py4j-0.10.9.7 pyspark-3.5.1 raster2xyz-0.1.3\r\n"
     ]
    }
   ],
   "source": [
    "!pip install pyspark raster2xyz"
   ]
  },
  {
   "cell_type": "markdown",
   "metadata": {
    "application/vnd.databricks.v1+cell": {
     "cellMetadata": {
      "byteLimit": 2048000,
      "rowLimit": 10000
     },
     "inputWidgets": {},
     "nuid": "20372dd0-71f9-4285-8c29-b581e5a73aa7",
     "showTitle": false,
     "title": ""
    }
   },
   "source": [
    "Iniciando sessão spark"
   ]
  },
  {
   "cell_type": "code",
   "execution_count": 0,
   "metadata": {
    "application/vnd.databricks.v1+cell": {
     "cellMetadata": {
      "byteLimit": 2048000,
      "rowLimit": 10000
     },
     "inputWidgets": {},
     "nuid": "8170d3f4-e094-440a-82fc-cd558c55d902",
     "showTitle": false,
     "title": ""
    }
   },
   "outputs": [],
   "source": [
    "spark=SparkSession.builder \\\n",
    "    .master('local[*]') \\\n",
    "    .getOrCreate()"
   ]
  },
  {
   "cell_type": "markdown",
   "metadata": {
    "application/vnd.databricks.v1+cell": {
     "cellMetadata": {
      "byteLimit": 2048000,
      "rowLimit": 10000
     },
     "inputWidgets": {},
     "nuid": "32a7c84f-22fd-4d29-a636-7e57c433318f",
     "showTitle": false,
     "title": ""
    }
   },
   "source": [
    "Função para avaliar o benchmark"
   ]
  },
  {
   "cell_type": "code",
   "execution_count": 0,
   "metadata": {
    "application/vnd.databricks.v1+cell": {
     "cellMetadata": {
      "byteLimit": 2048000,
      "rowLimit": 10000
     },
     "inputWidgets": {},
     "nuid": "a966e325-3011-446c-adb8-36a8b0150568",
     "showTitle": false,
     "title": ""
    }
   },
   "outputs": [],
   "source": [
    "def benchmark(arquivo):\n",
    "    df = spark.read.format(\"csv\").option(\"header\", True).load(arquivo)\n",
    "    df.write.format(\"noop\").mode(\"overwrite\").save()"
   ]
  },
  {
   "cell_type": "code",
   "execution_count": 0,
   "metadata": {
    "application/vnd.databricks.v1+cell": {
     "cellMetadata": {
      "byteLimit": 2048000,
      "rowLimit": 10000
     },
     "inputWidgets": {},
     "nuid": "918e4f8b-8baa-4d51-b1d9-b38c4912f4a3",
     "showTitle": false,
     "title": ""
    }
   },
   "outputs": [],
   "source": [
    "def partitions(arquivo):\n",
    "  df = spark.read.format(\"csv\").option(\"header\", True).load(arquivo)\n",
    "  print(f\"Número de partições -> {df.rdd.getNumPartitions()}\")"
   ]
  },
  {
   "cell_type": "markdown",
   "metadata": {
    "application/vnd.databricks.v1+cell": {
     "cellMetadata": {
      "byteLimit": 2048000,
      "rowLimit": 10000
     },
     "inputWidgets": {},
     "nuid": "081536b8-beb4-40b1-b611-82063f28fa07",
     "showTitle": false,
     "title": ""
    }
   },
   "source": [
    "#Temperatura máxima"
   ]
  },
  {
   "cell_type": "markdown",
   "metadata": {
    "application/vnd.databricks.v1+cell": {
     "cellMetadata": {
      "byteLimit": 2048000,
      "rowLimit": 10000
     },
     "inputWidgets": {},
     "nuid": "5aece3b7-2274-46e2-9617-eda29ba71461",
     "showTitle": false,
     "title": ""
    }
   },
   "source": [
    "##10 minutos"
   ]
  },
  {
   "cell_type": "code",
   "execution_count": 0,
   "metadata": {
    "application/vnd.databricks.v1+cell": {
     "cellMetadata": {
      "byteLimit": 2048000,
      "rowLimit": 10000
     },
     "inputWidgets": {},
     "nuid": "0d0d0e30-e182-4027-88e1-9240addb3e94",
     "showTitle": false,
     "title": ""
    }
   },
   "outputs": [
    {
     "output_type": "stream",
     "name": "stdout",
     "output_type": "stream",
     "text": [
      "--2024-05-04 21:30:08--  https://biogeo.ucdavis.edu/data/worldclim/v2.1/base/wc2.1_10m_tmax.zip\r\nResolving biogeo.ucdavis.edu (biogeo.ucdavis.edu)... 128.120.228.172\r\nConnecting to biogeo.ucdavis.edu (biogeo.ucdavis.edu)|128.120.228.172|:443... connected.\r\nHTTP request sent, awaiting response... 302 Found\r\nLocation: https://data.biogeo.ucdavis.edu/data/worldclim/v2.1/base/wc2.1_10m_tmax.zip [following]\r\n--2024-05-04 21:30:08--  https://data.biogeo.ucdavis.edu/data/worldclim/v2.1/base/wc2.1_10m_tmax.zip\r\nResolving data.biogeo.ucdavis.edu (data.biogeo.ucdavis.edu)... 128.120.228.172\r\nConnecting to data.biogeo.ucdavis.edu (data.biogeo.ucdavis.edu)|128.120.228.172|:443... connected.\r\nHTTP request sent, awaiting response... 200 OK\r\nLength: 37446442 (36M) [application/zip]\r\nSaving to: ‘wc2.1_10m_tmax.zip.1’\r\n\r\n\rwc2.1_10m_tmax.zip.   0%[                    ]       0  --.-KB/s               \rwc2.1_10m_tmax.zip.   4%[                    ]   1.61M  8.05MB/s               \rwc2.1_10m_tmax.zip.  27%[====>               ]   9.68M  24.2MB/s               \rwc2.1_10m_tmax.zip.  46%[========>           ]  16.64M  27.7MB/s               \rwc2.1_10m_tmax.zip.  66%[============>       ]  23.87M  29.8MB/s               \rwc2.1_10m_tmax.zip.  87%[================>   ]  31.16M  31.1MB/s               \rwc2.1_10m_tmax.zip. 100%[===================>]  35.71M  31.8MB/s    in 1.1s    \r\n\r\n2024-05-04 21:30:10 (31.8 MB/s) - ‘wc2.1_10m_tmax.zip.1’ saved [37446442/37446442]\r\n\r\nArchive:  wc2.1_10m_tmax.zip\r\n  inflating: wc2.1_10m_tmax_01.tif   \r\n  inflating: wc2.1_10m_tmax_02.tif   \r\n  inflating: wc2.1_10m_tmax_03.tif   \r\n  inflating: wc2.1_10m_tmax_04.tif   \r\n  inflating: wc2.1_10m_tmax_05.tif   \r\n  inflating: wc2.1_10m_tmax_06.tif   \r\n  inflating: wc2.1_10m_tmax_07.tif   \r\n  inflating: wc2.1_10m_tmax_08.tif   \r\n  inflating: wc2.1_10m_tmax_09.tif   \r\n  inflating: wc2.1_10m_tmax_10.tif   \r\n  inflating: wc2.1_10m_tmax_11.tif   \r\n  inflating: wc2.1_10m_tmax_12.tif   \r\n"
     ]
    }
   ],
   "source": [
    "!wget https://biogeo.ucdavis.edu/data/worldclim/v2.1/base/wc2.1_10m_tmax.zip\n",
    "!unzip -o wc2.1_10m_tmax.zip"
   ]
  },
  {
   "cell_type": "code",
   "execution_count": 0,
   "metadata": {
    "application/vnd.databricks.v1+cell": {
     "cellMetadata": {
      "byteLimit": 2048000,
      "rowLimit": 10000
     },
     "inputWidgets": {},
     "nuid": "ea5c24a2-ab60-4bd0-9d8a-99dc8d3af8a8",
     "showTitle": false,
     "title": ""
    }
   },
   "outputs": [
    {
     "output_type": "stream",
     "name": "stdout",
     "output_type": "stream",
     "text": [
      "[2024-05-04 09:30:12 - INFO] - Getting geotransform and data...\r\n[2024-05-04 09:30:12 - INFO] - Getting XYZ data...\r\n[2024-05-04 09:30:13 - INFO] - Getting geotransformed coordinates...\r\n[2024-05-04 09:30:13 - INFO] - Building XYZ data...\r\n[2024-05-04 09:30:22 - INFO] - New XYZ (csv file) created...\r\n"
     ]
    }
   ],
   "source": [
    "!raster2xyz wc2.1_10m_tmax_01.tif wc2.1_10m_tmax_01.csv"
   ]
  },
  {
   "cell_type": "markdown",
   "metadata": {
    "application/vnd.databricks.v1+cell": {
     "cellMetadata": {
      "byteLimit": 2048000,
      "rowLimit": 10000
     },
     "inputWidgets": {},
     "nuid": "1e5a40bf-9b4e-46c8-b714-7ba0f40e14a5",
     "showTitle": false,
     "title": ""
    }
   },
   "source": [
    "Os arquivos são salvos no cluster então é necessário movê-los para o dbfs"
   ]
  },
  {
   "cell_type": "code",
   "execution_count": 0,
   "metadata": {
    "application/vnd.databricks.v1+cell": {
     "cellMetadata": {
      "byteLimit": 2048000,
      "rowLimit": 10000
     },
     "inputWidgets": {},
     "nuid": "720d0f4b-8207-4814-a9db-937729d646a0",
     "showTitle": false,
     "title": ""
    }
   },
   "outputs": [
    {
     "output_type": "stream",
     "name": "stdout",
     "output_type": "stream",
     "text": [
      "Out[25]: True"
     ]
    }
   ],
   "source": [
    "dbutils.fs.cp(\"file:/databricks/driver/wc2.1_10m_tmax_01.csv\", \"dbfs:/FileStore/tables/wc2.1_10m_tmax_01.csv\")"
   ]
  },
  {
   "cell_type": "markdown",
   "metadata": {
    "application/vnd.databricks.v1+cell": {
     "cellMetadata": {
      "byteLimit": 2048000,
      "rowLimit": 10000
     },
     "inputWidgets": {},
     "nuid": "ad028bf5-adbf-482e-8192-dc0fee06a5a8",
     "showTitle": false,
     "title": ""
    }
   },
   "source": [
    "Testando o benchmark"
   ]
  },
  {
   "cell_type": "code",
   "execution_count": 0,
   "metadata": {
    "application/vnd.databricks.v1+cell": {
     "cellMetadata": {
      "byteLimit": 2048000,
      "rowLimit": 10000
     },
     "inputWidgets": {},
     "nuid": "8d8c92a4-3db9-4278-b06c-5f4f79d33270",
     "showTitle": false,
     "title": ""
    }
   },
   "outputs": [],
   "source": [
    "arquivo='dbfs:/FileStore/tables/wc2.1_10m_tmax_01.csv'"
   ]
  },
  {
   "cell_type": "code",
   "execution_count": 0,
   "metadata": {
    "application/vnd.databricks.v1+cell": {
     "cellMetadata": {
      "byteLimit": 2048000,
      "rowLimit": 10000
     },
     "inputWidgets": {},
     "nuid": "bcd0d4e7-890b-4fd7-bfc6-e0ac61298641",
     "showTitle": false,
     "title": ""
    }
   },
   "outputs": [
    {
     "output_type": "stream",
     "name": "stdout",
     "output_type": "stream",
     "text": [
      "Número de partições -> 8\n"
     ]
    }
   ],
   "source": [
    "partitions(arquivo)"
   ]
  },
  {
   "cell_type": "code",
   "execution_count": 0,
   "metadata": {
    "application/vnd.databricks.v1+cell": {
     "cellMetadata": {
      "byteLimit": 2048000,
      "rowLimit": 10000
     },
     "inputWidgets": {},
     "nuid": "77684c6c-f244-4756-892b-bffc78b01561",
     "showTitle": false,
     "title": ""
    }
   },
   "outputs": [
    {
     "output_type": "stream",
     "name": "stdout",
     "output_type": "stream",
     "text": [
      "CPU times: user 7.25 ms, sys: 0 ns, total: 7.25 ms\nWall time: 5.78 s\nCPU times: user 5.14 ms, sys: 4.24 ms, total: 9.38 ms\nWall time: 6.71 s\nCPU times: user 7.52 ms, sys: 1.48 ms, total: 9 ms\nWall time: 5.77 s\nCPU times: user 8.36 ms, sys: 916 µs, total: 9.28 ms\nWall time: 5.79 s\nCPU times: user 4.48 ms, sys: 4.27 ms, total: 8.75 ms\nWall time: 5.95 s\nCPU times: user 13.3 ms, sys: 602 µs, total: 13.9 ms\nWall time: 5.78 s\nCPU times: user 4.93 ms, sys: 3.99 ms, total: 8.92 ms\nWall time: 5.37 s\nCPU times: user 1.06 ms, sys: 7.48 ms, total: 8.54 ms\nWall time: 5.24 s\nCPU times: user 6.2 ms, sys: 2.86 ms, total: 9.06 ms\nWall time: 5.38 s\nCPU times: user 8.64 ms, sys: 117 µs, total: 8.76 ms\nWall time: 5.12 s\nCPU times: user 8.86 ms, sys: 0 ns, total: 8.86 ms\nWall time: 5.66 s\nCPU times: user 5.77 ms, sys: 3.09 ms, total: 8.86 ms\nWall time: 5.62 s\nCPU times: user 0 ns, sys: 8.66 ms, total: 8.66 ms\nWall time: 5.4 s\nCPU times: user 2.89 ms, sys: 5.51 ms, total: 8.4 ms\nWall time: 5.23 s\nCPU times: user 8.8 ms, sys: 0 ns, total: 8.8 ms\nWall time: 5.29 s\nCPU times: user 2.42 ms, sys: 6.39 ms, total: 8.82 ms\nWall time: 5.32 s\nCPU times: user 7.46 ms, sys: 848 µs, total: 8.31 ms\nWall time: 5.4 s\nCPU times: user 9.62 ms, sys: 0 ns, total: 9.62 ms\nWall time: 5.39 s\nCPU times: user 12.7 ms, sys: 3 ms, total: 15.7 ms\nWall time: 5.18 s\nCPU times: user 8.54 ms, sys: 918 µs, total: 9.46 ms\nWall time: 5.44 s\nCPU times: user 12 µs, sys: 8.8 ms, total: 8.81 ms\nWall time: 5.58 s\nCPU times: user 7.63 ms, sys: 78 µs, total: 7.7 ms\nWall time: 5.4 s\nCPU times: user 7.84 ms, sys: 86 µs, total: 7.92 ms\nWall time: 5.45 s\nCPU times: user 8.59 ms, sys: 933 µs, total: 9.52 ms\nWall time: 5.46 s\nCPU times: user 8.57 ms, sys: 113 µs, total: 8.69 ms\nWall time: 5.41 s\nCPU times: user 8.94 ms, sys: 183 µs, total: 9.12 ms\nWall time: 5.45 s\nCPU times: user 1.75 ms, sys: 6.75 ms, total: 8.5 ms\nWall time: 5.6 s\nCPU times: user 9.67 ms, sys: 1.16 ms, total: 10.8 ms\nWall time: 5.88 s\nCPU times: user 6.35 ms, sys: 2.89 ms, total: 9.25 ms\nWall time: 5.69 s\nCPU times: user 7.45 ms, sys: 701 µs, total: 8.15 ms\nWall time: 5.22 s\nCPU times: user 9.31 ms, sys: 5.1 ms, total: 14.4 ms\nWall time: 5.43 s\nCPU times: user 7.88 ms, sys: 796 µs, total: 8.68 ms\nWall time: 5.45 s\n"
     ]
    }
   ],
   "source": [
    "for i in range(1,33):\n",
    " %time benchmark(arquivo)"
   ]
  },
  {
   "cell_type": "markdown",
   "metadata": {
    "application/vnd.databricks.v1+cell": {
     "cellMetadata": {
      "byteLimit": 2048000,
      "rowLimit": 10000
     },
     "inputWidgets": {},
     "nuid": "76a3de18-f993-4f99-a95c-bf53b65ddd43",
     "showTitle": false,
     "title": ""
    }
   },
   "source": [
    "##5 minutos"
   ]
  },
  {
   "cell_type": "code",
   "execution_count": 0,
   "metadata": {
    "application/vnd.databricks.v1+cell": {
     "cellMetadata": {
      "byteLimit": 2048000,
      "rowLimit": 10000
     },
     "inputWidgets": {},
     "nuid": "0cc9ceb8-99ae-40a7-ae52-8e3a09a3e3c3",
     "showTitle": false,
     "title": ""
    }
   },
   "outputs": [
    {
     "output_type": "stream",
     "name": "stdout",
     "output_type": "stream",
     "text": [
      "--2024-05-04 21:33:28--  https://biogeo.ucdavis.edu/data/worldclim/v2.1/base/wc2.1_5m_tmax.zip\r\nResolving biogeo.ucdavis.edu (biogeo.ucdavis.edu)... 128.120.228.172\r\nConnecting to biogeo.ucdavis.edu (biogeo.ucdavis.edu)|128.120.228.172|:443... connected.\r\nHTTP request sent, awaiting response... 302 Found\r\nLocation: https://data.biogeo.ucdavis.edu/data/worldclim/v2.1/base/wc2.1_5m_tmax.zip [following]\r\n--2024-05-04 21:33:28--  https://data.biogeo.ucdavis.edu/data/worldclim/v2.1/base/wc2.1_5m_tmax.zip\r\nResolving data.biogeo.ucdavis.edu (data.biogeo.ucdavis.edu)... 128.120.228.172\r\nConnecting to data.biogeo.ucdavis.edu (data.biogeo.ucdavis.edu)|128.120.228.172|:443... connected.\r\nHTTP request sent, awaiting response... 200 OK\r\nLength: 126715801 (121M) [application/zip]\r\nSaving to: ‘wc2.1_5m_tmax.zip.1’\r\n\r\n\rwc2.1_5m_tmax.zip.1   0%[                    ]       0  --.-KB/s               \rwc2.1_5m_tmax.zip.1   1%[                    ]   1.95M  9.17MB/s               \rwc2.1_5m_tmax.zip.1  10%[=>                  ]  12.24M  29.7MB/s               \rwc2.1_5m_tmax.zip.1  17%[==>                 ]  21.20M  34.6MB/s               \rwc2.1_5m_tmax.zip.1  24%[===>                ]  30.21M  37.2MB/s               \rwc2.1_5m_tmax.zip.1  32%[=====>              ]  39.21M  38.7MB/s               \rwc2.1_5m_tmax.zip.1  39%[======>             ]  48.16M  39.7MB/s               \rwc2.1_5m_tmax.zip.1  46%[========>           ]  56.63M  40.1MB/s               \rwc2.1_5m_tmax.zip.1  54%[=========>          ]  65.60M  40.7MB/s               \rwc2.1_5m_tmax.zip.1  61%[===========>        ]  74.68M  41.2MB/s               \rwc2.1_5m_tmax.zip.1  69%[============>       ]  83.67M  41.6MB/s               \rwc2.1_5m_tmax.zip.1  76%[==============>     ]  92.01M  41.6MB/s               \rwc2.1_5m_tmax.zip.1  83%[===============>    ] 101.04M  41.8MB/s               \rwc2.1_5m_tmax.zip.1  91%[=================>  ] 110.02M  42.1MB/s               \rwc2.1_5m_tmax.zip.1  98%[==================> ] 118.96M  42.3MB/s               \rwc2.1_5m_tmax.zip.1 100%[===================>] 120.84M  42.3MB/s    in 2.9s    \r\n\r\n2024-05-04 21:33:31 (42.3 MB/s) - ‘wc2.1_5m_tmax.zip.1’ saved [126715801/126715801]\r\n\r\nArchive:  wc2.1_5m_tmax.zip\r\n  inflating: wc2.1_5m_tmax_01.tif    \r\n  inflating: wc2.1_5m_tmax_02.tif    \r\n  inflating: wc2.1_5m_tmax_03.tif    \r\n  inflating: wc2.1_5m_tmax_04.tif    \r\n  inflating: wc2.1_5m_tmax_05.tif    \r\n  inflating: wc2.1_5m_tmax_06.tif    \r\n  inflating: wc2.1_5m_tmax_07.tif    \r\n  inflating: wc2.1_5m_tmax_08.tif    \r\n  inflating: wc2.1_5m_tmax_09.tif    \r\n  inflating: wc2.1_5m_tmax_10.tif    \r\n  inflating: wc2.1_5m_tmax_11.tif    \r\n  inflating: wc2.1_5m_tmax_12.tif    \r\n"
     ]
    }
   ],
   "source": [
    "!wget https://biogeo.ucdavis.edu/data/worldclim/v2.1/base/wc2.1_5m_tmax.zip\n",
    "!unzip -o wc2.1_5m_tmax.zip"
   ]
  },
  {
   "cell_type": "code",
   "execution_count": 0,
   "metadata": {
    "application/vnd.databricks.v1+cell": {
     "cellMetadata": {
      "byteLimit": 2048000,
      "rowLimit": 10000
     },
     "inputWidgets": {},
     "nuid": "d1df4494-a09b-4b0b-a23a-c8402487d1aa",
     "showTitle": false,
     "title": ""
    }
   },
   "outputs": [
    {
     "output_type": "stream",
     "name": "stdout",
     "output_type": "stream",
     "text": [
      "[2024-05-04 09:33:35 - INFO] - Getting geotransform and data...\r\n[2024-05-04 09:33:35 - INFO] - Getting XYZ data...\r\n[2024-05-04 09:33:35 - INFO] - Getting geotransformed coordinates...\r\n[2024-05-04 09:33:36 - INFO] - Building XYZ data...\r\n[2024-05-04 09:34:14 - INFO] - New XYZ (csv file) created...\r\n"
     ]
    }
   ],
   "source": [
    "!raster2xyz wc2.1_5m_tmax_01.tif wc2.1_5m_tmax_01.csv"
   ]
  },
  {
   "cell_type": "code",
   "execution_count": 0,
   "metadata": {
    "application/vnd.databricks.v1+cell": {
     "cellMetadata": {
      "byteLimit": 2048000,
      "rowLimit": 10000
     },
     "inputWidgets": {},
     "nuid": "ffe2ed8a-be76-454e-bc18-40dd23ef2c40",
     "showTitle": false,
     "title": ""
    }
   },
   "outputs": [
    {
     "output_type": "stream",
     "name": "stdout",
     "output_type": "stream",
     "text": [
      "Out[31]: True"
     ]
    }
   ],
   "source": [
    "dbutils.fs.cp(\"file:/databricks/driver/wc2.1_5m_tmax_01.csv\", \"dbfs:/FileStore/tables/wc2.1_5m_tmax_01.csv\")"
   ]
  },
  {
   "cell_type": "code",
   "execution_count": 0,
   "metadata": {
    "application/vnd.databricks.v1+cell": {
     "cellMetadata": {
      "byteLimit": 2048000,
      "rowLimit": 10000
     },
     "inputWidgets": {},
     "nuid": "66725547-f3ed-488c-b74e-b2999bdc008e",
     "showTitle": false,
     "title": ""
    }
   },
   "outputs": [],
   "source": [
    "arquivo='dbfs:/FileStore/tables/wc2.1_5m_tmax_01.csv'"
   ]
  },
  {
   "cell_type": "code",
   "execution_count": 0,
   "metadata": {
    "application/vnd.databricks.v1+cell": {
     "cellMetadata": {
      "byteLimit": 2048000,
      "rowLimit": 10000
     },
     "inputWidgets": {},
     "nuid": "73e3e7b5-be21-4122-8321-8873ccd268c2",
     "showTitle": false,
     "title": ""
    }
   },
   "outputs": [
    {
     "output_type": "stream",
     "name": "stdout",
     "output_type": "stream",
     "text": [
      "Número de partições -> 8\n"
     ]
    }
   ],
   "source": [
    "partitions(arquivo)"
   ]
  },
  {
   "cell_type": "code",
   "execution_count": 0,
   "metadata": {
    "application/vnd.databricks.v1+cell": {
     "cellMetadata": {
      "byteLimit": 2048000,
      "rowLimit": 10000
     },
     "inputWidgets": {},
     "nuid": "39160fc7-86ce-4df0-a591-5320da5c76cb",
     "showTitle": false,
     "title": ""
    }
   },
   "outputs": [
    {
     "output_type": "stream",
     "name": "stdout",
     "output_type": "stream",
     "text": [
      "CPU times: user 13.1 ms, sys: 5.46 ms, total: 18.6 ms\nWall time: 19.1 s\nCPU times: user 9.65 ms, sys: 5.9 ms, total: 15.6 ms\nWall time: 19.6 s\nCPU times: user 9.48 ms, sys: 5.1 ms, total: 14.6 ms\nWall time: 19.3 s\nCPU times: user 14.8 ms, sys: 539 µs, total: 15.3 ms\nWall time: 19.7 s\nCPU times: user 13.7 ms, sys: 2.75 ms, total: 16.4 ms\nWall time: 20.9 s\nCPU times: user 11 ms, sys: 3.68 ms, total: 14.7 ms\nWall time: 16.8 s\nCPU times: user 13.3 ms, sys: 0 ns, total: 13.3 ms\nWall time: 16.5 s\nCPU times: user 13.4 ms, sys: 178 µs, total: 13.6 ms\nWall time: 17.2 s\nCPU times: user 12 ms, sys: 1.72 ms, total: 13.7 ms\nWall time: 16.8 s\nCPU times: user 9.69 ms, sys: 3.56 ms, total: 13.2 ms\nWall time: 15.7 s\nCPU times: user 13.8 ms, sys: 337 µs, total: 14.1 ms\nWall time: 16.3 s\nCPU times: user 19 ms, sys: 2.24 ms, total: 21.3 ms\nWall time: 16.7 s\nCPU times: user 9.06 ms, sys: 4.22 ms, total: 13.3 ms\nWall time: 15.9 s\nCPU times: user 11.7 ms, sys: 3.31 ms, total: 15 ms\nWall time: 17.4 s\nCPU times: user 10.4 ms, sys: 4.47 ms, total: 14.8 ms\nWall time: 17.5 s\nCPU times: user 12.2 ms, sys: 1.6 ms, total: 13.8 ms\nWall time: 15.8 s\nCPU times: user 13.1 ms, sys: 207 µs, total: 13.3 ms\nWall time: 16.3 s\nCPU times: user 10.4 ms, sys: 4.5 ms, total: 14.9 ms\nWall time: 17 s\nCPU times: user 13.8 ms, sys: 1.12 ms, total: 14.9 ms\nWall time: 16.8 s\nCPU times: user 11.9 ms, sys: 1.54 ms, total: 13.4 ms\nWall time: 16.6 s\nCPU times: user 12.5 ms, sys: 1.66 ms, total: 14.2 ms\nWall time: 16.6 s\nCPU times: user 1.76 ms, sys: 11.7 ms, total: 13.4 ms\nWall time: 16.1 s\nCPU times: user 13.7 ms, sys: 304 µs, total: 14 ms\nWall time: 15.9 s\nCPU times: user 17.8 ms, sys: 5.17 ms, total: 23 ms\nWall time: 16.1 s\nCPU times: user 9.59 ms, sys: 5.14 ms, total: 14.7 ms\nWall time: 16.2 s\nCPU times: user 13.8 ms, sys: 368 µs, total: 14.2 ms\nWall time: 16.9 s\nCPU times: user 14.2 ms, sys: 0 ns, total: 14.2 ms\nWall time: 16.4 s\nCPU times: user 0 ns, sys: 15 ms, total: 15 ms\nWall time: 16.8 s\nCPU times: user 1.46 ms, sys: 11.9 ms, total: 13.4 ms\nWall time: 15.9 s\nCPU times: user 9.05 ms, sys: 5.05 ms, total: 14.1 ms\nWall time: 16.9 s\nCPU times: user 10.6 ms, sys: 4.56 ms, total: 15.2 ms\nWall time: 17.4 s\nCPU times: user 13.6 ms, sys: 307 µs, total: 13.9 ms\nWall time: 15.9 s\n"
     ]
    }
   ],
   "source": [
    "for i in range(1,33):\n",
    " %time benchmark(arquivo)"
   ]
  },
  {
   "cell_type": "markdown",
   "metadata": {
    "application/vnd.databricks.v1+cell": {
     "cellMetadata": {
      "byteLimit": 2048000,
      "rowLimit": 10000
     },
     "inputWidgets": {},
     "nuid": "eeb14a4d-de0c-48cc-a0d3-541ee1c7b9bc",
     "showTitle": false,
     "title": ""
    }
   },
   "source": [
    "##2.5"
   ]
  },
  {
   "cell_type": "code",
   "execution_count": 0,
   "metadata": {
    "application/vnd.databricks.v1+cell": {
     "cellMetadata": {
      "byteLimit": 2048000,
      "rowLimit": 10000
     },
     "inputWidgets": {},
     "nuid": "233e2b6a-df93-4e18-b7b3-2d23e93234af",
     "showTitle": false,
     "title": ""
    }
   },
   "outputs": [
    {
     "output_type": "stream",
     "name": "stdout",
     "output_type": "stream",
     "text": [
      "--2024-05-04 21:55:34--  https://biogeo.ucdavis.edu/data/worldclim/v2.1/base/wc2.1_2.5m_tmax.zip\r\nResolving biogeo.ucdavis.edu (biogeo.ucdavis.edu)... 128.120.228.172\r\nConnecting to biogeo.ucdavis.edu (biogeo.ucdavis.edu)|128.120.228.172|:443... connected.\r\nHTTP request sent, awaiting response... 302 Found\r\nLocation: https://data.biogeo.ucdavis.edu/data/worldclim/v2.1/base/wc2.1_2.5m_tmax.zip [following]\r\n--2024-05-04 21:55:34--  https://data.biogeo.ucdavis.edu/data/worldclim/v2.1/base/wc2.1_2.5m_tmax.zip\r\nResolving data.biogeo.ucdavis.edu (data.biogeo.ucdavis.edu)... 128.120.228.172\r\nConnecting to data.biogeo.ucdavis.edu (data.biogeo.ucdavis.edu)|128.120.228.172|:443... connected.\r\nHTTP request sent, awaiting response... 200 OK\r\nLength: 444356872 (424M) [application/zip]\r\nSaving to: ‘wc2.1_2.5m_tmax.zip.10’\r\n\r\n\rwc2.1_2.5m_tmax.zip   0%[                    ]       0  --.-KB/s               \rwc2.1_2.5m_tmax.zip   0%[                    ] 440.00K  2.02MB/s               \rwc2.1_2.5m_tmax.zip   1%[                    ]   8.27M  20.0MB/s               \rwc2.1_2.5m_tmax.zip   3%[                    ]  15.53M  25.3MB/s               \rwc2.1_2.5m_tmax.zip   5%[>                   ]  22.62M  27.8MB/s               \rwc2.1_2.5m_tmax.zip   7%[>                   ]  29.78M  29.4MB/s               \rwc2.1_2.5m_tmax.zip   8%[>                   ]  36.70M  30.2MB/s               \rwc2.1_2.5m_tmax.zip   9%[>                   ]  41.76M  29.5MB/s               \rwc2.1_2.5m_tmax.zip  11%[=>                  ]  48.99M  30.4MB/s               \rwc2.1_2.5m_tmax.zip  13%[=>                  ]  56.37M  31.1MB/s               \rwc2.1_2.5m_tmax.zip  14%[=>                  ]  62.57M  31.1MB/s               \rwc2.1_2.5m_tmax.zip  16%[==>                 ]  69.41M  31.3MB/s               \rwc2.1_2.5m_tmax.zip  18%[==>                 ]  77.15M  31.9MB/s               \rwc2.1_2.5m_tmax.zip  19%[==>                 ]  84.41M  32.3MB/s               \rwc2.1_2.5m_tmax.zip  21%[===>                ]  90.45M  32.1MB/s               \rwc2.1_2.5m_tmax.zip  22%[===>                ]  97.40M  32.3MB/s    eta 10s    \rwc2.1_2.5m_tmax.zip  24%[===>                ] 104.99M  34.3MB/s    eta 10s    \rwc2.1_2.5m_tmax.zip  26%[====>               ] 111.32M  34.4MB/s    eta 10s    \rwc2.1_2.5m_tmax.zip  27%[====>               ] 117.72M  34.1MB/s    eta 10s    \rwc2.1_2.5m_tmax.zip  29%[====>               ] 124.45M  34.0MB/s    eta 10s    \rwc2.1_2.5m_tmax.zip  31%[=====>              ] 131.68M  34.0MB/s    eta 9s     \rwc2.1_2.5m_tmax.zip  32%[=====>              ] 139.05M  34.1MB/s    eta 9s     \rwc2.1_2.5m_tmax.zip  34%[=====>              ] 146.55M  34.8MB/s    eta 9s     \rwc2.1_2.5m_tmax.zip  36%[======>             ] 153.92M  35.0MB/s    eta 9s     \rwc2.1_2.5m_tmax.zip  37%[======>             ] 160.30M  34.7MB/s    eta 9s     \rwc2.1_2.5m_tmax.zip  39%[======>             ] 167.85M  35.0MB/s    eta 8s     \rwc2.1_2.5m_tmax.zip  41%[=======>            ] 174.27M  34.9MB/s    eta 8s     \rwc2.1_2.5m_tmax.zip  42%[=======>            ] 181.41M  35.0MB/s    eta 8s     \rwc2.1_2.5m_tmax.zip  44%[=======>            ] 187.41M  34.3MB/s    eta 8s     \rwc2.1_2.5m_tmax.zip  45%[========>           ] 194.27M  34.6MB/s    eta 8s     \rwc2.1_2.5m_tmax.zip  47%[========>           ] 201.55M  34.7MB/s    eta 7s     \rwc2.1_2.5m_tmax.zip  49%[========>           ] 209.68M  34.9MB/s    eta 7s     \rwc2.1_2.5m_tmax.zip  51%[=========>          ] 216.63M  34.9MB/s    eta 7s     \rwc2.1_2.5m_tmax.zip  52%[=========>          ] 222.66M  34.8MB/s    eta 7s     \rwc2.1_2.5m_tmax.zip  54%[=========>          ] 229.15M  34.9MB/s    eta 7s     \rwc2.1_2.5m_tmax.zip  55%[==========>         ] 236.37M  34.9MB/s    eta 6s     \rwc2.1_2.5m_tmax.zip  57%[==========>         ] 243.69M  35.0MB/s    eta 6s     \rwc2.1_2.5m_tmax.zip  59%[==========>         ] 250.63M  34.7MB/s    eta 6s     \rwc2.1_2.5m_tmax.zip  60%[===========>        ] 257.53M  34.6MB/s    eta 6s     \rwc2.1_2.5m_tmax.zip  62%[===========>        ] 264.41M  34.5MB/s    eta 6s     \rwc2.1_2.5m_tmax.zip  64%[===========>        ] 271.46M  34.6MB/s    eta 4s     \rwc2.1_2.5m_tmax.zip  65%[============>       ] 277.91M  34.4MB/s    eta 4s     \rwc2.1_2.5m_tmax.zip  67%[============>       ] 284.16M  34.3MB/s    eta 4s     \rwc2.1_2.5m_tmax.zip  68%[============>       ] 291.07M  34.4MB/s    eta 4s     \rwc2.1_2.5m_tmax.zip  70%[=============>      ] 298.98M  34.7MB/s    eta 4s     \rwc2.1_2.5m_tmax.zip  72%[=============>      ] 307.15M  35.1MB/s    eta 3s     \rwc2.1_2.5m_tmax.zip  74%[=============>      ] 315.60M  35.2MB/s    eta 3s     \rwc2.1_2.5m_tmax.zip  76%[==============>     ] 323.27M  35.4MB/s    eta 3s     \rwc2.1_2.5m_tmax.zip  77%[==============>     ] 329.88M  35.2MB/s    eta 3s     \rwc2.1_2.5m_tmax.zip  79%[==============>     ] 337.60M  35.8MB/s    eta 3s     \rwc2.1_2.5m_tmax.zip  81%[===============>    ] 345.80M  36.3MB/s    eta 2s     \rwc2.1_2.5m_tmax.zip  82%[===============>    ] 351.30M  35.7MB/s    eta 2s     \rwc2.1_2.5m_tmax.zip  84%[===============>    ] 358.52M  35.8MB/s    eta 2s     \rwc2.1_2.5m_tmax.zip  86%[================>   ] 366.85M  36.2MB/s    eta 2s     \rwc2.1_2.5m_tmax.zip  88%[================>   ] 373.34M  36.1MB/s    eta 2s     \rwc2.1_2.5m_tmax.zip  90%[=================>  ] 381.83M  36.6MB/s    eta 1s     \rwc2.1_2.5m_tmax.zip  92%[=================>  ] 390.29M  37.2MB/s    eta 1s     \rwc2.1_2.5m_tmax.zip  93%[=================>  ] 396.84M  37.1MB/s    eta 1s     \rwc2.1_2.5m_tmax.zip  95%[==================> ] 403.65M  38.2MB/s    eta 1s     \rwc2.1_2.5m_tmax.zip  97%[==================> ] 411.15M  37.3MB/s    eta 1s     \rwc2.1_2.5m_tmax.zip  98%[==================> ] 419.43M  37.6MB/s    eta 0s     \rwc2.1_2.5m_tmax.zip 100%[===================>] 423.77M  37.5MB/s    in 12s     \r\n\r\n2024-05-04 21:55:46 (34.9 MB/s) - ‘wc2.1_2.5m_tmax.zip.10’ saved [444356872/444356872]\r\n\r\nArchive:  wc2.1_2.5m_tmax.zip.10\r\n  inflating: wc2.1_2.5m_tmax_01.tif  \r\n  inflating: wc2.1_2.5m_tmax_02.tif  \r\n  inflating: wc2.1_2.5m_tmax_03.tif  \r\n  inflating: wc2.1_2.5m_tmax_04.tif  \r\n  inflating: wc2.1_2.5m_tmax_05.tif  \r\n  inflating: wc2.1_2.5m_tmax_06.tif  \r\n  inflating: wc2.1_2.5m_tmax_07.tif  \r\n  inflating: wc2.1_2.5m_tmax_08.tif  \r\n  inflating: wc2.1_2.5m_tmax_09.tif  \r\n  inflating: wc2.1_2.5m_tmax_10.tif  \r\n  inflating: wc2.1_2.5m_tmax_11.tif  \r\n  inflating: wc2.1_2.5m_tmax_12.tif  \r\n"
     ]
    }
   ],
   "source": [
    "!wget https://biogeo.ucdavis.edu/data/worldclim/v2.1/base/wc2.1_2.5m_tmax.zip\n",
    "!unzip -o wc2.1_2.5m_tmax.zip"
   ]
  },
  {
   "cell_type": "code",
   "execution_count": 0,
   "metadata": {
    "application/vnd.databricks.v1+cell": {
     "cellMetadata": {
      "byteLimit": 2048000,
      "rowLimit": 10000
     },
     "inputWidgets": {},
     "nuid": "27f0ef2f-682a-4286-b23d-9e455a9f4026",
     "showTitle": false,
     "title": ""
    }
   },
   "outputs": [
    {
     "output_type": "stream",
     "name": "stdout",
     "output_type": "stream",
     "text": [
      "[2024-05-04 09:56:03 - INFO] - Getting geotransform and data...\r\n[2024-05-04 09:56:04 - INFO] - Getting XYZ data...\r\n[2024-05-04 09:56:06 - INFO] - Getting geotransformed coordinates...\r\n[2024-05-04 09:56:08 - INFO] - Building XYZ data...\r\n[2024-05-04 09:58:45 - INFO] - New XYZ (csv file) created...\r\n"
     ]
    }
   ],
   "source": [
    "!raster2xyz wc2.1_2.5m_tmax_01.tif wc2.1_2.5m_tmax_01.csv"
   ]
  },
  {
   "cell_type": "code",
   "execution_count": 0,
   "metadata": {
    "application/vnd.databricks.v1+cell": {
     "cellMetadata": {
      "byteLimit": 2048000,
      "rowLimit": 10000
     },
     "inputWidgets": {},
     "nuid": "f63980e4-d74e-4906-a535-7e8938e85032",
     "showTitle": false,
     "title": ""
    }
   },
   "outputs": [
    {
     "output_type": "stream",
     "name": "stdout",
     "output_type": "stream",
     "text": [
      "Out[48]: True"
     ]
    }
   ],
   "source": [
    "dbutils.fs.cp(\"file:/databricks/driver/wc2.1_2.5m_tmax_01.csv\", \"dbfs:/FileStore/tables/wc2.1_2.5m_tmax_01.csv\")"
   ]
  },
  {
   "cell_type": "code",
   "execution_count": 0,
   "metadata": {
    "application/vnd.databricks.v1+cell": {
     "cellMetadata": {
      "byteLimit": 2048000,
      "rowLimit": 10000
     },
     "inputWidgets": {},
     "nuid": "56a2f4e6-a38a-4075-bdc4-cb21323b9dea",
     "showTitle": false,
     "title": ""
    }
   },
   "outputs": [],
   "source": [
    "arquivo='dbfs:/FileStore/tables/wc2.1_2.5m_tmax_01.csv'\n"
   ]
  },
  {
   "cell_type": "code",
   "execution_count": 0,
   "metadata": {
    "application/vnd.databricks.v1+cell": {
     "cellMetadata": {
      "byteLimit": 2048000,
      "rowLimit": 10000
     },
     "inputWidgets": {},
     "nuid": "c94db72a-8f6a-4f72-a6d4-98f1479a29c4",
     "showTitle": false,
     "title": ""
    }
   },
   "outputs": [
    {
     "output_type": "stream",
     "name": "stdout",
     "output_type": "stream",
     "text": [
      "Número de partições -> 11\n"
     ]
    }
   ],
   "source": [
    "partitions(arquivo)"
   ]
  },
  {
   "cell_type": "code",
   "execution_count": 0,
   "metadata": {
    "application/vnd.databricks.v1+cell": {
     "cellMetadata": {
      "byteLimit": 2048000,
      "rowLimit": 10000
     },
     "inputWidgets": {},
     "nuid": "8669a666-fe66-4b8a-afa8-2a9b0d986894",
     "showTitle": false,
     "title": ""
    }
   },
   "outputs": [
    {
     "output_type": "stream",
     "name": "stdout",
     "output_type": "stream",
     "text": [
      "CPU times: user 22.8 ms, sys: 11 ms, total: 33.8 ms\nWall time: 1min 2s\nCPU times: user 30.5 ms, sys: 6.08 ms, total: 36.6 ms\nWall time: 59.7 s\nCPU times: user 27.8 ms, sys: 7.25 ms, total: 35.1 ms\nWall time: 1min 1s\nCPU times: user 24.3 ms, sys: 14.5 ms, total: 38.8 ms\nWall time: 59.8 s\nCPU times: user 29.1 ms, sys: 5.04 ms, total: 34.1 ms\nWall time: 59.7 s\nCPU times: user 23.2 ms, sys: 13.5 ms, total: 36.8 ms\nWall time: 1min 3s\nCPU times: user 17.8 ms, sys: 16.4 ms, total: 34.3 ms\nWall time: 1min\nCPU times: user 24.8 ms, sys: 8.19 ms, total: 33 ms\nWall time: 1min\nCPU times: user 24.5 ms, sys: 8.95 ms, total: 33.5 ms\nWall time: 1min 1s\nCPU times: user 26.2 ms, sys: 11 ms, total: 37.2 ms\nWall time: 1min 1s\nCPU times: user 18.6 ms, sys: 15 ms, total: 33.6 ms\nWall time: 1min\nCPU times: user 17.2 ms, sys: 16.3 ms, total: 33.5 ms\nWall time: 1min\nCPU times: user 18.7 ms, sys: 20 ms, total: 38.7 ms\nWall time: 1min\nCPU times: user 21.2 ms, sys: 14.9 ms, total: 36 ms\nWall time: 59.9 s\nCPU times: user 12.8 ms, sys: 25.2 ms, total: 37.9 ms\nWall time: 1min 2s\nCPU times: user 24.3 ms, sys: 17.1 ms, total: 41.4 ms\nWall time: 1min 1s\nCPU times: user 26.9 ms, sys: 9.49 ms, total: 36.4 ms\nWall time: 1min 3s\nCPU times: user 17.9 ms, sys: 17.4 ms, total: 35.3 ms\nWall time: 1min\nCPU times: user 24.3 ms, sys: 9.81 ms, total: 34.1 ms\nWall time: 1min\nCPU times: user 26.5 ms, sys: 7.97 ms, total: 34.5 ms\nWall time: 59.9 s\nCPU times: user 13.5 ms, sys: 20.2 ms, total: 33.7 ms\nWall time: 59.5 s\nCPU times: user 19.3 ms, sys: 16.4 ms, total: 35.7 ms\nWall time: 59.5 s\nCPU times: user 19 ms, sys: 15.9 ms, total: 35 ms\nWall time: 1min\nCPU times: user 28.1 ms, sys: 8.37 ms, total: 36.5 ms\nWall time: 1min\nCPU times: user 21.7 ms, sys: 11.9 ms, total: 33.6 ms\nWall time: 59.4 s\nCPU times: user 20.8 ms, sys: 12.3 ms, total: 33.1 ms\nWall time: 58.8 s\nCPU times: user 18.7 ms, sys: 16.7 ms, total: 35.4 ms\nWall time: 1min 1s\nCPU times: user 11.9 ms, sys: 23.4 ms, total: 35.3 ms\nWall time: 58.9 s\nCPU times: user 28.8 ms, sys: 13.9 ms, total: 42.8 ms\nWall time: 1min 1s\nCPU times: user 24.2 ms, sys: 13 ms, total: 37.3 ms\nWall time: 1min 1s\nCPU times: user 16 ms, sys: 17.1 ms, total: 33.1 ms\nWall time: 1min 1s\nCPU times: user 26.1 ms, sys: 7.13 ms, total: 33.2 ms\nWall time: 1min\n"
     ]
    }
   ],
   "source": [
    "for i in range(1,33):\n",
    " %time benchmark(arquivo)"
   ]
  },
  {
   "cell_type": "markdown",
   "metadata": {
    "application/vnd.databricks.v1+cell": {
     "cellMetadata": {
      "byteLimit": 2048000,
      "rowLimit": 10000
     },
     "inputWidgets": {},
     "nuid": "526e2ce4-c4d3-4add-87e8-088af3adfcd1",
     "showTitle": false,
     "title": ""
    }
   },
   "source": [
    "##30 segundos"
   ]
  },
  {
   "cell_type": "code",
   "execution_count": 0,
   "metadata": {
    "application/vnd.databricks.v1+cell": {
     "cellMetadata": {
      "byteLimit": 2048000,
      "rowLimit": 10000
     },
     "inputWidgets": {},
     "nuid": "4c51390b-cf87-47e9-bb19-97ed7b708479",
     "showTitle": false,
     "title": ""
    }
   },
   "outputs": [
    {
     "output_type": "display_data",
     "data": {
      "text/plain": [
       ""
      ]
     },
     "metadata": {
      "application/vnd.databricks.v1+output": {
       "arguments": {},
       "data": "",
       "errorSummary": "Command skipped",
       "errorTraceType": "ansi",
       "metadata": {},
       "type": "ipynbError"
      }
     },
     "output_type": "display_data"
    }
   ],
   "source": [
    "!wget https://biogeo.ucdavis.edu/data/worldclim/v2.1/base/wc2.1_30s_tmax.zip\n",
    "!unzip -o wc2.1_30s_tmax.zip"
   ]
  },
  {
   "cell_type": "code",
   "execution_count": 0,
   "metadata": {
    "application/vnd.databricks.v1+cell": {
     "cellMetadata": {
      "byteLimit": 2048000,
      "rowLimit": 10000
     },
     "inputWidgets": {},
     "nuid": "41caf4b1-e284-49a6-8fa2-d88864ba6955",
     "showTitle": false,
     "title": ""
    }
   },
   "outputs": [
    {
     "output_type": "display_data",
     "data": {
      "text/plain": [
       ""
      ]
     },
     "metadata": {
      "application/vnd.databricks.v1+output": {
       "arguments": {},
       "data": "",
       "errorSummary": "Command skipped",
       "errorTraceType": "ansi",
       "metadata": {},
       "type": "ipynbError"
      }
     },
     "output_type": "display_data"
    }
   ],
   "source": [
    "#arquivo mt grande raster não conseguiu rodar\n",
    "!raster2xyz wc2.1_30s_prec_01.tif wc2.1_30s_prec_01.csv"
   ]
  }
 ],
 "metadata": {
  "application/vnd.databricks.v1+notebook": {
   "dashboards": [],
   "language": "python",
   "notebookMetadata": {
    "mostRecentlyExecutedCommandWithImplicitDF": {
     "commandId": 481826010821538,
     "dataframes": [
      "_sqldf"
     ]
    },
    "pythonIndentUnit": 4
   },
   "notebookName": "worldclim_databricks_max",
   "widgets": {}
  }
 },
 "nbformat": 4,
 "nbformat_minor": 0
}
