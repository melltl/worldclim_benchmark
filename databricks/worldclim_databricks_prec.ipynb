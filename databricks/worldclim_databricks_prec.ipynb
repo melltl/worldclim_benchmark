{
 "cells": [
  {
   "cell_type": "code",
   "execution_count": 0,
   "metadata": {
    "application/vnd.databricks.v1+cell": {
     "cellMetadata": {
      "byteLimit": 2048000,
      "rowLimit": 10000
     },
     "inputWidgets": {},
     "nuid": "471e190e-8858-43f7-aa0c-0d3f1413d43a",
     "showTitle": false,
     "title": ""
    }
   },
   "outputs": [
    {
     "output_type": "stream",
     "name": "stdout",
     "output_type": "stream",
     "text": [
      "Requirement already satisfied: pip in /local_disk0/.ephemeral_nfs/envs/pythonEnv-bf59be75-bcfd-4b1b-851c-a37269a1a29f/lib/python3.9/site-packages (21.2.4)\r\nCollecting pip\r\n  Using cached pip-24.0-py3-none-any.whl (2.1 MB)\r\nInstalling collected packages: pip\r\n  Attempting uninstall: pip\r\n    Found existing installation: pip 21.2.4\r\n    Uninstalling pip-21.2.4:\r\n      Successfully uninstalled pip-21.2.4\r\nSuccessfully installed pip-24.0\r\n"
     ]
    }
   ],
   "source": [
    "!pip install --upgrade pip"
   ]
  },
  {
   "cell_type": "markdown",
   "metadata": {
    "application/vnd.databricks.v1+cell": {
     "cellMetadata": {
      "byteLimit": 2048000,
      "rowLimit": 10000
     },
     "inputWidgets": {},
     "nuid": "d898ba85-8013-4efb-906b-439a2a5d0f44",
     "showTitle": false,
     "title": ""
    }
   },
   "source": [
    "Instalando o gdal manualmente"
   ]
  },
  {
   "cell_type": "code",
   "execution_count": 0,
   "metadata": {
    "application/vnd.databricks.v1+cell": {
     "cellMetadata": {
      "byteLimit": 2048000,
      "rowLimit": 10000
     },
     "inputWidgets": {},
     "nuid": "8edb3e3b-3738-4f5a-b79a-375dc15ee768",
     "showTitle": false,
     "title": ""
    }
   },
   "outputs": [
    {
     "output_type": "stream",
     "name": "stdout",
     "output_type": "stream",
     "text": [
      "Hit:1 https://repos.azul.com/zulu/deb stable InRelease\nHit:2 http://archive.ubuntu.com/ubuntu focal InRelease\nGet:3 http://archive.ubuntu.com/ubuntu focal-updates InRelease [114 kB]\nHit:4 http://security.ubuntu.com/ubuntu focal-security InRelease\nHit:5 http://archive.ubuntu.com/ubuntu focal-backports InRelease\nFetched 114 kB in 1s (157 kB/s)\nReading package lists...\nReading package lists...\nBuilding dependency tree...\nReading state information...\ngdal-bin is already the newest version (3.0.4+dfsg-1build3).\nlibgdal-dev is already the newest version (3.0.4+dfsg-1build3).\n0 upgraded, 0 newly installed, 0 to remove and 71 not upgraded.\nReading package lists...\nBuilding dependency tree...\nReading state information...\nlibproj-dev is already the newest version (6.3.1-1).\n0 upgraded, 0 newly installed, 0 to remove and 71 not upgraded.\n"
     ]
    }
   ],
   "source": [
    "%sh\n",
    "#!/bin/bash\n",
    "sudo apt-get update\n",
    "# Isso instala o gdal na máquina\n",
    "sudo apt-get install -y gdal-bin libgdal-dev\n",
    "sudo apt-get install -y libproj-dev"
   ]
  },
  {
   "cell_type": "markdown",
   "metadata": {
    "application/vnd.databricks.v1+cell": {
     "cellMetadata": {
      "byteLimit": 2048000,
      "rowLimit": 10000
     },
     "inputWidgets": {},
     "nuid": "18e14542-4d73-4a4d-94a4-711fed8562ad",
     "showTitle": false,
     "title": ""
    }
   },
   "source": [
    "os arquivos precisam estar com os nomes corretos"
   ]
  },
  {
   "cell_type": "code",
   "execution_count": 0,
   "metadata": {
    "application/vnd.databricks.v1+cell": {
     "cellMetadata": {
      "byteLimit": 2048000,
      "rowLimit": 10000
     },
     "inputWidgets": {},
     "nuid": "a36ca8dd-a6a6-4304-8ed2-cf8ec09cf8d4",
     "showTitle": false,
     "title": ""
    }
   },
   "outputs": [
    {
     "output_type": "stream",
     "name": "stdout",
     "output_type": "stream",
     "text": [
      "mv: cannot stat '_gdal.cpython-38-x86_64-linux-gnu.so': No such file or directory\nmv: cannot stat '_gdalconst.cpython-38-x86_64-linux-gnu.so': No such file or directory\nmv: cannot stat '_ogr.cpython-38-x86_64-linux-gnu.so': No such file or directory\nmv: cannot stat '_osr.cpython-38-x86_64-linux-gnu.so': No such file or directory\nmv: cannot stat '_gdal_array.cpython-38-x86_64-linux-gnu.so': No such file or directory\n__init__.py\n__pycache__\n_gdal.so\n_gdal_array.so\n_gdalconst.so\n_gnm.cpython-38-x86_64-linux-gnu.so\n_ogr.so\n_osr.so\ngdal.py\ngdal_array.py\ngdalconst.py\ngdalnumeric.py\ngnm.py\nogr.py\nosr.py\n"
     ]
    }
   ],
   "source": [
    "%sh\n",
    "cd /usr/lib/python3/dist-packages/osgeo\n",
    "mv _gdal.cpython-38-x86_64-linux-gnu.so _gdal.so\n",
    "mv _gdalconst.cpython-38-x86_64-linux-gnu.so _gdalconst.so\n",
    "mv _ogr.cpython-38-x86_64-linux-gnu.so _ogr.so\n",
    "mv _osr.cpython-38-x86_64-linux-gnu.so _osr.so\n",
    "mv _gdal_array.cpython-38-x86_64-linux-gnu.so _gdal_array.so\n",
    "ls /usr/lib/python3/dist-packages/osgeo"
   ]
  },
  {
   "cell_type": "markdown",
   "metadata": {
    "application/vnd.databricks.v1+cell": {
     "cellMetadata": {
      "byteLimit": 2048000,
      "rowLimit": 10000
     },
     "inputWidgets": {},
     "nuid": "b1642662-e870-4ccc-9699-93fa77a04dc7",
     "showTitle": false,
     "title": ""
    }
   },
   "source": [
    "Bibliotecas"
   ]
  },
  {
   "cell_type": "code",
   "execution_count": 0,
   "metadata": {
    "application/vnd.databricks.v1+cell": {
     "cellMetadata": {
      "byteLimit": 2048000,
      "rowLimit": 10000
     },
     "inputWidgets": {},
     "nuid": "5994f276-71d5-4dca-aac6-409918152afa",
     "showTitle": false,
     "title": ""
    }
   },
   "outputs": [],
   "source": [
    "from pyspark.sql import SparkSession\n",
    "import os"
   ]
  },
  {
   "cell_type": "code",
   "execution_count": 0,
   "metadata": {
    "application/vnd.databricks.v1+cell": {
     "cellMetadata": {
      "byteLimit": 2048000,
      "rowLimit": 10000
     },
     "inputWidgets": {},
     "nuid": "ae56969d-30dc-4784-80e9-36abe0422eac",
     "showTitle": false,
     "title": ""
    }
   },
   "outputs": [
    {
     "output_type": "stream",
     "name": "stdout",
     "output_type": "stream",
     "text": [
      "Collecting pyspark\r\n  Using cached pyspark-3.5.1-py2.py3-none-any.whl\r\nCollecting raster2xyz\r\n  Using cached raster2xyz-0.1.3-py3-none-any.whl\r\nCollecting py4j==0.10.9.7 (from pyspark)\r\n  Using cached py4j-0.10.9.7-py2.py3-none-any.whl.metadata (1.5 kB)\r\nRequirement already satisfied: numpy in /databricks/python3/lib/python3.9/site-packages (from raster2xyz) (1.21.5)\r\nRequirement already satisfied: pandas in /databricks/python3/lib/python3.9/site-packages (from raster2xyz) (1.4.2)\r\nRequirement already satisfied: GDAL in /usr/lib/python3/dist-packages (from raster2xyz) (3.0.4)\r\nRequirement already satisfied: python-dateutil>=2.8.1 in /databricks/python3/lib/python3.9/site-packages (from pandas->raster2xyz) (2.8.2)\r\nRequirement already satisfied: pytz>=2020.1 in /databricks/python3/lib/python3.9/site-packages (from pandas->raster2xyz) (2021.3)\r\nRequirement already satisfied: six>=1.5 in /databricks/python3/lib/python3.9/site-packages (from python-dateutil>=2.8.1->pandas->raster2xyz) (1.16.0)\r\nUsing cached py4j-0.10.9.7-py2.py3-none-any.whl (200 kB)\r\nInstalling collected packages: py4j, pyspark, raster2xyz\r\nSuccessfully installed py4j-0.10.9.7 pyspark-3.5.1 raster2xyz-0.1.3\r\n"
     ]
    }
   ],
   "source": [
    "!pip install pyspark raster2xyz"
   ]
  },
  {
   "cell_type": "markdown",
   "metadata": {
    "application/vnd.databricks.v1+cell": {
     "cellMetadata": {
      "byteLimit": 2048000,
      "rowLimit": 10000
     },
     "inputWidgets": {},
     "nuid": "20372dd0-71f9-4285-8c29-b581e5a73aa7",
     "showTitle": false,
     "title": ""
    }
   },
   "source": [
    "Iniciando sessão spark"
   ]
  },
  {
   "cell_type": "code",
   "execution_count": 0,
   "metadata": {
    "application/vnd.databricks.v1+cell": {
     "cellMetadata": {
      "byteLimit": 2048000,
      "rowLimit": 10000
     },
     "inputWidgets": {},
     "nuid": "8170d3f4-e094-440a-82fc-cd558c55d902",
     "showTitle": false,
     "title": ""
    }
   },
   "outputs": [],
   "source": [
    "spark=SparkSession.builder \\\n",
    "    .master('local[*]') \\\n",
    "    .getOrCreate()"
   ]
  },
  {
   "cell_type": "markdown",
   "metadata": {
    "application/vnd.databricks.v1+cell": {
     "cellMetadata": {
      "byteLimit": 2048000,
      "rowLimit": 10000
     },
     "inputWidgets": {},
     "nuid": "32a7c84f-22fd-4d29-a636-7e57c433318f",
     "showTitle": false,
     "title": ""
    }
   },
   "source": [
    "Função para avaliar o benchmark"
   ]
  },
  {
   "cell_type": "code",
   "execution_count": 0,
   "metadata": {
    "application/vnd.databricks.v1+cell": {
     "cellMetadata": {
      "byteLimit": 2048000,
      "rowLimit": 10000
     },
     "inputWidgets": {},
     "nuid": "a966e325-3011-446c-adb8-36a8b0150568",
     "showTitle": false,
     "title": ""
    }
   },
   "outputs": [],
   "source": [
    "def benchmark(arquivo):\n",
    "    df = spark.read.format(\"csv\").option(\"header\", True).load(arquivo)\n",
    "    df.write.format(\"noop\").mode(\"overwrite\").save()"
   ]
  },
  {
   "cell_type": "code",
   "execution_count": 0,
   "metadata": {
    "application/vnd.databricks.v1+cell": {
     "cellMetadata": {
      "byteLimit": 2048000,
      "rowLimit": 10000
     },
     "inputWidgets": {},
     "nuid": "918e4f8b-8baa-4d51-b1d9-b38c4912f4a3",
     "showTitle": false,
     "title": ""
    }
   },
   "outputs": [],
   "source": [
    "def partitions(arquivo):\n",
    "  df = spark.read.format(\"csv\").option(\"header\", True).load(arquivo)\n",
    "  print(f\"Número de partições -> {df.rdd.getNumPartitions()}\")"
   ]
  },
  {
   "cell_type": "markdown",
   "metadata": {
    "application/vnd.databricks.v1+cell": {
     "cellMetadata": {
      "byteLimit": 2048000,
      "rowLimit": 10000
     },
     "inputWidgets": {},
     "nuid": "081536b8-beb4-40b1-b611-82063f28fa07",
     "showTitle": false,
     "title": ""
    }
   },
   "source": [
    "#Precipitação"
   ]
  },
  {
   "cell_type": "markdown",
   "metadata": {
    "application/vnd.databricks.v1+cell": {
     "cellMetadata": {
      "byteLimit": 2048000,
      "rowLimit": 10000
     },
     "inputWidgets": {},
     "nuid": "5aece3b7-2274-46e2-9617-eda29ba71461",
     "showTitle": false,
     "title": ""
    }
   },
   "source": [
    "##Precipitação de 10 minutos"
   ]
  },
  {
   "cell_type": "code",
   "execution_count": 0,
   "metadata": {
    "application/vnd.databricks.v1+cell": {
     "cellMetadata": {
      "byteLimit": 2048000,
      "rowLimit": 10000
     },
     "inputWidgets": {},
     "nuid": "1234431c-cec1-4845-9852-d4934eb1277b",
     "showTitle": false,
     "title": ""
    }
   },
   "outputs": [
    {
     "output_type": "stream",
     "name": "stdout",
     "output_type": "stream",
     "text": [
      "--2024-05-04 22:33:51--  https://biogeo.ucdavis.edu/data/worldclim/v2.1/base/wc2.1_10m_prec.zip\r\nResolving biogeo.ucdavis.edu (biogeo.ucdavis.edu)... 128.120.228.172\r\nConnecting to biogeo.ucdavis.edu (biogeo.ucdavis.edu)|128.120.228.172|:443... connected.\r\nHTTP request sent, awaiting response... 302 Found\r\nLocation: https://data.biogeo.ucdavis.edu/data/worldclim/v2.1/base/wc2.1_10m_prec.zip [following]\r\n--2024-05-04 22:33:51--  https://data.biogeo.ucdavis.edu/data/worldclim/v2.1/base/wc2.1_10m_prec.zip\r\nResolving data.biogeo.ucdavis.edu (data.biogeo.ucdavis.edu)... 128.120.228.172\r\nConnecting to data.biogeo.ucdavis.edu (data.biogeo.ucdavis.edu)|128.120.228.172|:443... connected.\r\nHTTP request sent, awaiting response... 200 OK\r\nLength: 7258539 (6.9M) [application/zip]\r\nSaving to: ‘wc2.1_10m_prec.zip’\r\n\r\n\rwc2.1_10m_prec.zip    0%[                    ]       0  --.-KB/s               \rwc2.1_10m_prec.zip   20%[===>                ]   1.45M  6.74MB/s               \rwc2.1_10m_prec.zip  100%[===================>]   6.92M  19.8MB/s    in 0.3s    \r\n\r\n2024-05-04 22:33:51 (19.8 MB/s) - ‘wc2.1_10m_prec.zip’ saved [7258539/7258539]\r\n\r\nArchive:  wc2.1_10m_prec.zip\r\n  inflating: wc2.1_10m_prec_01.tif   \r\n  inflating: wc2.1_10m_prec_02.tif   \r\n  inflating: wc2.1_10m_prec_03.tif   \r\n  inflating: wc2.1_10m_prec_04.tif   \r\n  inflating: wc2.1_10m_prec_05.tif   \r\n  inflating: wc2.1_10m_prec_06.tif   \r\n  inflating: wc2.1_10m_prec_07.tif   \r\n  inflating: wc2.1_10m_prec_08.tif   \r\n  inflating: wc2.1_10m_prec_09.tif   \r\n  inflating: wc2.1_10m_prec_10.tif   \r\n  inflating: wc2.1_10m_prec_11.tif   \r\n  inflating: wc2.1_10m_prec_12.tif   \r\n  inflating: readme.txt              \r\n"
     ]
    }
   ],
   "source": [
    "!wget https://biogeo.ucdavis.edu/data/worldclim/v2.1/base/wc2.1_10m_prec.zip\n",
    "!unzip -o wc2.1_10m_prec.zip"
   ]
  },
  {
   "cell_type": "code",
   "execution_count": 0,
   "metadata": {
    "application/vnd.databricks.v1+cell": {
     "cellMetadata": {
      "byteLimit": 2048000,
      "rowLimit": 10000
     },
     "inputWidgets": {},
     "nuid": "ea5c24a2-ab60-4bd0-9d8a-99dc8d3af8a8",
     "showTitle": false,
     "title": ""
    }
   },
   "outputs": [
    {
     "output_type": "stream",
     "name": "stdout",
     "output_type": "stream",
     "text": [
      "[2024-05-04 10:33:54 - INFO] - Getting geotransform and data...\r\n[2024-05-04 10:33:54 - INFO] - Getting XYZ data...\r\n[2024-05-04 10:33:54 - INFO] - Getting geotransformed coordinates...\r\n[2024-05-04 10:33:54 - INFO] - Building XYZ data...\r\n[2024-05-04 10:34:02 - INFO] - New XYZ (csv file) created...\r\n"
     ]
    }
   ],
   "source": [
    "!raster2xyz wc2.1_10m_prec_01.tif wc2.1_10m_prec_01.csv"
   ]
  },
  {
   "cell_type": "markdown",
   "metadata": {
    "application/vnd.databricks.v1+cell": {
     "cellMetadata": {
      "byteLimit": 2048000,
      "rowLimit": 10000
     },
     "inputWidgets": {},
     "nuid": "1e5a40bf-9b4e-46c8-b714-7ba0f40e14a5",
     "showTitle": false,
     "title": ""
    }
   },
   "source": [
    "Os arquivos são salvos no cluster então é necessário movê-los para o dbfs"
   ]
  },
  {
   "cell_type": "code",
   "execution_count": 0,
   "metadata": {
    "application/vnd.databricks.v1+cell": {
     "cellMetadata": {
      "byteLimit": 2048000,
      "rowLimit": 10000
     },
     "inputWidgets": {},
     "nuid": "17eeb244-f629-4d4b-bf9b-7bf552a4b726",
     "showTitle": false,
     "title": ""
    }
   },
   "outputs": [
    {
     "output_type": "stream",
     "name": "stdout",
     "output_type": "stream",
     "text": [
      "Out[12]: True"
     ]
    }
   ],
   "source": [
    "dbutils.fs.cp(\"file:/databricks/driver/wc2.1_10m_prec_01.tif\", \"dbfs:/FileStore/tables/wc2.1_10m_prec_01.tif\")"
   ]
  },
  {
   "cell_type": "code",
   "execution_count": 0,
   "metadata": {
    "application/vnd.databricks.v1+cell": {
     "cellMetadata": {
      "byteLimit": 2048000,
      "rowLimit": 10000
     },
     "inputWidgets": {},
     "nuid": "720d0f4b-8207-4814-a9db-937729d646a0",
     "showTitle": false,
     "title": ""
    }
   },
   "outputs": [
    {
     "output_type": "stream",
     "name": "stdout",
     "output_type": "stream",
     "text": [
      "Out[13]: True"
     ]
    }
   ],
   "source": [
    "dbutils.fs.cp(\"file:/databricks/driver/wc2.1_10m_prec_01.csv\", \"dbfs:/FileStore/tables/wc2.1_10m_prec_01.csv\")"
   ]
  },
  {
   "cell_type": "markdown",
   "metadata": {
    "application/vnd.databricks.v1+cell": {
     "cellMetadata": {
      "byteLimit": 2048000,
      "rowLimit": 10000
     },
     "inputWidgets": {},
     "nuid": "ad028bf5-adbf-482e-8192-dc0fee06a5a8",
     "showTitle": false,
     "title": ""
    }
   },
   "source": [
    "Testando o benchmark"
   ]
  },
  {
   "cell_type": "code",
   "execution_count": 0,
   "metadata": {
    "application/vnd.databricks.v1+cell": {
     "cellMetadata": {
      "byteLimit": 2048000,
      "rowLimit": 10000
     },
     "inputWidgets": {},
     "nuid": "8d8c92a4-3db9-4278-b06c-5f4f79d33270",
     "showTitle": false,
     "title": ""
    }
   },
   "outputs": [],
   "source": [
    "arquivo='dbfs:/FileStore/tables/wc2.1_10m_prec_01.csv'"
   ]
  },
  {
   "cell_type": "code",
   "execution_count": 0,
   "metadata": {
    "application/vnd.databricks.v1+cell": {
     "cellMetadata": {
      "byteLimit": 2048000,
      "rowLimit": 10000
     },
     "inputWidgets": {},
     "nuid": "bcd0d4e7-890b-4fd7-bfc6-e0ac61298641",
     "showTitle": false,
     "title": ""
    }
   },
   "outputs": [
    {
     "output_type": "stream",
     "name": "stdout",
     "output_type": "stream",
     "text": [
      "Número de partições -> 8\n"
     ]
    }
   ],
   "source": [
    "partitions(arquivo)"
   ]
  },
  {
   "cell_type": "code",
   "execution_count": 0,
   "metadata": {
    "application/vnd.databricks.v1+cell": {
     "cellMetadata": {
      "byteLimit": 2048000,
      "rowLimit": 10000
     },
     "inputWidgets": {},
     "nuid": "77684c6c-f244-4756-892b-bffc78b01561",
     "showTitle": false,
     "title": ""
    }
   },
   "outputs": [
    {
     "output_type": "stream",
     "name": "stdout",
     "output_type": "stream",
     "text": [
      "CPU times: user 6.23 ms, sys: 374 µs, total: 6.6 ms\nWall time: 4.87 s\nCPU times: user 5.97 ms, sys: 2.35 ms, total: 8.33 ms\nWall time: 4.73 s\nCPU times: user 4.74 ms, sys: 4.03 ms, total: 8.77 ms\nWall time: 4.7 s\nCPU times: user 9.03 ms, sys: 0 ns, total: 9.03 ms\nWall time: 5.05 s\nCPU times: user 8.62 ms, sys: 0 ns, total: 8.62 ms\nWall time: 4.97 s\nCPU times: user 12.1 ms, sys: 118 µs, total: 12.2 ms\nWall time: 4.83 s\nCPU times: user 8.5 ms, sys: 119 µs, total: 8.62 ms\nWall time: 5.05 s\nCPU times: user 9.47 ms, sys: 271 µs, total: 9.74 ms\nWall time: 5.05 s\nCPU times: user 6.1 ms, sys: 2.41 ms, total: 8.51 ms\nWall time: 4.99 s\nCPU times: user 6.76 ms, sys: 1.08 ms, total: 7.84 ms\nWall time: 5.1 s\nCPU times: user 7.79 ms, sys: 622 µs, total: 8.41 ms\nWall time: 5.19 s\nCPU times: user 3.64 ms, sys: 4.48 ms, total: 8.12 ms\nWall time: 5.09 s\nCPU times: user 8.95 ms, sys: 0 ns, total: 8.95 ms\nWall time: 4.83 s\nCPU times: user 4.43 ms, sys: 3.79 ms, total: 8.22 ms\nWall time: 5.02 s\nCPU times: user 7.34 ms, sys: 1.19 ms, total: 8.52 ms\nWall time: 4.8 s\nCPU times: user 832 µs, sys: 7.33 ms, total: 8.16 ms\nWall time: 4.74 s\nCPU times: user 7.61 ms, sys: 278 µs, total: 7.88 ms\nWall time: 4.82 s\nCPU times: user 4.57 ms, sys: 3.81 ms, total: 8.39 ms\nWall time: 4.77 s\nCPU times: user 11.1 ms, sys: 5.1 ms, total: 16.2 ms\nWall time: 5.35 s\nCPU times: user 8.54 ms, sys: 118 µs, total: 8.66 ms\nWall time: 4.83 s\nCPU times: user 8.35 ms, sys: 0 ns, total: 8.35 ms\nWall time: 4.86 s\nCPU times: user 8.55 ms, sys: 0 ns, total: 8.55 ms\nWall time: 4.96 s\nCPU times: user 4.92 ms, sys: 3.26 ms, total: 8.18 ms\nWall time: 4.9 s\nCPU times: user 6.08 ms, sys: 2.99 ms, total: 9.07 ms\nWall time: 5.14 s\nCPU times: user 4.93 ms, sys: 4.11 ms, total: 9.04 ms\nWall time: 4.89 s\nCPU times: user 7.88 ms, sys: 0 ns, total: 7.88 ms\nWall time: 4.8 s\nCPU times: user 8.09 ms, sys: 168 µs, total: 8.26 ms\nWall time: 5.18 s\nCPU times: user 4.51 ms, sys: 3.37 ms, total: 7.88 ms\nWall time: 4.87 s\nCPU times: user 7.97 ms, sys: 673 µs, total: 8.65 ms\nWall time: 4.91 s\nCPU times: user 6.59 ms, sys: 2.55 ms, total: 9.14 ms\nWall time: 4.74 s\nCPU times: user 8.22 ms, sys: 6.41 ms, total: 14.6 ms\nWall time: 4.86 s\nCPU times: user 7.45 ms, sys: 66 µs, total: 7.52 ms\nWall time: 4.92 s\n"
     ]
    }
   ],
   "source": [
    "for i in range(1,33):\n",
    " %time benchmark(arquivo)"
   ]
  },
  {
   "cell_type": "markdown",
   "metadata": {
    "application/vnd.databricks.v1+cell": {
     "cellMetadata": {
      "byteLimit": 2048000,
      "rowLimit": 10000
     },
     "inputWidgets": {},
     "nuid": "76a3de18-f993-4f99-a95c-bf53b65ddd43",
     "showTitle": false,
     "title": ""
    }
   },
   "source": [
    "##Precipitação 5 minutos"
   ]
  },
  {
   "cell_type": "code",
   "execution_count": 0,
   "metadata": {
    "application/vnd.databricks.v1+cell": {
     "cellMetadata": {
      "byteLimit": 2048000,
      "rowLimit": 10000
     },
     "inputWidgets": {},
     "nuid": "0cc9ceb8-99ae-40a7-ae52-8e3a09a3e3c3",
     "showTitle": false,
     "title": ""
    }
   },
   "outputs": [
    {
     "output_type": "stream",
     "name": "stdout",
     "output_type": "stream",
     "text": [
      "--2024-05-04 22:36:48--  https://biogeo.ucdavis.edu/data/worldclim/v2.1/base/wc2.1_5m_prec.zip\r\nResolving biogeo.ucdavis.edu (biogeo.ucdavis.edu)... 128.120.228.172\r\nConnecting to biogeo.ucdavis.edu (biogeo.ucdavis.edu)|128.120.228.172|:443... connected.\r\nHTTP request sent, awaiting response... 302 Found\r\nLocation: https://data.biogeo.ucdavis.edu/data/worldclim/v2.1/base/wc2.1_5m_prec.zip [following]\r\n--2024-05-04 22:36:49--  https://data.biogeo.ucdavis.edu/data/worldclim/v2.1/base/wc2.1_5m_prec.zip\r\nResolving data.biogeo.ucdavis.edu (data.biogeo.ucdavis.edu)... 128.120.228.172\r\nConnecting to data.biogeo.ucdavis.edu (data.biogeo.ucdavis.edu)|128.120.228.172|:443... connected.\r\nHTTP request sent, awaiting response... 200 OK\r\nLength: 22696275 (22M) [application/zip]\r\nSaving to: ‘wc2.1_5m_prec.zip’\r\n\r\n\rwc2.1_5m_prec.zip     0%[                    ]       0  --.-KB/s               \rwc2.1_5m_prec.zip    11%[=>                  ]   2.46M  12.3MB/s               \rwc2.1_5m_prec.zip    47%[========>           ]  10.26M  25.6MB/s               \rwc2.1_5m_prec.zip    83%[===============>    ]  18.01M  30.0MB/s               \rwc2.1_5m_prec.zip   100%[===================>]  21.64M  30.3MB/s    in 0.7s    \r\n\r\n2024-05-04 22:36:49 (30.3 MB/s) - ‘wc2.1_5m_prec.zip’ saved [22696275/22696275]\r\n\r\nArchive:  wc2.1_5m_prec.zip\r\n  inflating: wc2.1_5m_prec_01.tif    \r\n  inflating: wc2.1_5m_prec_02.tif    \r\n  inflating: wc2.1_5m_prec_03.tif    \r\n  inflating: wc2.1_5m_prec_04.tif    \r\n  inflating: wc2.1_5m_prec_05.tif    \r\n  inflating: wc2.1_5m_prec_06.tif    \r\n  inflating: wc2.1_5m_prec_07.tif    \r\n  inflating: wc2.1_5m_prec_08.tif    \r\n  inflating: wc2.1_5m_prec_09.tif    \r\n  inflating: wc2.1_5m_prec_10.tif    \r\n  inflating: wc2.1_5m_prec_11.tif    \r\n  inflating: wc2.1_5m_prec_12.tif    \r\n  inflating: readme.txt              \r\n"
     ]
    }
   ],
   "source": [
    "!wget https://biogeo.ucdavis.edu/data/worldclim/v2.1/base/wc2.1_5m_prec.zip\n",
    "!unzip -o wc2.1_5m_prec.zip"
   ]
  },
  {
   "cell_type": "code",
   "execution_count": 0,
   "metadata": {
    "application/vnd.databricks.v1+cell": {
     "cellMetadata": {
      "byteLimit": 2048000,
      "rowLimit": 10000
     },
     "inputWidgets": {},
     "nuid": "d1df4494-a09b-4b0b-a23a-c8402487d1aa",
     "showTitle": false,
     "title": ""
    }
   },
   "outputs": [
    {
     "output_type": "stream",
     "name": "stdout",
     "output_type": "stream",
     "text": [
      "[2024-05-04 10:36:52 - INFO] - Getting geotransform and data...\r\n[2024-05-04 10:36:52 - INFO] - Getting XYZ data...\r\n[2024-05-04 10:36:52 - INFO] - Getting geotransformed coordinates...\r\n[2024-05-04 10:36:53 - INFO] - Building XYZ data...\r\n[2024-05-04 10:37:26 - INFO] - New XYZ (csv file) created...\r\n"
     ]
    }
   ],
   "source": [
    "!raster2xyz wc2.1_5m_prec_01.tif wc2.1_5m_prec_01.csv"
   ]
  },
  {
   "cell_type": "code",
   "execution_count": 0,
   "metadata": {
    "application/vnd.databricks.v1+cell": {
     "cellMetadata": {
      "byteLimit": 2048000,
      "rowLimit": 10000
     },
     "inputWidgets": {},
     "nuid": "ffe2ed8a-be76-454e-bc18-40dd23ef2c40",
     "showTitle": false,
     "title": ""
    }
   },
   "outputs": [
    {
     "output_type": "stream",
     "name": "stdout",
     "output_type": "stream",
     "text": [
      "Out[19]: True"
     ]
    }
   ],
   "source": [
    "dbutils.fs.cp(\"file:/databricks/driver/wc2.1_5m_prec_01.csv\", \"dbfs:/FileStore/tables/wc2.1_5m_prec_01.csv\")"
   ]
  },
  {
   "cell_type": "code",
   "execution_count": 0,
   "metadata": {
    "application/vnd.databricks.v1+cell": {
     "cellMetadata": {
      "byteLimit": 2048000,
      "rowLimit": 10000
     },
     "inputWidgets": {},
     "nuid": "66725547-f3ed-488c-b74e-b2999bdc008e",
     "showTitle": false,
     "title": ""
    }
   },
   "outputs": [],
   "source": [
    "arquivo='dbfs:/FileStore/tables/wc2.1_5m_prec_01.csv'"
   ]
  },
  {
   "cell_type": "code",
   "execution_count": 0,
   "metadata": {
    "application/vnd.databricks.v1+cell": {
     "cellMetadata": {
      "byteLimit": 2048000,
      "rowLimit": 10000
     },
     "inputWidgets": {},
     "nuid": "73e3e7b5-be21-4122-8321-8873ccd268c2",
     "showTitle": false,
     "title": ""
    }
   },
   "outputs": [
    {
     "output_type": "stream",
     "name": "stdout",
     "output_type": "stream",
     "text": [
      "Número de partições -> 8\n"
     ]
    }
   ],
   "source": [
    "partitions(arquivo)"
   ]
  },
  {
   "cell_type": "code",
   "execution_count": 0,
   "metadata": {
    "application/vnd.databricks.v1+cell": {
     "cellMetadata": {
      "byteLimit": 2048000,
      "rowLimit": 10000
     },
     "inputWidgets": {},
     "nuid": "39160fc7-86ce-4df0-a591-5320da5c76cb",
     "showTitle": false,
     "title": ""
    }
   },
   "outputs": [
    {
     "output_type": "stream",
     "name": "stdout",
     "output_type": "stream",
     "text": [
      "CPU times: user 12.2 ms, sys: 4.61 ms, total: 16.8 ms\nWall time: 15.5 s\nCPU times: user 9.93 ms, sys: 4.24 ms, total: 14.2 ms\nWall time: 15.1 s\nCPU times: user 12.1 ms, sys: 702 µs, total: 12.8 ms\nWall time: 14.9 s\nCPU times: user 11.9 ms, sys: 677 µs, total: 12.6 ms\nWall time: 16.5 s\nCPU times: user 11.1 ms, sys: 2.66 ms, total: 13.8 ms\nWall time: 15.9 s\nCPU times: user 11.5 ms, sys: 1.25 ms, total: 12.8 ms\nWall time: 15.1 s\nCPU times: user 11.2 ms, sys: 1.18 ms, total: 12.3 ms\nWall time: 15.7 s\nCPU times: user 11.3 ms, sys: 3.19 ms, total: 14.5 ms\nWall time: 15.8 s\nCPU times: user 8.71 ms, sys: 5.32 ms, total: 14 ms\nWall time: 16.1 s\nCPU times: user 8.68 ms, sys: 4.69 ms, total: 13.4 ms\nWall time: 16.2 s\nCPU times: user 3.34 ms, sys: 11 ms, total: 14.3 ms\nWall time: 16.5 s\nCPU times: user 11.4 ms, sys: 4.64 ms, total: 16 ms\nWall time: 15.9 s\nCPU times: user 9.45 ms, sys: 4.85 ms, total: 14.3 ms\nWall time: 15.7 s\nCPU times: user 8.92 ms, sys: 4.77 ms, total: 13.7 ms\nWall time: 16.2 s\nCPU times: user 1.25 ms, sys: 12 ms, total: 13.2 ms\nWall time: 15.5 s\nCPU times: user 12.2 ms, sys: 740 µs, total: 12.9 ms\nWall time: 15.5 s\nCPU times: user 11.5 ms, sys: 1.3 ms, total: 12.8 ms\nWall time: 15 s\nCPU times: user 11.7 ms, sys: 1.33 ms, total: 13 ms\nWall time: 15.8 s\nCPU times: user 10.5 ms, sys: 3.73 ms, total: 14.3 ms\nWall time: 16.6 s\nCPU times: user 8.8 ms, sys: 4.56 ms, total: 13.4 ms\nWall time: 15.7 s\nCPU times: user 5.29 ms, sys: 7.79 ms, total: 13.1 ms\nWall time: 15.6 s\nCPU times: user 7.43 ms, sys: 4.55 ms, total: 12 ms\nWall time: 15.2 s\nCPU times: user 12.9 ms, sys: 0 ns, total: 12.9 ms\nWall time: 15.3 s\nCPU times: user 19.2 ms, sys: 207 µs, total: 19.4 ms\nWall time: 16 s\nCPU times: user 12.6 ms, sys: 0 ns, total: 12.6 ms\nWall time: 15.4 s\nCPU times: user 11.7 ms, sys: 1.03 ms, total: 12.8 ms\nWall time: 15.5 s\nCPU times: user 12.3 ms, sys: 751 µs, total: 13 ms\nWall time: 15.2 s\nCPU times: user 9.14 ms, sys: 4.93 ms, total: 14.1 ms\nWall time: 16.8 s\nCPU times: user 12.3 ms, sys: 3.2 ms, total: 15.5 ms\nWall time: 16.1 s\nCPU times: user 8.47 ms, sys: 4.2 ms, total: 12.7 ms\nWall time: 15.3 s\nCPU times: user 8.95 ms, sys: 3.45 ms, total: 12.4 ms\nWall time: 15.4 s\nCPU times: user 8.26 ms, sys: 4.72 ms, total: 13 ms\nWall time: 15.6 s\n"
     ]
    }
   ],
   "source": [
    "for i in range(1,33):\n",
    " %time benchmark(arquivo)"
   ]
  },
  {
   "cell_type": "markdown",
   "metadata": {
    "application/vnd.databricks.v1+cell": {
     "cellMetadata": {
      "byteLimit": 2048000,
      "rowLimit": 10000
     },
     "inputWidgets": {},
     "nuid": "eeb14a4d-de0c-48cc-a0d3-541ee1c7b9bc",
     "showTitle": false,
     "title": ""
    }
   },
   "source": [
    "##Precipitação 2.5"
   ]
  },
  {
   "cell_type": "code",
   "execution_count": 0,
   "metadata": {
    "application/vnd.databricks.v1+cell": {
     "cellMetadata": {
      "byteLimit": 2048000,
      "rowLimit": 10000
     },
     "inputWidgets": {},
     "nuid": "233e2b6a-df93-4e18-b7b3-2d23e93234af",
     "showTitle": false,
     "title": ""
    }
   },
   "outputs": [
    {
     "output_type": "stream",
     "name": "stdout",
     "output_type": "stream",
     "text": [
      "--2024-05-04 22:46:11--  https://biogeo.ucdavis.edu/data/worldclim/v2.1/base/wc2.1_2.5m_prec.zip\r\nResolving biogeo.ucdavis.edu (biogeo.ucdavis.edu)... 128.120.228.172\r\nConnecting to biogeo.ucdavis.edu (biogeo.ucdavis.edu)|128.120.228.172|:443... connected.\r\nHTTP request sent, awaiting response... 302 Found\r\nLocation: https://data.biogeo.ucdavis.edu/data/worldclim/v2.1/base/wc2.1_2.5m_prec.zip [following]\r\n--2024-05-04 22:46:11--  https://data.biogeo.ucdavis.edu/data/worldclim/v2.1/base/wc2.1_2.5m_prec.zip\r\nResolving data.biogeo.ucdavis.edu (data.biogeo.ucdavis.edu)... 128.120.228.172\r\nConnecting to data.biogeo.ucdavis.edu (data.biogeo.ucdavis.edu)|128.120.228.172|:443... connected.\r\nHTTP request sent, awaiting response... 200 OK\r\nLength: 71780834 (68M) [application/zip]\r\nSaving to: ‘wc2.1_2.5m_prec.zip’\r\n\r\n\rwc2.1_2.5m_prec.zip   0%[                    ]       0  --.-KB/s               \rwc2.1_2.5m_prec.zip   3%[                    ]   2.49M  12.5MB/s               \rwc2.1_2.5m_prec.zip  14%[=>                  ]   9.88M  24.7MB/s               \rwc2.1_2.5m_prec.zip  24%[===>                ]  17.04M  28.4MB/s               \rwc2.1_2.5m_prec.zip  35%[======>             ]  24.09M  30.1MB/s               \rwc2.1_2.5m_prec.zip  45%[========>           ]  31.10M  31.1MB/s               \rwc2.1_2.5m_prec.zip  55%[==========>         ]  37.91M  31.6MB/s               \rwc2.1_2.5m_prec.zip  66%[============>       ]  45.45M  32.4MB/s               \rwc2.1_2.5m_prec.zip  77%[==============>     ]  53.10M  33.2MB/s               \rwc2.1_2.5m_prec.zip  88%[================>   ]  60.76M  33.7MB/s               \rwc2.1_2.5m_prec.zip  99%[==================> ]  68.35M  34.1MB/s               \rwc2.1_2.5m_prec.zip 100%[===================>]  68.46M  34.2MB/s    in 2.0s    \r\n\r\n2024-05-04 22:46:13 (34.2 MB/s) - ‘wc2.1_2.5m_prec.zip’ saved [71780834/71780834]\r\n\r\nArchive:  wc2.1_2.5m_prec.zip\r\n  inflating: wc2.1_2.5m_prec_01.tif  \r\n  inflating: wc2.1_2.5m_prec_02.tif  \r\n  inflating: wc2.1_2.5m_prec_03.tif  \r\n  inflating: wc2.1_2.5m_prec_04.tif  \r\n  inflating: wc2.1_2.5m_prec_05.tif  \r\n  inflating: wc2.1_2.5m_prec_06.tif  \r\n  inflating: wc2.1_2.5m_prec_07.tif  \r\n  inflating: wc2.1_2.5m_prec_08.tif  \r\n  inflating: wc2.1_2.5m_prec_09.tif  \r\n  inflating: wc2.1_2.5m_prec_10.tif  \r\n  inflating: wc2.1_2.5m_prec_11.tif  \r\n  inflating: wc2.1_2.5m_prec_12.tif  \r\n  inflating: readme.txt              \r\n"
     ]
    }
   ],
   "source": [
    "!wget https://biogeo.ucdavis.edu/data/worldclim/v2.1/base/wc2.1_2.5m_prec.zip\n",
    "!unzip -o wc2.1_2.5m_prec.zip"
   ]
  },
  {
   "cell_type": "code",
   "execution_count": 0,
   "metadata": {
    "application/vnd.databricks.v1+cell": {
     "cellMetadata": {
      "byteLimit": 2048000,
      "rowLimit": 10000
     },
     "inputWidgets": {},
     "nuid": "27f0ef2f-682a-4286-b23d-9e455a9f4026",
     "showTitle": false,
     "title": ""
    }
   },
   "outputs": [
    {
     "output_type": "stream",
     "name": "stdout",
     "output_type": "stream",
     "text": [
      "[2024-05-04 10:46:16 - INFO] - Getting geotransform and data...\r\n[2024-05-04 10:46:16 - INFO] - Getting XYZ data...\r\n[2024-05-04 10:46:18 - INFO] - Getting geotransformed coordinates...\r\n[2024-05-04 10:46:20 - INFO] - Building XYZ data...\r\n[2024-05-04 10:48:35 - INFO] - New XYZ (csv file) created...\r\n"
     ]
    }
   ],
   "source": [
    "!raster2xyz wc2.1_2.5m_prec_01.tif wc2.1_2.5m_prec_01.csv"
   ]
  },
  {
   "cell_type": "code",
   "execution_count": 0,
   "metadata": {
    "application/vnd.databricks.v1+cell": {
     "cellMetadata": {
      "byteLimit": 2048000,
      "rowLimit": 10000
     },
     "inputWidgets": {},
     "nuid": "f63980e4-d74e-4906-a535-7e8938e85032",
     "showTitle": false,
     "title": ""
    }
   },
   "outputs": [
    {
     "output_type": "stream",
     "name": "stdout",
     "output_type": "stream",
     "text": [
      "Out[25]: True"
     ]
    }
   ],
   "source": [
    "dbutils.fs.cp(\"file:/databricks/driver/wc2.1_2.5m_prec_01.csv\", \"dbfs:/FileStore/tables/wc2.1_2.5m_prec_01.csv\")"
   ]
  },
  {
   "cell_type": "code",
   "execution_count": 0,
   "metadata": {
    "application/vnd.databricks.v1+cell": {
     "cellMetadata": {
      "byteLimit": 2048000,
      "rowLimit": 10000
     },
     "inputWidgets": {},
     "nuid": "56a2f4e6-a38a-4075-bdc4-cb21323b9dea",
     "showTitle": false,
     "title": ""
    }
   },
   "outputs": [],
   "source": [
    "arquivo='dbfs:/FileStore/tables/wc2.1_2.5m_prec_01.csv'\n"
   ]
  },
  {
   "cell_type": "code",
   "execution_count": 0,
   "metadata": {
    "application/vnd.databricks.v1+cell": {
     "cellMetadata": {
      "byteLimit": 2048000,
      "rowLimit": 10000
     },
     "inputWidgets": {},
     "nuid": "c94db72a-8f6a-4f72-a6d4-98f1479a29c4",
     "showTitle": false,
     "title": ""
    }
   },
   "outputs": [
    {
     "output_type": "stream",
     "name": "stdout",
     "output_type": "stream",
     "text": [
      "Número de partições -> 11\n"
     ]
    }
   ],
   "source": [
    "partitions(arquivo)"
   ]
  },
  {
   "cell_type": "code",
   "execution_count": 0,
   "metadata": {
    "application/vnd.databricks.v1+cell": {
     "cellMetadata": {
      "byteLimit": 2048000,
      "rowLimit": 10000
     },
     "inputWidgets": {},
     "nuid": "8669a666-fe66-4b8a-afa8-2a9b0d986894",
     "showTitle": false,
     "title": ""
    }
   },
   "outputs": [
    {
     "output_type": "stream",
     "name": "stdout",
     "output_type": "stream",
     "text": [
      "CPU times: user 19.2 ms, sys: 12.8 ms, total: 32 ms\nWall time: 1min\nCPU times: user 20 ms, sys: 11.9 ms, total: 32 ms\nWall time: 57.6 s\nCPU times: user 19.5 ms, sys: 13.2 ms, total: 32.7 ms\nWall time: 58.2 s\nCPU times: user 28.1 ms, sys: 8.59 ms, total: 36.7 ms\nWall time: 57.1 s\nCPU times: user 21.3 ms, sys: 9.42 ms, total: 30.7 ms\nWall time: 57 s\nCPU times: user 21.4 ms, sys: 14.8 ms, total: 36.2 ms\nWall time: 58.9 s\nCPU times: user 12.8 ms, sys: 19.2 ms, total: 32 ms\nWall time: 58.3 s\nCPU times: user 15 ms, sys: 16.9 ms, total: 31.9 ms\nWall time: 57.2 s\nCPU times: user 23.5 ms, sys: 10.5 ms, total: 34 ms\nWall time: 1min\nCPU times: user 22.9 ms, sys: 11.7 ms, total: 34.6 ms\nWall time: 59.8 s\nCPU times: user 23.5 ms, sys: 12.5 ms, total: 36 ms\nWall time: 1min 2s\nCPU times: user 32.8 ms, sys: 2.36 ms, total: 35.1 ms\nWall time: 59.2 s\nCPU times: user 14.6 ms, sys: 18.9 ms, total: 33.5 ms\nWall time: 59.2 s\nCPU times: user 18.3 ms, sys: 13.1 ms, total: 31.4 ms\nWall time: 57.8 s\nCPU times: user 23.5 ms, sys: 10.4 ms, total: 33.9 ms\nWall time: 59.9 s\nCPU times: user 33.2 ms, sys: 12.8 ms, total: 46 ms\nWall time: 59.8 s\nCPU times: user 22.9 ms, sys: 13.1 ms, total: 36 ms\nWall time: 59.7 s\nCPU times: user 24.9 ms, sys: 11.4 ms, total: 36.2 ms\nWall time: 58 s\nCPU times: user 11.7 ms, sys: 19 ms, total: 30.8 ms\nWall time: 56.6 s\nCPU times: user 21.1 ms, sys: 10.7 ms, total: 31.8 ms\nWall time: 57 s\nCPU times: user 18.6 ms, sys: 13.1 ms, total: 31.6 ms\nWall time: 58.2 s\nCPU times: user 26.2 ms, sys: 5.84 ms, total: 32.1 ms\nWall time: 56.4 s\nCPU times: user 28.8 ms, sys: 5.59 ms, total: 34.4 ms\nWall time: 57.6 s\nCPU times: user 21.5 ms, sys: 14.2 ms, total: 35.7 ms\nWall time: 58.4 s\nCPU times: user 13.3 ms, sys: 19.3 ms, total: 32.6 ms\nWall time: 59.2 s\nCPU times: user 16.2 ms, sys: 21.3 ms, total: 37.5 ms\nWall time: 1min\nCPU times: user 21.6 ms, sys: 12.2 ms, total: 33.8 ms\nWall time: 1min 2s\nCPU times: user 25.2 ms, sys: 8.77 ms, total: 33.9 ms\nWall time: 58.3 s\nCPU times: user 25.6 ms, sys: 15.4 ms, total: 41 ms\nWall time: 58.6 s\nCPU times: user 31.6 ms, sys: 2.23 ms, total: 33.9 ms\nWall time: 58.8 s\nCPU times: user 19.5 ms, sys: 14.1 ms, total: 33.7 ms\nWall time: 59 s\nCPU times: user 17.3 ms, sys: 15.4 ms, total: 32.7 ms\nWall time: 57.8 s\n"
     ]
    }
   ],
   "source": [
    "for i in range(1,33):\n",
    " %time benchmark(arquivo)"
   ]
  },
  {
   "cell_type": "markdown",
   "metadata": {
    "application/vnd.databricks.v1+cell": {
     "cellMetadata": {
      "byteLimit": 2048000,
      "rowLimit": 10000
     },
     "inputWidgets": {},
     "nuid": "526e2ce4-c4d3-4add-87e8-088af3adfcd1",
     "showTitle": false,
     "title": ""
    }
   },
   "source": [
    "##Precipitação de 30 segundos"
   ]
  },
  {
   "cell_type": "code",
   "execution_count": 0,
   "metadata": {
    "application/vnd.databricks.v1+cell": {
     "cellMetadata": {
      "byteLimit": 2048000,
      "rowLimit": 10000
     },
     "inputWidgets": {},
     "nuid": "4c51390b-cf87-47e9-bb19-97ed7b708479",
     "showTitle": false,
     "title": ""
    }
   },
   "outputs": [
    {
     "output_type": "stream",
     "name": "stdout",
     "output_type": "stream",
     "text": [
      "--2024-05-04 23:21:24--  https://biogeo.ucdavis.edu/data/worldclim/v2.1/base/wc2.1_30s_prec.zip\r\nResolving biogeo.ucdavis.edu (biogeo.ucdavis.edu)... 128.120.228.172\r\nConnecting to biogeo.ucdavis.edu (biogeo.ucdavis.edu)|128.120.228.172|:443... connected.\r\nHTTP request sent, awaiting response... 302 Found\r\nLocation: https://data.biogeo.ucdavis.edu/data/worldclim/v2.1/base/wc2.1_30s_prec.zip [following]\r\n--2024-05-04 23:21:25--  https://data.biogeo.ucdavis.edu/data/worldclim/v2.1/base/wc2.1_30s_prec.zip\r\nResolving data.biogeo.ucdavis.edu (data.biogeo.ucdavis.edu)... 128.120.228.172\r\nConnecting to data.biogeo.ucdavis.edu (data.biogeo.ucdavis.edu)|128.120.228.172|:443... connected.\r\nHTTP request sent, awaiting response... 200 OK\r\nLength: 1025401472 (978M) [application/zip]\r\nSaving to: ‘wc2.1_30s_prec.zip’\r\n\r\n\rwc2.1_30s_prec.zip    0%[                    ]       0  --.-KB/s               \rwc2.1_30s_prec.zip    0%[                    ]   2.35M  11.7MB/s               \rwc2.1_30s_prec.zip    1%[                    ]  10.21M  25.5MB/s               \rwc2.1_30s_prec.zip    1%[                    ]  17.59M  29.3MB/s               \rwc2.1_30s_prec.zip    2%[                    ]  24.70M  30.8MB/s               \rwc2.1_30s_prec.zip    3%[                    ]  32.04M  32.0MB/s               \rwc2.1_30s_prec.zip    4%[                    ]  39.41M  32.8MB/s               \rwc2.1_30s_prec.zip    4%[                    ]  46.63M  33.3MB/s               \rwc2.1_30s_prec.zip    5%[>                   ]  54.02M  33.7MB/s               \rwc2.1_30s_prec.zip    6%[>                   ]  60.91M  33.7MB/s               \rwc2.1_30s_prec.zip    7%[>                   ]  69.16M  34.4MB/s               \rwc2.1_30s_prec.zip    7%[>                   ]  76.26M  34.5MB/s               \rwc2.1_30s_prec.zip    8%[>                   ]  83.55M  34.7MB/s               \rwc2.1_30s_prec.zip    9%[>                   ]  90.91M  34.8MB/s               \rwc2.1_30s_prec.zip    9%[>                   ]  97.60M  34.7MB/s               \rwc2.1_30s_prec.zip   10%[=>                  ] 105.55M  35.1MB/s    eta 25s    \rwc2.1_30s_prec.zip   11%[=>                  ] 112.91M  36.9MB/s    eta 25s    \rwc2.1_30s_prec.zip   12%[=>                  ] 119.92M  36.5MB/s    eta 25s    \rwc2.1_30s_prec.zip   13%[=>                  ] 127.27M  36.5MB/s    eta 25s    \rwc2.1_30s_prec.zip   13%[=>                  ] 134.04M  36.3MB/s    eta 25s    \rwc2.1_30s_prec.zip   14%[=>                  ] 142.12M  36.6MB/s    eta 24s    \rwc2.1_30s_prec.zip   15%[==>                 ] 149.30M  36.5MB/s    eta 24s    \rwc2.1_30s_prec.zip   15%[==>                 ] 156.10M  36.4MB/s    eta 24s    \rwc2.1_30s_prec.zip   16%[==>                 ] 163.37M  36.3MB/s    eta 24s    \rwc2.1_30s_prec.zip   17%[==>                 ] 169.96M  36.1MB/s    eta 24s    \rwc2.1_30s_prec.zip   18%[==>                 ] 177.12M  36.0MB/s    eta 23s    \rwc2.1_30s_prec.zip   18%[==>                 ] 184.13M  35.9MB/s    eta 23s    \rwc2.1_30s_prec.zip   19%[==>                 ] 191.46M  36.0MB/s    eta 23s    \rwc2.1_30s_prec.zip   20%[===>                ] 199.20M  36.1MB/s    eta 23s    \rwc2.1_30s_prec.zip   21%[===>                ] 206.96M  36.2MB/s    eta 23s    \rwc2.1_30s_prec.zip   21%[===>                ] 214.77M  36.4MB/s    eta 21s    \rwc2.1_30s_prec.zip   22%[===>                ] 222.51M  36.5MB/s    eta 21s    \rwc2.1_30s_prec.zip   23%[===>                ] 229.84M  36.6MB/s    eta 21s    \rwc2.1_30s_prec.zip   24%[===>                ] 237.37M  36.7MB/s    eta 21s    \rwc2.1_30s_prec.zip   25%[====>               ] 244.93M  36.7MB/s    eta 21s    \rwc2.1_30s_prec.zip   25%[====>               ] 252.43M  36.7MB/s    eta 20s    \rwc2.1_30s_prec.zip   26%[====>               ] 259.93M  36.8MB/s    eta 20s    \rwc2.1_30s_prec.zip   27%[====>               ] 267.13M  37.0MB/s    eta 20s    \rwc2.1_30s_prec.zip   28%[====>               ] 274.55M  37.1MB/s    eta 20s    \rwc2.1_30s_prec.zip   28%[====>               ] 281.98M  37.1MB/s    eta 20s    \rwc2.1_30s_prec.zip   29%[====>               ] 289.41M  37.4MB/s    eta 19s    \rwc2.1_30s_prec.zip   30%[=====>              ] 296.91M  37.5MB/s    eta 19s    \rwc2.1_30s_prec.zip   31%[=====>              ] 303.85M  37.4MB/s    eta 19s    \rwc2.1_30s_prec.zip   31%[=====>              ] 311.23M  37.3MB/s    eta 19s    \rwc2.1_30s_prec.zip   32%[=====>              ] 318.24M  37.1MB/s    eta 19s    \rwc2.1_30s_prec.zip   33%[=====>              ] 325.65M  37.0MB/s    eta 18s    \rwc2.1_30s_prec.zip   34%[=====>              ] 333.12M  36.9MB/s    eta 18s    \rwc2.1_30s_prec.zip   34%[=====>              ] 340.60M  36.9MB/s    eta 18s    \rwc2.1_30s_prec.zip   35%[======>             ] 348.12M  36.9MB/s    eta 18s    \rwc2.1_30s_prec.zip   36%[======>             ] 355.65M  36.9MB/s    eta 18s    \rwc2.1_30s_prec.zip   37%[======>             ] 362.84M  36.8MB/s    eta 17s    \rwc2.1_30s_prec.zip   37%[======>             ] 370.34M  36.8MB/s    eta 17s    \rwc2.1_30s_prec.zip   38%[======>             ] 377.66M  36.8MB/s    eta 17s    \rwc2.1_30s_prec.zip   39%[======>             ] 385.10M  36.8MB/s    eta 17s    \rwc2.1_30s_prec.zip   40%[=======>            ] 392.65M  36.8MB/s    eta 17s    \rwc2.1_30s_prec.zip   40%[=======>            ] 400.12M  36.8MB/s    eta 16s    \rwc2.1_30s_prec.zip   41%[=======>            ] 407.62M  36.9MB/s    eta 16s    \rwc2.1_30s_prec.zip   42%[=======>            ] 415.10M  36.9MB/s    eta 16s    \rwc2.1_30s_prec.zip   43%[=======>            ] 422.62M  37.1MB/s    eta 16s    \rwc2.1_30s_prec.zip   43%[=======>            ] 429.80M  37.1MB/s    eta 16s    \rwc2.1_30s_prec.zip   44%[=======>            ] 437.32M  37.1MB/s    eta 15s    \rwc2.1_30s_prec.zip   45%[========>           ] 444.79M  37.1MB/s    eta 15s    \rwc2.1_30s_prec.zip   46%[========>           ] 452.41M  37.2MB/s    eta 15s    \rwc2.1_30s_prec.zip   47%[========>           ] 459.63M  37.1MB/s    eta 15s    \rwc2.1_30s_prec.zip   47%[========>           ] 467.20M  37.1MB/s    eta 15s    \rwc2.1_30s_prec.zip   48%[========>           ] 474.65M  37.2MB/s    eta 14s    \rwc2.1_30s_prec.zip   49%[========>           ] 482.15M  37.2MB/s    eta 14s    \rwc2.1_30s_prec.zip   50%[=========>          ] 489.62M  37.2MB/s    eta 14s    \rwc2.1_30s_prec.zip   50%[=========>          ] 497.16M  37.3MB/s    eta 14s    \rwc2.1_30s_prec.zip   51%[=========>          ] 504.88M  37.3MB/s    eta 14s    \rwc2.1_30s_prec.zip   52%[=========>          ] 512.54M  37.3MB/s    eta 13s    \rwc2.1_30s_prec.zip   53%[=========>          ] 520.05M  37.4MB/s    eta 13s    \rwc2.1_30s_prec.zip   53%[=========>          ] 527.57M  37.4MB/s    eta 13s    \rwc2.1_30s_prec.zip   54%[=========>          ] 535.09M  37.4MB/s    eta 13s    \rwc2.1_30s_prec.zip   55%[==========>         ] 542.52M  37.5MB/s    eta 13s    \rwc2.1_30s_prec.zip   56%[==========>         ] 550.18M  37.5MB/s    eta 12s    \rwc2.1_30s_prec.zip   57%[==========>         ] 557.70M  37.5MB/s    eta 12s    \rwc2.1_30s_prec.zip   57%[==========>         ] 565.02M  37.4MB/s    eta 12s    \rwc2.1_30s_prec.zip   58%[==========>         ] 572.04M  37.3MB/s    eta 12s    \rwc2.1_30s_prec.zip   59%[==========>         ] 579.49M  37.6MB/s    eta 12s    \rwc2.1_30s_prec.zip   60%[===========>        ] 586.87M  37.3MB/s    eta 11s    \rwc2.1_30s_prec.zip   60%[===========>        ] 594.32M  37.3MB/s    eta 11s    \rwc2.1_30s_prec.zip   61%[===========>        ] 601.77M  37.3MB/s    eta 11s    \rwc2.1_30s_prec.zip   62%[===========>        ] 609.24M  37.3MB/s    eta 11s    \rwc2.1_30s_prec.zip   63%[===========>        ] 616.43M  37.2MB/s    eta 11s    \rwc2.1_30s_prec.zip   63%[===========>        ] 623.80M  37.1MB/s    eta 10s    \rwc2.1_30s_prec.zip   64%[===========>        ] 631.23M  37.0MB/s    eta 10s    \rwc2.1_30s_prec.zip   65%[============>       ] 638.63M  36.9MB/s    eta 10s    \rwc2.1_30s_prec.zip   66%[============>       ] 646.05M  36.9MB/s    eta 10s    \rwc2.1_30s_prec.zip   66%[============>       ] 653.21M  36.8MB/s    eta 10s    \rwc2.1_30s_prec.zip   67%[============>       ] 660.55M  36.7MB/s    eta 9s     \rwc2.1_30s_prec.zip   68%[============>       ] 667.61M  36.5MB/s    eta 9s     \rwc2.1_30s_prec.zip   69%[============>       ] 675.02M  36.5MB/s    eta 9s     \rwc2.1_30s_prec.zip   69%[============>       ] 682.20M  36.6MB/s    eta 9s     \rwc2.1_30s_prec.zip   70%[=============>      ] 689.62M  36.6MB/s    eta 9s     \rwc2.1_30s_prec.zip   71%[=============>      ] 696.59M  36.5MB/s    eta 8s     \rwc2.1_30s_prec.zip   71%[=============>      ] 704.04M  36.5MB/s    eta 8s     \rwc2.1_30s_prec.zip   72%[=============>      ] 711.54M  36.5MB/s    eta 8s     \rwc2.1_30s_prec.zip   73%[=============>      ] 718.59M  36.4MB/s    eta 8s     \rwc2.1_30s_prec.zip   74%[=============>      ] 725.98M  36.4MB/s    eta 8s     \rwc2.1_30s_prec.zip   74%[=============>      ] 733.40M  36.4MB/s    eta 7s     \rwc2.1_30s_prec.zip   75%[==============>     ] 740.83M  36.4MB/s    eta 7s     \rwc2.1_30s_prec.zip   76%[==============>     ] 748.21M  36.5MB/s    eta 7s     \rwc2.1_30s_prec.zip   77%[==============>     ] 755.68M  36.5MB/s    eta 7s     \rwc2.1_30s_prec.zip   78%[==============>     ] 763.12M  36.6MB/s    eta 7s     \rwc2.1_30s_prec.zip   78%[==============>     ] 770.57M  36.7MB/s    eta 6s     \rwc2.1_30s_prec.zip   79%[==============>     ] 777.27M  36.5MB/s    eta 6s     \rwc2.1_30s_prec.zip   80%[===============>    ] 784.62M  36.5MB/s    eta 6s     \rwc2.1_30s_prec.zip   80%[===============>    ] 792.02M  36.5MB/s    eta 6s     \rwc2.1_30s_prec.zip   81%[===============>    ] 799.55M  36.6MB/s    eta 6s     \rwc2.1_30s_prec.zip   82%[===============>    ] 806.60M  36.5MB/s    eta 5s     \rwc2.1_30s_prec.zip   83%[===============>    ] 813.85M  36.6MB/s    eta 5s     \rwc2.1_30s_prec.zip   83%[===============>    ] 820.98M  36.4MB/s    eta 5s     \rwc2.1_30s_prec.zip   84%[===============>    ] 828.23M  36.5MB/s    eta 5s     \rwc2.1_30s_prec.zip   85%[================>   ] 835.62M  36.5MB/s    eta 5s     \rwc2.1_30s_prec.zip   86%[================>   ] 842.98M  36.4MB/s    eta 4s     \rwc2.1_30s_prec.zip   86%[================>   ] 849.91M  36.3MB/s    eta 4s     \rwc2.1_30s_prec.zip   87%[================>   ] 857.12M  36.2MB/s    eta 4s     \rwc2.1_30s_prec.zip   88%[================>   ] 864.67M  36.3MB/s    eta 4s     \rwc2.1_30s_prec.zip   89%[================>   ] 872.20M  36.3MB/s    eta 4s     \rwc2.1_30s_prec.zip   89%[================>   ] 879.20M  36.2MB/s    eta 3s     \rwc2.1_30s_prec.zip   90%[=================>  ] 886.62M  36.2MB/s    eta 3s     \rwc2.1_30s_prec.zip   91%[=================>  ] 893.77M  36.3MB/s    eta 3s     \rwc2.1_30s_prec.zip   92%[=================>  ] 901.04M  36.3MB/s    eta 3s     \rwc2.1_30s_prec.zip   92%[=================>  ] 908.63M  36.4MB/s    eta 3s     \rwc2.1_30s_prec.zip   93%[=================>  ] 915.76M  36.3MB/s    eta 2s     \rwc2.1_30s_prec.zip   94%[=================>  ] 923.05M  36.3MB/s    eta 2s     \rwc2.1_30s_prec.zip   95%[==================> ] 930.43M  36.5MB/s    eta 2s     \rwc2.1_30s_prec.zip   95%[==================> ] 937.68M  36.4MB/s    eta 2s     \rwc2.1_30s_prec.zip   96%[==================> ] 945.02M  36.5MB/s    eta 2s     \rwc2.1_30s_prec.zip   97%[==================> ] 952.21M  36.6MB/s    eta 1s     \rwc2.1_30s_prec.zip   98%[==================> ] 959.85M  36.5MB/s    eta 1s     \rwc2.1_30s_prec.zip   98%[==================> ] 966.85M  36.5MB/s    eta 1s     \rwc2.1_30s_prec.zip   99%[==================> ] 974.17M  36.4MB/s    eta 1s     \rwc2.1_30s_prec.zip  100%[===================>] 977.90M  36.4MB/s    in 27s     \r\n\r\n2024-05-04 23:21:52 (36.5 MB/s) - ‘wc2.1_30s_prec.zip’ saved [1025401472/1025401472]\r\n\r\nArchive:  wc2.1_30s_prec.zip\r\n  inflating: wc2.1_30s_prec_01.tif   \r\n  inflating: wc2.1_30s_prec_02.tif   \r\n  inflating: wc2.1_30s_prec_03.tif   \r\n  inflating: wc2.1_30s_prec_04.tif   \r\n  inflating: wc2.1_30s_prec_05.tif   \r\n  inflating: wc2.1_30s_prec_06.tif   \r\n  inflating: wc2.1_30s_prec_07.tif   \r\n  inflating: wc2.1_30s_prec_08.tif   \r\n  inflating: wc2.1_30s_prec_09.tif   \r\n  inflating: wc2.1_30s_prec_10.tif   \r\n  inflating: wc2.1_30s_prec_11.tif   \r\n  inflating: wc2.1_30s_prec_12.tif   \r\n  inflating: readme.txt              \r\n"
     ]
    }
   ],
   "source": [
    "!wget https://biogeo.ucdavis.edu/data/worldclim/v2.1/base/wc2.1_30s_prec.zip\n",
    "!unzip -o wc2.1_30s_prec.zip"
   ]
  },
  {
   "cell_type": "code",
   "execution_count": 0,
   "metadata": {
    "application/vnd.databricks.v1+cell": {
     "cellMetadata": {
      "byteLimit": 2048000,
      "rowLimit": 10000
     },
     "inputWidgets": {},
     "nuid": "41caf4b1-e284-49a6-8fa2-d88864ba6955",
     "showTitle": false,
     "title": ""
    }
   },
   "outputs": [
    {
     "output_type": "stream",
     "name": "stdout",
     "output_type": "stream",
     "text": [
      "[2024-05-04 11:22:05 - INFO] - Getting geotransform and data...\r\n[2024-05-04 11:22:12 - INFO] - Getting XYZ data...\r\n"
     ]
    }
   ],
   "source": [
    "#arquivo mt grande databricks n tankou \n",
    "!raster2xyz wc2.1_30s_prec_01.tif wc2.1_30s_prec_01.csv"
   ]
  },
  {
   "cell_type": "code",
   "execution_count": 0,
   "metadata": {
    "application/vnd.databricks.v1+cell": {
     "cellMetadata": {
      "byteLimit": 2048000,
      "rowLimit": 10000
     },
     "inputWidgets": {},
     "nuid": "22782399-33d6-43d4-8a30-31cb6266ea93",
     "showTitle": false,
     "title": ""
    }
   },
   "outputs": [
    {
     "output_type": "display_data",
     "data": {
      "text/plain": [
       "\u001B[0;31m---------------------------------------------------------------------------\u001B[0m\n",
       "\u001B[0;31mExecutionError\u001B[0m                            Traceback (most recent call last)\n",
       "File \u001B[0;32m<command-167082039869024>:1\u001B[0m\n",
       "\u001B[0;32m----> 1\u001B[0m \u001B[43mdbutils\u001B[49m\u001B[38;5;241;43m.\u001B[39;49m\u001B[43mfs\u001B[49m\u001B[38;5;241;43m.\u001B[39;49m\u001B[43mcp\u001B[49m\u001B[43m(\u001B[49m\u001B[38;5;124;43m\"\u001B[39;49m\u001B[38;5;124;43mfile:/databricks/driver/wc2.1_30s_prec_01.csv\u001B[39;49m\u001B[38;5;124;43m\"\u001B[39;49m\u001B[43m,\u001B[49m\u001B[43m \u001B[49m\u001B[38;5;124;43m\"\u001B[39;49m\u001B[38;5;124;43mdbfs:/FileStore/tables/wc2.1_30s_prec_01.csv\u001B[39;49m\u001B[38;5;124;43m\"\u001B[39;49m\u001B[43m)\u001B[49m\n",
       "\n",
       "File \u001B[0;32m/databricks/python_shell/dbruntime/dbutils.py:362\u001B[0m, in \u001B[0;36mDBUtils.FSHandler.prettify_exception_message.<locals>.f_with_exception_handling\u001B[0;34m(*args, **kwargs)\u001B[0m\n",
       "\u001B[1;32m    360\u001B[0m exc\u001B[38;5;241m.\u001B[39m__context__ \u001B[38;5;241m=\u001B[39m \u001B[38;5;28;01mNone\u001B[39;00m\n",
       "\u001B[1;32m    361\u001B[0m exc\u001B[38;5;241m.\u001B[39m__cause__ \u001B[38;5;241m=\u001B[39m \u001B[38;5;28;01mNone\u001B[39;00m\n",
       "\u001B[0;32m--> 362\u001B[0m \u001B[38;5;28;01mraise\u001B[39;00m exc\n",
       "\n",
       "\u001B[0;31mExecutionError\u001B[0m: An error occurred while calling o652.cp.\n",
       ": java.io.FileNotFoundException: File file:/databricks/driver/wc2.1_30s_prec_01.csv does not exist\n",
       "\tat org.apache.hadoop.fs.RawLocalFileSystem.deprecatedGetFileStatus(RawLocalFileSystem.java:779)\n",
       "\tat org.apache.hadoop.fs.RawLocalFileSystem.getFileLinkStatusInternal(RawLocalFileSystem.java:1100)\n",
       "\tat org.apache.hadoop.fs.RawLocalFileSystem.getFileStatus(RawLocalFileSystem.java:769)\n",
       "\tat org.apache.hadoop.fs.FilterFileSystem.getFileStatus(FilterFileSystem.java:462)\n",
       "\tat com.databricks.backend.daemon.driver.WorkspaceLocalFileSystem.super$getFileStatus(WorkspaceLocalFileSystem.scala:75)\n",
       "\tat com.databricks.backend.daemon.driver.WorkspaceLocalFileSystem.$anonfun$getFileStatus$1(WorkspaceLocalFileSystem.scala:75)\n",
       "\tat com.databricks.backend.daemon.driver.WorkspaceLocalFileSystem.$anonfun$getFileStatus$1$adapted(WorkspaceLocalFileSystem.scala:74)\n",
       "\tat com.databricks.backend.daemon.driver.WSFSCredentialForwardingHelper.$anonfun$withWSFSCredentials$1(WorkspaceLocalFileSystem.scala:215)\n",
       "\tat com.databricks.backend.daemon.driver.WSFSCredentialForwardingHelper.withWSFSCredentials(WorkspaceLocalFileSystem.scala:186)\n",
       "\tat com.databricks.backend.daemon.driver.WSFSCredentialForwardingHelper.withWSFSCredentials(WorkspaceLocalFileSystem.scala:215)\n",
       "\tat com.databricks.backend.daemon.driver.WSFSCredentialForwardingHelper.withWSFSCredentials$(WorkspaceLocalFileSystem.scala:213)\n",
       "\tat com.databricks.backend.daemon.driver.WorkspaceLocalFileSystem.withWSFSCredentials(WorkspaceLocalFileSystem.scala:32)\n",
       "\tat com.databricks.backend.daemon.driver.WorkspaceLocalFileSystem.getFileStatus(WorkspaceLocalFileSystem.scala:74)\n",
       "\tat com.databricks.backend.daemon.dbutils.FSUtils.$anonfun$withCpSafetyChecks$2(DBUtilsCore.scala:160)\n",
       "\tat com.databricks.backend.daemon.dbutils.FSUtils.withFsSafetyCheck(DBUtilsCore.scala:149)\n",
       "\tat com.databricks.backend.daemon.dbutils.FSUtils.$anonfun$withCpSafetyChecks$1(DBUtilsCore.scala:156)\n",
       "\tat com.databricks.backend.daemon.dbutils.FSUtils.withFsSafetyCheck(DBUtilsCore.scala:149)\n",
       "\tat com.databricks.backend.daemon.dbutils.FSUtils.withCpSafetyChecks(DBUtilsCore.scala:156)\n",
       "\tat com.databricks.backend.daemon.dbutils.FSUtils.$anonfun$cp$2(DBUtilsCore.scala:361)\n",
       "\tat com.databricks.backend.daemon.dbutils.FSUtils.checkPermission(DBUtilsCore.scala:144)\n",
       "\tat com.databricks.backend.daemon.dbutils.FSUtils.$anonfun$cp$1(DBUtilsCore.scala:361)\n",
       "\tat com.databricks.logging.UsageLogging.$anonfun$recordOperation$1(UsageLogging.scala:560)\n",
       "\tat com.databricks.logging.UsageLogging.executeThunkAndCaptureResultTags$1(UsageLogging.scala:657)\n",
       "\tat com.databricks.logging.UsageLogging.$anonfun$recordOperationWithResultTags$4(UsageLogging.scala:678)\n",
       "\tat com.databricks.logging.UsageLogging.$anonfun$withAttributionContext$1(UsageLogging.scala:414)\n",
       "\tat scala.util.DynamicVariable.withValue(DynamicVariable.scala:62)\n",
       "\tat com.databricks.logging.AttributionContext$.withValue(AttributionContext.scala:158)\n",
       "\tat com.databricks.logging.UsageLogging.withAttributionContext(UsageLogging.scala:412)\n",
       "\tat com.databricks.logging.UsageLogging.withAttributionContext$(UsageLogging.scala:409)\n",
       "\tat com.databricks.backend.daemon.dbutils.FSUtils.withAttributionContext(DBUtilsCore.scala:71)\n",
       "\tat com.databricks.logging.UsageLogging.withAttributionTags(UsageLogging.scala:457)\n",
       "\tat com.databricks.logging.UsageLogging.withAttributionTags$(UsageLogging.scala:442)\n",
       "\tat com.databricks.backend.daemon.dbutils.FSUtils.withAttributionTags(DBUtilsCore.scala:71)\n",
       "\tat com.databricks.logging.UsageLogging.recordOperationWithResultTags(UsageLogging.scala:652)\n",
       "\tat com.databricks.logging.UsageLogging.recordOperationWithResultTags$(UsageLogging.scala:569)\n",
       "\tat com.databricks.backend.daemon.dbutils.FSUtils.recordOperationWithResultTags(DBUtilsCore.scala:71)\n",
       "\tat com.databricks.logging.UsageLogging.recordOperation(UsageLogging.scala:560)\n",
       "\tat com.databricks.logging.UsageLogging.recordOperation$(UsageLogging.scala:528)\n",
       "\tat com.databricks.backend.daemon.dbutils.FSUtils.recordOperation(DBUtilsCore.scala:71)\n",
       "\tat com.databricks.backend.daemon.dbutils.FSUtils.recordDbutilsFsOp(DBUtilsCore.scala:135)\n",
       "\tat com.databricks.backend.daemon.dbutils.FSUtils.cp(DBUtilsCore.scala:360)\n",
       "\tat sun.reflect.NativeMethodAccessorImpl.invoke0(Native Method)\n",
       "\tat sun.reflect.NativeMethodAccessorImpl.invoke(NativeMethodAccessorImpl.java:62)\n",
       "\tat sun.reflect.DelegatingMethodAccessorImpl.invoke(DelegatingMethodAccessorImpl.java:43)\n",
       "\tat java.lang.reflect.Method.invoke(Method.java:498)\n",
       "\tat py4j.reflection.MethodInvoker.invoke(MethodInvoker.java:244)\n",
       "\tat py4j.reflection.ReflectionEngine.invoke(ReflectionEngine.java:380)\n",
       "\tat py4j.Gateway.invoke(Gateway.java:306)\n",
       "\tat py4j.commands.AbstractCommand.invokeMethod(AbstractCommand.java:132)\n",
       "\tat py4j.commands.CallCommand.execute(CallCommand.java:79)\n",
       "\tat py4j.ClientServerConnection.waitForCommands(ClientServerConnection.java:195)\n",
       "\tat py4j.ClientServerConnection.run(ClientServerConnection.java:115)\n",
       "\tat java.lang.Thread.run(Thread.java:750)\n"
      ]
     },
     "metadata": {
      "application/vnd.databricks.v1+output": {
       "arguments": {},
       "data": "\u001B[0;31m---------------------------------------------------------------------------\u001B[0m\n\u001B[0;31mExecutionError\u001B[0m                            Traceback (most recent call last)\nFile \u001B[0;32m<command-167082039869024>:1\u001B[0m\n\u001B[0;32m----> 1\u001B[0m \u001B[43mdbutils\u001B[49m\u001B[38;5;241;43m.\u001B[39;49m\u001B[43mfs\u001B[49m\u001B[38;5;241;43m.\u001B[39;49m\u001B[43mcp\u001B[49m\u001B[43m(\u001B[49m\u001B[38;5;124;43m\"\u001B[39;49m\u001B[38;5;124;43mfile:/databricks/driver/wc2.1_30s_prec_01.csv\u001B[39;49m\u001B[38;5;124;43m\"\u001B[39;49m\u001B[43m,\u001B[49m\u001B[43m \u001B[49m\u001B[38;5;124;43m\"\u001B[39;49m\u001B[38;5;124;43mdbfs:/FileStore/tables/wc2.1_30s_prec_01.csv\u001B[39;49m\u001B[38;5;124;43m\"\u001B[39;49m\u001B[43m)\u001B[49m\n\nFile \u001B[0;32m/databricks/python_shell/dbruntime/dbutils.py:362\u001B[0m, in \u001B[0;36mDBUtils.FSHandler.prettify_exception_message.<locals>.f_with_exception_handling\u001B[0;34m(*args, **kwargs)\u001B[0m\n\u001B[1;32m    360\u001B[0m exc\u001B[38;5;241m.\u001B[39m__context__ \u001B[38;5;241m=\u001B[39m \u001B[38;5;28;01mNone\u001B[39;00m\n\u001B[1;32m    361\u001B[0m exc\u001B[38;5;241m.\u001B[39m__cause__ \u001B[38;5;241m=\u001B[39m \u001B[38;5;28;01mNone\u001B[39;00m\n\u001B[0;32m--> 362\u001B[0m \u001B[38;5;28;01mraise\u001B[39;00m exc\n\n\u001B[0;31mExecutionError\u001B[0m: An error occurred while calling o652.cp.\n: java.io.FileNotFoundException: File file:/databricks/driver/wc2.1_30s_prec_01.csv does not exist\n\tat org.apache.hadoop.fs.RawLocalFileSystem.deprecatedGetFileStatus(RawLocalFileSystem.java:779)\n\tat org.apache.hadoop.fs.RawLocalFileSystem.getFileLinkStatusInternal(RawLocalFileSystem.java:1100)\n\tat org.apache.hadoop.fs.RawLocalFileSystem.getFileStatus(RawLocalFileSystem.java:769)\n\tat org.apache.hadoop.fs.FilterFileSystem.getFileStatus(FilterFileSystem.java:462)\n\tat com.databricks.backend.daemon.driver.WorkspaceLocalFileSystem.super$getFileStatus(WorkspaceLocalFileSystem.scala:75)\n\tat com.databricks.backend.daemon.driver.WorkspaceLocalFileSystem.$anonfun$getFileStatus$1(WorkspaceLocalFileSystem.scala:75)\n\tat com.databricks.backend.daemon.driver.WorkspaceLocalFileSystem.$anonfun$getFileStatus$1$adapted(WorkspaceLocalFileSystem.scala:74)\n\tat com.databricks.backend.daemon.driver.WSFSCredentialForwardingHelper.$anonfun$withWSFSCredentials$1(WorkspaceLocalFileSystem.scala:215)\n\tat com.databricks.backend.daemon.driver.WSFSCredentialForwardingHelper.withWSFSCredentials(WorkspaceLocalFileSystem.scala:186)\n\tat com.databricks.backend.daemon.driver.WSFSCredentialForwardingHelper.withWSFSCredentials(WorkspaceLocalFileSystem.scala:215)\n\tat com.databricks.backend.daemon.driver.WSFSCredentialForwardingHelper.withWSFSCredentials$(WorkspaceLocalFileSystem.scala:213)\n\tat com.databricks.backend.daemon.driver.WorkspaceLocalFileSystem.withWSFSCredentials(WorkspaceLocalFileSystem.scala:32)\n\tat com.databricks.backend.daemon.driver.WorkspaceLocalFileSystem.getFileStatus(WorkspaceLocalFileSystem.scala:74)\n\tat com.databricks.backend.daemon.dbutils.FSUtils.$anonfun$withCpSafetyChecks$2(DBUtilsCore.scala:160)\n\tat com.databricks.backend.daemon.dbutils.FSUtils.withFsSafetyCheck(DBUtilsCore.scala:149)\n\tat com.databricks.backend.daemon.dbutils.FSUtils.$anonfun$withCpSafetyChecks$1(DBUtilsCore.scala:156)\n\tat com.databricks.backend.daemon.dbutils.FSUtils.withFsSafetyCheck(DBUtilsCore.scala:149)\n\tat com.databricks.backend.daemon.dbutils.FSUtils.withCpSafetyChecks(DBUtilsCore.scala:156)\n\tat com.databricks.backend.daemon.dbutils.FSUtils.$anonfun$cp$2(DBUtilsCore.scala:361)\n\tat com.databricks.backend.daemon.dbutils.FSUtils.checkPermission(DBUtilsCore.scala:144)\n\tat com.databricks.backend.daemon.dbutils.FSUtils.$anonfun$cp$1(DBUtilsCore.scala:361)\n\tat com.databricks.logging.UsageLogging.$anonfun$recordOperation$1(UsageLogging.scala:560)\n\tat com.databricks.logging.UsageLogging.executeThunkAndCaptureResultTags$1(UsageLogging.scala:657)\n\tat com.databricks.logging.UsageLogging.$anonfun$recordOperationWithResultTags$4(UsageLogging.scala:678)\n\tat com.databricks.logging.UsageLogging.$anonfun$withAttributionContext$1(UsageLogging.scala:414)\n\tat scala.util.DynamicVariable.withValue(DynamicVariable.scala:62)\n\tat com.databricks.logging.AttributionContext$.withValue(AttributionContext.scala:158)\n\tat com.databricks.logging.UsageLogging.withAttributionContext(UsageLogging.scala:412)\n\tat com.databricks.logging.UsageLogging.withAttributionContext$(UsageLogging.scala:409)\n\tat com.databricks.backend.daemon.dbutils.FSUtils.withAttributionContext(DBUtilsCore.scala:71)\n\tat com.databricks.logging.UsageLogging.withAttributionTags(UsageLogging.scala:457)\n\tat com.databricks.logging.UsageLogging.withAttributionTags$(UsageLogging.scala:442)\n\tat com.databricks.backend.daemon.dbutils.FSUtils.withAttributionTags(DBUtilsCore.scala:71)\n\tat com.databricks.logging.UsageLogging.recordOperationWithResultTags(UsageLogging.scala:652)\n\tat com.databricks.logging.UsageLogging.recordOperationWithResultTags$(UsageLogging.scala:569)\n\tat com.databricks.backend.daemon.dbutils.FSUtils.recordOperationWithResultTags(DBUtilsCore.scala:71)\n\tat com.databricks.logging.UsageLogging.recordOperation(UsageLogging.scala:560)\n\tat com.databricks.logging.UsageLogging.recordOperation$(UsageLogging.scala:528)\n\tat com.databricks.backend.daemon.dbutils.FSUtils.recordOperation(DBUtilsCore.scala:71)\n\tat com.databricks.backend.daemon.dbutils.FSUtils.recordDbutilsFsOp(DBUtilsCore.scala:135)\n\tat com.databricks.backend.daemon.dbutils.FSUtils.cp(DBUtilsCore.scala:360)\n\tat sun.reflect.NativeMethodAccessorImpl.invoke0(Native Method)\n\tat sun.reflect.NativeMethodAccessorImpl.invoke(NativeMethodAccessorImpl.java:62)\n\tat sun.reflect.DelegatingMethodAccessorImpl.invoke(DelegatingMethodAccessorImpl.java:43)\n\tat java.lang.reflect.Method.invoke(Method.java:498)\n\tat py4j.reflection.MethodInvoker.invoke(MethodInvoker.java:244)\n\tat py4j.reflection.ReflectionEngine.invoke(ReflectionEngine.java:380)\n\tat py4j.Gateway.invoke(Gateway.java:306)\n\tat py4j.commands.AbstractCommand.invokeMethod(AbstractCommand.java:132)\n\tat py4j.commands.CallCommand.execute(CallCommand.java:79)\n\tat py4j.ClientServerConnection.waitForCommands(ClientServerConnection.java:195)\n\tat py4j.ClientServerConnection.run(ClientServerConnection.java:115)\n\tat java.lang.Thread.run(Thread.java:750)\n",
       "errorSummary": "java.io.FileNotFoundException: File file:/databricks/driver/wc2.1_30s_prec_01.csv does not exist",
       "errorTraceType": "ansi",
       "metadata": {},
       "type": "ipynbError"
      }
     },
     "output_type": "display_data"
    }
   ],
   "source": [
    "dbutils.fs.cp(\"file:/databricks/driver/wc2.1_30s_prec_01.csv\", \"dbfs:/FileStore/tables/wc2.1_30s_prec_01.csv\")"
   ]
  },
  {
   "cell_type": "code",
   "execution_count": 0,
   "metadata": {
    "application/vnd.databricks.v1+cell": {
     "cellMetadata": {
      "byteLimit": 2048000,
      "rowLimit": 10000
     },
     "inputWidgets": {},
     "nuid": "232a08cf-efe4-416a-b9f1-1f5db6f9ca06",
     "showTitle": false,
     "title": ""
    }
   },
   "outputs": [
    {
     "output_type": "display_data",
     "data": {
      "text/plain": [
       ""
      ]
     },
     "metadata": {
      "application/vnd.databricks.v1+output": {
       "arguments": {},
       "data": "",
       "errorSummary": "Command skipped",
       "errorTraceType": "ansi",
       "metadata": {},
       "type": "ipynbError"
      }
     },
     "output_type": "display_data"
    }
   ],
   "source": [
    "arquivo='dbfs:/FileStore/tables/wc2.1_30s_prec_01.csv'"
   ]
  },
  {
   "cell_type": "code",
   "execution_count": 0,
   "metadata": {
    "application/vnd.databricks.v1+cell": {
     "cellMetadata": {
      "byteLimit": 2048000,
      "rowLimit": 10000
     },
     "inputWidgets": {},
     "nuid": "44dcc75b-5090-4703-8300-9d62f0f524c1",
     "showTitle": false,
     "title": ""
    }
   },
   "outputs": [
    {
     "output_type": "display_data",
     "data": {
      "text/plain": [
       ""
      ]
     },
     "metadata": {
      "application/vnd.databricks.v1+output": {
       "arguments": {},
       "data": "",
       "errorSummary": "Command skipped",
       "errorTraceType": "ansi",
       "metadata": {},
       "type": "ipynbError"
      }
     },
     "output_type": "display_data"
    }
   ],
   "source": [
    "for i in range(1,33):\n",
    " %time benchmark(arquivo)"
   ]
  }
 ],
 "metadata": {
  "application/vnd.databricks.v1+notebook": {
   "dashboards": [],
   "language": "python",
   "notebookMetadata": {
    "mostRecentlyExecutedCommandWithImplicitDF": {
     "commandId": 167082039869005,
     "dataframes": [
      "_sqldf"
     ]
    },
    "pythonIndentUnit": 4
   },
   "notebookName": "worldclim_databricks_prec",
   "widgets": {}
  }
 },
 "nbformat": 4,
 "nbformat_minor": 0
}
