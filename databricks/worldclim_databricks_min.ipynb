{
  "cells": [
    {
      "cell_type": "code",
      "execution_count": null,
      "metadata": {
        "application/vnd.databricks.v1+cell": {
          "cellMetadata": {
            "byteLimit": 2048000,
            "rowLimit": 10000
          },
          "inputWidgets": {},
          "nuid": "471e190e-8858-43f7-aa0c-0d3f1413d43a",
          "showTitle": false,
          "title": ""
        },
        "id": "tY3xorQHgYkX",
        "outputId": "f679e258-73a4-4ee2-a610-80552a944f42"
      },
      "outputs": [
        {
          "output_type": "stream",
          "name": "stdout",
          "text": [
            "Requirement already satisfied: pip in /local_disk0/.ephemeral_nfs/envs/pythonEnv-fc6b9ca7-45b6-4967-8135-ae3a7a61885b/lib/python3.9/site-packages (21.2.4)\r\nCollecting pip\r\n  Downloading pip-24.0-py3-none-any.whl (2.1 MB)\r\n\u001b[?25l\r\u001b[K     |▏                               | 10 kB 24.5 MB/s eta 0:00:01\r\u001b[K     |▎                               | 20 kB 7.1 MB/s eta 0:00:01\r\u001b[K     |▌                               | 30 kB 10.1 MB/s eta 0:00:01\r\u001b[K     |▋                               | 40 kB 5.6 MB/s eta 0:00:01\r\u001b[K     |▊                               | 51 kB 6.0 MB/s eta 0:00:01\r\u001b[K     |█                               | 61 kB 7.1 MB/s eta 0:00:01\r\u001b[K     |█                               | 71 kB 6.9 MB/s eta 0:00:01\r\u001b[K     |█▎                              | 81 kB 7.8 MB/s eta 0:00:01\r\u001b[K     |█▍                              | 92 kB 6.5 MB/s eta 0:00:01\r\u001b[K     |█▌                              | 102 kB 6.3 MB/s eta 0:00:01\r\u001b[K     |█▊                              | 112 kB 6.3 MB/s eta 0:00:01\r\u001b[K     |█▉                              | 122 kB 6.3 MB/s eta 0:00:01\r\u001b[K     |██                              | 133 kB 6.3 MB/s eta 0:00:01\r\u001b[K     |██▏                             | 143 kB 6.3 MB/s eta 0:00:01\r\u001b[K     |██▎                             | 153 kB 6.3 MB/s eta 0:00:01\r\u001b[K     |██▌                             | 163 kB 6.3 MB/s eta 0:00:01\r\u001b[K     |██▋                             | 174 kB 6.3 MB/s eta 0:00:01\r\u001b[K     |██▉                             | 184 kB 6.3 MB/s eta 0:00:01\r\u001b[K     |███                             | 194 kB 6.3 MB/s eta 0:00:01\r\u001b[K     |███                             | 204 kB 6.3 MB/s eta 0:00:01\r\u001b[K     |███▎                            | 215 kB 6.3 MB/s eta 0:00:01\r\u001b[K     |███▍                            | 225 kB 6.3 MB/s eta 0:00:01\r\u001b[K     |███▋                            | 235 kB 6.3 MB/s eta 0:00:01\r\u001b[K     |███▊                            | 245 kB 6.3 MB/s eta 0:00:01\r\u001b[K     |███▉                            | 256 kB 6.3 MB/s eta 0:00:01\r\u001b[K     |████                            | 266 kB 6.3 MB/s eta 0:00:01\r\u001b[K     |████▏                           | 276 kB 6.3 MB/s eta 0:00:01\r\u001b[K     |████▍                           | 286 kB 6.3 MB/s eta 0:00:01\r\u001b[K     |████▌                           | 296 kB 6.3 MB/s eta 0:00:01\r\u001b[K     |████▋                           | 307 kB 6.3 MB/s eta 0:00:01\r\u001b[K     |████▉                           | 317 kB 6.3 MB/s eta 0:00:01\r\u001b[K     |█████                           | 327 kB 6.3 MB/s eta 0:00:01\r\u001b[K     |█████▏                          | 337 kB 6.3 MB/s eta 0:00:01\r\u001b[K     |█████▎                          | 348 kB 6.3 MB/s eta 0:00:01\r\u001b[K     |█████▍                          | 358 kB 6.3 MB/s eta 0:00:01\r\u001b[K     |█████▋                          | 368 kB 6.3 MB/s eta 0:00:01\r\u001b[K     |█████▊                          | 378 kB 6.3 MB/s eta 0:00:01\r\u001b[K     |██████                          | 389 kB 6.3 MB/s eta 0:00:01\r\u001b[K     |██████                          | 399 kB 6.3 MB/s eta 0:00:01\r\u001b[K     |██████▏                         | 409 kB 6.3 MB/s eta 0:00:01\r\u001b[K     |██████▍                         | 419 kB 6.3 MB/s eta 0:00:01\r\u001b[K     |██████▌                         | 430 kB 6.3 MB/s eta 0:00:01\r\u001b[K     |██████▊                         | 440 kB 6.3 MB/s eta 0:00:01\r\u001b[K     |██████▉                         | 450 kB 6.3 MB/s eta 0:00:01\r\u001b[K     |███████                         | 460 kB 6.3 MB/s eta 0:00:01\r\u001b[K     |███████▏                        | 471 kB 6.3 MB/s eta 0:00:01\r\u001b[K     |███████▎                        | 481 kB 6.3 MB/s eta 0:00:01\r\u001b[K     |███████▌                        | 491 kB 6.3 MB/s eta 0:00:01\r\u001b[K     |███████▋                        | 501 kB 6.3 MB/s eta 0:00:01\r\u001b[K     |███████▊                        | 512 kB 6.3 MB/s eta 0:00:01\r\u001b[K     |████████                        | 522 kB 6.3 MB/s eta 0:00:01\r\u001b[K     |████████                        | 532 kB 6.3 MB/s eta 0:00:01\r\u001b[K     |████████▎                       | 542 kB 6.3 MB/s eta 0:00:01\r\u001b[K     |████████▍                       | 552 kB 6.3 MB/s eta 0:00:01\r\u001b[K     |████████▌                       | 563 kB 6.3 MB/s eta 0:00:01\r\u001b[K     |████████▊                       | 573 kB 6.3 MB/s eta 0:00:01\r\u001b[K     |████████▉                       | 583 kB 6.3 MB/s eta 0:00:01\r\u001b[K     |█████████                       | 593 kB 6.3 MB/s eta 0:00:01\r\u001b[K     |█████████▏                      | 604 kB 6.3 MB/s eta 0:00:01\r\u001b[K     |█████████▎                      | 614 kB 6.3 MB/s eta 0:00:01\r\u001b[K     |█████████▌                      | 624 kB 6.3 MB/s eta 0:00:01\r\u001b[K     |█████████▋                      | 634 kB 6.3 MB/s eta 0:00:01\r\u001b[K     |█████████▉                      | 645 kB 6.3 MB/s eta 0:00:01\r\u001b[K     |██████████                      | 655 kB 6.3 MB/s eta 0:00:01\r\u001b[K     |██████████                      | 665 kB 6.3 MB/s eta 0:00:01\r\u001b[K     |██████████▎                     | 675 kB 6.3 MB/s eta 0:00:01\r\u001b[K     |██████████▍                     | 686 kB 6.3 MB/s eta 0:00:01\r\u001b[K     |██████████▋                     | 696 kB 6.3 MB/s eta 0:00:01\r\u001b[K     |██████████▊                     | 706 kB 6.3 MB/s eta 0:00:01\r\u001b[K     |██████████▉                     | 716 kB 6.3 MB/s eta 0:00:01\r\u001b[K     |███████████                     | 727 kB 6.3 MB/s eta 0:00:01\r\u001b[K     |███████████▏                    | 737 kB 6.3 MB/s eta 0:00:01\r\u001b[K     |███████████▍                    | 747 kB 6.3 MB/s eta 0:00:01\r\u001b[K     |███████████▌                    | 757 kB 6.3 MB/s eta 0:00:01\r\u001b[K     |███████████▋                    | 768 kB 6.3 MB/s eta 0:00:01\r\u001b[K     |███████████▉                    | 778 kB 6.3 MB/s eta 0:00:01\r\u001b[K     |████████████                    | 788 kB 6.3 MB/s eta 0:00:01\r\u001b[K     |████████████▏                   | 798 kB 6.3 MB/s eta 0:00:01\r\u001b[K     |████████████▎                   | 808 kB 6.3 MB/s eta 0:00:01\r\u001b[K     |████████████▍                   | 819 kB 6.3 MB/s eta 0:00:01\r\u001b[K     |████████████▋                   | 829 kB 6.3 MB/s eta 0:00:01\r\u001b[K     |████████████▊                   | 839 kB 6.3 MB/s eta 0:00:01\r\u001b[K     |████████████▉                   | 849 kB 6.3 MB/s eta 0:00:01\r\u001b[K     |█████████████                   | 860 kB 6.3 MB/s eta 0:00:01\r\u001b[K     |█████████████▏                  | 870 kB 6.3 MB/s eta 0:00:01\r\u001b[K     |█████████████▍                  | 880 kB 6.3 MB/s eta 0:00:01\r\u001b[K     |█████████████▌                  | 890 kB 6.3 MB/s eta 0:00:01\r\u001b[K     |█████████████▋                  | 901 kB 6.3 MB/s eta 0:00:01\r\u001b[K     |█████████████▉                  | 911 kB 6.3 MB/s eta 0:00:01\r\u001b[K     |██████████████                  | 921 kB 6.3 MB/s eta 0:00:01\r\u001b[K     |██████████████▏                 | 931 kB 6.3 MB/s eta 0:00:01\r\u001b[K     |██████████████▎                 | 942 kB 6.3 MB/s eta 0:00:01\r\u001b[K     |██████████████▍                 | 952 kB 6.3 MB/s eta 0:00:01\r\u001b[K     |██████████████▋                 | 962 kB 6.3 MB/s eta 0:00:01\r\u001b[K     |██████████████▊                 | 972 kB 6.3 MB/s eta 0:00:01\r\u001b[K     |███████████████                 | 983 kB 6.3 MB/s eta 0:00:01\r\u001b[K     |███████████████                 | 993 kB 6.3 MB/s eta 0:00:01\r\u001b[K     |███████████████▏                | 1.0 MB 6.3 MB/s eta 0:00:01\r\u001b[K     |███████████████▍                | 1.0 MB 6.3 MB/s eta 0:00:01\r\u001b[K     |███████████████▌                | 1.0 MB 6.3 MB/s eta 0:00:01\r\u001b[K     |███████████████▊                | 1.0 MB 6.3 MB/s eta 0:00:01\r\u001b[K     |███████████████▉                | 1.0 MB 6.3 MB/s eta 0:00:01\r\u001b[K     |████████████████                | 1.1 MB 6.3 MB/s eta 0:00:01\r\u001b[K     |████████████████▏               | 1.1 MB 6.3 MB/s eta 0:00:01\r\u001b[K     |████████████████▎               | 1.1 MB 6.3 MB/s eta 0:00:01\r\u001b[K     |████████████████▌               | 1.1 MB 6.3 MB/s eta 0:00:01\r\u001b[K     |████████████████▋               | 1.1 MB 6.3 MB/s eta 0:00:01\r\u001b[K     |████████████████▊               | 1.1 MB 6.3 MB/s eta 0:00:01\r\u001b[K     |█████████████████               | 1.1 MB 6.3 MB/s eta 0:00:01\r\u001b[K     |█████████████████               | 1.1 MB 6.3 MB/s eta 0:00:01\r\u001b[K     |█████████████████▎              | 1.1 MB 6.3 MB/s eta 0:00:01\r\u001b[K     |█████████████████▍              | 1.1 MB 6.3 MB/s eta 0:00:01\r\u001b[K     |█████████████████▌              | 1.2 MB 6.3 MB/s eta 0:00:01\r\u001b[K     |█████████████████▊              | 1.2 MB 6.3 MB/s eta 0:00:01\r\u001b[K     |█████████████████▉              | 1.2 MB 6.3 MB/s eta 0:00:01\r\u001b[K     |██████████████████              | 1.2 MB 6.3 MB/s eta 0:00:01\r\u001b[K     |██████████████████▏             | 1.2 MB 6.3 MB/s eta 0:00:01\r\u001b[K     |██████████████████▎             | 1.2 MB 6.3 MB/s eta 0:00:01\r\u001b[K     |██████████████████▌             | 1.2 MB 6.3 MB/s eta 0:00:01\r\u001b[K     |██████████████████▋             | 1.2 MB 6.3 MB/s eta 0:00:01\r\u001b[K     |██████████████████▉             | 1.2 MB 6.3 MB/s eta 0:00:01\r\u001b[K     |███████████████████             | 1.2 MB 6.3 MB/s eta 0:00:01\r\u001b[K     |███████████████████             | 1.3 MB 6.3 MB/s eta 0:00:01\r\u001b[K     |███████████████████▎            | 1.3 MB 6.3 MB/s eta 0:00:01\r\u001b[K     |███████████████████▍            | 1.3 MB 6.3 MB/s eta 0:00:01\r\u001b[K     |███████████████████▋            | 1.3 MB 6.3 MB/s eta 0:00:01\r\u001b[K     |███████████████████▊            | 1.3 MB 6.3 MB/s eta 0:00:01\r\u001b[K     |███████████████████▉            | 1.3 MB 6.3 MB/s eta 0:00:01\r\u001b[K     |████████████████████            | 1.3 MB 6.3 MB/s eta 0:00:01\r\u001b[K     |████████████████████▏           | 1.3 MB 6.3 MB/s eta 0:00:01\r\u001b[K     |████████████████████▍           | 1.3 MB 6.3 MB/s eta 0:00:01\r\u001b[K     |████████████████████▌           | 1.4 MB 6.3 MB/s eta 0:00:01\r\u001b[K     |████████████████████▋           | 1.4 MB 6.3 MB/s eta 0:00:01\r\u001b[K     |████████████████████▉           | 1.4 MB 6.3 MB/s eta 0:00:01\r\u001b[K     |█████████████████████           | 1.4 MB 6.3 MB/s eta 0:00:01\r\u001b[K     |█████████████████████▏          | 1.4 MB 6.3 MB/s eta 0:00:01\r\u001b[K     |█████████████████████▎          | 1.4 MB 6.3 MB/s eta 0:00:01\r\u001b[K     |█████████████████████▍          | 1.4 MB 6.3 MB/s eta 0:00:01\r\u001b[K     |█████████████████████▋          | 1.4 MB 6.3 MB/s eta 0:00:01\r\u001b[K     |█████████████████████▊          | 1.4 MB 6.3 MB/s eta 0:00:01\r\u001b[K     |██████████████████████          | 1.4 MB 6.3 MB/s eta 0:00:01\r\u001b[K     |██████████████████████          | 1.5 MB 6.3 MB/s eta 0:00:01\r\u001b[K     |██████████████████████▏         | 1.5 MB 6.3 MB/s eta 0:00:01\r\u001b[K     |██████████████████████▍         | 1.5 MB 6.3 MB/s eta 0:00:01\r\u001b[K     |██████████████████████▌         | 1.5 MB 6.3 MB/s eta 0:00:01\r\u001b[K     |██████████████████████▊         | 1.5 MB 6.3 MB/s eta 0:00:01\r\u001b[K     |██████████████████████▉         | 1.5 MB 6.3 MB/s eta 0:00:01\r\u001b[K     |███████████████████████         | 1.5 MB 6.3 MB/s eta 0:00:01\r\u001b[K     |███████████████████████▏        | 1.5 MB 6.3 MB/s eta 0:00:01\r\u001b[K     |███████████████████████▎        | 1.5 MB 6.3 MB/s eta 0:00:01\r\u001b[K     |███████████████████████▌        | 1.5 MB 6.3 MB/s eta 0:00:01\r\u001b[K     |███████████████████████▋        | 1.6 MB 6.3 MB/s eta 0:00:01\r\u001b[K     |███████████████████████▊        | 1.6 MB 6.3 MB/s eta 0:00:01\r\u001b[K     |████████████████████████        | 1.6 MB 6.3 MB/s eta 0:00:01\r\u001b[K     |████████████████████████        | 1.6 MB 6.3 MB/s eta 0:00:01\r\u001b[K     |████████████████████████▎       | 1.6 MB 6.3 MB/s eta 0:00:01\r\u001b[K     |████████████████████████▍       | 1.6 MB 6.3 MB/s eta 0:00:01\r\u001b[K     |████████████████████████▌       | 1.6 MB 6.3 MB/s eta 0:00:01\r\u001b[K     |████████████████████████▊       | 1.6 MB 6.3 MB/s eta 0:00:01\r\u001b[K     |████████████████████████▉       | 1.6 MB 6.3 MB/s eta 0:00:01\r\u001b[K     |█████████████████████████       | 1.6 MB 6.3 MB/s eta 0:00:01\r\u001b[K     |█████████████████████████▏      | 1.7 MB 6.3 MB/s eta 0:00:01\r\u001b[K     |█████████████████████████▎      | 1.7 MB 6.3 MB/s eta 0:00:01\r\u001b[K     |█████████████████████████▌      | 1.7 MB 6.3 MB/s eta 0:00:01\r\u001b[K     |█████████████████████████▋      | 1.7 MB 6.3 MB/s eta 0:00:01\r\u001b[K     |█████████████████████████▊      | 1.7 MB 6.3 MB/s eta 0:00:01\r\u001b[K     |██████████████████████████      | 1.7 MB 6.3 MB/s eta 0:00:01\r\u001b[K     |██████████████████████████      | 1.7 MB 6.3 MB/s eta 0:00:01\r\u001b[K     |██████████████████████████▎     | 1.7 MB 6.3 MB/s eta 0:00:01\r\u001b[K     |██████████████████████████▍     | 1.7 MB 6.3 MB/s eta 0:00:01\r\u001b[K     |██████████████████████████▌     | 1.8 MB 6.3 MB/s eta 0:00:01\r\u001b[K     |██████████████████████████▊     | 1.8 MB 6.3 MB/s eta 0:00:01\r\u001b[K     |██████████████████████████▉     | 1.8 MB 6.3 MB/s eta 0:00:01\r\u001b[K     |███████████████████████████     | 1.8 MB 6.3 MB/s eta 0:00:01\r\u001b[K     |███████████████████████████▏    | 1.8 MB 6.3 MB/s eta 0:00:01\r\u001b[K     |███████████████████████████▎    | 1.8 MB 6.3 MB/s eta 0:00:01\r\u001b[K     |███████████████████████████▌    | 1.8 MB 6.3 MB/s eta 0:00:01\r\u001b[K     |███████████████████████████▋    | 1.8 MB 6.3 MB/s eta 0:00:01\r\u001b[K     |███████████████████████████▉    | 1.8 MB 6.3 MB/s eta 0:00:01\r\u001b[K     |████████████████████████████    | 1.8 MB 6.3 MB/s eta 0:00:01\r\u001b[K     |████████████████████████████    | 1.9 MB 6.3 MB/s eta 0:00:01\r\u001b[K     |████████████████████████████▎   | 1.9 MB 6.3 MB/s eta 0:00:01\r\u001b[K     |████████████████████████████▍   | 1.9 MB 6.3 MB/s eta 0:00:01\r\u001b[K     |████████████████████████████▋   | 1.9 MB 6.3 MB/s eta 0:00:01\r\u001b[K     |████████████████████████████▊   | 1.9 MB 6.3 MB/s eta 0:00:01\r\u001b[K     |████████████████████████████▉   | 1.9 MB 6.3 MB/s eta 0:00:01\r\u001b[K     |█████████████████████████████   | 1.9 MB 6.3 MB/s eta 0:00:01\r\u001b[K     |█████████████████████████████▏  | 1.9 MB 6.3 MB/s eta 0:00:01\r\u001b[K     |█████████████████████████████▍  | 1.9 MB 6.3 MB/s eta 0:00:01\r\u001b[K     |█████████████████████████████▌  | 1.9 MB 6.3 MB/s eta 0:00:01\r\u001b[K     |█████████████████████████████▋  | 2.0 MB 6.3 MB/s eta 0:00:01\r\u001b[K     |█████████████████████████████▉  | 2.0 MB 6.3 MB/s eta 0:00:01\r\u001b[K     |██████████████████████████████  | 2.0 MB 6.3 MB/s eta 0:00:01\r\u001b[K     |██████████████████████████████▏ | 2.0 MB 6.3 MB/s eta 0:00:01\r\u001b[K     |██████████████████████████████▎ | 2.0 MB 6.3 MB/s eta 0:00:01\r\u001b[K     |██████████████████████████████▍ | 2.0 MB 6.3 MB/s eta 0:00:01\r\u001b[K     |██████████████████████████████▋ | 2.0 MB 6.3 MB/s eta 0:00:01\r\u001b[K     |██████████████████████████████▊ | 2.0 MB 6.3 MB/s eta 0:00:01\r\u001b[K     |███████████████████████████████ | 2.0 MB 6.3 MB/s eta 0:00:01\r\u001b[K     |███████████████████████████████ | 2.0 MB 6.3 MB/s eta 0:00:01\r\u001b[K     |███████████████████████████████▏| 2.1 MB 6.3 MB/s eta 0:00:01\r\u001b[K     |███████████████████████████████▍| 2.1 MB 6.3 MB/s eta 0:00:01\r\u001b[K     |███████████████████████████████▌| 2.1 MB 6.3 MB/s eta 0:00:01\r\u001b[K     |███████████████████████████████▊| 2.1 MB 6.3 MB/s eta 0:00:01\r\u001b[K     |███████████████████████████████▉| 2.1 MB 6.3 MB/s eta 0:00:01\r\u001b[K     |████████████████████████████████| 2.1 MB 6.3 MB/s eta 0:00:01\r\u001b[K     |████████████████████████████████| 2.1 MB 6.3 MB/s \r\n\u001b[?25hInstalling collected packages: pip\r\n  Attempting uninstall: pip\r\n    Found existing installation: pip 21.2.4\r\n    Uninstalling pip-21.2.4:\r\n      Successfully uninstalled pip-21.2.4\r\nSuccessfully installed pip-24.0\r\n"
          ]
        }
      ],
      "source": [
        "!pip install --upgrade pip"
      ]
    },
    {
      "cell_type": "markdown",
      "metadata": {
        "application/vnd.databricks.v1+cell": {
          "cellMetadata": {
            "byteLimit": 2048000,
            "rowLimit": 10000
          },
          "inputWidgets": {},
          "nuid": "d898ba85-8013-4efb-906b-439a2a5d0f44",
          "showTitle": false,
          "title": ""
        },
        "id": "5ZYhEwYVgYkY"
      },
      "source": [
        "Instalando o gdal manualmente"
      ]
    },
    {
      "cell_type": "code",
      "execution_count": null,
      "metadata": {
        "application/vnd.databricks.v1+cell": {
          "cellMetadata": {
            "byteLimit": 2048000,
            "rowLimit": 10000
          },
          "inputWidgets": {},
          "nuid": "8edb3e3b-3738-4f5a-b79a-375dc15ee768",
          "showTitle": false,
          "title": ""
        },
        "id": "Hnsiu2megYkZ",
        "outputId": "2636d7a5-bbda-4566-8098-050384f42d14"
      },
      "outputs": [
        {
          "output_type": "stream",
          "name": "stdout",
          "text": [
            "Hit:1 https://repos.azul.com/zulu/deb stable InRelease\nHit:2 http://archive.ubuntu.com/ubuntu focal InRelease\nGet:3 http://archive.ubuntu.com/ubuntu focal-updates InRelease [114 kB]\nHit:4 http://security.ubuntu.com/ubuntu focal-security InRelease\nHit:5 http://archive.ubuntu.com/ubuntu focal-backports InRelease\nGet:6 http://archive.ubuntu.com/ubuntu focal-updates/universe amd64 Packages [1,497 kB]\nGet:7 http://archive.ubuntu.com/ubuntu focal-updates/multiverse amd64 Packages [32.5 kB]\nGet:8 http://archive.ubuntu.com/ubuntu focal-updates/restricted amd64 Packages [3,686 kB]\nGet:9 http://archive.ubuntu.com/ubuntu focal-updates/main amd64 Packages [4,069 kB]\nFetched 9,399 kB in 2s (4,769 kB/s)\nReading package lists...\nReading package lists...\nBuilding dependency tree...\nReading state information...\nThe following additional packages will be installed:\n  default-libmysqlclient-dev gdal-data hdf5-helpers libaec-dev libaec0\n  libarmadillo-dev libarmadillo9 libarpack2 libarpack2-dev libboost-dev\n  libboost1.71-dev libcfitsio-dev libcfitsio-doc libcfitsio8 libcharls-dev\n  libcharls2 libdap-dev libdap25 libdapclient6v5 libdapserver7v5\n  libepsilon-dev libepsilon1 libfreexl-dev libfreexl1 libfyba-dev libfyba0\n  libgdal26 libgeos-3.8.0 libgeos-c1v5 libgeos-dev libgeotiff-dev libgeotiff5\n  libgif-dev libhdf4-0-alt libhdf4-alt-dev libhdf5-103 libhdf5-cpp-103\n  libhdf5-dev libjson-c-dev libkml-dev libkmlbase1 libkmlconvenience1\n  libkmldom1 libkmlengine1 libkmlregionator1 libkmlxsd1 libminizip-dev\n  libminizip1 libmysqlclient-dev libmysqlclient21 libnetcdf-dev libnetcdf15\n  libogdi-dev libogdi4.1 libopenjp2-7-dev libpoppler-dev\n  libpoppler-private-dev libpoppler97 libproj-dev libproj15 libqhull-dev\n  libqhull-r7 libqhull7 libspatialite-dev libspatialite7 libsuperlu-dev\n  libsuperlu5 libsz2 liburiparser-dev liburiparser1 libwebp-dev libwebpdemux2\n  libxerces-c-dev libxerces-c3.2 libzstd-dev proj-bin proj-data python3-gdal\n  python3-numpy\nSuggested packages:\n  libgdal-grass libitpp-dev libboost-doc libboost1.71-doc\n  libboost-atomic1.71-dev libboost-chrono1.71-dev libboost-container1.71-dev\n  libboost-context1.71-dev libboost-contract1.71-dev\n  libboost-coroutine1.71-dev libboost-date-time1.71-dev\n  libboost-exception1.71-dev libboost-fiber1.71-dev\n  libboost-filesystem1.71-dev libboost-graph1.71-dev\n  libboost-graph-parallel1.71-dev libboost-iostreams1.71-dev\n  libboost-locale1.71-dev libboost-log1.71-dev libboost-math1.71-dev\n  libboost-mpi1.71-dev libboost-mpi-python1.71-dev libboost-numpy1.71-dev\n  libboost-program-options1.71-dev libboost-python1.71-dev\n  libboost-random1.71-dev libboost-regex1.71-dev\n  libboost-serialization1.71-dev libboost-stacktrace1.71-dev\n  libboost-system1.71-dev libboost-test1.71-dev libboost-thread1.71-dev\n  libboost-timer1.71-dev libboost-type-erasure1.71-dev libboost-wave1.71-dev\n  libboost1.71-tools-dev libmpfrc++-dev libntl-dev libgdal-doc libgeotiff-epsg\n  geotiff-bin libhdf4-doc hdf4-tools libhdf5-doc netcdf-bin netcdf-doc\n  ogdi-bin libsuperlu-doc libxerces-c-doc python-numpy-doc python3-dev\n  python3-pytest python3-numpy-dbg\nThe following NEW packages will be installed:\n  default-libmysqlclient-dev gdal-bin gdal-data hdf5-helpers libaec-dev\n  libaec0 libarmadillo-dev libarmadillo9 libarpack2 libarpack2-dev\n  libboost-dev libboost1.71-dev libcfitsio-dev libcfitsio-doc libcfitsio8\n  libcharls-dev libcharls2 libdap-dev libdap25 libdapclient6v5 libdapserver7v5\n  libepsilon-dev libepsilon1 libfreexl-dev libfreexl1 libfyba-dev libfyba0\n  libgdal-dev libgdal26 libgeos-3.8.0 libgeos-c1v5 libgeos-dev libgeotiff-dev\n  libgeotiff5 libgif-dev libhdf4-0-alt libhdf4-alt-dev libhdf5-103\n  libhdf5-cpp-103 libhdf5-dev libjson-c-dev libkml-dev libkmlbase1\n  libkmlconvenience1 libkmldom1 libkmlengine1 libkmlregionator1 libkmlxsd1\n  libminizip-dev libminizip1 libmysqlclient-dev libmysqlclient21 libnetcdf-dev\n  libnetcdf15 libogdi-dev libogdi4.1 libopenjp2-7-dev libpoppler-dev\n  libpoppler-private-dev libpoppler97 libproj-dev libproj15 libqhull-dev\n  libqhull-r7 libqhull7 libspatialite-dev libspatialite7 libsuperlu-dev\n  libsuperlu5 libsz2 liburiparser-dev liburiparser1 libwebp-dev libwebpdemux2\n  libxerces-c-dev libxerces-c3.2 libzstd-dev proj-bin proj-data python3-gdal\n  python3-numpy\n0 upgraded, 81 newly installed, 0 to remove and 71 not upgraded.\nNeed to get 60.6 MB of archives.\nAfter this operation, 394 MB of additional disk space will be used.\nGet:1 http://archive.ubuntu.com/ubuntu focal-updates/main amd64 libmysqlclient21 amd64 8.0.36-0ubuntu0.20.04.1 [1,302 kB]\nGet:2 http://archive.ubuntu.com/ubuntu focal-updates/main amd64 libmysqlclient-dev amd64 8.0.36-0ubuntu0.20.04.1 [1,641 kB]\nGet:3 http://archive.ubuntu.com/ubuntu focal/main amd64 default-libmysqlclient-dev amd64 1.0.5ubuntu2 [3,932 B]\nGet:4 http://archive.ubuntu.com/ubuntu focal-updates/main amd64 python3-numpy amd64 1:1.17.4-5ubuntu3.1 [2,724 kB]\nGet:5 http://archive.ubuntu.com/ubuntu focal/universe amd64 gdal-data all 3.0.4+dfsg-1build3 [186 kB]\nGet:6 http://archive.ubuntu.com/ubuntu focal/universe amd64 libarpack2 amd64 3.7.0-3 [92.8 kB]\nGet:7 http://archive.ubuntu.com/ubuntu focal/universe amd64 libsuperlu5 amd64 5.2.1+dfsg1-4 [159 kB]\nGet:8 http://archive.ubuntu.com/ubuntu focal/universe amd64 libarmadillo9 amd64 1:9.800.4+dfsg-1build1 [93.2 kB]\nGet:9 http://archive.ubuntu.com/ubuntu focal/universe amd64 libcfitsio8 amd64 3.470-3 [466 kB]\nGet:10 http://archive.ubuntu.com/ubuntu focal/universe amd64 libcharls2 amd64 2.0.0+dfsg-1build1 [74.1 kB]\nGet:11 http://archive.ubuntu.com/ubuntu focal/universe amd64 libdap25 amd64 3.20.5-1 [435 kB]\nGet:12 http://archive.ubuntu.com/ubuntu focal/universe amd64 libdapclient6v5 amd64 3.20.5-1 [92.2 kB]\nGet:13 http://archive.ubuntu.com/ubuntu focal/universe amd64 libepsilon1 amd64 0.9.2+dfsg-4 [41.0 kB]\nGet:14 http://archive.ubuntu.com/ubuntu focal/universe amd64 libfreexl1 amd64 1.0.5-3 [33.4 kB]\nGet:15 http://archive.ubuntu.com/ubuntu focal/universe amd64 libfyba0 amd64 4.1.1-6build1 [113 kB]\nGet:16 http://archive.ubuntu.com/ubuntu focal/universe amd64 libgeos-3.8.0 amd64 3.8.0-1build1 [535 kB]\nGet:17 http://archive.ubuntu.com/ubuntu focal/universe amd64 libgeos-c1v5 amd64 3.8.0-1build1 [69.9 kB]\nGet:18 http://archive.ubuntu.com/ubuntu focal/universe amd64 proj-data all 6.3.1-1 [7,647 kB]\nGet:19 http://archive.ubuntu.com/ubuntu focal/universe amd64 libproj15 amd64 6.3.1-1 [925 kB]\nGet:20 http://archive.ubuntu.com/ubuntu focal/universe amd64 libgeotiff5 amd64 1.5.1-2 [53.1 kB]\nGet:21 http://archive.ubuntu.com/ubuntu focal/universe amd64 libhdf4-0-alt amd64 4.2.14-1ubuntu1 [268 kB]\nGet:22 http://archive.ubuntu.com/ubuntu focal/universe amd64 libaec0 amd64 1.0.4-1 [19.1 kB]\nGet:23 http://archive.ubuntu.com/ubuntu focal/universe amd64 libsz2 amd64 1.0.4-1 [5,188 B]\nGet:24 http://archive.ubuntu.com/ubuntu focal/universe amd64 libhdf5-103 amd64 1.10.4+repack-11ubuntu1 [1,311 kB]\nGet:25 http://archive.ubuntu.com/ubuntu focal/universe amd64 libminizip1 amd64 1.1-8build1 [20.2 kB]\nGet:26 http://archive.ubuntu.com/ubuntu focal/universe amd64 liburiparser1 amd64 0.9.3-2 [39.3 kB]\nGet:27 http://archive.ubuntu.com/ubuntu focal/universe amd64 libkmlbase1 amd64 1.3.0-8build1 [45.4 kB]\nGet:28 http://archive.ubuntu.com/ubuntu focal/universe amd64 libkmldom1 amd64 1.3.0-8build1 [152 kB]\nGet:29 http://archive.ubuntu.com/ubuntu focal/universe amd64 libkmlengine1 amd64 1.3.0-8build1 [72.5 kB]\nGet:30 http://archive.ubuntu.com/ubuntu focal/universe amd64 libnetcdf15 amd64 1:4.7.3-1 [341 kB]\nGet:31 http://archive.ubuntu.com/ubuntu focal/universe amd64 libogdi4.1 amd64 4.1.0+ds-1build1 [198 kB]\nGet:32 http://archive.ubuntu.com/ubuntu focal-updates/main amd64 libpoppler97 amd64 0.86.1-0ubuntu1.4 [916 kB]\nGet:33 http://archive.ubuntu.com/ubuntu focal/universe amd64 libqhull7 amd64 2015.2-4 [152 kB]\nGet:34 http://archive.ubuntu.com/ubuntu focal/universe amd64 libspatialite7 amd64 4.3.0a-6build1 [1,286 kB]\nGet:35 http://archive.ubuntu.com/ubuntu focal-updates/universe amd64 libxerces-c3.2 amd64 3.2.2+debian-1ubuntu0.2 [878 kB]\nGet:36 http://archive.ubuntu.com/ubuntu focal/universe amd64 libgdal26 amd64 3.0.4+dfsg-1build3 [6,156 kB]\nGet:37 http://archive.ubuntu.com/ubuntu focal/universe amd64 python3-gdal amd64 3.0.4+dfsg-1build3 [527 kB]\nGet:38 http://archive.ubuntu.com/ubuntu focal/universe amd64 gdal-bin amd64 3.0.4+dfsg-1build3 [256 kB]\nGet:39 http://archive.ubuntu.com/ubuntu focal/universe amd64 hdf5-helpers amd64 1.10.4+repack-11ubuntu1 [13.6 kB]\nGet:40 http://archive.ubuntu.com/ubuntu focal/universe amd64 libarpack2-dev amd64 3.7.0-3 [105 kB]\nGet:41 http://archive.ubuntu.com/ubuntu focal/universe amd64 libaec-dev amd64 1.0.4-1 [16.9 kB]\nGet:42 http://archive.ubuntu.com/ubuntu focal/universe amd64 libhdf5-cpp-103 amd64 1.10.4+repack-11ubuntu1 [120 kB]\nGet:43 http://archive.ubuntu.com/ubuntu focal/universe amd64 libhdf5-dev amd64 1.10.4+repack-11ubuntu1 [2,589 kB]\nGet:44 http://archive.ubuntu.com/ubuntu focal/universe amd64 libsuperlu-dev amd64 5.2.1+dfsg1-4 [16.4 kB]\nGet:45 http://archive.ubuntu.com/ubuntu focal/universe amd64 libarmadillo-dev amd64 1:9.800.4+dfsg-1build1 [374 kB]\nGet:46 http://archive.ubuntu.com/ubuntu focal/main amd64 libboost1.71-dev amd64 1.71.0-6ubuntu6 [9,068 kB]\nGet:47 http://archive.ubuntu.com/ubuntu focal/main amd64 libboost-dev amd64 1.71.0.0ubuntu2 [3,596 B]\nGet:48 http://archive.ubuntu.com/ubuntu focal/universe amd64 libcfitsio-dev amd64 3.470-3 [517 kB]\nGet:49 http://archive.ubuntu.com/ubuntu focal/universe amd64 libcfitsio-doc all 3.470-3 [2,015 kB]\nGet:50 http://archive.ubuntu.com/ubuntu focal/universe amd64 libcharls-dev amd64 2.0.0+dfsg-1build1 [6,568 B]\nGet:51 http://archive.ubuntu.com/ubuntu focal/universe amd64 libdapserver7v5 amd64 3.20.5-1 [23.0 kB]\nGet:52 http://archive.ubuntu.com/ubuntu focal/universe amd64 libdap-dev amd64 3.20.5-1 [745 kB]\nGet:53 http://archive.ubuntu.com/ubuntu focal/universe amd64 libfyba-dev amd64 4.1.1-6build1 [167 kB]\nGet:54 http://archive.ubuntu.com/ubuntu focal/universe amd64 libgeos-dev amd64 3.8.0-1build1 [92.3 kB]\nGet:55 http://archive.ubuntu.com/ubuntu focal/main amd64 libgif-dev amd64 5.1.9-1 [20.6 kB]\nGet:56 http://archive.ubuntu.com/ubuntu focal/universe amd64 libkmlconvenience1 amd64 1.3.0-8build1 [44.7 kB]\nGet:57 http://archive.ubuntu.com/ubuntu focal/universe amd64 libkmlregionator1 amd64 1.3.0-8build1 [19.8 kB]\nGet:58 http://archive.ubuntu.com/ubuntu focal/universe amd64 libkmlxsd1 amd64 1.3.0-8build1 [27.1 kB]\nGet:59 http://archive.ubuntu.com/ubuntu focal/universe amd64 libminizip-dev amd64 1.1-8build1 [26.7 kB]\nGet:60 http://archive.ubuntu.com/ubuntu focal/universe amd64 libnetcdf-dev amd64 1:4.7.3-1 [45.7 kB]\nGet:61 http://archive.ubuntu.com/ubuntu focal/universe amd64 libogdi-dev amd64 4.1.0+ds-1build1 [22.1 kB]\nGet:62 http://archive.ubuntu.com/ubuntu focal-updates/main amd64 libpoppler-dev amd64 0.86.1-0ubuntu1.4 [5,348 B]\nGet:63 http://archive.ubuntu.com/ubuntu focal-updates/main amd64 libpoppler-private-dev amd64 0.86.1-0ubuntu1.4 [174 kB]\nGet:64 http://archive.ubuntu.com/ubuntu focal/universe amd64 libqhull-r7 amd64 2015.2-4 [149 kB]\nGet:65 http://archive.ubuntu.com/ubuntu focal/universe amd64 libqhull-dev amd64 2015.2-4 [357 kB]\nGet:66 http://archive.ubuntu.com/ubuntu focal/universe amd64 liburiparser-dev amd64 0.9.3-2 [12.0 kB]\nGet:67 http://archive.ubuntu.com/ubuntu focal-updates/main amd64 libwebpdemux2 amd64 0.6.1-2ubuntu0.20.04.3 [9,560 B]\nGet:68 http://archive.ubuntu.com/ubuntu focal-updates/universe amd64 libxerces-c-dev amd64 3.2.2+debian-1ubuntu0.2 [1,695 kB]\nGet:69 http://archive.ubuntu.com/ubuntu focal-updates/main amd64 libzstd-dev amd64 1.4.4+dfsg-3ubuntu0.1 [286 kB]\nGet:70 http://archive.ubuntu.com/ubuntu focal/universe amd64 libepsilon-dev amd64 0.9.2+dfsg-4 [48.6 kB]\nGet:71 http://archive.ubuntu.com/ubuntu focal/universe amd64 libfreexl-dev amd64 1.0.5-3 [30.9 kB]\nGet:72 http://archive.ubuntu.com/ubuntu focal/universe amd64 libproj-dev amd64 6.3.1-1 [1,092 kB]\nGet:73 http://archive.ubuntu.com/ubuntu focal/universe amd64 libgeotiff-dev amd64 1.5.1-2 [76.8 kB]\nGet:74 http://archive.ubuntu.com/ubuntu focal/universe amd64 libhdf4-alt-dev amd64 4.2.14-1ubuntu1 [369 kB]\nGet:75 http://archive.ubuntu.com/ubuntu focal-updates/main amd64 libjson-c-dev amd64 0.13.1+dfsg-7ubuntu0.3 [46.9 kB]\nGet:76 http://archive.ubuntu.com/ubuntu focal/universe amd64 libkml-dev amd64 1.3.0-8build1 [933 kB]\nGet:77 http://archive.ubuntu.com/ubuntu focal-updates/main amd64 libopenjp2-7-dev amd64 2.3.1-1ubuntu4.20.04.1 [26.7 kB]\nGet:78 http://archive.ubuntu.com/ubuntu focal/universe amd64 libspatialite-dev amd64 4.3.0a-6build1 [1,387 kB]\nGet:79 http://archive.ubuntu.com/ubuntu focal-updates/main amd64 libwebp-dev amd64 0.6.1-2ubuntu0.20.04.3 [267 kB]\nGet:80 http://archive.ubuntu.com/ubuntu focal/universe amd64 libgdal-dev amd64 3.0.4+dfsg-1build3 [8,093 kB]\nGet:81 http://archive.ubuntu.com/ubuntu focal/universe amd64 proj-bin amd64 6.3.1-1 [88.8 kB]\ndebconf: delaying package configuration, since apt-utils is not installed\nFetched 60.6 MB in 21s (2,932 kB/s)\nSelecting previously unselected package libmysqlclient21:amd64.\n(Reading database ... \n(Reading database ... 5%\n(Reading database ... 10%\n(Reading database ... 15%\n(Reading database ... 20%\n(Reading database ... 25%\n(Reading database ... 30%\n(Reading database ... 35%\n(Reading database ... 40%\n(Reading database ... 45%\n(Reading database ... 50%\n(Reading database ... 55%\n(Reading database ... 60%\n(Reading database ... 65%\n(Reading database ... 70%\n(Reading database ... 75%\n(Reading database ... 80%\n(Reading database ... 85%\n(Reading database ... 90%\n(Reading database ... 95%\n(Reading database ... 100%\n(Reading database ... 96185 files and directories currently installed.)\nPreparing to unpack .../00-libmysqlclient21_8.0.36-0ubuntu0.20.04.1_amd64.deb ...\nUnpacking libmysqlclient21:amd64 (8.0.36-0ubuntu0.20.04.1) ...\nSelecting previously unselected package libmysqlclient-dev.\nPreparing to unpack .../01-libmysqlclient-dev_8.0.36-0ubuntu0.20.04.1_amd64.deb ...\nUnpacking libmysqlclient-dev (8.0.36-0ubuntu0.20.04.1) ...\nSelecting previously unselected package default-libmysqlclient-dev:amd64.\nPreparing to unpack .../02-default-libmysqlclient-dev_1.0.5ubuntu2_amd64.deb ...\nUnpacking default-libmysqlclient-dev:amd64 (1.0.5ubuntu2) ...\nSelecting previously unselected package python3-numpy.\nPreparing to unpack .../03-python3-numpy_1%3a1.17.4-5ubuntu3.1_amd64.deb ...\nUnpacking python3-numpy (1:1.17.4-5ubuntu3.1) ...\nSelecting previously unselected package gdal-data.\nPreparing to unpack .../04-gdal-data_3.0.4+dfsg-1build3_all.deb ...\nUnpacking gdal-data (3.0.4+dfsg-1build3) ...\nSelecting previously unselected package libarpack2:amd64.\nPreparing to unpack .../05-libarpack2_3.7.0-3_amd64.deb ...\nUnpacking libarpack2:amd64 (3.7.0-3) ...\nSelecting previously unselected package libsuperlu5:amd64.\nPreparing to unpack .../06-libsuperlu5_5.2.1+dfsg1-4_amd64.deb ...\nUnpacking libsuperlu5:amd64 (5.2.1+dfsg1-4) ...\nSelecting previously unselected package libarmadillo9.\nPreparing to unpack .../07-libarmadillo9_1%3a9.800.4+dfsg-1build1_amd64.deb ...\nUnpacking libarmadillo9 (1:9.800.4+dfsg-1build1) ...\nSelecting previously unselected package libcfitsio8:amd64.\nPreparing to unpack .../08-libcfitsio8_3.470-3_amd64.deb ...\nUnpacking libcfitsio8:amd64 (3.470-3) ...\nSelecting previously unselected package libcharls2:amd64.\nPreparing to unpack .../09-libcharls2_2.0.0+dfsg-1build1_amd64.deb ...\nUnpacking libcharls2:amd64 (2.0.0+dfsg-1build1) ...\nSelecting previously unselected package libdap25:amd64.\nPreparing to unpack .../10-libdap25_3.20.5-1_amd64.deb ...\nUnpacking libdap25:amd64 (3.20.5-1) ...\nSelecting previously unselected package libdapclient6v5:amd64.\nPreparing to unpack .../11-libdapclient6v5_3.20.5-1_amd64.deb ...\nUnpacking libdapclient6v5:amd64 (3.20.5-1) ...\nSelecting previously unselected package libepsilon1:amd64.\nPreparing to unpack .../12-libepsilon1_0.9.2+dfsg-4_amd64.deb ...\nUnpacking libepsilon1:amd64 (0.9.2+dfsg-4) ...\nSelecting previously unselected package libfreexl1:amd64.\nPreparing to unpack .../13-libfreexl1_1.0.5-3_amd64.deb ...\nUnpacking libfreexl1:amd64 (1.0.5-3) ...\nSelecting previously unselected package libfyba0:amd64.\nPreparing to unpack .../14-libfyba0_4.1.1-6build1_amd64.deb ...\nUnpacking libfyba0:amd64 (4.1.1-6build1) ...\nSelecting previously unselected package libgeos-3.8.0:amd64.\nPreparing to unpack .../15-libgeos-3.8.0_3.8.0-1build1_amd64.deb ...\nUnpacking libgeos-3.8.0:amd64 (3.8.0-1build1) ...\nSelecting previously unselected package libgeos-c1v5:amd64.\nPreparing to unpack .../16-libgeos-c1v5_3.8.0-1build1_amd64.deb ...\nUnpacking libgeos-c1v5:amd64 (3.8.0-1build1) ...\nSelecting previously unselected package proj-data.\nPreparing to unpack .../17-proj-data_6.3.1-1_all.deb ...\nUnpacking proj-data (6.3.1-1) ...\nSelecting previously unselected package libproj15:amd64.\nPreparing to unpack .../18-libproj15_6.3.1-1_amd64.deb ...\nUnpacking libproj15:amd64 (6.3.1-1) ...\nSelecting previously unselected package libgeotiff5:amd64.\nPreparing to unpack .../19-libgeotiff5_1.5.1-2_amd64.deb ...\nUnpacking libgeotiff5:amd64 (1.5.1-2) ...\nSelecting previously unselected package libhdf4-0-alt.\nPreparing to unpack .../20-libhdf4-0-alt_4.2.14-1ubuntu1_amd64.deb ...\nUnpacking libhdf4-0-alt (4.2.14-1ubuntu1) ...\nSelecting previously unselected package libaec0:amd64.\nPreparing to unpack .../21-libaec0_1.0.4-1_amd64.deb ...\nUnpacking libaec0:amd64 (1.0.4-1) ...\nSelecting previously unselected package libsz2:amd64.\nPreparing to unpack .../22-libsz2_1.0.4-1_amd64.deb ...\nUnpacking libsz2:amd64 (1.0.4-1) ...\nSelecting previously unselected package libhdf5-103:amd64.\nPreparing to unpack .../23-libhdf5-103_1.10.4+repack-11ubuntu1_amd64.deb ...\nUnpacking libhdf5-103:amd64 (1.10.4+repack-11ubuntu1) ...\nSelecting previously unselected package libminizip1:amd64.\nPreparing to unpack .../24-libminizip1_1.1-8build1_amd64.deb ...\nUnpacking libminizip1:amd64 (1.1-8build1) ...\nSelecting previously unselected package liburiparser1:amd64.\nPreparing to unpack .../25-liburiparser1_0.9.3-2_amd64.deb ...\nUnpacking liburiparser1:amd64 (0.9.3-2) ...\nSelecting previously unselected package libkmlbase1:amd64.\nPreparing to unpack .../26-libkmlbase1_1.3.0-8build1_amd64.deb ...\nUnpacking libkmlbase1:amd64 (1.3.0-8build1) ...\nSelecting previously unselected package libkmldom1:amd64.\nPreparing to unpack .../27-libkmldom1_1.3.0-8build1_amd64.deb ...\nUnpacking libkmldom1:amd64 (1.3.0-8build1) ...\nSelecting previously unselected package libkmlengine1:amd64.\nPreparing to unpack .../28-libkmlengine1_1.3.0-8build1_amd64.deb ...\nUnpacking libkmlengine1:amd64 (1.3.0-8build1) ...\nSelecting previously unselected package libnetcdf15:amd64.\nPreparing to unpack .../29-libnetcdf15_1%3a4.7.3-1_amd64.deb ...\nUnpacking libnetcdf15:amd64 (1:4.7.3-1) ...\nSelecting previously unselected package libogdi4.1.\nPreparing to unpack .../30-libogdi4.1_4.1.0+ds-1build1_amd64.deb ...\nUnpacking libogdi4.1 (4.1.0+ds-1build1) ...\nSelecting previously unselected package libpoppler97:amd64.\nPreparing to unpack .../31-libpoppler97_0.86.1-0ubuntu1.4_amd64.deb ...\nUnpacking libpoppler97:amd64 (0.86.1-0ubuntu1.4) ...\nSelecting previously unselected package libqhull7:amd64.\nPreparing to unpack .../32-libqhull7_2015.2-4_amd64.deb ...\nUnpacking libqhull7:amd64 (2015.2-4) ...\nSelecting previously unselected package libspatialite7:amd64.\nPreparing to unpack .../33-libspatialite7_4.3.0a-6build1_amd64.deb ...\nUnpacking libspatialite7:amd64 (4.3.0a-6build1) ...\nSelecting previously unselected package libxerces-c3.2:amd64.\nPreparing to unpack .../34-libxerces-c3.2_3.2.2+debian-1ubuntu0.2_amd64.deb ...\nUnpacking libxerces-c3.2:amd64 (3.2.2+debian-1ubuntu0.2) ...\nSelecting previously unselected package libgdal26.\nPreparing to unpack .../35-libgdal26_3.0.4+dfsg-1build3_amd64.deb ...\nUnpacking libgdal26 (3.0.4+dfsg-1build3) ...\nSelecting previously unselected package python3-gdal.\nPreparing to unpack .../36-python3-gdal_3.0.4+dfsg-1build3_amd64.deb ...\nUnpacking python3-gdal (3.0.4+dfsg-1build3) ...\nSelecting previously unselected package gdal-bin.\nPreparing to unpack .../37-gdal-bin_3.0.4+dfsg-1build3_amd64.deb ...\nUnpacking gdal-bin (3.0.4+dfsg-1build3) ...\nSelecting previously unselected package hdf5-helpers.\nPreparing to unpack .../38-hdf5-helpers_1.10.4+repack-11ubuntu1_amd64.deb ...\nUnpacking hdf5-helpers (1.10.4+repack-11ubuntu1) ...\nSelecting previously unselected package libarpack2-dev:amd64.\nPreparing to unpack .../39-libarpack2-dev_3.7.0-3_amd64.deb ...\nUnpacking libarpack2-dev:amd64 (3.7.0-3) ...\nSelecting previously unselected package libaec-dev:amd64.\nPreparing to unpack .../40-libaec-dev_1.0.4-1_amd64.deb ...\nUnpacking libaec-dev:amd64 (1.0.4-1) ...\nSelecting previously unselected package libhdf5-cpp-103:amd64.\nPreparing to unpack .../41-libhdf5-cpp-103_1.10.4+repack-11ubuntu1_amd64.deb ...\nUnpacking libhdf5-cpp-103:amd64 (1.10.4+repack-11ubuntu1) ...\nSelecting previously unselected package libhdf5-dev.\nPreparing to unpack .../42-libhdf5-dev_1.10.4+repack-11ubuntu1_amd64.deb ...\nUnpacking libhdf5-dev (1.10.4+repack-11ubuntu1) ...\nSelecting previously unselected package libsuperlu-dev:amd64.\nPreparing to unpack .../43-libsuperlu-dev_5.2.1+dfsg1-4_amd64.deb ...\nUnpacking libsuperlu-dev:amd64 (5.2.1+dfsg1-4) ...\nSelecting previously unselected package libarmadillo-dev.\nPreparing to unpack .../44-libarmadillo-dev_1%3a9.800.4+dfsg-1build1_amd64.deb ...\nUnpacking libarmadillo-dev (1:9.800.4+dfsg-1build1) ...\nSelecting previously unselected package libboost1.71-dev:amd64.\nPreparing to unpack .../45-libboost1.71-dev_1.71.0-6ubuntu6_amd64.deb ...\nUnpacking libboost1.71-dev:amd64 (1.71.0-6ubuntu6) ...\nSelecting previously unselected package libboost-dev:amd64.\nPreparing to unpack .../46-libboost-dev_1.71.0.0ubuntu2_amd64.deb ...\nUnpacking libboost-dev:amd64 (1.71.0.0ubuntu2) ...\nSelecting previously unselected package libcfitsio-dev:amd64.\nPreparing to unpack .../47-libcfitsio-dev_3.470-3_amd64.deb ...\nUnpacking libcfitsio-dev:amd64 (3.470-3) ...\nSelecting previously unselected package libcfitsio-doc.\nPreparing to unpack .../48-libcfitsio-doc_3.470-3_all.deb ...\nUnpacking libcfitsio-doc (3.470-3) ...\nSelecting previously unselected package libcharls-dev:amd64.\nPreparing to unpack .../49-libcharls-dev_2.0.0+dfsg-1build1_amd64.deb ...\nUnpacking libcharls-dev:amd64 (2.0.0+dfsg-1build1) ...\nSelecting previously unselected package libdapserver7v5:amd64.\nPreparing to unpack .../50-libdapserver7v5_3.20.5-1_amd64.deb ...\nUnpacking libdapserver7v5:amd64 (3.20.5-1) ...\nSelecting previously unselected package libdap-dev:amd64.\nPreparing to unpack .../51-libdap-dev_3.20.5-1_amd64.deb ...\nUnpacking libdap-dev:amd64 (3.20.5-1) ...\nSelecting previously unselected package libfyba-dev:amd64.\nPreparing to unpack .../52-libfyba-dev_4.1.1-6build1_amd64.deb ...\nUnpacking libfyba-dev:amd64 (4.1.1-6build1) ...\nSelecting previously unselected package libgeos-dev.\nPreparing to unpack .../53-libgeos-dev_3.8.0-1build1_amd64.deb ...\nUnpacking libgeos-dev (3.8.0-1build1) ...\nSelecting previously unselected package libgif-dev.\nPreparing to unpack .../54-libgif-dev_5.1.9-1_amd64.deb ...\nUnpacking libgif-dev (5.1.9-1) ...\nSelecting previously unselected package libkmlconvenience1:amd64.\nPreparing to unpack .../55-libkmlconvenience1_1.3.0-8build1_amd64.deb ...\nUnpacking libkmlconvenience1:amd64 (1.3.0-8build1) ...\nSelecting previously unselected package libkmlregionator1:amd64.\nPreparing to unpack .../56-libkmlregionator1_1.3.0-8build1_amd64.deb ...\nUnpacking libkmlregionator1:amd64 (1.3.0-8build1) ...\nSelecting previously unselected package libkmlxsd1:amd64.\nPreparing to unpack .../57-libkmlxsd1_1.3.0-8build1_amd64.deb ...\nUnpacking libkmlxsd1:amd64 (1.3.0-8build1) ...\nSelecting previously unselected package libminizip-dev:amd64.\nPreparing to unpack .../58-libminizip-dev_1.1-8build1_amd64.deb ...\nUnpacking libminizip-dev:amd64 (1.1-8build1) ...\nSelecting previously unselected package libnetcdf-dev.\nPreparing to unpack .../59-libnetcdf-dev_1%3a4.7.3-1_amd64.deb ...\nUnpacking libnetcdf-dev (1:4.7.3-1) ...\nSelecting previously unselected package libogdi-dev.\nPreparing to unpack .../60-libogdi-dev_4.1.0+ds-1build1_amd64.deb ...\nUnpacking libogdi-dev (4.1.0+ds-1build1) ...\nSelecting previously unselected package libpoppler-dev:amd64.\nPreparing to unpack .../61-libpoppler-dev_0.86.1-0ubuntu1.4_amd64.deb ...\nUnpacking libpoppler-dev:amd64 (0.86.1-0ubuntu1.4) ...\nSelecting previously unselected package libpoppler-private-dev:amd64.\nPreparing to unpack .../62-libpoppler-private-dev_0.86.1-0ubuntu1.4_amd64.deb ...\nUnpacking libpoppler-private-dev:amd64 (0.86.1-0ubuntu1.4) ...\nSelecting previously unselected package libqhull-r7:amd64.\nPreparing to unpack .../63-libqhull-r7_2015.2-4_amd64.deb ...\nUnpacking libqhull-r7:amd64 (2015.2-4) ...\nSelecting previously unselected package libqhull-dev:amd64.\nPreparing to unpack .../64-libqhull-dev_2015.2-4_amd64.deb ...\nUnpacking libqhull-dev:amd64 (2015.2-4) ...\nSelecting previously unselected package liburiparser-dev.\nPreparing to unpack .../65-liburiparser-dev_0.9.3-2_amd64.deb ...\nUnpacking liburiparser-dev (0.9.3-2) ...\nSelecting previously unselected package libwebpdemux2:amd64.\nPreparing to unpack .../66-libwebpdemux2_0.6.1-2ubuntu0.20.04.3_amd64.deb ...\nUnpacking libwebpdemux2:amd64 (0.6.1-2ubuntu0.20.04.3) ...\nSelecting previously unselected package libxerces-c-dev.\nPreparing to unpack .../67-libxerces-c-dev_3.2.2+debian-1ubuntu0.2_amd64.deb ...\nUnpacking libxerces-c-dev (3.2.2+debian-1ubuntu0.2) ...\nSelecting previously unselected package libzstd-dev:amd64.\nPreparing to unpack .../68-libzstd-dev_1.4.4+dfsg-3ubuntu0.1_amd64.deb ...\nUnpacking libzstd-dev:amd64 (1.4.4+dfsg-3ubuntu0.1) ...\nSelecting previously unselected package libepsilon-dev:amd64.\nPreparing to unpack .../69-libepsilon-dev_0.9.2+dfsg-4_amd64.deb ...\nUnpacking libepsilon-dev:amd64 (0.9.2+dfsg-4) ...\nSelecting previously unselected package libfreexl-dev:amd64.\nPreparing to unpack .../70-libfreexl-dev_1.0.5-3_amd64.deb ...\nUnpacking libfreexl-dev:amd64 (1.0.5-3) ...\nSelecting previously unselected package libproj-dev:amd64.\nPreparing to unpack .../71-libproj-dev_6.3.1-1_amd64.deb ...\nUnpacking libproj-dev:amd64 (6.3.1-1) ...\nSelecting previously unselected package libgeotiff-dev:amd64.\nPreparing to unpack .../72-libgeotiff-dev_1.5.1-2_amd64.deb ...\nUnpacking libgeotiff-dev:amd64 (1.5.1-2) ...\nSelecting previously unselected package libhdf4-alt-dev.\nPreparing to unpack .../73-libhdf4-alt-dev_4.2.14-1ubuntu1_amd64.deb ...\nUnpacking libhdf4-alt-dev (4.2.14-1ubuntu1) ...\nSelecting previously unselected package libjson-c-dev:amd64.\nPreparing to unpack .../74-libjson-c-dev_0.13.1+dfsg-7ubuntu0.3_amd64.deb ...\nUnpacking libjson-c-dev:amd64 (0.13.1+dfsg-7ubuntu0.3) ...\nSelecting previously unselected package libkml-dev:amd64.\nPreparing to unpack .../75-libkml-dev_1.3.0-8build1_amd64.deb ...\nUnpacking libkml-dev:amd64 (1.3.0-8build1) ...\nSelecting previously unselected package libopenjp2-7-dev.\nPreparing to unpack .../76-libopenjp2-7-dev_2.3.1-1ubuntu4.20.04.1_amd64.deb ...\nUnpacking libopenjp2-7-dev (2.3.1-1ubuntu4.20.04.1) ...\nSelecting previously unselected package libspatialite-dev:amd64.\nPreparing to unpack .../77-libspatialite-dev_4.3.0a-6build1_amd64.deb ...\nUnpacking libspatialite-dev:amd64 (4.3.0a-6build1) ...\nSelecting previously unselected package libwebp-dev:amd64.\nPreparing to unpack .../78-libwebp-dev_0.6.1-2ubuntu0.20.04.3_amd64.deb ...\nUnpacking libwebp-dev:amd64 (0.6.1-2ubuntu0.20.04.3) ...\nSelecting previously unselected package libgdal-dev.\nPreparing to unpack .../79-libgdal-dev_3.0.4+dfsg-1build3_amd64.deb ...\nUnpacking libgdal-dev (3.0.4+dfsg-1build3) ...\nSelecting previously unselected package proj-bin.\nPreparing to unpack .../80-proj-bin_6.3.1-1_amd64.deb ...\nUnpacking proj-bin (6.3.1-1) ...\nSetting up libmysqlclient21:amd64 (8.0.36-0ubuntu0.20.04.1) ...\nSetting up libzstd-dev:amd64 (1.4.4+dfsg-3ubuntu0.1) ...\nSetting up libxerces-c3.2:amd64 (3.2.2+debian-1ubuntu0.2) ...\nSetting up proj-data (6.3.1-1) ...\nSetting up hdf5-helpers (1.10.4+repack-11ubuntu1) ...\nSetting up libgeos-3.8.0:amd64 (3.8.0-1build1) ...\nSetting up libogdi4.1 (4.1.0+ds-1build1) ...\nSetting up libcharls2:amd64 (2.0.0+dfsg-1build1) ...\nSetting up libminizip1:amd64 (1.1-8build1) ...\nSetting up libjson-c-dev:amd64 (0.13.1+dfsg-7ubuntu0.3) ...\nSetting up libwebpdemux2:amd64 (0.6.1-2ubuntu0.20.04.3) ...\nSetting up libboost1.71-dev:amd64 (1.71.0-6ubuntu6) ...\nSetting up libarpack2:amd64 (3.7.0-3) ...\nSetting up libsuperlu5:amd64 (5.2.1+dfsg1-4) ...\nSetting up libdap25:amd64 (3.20.5-1) ...\nSetting up libqhull7:amd64 (2015.2-4) ...\nSetting up libpoppler97:amd64 (0.86.1-0ubuntu1.4) ...\nSetting up libepsilon1:amd64 (0.9.2+dfsg-4) ...\nSetting up libdapserver7v5:amd64 (3.20.5-1) ...\nSetting up libaec0:amd64 (1.0.4-1) ...\nSetting up gdal-data (3.0.4+dfsg-1build3) ...\nSetting up libminizip-dev:amd64 (1.1-8build1) ...\nSetting up libwebp-dev:amd64 (0.6.1-2ubuntu0.20.04.3) ...\nSetting up libcfitsio8:amd64 (3.470-3) ...\nSetting up libopenjp2-7-dev (2.3.1-1ubuntu4.20.04.1) ...\nSetting up libxerces-c-dev (3.2.2+debian-1ubuntu0.2) ...\nSetting up libgeos-c1v5:amd64 (3.8.0-1build1) ...\nSetting up libproj15:amd64 (6.3.1-1) ...\nSetting up python3-numpy (1:1.17.4-5ubuntu3.1) ...\nSetting up libhdf4-0-alt (4.2.14-1ubuntu1) ...\nSetting up liburiparser1:amd64 (0.9.3-2) ...\nSetting up libfreexl1:amd64 (1.0.5-3) ...\nSetting up libgif-dev (5.1.9-1) ...\nSetting up libfyba0:amd64 (4.1.1-6build1) ...\nSetting up libkmlbase1:amd64 (1.3.0-8build1) ...\nSetting up libdapclient6v5:amd64 (3.20.5-1) ...\nSetting up libboost-dev:amd64 (1.71.0.0ubuntu2) ...\nSetting up libqhull-r7:amd64 (2015.2-4) ...\nSetting up libarmadillo9 (1:9.800.4+dfsg-1build1) ...\nSetting up libepsilon-dev:amd64 (0.9.2+dfsg-4) ...\nSetting up libsuperlu-dev:amd64 (5.2.1+dfsg1-4) ...\nSetting up libogdi-dev (4.1.0+ds-1build1) ...\nSetting up libcfitsio-doc (3.470-3) ...\nSetting up libdap-dev:amd64 (3.20.5-1) ...\nSetting up libsz2:amd64 (1.0.4-1) ...\nSetting up libmysqlclient-dev (8.0.36-0ubuntu0.20.04.1) ...\nSetting up libkmlxsd1:amd64 (1.3.0-8build1) ...\nSetting up libkmldom1:amd64 (1.3.0-8build1) ...\nSetting up default-libmysqlclient-dev:amd64 (1.0.5ubuntu2) ...\nSetting up libpoppler-dev:amd64 (0.86.1-0ubuntu1.4) ...\nSetting up libspatialite7:amd64 (4.3.0a-6build1) ...\nSetting up libcharls-dev:amd64 (2.0.0+dfsg-1build1) ...\nSetting up libarpack2-dev:amd64 (3.7.0-3) ...\nSetting up libcfitsio-dev:amd64 (3.470-3) ...\nSetting up libkmlengine1:amd64 (1.3.0-8build1) ...\nSetting up libkmlconvenience1:amd64 (1.3.0-8build1) ...\nSetting up libfreexl-dev:amd64 (1.0.5-3) ...\nSetting up libfyba-dev:amd64 (4.1.1-6build1) ...\nSetting up libpoppler-private-dev:amd64 (0.86.1-0ubuntu1.4) ...\nSetting up libaec-dev:amd64 (1.0.4-1) ...\nSetting up proj-bin (6.3.1-1) ...\nSetting up libgeotiff5:amd64 (1.5.1-2) ...\nSetting up liburiparser-dev (0.9.3-2) ...\nSetting up libkmlregionator1:amd64 (1.3.0-8build1) ...\nSetting up libgeos-dev (3.8.0-1build1) ...\nSetting up libhdf5-103:amd64 (1.10.4+repack-11ubuntu1) ...\nSetting up libproj-dev:amd64 (6.3.1-1) ...\nSetting up libspatialite-dev:amd64 (4.3.0a-6build1) ...\nSetting up libqhull-dev:amd64 (2015.2-4) ...\nSetting up libkml-dev:amd64 (1.3.0-8build1) ...\nSetting up libgeotiff-dev:amd64 (1.5.1-2) ...\nSetting up libhdf5-cpp-103:amd64 (1.10.4+repack-11ubuntu1) ...\nSetting up libnetcdf15:amd64 (1:4.7.3-1) ...\nSetting up libhdf5-dev (1.10.4+repack-11ubuntu1) ...\nupdate-alternatives: using /usr/lib/x86_64-linux-gnu/pkgconfig/hdf5-serial.pc to provide /usr/lib/x86_64-linux-gnu/pkgconfig/hdf5.pc (hdf5.pc) in auto mode\nSetting up libnetcdf-dev (1:4.7.3-1) ...\nSetting up libgdal26 (3.0.4+dfsg-1build3) ...\nSetting up libarmadillo-dev (1:9.800.4+dfsg-1build1) ...\nSetting up libhdf4-alt-dev (4.2.14-1ubuntu1) ...\nSetting up libgdal-dev (3.0.4+dfsg-1build3) ...\nSetting up python3-gdal (3.0.4+dfsg-1build3) ...\nSetting up gdal-bin (3.0.4+dfsg-1build3) ...\nProcessing triggers for man-db (2.9.1-1) ...\nProcessing triggers for libc-bin (2.31-0ubuntu9.14) ...\nReading package lists...\nBuilding dependency tree...\nReading state information...\nlibproj-dev is already the newest version (6.3.1-1).\nlibproj-dev set to manually installed.\n0 upgraded, 0 newly installed, 0 to remove and 71 not upgraded.\n"
          ]
        }
      ],
      "source": [
        "%sh\n",
        "#!/bin/bash\n",
        "sudo apt-get update\n",
        "# Isso instala o gdal na máquina\n",
        "sudo apt-get install -y gdal-bin libgdal-dev\n",
        "sudo apt-get install -y libproj-dev"
      ]
    },
    {
      "cell_type": "markdown",
      "metadata": {
        "application/vnd.databricks.v1+cell": {
          "cellMetadata": {
            "byteLimit": 2048000,
            "rowLimit": 10000
          },
          "inputWidgets": {},
          "nuid": "18e14542-4d73-4a4d-94a4-711fed8562ad",
          "showTitle": false,
          "title": ""
        },
        "id": "CbAj9X0jgYka"
      },
      "source": [
        "os arquivos precisam estar com os nomes corretos"
      ]
    },
    {
      "cell_type": "code",
      "execution_count": null,
      "metadata": {
        "application/vnd.databricks.v1+cell": {
          "cellMetadata": {
            "byteLimit": 2048000,
            "rowLimit": 10000
          },
          "inputWidgets": {},
          "nuid": "a36ca8dd-a6a6-4304-8ed2-cf8ec09cf8d4",
          "showTitle": false,
          "title": ""
        },
        "id": "9kwyEKzSgYka",
        "outputId": "3d7cf69a-db11-4de4-ff7a-dd31d5ce6fae"
      },
      "outputs": [
        {
          "output_type": "stream",
          "name": "stdout",
          "text": [
            "__init__.py\n__pycache__\n_gdal.so\n_gdal_array.so\n_gdalconst.so\n_gnm.cpython-38-x86_64-linux-gnu.so\n_ogr.so\n_osr.so\ngdal.py\ngdal_array.py\ngdalconst.py\ngdalnumeric.py\ngnm.py\nogr.py\nosr.py\n"
          ]
        }
      ],
      "source": [
        "%sh\n",
        "cd /usr/lib/python3/dist-packages/osgeo\n",
        "mv _gdal.cpython-38-x86_64-linux-gnu.so _gdal.so\n",
        "mv _gdalconst.cpython-38-x86_64-linux-gnu.so _gdalconst.so\n",
        "mv _ogr.cpython-38-x86_64-linux-gnu.so _ogr.so\n",
        "mv _osr.cpython-38-x86_64-linux-gnu.so _osr.so\n",
        "mv _gdal_array.cpython-38-x86_64-linux-gnu.so _gdal_array.so\n",
        "ls /usr/lib/python3/dist-packages/osgeo"
      ]
    },
    {
      "cell_type": "markdown",
      "metadata": {
        "application/vnd.databricks.v1+cell": {
          "cellMetadata": {
            "byteLimit": 2048000,
            "rowLimit": 10000
          },
          "inputWidgets": {},
          "nuid": "b1642662-e870-4ccc-9699-93fa77a04dc7",
          "showTitle": false,
          "title": ""
        },
        "id": "Z0ZtQriBgYka"
      },
      "source": [
        "Bibliotecas"
      ]
    },
    {
      "cell_type": "code",
      "execution_count": null,
      "metadata": {
        "application/vnd.databricks.v1+cell": {
          "cellMetadata": {
            "byteLimit": 2048000,
            "rowLimit": 10000
          },
          "inputWidgets": {},
          "nuid": "5994f276-71d5-4dca-aac6-409918152afa",
          "showTitle": false,
          "title": ""
        },
        "id": "tOB3xfqGgYka"
      },
      "outputs": [],
      "source": [
        "from pyspark.sql import SparkSession\n",
        "import os"
      ]
    },
    {
      "cell_type": "code",
      "execution_count": null,
      "metadata": {
        "application/vnd.databricks.v1+cell": {
          "cellMetadata": {
            "byteLimit": 2048000,
            "rowLimit": 10000
          },
          "inputWidgets": {},
          "nuid": "ae56969d-30dc-4784-80e9-36abe0422eac",
          "showTitle": false,
          "title": ""
        },
        "id": "4pJxe2QlgYkb",
        "outputId": "cf04ce26-667c-48e6-810a-26b9808d2675"
      },
      "outputs": [
        {
          "output_type": "stream",
          "name": "stdout",
          "text": [
            "Collecting pyspark\r\n  Downloading pyspark-3.5.1.tar.gz (317.0 MB)\r\n\u001b[?25l     \u001b[90m━━━━━━━━━━━━━━━━━━━━━━━━━━━━━━━━━━━━━━━━\u001b[0m \u001b[32m0.0/317.0 MB\u001b[0m \u001b[31m?\u001b[0m eta \u001b[36m-:--:--\u001b[0m\r\u001b[2K     \u001b[90m━━━━━━━━━━━━━━━━━━━━━━━━━━━━━━━━━━━━━━━━\u001b[0m \u001b[32m0.3/317.0 MB\u001b[0m \u001b[31m8.9 MB/s\u001b[0m eta \u001b[36m0:00:36\u001b[0m\r\u001b[2K     \u001b[90m━━━━━━━━━━━━━━━━━━━━━━━━━━━━━━━━━━━━━━━━\u001b[0m \u001b[32m2.4/317.0 MB\u001b[0m \u001b[31m34.6 MB/s\u001b[0m eta \u001b[36m0:00:10\u001b[0m\r\u001b[2K     \u001b[91m╸\u001b[0m\u001b[90m━━━━━━━━━━━━━━━━━━━━━━━━━━━━━━━━━━━━━━━\u001b[0m \u001b[32m6.3/317.0 MB\u001b[0m \u001b[31m47.8 MB/s\u001b[0m eta \u001b[36m0:00:07\u001b[0m\r\u001b[2K     \u001b[91m━\u001b[0m\u001b[90m╺\u001b[0m\u001b[90m━━━━━━━━━━━━━━━━━━━━━━━━━━━━━━━━━━━━━━\u001b[0m \u001b[32m9.9/317.0 MB\u001b[0m \u001b[31m58.9 MB/s\u001b[0m eta \u001b[36m0:00:06\u001b[0m\r\u001b[2K     \u001b[91m━\u001b[0m\u001b[91m╸\u001b[0m\u001b[90m━━━━━━━━━━━━━━━━━━━━━━━━━━━━━━━━━━━━\u001b[0m \u001b[32m13.4/317.0 MB\u001b[0m \u001b[31m102.2 MB/s\u001b[0m eta \u001b[36m0:00:03\u001b[0m\r\u001b[2K     \u001b[91m━━\u001b[0m\u001b[90m╺\u001b[0m\u001b[90m━━━━━━━━━━━━━━━━━━━━━━━━━━━━━━━━━━━\u001b[0m \u001b[32m17.0/317.0 MB\u001b[0m \u001b[31m100.6 MB/s\u001b[0m eta \u001b[36m0:00:03\u001b[0m\r\u001b[2K     \u001b[91m━━\u001b[0m\u001b[90m╺\u001b[0m\u001b[90m━━━━━━━━━━━━━━━━━━━━━━━━━━━━━━━━━━━━\u001b[0m \u001b[32m20.0/317.0 MB\u001b[0m \u001b[31m91.9 MB/s\u001b[0m eta \u001b[36m0:00:04\u001b[0m\r\u001b[2K     \u001b[91m━━\u001b[0m\u001b[91m╸\u001b[0m\u001b[90m━━━━━━━━━━━━━━━━━━━━━━━━━━━━━━━━━━━━\u001b[0m \u001b[32m23.3/317.0 MB\u001b[0m \u001b[31m88.3 MB/s\u001b[0m eta \u001b[36m0:00:04\u001b[0m\r\u001b[2K     \u001b[91m━━━\u001b[0m\u001b[90m╺\u001b[0m\u001b[90m━━━━━━━━━━━━━━━━━━━━━━━━━━━━━━━━━━━\u001b[0m \u001b[32m27.1/317.0 MB\u001b[0m \u001b[31m90.1 MB/s\u001b[0m eta \u001b[36m0:00:04\u001b[0m\r\u001b[2K     \u001b[91m━━━\u001b[0m\u001b[91m╸\u001b[0m\u001b[90m━━━━━━━━━━━━━━━━━━━━━━━━━━━━━━━━━━━\u001b[0m \u001b[32m30.6/317.0 MB\u001b[0m \u001b[31m98.2 MB/s\u001b[0m eta \u001b[36m0:00:03\u001b[0m\r\u001b[2K     \u001b[91m━━━━\u001b[0m\u001b[90m╺\u001b[0m\u001b[90m━━━━━━━━━━━━━━━━━━━━━━━━━━━━━━━━━━\u001b[0m \u001b[32m34.1/317.0 MB\u001b[0m \u001b[31m99.7 MB/s\u001b[0m eta \u001b[36m0:00:03\u001b[0m\r\u001b[2K     \u001b[91m━━━━\u001b[0m\u001b[91m╸\u001b[0m\u001b[90m━━━━━━━━━━━━━━━━━━━━━━━━━━━━━━━━━\u001b[0m \u001b[32m37.9/317.0 MB\u001b[0m \u001b[31m101.0 MB/s\u001b[0m eta \u001b[36m0:00:03\u001b[0m\r\u001b[2K     \u001b[91m━━━━\u001b[0m\u001b[91m╸\u001b[0m\u001b[90m━━━━━━━━━━━━━━━━━━━━━━━━━━━━━━━━━━\u001b[0m \u001b[32m39.9/317.0 MB\u001b[0m \u001b[31m85.7 MB/s\u001b[0m eta \u001b[36m0:00:04\u001b[0m\r\u001b[2K     \u001b[91m━━━━━\u001b[0m\u001b[90m╺\u001b[0m\u001b[90m━━━━━━━━━━━━━━━━━━━━━━━━━━━━━━━━━\u001b[0m \u001b[32m43.1/317.0 MB\u001b[0m \u001b[31m82.3 MB/s\u001b[0m eta \u001b[36m0:00:04\u001b[0m\r\u001b[2K     \u001b[91m━━━━━\u001b[0m\u001b[91m╸\u001b[0m\u001b[90m━━━━━━━━━━━━━━━━━━━━━━━━━━━━━━━━━\u001b[0m \u001b[32m45.6/317.0 MB\u001b[0m \u001b[31m76.2 MB/s\u001b[0m eta \u001b[36m0:00:04\u001b[0m\r\u001b[2K     \u001b[91m━━━━━\u001b[0m\u001b[91m╸\u001b[0m\u001b[90m━━━━━━━━━━━━━━━━━━━━━━━━━━━━━━━━━\u001b[0m \u001b[32m48.3/317.0 MB\u001b[0m \u001b[31m71.2 MB/s\u001b[0m eta \u001b[36m0:00:04\u001b[0m\r\u001b[2K     \u001b[91m━━━━━━\u001b[0m\u001b[90m╺\u001b[0m\u001b[90m━━━━━━━━━━━━━━━━━━━━━━━━━━━━━━━━\u001b[0m \u001b[32m50.8/317.0 MB\u001b[0m \u001b[31m73.6 MB/s\u001b[0m eta \u001b[36m0:00:04\u001b[0m\r\u001b[2K     \u001b[91m━━━━━━\u001b[0m\u001b[91m╸\u001b[0m\u001b[90m━━━━━━━━━━━━━━━━━━━━━━━━━━━━━━━━\u001b[0m \u001b[32m53.3/317.0 MB\u001b[0m \u001b[31m70.3 MB/s\u001b[0m eta \u001b[36m0:00:04\u001b[0m\r\u001b[2K     \u001b[91m━━━━━━\u001b[0m\u001b[91m╸\u001b[0m\u001b[90m━━━━━━━━━━━━━━━━━━━━━━━━━━━━━━━━\u001b[0m \u001b[32m56.0/317.0 MB\u001b[0m \u001b[31m71.5 MB/s\u001b[0m eta \u001b[36m0:00:04\u001b[0m\r\u001b[2K     \u001b[91m━━━━━━━\u001b[0m\u001b[90m╺\u001b[0m\u001b[90m━━━━━━━━━━━━━━━━━━━━━━━━━━━━━━━\u001b[0m \u001b[32m58.5/317.0 MB\u001b[0m \u001b[31m70.2 MB/s\u001b[0m eta \u001b[36m0:00:04\u001b[0m\r\u001b[2K     \u001b[91m━━━━━━━\u001b[0m\u001b[90m╺\u001b[0m\u001b[90m━━━━━━━━━━━━━━━━━━━━━━━━━━━━━━━\u001b[0m \u001b[32m60.8/317.0 MB\u001b[0m \u001b[31m65.4 MB/s\u001b[0m eta \u001b[36m0:00:04\u001b[0m\r\u001b[2K     \u001b[91m━━━━━━━\u001b[0m\u001b[91m╸\u001b[0m\u001b[90m━━━━━━━━━━━━━━━━━━━━━━━━━━━━━━━\u001b[0m \u001b[32m64.6/317.0 MB\u001b[0m \u001b[31m75.4 MB/s\u001b[0m eta \u001b[36m0:00:04\u001b[0m\r\u001b[2K     \u001b[91m━━━━━━━━\u001b[0m\u001b[90m╺\u001b[0m\u001b[90m━━━━━━━━━━━━━━━━━━━━━━━━━━━━━━\u001b[0m \u001b[32m68.1/317.0 MB\u001b[0m \u001b[31m83.2 MB/s\u001b[0m eta \u001b[36m0:00:03\u001b[0m\r\u001b[2K     \u001b[91m━━━━━━━━\u001b[0m\u001b[91m╸\u001b[0m\u001b[90m━━━━━━━━━━━━━━━━━━━━━━━━━━━━━━\u001b[0m \u001b[32m71.2/317.0 MB\u001b[0m \u001b[31m96.6 MB/s\u001b[0m eta \u001b[36m0:00:03\u001b[0m\r\u001b[2K     \u001b[91m━━━━━━━━━\u001b[0m\u001b[90m╺\u001b[0m\u001b[90m━━━━━━━━━━━━━━━━━━━━━━━━━━━━━\u001b[0m \u001b[32m74.7/317.0 MB\u001b[0m \u001b[31m92.3 MB/s\u001b[0m eta \u001b[36m0:00:03\u001b[0m\r\u001b[2K     \u001b[91m━━━━━━━━━\u001b[0m\u001b[90m╺\u001b[0m\u001b[90m━━━━━━━━━━━━━━━━━━━━━━━━━━━━━\u001b[0m \u001b[32m76.6/317.0 MB\u001b[0m \u001b[31m81.4 MB/s\u001b[0m eta \u001b[36m0:00:03\u001b[0m\r\u001b[2K     \u001b[91m━━━━━━━━━\u001b[0m\u001b[91m╸\u001b[0m\u001b[90m━━━━━━━━━━━━━━━━━━━━━━━━━━━━━\u001b[0m \u001b[32m79.9/317.0 MB\u001b[0m \u001b[31m76.1 MB/s\u001b[0m eta \u001b[36m0:00:04\u001b[0m\r\u001b[2K     \u001b[91m━━━━━━━━━━\u001b[0m\u001b[90m╺\u001b[0m\u001b[90m━━━━━━━━━━━━━━━━━━━━━━━━━━━━\u001b[0m \u001b[32m83.2/317.0 MB\u001b[0m \u001b[31m76.0 MB/s\u001b[0m eta \u001b[36m0:00:04\u001b[0m\r\u001b[2K     \u001b[91m━━━━━━━━━━\u001b[0m\u001b[91m╸\u001b[0m\u001b[90m━━━━━━━━━━━━━━━━━━━━━━━━━━━━\u001b[0m \u001b[32m86.7/317.0 MB\u001b[0m \u001b[31m85.4 MB/s\u001b[0m eta \u001b[36m0:00:03\u001b[0m\r\u001b[2K     \u001b[91m━━━━━━━━━━━\u001b[0m\u001b[90m╺\u001b[0m\u001b[90m━━━━━━━━━━━━━━━━━━━━━━━━━━━\u001b[0m \u001b[32m90.1/317.0 MB\u001b[0m \u001b[31m86.6 MB/s\u001b[0m eta \u001b[36m0:00:03\u001b[0m\r\u001b[2K     \u001b[91m━━━━━━━━━━━\u001b[0m\u001b[90m╺\u001b[0m\u001b[90m━━━━━━━━━━━━━━━━━━━━━━━━━━━\u001b[0m \u001b[32m93.4/317.0 MB\u001b[0m \u001b[31m90.2 MB/s\u001b[0m eta \u001b[36m0:00:03\u001b[0m\r\u001b[2K     \u001b[91m━━━━━━━━━━━\u001b[0m\u001b[91m╸\u001b[0m\u001b[90m━━━━━━━━━━━━━━━━━━━━━━━━━━━\u001b[0m \u001b[32m95.9/317.0 MB\u001b[0m \u001b[31m81.2 MB/s\u001b[0m eta \u001b[36m0:00:03\u001b[0m\r\u001b[2K     \u001b[91m━━━━━━━━━━━━\u001b[0m\u001b[90m╺\u001b[0m\u001b[90m━━━━━━━━━━━━━━━━━━━━━━━━━━\u001b[0m \u001b[32m98.5/317.0 MB\u001b[0m \u001b[31m79.6 MB/s\u001b[0m eta \u001b[36m0:00:03\u001b[0m\r\u001b[2K     \u001b[91m━━━━━━━━━━━━\u001b[0m\u001b[90m╺\u001b[0m\u001b[90m━━━━━━━━━━━━━━━━━━━━━━━━━\u001b[0m \u001b[32m101.0/317.0 MB\u001b[0m \u001b[31m74.5 MB/s\u001b[0m eta \u001b[36m0:00:03\u001b[0m\r\u001b[2K     \u001b[91m━━━━━━━━━━━━\u001b[0m\u001b[90m╺\u001b[0m\u001b[90m━━━━━━━━━━━━━━━━━━━━━━━━━\u001b[0m \u001b[32m103.4/317.0 MB\u001b[0m \u001b[31m67.4 MB/s\u001b[0m eta \u001b[36m0:00:04\u001b[0m\r\u001b[2K     \u001b[91m━━━━━━━━━━━━\u001b[0m\u001b[91m╸\u001b[0m\u001b[90m━━━━━━━━━━━━━━━━━━━━━━━━━\u001b[0m \u001b[32m106.2/317.0 MB\u001b[0m \u001b[31m70.1 MB/s\u001b[0m eta \u001b[36m0:00:04\u001b[0m\r\u001b[2K     \u001b[91m━━━━━━━━━━━━━\u001b[0m\u001b[90m╺\u001b[0m\u001b[90m━━━━━━━━━━━━━━━━━━━━━━━━\u001b[0m \u001b[32m109.7/317.0 MB\u001b[0m \u001b[31m75.5 MB/s\u001b[0m eta \u001b[36m0:00:03\u001b[0m\r\u001b[2K     \u001b[91m━━━━━━━━━━━━━\u001b[0m\u001b[91m╸\u001b[0m\u001b[90m━━━━━━━━━━━━━━━━━━━━━━━━\u001b[0m \u001b[32m113.1/317.0 MB\u001b[0m \u001b[31m83.3 MB/s\u001b[0m eta \u001b[36m0:00:03\u001b[0m\r\u001b[2K     \u001b[91m━━━━━━━━━━━━━\u001b[0m\u001b[91m╸\u001b[0m\u001b[90m━━━━━━━━━━━━━━━━━━━━━━━━\u001b[0m \u001b[32m116.3/317.0 MB\u001b[0m \u001b[31m87.4 MB/s\u001b[0m eta \u001b[36m0:00:03\u001b[0m\r\u001b[2K     \u001b[91m━━━━━━━━━━━━━━\u001b[0m\u001b[90m╺\u001b[0m\u001b[90m━━━━━━━━━━━━━━━━━━━━━━━\u001b[0m \u001b[32m119.3/317.0 MB\u001b[0m \u001b[31m75.8 MB/s\u001b[0m eta \u001b[36m0:00:03\u001b[0m\r\u001b[2K     \u001b[91m━━━━━━━━━━━━━━\u001b[0m\u001b[91m╸\u001b[0m\u001b[90m━━━━━━━━━━━━━━━━━━━━━━━\u001b[0m \u001b[32m122.8/317.0 MB\u001b[0m \u001b[31m76.7 MB/s\u001b[0m eta \u001b[36m0:00:03\u001b[0m\r\u001b[2K     \u001b[91m━━━━━━━━━━━━━━━\u001b[0m\u001b[90m╺\u001b[0m\u001b[90m━━━━━━━━━━━━━━━━━━━━━━\u001b[0m \u001b[32m126.1/317.0 MB\u001b[0m \u001b[31m77.3 MB/s\u001b[0m eta \u001b[36m0:00:03\u001b[0m\r\u001b[2K     \u001b[91m━━━━━━━━━━━━━━━\u001b[0m\u001b[91m╸\u001b[0m\u001b[90m━━━━━━━━━━━━━━━━━━━━━━\u001b[0m \u001b[32m129.7/317.0 MB\u001b[0m \u001b[31m95.7 MB/s\u001b[0m eta \u001b[36m0:00:02\u001b[0m\r\u001b[2K     \u001b[91m━━━━━━━━━━━━━━━\u001b[0m\u001b[91m╸\u001b[0m\u001b[90m━━━━━━━━━━━━━━━━━━━━━━\u001b[0m \u001b[32m133.1/317.0 MB\u001b[0m \u001b[31m96.0 MB/s\u001b[0m eta \u001b[36m0:00:02\u001b[0m\r\u001b[2K     \u001b[91m━━━━━━━━━━━━━━━━\u001b[0m\u001b[90m╺\u001b[0m\u001b[90m━━━━━━━━━━━━━━━━━━━━━\u001b[0m \u001b[32m136.6/317.0 MB\u001b[0m \u001b[31m97.1 MB/s\u001b[0m eta \u001b[36m0:00:02\u001b[0m\r\u001b[2K     \u001b[91m━━━━━━━━━━━━━━━━\u001b[0m\u001b[91m╸\u001b[0m\u001b[90m━━━━━━━━━━━━━━━━━━━━━\u001b[0m \u001b[32m138.4/317.0 MB\u001b[0m \u001b[31m81.8 MB/s\u001b[0m eta \u001b[36m0:00:03\u001b[0m\r\u001b[2K     \u001b[91m━━━━━━━━━━━━━━━━\u001b[0m\u001b[91m╸\u001b[0m\u001b[90m━━━━━━━━━━━━━━━━━━━━━\u001b[0m \u001b[32m140.7/317.0 MB\u001b[0m \u001b[31m72.1 MB/s\u001b[0m eta \u001b[36m0:00:03\u001b[0m\r\u001b[2K     \u001b[91m━━━━━━━━━━━━━━━━━\u001b[0m\u001b[90m╺\u001b[0m\u001b[90m━━━━━━━━━━━━━━━━━━━━\u001b[0m \u001b[32m144.3/317.0 MB\u001b[0m \u001b[31m69.8 MB/s\u001b[0m eta \u001b[36m0:00:03\u001b[0m\r\u001b[2K     \u001b[91m━━━━━━━━━━━━━━━━━\u001b[0m\u001b[91m╸\u001b[0m\u001b[90m━━━━━━━━━━━━━━━━━━━━\u001b[0m \u001b[32m147.6/317.0 MB\u001b[0m \u001b[31m74.0 MB/s\u001b[0m eta \u001b[36m0:00:03\u001b[0m\r\u001b[2K     \u001b[91m━━━━━━━━━━━━━━━━━━\u001b[0m\u001b[90m╺\u001b[0m\u001b[90m━━━━━━━━━━━━━━━━━━━\u001b[0m \u001b[32m150.9/317.0 MB\u001b[0m \u001b[31m87.2 MB/s\u001b[0m eta \u001b[36m0:00:02\u001b[0m\r\u001b[2K     \u001b[91m━━━━━━━━━━━━━━━━━━\u001b[0m\u001b[91m╸\u001b[0m\u001b[90m━━━━━━━━━━━━━━━━━━━\u001b[0m \u001b[32m154.4/317.0 MB\u001b[0m \u001b[31m89.2 MB/s\u001b[0m eta \u001b[36m0:00:02\u001b[0m\r\u001b[2K     \u001b[91m━━━━━━━━━━━━━━━━━━\u001b[0m\u001b[91m╸\u001b[0m\u001b[90m━━━━━━━━━━━━━━━━━━━\u001b[0m \u001b[32m157.5/317.0 MB\u001b[0m \u001b[31m81.9 MB/s\u001b[0m eta \u001b[36m0:00:02\u001b[0m\r\u001b[2K     \u001b[91m━━━━━━━━━━━━━━━━━━━\u001b[0m\u001b[90m╺\u001b[0m\u001b[90m━━━━━━━━━━━━━━━━━━\u001b[0m \u001b[32m160.3/317.0 MB\u001b[0m \u001b[31m77.3 MB/s\u001b[0m eta \u001b[36m0:00:03\u001b[0m\r\u001b[2K     \u001b[91m━━━━━━━━━━━━━━━━━━━\u001b[0m\u001b[90m╺\u001b[0m\u001b[90m━━━━━━━━━━━━━━━━━━\u001b[0m \u001b[32m162.4/317.0 MB\u001b[0m \u001b[31m70.5 MB/s\u001b[0m eta \u001b[36m0:00:03\u001b[0m\r\u001b[2K     \u001b[91m━━━━━━━━━━━━━━━━━━━\u001b[0m\u001b[91m╸\u001b[0m\u001b[90m━━━━━━━━━━━━━━━━━━\u001b[0m \u001b[32m164.1/317.0 MB\u001b[0m \u001b[31m56.5 MB/s\u001b[0m eta \u001b[36m0:00:03\u001b[0m\r\u001b[2K     \u001b[91m━━━━━━━━━━━━━━━━━━━\u001b[0m\u001b[91m╸\u001b[0m\u001b[90m━━━━━━━━━━━━━━━━━━\u001b[0m \u001b[32m165.3/317.0 MB\u001b[0m \u001b[31m40.7 MB/s\u001b[0m eta \u001b[36m0:00:04\u001b[0m\r\u001b[2K     \u001b[91m━━━━━━━━━━━━━━━━━━━━\u001b[0m\u001b[90m╺\u001b[0m\u001b[90m━━━━━━━━━━━━━━━━━\u001b[0m \u001b[32m167.1/317.0 MB\u001b[0m \u001b[31m36.2 MB/s\u001b[0m eta \u001b[36m0:00:05\u001b[0m\r\u001b[2K     \u001b[91m━━━━━━━━━━━━━━━━━━━━\u001b[0m\u001b[90m╺\u001b[0m\u001b[90m━━━━━━━━━━━━━━━━━\u001b[0m \u001b[32m170.0/317.0 MB\u001b[0m \u001b[31m38.0 MB/s\u001b[0m eta \u001b[36m0:00:04\u001b[0m\r\u001b[2K     \u001b[91m━━━━━━━━━━━━━━━━━━━━\u001b[0m\u001b[91m╸\u001b[0m\u001b[90m━━━━━━━━━━━━━━━━━\u001b[0m \u001b[32m173.3/317.0 MB\u001b[0m \u001b[31m46.0 MB/s\u001b[0m eta \u001b[36m0:00:04\u001b[0m\r\u001b[2K     \u001b[91m━━━━━━━━━━━━━━━━━━━━━\u001b[0m\u001b[90m╺\u001b[0m\u001b[90m━━━━━━━━━━━━━━━━\u001b[0m \u001b[32m176.6/317.0 MB\u001b[0m \u001b[31m83.4 MB/s\u001b[0m eta \u001b[36m0:00:02\u001b[0m\r\u001b[2K     \u001b[91m━━━━━━━━━━━━━━━━━━━━━\u001b[0m\u001b[91m╸\u001b[0m\u001b[90m━━━━━━━━━━━━━━━━\u001b[0m \u001b[32m180.2/317.0 MB\u001b[0m \u001b[31m91.9 MB/s\u001b[0m eta \u001b[36m0:00:02\u001b[0m\r\u001b[2K     \u001b[91m━━━━━━━━━━━━━━━━━━━━━━\u001b[0m\u001b[90m╺\u001b[0m\u001b[90m━━━━━━━━━━━━━━━\u001b[0m \u001b[32m183.6/317.0 MB\u001b[0m \u001b[31m92.3 MB/s\u001b[0m eta \u001b[36m0:00:02\u001b[0m\r\u001b[2K     \u001b[91m━━━━━━━━━━━━━━━━━━━━━━\u001b[0m\u001b[90m╺\u001b[0m\u001b[90m━━━━━━━━━━━━━━━\u001b[0m \u001b[32m185.9/317.0 MB\u001b[0m \u001b[31m80.6 MB/s\u001b[0m eta \u001b[36m0:00:02\u001b[0m\r\u001b[2K     \u001b[91m━━━━━━━━━━━━━━━━━━━━━━\u001b[0m\u001b[91m╸\u001b[0m\u001b[90m━━━━━━━━━━━━━━━\u001b[0m \u001b[32m188.2/317.0 MB\u001b[0m \u001b[31m70.9 MB/s\u001b[0m eta \u001b[36m0:00:02\u001b[0m\r\u001b[2K     \u001b[91m━━━━━━━━━━━━━━━━━━━━━━\u001b[0m\u001b[91m╸\u001b[0m\u001b[90m━━━━━━━━━━━━━━━\u001b[0m \u001b[32m190.6/317.0 MB\u001b[0m \u001b[31m66.1 MB/s\u001b[0m eta \u001b[36m0:00:02\u001b[0m\r\u001b[2K     \u001b[91m━━━━━━━━━━━━━━━━━━━━━━━\u001b[0m\u001b[90m╺\u001b[0m\u001b[90m━━━━━━━━━━━━━━\u001b[0m \u001b[32m194.2/317.0 MB\u001b[0m \u001b[31m71.4 MB/s\u001b[0m eta \u001b[36m0:00:02\u001b[0m\r\u001b[2K     \u001b[91m━━━━━━━━━━━━━━━━━━━━━━━\u001b[0m\u001b[91m╸\u001b[0m\u001b[90m━━━━━━━━━━━━━━\u001b[0m \u001b[32m197.4/317.0 MB\u001b[0m \u001b[31m78.7 MB/s\u001b[0m eta \u001b[36m0:00:02\u001b[0m\r\u001b[2K     \u001b[91m━━━━━━━━━━━━━━━━━━━━━━━━\u001b[0m\u001b[90m╺\u001b[0m\u001b[90m━━━━━━━━━━━━━\u001b[0m \u001b[32m200.4/317.0 MB\u001b[0m \u001b[31m85.9 MB/s\u001b[0m eta \u001b[36m0:00:02\u001b[0m\r\u001b[2K     \u001b[91m━━━━━━━━━━━━━━━━━━━━━━━━\u001b[0m\u001b[90m╺\u001b[0m\u001b[90m━━━━━━━━━━━━━\u001b[0m \u001b[32m203.4/317.0 MB\u001b[0m \u001b[31m84.7 MB/s\u001b[0m eta \u001b[36m0:00:02\u001b[0m\r\u001b[2K     \u001b[91m━━━━━━━━━━━━━━━━━━━━━━━━\u001b[0m\u001b[91m╸\u001b[0m\u001b[90m━━━━━━━━━━━━━\u001b[0m \u001b[32m206.1/317.0 MB\u001b[0m \u001b[31m76.7 MB/s\u001b[0m eta \u001b[36m0:00:02\u001b[0m\r\u001b[2K     \u001b[91m━━━━━━━━━━━━━━━━━━━━━━━━━\u001b[0m\u001b[90m╺\u001b[0m\u001b[90m━━━━━━━━━━━━\u001b[0m \u001b[32m209.1/317.0 MB\u001b[0m \u001b[31m74.8 MB/s\u001b[0m eta \u001b[36m0:00:02\u001b[0m\r\u001b[2K     \u001b[91m━━━━━━━━━━━━━━━━━━━━━━━━━\u001b[0m\u001b[90m╺\u001b[0m\u001b[90m━━━━━━━━━━━━\u001b[0m \u001b[32m212.2/317.0 MB\u001b[0m \u001b[31m74.2 MB/s\u001b[0m eta \u001b[36m0:00:02\u001b[0m\r\u001b[2K     \u001b[91m━━━━━━━━━━━━━━━━━━━━━━━━━\u001b[0m\u001b[91m╸\u001b[0m\u001b[90m━━━━━━━━━━━━\u001b[0m \u001b[32m215.3/317.0 MB\u001b[0m \u001b[31m81.9 MB/s\u001b[0m eta \u001b[36m0:00:02\u001b[0m\r\u001b[2K     \u001b[91m━━━━━━━━━━━━━━━━━━━━━━━━━━\u001b[0m\u001b[90m╺\u001b[0m\u001b[90m━━━━━━━━━━━\u001b[0m \u001b[32m218.4/317.0 MB\u001b[0m \u001b[31m84.0 MB/s\u001b[0m eta \u001b[36m0:00:02\u001b[0m\r\u001b[2K     \u001b[91m━━━━━━━━━━━━━━━━━━━━━━━━━━\u001b[0m\u001b[91m╸\u001b[0m\u001b[90m━━━━━━━━━━━\u001b[0m \u001b[32m221.3/317.0 MB\u001b[0m \u001b[31m80.2 MB/s\u001b[0m eta \u001b[36m0:00:02\u001b[0m\r\u001b[2K     \u001b[91m━━━━━━━━━━━━━━━━━━━━━━━━━━\u001b[0m\u001b[91m╸\u001b[0m\u001b[90m━━━━━━━━━━━\u001b[0m \u001b[32m224.5/317.0 MB\u001b[0m \u001b[31m79.1 MB/s\u001b[0m eta \u001b[36m0:00:02\u001b[0m\r\u001b[2K     \u001b[91m━━━━━━━━━━━━━━━━━━━━━━━━━━━\u001b[0m\u001b[90m╺\u001b[0m\u001b[90m━━━━━━━━━━\u001b[0m \u001b[32m227.3/317.0 MB\u001b[0m \u001b[31m75.6 MB/s\u001b[0m eta \u001b[36m0:00:02\u001b[0m\r\u001b[2K     \u001b[91m━━━━━━━━━━━━━━━━━━━━━━━━━━━\u001b[0m\u001b[91m╸\u001b[0m\u001b[90m━━━━━━━━━━\u001b[0m \u001b[32m230.4/317.0 MB\u001b[0m \u001b[31m74.7 MB/s\u001b[0m eta \u001b[36m0:00:02\u001b[0m\r\u001b[2K     \u001b[91m━━━━━━━━━━━━━━━━━━━━━━━━━━━━\u001b[0m\u001b[90m╺\u001b[0m\u001b[90m━━━━━━━━━\u001b[0m \u001b[32m233.7/317.0 MB\u001b[0m \u001b[31m78.2 MB/s\u001b[0m eta \u001b[36m0:00:02\u001b[0m\r\u001b[2K     \u001b[91m━━━━━━━━━━━━━━━━━━━━━━━━━━━━\u001b[0m\u001b[90m╺\u001b[0m\u001b[90m━━━━━━━━━\u001b[0m \u001b[32m237.0/317.0 MB\u001b[0m \u001b[31m86.8 MB/s\u001b[0m eta \u001b[36m0:00:01\u001b[0m\r\u001b[2K     \u001b[91m━━━━━━━━━━━━━━━━━━━━━━━━━━━━\u001b[0m\u001b[91m╸\u001b[0m\u001b[90m━━━━━━━━━\u001b[0m \u001b[32m240.0/317.0 MB\u001b[0m \u001b[31m84.7 MB/s\u001b[0m eta \u001b[36m0:00:01\u001b[0m\r\u001b[2K     \u001b[91m━━━━━━━━━━━━━━━━━━━━━━━━━━━━━\u001b[0m\u001b[90m╺\u001b[0m\u001b[90m━━━━━━━━\u001b[0m \u001b[32m243.1/317.0 MB\u001b[0m \u001b[31m84.7 MB/s\u001b[0m eta \u001b[36m0:00:01\u001b[0m\r\u001b[2K     \u001b[91m━━━━━━━━━━━━━━━━━━━━━━━━━━━━━\u001b[0m\u001b[90m╺\u001b[0m\u001b[90m━━━━━━━━\u001b[0m \u001b[32m245.3/317.0 MB\u001b[0m \u001b[31m77.4 MB/s\u001b[0m eta \u001b[36m0:00:01\u001b[0m\r\u001b[2K     \u001b[91m━━━━━━━━━━━━━━━━━━━━━━━━━━━━━\u001b[0m\u001b[91m╸\u001b[0m\u001b[90m━━━━━━━━\u001b[0m \u001b[32m247.5/317.0 MB\u001b[0m \u001b[31m73.4 MB/s\u001b[0m eta \u001b[36m0:00:01\u001b[0m\r\u001b[2K     \u001b[91m━━━━━━━━━━━━━━━━━━━━━━━━━━━━━\u001b[0m\u001b[91m╸\u001b[0m\u001b[90m━━━━━━━━\u001b[0m \u001b[32m248.2/317.0 MB\u001b[0m \u001b[31m59.8 MB/s\u001b[0m eta \u001b[36m0:00:02\u001b[0m\r\u001b[2K     \u001b[91m━━━━━━━━━━━━━━━━━━━━━━━━━━━━━\u001b[0m\u001b[91m╸\u001b[0m\u001b[90m━━━━━━━━\u001b[0m \u001b[32m249.4/317.0 MB\u001b[0m \u001b[31m49.3 MB/s\u001b[0m eta \u001b[36m0:00:02\u001b[0m\r\u001b[2K     \u001b[91m━━━━━━━━━━━━━━━━━━━━━━━━━━━━━━\u001b[0m\u001b[90m╺\u001b[0m\u001b[90m━━━━━━━\u001b[0m \u001b[32m251.2/317.0 MB\u001b[0m \u001b[31m46.0 MB/s\u001b[0m eta \u001b[36m0:00:02\u001b[0m\r\u001b[2K     \u001b[91m━━━━━━━━━━━━━━━━━━━━━━━━━━━━━━\u001b[0m\u001b[90m╺\u001b[0m\u001b[90m━━━━━━━\u001b[0m \u001b[32m252.1/317.0 MB\u001b[0m \u001b[31m41.2 MB/s\u001b[0m eta \u001b[36m0:00:02\u001b[0m\r\u001b[2K     \u001b[91m━━━━━━━━━━━━━━━━━━━━━━━━━━━━━━\u001b[0m\u001b[90m╺\u001b[0m\u001b[90m━━━━━━━\u001b[0m \u001b[32m253.5/317.0 MB\u001b[0m \u001b[31m37.7 MB/s\u001b[0m eta \u001b[36m0:00:02\u001b[0m\r\u001b[2K     \u001b[91m━━━━━━━━━━━━━━━━━━━━━━━━━━━━━━\u001b[0m\u001b[91m╸\u001b[0m\u001b[90m━━━━━━━\u001b[0m \u001b[32m254.9/317.0 MB\u001b[0m \u001b[31m34.6 MB/s\u001b[0m eta \u001b[36m0:00:02\u001b[0m\r\u001b[2K     \u001b[91m━━━━━━━━━━━━━━━━━━━━━━━━━━━━━━\u001b[0m\u001b[91m╸\u001b[0m\u001b[90m━━━━━━━\u001b[0m \u001b[32m256.7/317.0 MB\u001b[0m \u001b[31m33.8 MB/s\u001b[0m eta \u001b[36m0:00:02\u001b[0m\r\u001b[2K     \u001b[91m━━━━━━━━━━━━━━━━━━━━━━━━━━━━━━\u001b[0m\u001b[91m╸\u001b[0m\u001b[90m━━━━━━━\u001b[0m \u001b[32m258.3/317.0 MB\u001b[0m \u001b[31m33.8 MB/s\u001b[0m eta \u001b[36m0:00:02\u001b[0m\r\u001b[2K     \u001b[91m━━━━━━━━━━━━━━━━━━━━━━━━━━━━━━━\u001b[0m\u001b[90m╺\u001b[0m\u001b[90m━━━━━━\u001b[0m \u001b[32m260.1/317.0 MB\u001b[0m \u001b[31m37.9 MB/s\u001b[0m eta \u001b[36m0:00:02\u001b[0m\r\u001b[2K     \u001b[91m━━━━━━━━━━━━━━━━━━━━━━━━━━━━━━━\u001b[0m\u001b[90m╺\u001b[0m\u001b[90m━━━━━━\u001b[0m \u001b[32m261.6/317.0 MB\u001b[0m \u001b[31m37.4 MB/s\u001b[0m eta \u001b[36m0:00:02\u001b[0m\r\u001b[2K     \u001b[91m━━━━━━━━━━━━━━━━━━━━━━━━━━━━━━━\u001b[0m\u001b[91m╸\u001b[0m\u001b[90m━━━━━━\u001b[0m \u001b[32m264.4/317.0 MB\u001b[0m \u001b[31m48.4 MB/s\u001b[0m eta \u001b[36m0:00:02\u001b[0m\r\u001b[2K     \u001b[91m━━━━━━━━━━━━━━━━━━━━━━━━━━━━━━━━\u001b[0m\u001b[90m╺\u001b[0m\u001b[90m━━━━━\u001b[0m \u001b[32m267.4/317.0 MB\u001b[0m \u001b[31m58.2 MB/s\u001b[0m eta \u001b[36m0:00:01\u001b[0m\r\u001b[2K     \u001b[91m━━━━━━━━━━━━━━━━━━━━━━━━━━━━━━━━\u001b[0m\u001b[90m╺\u001b[0m\u001b[90m━━━━━\u001b[0m \u001b[32m270.4/317.0 MB\u001b[0m \u001b[31m70.3 MB/s\u001b[0m eta \u001b[36m0:00:01\u001b[0m\r\u001b[2K     \u001b[91m━━━━━━━━━━━━━━━━━━━━━━━━━━━━━━━━\u001b[0m\u001b[91m╸\u001b[0m\u001b[90m━━━━━\u001b[0m \u001b[32m273.3/317.0 MB\u001b[0m \u001b[31m80.1 MB/s\u001b[0m eta \u001b[36m0:00:01\u001b[0m\r\u001b[2K     \u001b[91m━━━━━━━━━━━━━━━━━━━━━━━━━━━━━━━━━\u001b[0m\u001b[90m╺\u001b[0m\u001b[90m━━━━\u001b[0m \u001b[32m276.2/317.0 MB\u001b[0m \u001b[31m77.5 MB/s\u001b[0m eta \u001b[36m0:00:01\u001b[0m\r\u001b[2K     \u001b[91m━━━━━━━━━━━━━━━━━━━━━━━━━━━━━━━━━\u001b[0m\u001b[90m╺\u001b[0m\u001b[90m━━━━\u001b[0m \u001b[32m279.4/317.0 MB\u001b[0m \u001b[31m80.7 MB/s\u001b[0m eta \u001b[36m0:00:01\u001b[0m\r\u001b[2K     \u001b[91m━━━━━━━━━━━━━━━━━━━━━━━━━━━━━━━━━\u001b[0m\u001b[91m╸\u001b[0m\u001b[90m━━━━\u001b[0m \u001b[32m282.3/317.0 MB\u001b[0m \u001b[31m80.8 MB/s\u001b[0m eta \u001b[36m0:00:01\u001b[0m\r\u001b[2K     \u001b[91m━━━━━━━━━━━━━━━━━━━━━━━━━━━━━━━━━━\u001b[0m\u001b[90m╺\u001b[0m\u001b[90m━━━\u001b[0m \u001b[32m285.4/317.0 MB\u001b[0m \u001b[31m79.8 MB/s\u001b[0m eta \u001b[36m0:00:01\u001b[0m\r\u001b[2K     \u001b[91m━━━━━━━━━━━━━━━━━━━━━━━━━━━━━━━━━━\u001b[0m\u001b[90m╺\u001b[0m\u001b[90m━━━\u001b[0m \u001b[32m286.7/317.0 MB\u001b[0m \u001b[31m72.6 MB/s\u001b[0m eta \u001b[36m0:00:01\u001b[0m\r\u001b[2K     \u001b[91m━━━━━━━━━━━━━━━━━━━━━━━━━━━━━━━━━━\u001b[0m\u001b[91m╸\u001b[0m\u001b[90m━━━\u001b[0m \u001b[32m289.5/317.0 MB\u001b[0m \u001b[31m62.4 MB/s\u001b[0m eta \u001b[36m0:00:01\u001b[0m\r\u001b[2K     \u001b[91m━━━━━━━━━━━━━━━━━━━━━━━━━━━━━━━━━━\u001b[0m\u001b[91m╸\u001b[0m\u001b[90m━━━\u001b[0m \u001b[32m291.6/317.0 MB\u001b[0m \u001b[31m58.1 MB/s\u001b[0m eta \u001b[36m0:00:01\u001b[0m\r\u001b[2K     \u001b[91m━━━━━━━━━━━━━━━━━━━━━━━━━━━━━━━━━━━\u001b[0m\u001b[90m╺\u001b[0m\u001b[90m━━\u001b[0m \u001b[32m293.8/317.0 MB\u001b[0m \u001b[31m55.2 MB/s\u001b[0m eta \u001b[36m0:00:01\u001b[0m\r\u001b[2K     \u001b[91m━━━━━━━━━━━━━━━━━━━━━━━━━━━━━━━━━━━\u001b[0m\u001b[90m╺\u001b[0m\u001b[90m━━\u001b[0m \u001b[32m296.0/317.0 MB\u001b[0m \u001b[31m53.3 MB/s\u001b[0m eta \u001b[36m0:00:01\u001b[0m\r\u001b[2K     \u001b[91m━━━━━━━━━━━━━━━━━━━━━━━━━━━━━━━━━━━\u001b[0m\u001b[91m╸\u001b[0m\u001b[90m━━\u001b[0m \u001b[32m299.3/317.0 MB\u001b[0m \u001b[31m62.3 MB/s\u001b[0m eta \u001b[36m0:00:01\u001b[0m\r\u001b[2K     \u001b[91m━━━━━━━━━━━━━━━━━━━━━━━━━━━━━━━━━━━━\u001b[0m\u001b[90m╺\u001b[0m\u001b[90m━\u001b[0m \u001b[32m302.4/317.0 MB\u001b[0m \u001b[31m70.2 MB/s\u001b[0m eta \u001b[36m0:00:01\u001b[0m\r\u001b[2K     \u001b[91m━━━━━━━━━━━━━━━━━━━━━━━━━━━━━━━━━━━━\u001b[0m\u001b[91m╸\u001b[0m\u001b[90m━\u001b[0m \u001b[32m305.2/317.0 MB\u001b[0m \u001b[31m73.4 MB/s\u001b[0m eta \u001b[36m0:00:01\u001b[0m\r\u001b[2K     \u001b[91m━━━━━━━━━━━━━━━━━━━━━━━━━━━━━━━━━━━━\u001b[0m\u001b[91m╸\u001b[0m\u001b[90m━\u001b[0m \u001b[32m307.9/317.0 MB\u001b[0m \u001b[31m76.4 MB/s\u001b[0m eta \u001b[36m0:00:01\u001b[0m\r\u001b[2K     \u001b[91m━━━━━━━━━━━━━━━━━━━━━━━━━━━━━━━━━━━━━\u001b[0m\u001b[90m╺\u001b[0m \u001b[32m310.9/317.0 MB\u001b[0m \u001b[31m78.6 MB/s\u001b[0m eta \u001b[36m0:00:01\u001b[0m\r\u001b[2K     \u001b[91m━━━━━━━━━━━━━━━━━━━━━━━━━━━━━━━━━━━━━\u001b[0m\u001b[91m╸\u001b[0m \u001b[32m313.6/317.0 MB\u001b[0m \u001b[31m75.4 MB/s\u001b[0m eta \u001b[36m0:00:01\u001b[0m\r\u001b[2K     \u001b[91m━━━━━━━━━━━━━━━━━━━━━━━━━━━━━━━━━━━━━\u001b[0m\u001b[91m╸\u001b[0m \u001b[32m316.7/317.0 MB\u001b[0m \u001b[31m78.0 MB/s\u001b[0m eta \u001b[36m0:00:01\u001b[0m\r\u001b[2K     \u001b[91m━━━━━━━━━━━━━━━━━━━━━━━━━━━━━━━━━━━━━\u001b[0m\u001b[91m╸\u001b[0m \u001b[32m316.9/317.0 MB\u001b[0m \u001b[31m76.8 MB/s\u001b[0m eta \u001b[36m0:00:01\u001b[0m\r\u001b[2K     \u001b[91m━━━━━━━━━━━━━━━━━━━━━━━━━━━━━━━━━━━━━\u001b[0m\u001b[91m╸\u001b[0m \u001b[32m316.9/317.0 MB\u001b[0m \u001b[31m76.8 MB/s\u001b[0m eta \u001b[36m0:00:01\u001b[0m\r\u001b[2K     \u001b[91m━━━━━━━━━━━━━━━━━━━━━━━━━━━━━━━━━━━━━\u001b[0m\u001b[91m╸\u001b[0m \u001b[32m316.9/317.0 MB\u001b[0m \u001b[31m76.8 MB/s\u001b[0m eta \u001b[36m0:00:01\u001b[0m\r\u001b[2K     \u001b[91m━━━━━━━━━━━━━━━━━━━━━━━━━━━━━━━━━━━━━\u001b[0m\u001b[91m╸\u001b[0m \u001b[32m316.9/317.0 MB\u001b[0m \u001b[31m76.8 MB/s\u001b[0m eta \u001b[36m0:00:01\u001b[0m\r\u001b[2K     \u001b[91m━━━━━━━━━━━━━━━━━━━━━━━━━━━━━━━━━━━━━\u001b[0m\u001b[91m╸\u001b[0m \u001b[32m316.9/317.0 MB\u001b[0m \u001b[31m76.8 MB/s\u001b[0m eta \u001b[36m0:00:01\u001b[0m\r\u001b[2K     \u001b[91m━━━━━━━━━━━━━━━━━━━━━━━━━━━━━━━━━━━━━\u001b[0m\u001b[91m╸\u001b[0m \u001b[32m316.9/317.0 MB\u001b[0m \u001b[31m76.8 MB/s\u001b[0m eta \u001b[36m0:00:01\u001b[0m\r\u001b[2K     \u001b[91m━━━━━━━━━━━━━━━━━━━━━━━━━━━━━━━━━━━━━\u001b[0m\u001b[91m╸\u001b[0m \u001b[32m316.9/317.0 MB\u001b[0m \u001b[31m76.8 MB/s\u001b[0m eta \u001b[36m0:00:01\u001b[0m\r\u001b[2K     \u001b[91m━━━━━━━━━━━━━━━━━━━━━━━━━━━━━━━━━━━━━\u001b[0m\u001b[91m╸\u001b[0m \u001b[32m316.9/317.0 MB\u001b[0m \u001b[31m76.8 MB/s\u001b[0m eta \u001b[36m0:00:01\u001b[0m\r\u001b[2K     \u001b[91m━━━━━━━━━━━━━━━━━━━━━━━━━━━━━━━━━━━━━\u001b[0m\u001b[91m╸\u001b[0m \u001b[32m316.9/317.0 MB\u001b[0m \u001b[31m76.8 MB/s\u001b[0m eta \u001b[36m0:00:01\u001b[0m\r\u001b[2K     \u001b[91m━━━━━━━━━━━━━━━━━━━━━━━━━━━━━━━━━━━━━\u001b[0m\u001b[91m╸\u001b[0m \u001b[32m316.9/317.0 MB\u001b[0m \u001b[31m76.8 MB/s\u001b[0m eta \u001b[36m0:00:01\u001b[0m\r\u001b[2K     \u001b[91m━━━━━━━━━━━━━━━━━━━━━━━━━━━━━━━━━━━━━\u001b[0m\u001b[91m╸\u001b[0m \u001b[32m316.9/317.0 MB\u001b[0m \u001b[31m76.8 MB/s\u001b[0m eta \u001b[36m0:00:01\u001b[0m\r\u001b[2K     \u001b[91m━━━━━━━━━━━━━━━━━━━━━━━━━━━━━━━━━━━━━\u001b[0m\u001b[91m╸\u001b[0m \u001b[32m316.9/317.0 MB\u001b[0m \u001b[31m76.8 MB/s\u001b[0m eta \u001b[36m0:00:01\u001b[0m\r\u001b[2K     \u001b[91m━━━━━━━━━━━━━━━━━━━━━━━━━━━━━━━━━━━━━\u001b[0m\u001b[91m╸\u001b[0m \u001b[32m316.9/317.0 MB\u001b[0m \u001b[31m76.8 MB/s\u001b[0m eta \u001b[36m0:00:01\u001b[0m\r\u001b[2K     \u001b[91m━━━━━━━━━━━━━━━━━━━━━━━━━━━━━━━━━━━━━\u001b[0m\u001b[91m╸\u001b[0m \u001b[32m316.9/317.0 MB\u001b[0m \u001b[31m76.8 MB/s\u001b[0m eta \u001b[36m0:00:01\u001b[0m\r\u001b[2K     \u001b[91m━━━━━━━━━━━━━━━━━━━━━━━━━━━━━━━━━━━━━\u001b[0m\u001b[91m╸\u001b[0m \u001b[32m316.9/317.0 MB\u001b[0m \u001b[31m76.8 MB/s\u001b[0m eta \u001b[36m0:00:01\u001b[0m\r\u001b[2K     \u001b[91m━━━━━━━━━━━━━━━━━━━━━━━━━━━━━━━━━━━━━\u001b[0m\u001b[91m╸\u001b[0m \u001b[32m316.9/317.0 MB\u001b[0m \u001b[31m76.8 MB/s\u001b[0m eta \u001b[36m0:00:01\u001b[0m\r\u001b[2K     \u001b[91m━━━━━━━━━━━━━━━━━━━━━━━━━━━━━━━━━━━━━\u001b[0m\u001b[91m╸\u001b[0m \u001b[32m316.9/317.0 MB\u001b[0m \u001b[31m76.8 MB/s\u001b[0m eta \u001b[36m0:00:01\u001b[0m\r\u001b[2K     \u001b[91m━━━━━━━━━━━━━━━━━━━━━━━━━━━━━━━━━━━━━\u001b[0m\u001b[91m╸\u001b[0m \u001b[32m316.9/317.0 MB\u001b[0m \u001b[31m76.8 MB/s\u001b[0m eta \u001b[36m0:00:01\u001b[0m\r\u001b[2K     \u001b[91m━━━━━━━━━━━━━━━━━━━━━━━━━━━━━━━━━━━━━\u001b[0m\u001b[91m╸\u001b[0m \u001b[32m316.9/317.0 MB\u001b[0m \u001b[31m76.8 MB/s\u001b[0m eta \u001b[36m0:00:01\u001b[0m\r\u001b[2K     \u001b[91m━━━━━━━━━━━━━━━━━━━━━━━━━━━━━━━━━━━━━\u001b[0m\u001b[91m╸\u001b[0m \u001b[32m316.9/317.0 MB\u001b[0m \u001b[31m76.8 MB/s\u001b[0m eta \u001b[36m0:00:01\u001b[0m\r\u001b[2K     \u001b[91m━━━━━━━━━━━━━━━━━━━━━━━━━━━━━━━━━━━━━\u001b[0m\u001b[91m╸\u001b[0m \u001b[32m316.9/317.0 MB\u001b[0m \u001b[31m76.8 MB/s\u001b[0m eta \u001b[36m0:00:01\u001b[0m\r\u001b[2K     \u001b[91m━━━━━━━━━━━━━━━━━━━━━━━━━━━━━━━━━━━━━\u001b[0m\u001b[91m╸\u001b[0m \u001b[32m316.9/317.0 MB\u001b[0m \u001b[31m76.8 MB/s\u001b[0m eta \u001b[36m0:00:01\u001b[0m\r\u001b[2K     \u001b[91m━━━━━━━━━━━━━━━━━━━━━━━━━━━━━━━━━━━━━\u001b[0m\u001b[91m╸\u001b[0m \u001b[32m316.9/317.0 MB\u001b[0m \u001b[31m76.8 MB/s\u001b[0m eta \u001b[36m0:00:01\u001b[0m\r\u001b[2K     \u001b[91m━━━━━━━━━━━━━━━━━━━━━━━━━━━━━━━━━━━━━\u001b[0m\u001b[91m╸\u001b[0m \u001b[32m316.9/317.0 MB\u001b[0m \u001b[31m76.8 MB/s\u001b[0m eta \u001b[36m0:00:01\u001b[0m\r\u001b[2K     \u001b[91m━━━━━━━━━━━━━━━━━━━━━━━━━━━━━━━━━━━━━\u001b[0m\u001b[91m╸\u001b[0m \u001b[32m316.9/317.0 MB\u001b[0m \u001b[31m76.8 MB/s\u001b[0m eta \u001b[36m0:00:01\u001b[0m\r\u001b[2K     \u001b[91m━━━━━━━━━━━━━━━━━━━━━━━━━━━━━━━━━━━━━\u001b[0m\u001b[91m╸\u001b[0m \u001b[32m316.9/317.0 MB\u001b[0m \u001b[31m76.8 MB/s\u001b[0m eta \u001b[36m0:00:01\u001b[0m\r\u001b[2K     \u001b[91m━━━━━━━━━━━━━━━━━━━━━━━━━━━━━━━━━━━━━\u001b[0m\u001b[91m╸\u001b[0m \u001b[32m316.9/317.0 MB\u001b[0m \u001b[31m76.8 MB/s\u001b[0m eta \u001b[36m0:00:01\u001b[0m\r\u001b[2K     \u001b[91m━━━━━━━━━━━━━━━━━━━━━━━━━━━━━━━━━━━━━\u001b[0m\u001b[91m╸\u001b[0m \u001b[32m316.9/317.0 MB\u001b[0m \u001b[31m76.8 MB/s\u001b[0m eta \u001b[36m0:00:01\u001b[0m\r\u001b[2K     \u001b[91m━━━━━━━━━━━━━━━━━━━━━━━━━━━━━━━━━━━━━\u001b[0m\u001b[91m╸\u001b[0m \u001b[32m316.9/317.0 MB\u001b[0m \u001b[31m76.8 MB/s\u001b[0m eta \u001b[36m0:00:01\u001b[0m\r\u001b[2K     \u001b[91m━━━━━━━━━━━━━━━━━━━━━━━━━━━━━━━━━━━━━\u001b[0m\u001b[91m╸\u001b[0m \u001b[32m316.9/317.0 MB\u001b[0m \u001b[31m76.8 MB/s\u001b[0m eta \u001b[36m0:00:01\u001b[0m\r\u001b[2K     \u001b[91m━━━━━━━━━━━━━━━━━━━━━━━━━━━━━━━━━━━━━\u001b[0m\u001b[91m╸\u001b[0m \u001b[32m316.9/317.0 MB\u001b[0m \u001b[31m76.8 MB/s\u001b[0m eta \u001b[36m0:00:01\u001b[0m\r\u001b[2K     \u001b[91m━━━━━━━━━━━━━━━━━━━━━━━━━━━━━━━━━━━━━\u001b[0m\u001b[91m╸\u001b[0m \u001b[32m316.9/317.0 MB\u001b[0m \u001b[31m76.8 MB/s\u001b[0m eta \u001b[36m0:00:01\u001b[0m\r\u001b[2K     \u001b[91m━━━━━━━━━━━━━━━━━━━━━━━━━━━━━━━━━━━━━\u001b[0m\u001b[91m╸\u001b[0m \u001b[32m316.9/317.0 MB\u001b[0m \u001b[31m76.8 MB/s\u001b[0m eta \u001b[36m0:00:01\u001b[0m\r\u001b[2K     \u001b[91m━━━━━━━━━━━━━━━━━━━━━━━━━━━━━━━━━━━━━\u001b[0m\u001b[91m╸\u001b[0m \u001b[32m316.9/317.0 MB\u001b[0m \u001b[31m76.8 MB/s\u001b[0m eta \u001b[36m0:00:01\u001b[0m\r\u001b[2K     \u001b[91m━━━━━━━━━━━━━━━━━━━━━━━━━━━━━━━━━━━━━\u001b[0m\u001b[91m╸\u001b[0m \u001b[32m316.9/317.0 MB\u001b[0m \u001b[31m76.8 MB/s\u001b[0m eta \u001b[36m0:00:01\u001b[0m\r\u001b[2K     \u001b[91m━━━━━━━━━━━━━━━━━━━━━━━━━━━━━━━━━━━━━\u001b[0m\u001b[91m╸\u001b[0m \u001b[32m316.9/317.0 MB\u001b[0m \u001b[31m76.8 MB/s\u001b[0m eta \u001b[36m0:00:01\u001b[0m\r\u001b[2K     \u001b[91m━━━━━━━━━━━━━━━━━━━━━━━━━━━━━━━━━━━━━\u001b[0m\u001b[91m╸\u001b[0m \u001b[32m316.9/317.0 MB\u001b[0m \u001b[31m76.8 MB/s\u001b[0m eta \u001b[36m0:00:01\u001b[0m\r\u001b[2K     \u001b[91m━━━━━━━━━━━━━━━━━━━━━━━━━━━━━━━━━━━━━\u001b[0m\u001b[91m╸\u001b[0m \u001b[32m316.9/317.0 MB\u001b[0m \u001b[31m76.8 MB/s\u001b[0m eta \u001b[36m0:00:01\u001b[0m\r\u001b[2K     \u001b[91m━━━━━━━━━━━━━━━━━━━━━━━━━━━━━━━━━━━━━\u001b[0m\u001b[91m╸\u001b[0m \u001b[32m316.9/317.0 MB\u001b[0m \u001b[31m76.8 MB/s\u001b[0m eta \u001b[36m0:00:01\u001b[0m\r\u001b[2K     \u001b[91m━━━━━━━━━━━━━━━━━━━━━━━━━━━━━━━━━━━━━\u001b[0m\u001b[91m╸\u001b[0m \u001b[32m316.9/317.0 MB\u001b[0m \u001b[31m76.8 MB/s\u001b[0m eta \u001b[36m0:00:01\u001b[0m\r\u001b[2K     \u001b[91m━━━━━━━━━━━━━━━━━━━━━━━━━━━━━━━━━━━━━\u001b[0m\u001b[91m╸\u001b[0m \u001b[32m316.9/317.0 MB\u001b[0m \u001b[31m76.8 MB/s\u001b[0m eta \u001b[36m0:00:01\u001b[0m\r\u001b[2K     \u001b[91m━━━━━━━━━━━━━━━━━━━━━━━━━━━━━━━━━━━━━\u001b[0m\u001b[91m╸\u001b[0m \u001b[32m316.9/317.0 MB\u001b[0m \u001b[31m76.8 MB/s\u001b[0m eta \u001b[36m0:00:01\u001b[0m\r\u001b[2K     \u001b[91m━━━━━━━━━━━━━━━━━━━━━━━━━━━━━━━━━━━━━\u001b[0m\u001b[91m╸\u001b[0m \u001b[32m316.9/317.0 MB\u001b[0m \u001b[31m76.8 MB/s\u001b[0m eta \u001b[36m0:00:01\u001b[0m\r\u001b[2K     \u001b[91m━━━━━━━━━━━━━━━━━━━━━━━━━━━━━━━━━━━━━\u001b[0m\u001b[91m╸\u001b[0m \u001b[32m316.9/317.0 MB\u001b[0m \u001b[31m76.8 MB/s\u001b[0m eta \u001b[36m0:00:01\u001b[0m\r\u001b[2K     \u001b[91m━━━━━━━━━━━━━━━━━━━━━━━━━━━━━━━━━━━━━\u001b[0m\u001b[91m╸\u001b[0m \u001b[32m316.9/317.0 MB\u001b[0m \u001b[31m76.8 MB/s\u001b[0m eta \u001b[36m0:00:01\u001b[0m\r\u001b[2K     \u001b[91m━━━━━━━━━━━━━━━━━━━━━━━━━━━━━━━━━━━━━\u001b[0m\u001b[91m╸\u001b[0m \u001b[32m316.9/317.0 MB\u001b[0m \u001b[31m76.8 MB/s\u001b[0m eta \u001b[36m0:00:01\u001b[0m\r\u001b[2K     \u001b[91m━━━━━━━━━━━━━━━━━━━━━━━━━━━━━━━━━━━━━\u001b[0m\u001b[91m╸\u001b[0m \u001b[32m316.9/317.0 MB\u001b[0m \u001b[31m76.8 MB/s\u001b[0m eta \u001b[36m0:00:01\u001b[0m\r\u001b[2K     \u001b[91m━━━━━━━━━━━━━━━━━━━━━━━━━━━━━━━━━━━━━\u001b[0m\u001b[91m╸\u001b[0m \u001b[32m316.9/317.0 MB\u001b[0m \u001b[31m76.8 MB/s\u001b[0m eta \u001b[36m0:00:01\u001b[0m\r\u001b[2K     \u001b[91m━━━━━━━━━━━━━━━━━━━━━━━━━━━━━━━━━━━━━\u001b[0m\u001b[91m╸\u001b[0m \u001b[32m316.9/317.0 MB\u001b[0m \u001b[31m76.8 MB/s\u001b[0m eta \u001b[36m0:00:01\u001b[0m\r\u001b[2K     \u001b[91m━━━━━━━━━━━━━━━━━━━━━━━━━━━━━━━━━━━━━\u001b[0m\u001b[91m╸\u001b[0m \u001b[32m316.9/317.0 MB\u001b[0m \u001b[31m76.8 MB/s\u001b[0m eta \u001b[36m0:00:01\u001b[0m\r\u001b[2K     \u001b[91m━━━━━━━━━━━━━━━━━━━━━━━━━━━━━━━━━━━━━\u001b[0m\u001b[91m╸\u001b[0m \u001b[32m316.9/317.0 MB\u001b[0m \u001b[31m76.8 MB/s\u001b[0m eta \u001b[36m0:00:01\u001b[0m\r\u001b[2K     \u001b[91m━━━━━━━━━━━━━━━━━━━━━━━━━━━━━━━━━━━━━\u001b[0m\u001b[91m╸\u001b[0m \u001b[32m316.9/317.0 MB\u001b[0m \u001b[31m76.8 MB/s\u001b[0m eta \u001b[36m0:00:01\u001b[0m\r\u001b[2K     \u001b[91m━━━━━━━━━━━━━━━━━━━━━━━━━━━━━━━━━━━━━\u001b[0m\u001b[91m╸\u001b[0m \u001b[32m316.9/317.0 MB\u001b[0m \u001b[31m76.8 MB/s\u001b[0m eta \u001b[36m0:00:01\u001b[0m\r\u001b[2K     \u001b[91m━━━━━━━━━━━━━━━━━━━━━━━━━━━━━━━━━━━━━\u001b[0m\u001b[91m╸\u001b[0m \u001b[32m316.9/317.0 MB\u001b[0m \u001b[31m76.8 MB/s\u001b[0m eta \u001b[36m0:00:01\u001b[0m\r\u001b[2K     \u001b[91m━━━━━━━━━━━━━━━━━━━━━━━━━━━━━━━━━━━━━\u001b[0m\u001b[91m╸\u001b[0m \u001b[32m316.9/317.0 MB\u001b[0m \u001b[31m76.8 MB/s\u001b[0m eta \u001b[36m0:00:01\u001b[0m\r\u001b[2K     \u001b[91m━━━━━━━━━━━━━━━━━━━━━━━━━━━━━━━━━━━━━\u001b[0m\u001b[91m╸\u001b[0m \u001b[32m316.9/317.0 MB\u001b[0m \u001b[31m76.8 MB/s\u001b[0m eta \u001b[36m0:00:01\u001b[0m\r\u001b[2K     \u001b[91m━━━━━━━━━━━━━━━━━━━━━━━━━━━━━━━━━━━━━\u001b[0m\u001b[91m╸\u001b[0m \u001b[32m316.9/317.0 MB\u001b[0m \u001b[31m76.8 MB/s\u001b[0m eta \u001b[36m0:00:01\u001b[0m\r\u001b[2K     \u001b[91m━━━━━━━━━━━━━━━━━━━━━━━━━━━━━━━━━━━━━\u001b[0m\u001b[91m╸\u001b[0m \u001b[32m316.9/317.0 MB\u001b[0m \u001b[31m76.8 MB/s\u001b[0m eta \u001b[36m0:00:01\u001b[0m\r\u001b[2K     \u001b[91m━━━━━━━━━━━━━━━━━━━━━━━━━━━━━━━━━━━━━\u001b[0m\u001b[91m╸\u001b[0m \u001b[32m316.9/317.0 MB\u001b[0m \u001b[31m76.8 MB/s\u001b[0m eta \u001b[36m0:00:01\u001b[0m\r\u001b[2K     \u001b[91m━━━━━━━━━━━━━━━━━━━━━━━━━━━━━━━━━━━━━\u001b[0m\u001b[91m╸\u001b[0m \u001b[32m316.9/317.0 MB\u001b[0m \u001b[31m76.8 MB/s\u001b[0m eta \u001b[36m0:00:01\u001b[0m\r\u001b[2K     \u001b[91m━━━━━━━━━━━━━━━━━━━━━━━━━━━━━━━━━━━━━\u001b[0m\u001b[91m╸\u001b[0m \u001b[32m316.9/317.0 MB\u001b[0m \u001b[31m76.8 MB/s\u001b[0m eta \u001b[36m0:00:01\u001b[0m\r\u001b[2K     \u001b[91m━━━━━━━━━━━━━━━━━━━━━━━━━━━━━━━━━━━━━\u001b[0m\u001b[91m╸\u001b[0m \u001b[32m316.9/317.0 MB\u001b[0m \u001b[31m76.8 MB/s\u001b[0m eta \u001b[36m0:00:01\u001b[0m\r\u001b[2K     \u001b[91m━━━━━━━━━━━━━━━━━━━━━━━━━━━━━━━━━━━━━\u001b[0m\u001b[91m╸\u001b[0m \u001b[32m316.9/317.0 MB\u001b[0m \u001b[31m76.8 MB/s\u001b[0m eta \u001b[36m0:00:01\u001b[0m\r\u001b[2K     \u001b[91m━━━━━━━━━━━━━━━━━━━━━━━━━━━━━━━━━━━━━\u001b[0m\u001b[91m╸\u001b[0m \u001b[32m316.9/317.0 MB\u001b[0m \u001b[31m76.8 MB/s\u001b[0m eta \u001b[36m0:00:01\u001b[0m\r\u001b[2K     \u001b[91m━━━━━━━━━━━━━━━━━━━━━━━━━━━━━━━━━━━━━\u001b[0m\u001b[91m╸\u001b[0m \u001b[32m316.9/317.0 MB\u001b[0m \u001b[31m76.8 MB/s\u001b[0m eta \u001b[36m0:00:01\u001b[0m\r\u001b[2K     \u001b[91m━━━━━━━━━━━━━━━━━━━━━━━━━━━━━━━━━━━━━\u001b[0m\u001b[91m╸\u001b[0m \u001b[32m316.9/317.0 MB\u001b[0m \u001b[31m76.8 MB/s\u001b[0m eta \u001b[36m0:00:01\u001b[0m\r\u001b[2K     \u001b[91m━━━━━━━━━━━━━━━━━━━━━━━━━━━━━━━━━━━━━\u001b[0m\u001b[91m╸\u001b[0m \u001b[32m316.9/317.0 MB\u001b[0m \u001b[31m76.8 MB/s\u001b[0m eta \u001b[36m0:00:01\u001b[0m\r\u001b[2K     \u001b[91m━━━━━━━━━━━━━━━━━━━━━━━━━━━━━━━━━━━━━\u001b[0m\u001b[91m╸\u001b[0m \u001b[32m316.9/317.0 MB\u001b[0m \u001b[31m76.8 MB/s\u001b[0m eta \u001b[36m0:00:01\u001b[0m\r\u001b[2K     \u001b[91m━━━━━━━━━━━━━━━━━━━━━━━━━━━━━━━━━━━━━\u001b[0m\u001b[91m╸\u001b[0m \u001b[32m316.9/317.0 MB\u001b[0m \u001b[31m76.8 MB/s\u001b[0m eta \u001b[36m0:00:01\u001b[0m\r\u001b[2K     \u001b[91m━━━━━━━━━━━━━━━━━━━━━━━━━━━━━━━━━━━━━\u001b[0m\u001b[91m╸\u001b[0m \u001b[32m316.\n\n*** WARNING: max output size exceeded, skipping output. ***\n\ns\u001b[0m eta \u001b[36m0:00:01\u001b[0m\r\u001b[2K     \u001b[91m━━━━━━━━━━━━━━━━━━━━━━━━━━━━━━━━━━━━━\u001b[0m\u001b[91m╸\u001b[0m \u001b[32m316.9/317.0 MB\u001b[0m \u001b[31m76.8 MB/s\u001b[0m eta \u001b[36m0:00:01\u001b[0m\r\u001b[2K     \u001b[91m━━━━━━━━━━━━━━━━━━━━━━━━━━━━━━━━━━━━━\u001b[0m\u001b[91m╸\u001b[0m \u001b[32m316.9/317.0 MB\u001b[0m \u001b[31m76.8 MB/s\u001b[0m eta \u001b[36m0:00:01\u001b[0m\r\u001b[2K     \u001b[91m━━━━━━━━━━━━━━━━━━━━━━━━━━━━━━━━━━━━━\u001b[0m\u001b[91m╸\u001b[0m \u001b[32m316.9/317.0 MB\u001b[0m \u001b[31m76.8 MB/s\u001b[0m eta \u001b[36m0:00:01\u001b[0m\r\u001b[2K     \u001b[91m━━━━━━━━━━━━━━━━━━━━━━━━━━━━━━━━━━━━━\u001b[0m\u001b[91m╸\u001b[0m \u001b[32m316.9/317.0 MB\u001b[0m \u001b[31m76.8 MB/s\u001b[0m eta \u001b[36m0:00:01\u001b[0m\r\u001b[2K     \u001b[91m━━━━━━━━━━━━━━━━━━━━━━━━━━━━━━━━━━━━━\u001b[0m\u001b[91m╸\u001b[0m \u001b[32m316.9/317.0 MB\u001b[0m \u001b[31m76.8 MB/s\u001b[0m eta \u001b[36m0:00:01\u001b[0m\r\u001b[2K     \u001b[91m━━━━━━━━━━━━━━━━━━━━━━━━━━━━━━━━━━━━━\u001b[0m\u001b[91m╸\u001b[0m \u001b[32m316.9/317.0 MB\u001b[0m \u001b[31m76.8 MB/s\u001b[0m eta \u001b[36m0:00:01\u001b[0m\r\u001b[2K     \u001b[91m━━━━━━━━━━━━━━━━━━━━━━━━━━━━━━━━━━━━━\u001b[0m\u001b[91m╸\u001b[0m \u001b[32m316.9/317.0 MB\u001b[0m \u001b[31m76.8 MB/s\u001b[0m eta \u001b[36m0:00:01\u001b[0m\r\u001b[2K     \u001b[91m━━━━━━━━━━━━━━━━━━━━━━━━━━━━━━━━━━━━━\u001b[0m\u001b[91m╸\u001b[0m \u001b[32m316.9/317.0 MB\u001b[0m \u001b[31m76.8 MB/s\u001b[0m eta \u001b[36m0:00:01\u001b[0m\r\u001b[2K     \u001b[91m━━━━━━━━━━━━━━━━━━━━━━━━━━━━━━━━━━━━━\u001b[0m\u001b[91m╸\u001b[0m \u001b[32m316.9/317.0 MB\u001b[0m \u001b[31m76.8 MB/s\u001b[0m eta \u001b[36m0:00:01\u001b[0m\r\u001b[2K     \u001b[91m━━━━━━━━━━━━━━━━━━━━━━━━━━━━━━━━━━━━━\u001b[0m\u001b[91m╸\u001b[0m \u001b[32m316.9/317.0 MB\u001b[0m \u001b[31m76.8 MB/s\u001b[0m eta \u001b[36m0:00:01\u001b[0m\r\u001b[2K     \u001b[91m━━━━━━━━━━━━━━━━━━━━━━━━━━━━━━━━━━━━━\u001b[0m\u001b[91m╸\u001b[0m \u001b[32m316.9/317.0 MB\u001b[0m \u001b[31m76.8 MB/s\u001b[0m eta \u001b[36m0:00:01\u001b[0m\r\u001b[2K     \u001b[91m━━━━━━━━━━━━━━━━━━━━━━━━━━━━━━━━━━━━━\u001b[0m\u001b[91m╸\u001b[0m \u001b[32m316.9/317.0 MB\u001b[0m \u001b[31m76.8 MB/s\u001b[0m eta \u001b[36m0:00:01\u001b[0m\r\u001b[2K     \u001b[91m━━━━━━━━━━━━━━━━━━━━━━━━━━━━━━━━━━━━━\u001b[0m\u001b[91m╸\u001b[0m \u001b[32m316.9/317.0 MB\u001b[0m \u001b[31m76.8 MB/s\u001b[0m eta \u001b[36m0:00:01\u001b[0m\r\u001b[2K     \u001b[91m━━━━━━━━━━━━━━━━━━━━━━━━━━━━━━━━━━━━━\u001b[0m\u001b[91m╸\u001b[0m \u001b[32m316.9/317.0 MB\u001b[0m \u001b[31m76.8 MB/s\u001b[0m eta \u001b[36m0:00:01\u001b[0m\r\u001b[2K     \u001b[91m━━━━━━━━━━━━━━━━━━━━━━━━━━━━━━━━━━━━━\u001b[0m\u001b[91m╸\u001b[0m \u001b[32m316.9/317.0 MB\u001b[0m \u001b[31m76.8 MB/s\u001b[0m eta \u001b[36m0:00:01\u001b[0m\r\u001b[2K     \u001b[91m━━━━━━━━━━━━━━━━━━━━━━━━━━━━━━━━━━━━━\u001b[0m\u001b[91m╸\u001b[0m \u001b[32m316.9/317.0 MB\u001b[0m \u001b[31m76.8 MB/s\u001b[0m eta \u001b[36m0:00:01\u001b[0m\r\u001b[2K     \u001b[91m━━━━━━━━━━━━━━━━━━━━━━━━━━━━━━━━━━━━━\u001b[0m\u001b[91m╸\u001b[0m \u001b[32m316.9/317.0 MB\u001b[0m \u001b[31m76.8 MB/s\u001b[0m eta \u001b[36m0:00:01\u001b[0m\r\u001b[2K     \u001b[91m━━━━━━━━━━━━━━━━━━━━━━━━━━━━━━━━━━━━━\u001b[0m\u001b[91m╸\u001b[0m \u001b[32m316.9/317.0 MB\u001b[0m \u001b[31m76.8 MB/s\u001b[0m eta \u001b[36m0:00:01\u001b[0m\r\u001b[2K     \u001b[91m━━━━━━━━━━━━━━━━━━━━━━━━━━━━━━━━━━━━━\u001b[0m\u001b[91m╸\u001b[0m \u001b[32m316.9/317.0 MB\u001b[0m \u001b[31m76.8 MB/s\u001b[0m eta \u001b[36m0:00:01\u001b[0m\r\u001b[2K     \u001b[91m━━━━━━━━━━━━━━━━━━━━━━━━━━━━━━━━━━━━━\u001b[0m\u001b[91m╸\u001b[0m \u001b[32m316.9/317.0 MB\u001b[0m \u001b[31m76.8 MB/s\u001b[0m eta \u001b[36m0:00:01\u001b[0m\r\u001b[2K     \u001b[91m━━━━━━━━━━━━━━━━━━━━━━━━━━━━━━━━━━━━━\u001b[0m\u001b[91m╸\u001b[0m \u001b[32m316.9/317.0 MB\u001b[0m \u001b[31m76.8 MB/s\u001b[0m eta \u001b[36m0:00:01\u001b[0m\r\u001b[2K     \u001b[91m━━━━━━━━━━━━━━━━━━━━━━━━━━━━━━━━━━━━━\u001b[0m\u001b[91m╸\u001b[0m \u001b[32m316.9/317.0 MB\u001b[0m \u001b[31m76.8 MB/s\u001b[0m eta \u001b[36m0:00:01\u001b[0m\r\u001b[2K     \u001b[91m━━━━━━━━━━━━━━━━━━━━━━━━━━━━━━━━━━━━━\u001b[0m\u001b[91m╸\u001b[0m \u001b[32m316.9/317.0 MB\u001b[0m \u001b[31m76.8 MB/s\u001b[0m eta \u001b[36m0:00:01\u001b[0m\r\u001b[2K     \u001b[91m━━━━━━━━━━━━━━━━━━━━━━━━━━━━━━━━━━━━━\u001b[0m\u001b[91m╸\u001b[0m \u001b[32m316.9/317.0 MB\u001b[0m \u001b[31m76.8 MB/s\u001b[0m eta \u001b[36m0:00:01\u001b[0m\r\u001b[2K     \u001b[91m━━━━━━━━━━━━━━━━━━━━━━━━━━━━━━━━━━━━━\u001b[0m\u001b[91m╸\u001b[0m \u001b[32m316.9/317.0 MB\u001b[0m \u001b[31m76.8 MB/s\u001b[0m eta \u001b[36m0:00:01\u001b[0m\r\u001b[2K     \u001b[91m━━━━━━━━━━━━━━━━━━━━━━━━━━━━━━━━━━━━━\u001b[0m\u001b[91m╸\u001b[0m \u001b[32m316.9/317.0 MB\u001b[0m \u001b[31m76.8 MB/s\u001b[0m eta \u001b[36m0:00:01\u001b[0m\r\u001b[2K     \u001b[91m━━━━━━━━━━━━━━━━━━━━━━━━━━━━━━━━━━━━━\u001b[0m\u001b[91m╸\u001b[0m \u001b[32m316.9/317.0 MB\u001b[0m \u001b[31m76.8 MB/s\u001b[0m eta \u001b[36m0:00:01\u001b[0m\r\u001b[2K     \u001b[91m━━━━━━━━━━━━━━━━━━━━━━━━━━━━━━━━━━━━━\u001b[0m\u001b[91m╸\u001b[0m \u001b[32m316.9/317.0 MB\u001b[0m \u001b[31m76.8 MB/s\u001b[0m eta \u001b[36m0:00:01\u001b[0m\r\u001b[2K     \u001b[91m━━━━━━━━━━━━━━━━━━━━━━━━━━━━━━━━━━━━━\u001b[0m\u001b[91m╸\u001b[0m \u001b[32m316.9/317.0 MB\u001b[0m \u001b[31m76.8 MB/s\u001b[0m eta \u001b[36m0:00:01\u001b[0m\r\u001b[2K     \u001b[91m━━━━━━━━━━━━━━━━━━━━━━━━━━━━━━━━━━━━━\u001b[0m\u001b[91m╸\u001b[0m \u001b[32m316.9/317.0 MB\u001b[0m \u001b[31m76.8 MB/s\u001b[0m eta \u001b[36m0:00:01\u001b[0m\r\u001b[2K     \u001b[91m━━━━━━━━━━━━━━━━━━━━━━━━━━━━━━━━━━━━━\u001b[0m\u001b[91m╸\u001b[0m \u001b[32m316.9/317.0 MB\u001b[0m \u001b[31m76.8 MB/s\u001b[0m eta \u001b[36m0:00:01\u001b[0m\r\u001b[2K     \u001b[91m━━━━━━━━━━━━━━━━━━━━━━━━━━━━━━━━━━━━━\u001b[0m\u001b[91m╸\u001b[0m \u001b[32m316.9/317.0 MB\u001b[0m \u001b[31m76.8 MB/s\u001b[0m eta \u001b[36m0:00:01\u001b[0m\r\u001b[2K     \u001b[91m━━━━━━━━━━━━━━━━━━━━━━━━━━━━━━━━━━━━━\u001b[0m\u001b[91m╸\u001b[0m \u001b[32m316.9/317.0 MB\u001b[0m \u001b[31m76.8 MB/s\u001b[0m eta \u001b[36m0:00:01\u001b[0m\r\u001b[2K     \u001b[91m━━━━━━━━━━━━━━━━━━━━━━━━━━━━━━━━━━━━━\u001b[0m\u001b[91m╸\u001b[0m \u001b[32m316.9/317.0 MB\u001b[0m \u001b[31m76.8 MB/s\u001b[0m eta \u001b[36m0:00:01\u001b[0m\r\u001b[2K     \u001b[91m━━━━━━━━━━━━━━━━━━━━━━━━━━━━━━━━━━━━━\u001b[0m\u001b[91m╸\u001b[0m \u001b[32m316.9/317.0 MB\u001b[0m \u001b[31m76.8 MB/s\u001b[0m eta \u001b[36m0:00:01\u001b[0m\r\u001b[2K     \u001b[91m━━━━━━━━━━━━━━━━━━━━━━━━━━━━━━━━━━━━━\u001b[0m\u001b[91m╸\u001b[0m \u001b[32m316.9/317.0 MB\u001b[0m \u001b[31m76.8 MB/s\u001b[0m eta \u001b[36m0:00:01\u001b[0m\r\u001b[2K     \u001b[91m━━━━━━━━━━━━━━━━━━━━━━━━━━━━━━━━━━━━━\u001b[0m\u001b[91m╸\u001b[0m \u001b[32m316.9/317.0 MB\u001b[0m \u001b[31m76.8 MB/s\u001b[0m eta \u001b[36m0:00:01\u001b[0m\r\u001b[2K     \u001b[91m━━━━━━━━━━━━━━━━━━━━━━━━━━━━━━━━━━━━━\u001b[0m\u001b[91m╸\u001b[0m \u001b[32m316.9/317.0 MB\u001b[0m \u001b[31m76.8 MB/s\u001b[0m eta \u001b[36m0:00:01\u001b[0m\r\u001b[2K     \u001b[91m━━━━━━━━━━━━━━━━━━━━━━━━━━━━━━━━━━━━━\u001b[0m\u001b[91m╸\u001b[0m \u001b[32m316.9/317.0 MB\u001b[0m \u001b[31m76.8 MB/s\u001b[0m eta \u001b[36m0:00:01\u001b[0m\r\u001b[2K     \u001b[91m━━━━━━━━━━━━━━━━━━━━━━━━━━━━━━━━━━━━━\u001b[0m\u001b[91m╸\u001b[0m \u001b[32m316.9/317.0 MB\u001b[0m \u001b[31m76.8 MB/s\u001b[0m eta \u001b[36m0:00:01\u001b[0m\r\u001b[2K     \u001b[91m━━━━━━━━━━━━━━━━━━━━━━━━━━━━━━━━━━━━━\u001b[0m\u001b[91m╸\u001b[0m \u001b[32m316.9/317.0 MB\u001b[0m \u001b[31m76.8 MB/s\u001b[0m eta \u001b[36m0:00:01\u001b[0m\r\u001b[2K     \u001b[91m━━━━━━━━━━━━━━━━━━━━━━━━━━━━━━━━━━━━━\u001b[0m\u001b[91m╸\u001b[0m \u001b[32m316.9/317.0 MB\u001b[0m \u001b[31m76.8 MB/s\u001b[0m eta \u001b[36m0:00:01\u001b[0m\r\u001b[2K     \u001b[91m━━━━━━━━━━━━━━━━━━━━━━━━━━━━━━━━━━━━━\u001b[0m\u001b[91m╸\u001b[0m \u001b[32m316.9/317.0 MB\u001b[0m \u001b[31m76.8 MB/s\u001b[0m eta \u001b[36m0:00:01\u001b[0m\r\u001b[2K     \u001b[91m━━━━━━━━━━━━━━━━━━━━━━━━━━━━━━━━━━━━━\u001b[0m\u001b[91m╸\u001b[0m \u001b[32m316.9/317.0 MB\u001b[0m \u001b[31m76.8 MB/s\u001b[0m eta \u001b[36m0:00:01\u001b[0m\r\u001b[2K     \u001b[91m━━━━━━━━━━━━━━━━━━━━━━━━━━━━━━━━━━━━━\u001b[0m\u001b[91m╸\u001b[0m \u001b[32m316.9/317.0 MB\u001b[0m \u001b[31m76.8 MB/s\u001b[0m eta \u001b[36m0:00:01\u001b[0m\r\u001b[2K     \u001b[91m━━━━━━━━━━━━━━━━━━━━━━━━━━━━━━━━━━━━━\u001b[0m\u001b[91m╸\u001b[0m \u001b[32m316.9/317.0 MB\u001b[0m \u001b[31m76.8 MB/s\u001b[0m eta \u001b[36m0:00:01\u001b[0m\r\u001b[2K     \u001b[91m━━━━━━━━━━━━━━━━━━━━━━━━━━━━━━━━━━━━━\u001b[0m\u001b[91m╸\u001b[0m \u001b[32m316.9/317.0 MB\u001b[0m \u001b[31m76.8 MB/s\u001b[0m eta \u001b[36m0:00:01\u001b[0m\r\u001b[2K     \u001b[91m━━━━━━━━━━━━━━━━━━━━━━━━━━━━━━━━━━━━━\u001b[0m\u001b[91m╸\u001b[0m \u001b[32m316.9/317.0 MB\u001b[0m \u001b[31m76.8 MB/s\u001b[0m eta \u001b[36m0:00:01\u001b[0m\r\u001b[2K     \u001b[91m━━━━━━━━━━━━━━━━━━━━━━━━━━━━━━━━━━━━━\u001b[0m\u001b[91m╸\u001b[0m \u001b[32m316.9/317.0 MB\u001b[0m \u001b[31m76.8 MB/s\u001b[0m eta \u001b[36m0:00:01\u001b[0m\r\u001b[2K     \u001b[91m━━━━━━━━━━━━━━━━━━━━━━━━━━━━━━━━━━━━━\u001b[0m\u001b[91m╸\u001b[0m \u001b[32m316.9/317.0 MB\u001b[0m \u001b[31m76.8 MB/s\u001b[0m eta \u001b[36m0:00:01\u001b[0m\r\u001b[2K     \u001b[91m━━━━━━━━━━━━━━━━━━━━━━━━━━━━━━━━━━━━━\u001b[0m\u001b[91m╸\u001b[0m \u001b[32m316.9/317.0 MB\u001b[0m \u001b[31m76.8 MB/s\u001b[0m eta \u001b[36m0:00:01\u001b[0m\r\u001b[2K     \u001b[91m━━━━━━━━━━━━━━━━━━━━━━━━━━━━━━━━━━━━━\u001b[0m\u001b[91m╸\u001b[0m \u001b[32m316.9/317.0 MB\u001b[0m \u001b[31m76.8 MB/s\u001b[0m eta \u001b[36m0:00:01\u001b[0m\r\u001b[2K     \u001b[91m━━━━━━━━━━━━━━━━━━━━━━━━━━━━━━━━━━━━━\u001b[0m\u001b[91m╸\u001b[0m \u001b[32m316.9/317.0 MB\u001b[0m \u001b[31m76.8 MB/s\u001b[0m eta \u001b[36m0:00:01\u001b[0m\r\u001b[2K     \u001b[91m━━━━━━━━━━━━━━━━━━━━━━━━━━━━━━━━━━━━━\u001b[0m\u001b[91m╸\u001b[0m \u001b[32m316.9/317.0 MB\u001b[0m \u001b[31m76.8 MB/s\u001b[0m eta \u001b[36m0:00:01\u001b[0m\r\u001b[2K     \u001b[91m━━━━━━━━━━━━━━━━━━━━━━━━━━━━━━━━━━━━━\u001b[0m\u001b[91m╸\u001b[0m \u001b[32m316.9/317.0 MB\u001b[0m \u001b[31m76.8 MB/s\u001b[0m eta \u001b[36m0:00:01\u001b[0m\r\u001b[2K     \u001b[91m━━━━━━━━━━━━━━━━━━━━━━━━━━━━━━━━━━━━━\u001b[0m\u001b[91m╸\u001b[0m \u001b[32m316.9/317.0 MB\u001b[0m \u001b[31m76.8 MB/s\u001b[0m eta \u001b[36m0:00:01\u001b[0m\r\u001b[2K     \u001b[91m━━━━━━━━━━━━━━━━━━━━━━━━━━━━━━━━━━━━━\u001b[0m\u001b[91m╸\u001b[0m \u001b[32m316.9/317.0 MB\u001b[0m \u001b[31m76.8 MB/s\u001b[0m eta \u001b[36m0:00:01\u001b[0m\r\u001b[2K     \u001b[91m━━━━━━━━━━━━━━━━━━━━━━━━━━━━━━━━━━━━━\u001b[0m\u001b[91m╸\u001b[0m \u001b[32m316.9/317.0 MB\u001b[0m \u001b[31m76.8 MB/s\u001b[0m eta \u001b[36m0:00:01\u001b[0m\r\u001b[2K     \u001b[91m━━━━━━━━━━━━━━━━━━━━━━━━━━━━━━━━━━━━━\u001b[0m\u001b[91m╸\u001b[0m \u001b[32m316.9/317.0 MB\u001b[0m \u001b[31m76.8 MB/s\u001b[0m eta \u001b[36m0:00:01\u001b[0m\r\u001b[2K     \u001b[91m━━━━━━━━━━━━━━━━━━━━━━━━━━━━━━━━━━━━━\u001b[0m\u001b[91m╸\u001b[0m \u001b[32m316.9/317.0 MB\u001b[0m \u001b[31m76.8 MB/s\u001b[0m eta \u001b[36m0:00:01\u001b[0m\r\u001b[2K     \u001b[91m━━━━━━━━━━━━━━━━━━━━━━━━━━━━━━━━━━━━━\u001b[0m\u001b[91m╸\u001b[0m \u001b[32m316.9/317.0 MB\u001b[0m \u001b[31m76.8 MB/s\u001b[0m eta \u001b[36m0:00:01\u001b[0m\r\u001b[2K     \u001b[91m━━━━━━━━━━━━━━━━━━━━━━━━━━━━━━━━━━━━━\u001b[0m\u001b[91m╸\u001b[0m \u001b[32m316.9/317.0 MB\u001b[0m \u001b[31m76.8 MB/s\u001b[0m eta \u001b[36m0:00:01\u001b[0m\r\u001b[2K     \u001b[91m━━━━━━━━━━━━━━━━━━━━━━━━━━━━━━━━━━━━━\u001b[0m\u001b[91m╸\u001b[0m \u001b[32m316.9/317.0 MB\u001b[0m \u001b[31m76.8 MB/s\u001b[0m eta \u001b[36m0:00:01\u001b[0m\r\u001b[2K     \u001b[91m━━━━━━━━━━━━━━━━━━━━━━━━━━━━━━━━━━━━━\u001b[0m\u001b[91m╸\u001b[0m \u001b[32m316.9/317.0 MB\u001b[0m \u001b[31m76.8 MB/s\u001b[0m eta \u001b[36m0:00:01\u001b[0m\r\u001b[2K     \u001b[91m━━━━━━━━━━━━━━━━━━━━━━━━━━━━━━━━━━━━━\u001b[0m\u001b[91m╸\u001b[0m \u001b[32m316.9/317.0 MB\u001b[0m \u001b[31m76.8 MB/s\u001b[0m eta \u001b[36m0:00:01\u001b[0m\r\u001b[2K     \u001b[91m━━━━━━━━━━━━━━━━━━━━━━━━━━━━━━━━━━━━━\u001b[0m\u001b[91m╸\u001b[0m \u001b[32m316.9/317.0 MB\u001b[0m \u001b[31m76.8 MB/s\u001b[0m eta \u001b[36m0:00:01\u001b[0m\r\u001b[2K     \u001b[91m━━━━━━━━━━━━━━━━━━━━━━━━━━━━━━━━━━━━━\u001b[0m\u001b[91m╸\u001b[0m \u001b[32m316.9/317.0 MB\u001b[0m \u001b[31m76.8 MB/s\u001b[0m eta \u001b[36m0:00:01\u001b[0m\r\u001b[2K     \u001b[91m━━━━━━━━━━━━━━━━━━━━━━━━━━━━━━━━━━━━━\u001b[0m\u001b[91m╸\u001b[0m \u001b[32m316.9/317.0 MB\u001b[0m \u001b[31m76.8 MB/s\u001b[0m eta \u001b[36m0:00:01\u001b[0m\r\u001b[2K     \u001b[91m━━━━━━━━━━━━━━━━━━━━━━━━━━━━━━━━━━━━━\u001b[0m\u001b[91m╸\u001b[0m \u001b[32m316.9/317.0 MB\u001b[0m \u001b[31m76.8 MB/s\u001b[0m eta \u001b[36m0:00:01\u001b[0m\r\u001b[2K     \u001b[91m━━━━━━━━━━━━━━━━━━━━━━━━━━━━━━━━━━━━━\u001b[0m\u001b[91m╸\u001b[0m \u001b[32m316.9/317.0 MB\u001b[0m \u001b[31m76.8 MB/s\u001b[0m eta \u001b[36m0:00:01\u001b[0m\r\u001b[2K     \u001b[91m━━━━━━━━━━━━━━━━━━━━━━━━━━━━━━━━━━━━━\u001b[0m\u001b[91m╸\u001b[0m \u001b[32m316.9/317.0 MB\u001b[0m \u001b[31m76.8 MB/s\u001b[0m eta \u001b[36m0:00:01\u001b[0m\r\u001b[2K     \u001b[91m━━━━━━━━━━━━━━━━━━━━━━━━━━━━━━━━━━━━━\u001b[0m\u001b[91m╸\u001b[0m \u001b[32m316.9/317.0 MB\u001b[0m \u001b[31m76.8 MB/s\u001b[0m eta \u001b[36m0:00:01\u001b[0m\r\u001b[2K     \u001b[91m━━━━━━━━━━━━━━━━━━━━━━━━━━━━━━━━━━━━━\u001b[0m\u001b[91m╸\u001b[0m \u001b[32m316.9/317.0 MB\u001b[0m \u001b[31m76.8 MB/s\u001b[0m eta \u001b[36m0:00:01\u001b[0m\r\u001b[2K     \u001b[91m━━━━━━━━━━━━━━━━━━━━━━━━━━━━━━━━━━━━━\u001b[0m\u001b[91m╸\u001b[0m \u001b[32m316.9/317.0 MB\u001b[0m \u001b[31m76.8 MB/s\u001b[0m eta \u001b[36m0:00:01\u001b[0m\r\u001b[2K     \u001b[91m━━━━━━━━━━━━━━━━━━━━━━━━━━━━━━━━━━━━━\u001b[0m\u001b[91m╸\u001b[0m \u001b[32m316.9/317.0 MB\u001b[0m \u001b[31m76.8 MB/s\u001b[0m eta \u001b[36m0:00:01\u001b[0m\r\u001b[2K     \u001b[91m━━━━━━━━━━━━━━━━━━━━━━━━━━━━━━━━━━━━━\u001b[0m\u001b[91m╸\u001b[0m \u001b[32m316.9/317.0 MB\u001b[0m \u001b[31m76.8 MB/s\u001b[0m eta \u001b[36m0:00:01\u001b[0m\r\u001b[2K     \u001b[91m━━━━━━━━━━━━━━━━━━━━━━━━━━━━━━━━━━━━━\u001b[0m\u001b[91m╸\u001b[0m \u001b[32m316.9/317.0 MB\u001b[0m \u001b[31m76.8 MB/s\u001b[0m eta \u001b[36m0:00:01\u001b[0m\r\u001b[2K     \u001b[91m━━━━━━━━━━━━━━━━━━━━━━━━━━━━━━━━━━━━━\u001b[0m\u001b[91m╸\u001b[0m \u001b[32m316.9/317.0 MB\u001b[0m \u001b[31m76.8 MB/s\u001b[0m eta \u001b[36m0:00:01\u001b[0m\r\u001b[2K     \u001b[91m━━━━━━━━━━━━━━━━━━━━━━━━━━━━━━━━━━━━━\u001b[0m\u001b[91m╸\u001b[0m \u001b[32m316.9/317.0 MB\u001b[0m \u001b[31m76.8 MB/s\u001b[0m eta \u001b[36m0:00:01\u001b[0m\r\u001b[2K     \u001b[91m━━━━━━━━━━━━━━━━━━━━━━━━━━━━━━━━━━━━━\u001b[0m\u001b[91m╸\u001b[0m \u001b[32m316.9/317.0 MB\u001b[0m \u001b[31m76.8 MB/s\u001b[0m eta \u001b[36m0:00:01\u001b[0m\r\u001b[2K     \u001b[91m━━━━━━━━━━━━━━━━━━━━━━━━━━━━━━━━━━━━━\u001b[0m\u001b[91m╸\u001b[0m \u001b[32m316.9/317.0 MB\u001b[0m \u001b[31m76.8 MB/s\u001b[0m eta \u001b[36m0:00:01\u001b[0m\r\u001b[2K     \u001b[91m━━━━━━━━━━━━━━━━━━━━━━━━━━━━━━━━━━━━━\u001b[0m\u001b[91m╸\u001b[0m \u001b[32m316.9/317.0 MB\u001b[0m \u001b[31m76.8 MB/s\u001b[0m eta \u001b[36m0:00:01\u001b[0m\r\u001b[2K     \u001b[91m━━━━━━━━━━━━━━━━━━━━━━━━━━━━━━━━━━━━━\u001b[0m\u001b[91m╸\u001b[0m \u001b[32m316.9/317.0 MB\u001b[0m \u001b[31m76.8 MB/s\u001b[0m eta \u001b[36m0:00:01\u001b[0m\r\u001b[2K     \u001b[91m━━━━━━━━━━━━━━━━━━━━━━━━━━━━━━━━━━━━━\u001b[0m\u001b[91m╸\u001b[0m \u001b[32m316.9/317.0 MB\u001b[0m \u001b[31m76.8 MB/s\u001b[0m eta \u001b[36m0:00:01\u001b[0m\r\u001b[2K     \u001b[91m━━━━━━━━━━━━━━━━━━━━━━━━━━━━━━━━━━━━━\u001b[0m\u001b[91m╸\u001b[0m \u001b[32m316.9/317.0 MB\u001b[0m \u001b[31m76.8 MB/s\u001b[0m eta \u001b[36m0:00:01\u001b[0m\r\u001b[2K     \u001b[91m━━━━━━━━━━━━━━━━━━━━━━━━━━━━━━━━━━━━━\u001b[0m\u001b[91m╸\u001b[0m \u001b[32m316.9/317.0 MB\u001b[0m \u001b[31m76.8 MB/s\u001b[0m eta \u001b[36m0:00:01\u001b[0m\r\u001b[2K     \u001b[91m━━━━━━━━━━━━━━━━━━━━━━━━━━━━━━━━━━━━━\u001b[0m\u001b[91m╸\u001b[0m \u001b[32m316.9/317.0 MB\u001b[0m \u001b[31m76.8 MB/s\u001b[0m eta \u001b[36m0:00:01\u001b[0m\r\u001b[2K     \u001b[91m━━━━━━━━━━━━━━━━━━━━━━━━━━━━━━━━━━━━━\u001b[0m\u001b[91m╸\u001b[0m \u001b[32m316.9/317.0 MB\u001b[0m \u001b[31m76.8 MB/s\u001b[0m eta \u001b[36m0:00:01\u001b[0m\r\u001b[2K     \u001b[91m━━━━━━━━━━━━━━━━━━━━━━━━━━━━━━━━━━━━━\u001b[0m\u001b[91m╸\u001b[0m \u001b[32m316.9/317.0 MB\u001b[0m \u001b[31m76.8 MB/s\u001b[0m eta \u001b[36m0:00:01\u001b[0m\r\u001b[2K     \u001b[91m━━━━━━━━━━━━━━━━━━━━━━━━━━━━━━━━━━━━━\u001b[0m\u001b[91m╸\u001b[0m \u001b[32m316.9/317.0 MB\u001b[0m \u001b[31m76.8 MB/s\u001b[0m eta \u001b[36m0:00:01\u001b[0m\r\u001b[2K     \u001b[91m━━━━━━━━━━━━━━━━━━━━━━━━━━━━━━━━━━━━━\u001b[0m\u001b[91m╸\u001b[0m \u001b[32m316.9/317.0 MB\u001b[0m \u001b[31m76.8 MB/s\u001b[0m eta \u001b[36m0:00:01\u001b[0m\r\u001b[2K     \u001b[91m━━━━━━━━━━━━━━━━━━━━━━━━━━━━━━━━━━━━━\u001b[0m\u001b[91m╸\u001b[0m \u001b[32m316.9/317.0 MB\u001b[0m \u001b[31m76.8 MB/s\u001b[0m eta \u001b[36m0:00:01\u001b[0m\r\u001b[2K     \u001b[91m━━━━━━━━━━━━━━━━━━━━━━━━━━━━━━━━━━━━━\u001b[0m\u001b[91m╸\u001b[0m \u001b[32m316.9/317.0 MB\u001b[0m \u001b[31m76.8 MB/s\u001b[0m eta \u001b[36m0:00:01\u001b[0m\r\u001b[2K     \u001b[91m━━━━━━━━━━━━━━━━━━━━━━━━━━━━━━━━━━━━━\u001b[0m\u001b[91m╸\u001b[0m \u001b[32m316.9/317.0 MB\u001b[0m \u001b[31m76.8 MB/s\u001b[0m eta \u001b[36m0:00:01\u001b[0m\r\u001b[2K     \u001b[91m━━━━━━━━━━━━━━━━━━━━━━━━━━━━━━━━━━━━━\u001b[0m\u001b[91m╸\u001b[0m \u001b[32m316.9/317.0 MB\u001b[0m \u001b[31m76.8 MB/s\u001b[0m eta \u001b[36m0:00:01\u001b[0m\r\u001b[2K     \u001b[91m━━━━━━━━━━━━━━━━━━━━━━━━━━━━━━━━━━━━━\u001b[0m\u001b[91m╸\u001b[0m \u001b[32m316.9/317.0 MB\u001b[0m \u001b[31m76.8 MB/s\u001b[0m eta \u001b[36m0:00:01\u001b[0m\r\u001b[2K     \u001b[91m━━━━━━━━━━━━━━━━━━━━━━━━━━━━━━━━━━━━━\u001b[0m\u001b[91m╸\u001b[0m \u001b[32m316.9/317.0 MB\u001b[0m \u001b[31m76.8 MB/s\u001b[0m eta \u001b[36m0:00:01\u001b[0m\r\u001b[2K     \u001b[91m━━━━━━━━━━━━━━━━━━━━━━━━━━━━━━━━━━━━━\u001b[0m\u001b[91m╸\u001b[0m \u001b[32m316.9/317.0 MB\u001b[0m \u001b[31m76.8 MB/s\u001b[0m eta \u001b[36m0:00:01\u001b[0m\r\u001b[2K     \u001b[91m━━━━━━━━━━━━━━━━━━━━━━━━━━━━━━━━━━━━━\u001b[0m\u001b[91m╸\u001b[0m \u001b[32m316.9/317.0 MB\u001b[0m \u001b[31m76.8 MB/s\u001b[0m eta \u001b[36m0:00:01\u001b[0m\r\u001b[2K     \u001b[91m━━━━━━━━━━━━━━━━━━━━━━━━━━━━━━━━━━━━━\u001b[0m\u001b[91m╸\u001b[0m \u001b[32m316.9/317.0 MB\u001b[0m \u001b[31m76.8 MB/s\u001b[0m eta \u001b[36m0:00:01\u001b[0m\r\u001b[2K     \u001b[91m━━━━━━━━━━━━━━━━━━━━━━━━━━━━━━━━━━━━━\u001b[0m\u001b[91m╸\u001b[0m \u001b[32m316.9/317.0 MB\u001b[0m \u001b[31m76.8 MB/s\u001b[0m eta \u001b[36m0:00:01\u001b[0m\r\u001b[2K     \u001b[91m━━━━━━━━━━━━━━━━━━━━━━━━━━━━━━━━━━━━━\u001b[0m\u001b[91m╸\u001b[0m \u001b[32m316.9/317.0 MB\u001b[0m \u001b[31m76.8 MB/s\u001b[0m eta \u001b[36m0:00:01\u001b[0m\r\u001b[2K     \u001b[91m━━━━━━━━━━━━━━━━━━━━━━━━━━━━━━━━━━━━━\u001b[0m\u001b[91m╸\u001b[0m \u001b[32m316.9/317.0 MB\u001b[0m \u001b[31m76.8 MB/s\u001b[0m eta \u001b[36m0:00:01\u001b[0m\r\u001b[2K     \u001b[91m━━━━━━━━━━━━━━━━━━━━━━━━━━━━━━━━━━━━━\u001b[0m\u001b[91m╸\u001b[0m \u001b[32m316.9/317.0 MB\u001b[0m \u001b[31m76.8 MB/s\u001b[0m eta \u001b[36m0:00:01\u001b[0m\r\u001b[2K     \u001b[91m━━━━━━━━━━━━━━━━━━━━━━━━━━━━━━━━━━━━━\u001b[0m\u001b[91m╸\u001b[0m \u001b[32m316.9/317.0 MB\u001b[0m \u001b[31m76.8 MB/s\u001b[0m eta \u001b[36m0:00:01\u001b[0m\r\u001b[2K     \u001b[91m━━━━━━━━━━━━━━━━━━━━━━━━━━━━━━━━━━━━━\u001b[0m\u001b[91m╸\u001b[0m \u001b[32m316.9/317.0 MB\u001b[0m \u001b[31m76.8 MB/s\u001b[0m eta \u001b[36m0:00:01\u001b[0m\r\u001b[2K     \u001b[91m━━━━━━━━━━━━━━━━━━━━━━━━━━━━━━━━━━━━━\u001b[0m\u001b[91m╸\u001b[0m \u001b[32m316.9/317.0 MB\u001b[0m \u001b[31m76.8 MB/s\u001b[0m eta \u001b[36m0:00:01\u001b[0m\r\u001b[2K     \u001b[91m━━━━━━━━━━━━━━━━━━━━━━━━━━━━━━━━━━━━━\u001b[0m\u001b[91m╸\u001b[0m \u001b[32m316.9/317.0 MB\u001b[0m \u001b[31m76.8 MB/s\u001b[0m eta \u001b[36m0:00:01\u001b[0m\r\u001b[2K     \u001b[91m━━━━━━━━━━━━━━━━━━━━━━━━━━━━━━━━━━━━━\u001b[0m\u001b[91m╸\u001b[0m \u001b[32m316.9/317.0 MB\u001b[0m \u001b[31m76.8 MB/s\u001b[0m eta \u001b[36m0:00:01\u001b[0m\r\u001b[2K     \u001b[91m━━━━━━━━━━━━━━━━━━━━━━━━━━━━━━━━━━━━━\u001b[0m\u001b[91m╸\u001b[0m \u001b[32m316.9/317.0 MB\u001b[0m \u001b[31m76.8 MB/s\u001b[0m eta \u001b[36m0:00:01\u001b[0m\r\u001b[2K     \u001b[91m━━━━━━━━━━━━━━━━━━━━━━━━━━━━━━━━━━━━━\u001b[0m\u001b[91m╸\u001b[0m \u001b[32m316.9/317.0 MB\u001b[0m \u001b[31m76.8 MB/s\u001b[0m eta \u001b[36m0:00:01\u001b[0m\r\u001b[2K     \u001b[91m━━━━━━━━━━━━━━━━━━━━━━━━━━━━━━━━━━━━━\u001b[0m\u001b[91m╸\u001b[0m \u001b[32m316.9/317.0 MB\u001b[0m \u001b[31m76.8 MB/s\u001b[0m eta \u001b[36m0:00:01\u001b[0m\r\u001b[2K     \u001b[91m━━━━━━━━━━━━━━━━━━━━━━━━━━━━━━━━━━━━━\u001b[0m\u001b[91m╸\u001b[0m \u001b[32m316.9/317.0 MB\u001b[0m \u001b[31m76.8 MB/s\u001b[0m eta \u001b[36m0:00:01\u001b[0m\r\u001b[2K     \u001b[91m━━━━━━━━━━━━━━━━━━━━━━━━━━━━━━━━━━━━━\u001b[0m\u001b[91m╸\u001b[0m \u001b[32m316.9/317.0 MB\u001b[0m \u001b[31m76.8 MB/s\u001b[0m eta \u001b[36m0:00:01\u001b[0m\r\u001b[2K     \u001b[91m━━━━━━━━━━━━━━━━━━━━━━━━━━━━━━━━━━━━━\u001b[0m\u001b[91m╸\u001b[0m \u001b[32m316.9/317.0 MB\u001b[0m \u001b[31m76.8 MB/s\u001b[0m eta \u001b[36m0:00:01\u001b[0m\r\u001b[2K     \u001b[91m━━━━━━━━━━━━━━━━━━━━━━━━━━━━━━━━━━━━━\u001b[0m\u001b[91m╸\u001b[0m \u001b[32m316.9/317.0 MB\u001b[0m \u001b[31m76.8 MB/s\u001b[0m eta \u001b[36m0:00:01\u001b[0m\r\u001b[2K     \u001b[91m━━━━━━━━━━━━━━━━━━━━━━━━━━━━━━━━━━━━━\u001b[0m\u001b[91m╸\u001b[0m \u001b[32m316.9/317.0 MB\u001b[0m \u001b[31m76.8 MB/s\u001b[0m eta \u001b[36m0:00:01\u001b[0m\r\u001b[2K     \u001b[91m━━━━━━━━━━━━━━━━━━━━━━━━━━━━━━━━━━━━━\u001b[0m\u001b[91m╸\u001b[0m \u001b[32m316.9/317.0 MB\u001b[0m \u001b[31m76.8 MB/s\u001b[0m eta \u001b[36m0:00:01\u001b[0m\r\u001b[2K     \u001b[91m━━━━━━━━━━━━━━━━━━━━━━━━━━━━━━━━━━━━━\u001b[0m\u001b[91m╸\u001b[0m \u001b[32m316.9/317.0 MB\u001b[0m \u001b[31m76.8 MB/s\u001b[0m eta \u001b[36m0:00:01\u001b[0m\r\u001b[2K     \u001b[91m━━━━━━━━━━━━━━━━━━━━━━━━━━━━━━━━━━━━━\u001b[0m\u001b[91m╸\u001b[0m \u001b[32m316.9/317.0 MB\u001b[0m \u001b[31m76.8 MB/s\u001b[0m eta \u001b[36m0:00:01\u001b[0m\r\u001b[2K     \u001b[91m━━━━━━━━━━━━━━━━━━━━━━━━━━━━━━━━━━━━━\u001b[0m\u001b[91m╸\u001b[0m \u001b[32m316.9/317.0 MB\u001b[0m \u001b[31m76.8 MB/s\u001b[0m eta \u001b[36m0:00:01\u001b[0m\r\u001b[2K     \u001b[91m━━━━━━━━━━━━━━━━━━━━━━━━━━━━━━━━━━━━━\u001b[0m\u001b[91m╸\u001b[0m \u001b[32m316.9/317.0 MB\u001b[0m \u001b[31m76.8 MB/s\u001b[0m eta \u001b[36m0:00:01\u001b[0m\r\u001b[2K     \u001b[91m━━━━━━━━━━━━━━━━━━━━━━━━━━━━━━━━━━━━━\u001b[0m\u001b[91m╸\u001b[0m \u001b[32m316.9/317.0 MB\u001b[0m \u001b[31m76.8 MB/s\u001b[0m eta \u001b[36m0:00:01\u001b[0m\r\u001b[2K     \u001b[91m━━━━━━━━━━━━━━━━━━━━━━━━━━━━━━━━━━━━━\u001b[0m\u001b[91m╸\u001b[0m \u001b[32m316.9/317.0 MB\u001b[0m \u001b[31m76.8 MB/s\u001b[0m eta \u001b[36m0:00:01\u001b[0m\r\u001b[2K     \u001b[91m━━━━━━━━━━━━━━━━━━━━━━━━━━━━━━━━━━━━━\u001b[0m\u001b[91m╸\u001b[0m \u001b[32m316.9/317.0 MB\u001b[0m \u001b[31m76.8 MB/s\u001b[0m eta \u001b[36m0:00:01\u001b[0m\r\u001b[2K     \u001b[91m━━━━━━━━━━━━━━━━━━━━━━━━━━━━━━━━━━━━━\u001b[0m\u001b[91m╸\u001b[0m \u001b[32m316.9/317.0 MB\u001b[0m \u001b[31m76.8 MB/s\u001b[0m eta \u001b[36m0:00:01\u001b[0m\r\u001b[2K     \u001b[91m━━━━━━━━━━━━━━━━━━━━━━━━━━━━━━━━━━━━━\u001b[0m\u001b[91m╸\u001b[0m \u001b[32m316.9/317.0 MB\u001b[0m \u001b[31m76.8 MB/s\u001b[0m eta \u001b[36m0:00:01\u001b[0m\r\u001b[2K     \u001b[91m━━━━━━━━━━━━━━━━━━━━━━━━━━━━━━━━━━━━━\u001b[0m\u001b[91m╸\u001b[0m \u001b[32m316.9/317.0 MB\u001b[0m \u001b[31m76.8 MB/s\u001b[0m eta \u001b[36m0:00:01\u001b[0m\r\u001b[2K     \u001b[91m━━━━━━━━━━━━━━━━━━━━━━━━━━━━━━━━━━━━━\u001b[0m\u001b[91m╸\u001b[0m \u001b[32m316.9/317.0 MB\u001b[0m \u001b[31m76.8 MB/s\u001b[0m eta \u001b[36m0:00:01\u001b[0m\r\u001b[2K     \u001b[91m━━━━━━━━━━━━━━━━━━━━━━━━━━━━━━━━━━━━━\u001b[0m\u001b[91m╸\u001b[0m \u001b[32m316.9/317.0 MB\u001b[0m \u001b[31m76.8 MB/s\u001b[0m eta \u001b[36m0:00:01\u001b[0m\r\u001b[2K     \u001b[91m━━━━━━━━━━━━━━━━━━━━━━━━━━━━━━━━━━━━━\u001b[0m\u001b[91m╸\u001b[0m \u001b[32m316.9/317.0 MB\u001b[0m \u001b[31m76.8 MB/s\u001b[0m eta \u001b[36m0:00:01\u001b[0m\r\u001b[2K     \u001b[91m━━━━━━━━━━━━━━━━━━━━━━━━━━━━━━━━━━━━━\u001b[0m\u001b[91m╸\u001b[0m \u001b[32m316.9/317.0 MB\u001b[0m \u001b[31m76.8 MB/s\u001b[0m eta \u001b[36m0:00:01\u001b[0m\r\u001b[2K     \u001b[91m━━━━━━━━━━━━━━━━━━━━━━━━━━━━━━━━━━━━━\u001b[0m\u001b[91m╸\u001b[0m \u001b[32m316.9/317.0 MB\u001b[0m \u001b[31m76.8 MB/s\u001b[0m eta \u001b[36m0:00:01\u001b[0m\r\u001b[2K     \u001b[91m━━━━━━━━━━━━━━━━━━━━━━━━━━━━━━━━━━━━━\u001b[0m\u001b[91m╸\u001b[0m \u001b[32m316.9/317.0 MB\u001b[0m \u001b[31m76.8 MB/s\u001b[0m eta \u001b[36m0:00:01\u001b[0m\r\u001b[2K     \u001b[91m━━━━━━━━━━━━━━━━━━━━━━━━━━━━━━━━━━━━━\u001b[0m\u001b[91m╸\u001b[0m \u001b[32m316.9/317.0 MB\u001b[0m \u001b[31m76.8 MB/s\u001b[0m eta \u001b[36m0:00:01\u001b[0m\r\u001b[2K     \u001b[91m━━━━━━━━━━━━━━━━━━━━━━━━━━━━━━━━━━━━━\u001b[0m\u001b[91m╸\u001b[0m \u001b[32m316.9/317.0 MB\u001b[0m \u001b[31m76.8 MB/s\u001b[0m eta \u001b[36m0:00:01\u001b[0m\r\u001b[2K     \u001b[91m━━━━━━━━━━━━━━━━━━━━━━━━━━━━━━━━━━━━━\u001b[0m\u001b[91m╸\u001b[0m \u001b[32m316.9/317.0 MB\u001b[0m \u001b[31m76.8 MB/s\u001b[0m eta \u001b[36m0:00:01\u001b[0m\r\u001b[2K     \u001b[91m━━━━━━━━━━━━━━━━━━━━━━━━━━━━━━━━━━━━━\u001b[0m\u001b[91m╸\u001b[0m \u001b[32m316.9/317.0 MB\u001b[0m \u001b[31m76.8 MB/s\u001b[0m eta \u001b[36m0:00:01\u001b[0m\r\u001b[2K     \u001b[91m━━━━━━━━━━━━━━━━━━━━━━━━━━━━━━━━━━━━━\u001b[0m\u001b[91m╸\u001b[0m \u001b[32m316.9/317.0 MB\u001b[0m \u001b[31m76.8 MB/s\u001b[0m eta \u001b[36m0:00:01\u001b[0m\r\u001b[2K     \u001b[91m━━━━━━━━━━━━━━━━━━━━━━━━━━━━━━━━━━━━━\u001b[0m\u001b[91m╸\u001b[0m \u001b[32m316.9/317.0 MB\u001b[0m \u001b[31m76.8 MB/s\u001b[0m eta \u001b[36m0:00:01\u001b[0m\r\u001b[2K     \u001b[91m━━━━━━━━━━━━━━━━━━━━━━━━━━━━━━━━━━━━━\u001b[0m\u001b[91m╸\u001b[0m \u001b[32m316.9/317.0 MB\u001b[0m \u001b[31m76.8 MB/s\u001b[0m eta \u001b[36m0:00:01\u001b[0m\r\u001b[2K     \u001b[91m━━━━━━━━━━━━━━━━━━━━━━━━━━━━━━━━━━━━━\u001b[0m\u001b[91m╸\u001b[0m \u001b[32m316.9/317.0 MB\u001b[0m \u001b[31m76.8 MB/s\u001b[0m eta \u001b[36m0:00:01\u001b[0m\r\u001b[2K     \u001b[91m━━━━━━━━━━━━━━━━━━━━━━━━━━━━━━━━━━━━━\u001b[0m\u001b[91m╸\u001b[0m \u001b[32m316.9/317.0 MB\u001b[0m \u001b[31m76.8 MB/s\u001b[0m eta \u001b[36m0:00:01\u001b[0m\r\u001b[2K     \u001b[91m━━━━━━━━━━━━━━━━━━━━━━━━━━━━━━━━━━━━━\u001b[0m\u001b[91m╸\u001b[0m \u001b[32m316.9/317.0 MB\u001b[0m \u001b[31m76.8 MB/s\u001b[0m eta \u001b[36m0:00:01\u001b[0m\r\u001b[2K     \u001b[91m━━━━━━━━━━━━━━━━━━━━━━━━━━━━━━━━━━━━━\u001b[0m\u001b[91m╸\u001b[0m \u001b[32m316.9/317.0 MB\u001b[0m \u001b[31m76.8 MB/s\u001b[0m eta \u001b[36m0:00:01\u001b[0m\r\u001b[2K     \u001b[91m━━━━━━━━━━━━━━━━━━━━━━━━━━━━━━━━━━━━━\u001b[0m\u001b[91m╸\u001b[0m \u001b[32m316.9/317.0 MB\u001b[0m \u001b[31m76.8 MB/s\u001b[0m eta \u001b[36m0:00:01\u001b[0m\r\u001b[2K     \u001b[91m━━━━━━━━━━━━━━━━━━━━━━━━━━━━━━━━━━━━━\u001b[0m\u001b[91m╸\u001b[0m \u001b[32m316.9/317.0 MB\u001b[0m \u001b[31m76.8 MB/s\u001b[0m eta \u001b[36m0:00:01\u001b[0m\r\u001b[2K     \u001b[91m━━━━━━━━━━━━━━━━━━━━━━━━━━━━━━━━━━━━━\u001b[0m\u001b[91m╸\u001b[0m \u001b[32m316.9/317.0 MB\u001b[0m \u001b[31m76.8 MB/s\u001b[0m eta \u001b[36m0:00:01\u001b[0m\r\u001b[2K     \u001b[91m━━━━━━━━━━━━━━━━━━━━━━━━━━━━━━━━━━━━━\u001b[0m\u001b[91m╸\u001b[0m \u001b[32m316.9/317.0 MB\u001b[0m \u001b[31m76.8 MB/s\u001b[0m eta \u001b[36m0:00:01\u001b[0m\r\u001b[2K     \u001b[91m━━━━━━━━━━━━━━━━━━━━━━━━━━━━━━━━━━━━━\u001b[0m\u001b[91m╸\u001b[0m \u001b[32m316.9/317.0 MB\u001b[0m \u001b[31m76.8 MB/s\u001b[0m eta \u001b[36m0:00:01\u001b[0m\r\u001b[2K     \u001b[91m━━━━━━━━━━━━━━━━━━━━━━━━━━━━━━━━━━━━━\u001b[0m\u001b[91m╸\u001b[0m \u001b[32m316.9/317.0 MB\u001b[0m \u001b[31m76.8 MB/s\u001b[0m eta \u001b[36m0:00:01\u001b[0m\r\u001b[2K     \u001b[91m━━━━━━━━━━━━━━━━━━━━━━━━━━━━━━━━━━━━━\u001b[0m\u001b[91m╸\u001b[0m \u001b[32m316.9/317.0 MB\u001b[0m \u001b[31m76.8 MB/s\u001b[0m eta \u001b[36m0:00:01\u001b[0m\r\u001b[2K     \u001b[91m━━━━━━━━━━━━━━━━━━━━━━━━━━━━━━━━━━━━━\u001b[0m\u001b[91m╸\u001b[0m \u001b[32m316.9/317.0 MB\u001b[0m \u001b[31m76.8 MB/s\u001b[0m eta \u001b[36m0:00:01\u001b[0m\r\u001b[2K     \u001b[91m━━━━━━━━━━━━━━━━━━━━━━━━━━━━━━━━━━━━━\u001b[0m\u001b[91m╸\u001b[0m \u001b[32m316.9/317.0 MB\u001b[0m \u001b[31m76.8 MB/s\u001b[0m eta \u001b[36m0:00:01\u001b[0m\r\u001b[2K     \u001b[91m━━━━━━━━━━━━━━━━━━━━━━━━━━━━━━━━━━━━━\u001b[0m\u001b[91m╸\u001b[0m \u001b[32m316.9/317.0 MB\u001b[0m \u001b[31m76.8 MB/s\u001b[0m eta \u001b[36m0:00:01\u001b[0m\r\u001b[2K     \u001b[91m━━━━━━━━━━━━━━━━━━━━━━━━━━━━━━━━━━━━━\u001b[0m\u001b[91m╸\u001b[0m \u001b[32m316.9/317.0 MB\u001b[0m \u001b[31m76.8 MB/s\u001b[0m eta \u001b[36m0:00:01\u001b[0m\r\u001b[2K     \u001b[91m━━━━━━━━━━━━━━━━━━━━━━━━━━━━━━━━━━━━━\u001b[0m\u001b[91m╸\u001b[0m \u001b[32m316.9/317.0 MB\u001b[0m \u001b[31m76.8 MB/s\u001b[0m eta \u001b[36m0:00:01\u001b[0m\r\u001b[2K     \u001b[91m━━━━━━━━━━━━━━━━━━━━━━━━━━━━━━━━━━━━━\u001b[0m\u001b[91m╸\u001b[0m \u001b[32m316.9/317.0 MB\u001b[0m \u001b[31m76.8 MB/s\u001b[0m eta \u001b[36m0:00:01\u001b[0m\r\u001b[2K     \u001b[91m━━━━━━━━━━━━━━━━━━━━━━━━━━━━━━━━━━━━━\u001b[0m\u001b[91m╸\u001b[0m \u001b[32m316.9/317.0 MB\u001b[0m \u001b[31m76.8 MB/s\u001b[0m eta \u001b[36m0:00:01\u001b[0m\r\u001b[2K     \u001b[91m━━━━━━━━━━━━━━━━━━━━━━━━━━━━━━━━━━━━━\u001b[0m\u001b[91m╸\u001b[0m \u001b[32m316.9/317.0 MB\u001b[0m \u001b[31m76.8 MB/s\u001b[0m eta \u001b[36m0:00:01\u001b[0m\r\u001b[2K     \u001b[91m━━━━━━━━━━━━━━━━━━━━━━━━━━━━━━━━━━━━━\u001b[0m\u001b[91m╸\u001b[0m \u001b[32m316.9/317.0 MB\u001b[0m \u001b[31m76.8 MB/s\u001b[0m eta \u001b[36m0:00:01\u001b[0m\r\u001b[2K     \u001b[91m━━━━━━━━━━━━━━━━━━━━━━━━━━━━━━━━━━━━━\u001b[0m\u001b[91m╸\u001b[0m \u001b[32m316.9/317.0 MB\u001b[0m \u001b[31m76.8 MB/s\u001b[0m eta \u001b[36m0:00:01\u001b[0m\r\u001b[2K     \u001b[91m━━━━━━━━━━━━━━━━━━━━━━━━━━━━━━━━━━━━━\u001b[0m\u001b[91m╸\u001b[0m \u001b[32m316.9/317.0 MB\u001b[0m \u001b[31m76.8 MB/s\u001b[0m eta \u001b[36m0:00:01\u001b[0m\r\u001b[2K     \u001b[91m━━━━━━━━━━━━━━━━━━━━━━━━━━━━━━━━━━━━━\u001b[0m\u001b[91m╸\u001b[0m \u001b[32m316.9/317.0 MB\u001b[0m \u001b[31m76.8 MB/s\u001b[0m eta \u001b[36m0:00:01\u001b[0m\r\u001b[2K     \u001b[91m━━━━━━━━━━━━━━━━━━━━━━━━━━━━━━━━━━━━━\u001b[0m\u001b[91m╸\u001b[0m \u001b[32m316.9/317.0 MB\u001b[0m \u001b[31m76.8 MB/s\u001b[0m eta \u001b[36m0:00:01\u001b[0m\r\u001b[2K     \u001b[91m━━━━━━━━━━━━━━━━━━━━━━━━━━━━━━━━━━━━━\u001b[0m\u001b[91m╸\u001b[0m \u001b[32m316.9/317.0 MB\u001b[0m \u001b[31m76.8 MB/s\u001b[0m eta \u001b[36m0:00:01\u001b[0m\r\u001b[2K     \u001b[91m━━━━━━━━━━━━━━━━━━━━━━━━━━━━━━━━━━━━━\u001b[0m\u001b[91m╸\u001b[0m \u001b[32m316.9/317.0 MB\u001b[0m \u001b[31m76.8 MB/s\u001b[0m eta \u001b[36m0:00:01\u001b[0m\r\u001b[2K     \u001b[91m━━━━━━━━━━━━━━━━━━━━━━━━━━━━━━━━━━━━━\u001b[0m\u001b[91m╸\u001b[0m \u001b[32m316.9/317.0 MB\u001b[0m \u001b[31m76.8 MB/s\u001b[0m eta \u001b[36m0:00:01\u001b[0m\r\u001b[2K     \u001b[91m━━━━━━━━━━━━━━━━━━━━━━━━━━━━━━━━━━━━━\u001b[0m\u001b[91m╸\u001b[0m \u001b[32m316.9/317.0 MB\u001b[0m \u001b[31m76.8 MB/s\u001b[0m eta \u001b[36m0:00:01\u001b[0m\r\u001b[2K     \u001b[91m━━━━━━━━━━━━━━━━━━━━━━━━━━━━━━━━━━━━━\u001b[0m\u001b[91m╸\u001b[0m \u001b[32m316.9/317.0 MB\u001b[0m \u001b[31m76.8 MB/s\u001b[0m eta \u001b[36m0:00:01\u001b[0m\r\u001b[2K     \u001b[91m━━━━━━━━━━━━━━━━━━━━━━━━━━━━━━━━━━━━━\u001b[0m\u001b[91m╸\u001b[0m \u001b[32m316.9/317.0 MB\u001b[0m \u001b[31m76.8 MB/s\u001b[0m eta \u001b[36m0:00:01\u001b[0m\r\u001b[2K     \u001b[90m━━━━━━━━━━━━━━━━━━━━━━━━━━━━━━━━━━━━━━━\u001b[0m \u001b[32m317.0/317.0 MB\u001b[0m \u001b[31m1.0 MB/s\u001b[0m eta \u001b[36m0:00:00\u001b[0m\r\n\u001b[?25h  Preparing metadata (setup.py) ... \u001b[?25l-\b \b\\\b \b|\b \b/\b \b-\b \bdone\r\n\u001b[?25hCollecting raster2xyz\r\n  Downloading raster2xyz-0.1.3.tar.gz (4.1 kB)\r\n  Preparing metadata (setup.py) ... \u001b[?25l-\b \b\\\b \b|\b \b/\b \b-\b \bdone\r\n\u001b[?25hCollecting py4j==0.10.9.7 (from pyspark)\r\n  Downloading py4j-0.10.9.7-py2.py3-none-any.whl.metadata (1.5 kB)\r\nRequirement already satisfied: numpy in /databricks/python3/lib/python3.9/site-packages (from raster2xyz) (1.21.5)\r\nRequirement already satisfied: pandas in /databricks/python3/lib/python3.9/site-packages (from raster2xyz) (1.4.2)\r\nRequirement already satisfied: GDAL in /usr/lib/python3/dist-packages (from raster2xyz) (3.0.4)\r\nRequirement already satisfied: python-dateutil>=2.8.1 in /databricks/python3/lib/python3.9/site-packages (from pandas->raster2xyz) (2.8.2)\r\nRequirement already satisfied: pytz>=2020.1 in /databricks/python3/lib/python3.9/site-packages (from pandas->raster2xyz) (2021.3)\r\nRequirement already satisfied: six>=1.5 in /databricks/python3/lib/python3.9/site-packages (from python-dateutil>=2.8.1->pandas->raster2xyz) (1.16.0)\r\nDownloading py4j-0.10.9.7-py2.py3-none-any.whl (200 kB)\r\n\u001b[?25l   \u001b[90m━━━━━━━━━━━━━━━━━━━━━━━━━━━━━━━━━━━━━━━━\u001b[0m \u001b[32m0.0/200.5 kB\u001b[0m \u001b[31m?\u001b[0m eta \u001b[36m-:--:--\u001b[0m\r\u001b[2K   \u001b[90m━━━━━━━━━━━━━━━━━━━━━━━━━━━━━━━━━━━━━━━━\u001b[0m \u001b[32m200.5/200.5 kB\u001b[0m \u001b[31m19.1 MB/s\u001b[0m eta \u001b[36m0:00:00\u001b[0m\r\n\u001b[?25hBuilding wheels for collected packages: pyspark, raster2xyz\r\n  Building wheel for pyspark (setup.py) ... \u001b[?25l-\b \b\\\b \b|\b \b/\b \b-\b \b\\\b \b|\b \b/\b \b-\b \b\\\b \b|\b \b/\b \b-\b \b\\\b \b|\b \b/\b \b-\b \b\\\b \b|\b \b/\b \b-\b \b\\\b \b|\b \b/\b \b-\b \b\\\b \b|\b \b/\b \b-\b \b\\\b \b|\b \b/\b \b-\b \b\\\b \b|\b \b/\b \b-\b \b\\\b \b|\b \b/\b \b-\b \b\\\b \b|\b \b/\b \b-\b \b\\\b \b|\b \b/\b \b-\b \b\\\b \b|\b \b/\b \b-\b \b\\\b \b|\b \b/\b \b-\b \b\\\b \b|\b \b/\b \b-\b \b\\\b \b|\b \b/\b \b-\b \b\\\b \b|\b \b/\b \b-\b \b\\\b \b|\b \b/\b \b-\b \b\\\b \b|\b \b/\b \b-\b \b\\\b \b|\b \bdone\r\n\u001b[?25h  Created wheel for pyspark: filename=pyspark-3.5.1-py2.py3-none-any.whl size=317488511 sha256=c0fa9b42d5339222a08f85694ba392480a8aede068a899333dfe248101c1bd09\r\n  Stored in directory: /root/.cache/pip/wheels/92/09/11/aa01d01a7f005fda8a66ad71d2be7f8aa341bddafb27eee3c7\r\n  Building wheel for raster2xyz (setup.py) ... \u001b[?25l-\b \b\\\b \b|\b \b/\b \b-\b \b\\\b \b|\b \b/\b \bdone\r\n\u001b[?25h  Created wheel for raster2xyz: filename=raster2xyz-0.1.3-py3-none-any.whl size=5965 sha256=cf7736e22dfd3d76092957c265881cd639edd37f67bff5bc7b399992a5b6be30\r\n  Stored in directory: /root/.cache/pip/wheels/c2/09/bb/e65a67b3120261e7517662ad9bcaa1b7c505bb981f5c6152b7\r\nSuccessfully built pyspark raster2xyz\r\nInstalling collected packages: py4j, pyspark, raster2xyz\r\nSuccessfully installed py4j-0.10.9.7 pyspark-3.5.1 raster2xyz-0.1.3\r\n"
          ]
        }
      ],
      "source": [
        "!pip install pyspark raster2xyz"
      ]
    },
    {
      "cell_type": "markdown",
      "metadata": {
        "application/vnd.databricks.v1+cell": {
          "cellMetadata": {
            "byteLimit": 2048000,
            "rowLimit": 10000
          },
          "inputWidgets": {},
          "nuid": "20372dd0-71f9-4285-8c29-b581e5a73aa7",
          "showTitle": false,
          "title": ""
        },
        "id": "iOXDZhvmgYkb"
      },
      "source": [
        "Iniciando sessão spark"
      ]
    },
    {
      "cell_type": "code",
      "execution_count": null,
      "metadata": {
        "application/vnd.databricks.v1+cell": {
          "cellMetadata": {
            "byteLimit": 2048000,
            "rowLimit": 10000
          },
          "inputWidgets": {},
          "nuid": "8170d3f4-e094-440a-82fc-cd558c55d902",
          "showTitle": false,
          "title": ""
        },
        "id": "ZNgj4QvNgYkb"
      },
      "outputs": [],
      "source": [
        "spark=SparkSession.builder \\\n",
        "    .master('local[*]') \\\n",
        "    .getOrCreate()"
      ]
    },
    {
      "cell_type": "markdown",
      "metadata": {
        "application/vnd.databricks.v1+cell": {
          "cellMetadata": {
            "byteLimit": 2048000,
            "rowLimit": 10000
          },
          "inputWidgets": {},
          "nuid": "32a7c84f-22fd-4d29-a636-7e57c433318f",
          "showTitle": false,
          "title": ""
        },
        "id": "jE4QcF2HgYkb"
      },
      "source": [
        "Função para avaliar o benchmark"
      ]
    },
    {
      "cell_type": "code",
      "execution_count": null,
      "metadata": {
        "application/vnd.databricks.v1+cell": {
          "cellMetadata": {
            "byteLimit": 2048000,
            "rowLimit": 10000
          },
          "inputWidgets": {},
          "nuid": "a966e325-3011-446c-adb8-36a8b0150568",
          "showTitle": false,
          "title": ""
        },
        "id": "OAHwGz7jgYkb"
      },
      "outputs": [],
      "source": [
        "def benchmark(arquivo):\n",
        "    df = spark.read.format(\"csv\").option(\"header\", True).load(arquivo)\n",
        "    df.write.format(\"noop\").mode(\"overwrite\").save()"
      ]
    },
    {
      "cell_type": "code",
      "execution_count": null,
      "metadata": {
        "application/vnd.databricks.v1+cell": {
          "cellMetadata": {
            "byteLimit": 2048000,
            "rowLimit": 10000
          },
          "inputWidgets": {},
          "nuid": "918e4f8b-8baa-4d51-b1d9-b38c4912f4a3",
          "showTitle": false,
          "title": ""
        },
        "id": "aYZ84hjhgYkc"
      },
      "outputs": [],
      "source": [
        "def partitions(arquivo):\n",
        "  df = spark.read.format(\"csv\").option(\"header\", True).load(arquivo)\n",
        "  print(f\"Número de partições -> {df.rdd.getNumPartitions()}\")"
      ]
    },
    {
      "cell_type": "markdown",
      "metadata": {
        "application/vnd.databricks.v1+cell": {
          "cellMetadata": {
            "byteLimit": 2048000,
            "rowLimit": 10000
          },
          "inputWidgets": {},
          "nuid": "081536b8-beb4-40b1-b611-82063f28fa07",
          "showTitle": false,
          "title": ""
        },
        "id": "A-d3CG_TgYkc"
      },
      "source": [
        "#Temp min."
      ]
    },
    {
      "cell_type": "markdown",
      "metadata": {
        "application/vnd.databricks.v1+cell": {
          "cellMetadata": {
            "byteLimit": 2048000,
            "rowLimit": 10000
          },
          "inputWidgets": {},
          "nuid": "5aece3b7-2274-46e2-9617-eda29ba71461",
          "showTitle": false,
          "title": ""
        },
        "id": "_LJBpNoLgYkc"
      },
      "source": [
        "##10 minutos"
      ]
    },
    {
      "cell_type": "code",
      "execution_count": null,
      "metadata": {
        "application/vnd.databricks.v1+cell": {
          "cellMetadata": {
            "byteLimit": 2048000,
            "rowLimit": 10000
          },
          "inputWidgets": {},
          "nuid": "0d0d0e30-e182-4027-88e1-9240addb3e94",
          "showTitle": false,
          "title": ""
        },
        "id": "ulVu7TSSgYkc",
        "outputId": "dc4ded79-b24d-49f0-98a9-57edfd330b0b"
      },
      "outputs": [
        {
          "output_type": "stream",
          "name": "stdout",
          "text": [
            "--2024-05-04 20:33:48--  https://biogeo.ucdavis.edu/data/worldclim/v2.1/base/wc2.1_10m_tmin.zip\r\nResolving biogeo.ucdavis.edu (biogeo.ucdavis.edu)... 128.120.228.172\r\nConnecting to biogeo.ucdavis.edu (biogeo.ucdavis.edu)|128.120.228.172|:443... connected.\r\nHTTP request sent, awaiting response... 302 Found\r\nLocation: https://data.biogeo.ucdavis.edu/data/worldclim/v2.1/base/wc2.1_10m_tmin.zip [following]\r\n--2024-05-04 20:33:48--  https://data.biogeo.ucdavis.edu/data/worldclim/v2.1/base/wc2.1_10m_tmin.zip\r\nResolving data.biogeo.ucdavis.edu (data.biogeo.ucdavis.edu)... 128.120.228.172\r\nConnecting to data.biogeo.ucdavis.edu (data.biogeo.ucdavis.edu)|128.120.228.172|:443... connected.\r\nHTTP request sent, awaiting response... 200 OK\r\nLength: 37605037 (36M) [application/zip]\r\nSaving to: ‘wc2.1_10m_tmin.zip’\r\n\r\n\rwc2.1_10m_tmin.zip    0%[                    ]       0  --.-KB/s               \rwc2.1_10m_tmin.zip    4%[                    ]   1.48M  7.38MB/s               \rwc2.1_10m_tmin.zip   28%[====>               ]  10.19M  25.5MB/s               \rwc2.1_10m_tmin.zip   47%[========>           ]  17.04M  28.4MB/s               \rwc2.1_10m_tmin.zip   68%[============>       ]  24.48M  30.6MB/s               \rwc2.1_10m_tmin.zip   89%[================>   ]  31.95M  31.9MB/s               \rwc2.1_10m_tmin.zip  100%[===================>]  35.86M  32.5MB/s    in 1.1s    \r\n\r\n2024-05-04 20:33:49 (32.5 MB/s) - ‘wc2.1_10m_tmin.zip’ saved [37605037/37605037]\r\n\r\nArchive:  wc2.1_10m_tmin.zip\r\n  inflating: wc2.1_10m_tmin_01.tif   \r\n  inflating: wc2.1_10m_tmin_02.tif   \r\n  inflating: wc2.1_10m_tmin_03.tif   \r\n  inflating: wc2.1_10m_tmin_04.tif   \r\n  inflating: wc2.1_10m_tmin_05.tif   \r\n  inflating: wc2.1_10m_tmin_06.tif   \r\n  inflating: wc2.1_10m_tmin_07.tif   \r\n  inflating: wc2.1_10m_tmin_08.tif   \r\n  inflating: wc2.1_10m_tmin_09.tif   \r\n  inflating: wc2.1_10m_tmin_10.tif   \r\n  inflating: wc2.1_10m_tmin_11.tif   \r\n  inflating: wc2.1_10m_tmin_12.tif   \r\n"
          ]
        }
      ],
      "source": [
        "!wget https://biogeo.ucdavis.edu/data/worldclim/v2.1/base/wc2.1_10m_tmin.zip\n",
        "!unzip -o wc2.1_10m_tmin.zip"
      ]
    },
    {
      "cell_type": "code",
      "execution_count": null,
      "metadata": {
        "application/vnd.databricks.v1+cell": {
          "cellMetadata": {
            "byteLimit": 2048000,
            "rowLimit": 10000
          },
          "inputWidgets": {},
          "nuid": "ea5c24a2-ab60-4bd0-9d8a-99dc8d3af8a8",
          "showTitle": false,
          "title": ""
        },
        "id": "tdPHlM1_gYkd",
        "outputId": "abd5e8e8-8f66-44db-89f9-281f5263591c"
      },
      "outputs": [
        {
          "output_type": "stream",
          "name": "stdout",
          "text": [
            "[2024-05-04 08:33:53 - INFO] - Getting geotransform and data...\r\n[2024-05-04 08:33:53 - INFO] - Getting XYZ data...\r\n[2024-05-04 08:33:53 - INFO] - Getting geotransformed coordinates...\r\n[2024-05-04 08:33:54 - INFO] - Building XYZ data...\r\n[2024-05-04 08:34:04 - INFO] - New XYZ (csv file) created...\r\n"
          ]
        }
      ],
      "source": [
        "!raster2xyz wc2.1_10m_tmin_01.tif wc2.1_10m_tmin_01.csv"
      ]
    },
    {
      "cell_type": "markdown",
      "metadata": {
        "application/vnd.databricks.v1+cell": {
          "cellMetadata": {
            "byteLimit": 2048000,
            "rowLimit": 10000
          },
          "inputWidgets": {},
          "nuid": "1e5a40bf-9b4e-46c8-b714-7ba0f40e14a5",
          "showTitle": false,
          "title": ""
        },
        "id": "ZvSEHZ-QgYkd"
      },
      "source": [
        "Os arquivos são salvos no cluster então é necessário movê-los para o dbfs"
      ]
    },
    {
      "cell_type": "code",
      "execution_count": null,
      "metadata": {
        "application/vnd.databricks.v1+cell": {
          "cellMetadata": {
            "byteLimit": 2048000,
            "rowLimit": 10000
          },
          "inputWidgets": {},
          "nuid": "720d0f4b-8207-4814-a9db-937729d646a0",
          "showTitle": false,
          "title": ""
        },
        "id": "qHv1W655gYkd",
        "outputId": "eacb7f6c-eed5-4dcf-ac88-aaa6349b6b74"
      },
      "outputs": [
        {
          "output_type": "stream",
          "name": "stdout",
          "text": [
            "Out[11]: True"
          ]
        }
      ],
      "source": [
        "dbutils.fs.cp(\"file:/databricks/driver/wc2.1_10m_tmin_01.csv\", \"dbfs:/FileStore/tables/wc2.1_10m_tmin_01.csv\")"
      ]
    },
    {
      "cell_type": "markdown",
      "metadata": {
        "application/vnd.databricks.v1+cell": {
          "cellMetadata": {
            "byteLimit": 2048000,
            "rowLimit": 10000
          },
          "inputWidgets": {},
          "nuid": "ad028bf5-adbf-482e-8192-dc0fee06a5a8",
          "showTitle": false,
          "title": ""
        },
        "id": "tcFvx-tVgYkd"
      },
      "source": [
        "Testando o benchmark"
      ]
    },
    {
      "cell_type": "code",
      "execution_count": null,
      "metadata": {
        "application/vnd.databricks.v1+cell": {
          "cellMetadata": {
            "byteLimit": 2048000,
            "rowLimit": 10000
          },
          "inputWidgets": {},
          "nuid": "8d8c92a4-3db9-4278-b06c-5f4f79d33270",
          "showTitle": false,
          "title": ""
        },
        "id": "HQ0Tw6dlgYkd"
      },
      "outputs": [],
      "source": [
        "arquivo='dbfs:/FileStore/tables/wc2.1_10m_tmin_01.csv'"
      ]
    },
    {
      "cell_type": "code",
      "execution_count": null,
      "metadata": {
        "application/vnd.databricks.v1+cell": {
          "cellMetadata": {
            "byteLimit": 2048000,
            "rowLimit": 10000
          },
          "inputWidgets": {},
          "nuid": "bcd0d4e7-890b-4fd7-bfc6-e0ac61298641",
          "showTitle": false,
          "title": ""
        },
        "id": "RJHqIoOOgYke",
        "outputId": "d0a550b4-6084-4ce7-c05f-9586c5f1310d"
      },
      "outputs": [
        {
          "output_type": "stream",
          "name": "stdout",
          "text": [
            "Número de partições -> 8\n"
          ]
        }
      ],
      "source": [
        "partitions(arquivo)"
      ]
    },
    {
      "cell_type": "code",
      "execution_count": null,
      "metadata": {
        "application/vnd.databricks.v1+cell": {
          "cellMetadata": {
            "byteLimit": 2048000,
            "rowLimit": 10000
          },
          "inputWidgets": {},
          "nuid": "77684c6c-f244-4756-892b-bffc78b01561",
          "showTitle": false,
          "title": ""
        },
        "id": "AgHlKueJgYke",
        "outputId": "d04f22e6-8bca-4bdd-fd9a-1a0c4b05ec73"
      },
      "outputs": [
        {
          "output_type": "stream",
          "name": "stdout",
          "text": [
            "CPU times: user 12.1 ms, sys: 5.3 ms, total: 17.4 ms\nWall time: 10.7 s\nCPU times: user 9.74 ms, sys: 935 µs, total: 10.7 ms\nWall time: 7.83 s\nCPU times: user 10.5 ms, sys: 0 ns, total: 10.5 ms\nWall time: 7.98 s\nCPU times: user 10.2 ms, sys: 0 ns, total: 10.2 ms\nWall time: 7 s\nCPU times: user 9.44 ms, sys: 605 µs, total: 10 ms\nWall time: 7.14 s\nCPU times: user 11.5 ms, sys: 0 ns, total: 11.5 ms\nWall time: 7.06 s\nCPU times: user 4.05 ms, sys: 6.09 ms, total: 10.1 ms\nWall time: 6.86 s\nCPU times: user 10.2 ms, sys: 0 ns, total: 10.2 ms\nWall time: 6.66 s\nCPU times: user 9.83 ms, sys: 0 ns, total: 9.83 ms\nWall time: 6.43 s\nCPU times: user 0 ns, sys: 17.4 ms, total: 17.4 ms\nWall time: 6.41 s\nCPU times: user 2.83 ms, sys: 6.46 ms, total: 9.29 ms\nWall time: 6.1 s\nCPU times: user 8.94 ms, sys: 1.47 ms, total: 10.4 ms\nWall time: 5.92 s\nCPU times: user 2.96 ms, sys: 7.13 ms, total: 10.1 ms\nWall time: 6.64 s\nCPU times: user 6.3 ms, sys: 4.36 ms, total: 10.7 ms\nWall time: 8.37 s\nCPU times: user 10.4 ms, sys: 411 µs, total: 10.9 ms\nWall time: 8.74 s\nCPU times: user 10.2 ms, sys: 0 ns, total: 10.2 ms\nWall time: 7.79 s\nCPU times: user 4.09 ms, sys: 6.49 ms, total: 10.6 ms\nWall time: 7.9 s\nCPU times: user 10.1 ms, sys: 356 µs, total: 10.5 ms\nWall time: 7.93 s\nCPU times: user 6.45 ms, sys: 4.39 ms, total: 10.8 ms\nWall time: 8.36 s\nCPU times: user 6.53 ms, sys: 4.41 ms, total: 10.9 ms\nWall time: 8.22 s\nCPU times: user 8.6 ms, sys: 771 µs, total: 9.37 ms\nWall time: 6.6 s\nCPU times: user 9.8 ms, sys: 972 µs, total: 10.8 ms\nWall time: 7.11 s\nCPU times: user 16.2 ms, sys: 45 µs, total: 16.2 ms\nWall time: 6.4 s\nCPU times: user 9.3 ms, sys: 884 µs, total: 10.2 ms\nWall time: 6.68 s\nCPU times: user 5.26 ms, sys: 4.2 ms, total: 9.46 ms\nWall time: 6.66 s\nCPU times: user 6.28 ms, sys: 3.71 ms, total: 9.99 ms\nWall time: 6.57 s\nCPU times: user 9.36 ms, sys: 347 µs, total: 9.71 ms\nWall time: 6.05 s\nCPU times: user 10.2 ms, sys: 0 ns, total: 10.2 ms\nWall time: 6.24 s\nCPU times: user 6.31 ms, sys: 3.53 ms, total: 9.83 ms\nWall time: 6.9 s\nCPU times: user 5.88 ms, sys: 3.64 ms, total: 9.53 ms\nWall time: 5.93 s\nCPU times: user 10.2 ms, sys: 0 ns, total: 10.2 ms\nWall time: 6.02 s\nCPU times: user 8.65 ms, sys: 595 µs, total: 9.25 ms\nWall time: 6.52 s\n"
          ]
        }
      ],
      "source": [
        "for i in range(1,33):\n",
        " %time benchmark(arquivo)"
      ]
    },
    {
      "cell_type": "markdown",
      "metadata": {
        "application/vnd.databricks.v1+cell": {
          "cellMetadata": {
            "byteLimit": 2048000,
            "rowLimit": 10000
          },
          "inputWidgets": {},
          "nuid": "76a3de18-f993-4f99-a95c-bf53b65ddd43",
          "showTitle": false,
          "title": ""
        },
        "id": "4epIbyvxgYke"
      },
      "source": [
        "##5 minutos"
      ]
    },
    {
      "cell_type": "code",
      "execution_count": null,
      "metadata": {
        "application/vnd.databricks.v1+cell": {
          "cellMetadata": {
            "byteLimit": 2048000,
            "rowLimit": 10000
          },
          "inputWidgets": {},
          "nuid": "0cc9ceb8-99ae-40a7-ae52-8e3a09a3e3c3",
          "showTitle": false,
          "title": ""
        },
        "id": "-GyDQ_pRgYke",
        "outputId": "afab6894-20b4-4291-9516-10f174d3337a"
      },
      "outputs": [
        {
          "output_type": "stream",
          "name": "stdout",
          "text": [
            "--2024-05-04 20:38:13--  https://biogeo.ucdavis.edu/data/worldclim/v2.1/base/wc2.1_5m_tmin.zip\r\nResolving biogeo.ucdavis.edu (biogeo.ucdavis.edu)... 128.120.228.172\r\nConnecting to biogeo.ucdavis.edu (biogeo.ucdavis.edu)|128.120.228.172|:443... connected.\r\nHTTP request sent, awaiting response... 302 Found\r\nLocation: https://data.biogeo.ucdavis.edu/data/worldclim/v2.1/base/wc2.1_5m_tmin.zip [following]\r\n--2024-05-04 20:38:13--  https://data.biogeo.ucdavis.edu/data/worldclim/v2.1/base/wc2.1_5m_tmin.zip\r\nResolving data.biogeo.ucdavis.edu (data.biogeo.ucdavis.edu)... 128.120.228.172\r\nConnecting to data.biogeo.ucdavis.edu (data.biogeo.ucdavis.edu)|128.120.228.172|:443... connected.\r\nHTTP request sent, awaiting response... 200 OK\r\nLength: 128562254 (123M) [application/zip]\r\nSaving to: ‘wc2.1_5m_tmin.zip’\r\n\r\n\rwc2.1_5m_tmin.zip     0%[                    ]       0  --.-KB/s               \rwc2.1_5m_tmin.zip     2%[                    ]   2.55M  12.2MB/s               \rwc2.1_5m_tmin.zip     8%[>                   ]  11.02M  26.9MB/s               \rwc2.1_5m_tmin.zip    14%[=>                  ]  18.27M  30.0MB/s               \rwc2.1_5m_tmin.zip    20%[===>                ]  24.90M  30.8MB/s               \rwc2.1_5m_tmin.zip    25%[====>               ]  31.57M  31.3MB/s               \rwc2.1_5m_tmin.zip    30%[=====>              ]  37.73M  31.2MB/s               \rwc2.1_5m_tmin.zip    36%[======>             ]  44.24M  31.4MB/s               \rwc2.1_5m_tmin.zip    41%[=======>            ]  51.06M  31.7MB/s               \rwc2.1_5m_tmin.zip    47%[========>           ]  57.74M  31.9MB/s               \rwc2.1_5m_tmin.zip    52%[=========>          ]  64.87M  32.3MB/s               \rwc2.1_5m_tmin.zip    58%[==========>         ]  71.85M  32.5MB/s               \rwc2.1_5m_tmin.zip    64%[===========>        ]  79.60M  33.0MB/s               \rwc2.1_5m_tmin.zip    70%[=============>      ]  86.79M  33.2MB/s               \rwc2.1_5m_tmin.zip    77%[==============>     ]  94.70M  33.7MB/s               \rwc2.1_5m_tmin.zip    83%[===============>    ] 102.68M  34.1MB/s    eta 1s     \rwc2.1_5m_tmin.zip    89%[================>   ] 109.85M  35.8MB/s    eta 1s     \rwc2.1_5m_tmin.zip    96%[==================> ] 118.30M  35.9MB/s    eta 1s     \rwc2.1_5m_tmin.zip   100%[===================>] 122.61M  35.8MB/s    in 3.5s    \r\n\r\n2024-05-04 20:38:17 (34.9 MB/s) - ‘wc2.1_5m_tmin.zip’ saved [128562254/128562254]\r\n\r\nArchive:  wc2.1_5m_tmin.zip\r\n  inflating: wc2.1_5m_tmin_01.tif    \r\n  inflating: wc2.1_5m_tmin_02.tif    \r\n  inflating: wc2.1_5m_tmin_03.tif    \r\n  inflating: wc2.1_5m_tmin_04.tif    \r\n  inflating: wc2.1_5m_tmin_05.tif    \r\n  inflating: wc2.1_5m_tmin_06.tif    \r\n  inflating: wc2.1_5m_tmin_07.tif    \r\n  inflating: wc2.1_5m_tmin_08.tif    \r\n  inflating: wc2.1_5m_tmin_09.tif    \r\n  inflating: wc2.1_5m_tmin_10.tif    \r\n  inflating: wc2.1_5m_tmin_11.tif    \r\n  inflating: wc2.1_5m_tmin_12.tif    \r\n"
          ]
        }
      ],
      "source": [
        "!wget https://biogeo.ucdavis.edu/data/worldclim/v2.1/base/wc2.1_5m_tmin.zip\n",
        "!unzip -o wc2.1_5m_tmin.zip"
      ]
    },
    {
      "cell_type": "code",
      "execution_count": null,
      "metadata": {
        "application/vnd.databricks.v1+cell": {
          "cellMetadata": {
            "byteLimit": 2048000,
            "rowLimit": 10000
          },
          "inputWidgets": {},
          "nuid": "d1df4494-a09b-4b0b-a23a-c8402487d1aa",
          "showTitle": false,
          "title": ""
        },
        "id": "q-8tG5ZrgYke",
        "outputId": "ff7304cb-b861-4cfb-9e7a-a20881603331"
      },
      "outputs": [
        {
          "output_type": "stream",
          "name": "stdout",
          "text": [
            "[2024-05-04 08:38:21 - INFO] - Getting geotransform and data...\r\n[2024-05-04 08:38:21 - INFO] - Getting XYZ data...\r\n[2024-05-04 08:38:22 - INFO] - Getting geotransformed coordinates...\r\n[2024-05-04 08:38:22 - INFO] - Building XYZ data...\r\n[2024-05-04 08:39:01 - INFO] - New XYZ (csv file) created...\r\n"
          ]
        }
      ],
      "source": [
        "!raster2xyz wc2.1_5m_tmin_01.tif wc2.1_5m_tmin_01.csv"
      ]
    },
    {
      "cell_type": "code",
      "execution_count": null,
      "metadata": {
        "application/vnd.databricks.v1+cell": {
          "cellMetadata": {
            "byteLimit": 2048000,
            "rowLimit": 10000
          },
          "inputWidgets": {},
          "nuid": "ffe2ed8a-be76-454e-bc18-40dd23ef2c40",
          "showTitle": false,
          "title": ""
        },
        "id": "RZb-WIZ6gYkf",
        "outputId": "b8908833-66e9-4efd-ae3f-34c8a297617e"
      },
      "outputs": [
        {
          "output_type": "stream",
          "name": "stdout",
          "text": [
            "Out[17]: True"
          ]
        }
      ],
      "source": [
        "dbutils.fs.cp(\"file:/databricks/driver/wc2.1_5m_tmin_01.csv\", \"dbfs:/FileStore/tables/wc2.1_5m_tmin_01.csv\")"
      ]
    },
    {
      "cell_type": "code",
      "execution_count": null,
      "metadata": {
        "application/vnd.databricks.v1+cell": {
          "cellMetadata": {
            "byteLimit": 2048000,
            "rowLimit": 10000
          },
          "inputWidgets": {},
          "nuid": "66725547-f3ed-488c-b74e-b2999bdc008e",
          "showTitle": false,
          "title": ""
        },
        "id": "s5wMLY65gYkf"
      },
      "outputs": [],
      "source": [
        "arquivo='dbfs:/FileStore/tables/wc2.1_5m_tmin_01.csv'"
      ]
    },
    {
      "cell_type": "code",
      "execution_count": null,
      "metadata": {
        "application/vnd.databricks.v1+cell": {
          "cellMetadata": {
            "byteLimit": 2048000,
            "rowLimit": 10000
          },
          "inputWidgets": {},
          "nuid": "73e3e7b5-be21-4122-8321-8873ccd268c2",
          "showTitle": false,
          "title": ""
        },
        "id": "SB9xykl1gYkf",
        "outputId": "5e06d131-aef2-4745-f0fa-74077f4ef3f9"
      },
      "outputs": [
        {
          "output_type": "stream",
          "name": "stdout",
          "text": [
            "Número de partições -> 8\n"
          ]
        }
      ],
      "source": [
        "partitions(arquivo)"
      ]
    },
    {
      "cell_type": "code",
      "execution_count": null,
      "metadata": {
        "application/vnd.databricks.v1+cell": {
          "cellMetadata": {
            "byteLimit": 2048000,
            "rowLimit": 10000
          },
          "inputWidgets": {},
          "nuid": "39160fc7-86ce-4df0-a591-5320da5c76cb",
          "showTitle": false,
          "title": ""
        },
        "id": "ctsI6GKAgYkf",
        "outputId": "905bcd1c-e827-40a0-b1b7-5d3ff55e39c5"
      },
      "outputs": [
        {
          "output_type": "stream",
          "name": "stdout",
          "text": [
            "CPU times: user 11.8 ms, sys: 1.34 ms, total: 13.1 ms\nWall time: 16.8 s\nCPU times: user 13.6 ms, sys: 275 µs, total: 13.8 ms\nWall time: 16.3 s\nCPU times: user 13.5 ms, sys: 950 µs, total: 14.5 ms\nWall time: 17.5 s\nCPU times: user 9.94 ms, sys: 11.6 ms, total: 21.5 ms\nWall time: 18.1 s\nCPU times: user 9.85 ms, sys: 7.72 ms, total: 17.6 ms\nWall time: 18 s\nCPU times: user 9.45 ms, sys: 4.38 ms, total: 13.8 ms\nWall time: 17.3 s\nCPU times: user 12.5 ms, sys: 1.47 ms, total: 14 ms\nWall time: 16.5 s\nCPU times: user 9.3 ms, sys: 4.78 ms, total: 14.1 ms\nWall time: 17.9 s\nCPU times: user 5.36 ms, sys: 8.89 ms, total: 14.2 ms\nWall time: 17.6 s\nCPU times: user 10.4 ms, sys: 5.1 ms, total: 15.5 ms\nWall time: 17.3 s\nCPU times: user 14.7 ms, sys: 0 ns, total: 14.7 ms\nWall time: 17.6 s\nCPU times: user 9.45 ms, sys: 4.85 ms, total: 14.3 ms\nWall time: 17.3 s\nCPU times: user 3.31 ms, sys: 11.1 ms, total: 14.5 ms\nWall time: 16.5 s\nCPU times: user 3 ms, sys: 11.1 ms, total: 14.1 ms\nWall time: 16.5 s\nCPU times: user 13.8 ms, sys: 329 µs, total: 14.2 ms\nWall time: 16.2 s\nCPU times: user 12 ms, sys: 13.4 ms, total: 25.4 ms\nWall time: 17.4 s\nCPU times: user 12.6 ms, sys: 4.1 ms, total: 16.7 ms\nWall time: 17.9 s\nCPU times: user 13.7 ms, sys: 0 ns, total: 13.7 ms\nWall time: 17.3 s\nCPU times: user 14.5 ms, sys: 0 ns, total: 14.5 ms\nWall time: 16.9 s\nCPU times: user 7.22 ms, sys: 8.46 ms, total: 15.7 ms\nWall time: 18.6 s\nCPU times: user 12.5 ms, sys: 1.75 ms, total: 14.2 ms\nWall time: 16.7 s\nCPU times: user 4.97 ms, sys: 10 ms, total: 15 ms\nWall time: 18.3 s\nCPU times: user 8.9 ms, sys: 4.98 ms, total: 13.9 ms\nWall time: 16.9 s\nCPU times: user 9.85 ms, sys: 4.59 ms, total: 14.4 ms\nWall time: 16.6 s\nCPU times: user 12.6 ms, sys: 1.69 ms, total: 14.3 ms\nWall time: 17.6 s\nCPU times: user 11.8 ms, sys: 7.95 ms, total: 19.7 ms\nWall time: 18.8 s\nCPU times: user 9.83 ms, sys: 4.32 ms, total: 14.1 ms\nWall time: 16.4 s\nCPU times: user 9.95 ms, sys: 3.71 ms, total: 13.7 ms\nWall time: 16.7 s\nCPU times: user 12.7 ms, sys: 7.38 ms, total: 20.1 ms\nWall time: 16.7 s\nCPU times: user 10.5 ms, sys: 3.72 ms, total: 14.2 ms\nWall time: 17.4 s\nCPU times: user 13.8 ms, sys: 330 µs, total: 14.1 ms\nWall time: 16.7 s\nCPU times: user 14.5 ms, sys: 0 ns, total: 14.5 ms\nWall time: 17.4 s\n"
          ]
        }
      ],
      "source": [
        "for i in range(1,33):\n",
        " %time benchmark(arquivo)"
      ]
    },
    {
      "cell_type": "markdown",
      "metadata": {
        "application/vnd.databricks.v1+cell": {
          "cellMetadata": {
            "byteLimit": 2048000,
            "rowLimit": 10000
          },
          "inputWidgets": {},
          "nuid": "eeb14a4d-de0c-48cc-a0d3-541ee1c7b9bc",
          "showTitle": false,
          "title": ""
        },
        "id": "7jBZ47QQgYkf"
      },
      "source": [
        "##2.5"
      ]
    },
    {
      "cell_type": "code",
      "execution_count": null,
      "metadata": {
        "application/vnd.databricks.v1+cell": {
          "cellMetadata": {
            "byteLimit": 2048000,
            "rowLimit": 10000
          },
          "inputWidgets": {},
          "nuid": "233e2b6a-df93-4e18-b7b3-2d23e93234af",
          "showTitle": false,
          "title": ""
        },
        "id": "eG0K2hfXgYkg",
        "outputId": "f078c143-e7ed-4bf5-ca8b-7d33e018877e"
      },
      "outputs": [
        {
          "output_type": "stream",
          "name": "stdout",
          "text": [
            "--2024-05-04 20:48:38--  https://biogeo.ucdavis.edu/data/worldclim/v2.1/base/wc2.1_2.5m_tmin.zip\r\nResolving biogeo.ucdavis.edu (biogeo.ucdavis.edu)... 128.120.228.172\r\nConnecting to biogeo.ucdavis.edu (biogeo.ucdavis.edu)|128.120.228.172|:443... connected.\r\nHTTP request sent, awaiting response... 302 Found\r\nLocation: https://data.biogeo.ucdavis.edu/data/worldclim/v2.1/base/wc2.1_2.5m_tmin.zip [following]\r\n--2024-05-04 20:48:38--  https://data.biogeo.ucdavis.edu/data/worldclim/v2.1/base/wc2.1_2.5m_tmin.zip\r\nResolving data.biogeo.ucdavis.edu (data.biogeo.ucdavis.edu)... 128.120.228.172\r\nConnecting to data.biogeo.ucdavis.edu (data.biogeo.ucdavis.edu)|128.120.228.172|:443... connected.\r\nHTTP request sent, awaiting response... 200 OK\r\nLength: 450776085 (430M) [application/zip]\r\nSaving to: ‘wc2.1_2.5m_tmin.zip’\r\n\r\n\rwc2.1_2.5m_tmin.zip   0%[                    ]       0  --.-KB/s               \rwc2.1_2.5m_tmin.zip   0%[                    ] 344.00K  1.56MB/s               \rwc2.1_2.5m_tmin.zip   1%[                    ]   8.15M  19.6MB/s               \rwc2.1_2.5m_tmin.zip   3%[                    ]  15.63M  25.4MB/s               \rwc2.1_2.5m_tmin.zip   5%[>                   ]  23.24M  28.5MB/s               \rwc2.1_2.5m_tmin.zip   7%[>                   ]  30.54M  30.1MB/s               \rwc2.1_2.5m_tmin.zip   8%[>                   ]  38.35M  31.5MB/s               \rwc2.1_2.5m_tmin.zip  10%[=>                  ]  46.13M  32.6MB/s               \rwc2.1_2.5m_tmin.zip  12%[=>                  ]  53.88M  33.3MB/s               \rwc2.1_2.5m_tmin.zip  14%[=>                  ]  61.65M  33.9MB/s               \rwc2.1_2.5m_tmin.zip  16%[==>                 ]  69.43M  34.4MB/s               \rwc2.1_2.5m_tmin.zip  17%[==>                 ]  77.16M  34.8MB/s               \rwc2.1_2.5m_tmin.zip  19%[==>                 ]  84.99M  35.2MB/s               \rwc2.1_2.5m_tmin.zip  21%[===>                ]  92.99M  35.5MB/s               \rwc2.1_2.5m_tmin.zip  23%[===>                ] 100.80M  35.8MB/s               \rwc2.1_2.5m_tmin.zip  25%[====>               ] 108.79M  36.0MB/s    eta 9s     \rwc2.1_2.5m_tmin.zip  27%[====>               ] 116.77M  38.2MB/s    eta 9s     \rwc2.1_2.5m_tmin.zip  29%[====>               ] 124.80M  39.0MB/s    eta 9s     \rwc2.1_2.5m_tmin.zip  30%[=====>              ] 132.52M  38.9MB/s    eta 9s     \rwc2.1_2.5m_tmin.zip  32%[=====>              ] 140.45M  39.0MB/s    eta 9s     \rwc2.1_2.5m_tmin.zip  34%[=====>              ] 148.40M  39.3MB/s    eta 8s     \rwc2.1_2.5m_tmin.zip  36%[======>             ] 156.15M  39.2MB/s    eta 8s     \rwc2.1_2.5m_tmin.zip  38%[======>             ] 164.02M  39.3MB/s    eta 8s     \rwc2.1_2.5m_tmin.zip  40%[=======>            ] 172.04M  39.4MB/s    eta 8s     \rwc2.1_2.5m_tmin.zip  41%[=======>            ] 179.91M  39.3MB/s    eta 8s     \rwc2.1_2.5m_tmin.zip  43%[=======>            ] 187.88M  39.5MB/s    eta 6s     \rwc2.1_2.5m_tmin.zip  45%[========>           ] 195.80M  39.5MB/s    eta 6s     \rwc2.1_2.5m_tmin.zip  47%[========>           ] 203.59M  39.5MB/s    eta 6s     \rwc2.1_2.5m_tmin.zip  49%[========>           ] 211.08M  39.3MB/s    eta 6s     \rwc2.1_2.5m_tmin.zip  50%[=========>          ] 218.88M  39.3MB/s    eta 6s     \rwc2.1_2.5m_tmin.zip  52%[=========>          ] 226.79M  39.3MB/s    eta 5s     \rwc2.1_2.5m_tmin.zip  54%[=========>          ] 234.51M  39.2MB/s    eta 5s     \rwc2.1_2.5m_tmin.zip  56%[==========>         ] 242.30M  39.2MB/s    eta 5s     \rwc2.1_2.5m_tmin.zip  58%[==========>         ] 250.20M  39.2MB/s    eta 5s     \rwc2.1_2.5m_tmin.zip  59%[==========>         ] 257.91M  39.1MB/s    eta 5s     \rwc2.1_2.5m_tmin.zip  61%[===========>        ] 265.12M  38.9MB/s    eta 4s     \rwc2.1_2.5m_tmin.zip  63%[===========>        ] 273.12M  39.0MB/s    eta 4s     \rwc2.1_2.5m_tmin.zip  65%[============>       ] 280.98M  39.0MB/s    eta 4s     \rwc2.1_2.5m_tmin.zip  67%[============>       ] 288.98M  39.0MB/s    eta 4s     \rwc2.1_2.5m_tmin.zip  69%[============>       ] 296.93M  39.0MB/s    eta 4s     \rwc2.1_2.5m_tmin.zip  70%[=============>      ] 304.52M  38.9MB/s    eta 3s     \rwc2.1_2.5m_tmin.zip  72%[=============>      ] 312.37M  38.8MB/s    eta 3s     \rwc2.1_2.5m_tmin.zip  74%[=============>      ] 320.51M  38.9MB/s    eta 3s     \rwc2.1_2.5m_tmin.zip  76%[==============>     ] 328.66M  39.2MB/s    eta 3s     \rwc2.1_2.5m_tmin.zip  78%[==============>     ] 335.96M  39.0MB/s    eta 3s     \rwc2.1_2.5m_tmin.zip  79%[==============>     ] 343.90M  39.0MB/s    eta 2s     \rwc2.1_2.5m_tmin.zip  81%[===============>    ] 351.93M  39.1MB/s    eta 2s     \rwc2.1_2.5m_tmin.zip  83%[===============>    ] 359.66M  39.1MB/s    eta 2s     \rwc2.1_2.5m_tmin.zip  85%[================>   ] 367.70M  39.1MB/s    eta 2s     \rwc2.1_2.5m_tmin.zip  87%[================>   ] 375.46M  39.1MB/s    eta 2s     \rwc2.1_2.5m_tmin.zip  89%[================>   ] 383.37M  39.4MB/s    eta 1s     \rwc2.1_2.5m_tmin.zip  91%[=================>  ] 391.32M  39.4MB/s    eta 1s     \rwc2.1_2.5m_tmin.zip  92%[=================>  ] 399.34M  39.3MB/s    eta 1s     \rwc2.1_2.5m_tmin.zip  94%[=================>  ] 407.37M  39.4MB/s    eta 1s     \rwc2.1_2.5m_tmin.zip  96%[==================> ] 415.80M  39.3MB/s    eta 1s     \rwc2.1_2.5m_tmin.zip  98%[==================> ] 423.79M  39.6MB/s    eta 0s     \rwc2.1_2.5m_tmin.zip 100%[===================>] 429.89M  39.5MB/s    in 11s     \r\n\r\n2024-05-04 20:48:50 (38.4 MB/s) - ‘wc2.1_2.5m_tmin.zip’ saved [450776085/450776085]\r\n\r\nArchive:  wc2.1_2.5m_tmin.zip\r\n  inflating: wc2.1_2.5m_tmin_01.tif  \r\n  inflating: wc2.1_2.5m_tmin_02.tif  \r\n  inflating: wc2.1_2.5m_tmin_03.tif  \r\n  inflating: wc2.1_2.5m_tmin_04.tif  \r\n  inflating: wc2.1_2.5m_tmin_05.tif  \r\n  inflating: wc2.1_2.5m_tmin_06.tif  \r\n  inflating: wc2.1_2.5m_tmin_07.tif  \r\n  inflating: wc2.1_2.5m_tmin_08.tif  \r\n  inflating: wc2.1_2.5m_tmin_09.tif  \r\n  inflating: wc2.1_2.5m_tmin_10.tif  \r\n  inflating: wc2.1_2.5m_tmin_11.tif  \r\n  inflating: wc2.1_2.5m_tmin_12.tif  \r\n"
          ]
        }
      ],
      "source": [
        "!wget https://biogeo.ucdavis.edu/data/worldclim/v2.1/base/wc2.1_2.5m_tmin.zip\n",
        "!unzip -o wc2.1_2.5m_tmin.zip"
      ]
    },
    {
      "cell_type": "code",
      "execution_count": null,
      "metadata": {
        "application/vnd.databricks.v1+cell": {
          "cellMetadata": {
            "byteLimit": 2048000,
            "rowLimit": 10000
          },
          "inputWidgets": {},
          "nuid": "27f0ef2f-682a-4286-b23d-9e455a9f4026",
          "showTitle": false,
          "title": ""
        },
        "id": "cis2Bt0dgYkg",
        "outputId": "9a8357e4-89db-4c8f-9f4a-d577fba9d05b"
      },
      "outputs": [
        {
          "output_type": "stream",
          "name": "stdout",
          "text": [
            "[2024-05-04 08:48:57 - INFO] - Getting geotransform and data...\r\n[2024-05-04 08:48:58 - INFO] - Getting XYZ data...\r\n[2024-05-04 08:49:00 - INFO] - Getting geotransformed coordinates...\r\n[2024-05-04 08:49:03 - INFO] - Building XYZ data...\r\n[2024-05-04 08:51:37 - INFO] - New XYZ (csv file) created...\r\n"
          ]
        }
      ],
      "source": [
        "!raster2xyz wc2.1_2.5m_tmin_01.tif wc2.1_2.5m_tmin_01.csv"
      ]
    },
    {
      "cell_type": "code",
      "execution_count": null,
      "metadata": {
        "application/vnd.databricks.v1+cell": {
          "cellMetadata": {
            "byteLimit": 2048000,
            "rowLimit": 10000
          },
          "inputWidgets": {},
          "nuid": "f63980e4-d74e-4906-a535-7e8938e85032",
          "showTitle": false,
          "title": ""
        },
        "id": "Erypb2tKgYkg",
        "outputId": "e5796353-95d2-4746-cdda-c91e0ed97a02"
      },
      "outputs": [
        {
          "output_type": "stream",
          "name": "stdout",
          "text": [
            "Out[23]: True"
          ]
        }
      ],
      "source": [
        "dbutils.fs.cp(\"file:/databricks/driver/wc2.1_2.5m_tmin_01.csv\", \"dbfs:/FileStore/tables/wc2.1_2.5m_tmin_01.csv\")"
      ]
    },
    {
      "cell_type": "code",
      "execution_count": null,
      "metadata": {
        "application/vnd.databricks.v1+cell": {
          "cellMetadata": {
            "byteLimit": 2048000,
            "rowLimit": 10000
          },
          "inputWidgets": {},
          "nuid": "56a2f4e6-a38a-4075-bdc4-cb21323b9dea",
          "showTitle": false,
          "title": ""
        },
        "id": "SmdmKukJgYkg"
      },
      "outputs": [],
      "source": [
        "arquivo='dbfs:/FileStore/tables/wc2.1_2.5m_tmin_01.csv'\n"
      ]
    },
    {
      "cell_type": "code",
      "execution_count": null,
      "metadata": {
        "application/vnd.databricks.v1+cell": {
          "cellMetadata": {
            "byteLimit": 2048000,
            "rowLimit": 10000
          },
          "inputWidgets": {},
          "nuid": "c94db72a-8f6a-4f72-a6d4-98f1479a29c4",
          "showTitle": false,
          "title": ""
        },
        "id": "w9ngVlOYgYkh",
        "outputId": "6e05fd30-c3ae-4efd-9390-eef539d35323"
      },
      "outputs": [
        {
          "output_type": "stream",
          "name": "stdout",
          "text": [
            "Número de partições -> 11\n"
          ]
        }
      ],
      "source": [
        "partitions(arquivo)"
      ]
    },
    {
      "cell_type": "code",
      "execution_count": null,
      "metadata": {
        "application/vnd.databricks.v1+cell": {
          "cellMetadata": {
            "byteLimit": 2048000,
            "rowLimit": 10000
          },
          "inputWidgets": {},
          "nuid": "8669a666-fe66-4b8a-afa8-2a9b0d986894",
          "showTitle": false,
          "title": ""
        },
        "id": "p9_Hh8lIgYkh",
        "outputId": "ae13e1b4-e0cb-4aef-d664-d09966081be2"
      },
      "outputs": [
        {
          "output_type": "stream",
          "name": "stdout",
          "text": [
            "CPU times: user 13.2 ms, sys: 30.7 ms, total: 44 ms\nWall time: 1min 1s\nCPU times: user 19.3 ms, sys: 14.3 ms, total: 33.6 ms\nWall time: 59.5 s\nCPU times: user 28.5 ms, sys: 10.6 ms, total: 39 ms\nWall time: 1min 6s\nCPU times: user 21.8 ms, sys: 13.4 ms, total: 35.2 ms\nWall time: 1min 3s\nCPU times: user 13.9 ms, sys: 21.9 ms, total: 35.9 ms\nWall time: 1min\nCPU times: user 20.2 ms, sys: 14.6 ms, total: 34.8 ms\nWall time: 1min\nCPU times: user 18.4 ms, sys: 16.8 ms, total: 35.2 ms\nWall time: 1min 1s\nCPU times: user 37 ms, sys: 2.28 ms, total: 39.3 ms\nWall time: 1min 5s\nCPU times: user 18.9 ms, sys: 13.6 ms, total: 32.6 ms\nWall time: 59.3 s\nCPU times: user 17.9 ms, sys: 16.1 ms, total: 33.9 ms\nWall time: 1min\nCPU times: user 21.2 ms, sys: 14.1 ms, total: 35.2 ms\nWall time: 1min 2s\nCPU times: user 28.3 ms, sys: 16.5 ms, total: 44.8 ms\nWall time: 1min 1s\nCPU times: user 22.4 ms, sys: 10.4 ms, total: 32.8 ms\nWall time: 59.1 s\nCPU times: user 30.9 ms, sys: 6.41 ms, total: 37.4 ms\nWall time: 1min 2s\nCPU times: user 24.4 ms, sys: 9.66 ms, total: 34.1 ms\nWall time: 1min 1s\nCPU times: user 25.3 ms, sys: 8.18 ms, total: 33.5 ms\nWall time: 1min\nCPU times: user 27 ms, sys: 6.71 ms, total: 33.7 ms\nWall time: 1min\nCPU times: user 12.3 ms, sys: 20.7 ms, total: 32.9 ms\nWall time: 59.3 s\nCPU times: user 17.8 ms, sys: 17.6 ms, total: 35.3 ms\nWall time: 1min\nCPU times: user 9.98 ms, sys: 26.7 ms, total: 36.6 ms\nWall time: 1min\nCPU times: user 15.5 ms, sys: 20.4 ms, total: 35.9 ms\nWall time: 1min 1s\nCPU times: user 25.3 ms, sys: 12.2 ms, total: 37.5 ms\nWall time: 1min 2s\nCPU times: user 24.1 ms, sys: 10.1 ms, total: 34.2 ms\nWall time: 1min 1s\nCPU times: user 36.9 ms, sys: 15.7 ms, total: 52.6 ms\nWall time: 1min 3s\nCPU times: user 24.4 ms, sys: 10.2 ms, total: 34.7 ms\nWall time: 1min 1s\nCPU times: user 23.6 ms, sys: 9.35 ms, total: 33 ms\nWall time: 1min\nCPU times: user 25.4 ms, sys: 10.4 ms, total: 35.8 ms\nWall time: 1min 1s\nCPU times: user 28.5 ms, sys: 6.28 ms, total: 34.8 ms\nWall time: 1min 1s\nCPU times: user 28.6 ms, sys: 7.03 ms, total: 35.7 ms\nWall time: 1min 1s\nCPU times: user 28.4 ms, sys: 8.79 ms, total: 37.2 ms\nWall time: 1min 1s\nCPU times: user 25.5 ms, sys: 12.3 ms, total: 37.8 ms\nWall time: 1min\nCPU times: user 20.7 ms, sys: 14.6 ms, total: 35.4 ms\nWall time: 1min 3s\n"
          ]
        }
      ],
      "source": [
        "for i in range(1,33):\n",
        " %time benchmark(arquivo)"
      ]
    },
    {
      "cell_type": "markdown",
      "metadata": {
        "application/vnd.databricks.v1+cell": {
          "cellMetadata": {
            "byteLimit": 2048000,
            "rowLimit": 10000
          },
          "inputWidgets": {},
          "nuid": "526e2ce4-c4d3-4add-87e8-088af3adfcd1",
          "showTitle": false,
          "title": ""
        },
        "id": "RdjsJ4k0gYkh"
      },
      "source": [
        "##30 segundos"
      ]
    },
    {
      "cell_type": "code",
      "execution_count": null,
      "metadata": {
        "application/vnd.databricks.v1+cell": {
          "cellMetadata": {
            "byteLimit": 2048000,
            "rowLimit": 10000
          },
          "inputWidgets": {},
          "nuid": "4c51390b-cf87-47e9-bb19-97ed7b708479",
          "showTitle": false,
          "title": ""
        },
        "id": "mnriWTAbgYkh",
        "outputId": "726c3e05-9173-4a01-aa3c-f8b03f4d3222"
      },
      "outputs": [
        {
          "output_type": "stream",
          "name": "stdout",
          "text": [
            "--2024-05-04 21:25:59--  https://biogeo.ucdavis.edu/data/worldclim/v2.1/base/wc2.1_30s_tmin.zip\r\nResolving biogeo.ucdavis.edu (biogeo.ucdavis.edu)... 128.120.228.172\r\nConnecting to biogeo.ucdavis.edu (biogeo.ucdavis.edu)|128.120.228.172|:443... connected.\r\nHTTP request sent, awaiting response... 302 Found\r\nLocation: https://data.biogeo.ucdavis.edu/data/worldclim/v2.1/base/wc2.1_30s_tmin.zip [following]\r\n--2024-05-04 21:25:59--  https://data.biogeo.ucdavis.edu/data/worldclim/v2.1/base/wc2.1_30s_tmin.zip\r\nResolving data.biogeo.ucdavis.edu (data.biogeo.ucdavis.edu)... 128.120.228.172\r\nConnecting to data.biogeo.ucdavis.edu (data.biogeo.ucdavis.edu)|128.120.228.172|:443... connected.\r\nHTTP request sent, awaiting response... 200 OK\r\nLength: 4392078461 (4.1G) [application/zip]\r\nSaving to: ‘wc2.1_30s_tmin.zip’\r\n\r\n\rwc2.1_30s_tmin.zip    0%[                    ]       0  --.-KB/s               \rwc2.1_30s_tmin.zip    0%[                    ]   2.27M  11.4MB/s               \rwc2.1_30s_tmin.zip    0%[                    ]  10.41M  26.0MB/s               \rwc2.1_30s_tmin.zip    0%[                    ]  18.20M  30.3MB/s               \rwc2.1_30s_tmin.zip    0%[                    ]  25.85M  32.3MB/s               \rwc2.1_30s_tmin.zip    0%[                    ]  33.17M  33.2MB/s               \rwc2.1_30s_tmin.zip    0%[                    ]  39.93M  33.3MB/s               \rwc2.1_30s_tmin.zip    1%[                    ]  47.98M  34.2MB/s               \rwc2.1_30s_tmin.zip    1%[                    ]  55.85M  34.9MB/s               \rwc2.1_30s_tmin.zip    1%[                    ]  63.49M  35.3MB/s               \rwc2.1_30s_tmin.zip    1%[                    ]  71.12M  35.5MB/s               \rwc2.1_30s_tmin.zip    1%[                    ]  78.84M  35.8MB/s               \rwc2.1_30s_tmin.zip    2%[                    ]  85.74M  35.7MB/s               \rwc2.1_30s_tmin.zip    2%[                    ]  93.52M  35.9MB/s               \rwc2.1_30s_tmin.zip    2%[                    ] 101.24M  36.1MB/s               \rwc2.1_30s_tmin.zip    2%[                    ] 108.63M  36.2MB/s    eta 1m 53s \rwc2.1_30s_tmin.zip    2%[                    ] 115.95M  38.0MB/s    eta 1m 53s \rwc2.1_30s_tmin.zip    2%[                    ] 122.73M  37.4MB/s    eta 1m 53s \rwc2.1_30s_tmin.zip    3%[                    ] 130.12M  37.3MB/s    eta 1m 53s \rwc2.1_30s_tmin.zip    3%[                    ] 137.32M  37.1MB/s    eta 1m 53s \rwc2.1_30s_tmin.zip    3%[                    ] 144.35M  37.1MB/s    eta 1m 52s \rwc2.1_30s_tmin.zip    3%[                    ] 151.38M  37.1MB/s    eta 1m 52s \rwc2.1_30s_tmin.zip    3%[                    ] 158.76M  36.9MB/s    eta 1m 52s \rwc2.1_30s_tmin.zip    3%[                    ] 165.76M  36.7MB/s    eta 1m 52s \rwc2.1_30s_tmin.zip    4%[                    ] 173.07M  36.6MB/s    eta 1m 52s \rwc2.1_30s_tmin.zip    4%[                    ] 179.90M  36.2MB/s    eta 1m 52s \rwc2.1_30s_tmin.zip    4%[                    ] 187.23M  36.2MB/s    eta 1m 52s \rwc2.1_30s_tmin.zip    4%[                    ] 194.48M  36.2MB/s    eta 1m 52s \rwc2.1_30s_tmin.zip    4%[                    ] 201.20M  35.9MB/s    eta 1m 52s \rwc2.1_30s_tmin.zip    4%[                    ] 208.41M  35.8MB/s    eta 1m 52s \rwc2.1_30s_tmin.zip    5%[>                   ] 215.46M  35.6MB/s    eta 1m 51s \rwc2.1_30s_tmin.zip    5%[>                   ] 222.66M  35.5MB/s    eta 1m 51s \rwc2.1_30s_tmin.zip    5%[>                   ] 230.07M  35.7MB/s    eta 1m 51s \rwc2.1_30s_tmin.zip    5%[>                   ] 236.98M  35.6MB/s    eta 1m 51s \rwc2.1_30s_tmin.zip    5%[>                   ] 244.16M  35.6MB/s    eta 1m 51s \rwc2.1_30s_tmin.zip    6%[>                   ] 251.52M  35.6MB/s    eta 1m 50s \rwc2.1_30s_tmin.zip    6%[>                   ] 258.62M  35.7MB/s    eta 1m 50s \rwc2.1_30s_tmin.zip    6%[>                   ] 265.91M  35.7MB/s    eta 1m 50s \rwc2.1_30s_tmin.zip    6%[>                   ] 273.06M  35.8MB/s    eta 1m 50s \rwc2.1_30s_tmin.zip    6%[>                   ] 280.76M  35.9MB/s    eta 1m 50s \rwc2.1_30s_tmin.zip    6%[>                   ] 288.30M  36.0MB/s    eta 1m 48s \rwc2.1_30s_tmin.zip    7%[>                   ] 295.93M  36.2MB/s    eta 1m 48s \rwc2.1_30s_tmin.zip    7%[>                   ] 303.59M  36.3MB/s    eta 1m 48s \rwc2.1_30s_tmin.zip    7%[>                   ] 310.87M  36.5MB/s    eta 1m 48s \rwc2.1_30s_tmin.zip    7%[>                   ] 318.38M  36.6MB/s    eta 1m 48s \rwc2.1_30s_tmin.zip    7%[>                   ] 325.34M  36.5MB/s    eta 1m 47s \rwc2.1_30s_tmin.zip    7%[>                   ] 332.41M  36.5MB/s    eta 1m 47s \rwc2.1_30s_tmin.zip    8%[>                   ] 340.02M  36.5MB/s    eta 1m 47s \rwc2.1_30s_tmin.zip    8%[>                   ] 347.93M  36.8MB/s    eta 1m 47s \rwc2.1_30s_tmin.zip    8%[>                   ] 355.23M  36.9MB/s    eta 1m 47s \rwc2.1_30s_tmin.zip    8%[>                   ] 362.54M  36.8MB/s    eta 1m 46s \rwc2.1_30s_tmin.zip    8%[>                   ] 369.32M  36.7MB/s    eta 1m 46s \rwc2.1_30s_tmin.zip    8%[>                   ] 376.65M  36.8MB/s    eta 1m 46s \rwc2.1_30s_tmin.zip    9%[>                   ] 384.18M  36.8MB/s    eta 1m 46s \rwc2.1_30s_tmin.zip    9%[>                   ] 391.85M  36.9MB/s    eta 1m 46s \rwc2.1_30s_tmin.zip    9%[>                   ] 399.07M  36.8MB/s    eta 1m 45s \rwc2.1_30s_tmin.zip    9%[>                   ] 406.29M  36.7MB/s    eta 1m 45s \rwc2.1_30s_tmin.zip    9%[>                   ] 413.80M  36.7MB/s    eta 1m 45s \rwc2.1_30s_tmin.zip   10%[=>                  ] 420.80M  36.5MB/s    eta 1m 45s \rwc2.1_30s_tmin.zip   10%[=>                  ] 428.02M  36.3MB/s    eta 1m 45s \rwc2.1_30s_tmin.zip   10%[=>                  ] 435.62M  36.4MB/s    eta 1m 44s \rwc2.1_30s_tmin.zip   10%[=>                  ] 442.77M  36.4MB/s    eta 1m 44s \rwc2.1_30s_tmin.zip   10%[=>                  ] 450.48M  36.6MB/s    eta 1m 44s \rwc2.1_30s_tmin.zip   10%[=>                  ] 458.07M  36.6MB/s    eta 1m 44s \rwc2.1_30s_tmin.zip   11%[=>                  ] 465.73M  36.7MB/s    eta 1m 44s \rwc2.1_30s_tmin.zip   11%[=>                  ] 472.87M  36.7MB/s    eta 1m 42s \rwc2.1_30s_tmin.zip   11%[=>                  ] 480.51M  36.8MB/s    eta 1m 42s \rwc2.1_30s_tmin.zip   11%[=>                  ] 488.16M  37.1MB/s    eta 1m 42s \rwc2.1_30s_tmin.zip   11%[=>                  ] 495.48M  37.0MB/s    eta 1m 42s \rwc2.1_30s_tmin.zip   12%[=>                  ] 502.99M  37.0MB/s    eta 1m 42s \rwc2.1_30s_tmin.zip   12%[=>                  ] 510.13M  36.9MB/s    eta 1m 41s \rwc2.1_30s_tmin.zip   12%[=>                  ] 517.88M  37.1MB/s    eta 1m 41s \rwc2.1_30s_tmin.zip   12%[=>                  ] 525.90M  37.2MB/s    eta 1m 41s \rwc2.1_30s_tmin.zip   12%[=>                  ] 533.84M  37.5MB/s    eta 1m 41s \rwc2.1_30s_tmin.zip   12%[=>                  ] 541.49M  37.6MB/s    eta 1m 41s \rwc2.1_30s_tmin.zip   13%[=>                  ] 549.37M  37.9MB/s    eta 1m 40s \rwc2.1_30s_tmin.zip   13%[=>                  ] 556.93M  38.0MB/s    eta 1m 40s \rwc2.1_30s_tmin.zip   13%[=>                  ] 564.70M  38.1MB/s    eta 1m 40s \rwc2.1_30s_tmin.zip   13%[=>                  ] 572.48M  38.1MB/s    eta 1m 40s \rwc2.1_30s_tmin.zip   13%[=>                  ] 580.13M  38.1MB/s    eta 1m 40s \rwc2.1_30s_tmin.zip   14%[=>                  ] 588.37M  38.4MB/s    eta 98s    \rwc2.1_30s_tmin.zip   14%[=>                  ] 596.07M  38.5MB/s    eta 98s    \rwc2.1_30s_tmin.zip   14%[=>                  ] 604.20M  38.7MB/s    eta 98s    \rwc2.1_30s_tmin.zip   14%[=>                  ] 612.41M  38.9MB/s    eta 98s    \rwc2.1_30s_tmin.zip   14%[=>                  ] 620.37M  39.0MB/s    eta 98s    \rwc2.1_30s_tmin.zip   15%[==>                 ] 628.59M  39.4MB/s    eta 96s    \rwc2.1_30s_tmin.zip   15%[==>                 ] 636.34M  39.4MB/s    eta 96s    "
          ]
        }
      ],
      "source": [
        "!wget https://biogeo.ucdavis.edu/data/worldclim/v2.1/base/wc2.1_30s_tmin.zip\n",
        "!unzip -o wc2.1_30s_tmin.zip"
      ]
    },
    {
      "cell_type": "code",
      "execution_count": null,
      "metadata": {
        "application/vnd.databricks.v1+cell": {
          "cellMetadata": {
            "byteLimit": 2048000,
            "rowLimit": 10000
          },
          "inputWidgets": {},
          "nuid": "41caf4b1-e284-49a6-8fa2-d88864ba6955",
          "showTitle": false,
          "title": ""
        },
        "id": "BwtpMkBTgYkx",
        "outputId": "cd720e00-41a2-42ba-b9c3-6a4be6d3c352"
      },
      "outputs": [
        {
          "output_type": "stream",
          "name": "stdout",
          "text": [
            "[2024-05-03 05:31:34 - INFO] - Getting geotransform and data...\r\n[2024-05-03 05:31:39 - INFO] - Getting XYZ data...\r\n"
          ]
        },
        {
          "output_type": "display_data",
          "data": {
            "text/html": [
              "<style scoped>\n",
              "  .ansiout {\n",
              "    display: block;\n",
              "    unicode-bidi: embed;\n",
              "    white-space: pre-wrap;\n",
              "    word-wrap: break-word;\n",
              "    word-break: break-all;\n",
              "    font-family: \"Menlo\", \"Monaco\", \"Consolas\", \"Ubuntu Mono\", \"Source Code Pro\", monospace;\n",
              "    font-size: 13px;\n",
              "    color: #555;\n",
              "    margin-left: 4px;\n",
              "    line-height: 19px;\n",
              "  }\n",
              "</style>"
            ]
          },
          "metadata": {
            "application/vnd.databricks.v1+output": {
              "arguments": {},
              "data": "",
              "errorSummary": "",
              "errorTraceType": null,
              "metadata": {},
              "type": "ipynbError"
            }
          }
        }
      ],
      "source": [
        "#arquivo mt grande raster não conseguiu rodar\n",
        "!raster2xyz wc2.1_30s_prec_01.tif wc2.1_30s_prec_01.csv"
      ]
    }
  ],
  "metadata": {
    "application/vnd.databricks.v1+notebook": {
      "dashboards": [],
      "language": "python",
      "notebookMetadata": {
        "mostRecentlyExecutedCommandWithImplicitDF": {
          "commandId": 481826010821585,
          "dataframes": [
            "_sqldf"
          ]
        },
        "pythonIndentUnit": 4
      },
      "notebookName": "worldclim_databricks_min",
      "widgets": {}
    },
    "colab": {
      "provenance": []
    }
  },
  "nbformat": 4,
  "nbformat_minor": 0
}